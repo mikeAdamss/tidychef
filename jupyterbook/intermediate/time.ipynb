{
 "cells": [
  {
   "attachments": {},
   "cell_type": "markdown",
   "metadata": {},
   "source": [
    "# Time\n",
    "\n",
    "One of the challenges of working with spreadsheet data is that spreadsheets have specific handling of time that doesn't always translate well when parsed into python.\n",
    "\n",
    "In all cases tidychef will seek to format the time type cells via the exact same human readable format said cells would appear as when viewed via excel.\n",
    "\n",
    "The process is as follows:\n",
    "\n",
    "- When an excel cell is read that has an _excel type_ of time.\n",
    "- tidychef will check the excel information for _how that time type is formatted for presentation_.\n",
    "- tidychef will apply that formatting so the value in tidychef **matches that you'd expect from viewing the original source**.\n",
    "- if _custom_ or unknown time formatting is applied, tidychef will fall back on the raw cell value and will show a warning.\n",
    "\n",
    "An example of this behaviour and how you can handle these scenarios is detailed below."
   ]
  },
  {
   "cell_type": "code",
   "execution_count": 4,
   "metadata": {},
   "outputs": [
    {
     "name": "stderr",
     "output_type": "stream",
     "text": [
      "WARNING:root:When processing table \"Contents\" an unknown excel time format \"[$-F800]dddd\\,\\ mmmm\\ dd\\,\\ yyyy\" was encountered. Using raw cell value instead. \n",
      "For more details on handling excel time formatting see tidychef documentation. Cell(s) in question (max 5 shown): x:2, y:13\n"
     ]
    }
   ],
   "source": [
    "from typing import List\n",
    "\n",
    "from tidychef import acquire, preview\n",
    "from tidychef.selection import XlsSelectable\n",
    "\n",
    "tables: List[XlsSelectable] = acquire.xls.http(\"https://raw.githubusercontent.com/mikeAdamss/tidychef/main/tests/fixtures/xls/house-prices.xls\")"
   ]
  },
  {
   "attachments": {},
   "cell_type": "markdown",
   "metadata": {},
   "source": [
    "Now lets have a look at the cell in question"
   ]
  },
  {
   "cell_type": "code",
   "execution_count": 5,
   "metadata": {},
   "outputs": [
    {
     "name": "stderr",
     "output_type": "stream",
     "text": [
      "WARNING:root:When processing table \"Contents\" an unknown excel time format \"[$-F800]dddd\\,\\ mmmm\\ dd\\,\\ yyyy\" was encountered. Using raw cell value instead. \n",
      "For more details on handling excel time formatting see tidychef documentation. Cell(s) in question (max 5 shown): x:2, y:13\n"
     ]
    },
    {
     "data": {
      "text/html": [
       "\n",
       "    <html>\n",
       "        \n",
       "    <style>\n",
       "    table, th, td {\n",
       "        border: 1px solid;\n",
       "    }\n",
       "\n",
       "    table {\n",
       "        border-collapse: collapse;\n",
       "    }\n",
       "\n",
       "    td {\n",
       "        align: center;\n",
       "        border: 1px  black solid !important;\n",
       "        color: black !important;\n",
       "    }\n",
       "\n",
       "    th, td {\n",
       "        padding: 5px;\n",
       "    }\n",
       "\n",
       "    </style>\n",
       "    \n",
       "            <table>\n",
       "                \n",
       "            <tr>\n",
       "                <td style=\"background-color:cyan\">Unnamed Selection: 0</td>\n",
       "            <tr>\n",
       "        \n",
       "            </table>\n",
       "\n",
       "            <body>\n",
       "                <h2>Contents</h2>\n",
       "                <table>\n",
       "                    <tr><td style=\"background-color:#999999\">x/y</td><td style=\"background-color:#999999\"></td><td style=\"background-color:#999999\">0</td><td style=\"background-color:#999999\">1</td><td style=\"background-color:#999999\">2</td><td style=\"background-color:#999999\">3</td><td style=\"background-color:#999999\">4</td><td style=\"background-color:#999999\">5</td><td style=\"background-color:#999999\">6</td><td style=\"background-color:#999999\">7</td><td style=\"background-color:#999999\">8</td><td style=\"background-color:#999999\">9</td><td style=\"background-color:#999999\">10</td><td style=\"background-color:#999999\">11</td><td style=\"background-color:#999999\">12</td><td style=\"background-color:#999999\">13</td><td style=\"background-color:#999999\">14</td><td style=\"background-color:#999999\">15</td></tr>\n",
       "<tr><td style=\"background-color:#999999\"></td><td style=\"background-color:lightgrey\"></td><td style=\"background-color:lightgrey\">A</td><td style=\"background-color:lightgrey\">B</td><td style=\"background-color:lightgrey\">C</td><td style=\"background-color:lightgrey\">D</td><td style=\"background-color:lightgrey\">E</td><td style=\"background-color:lightgrey\">F</td><td style=\"background-color:lightgrey\">G</td><td style=\"background-color:lightgrey\">H</td><td style=\"background-color:lightgrey\">I</td><td style=\"background-color:lightgrey\">J</td><td style=\"background-color:lightgrey\">K</td><td style=\"background-color:lightgrey\">L</td><td style=\"background-color:lightgrey\">M</td><td style=\"background-color:lightgrey\">N</td><td style=\"background-color:lightgrey\">O</td><td style=\"background-color:lightgrey\">P</td></tr>\n",
       "<tr><td style=\"background-color:#999999\">0</td><td style=\"background-color:lightgrey\">1</td><td style=\"background-color:white\"></td><td style=\"background-color:white\"></td><td style=\"background-color:white\"></td><td style=\"background-color:white\"></td><td style=\"background-color:white\"></td><td style=\"background-color:white\"></td><td style=\"background-color:white\"></td><td style=\"background-color:white\"></td><td style=\"background-color:white\"></td><td style=\"background-color:white\"></td><td style=\"background-color:white\"></td><td style=\"background-color:white\"></td><td style=\"background-color:white\"></td><td style=\"background-color:white\"></td><td style=\"background-color:white\"></td><td style=\"background-color:white\"></td></tr>\n",
       "<tr><td style=\"background-color:#999999\">1</td><td style=\"background-color:lightgrey\">2</td><td style=\"background-color:white\"></td><td style=\"background-color:white\">House Price Index </td><td style=\"background-color:white\"></td><td style=\"background-color:white\"></td><td style=\"background-color:white\"></td><td style=\"background-color:white\"></td><td style=\"background-color:white\"></td><td style=\"background-color:white\"></td><td style=\"background-color:white\"></td><td style=\"background-color:white\"></td><td style=\"background-color:white\"></td><td style=\"background-color:white\"></td><td style=\"background-color:white\"></td><td style=\"background-color:white\"></td><td style=\"background-color:white\"></td><td style=\"background-color:white\"></td></tr>\n",
       "<tr><td style=\"background-color:#999999\">2</td><td style=\"background-color:lightgrey\">3</td><td style=\"background-color:white\"></td><td style=\"background-color:white\">Publication Date: </td><td style=\"background-color:white\">24 May 2023</td><td style=\"background-color:white\"></td><td style=\"background-color:white\"></td><td style=\"background-color:white\"></td><td style=\"background-color:white\"></td><td style=\"background-color:white\"></td><td style=\"background-color:white\"></td><td style=\"background-color:white\"></td><td style=\"background-color:white\"></td><td style=\"background-color:white\"></td><td style=\"background-color:white\"></td><td style=\"background-color:white\"></td><td style=\"background-color:white\"></td><td style=\"background-color:white\"></td></tr>\n",
       "<tr><td style=\"background-color:#999999\">3</td><td style=\"background-color:lightgrey\">4</td><td style=\"background-color:white\"></td><td style=\"background-color:white\">To access data tables, select the table headings or tabs. </td><td style=\"background-color:white\"></td><td style=\"background-color:white\"></td><td style=\"background-color:white\"></td><td style=\"background-color:white\"></td><td style=\"background-color:white\"></td><td style=\"background-color:white\"></td><td style=\"background-color:white\"></td><td style=\"background-color:white\"></td><td style=\"background-color:white\"></td><td style=\"background-color:white\"></td><td style=\"background-color:white\"></td><td style=\"background-color:white\"></td><td style=\"background-color:white\"></td><td style=\"background-color:white\"></td></tr>\n",
       "<tr><td style=\"background-color:#999999\">4</td><td style=\"background-color:lightgrey\">5</td><td style=\"background-color:white\"></td><td style=\"background-color:white\">To return to contents click \"Back to contents\" link at the top of each page.</td><td style=\"background-color:white\"></td><td style=\"background-color:white\"></td><td style=\"background-color:white\"></td><td style=\"background-color:white\"></td><td style=\"background-color:white\"></td><td style=\"background-color:white\"></td><td style=\"background-color:white\"></td><td style=\"background-color:white\"></td><td style=\"background-color:white\"></td><td style=\"background-color:white\"></td><td style=\"background-color:white\"></td><td style=\"background-color:white\"></td><td style=\"background-color:white\"></td><td style=\"background-color:white\"></td></tr>\n",
       "<tr><td style=\"background-color:#999999\">5</td><td style=\"background-color:lightgrey\">6</td><td style=\"background-color:white\"></td><td style=\"background-color:white\"></td><td style=\"background-color:white\"></td><td style=\"background-color:white\"></td><td style=\"background-color:white\"></td><td style=\"background-color:white\"></td><td style=\"background-color:white\"></td><td style=\"background-color:white\"></td><td style=\"background-color:white\"></td><td style=\"background-color:white\"></td><td style=\"background-color:white\"></td><td style=\"background-color:white\"></td><td style=\"background-color:white\"></td><td style=\"background-color:white\"></td><td style=\"background-color:white\"></td><td style=\"background-color:white\"></td></tr>\n",
       "<tr><td style=\"background-color:#999999\">6</td><td style=\"background-color:lightgrey\">7</td><td style=\"background-color:white\"></td><td style=\"background-color:white\">The previous ONS HPI has now been replaced by the UKHPI for which the main publication can be found;</td><td style=\"background-color:white\"></td><td style=\"background-color:white\"></td><td style=\"background-color:white\"></td><td style=\"background-color:white\"></td><td style=\"background-color:white\"></td><td style=\"background-color:white\"></td><td style=\"background-color:white\"></td><td style=\"background-color:white\"></td><td style=\"background-color:white\"></td><td style=\"background-color:white\"></td><td style=\"background-color:white\"></td><td style=\"background-color:white\"></td><td style=\"background-color:white\"></td><td style=\"background-color:white\"></td></tr>\n",
       "<tr><td style=\"background-color:#999999\">7</td><td style=\"background-color:lightgrey\">8</td><td style=\"background-color:white\"></td><td style=\"background-color:white\">https://www.gov.uk/government/collections/uk-house-price-index-reports </td><td style=\"background-color:white\"></td><td style=\"background-color:white\"></td><td style=\"background-color:white\"></td><td style=\"background-color:white\"></td><td style=\"background-color:white\"></td><td style=\"background-color:white\"></td><td style=\"background-color:white\"></td><td style=\"background-color:white\"></td><td style=\"background-color:white\"></td><td style=\"background-color:white\"></td><td style=\"background-color:white\"></td><td style=\"background-color:white\"></td><td style=\"background-color:white\"></td><td style=\"background-color:white\"></td></tr>\n",
       "<tr><td style=\"background-color:#999999\">8</td><td style=\"background-color:lightgrey\">9</td><td style=\"background-color:white\"></td><td style=\"background-color:white\"></td><td style=\"background-color:white\"></td><td style=\"background-color:white\"></td><td style=\"background-color:white\"></td><td style=\"background-color:white\"></td><td style=\"background-color:white\"></td><td style=\"background-color:white\"></td><td style=\"background-color:white\"></td><td style=\"background-color:white\"></td><td style=\"background-color:white\"></td><td style=\"background-color:white\"></td><td style=\"background-color:white\"></td><td style=\"background-color:white\"></td><td style=\"background-color:white\"></td><td style=\"background-color:white\"></td></tr>\n",
       "<tr><td style=\"background-color:#999999\">9</td><td style=\"background-color:lightgrey\">10</td><td style=\"background-color:white\"></td><td style=\"background-color:white\">Cover sheet</td><td style=\"background-color:white\"></td><td style=\"background-color:white\"></td><td style=\"background-color:white\"></td><td style=\"background-color:white\"></td><td style=\"background-color:white\"></td><td style=\"background-color:white\"></td><td style=\"background-color:white\"></td><td style=\"background-color:white\"></td><td style=\"background-color:white\"></td><td style=\"background-color:white\"></td><td style=\"background-color:white\"></td><td style=\"background-color:white\"></td><td style=\"background-color:white\"></td><td style=\"background-color:white\"></td></tr>\n",
       "<tr><td style=\"background-color:#999999\">10</td><td style=\"background-color:lightgrey\">11</td><td style=\"background-color:white\"></td><td style=\"background-color:white\">Notes</td><td style=\"background-color:white\"></td><td style=\"background-color:white\"></td><td style=\"background-color:white\"></td><td style=\"background-color:white\"></td><td style=\"background-color:white\"></td><td style=\"background-color:white\"></td><td style=\"background-color:white\"></td><td style=\"background-color:white\"></td><td style=\"background-color:white\"></td><td style=\"background-color:white\"></td><td style=\"background-color:white\"></td><td style=\"background-color:white\"></td><td style=\"background-color:white\"></td><td style=\"background-color:white\"></td></tr>\n",
       "<tr><td style=\"background-color:#999999\">11</td><td style=\"background-color:lightgrey\">12</td><td style=\"background-color:white\"></td><td style=\"background-color:white\"></td><td style=\"background-color:white\"></td><td style=\"background-color:white\"></td><td style=\"background-color:white\"></td><td style=\"background-color:white\"></td><td style=\"background-color:white\"></td><td style=\"background-color:white\"></td><td style=\"background-color:white\"></td><td style=\"background-color:white\"></td><td style=\"background-color:white\"></td><td style=\"background-color:white\"></td><td style=\"background-color:white\"></td><td style=\"background-color:white\"></td><td style=\"background-color:white\"></td><td style=\"background-color:white\"></td></tr>\n",
       "<tr><td style=\"background-color:#999999\">12</td><td style=\"background-color:lightgrey\">13</td><td style=\"background-color:white\"></td><td style=\"background-color:white\">Next Scheduled Up-date</td><td style=\"background-color:white\"></td><td style=\"background-color:white\"></td><td style=\"background-color:white\"></td><td style=\"background-color:white\"></td><td style=\"background-color:white\"></td><td style=\"background-color:white\"></td><td style=\"background-color:white\"></td><td style=\"background-color:white\"></td><td style=\"background-color:white\"></td><td style=\"background-color:white\"></td><td style=\"background-color:white\"></td><td style=\"background-color:white\"></td><td style=\"background-color:white\"></td><td style=\"background-color:white\"></td></tr>\n",
       "<tr><td style=\"background-color:#999999\">13</td><td style=\"background-color:lightgrey\">14</td><td style=\"background-color:white\"></td><td style=\"background-color:white\">Quarterly</td><td style=\"background-color:cyan\">45154.0</td><td style=\"background-color:white\"></td><td style=\"background-color:white\"></td><td style=\"background-color:white\"></td><td style=\"background-color:white\"></td><td style=\"background-color:white\"></td><td style=\"background-color:white\"></td><td style=\"background-color:white\"></td><td style=\"background-color:white\"></td><td style=\"background-color:white\"></td><td style=\"background-color:white\"></td><td style=\"background-color:white\"></td><td style=\"background-color:white\"></td><td style=\"background-color:white\"></td></tr>\n",
       "<tr><td style=\"background-color:#999999\">14</td><td style=\"background-color:lightgrey\">15</td><td style=\"background-color:white\"></td><td style=\"background-color:white\"></td><td style=\"background-color:white\"></td><td style=\"background-color:white\"></td><td style=\"background-color:white\"></td><td style=\"background-color:white\"></td><td style=\"background-color:white\"></td><td style=\"background-color:white\"></td><td style=\"background-color:white\"></td><td style=\"background-color:white\"></td><td style=\"background-color:white\"></td><td style=\"background-color:white\"></td><td style=\"background-color:white\"></td><td style=\"background-color:white\"></td><td style=\"background-color:white\"></td><td style=\"background-color:white\"></td></tr>\n",
       "<tr><td style=\"background-color:#999999\">15</td><td style=\"background-color:lightgrey\">16</td><td style=\"background-color:white\"></td><td style=\"background-color:white\">Dataset</td><td style=\"background-color:white\">Frequency</td><td style=\"background-color:white\">House Price Indices - description</td><td style=\"background-color:white\">Previously found in DCLG</td><td style=\"background-color:white\"></td><td style=\"background-color:white\"></td><td style=\"background-color:white\"></td><td style=\"background-color:white\"></td><td style=\"background-color:white\"></td><td style=\"background-color:white\"></td><td style=\"background-color:white\"></td><td style=\"background-color:white\"></td><td style=\"background-color:white\"></td><td style=\"background-color:white\"></td><td style=\"background-color:white\"></td></tr>\n",
       "<tr><td style=\"background-color:#999999\">16</td><td style=\"background-color:lightgrey\">17</td><td style=\"background-color:white\"></td><td style=\"background-color:white\">Table 11</td><td style=\"background-color:white\">Quarterly</td><td style=\"background-color:white\">Simple average house prices, by new/other dwellings, type of buyer and region, United Kingdom, from 1992</td><td style=\"background-color:white\">Live Table 504</td><td style=\"background-color:white\"></td><td style=\"background-color:white\"></td><td style=\"background-color:white\"></td><td style=\"background-color:white\"></td><td style=\"background-color:white\"></td><td style=\"background-color:white\"></td><td style=\"background-color:white\"></td><td style=\"background-color:white\"></td><td style=\"background-color:white\"></td><td style=\"background-color:white\"></td><td style=\"background-color:white\"></td></tr>\n",
       "<tr><td style=\"background-color:#999999\">17</td><td style=\"background-color:lightgrey\">18</td><td style=\"background-color:white\"></td><td style=\"background-color:white\">Table 15</td><td style=\"background-color:white\">Quarterly</td><td style=\"background-color:white\">Simple average house prices, mortgage advances and incomes of borrowers, by new/other dwellings, type of buyer and region, United Kingdom, from 1992</td><td style=\"background-color:white\">Live Table 514</td><td style=\"background-color:white\"></td><td style=\"background-color:white\"></td><td style=\"background-color:white\"></td><td style=\"background-color:white\"></td><td style=\"background-color:white\"></td><td style=\"background-color:white\"></td><td style=\"background-color:white\"></td><td style=\"background-color:white\"></td><td style=\"background-color:white\"></td><td style=\"background-color:white\"></td><td style=\"background-color:white\"></td></tr>\n",
       "<tr><td style=\"background-color:#999999\">18</td><td style=\"background-color:lightgrey\">19</td><td style=\"background-color:white\"></td><td style=\"background-color:white\"></td><td style=\"background-color:white\"></td><td style=\"background-color:white\"></td><td style=\"background-color:white\"></td><td style=\"background-color:white\"></td><td style=\"background-color:white\"></td><td style=\"background-color:white\"></td><td style=\"background-color:white\"></td><td style=\"background-color:white\"></td><td style=\"background-color:white\"></td><td style=\"background-color:white\"></td><td style=\"background-color:white\"></td><td style=\"background-color:white\"></td><td style=\"background-color:white\"></td><td style=\"background-color:white\"></td></tr>\n",
       "<tr><td style=\"background-color:#999999\">19</td><td style=\"background-color:lightgrey\">20</td><td style=\"background-color:white\"></td><td style=\"background-color:white\">The data published in these tables are based on a sub-sample of RMS data. These results will therefore differ from results produced using full sample data.  For further information please contact the ONS using the contact details on the previous page.</td><td style=\"background-color:white\"></td><td style=\"background-color:white\"></td><td style=\"background-color:white\"></td><td style=\"background-color:white\"></td><td style=\"background-color:white\"></td><td style=\"background-color:white\"></td><td style=\"background-color:white\"></td><td style=\"background-color:white\"></td><td style=\"background-color:white\"></td><td style=\"background-color:white\"></td><td style=\"background-color:white\"></td><td style=\"background-color:white\"></td><td style=\"background-color:white\"></td><td style=\"background-color:white\"></td></tr>\n",
       "\n",
       "                </table>\n",
       "            </body>\n",
       "            <br>\n",
       "        </html>\n",
       "    "
      ],
      "text/plain": [
       "<IPython.core.display.HTML object>"
      ]
     },
     "metadata": {},
     "output_type": "display_data"
    }
   ],
   "source": [
    "table: XlsSelectable = acquire.xls.http(\"https://raw.githubusercontent.com/mikeAdamss/tidychef/main/tests/fixtures/xls/house-prices.xls\",\n",
    "                                               tables=\"Contents\")\n",
    "suspect_cell = table.excel_ref(\"C14\")\n",
    "preview(suspect_cell, show_xy=True)"
   ]
  },
  {
   "attachments": {},
   "cell_type": "markdown",
   "metadata": {},
   "source": [
    "You'll notice it just contains a number, that's a python [datetime](https://docs.python.org/3/library/datetime.html) object representing the specific moment in time in a way that python understands.\n",
    "\n",
    "In this instance someone has created quite a complex custom time formatting string of `[$-F800]dddd\\,\\ mmmm\\ dd\\,\\ yyyy` to represent the value (as expressed in the original file) as:\n",
    "\n",
    "```\n",
    "Wednesday, August 16th, 2023\n",
    "````\n",
    "\n",
    "So how do we specify the time formatting to use for these kinds of custom and complex time formats?"
   ]
  },
  {
   "attachments": {},
   "cell_type": "markdown",
   "metadata": {},
   "source": [
    "## Specifying time formatting\n",
    "\n"
   ]
  },
  {
   "attachments": {},
   "cell_type": "markdown",
   "metadata": {},
   "source": [
    "Tidychef allows you to map excel formats to the standard patterns supported by the python [datatime.strftime()](https://www.programiz.com/python-programming/datetime/strftime) method.\n",
    "\n",
    "This is done by passing an appropriate dictionary into acquire with the keyword argument `custom_time_formats=` to map excel time formats to a `strftime()` pattern.\n",
    "\n",
    "In this instance we'll provide the `stftime()` format string for the excel pattern in question.\n",
    "\n",
    "Example follows:"
   ]
  },
  {
   "cell_type": "code",
   "execution_count": 6,
   "metadata": {},
   "outputs": [
    {
     "data": {
      "text/html": [
       "\n",
       "    <html>\n",
       "        \n",
       "    <style>\n",
       "    table, th, td {\n",
       "        border: 1px solid;\n",
       "    }\n",
       "\n",
       "    table {\n",
       "        border-collapse: collapse;\n",
       "    }\n",
       "\n",
       "    td {\n",
       "        align: center;\n",
       "        border: 1px  black solid !important;\n",
       "        color: black !important;\n",
       "    }\n",
       "\n",
       "    th, td {\n",
       "        padding: 5px;\n",
       "    }\n",
       "\n",
       "    </style>\n",
       "    \n",
       "            <table>\n",
       "                \n",
       "            <tr>\n",
       "                <td style=\"background-color:cyan\">Unnamed Selection: 0</td>\n",
       "            <tr>\n",
       "        \n",
       "            </table>\n",
       "\n",
       "            <body>\n",
       "                <h2>Contents</h2>\n",
       "                <table>\n",
       "                    <tr><td style=\"background-color:#999999\">x/y</td><td style=\"background-color:#999999\"></td><td style=\"background-color:#999999\">0</td><td style=\"background-color:#999999\">1</td><td style=\"background-color:#999999\">2</td><td style=\"background-color:#999999\">3</td><td style=\"background-color:#999999\">4</td><td style=\"background-color:#999999\">5</td><td style=\"background-color:#999999\">6</td><td style=\"background-color:#999999\">7</td><td style=\"background-color:#999999\">8</td><td style=\"background-color:#999999\">9</td><td style=\"background-color:#999999\">10</td><td style=\"background-color:#999999\">11</td><td style=\"background-color:#999999\">12</td><td style=\"background-color:#999999\">13</td><td style=\"background-color:#999999\">14</td><td style=\"background-color:#999999\">15</td></tr>\n",
       "<tr><td style=\"background-color:#999999\"></td><td style=\"background-color:lightgrey\"></td><td style=\"background-color:lightgrey\">A</td><td style=\"background-color:lightgrey\">B</td><td style=\"background-color:lightgrey\">C</td><td style=\"background-color:lightgrey\">D</td><td style=\"background-color:lightgrey\">E</td><td style=\"background-color:lightgrey\">F</td><td style=\"background-color:lightgrey\">G</td><td style=\"background-color:lightgrey\">H</td><td style=\"background-color:lightgrey\">I</td><td style=\"background-color:lightgrey\">J</td><td style=\"background-color:lightgrey\">K</td><td style=\"background-color:lightgrey\">L</td><td style=\"background-color:lightgrey\">M</td><td style=\"background-color:lightgrey\">N</td><td style=\"background-color:lightgrey\">O</td><td style=\"background-color:lightgrey\">P</td></tr>\n",
       "<tr><td style=\"background-color:#999999\">0</td><td style=\"background-color:lightgrey\">1</td><td style=\"background-color:white\"></td><td style=\"background-color:white\"></td><td style=\"background-color:white\"></td><td style=\"background-color:white\"></td><td style=\"background-color:white\"></td><td style=\"background-color:white\"></td><td style=\"background-color:white\"></td><td style=\"background-color:white\"></td><td style=\"background-color:white\"></td><td style=\"background-color:white\"></td><td style=\"background-color:white\"></td><td style=\"background-color:white\"></td><td style=\"background-color:white\"></td><td style=\"background-color:white\"></td><td style=\"background-color:white\"></td><td style=\"background-color:white\"></td></tr>\n",
       "<tr><td style=\"background-color:#999999\">1</td><td style=\"background-color:lightgrey\">2</td><td style=\"background-color:white\"></td><td style=\"background-color:white\">House Price Index </td><td style=\"background-color:white\"></td><td style=\"background-color:white\"></td><td style=\"background-color:white\"></td><td style=\"background-color:white\"></td><td style=\"background-color:white\"></td><td style=\"background-color:white\"></td><td style=\"background-color:white\"></td><td style=\"background-color:white\"></td><td style=\"background-color:white\"></td><td style=\"background-color:white\"></td><td style=\"background-color:white\"></td><td style=\"background-color:white\"></td><td style=\"background-color:white\"></td><td style=\"background-color:white\"></td></tr>\n",
       "<tr><td style=\"background-color:#999999\">2</td><td style=\"background-color:lightgrey\">3</td><td style=\"background-color:white\"></td><td style=\"background-color:white\">Publication Date: </td><td style=\"background-color:white\">24 May 2023</td><td style=\"background-color:white\"></td><td style=\"background-color:white\"></td><td style=\"background-color:white\"></td><td style=\"background-color:white\"></td><td style=\"background-color:white\"></td><td style=\"background-color:white\"></td><td style=\"background-color:white\"></td><td style=\"background-color:white\"></td><td style=\"background-color:white\"></td><td style=\"background-color:white\"></td><td style=\"background-color:white\"></td><td style=\"background-color:white\"></td><td style=\"background-color:white\"></td></tr>\n",
       "<tr><td style=\"background-color:#999999\">3</td><td style=\"background-color:lightgrey\">4</td><td style=\"background-color:white\"></td><td style=\"background-color:white\">To access data tables, select the table headings or tabs. </td><td style=\"background-color:white\"></td><td style=\"background-color:white\"></td><td style=\"background-color:white\"></td><td style=\"background-color:white\"></td><td style=\"background-color:white\"></td><td style=\"background-color:white\"></td><td style=\"background-color:white\"></td><td style=\"background-color:white\"></td><td style=\"background-color:white\"></td><td style=\"background-color:white\"></td><td style=\"background-color:white\"></td><td style=\"background-color:white\"></td><td style=\"background-color:white\"></td><td style=\"background-color:white\"></td></tr>\n",
       "<tr><td style=\"background-color:#999999\">4</td><td style=\"background-color:lightgrey\">5</td><td style=\"background-color:white\"></td><td style=\"background-color:white\">To return to contents click \"Back to contents\" link at the top of each page.</td><td style=\"background-color:white\"></td><td style=\"background-color:white\"></td><td style=\"background-color:white\"></td><td style=\"background-color:white\"></td><td style=\"background-color:white\"></td><td style=\"background-color:white\"></td><td style=\"background-color:white\"></td><td style=\"background-color:white\"></td><td style=\"background-color:white\"></td><td style=\"background-color:white\"></td><td style=\"background-color:white\"></td><td style=\"background-color:white\"></td><td style=\"background-color:white\"></td><td style=\"background-color:white\"></td></tr>\n",
       "<tr><td style=\"background-color:#999999\">5</td><td style=\"background-color:lightgrey\">6</td><td style=\"background-color:white\"></td><td style=\"background-color:white\"></td><td style=\"background-color:white\"></td><td style=\"background-color:white\"></td><td style=\"background-color:white\"></td><td style=\"background-color:white\"></td><td style=\"background-color:white\"></td><td style=\"background-color:white\"></td><td style=\"background-color:white\"></td><td style=\"background-color:white\"></td><td style=\"background-color:white\"></td><td style=\"background-color:white\"></td><td style=\"background-color:white\"></td><td style=\"background-color:white\"></td><td style=\"background-color:white\"></td><td style=\"background-color:white\"></td></tr>\n",
       "<tr><td style=\"background-color:#999999\">6</td><td style=\"background-color:lightgrey\">7</td><td style=\"background-color:white\"></td><td style=\"background-color:white\">The previous ONS HPI has now been replaced by the UKHPI for which the main publication can be found;</td><td style=\"background-color:white\"></td><td style=\"background-color:white\"></td><td style=\"background-color:white\"></td><td style=\"background-color:white\"></td><td style=\"background-color:white\"></td><td style=\"background-color:white\"></td><td style=\"background-color:white\"></td><td style=\"background-color:white\"></td><td style=\"background-color:white\"></td><td style=\"background-color:white\"></td><td style=\"background-color:white\"></td><td style=\"background-color:white\"></td><td style=\"background-color:white\"></td><td style=\"background-color:white\"></td></tr>\n",
       "<tr><td style=\"background-color:#999999\">7</td><td style=\"background-color:lightgrey\">8</td><td style=\"background-color:white\"></td><td style=\"background-color:white\">https://www.gov.uk/government/collections/uk-house-price-index-reports </td><td style=\"background-color:white\"></td><td style=\"background-color:white\"></td><td style=\"background-color:white\"></td><td style=\"background-color:white\"></td><td style=\"background-color:white\"></td><td style=\"background-color:white\"></td><td style=\"background-color:white\"></td><td style=\"background-color:white\"></td><td style=\"background-color:white\"></td><td style=\"background-color:white\"></td><td style=\"background-color:white\"></td><td style=\"background-color:white\"></td><td style=\"background-color:white\"></td><td style=\"background-color:white\"></td></tr>\n",
       "<tr><td style=\"background-color:#999999\">8</td><td style=\"background-color:lightgrey\">9</td><td style=\"background-color:white\"></td><td style=\"background-color:white\"></td><td style=\"background-color:white\"></td><td style=\"background-color:white\"></td><td style=\"background-color:white\"></td><td style=\"background-color:white\"></td><td style=\"background-color:white\"></td><td style=\"background-color:white\"></td><td style=\"background-color:white\"></td><td style=\"background-color:white\"></td><td style=\"background-color:white\"></td><td style=\"background-color:white\"></td><td style=\"background-color:white\"></td><td style=\"background-color:white\"></td><td style=\"background-color:white\"></td><td style=\"background-color:white\"></td></tr>\n",
       "<tr><td style=\"background-color:#999999\">9</td><td style=\"background-color:lightgrey\">10</td><td style=\"background-color:white\"></td><td style=\"background-color:white\">Cover sheet</td><td style=\"background-color:white\"></td><td style=\"background-color:white\"></td><td style=\"background-color:white\"></td><td style=\"background-color:white\"></td><td style=\"background-color:white\"></td><td style=\"background-color:white\"></td><td style=\"background-color:white\"></td><td style=\"background-color:white\"></td><td style=\"background-color:white\"></td><td style=\"background-color:white\"></td><td style=\"background-color:white\"></td><td style=\"background-color:white\"></td><td style=\"background-color:white\"></td><td style=\"background-color:white\"></td></tr>\n",
       "<tr><td style=\"background-color:#999999\">10</td><td style=\"background-color:lightgrey\">11</td><td style=\"background-color:white\"></td><td style=\"background-color:white\">Notes</td><td style=\"background-color:white\"></td><td style=\"background-color:white\"></td><td style=\"background-color:white\"></td><td style=\"background-color:white\"></td><td style=\"background-color:white\"></td><td style=\"background-color:white\"></td><td style=\"background-color:white\"></td><td style=\"background-color:white\"></td><td style=\"background-color:white\"></td><td style=\"background-color:white\"></td><td style=\"background-color:white\"></td><td style=\"background-color:white\"></td><td style=\"background-color:white\"></td><td style=\"background-color:white\"></td></tr>\n",
       "<tr><td style=\"background-color:#999999\">11</td><td style=\"background-color:lightgrey\">12</td><td style=\"background-color:white\"></td><td style=\"background-color:white\"></td><td style=\"background-color:white\"></td><td style=\"background-color:white\"></td><td style=\"background-color:white\"></td><td style=\"background-color:white\"></td><td style=\"background-color:white\"></td><td style=\"background-color:white\"></td><td style=\"background-color:white\"></td><td style=\"background-color:white\"></td><td style=\"background-color:white\"></td><td style=\"background-color:white\"></td><td style=\"background-color:white\"></td><td style=\"background-color:white\"></td><td style=\"background-color:white\"></td><td style=\"background-color:white\"></td></tr>\n",
       "<tr><td style=\"background-color:#999999\">12</td><td style=\"background-color:lightgrey\">13</td><td style=\"background-color:white\"></td><td style=\"background-color:white\">Next Scheduled Up-date</td><td style=\"background-color:white\"></td><td style=\"background-color:white\"></td><td style=\"background-color:white\"></td><td style=\"background-color:white\"></td><td style=\"background-color:white\"></td><td style=\"background-color:white\"></td><td style=\"background-color:white\"></td><td style=\"background-color:white\"></td><td style=\"background-color:white\"></td><td style=\"background-color:white\"></td><td style=\"background-color:white\"></td><td style=\"background-color:white\"></td><td style=\"background-color:white\"></td><td style=\"background-color:white\"></td></tr>\n",
       "<tr><td style=\"background-color:#999999\">13</td><td style=\"background-color:lightgrey\">14</td><td style=\"background-color:white\"></td><td style=\"background-color:white\">Quarterly</td><td style=\"background-color:cyan\">Wednesday, August 16, 2023</td><td style=\"background-color:white\"></td><td style=\"background-color:white\"></td><td style=\"background-color:white\"></td><td style=\"background-color:white\"></td><td style=\"background-color:white\"></td><td style=\"background-color:white\"></td><td style=\"background-color:white\"></td><td style=\"background-color:white\"></td><td style=\"background-color:white\"></td><td style=\"background-color:white\"></td><td style=\"background-color:white\"></td><td style=\"background-color:white\"></td><td style=\"background-color:white\"></td></tr>\n",
       "<tr><td style=\"background-color:#999999\">14</td><td style=\"background-color:lightgrey\">15</td><td style=\"background-color:white\"></td><td style=\"background-color:white\"></td><td style=\"background-color:white\"></td><td style=\"background-color:white\"></td><td style=\"background-color:white\"></td><td style=\"background-color:white\"></td><td style=\"background-color:white\"></td><td style=\"background-color:white\"></td><td style=\"background-color:white\"></td><td style=\"background-color:white\"></td><td style=\"background-color:white\"></td><td style=\"background-color:white\"></td><td style=\"background-color:white\"></td><td style=\"background-color:white\"></td><td style=\"background-color:white\"></td><td style=\"background-color:white\"></td></tr>\n",
       "<tr><td style=\"background-color:#999999\">15</td><td style=\"background-color:lightgrey\">16</td><td style=\"background-color:white\"></td><td style=\"background-color:white\">Dataset</td><td style=\"background-color:white\">Frequency</td><td style=\"background-color:white\">House Price Indices - description</td><td style=\"background-color:white\">Previously found in DCLG</td><td style=\"background-color:white\"></td><td style=\"background-color:white\"></td><td style=\"background-color:white\"></td><td style=\"background-color:white\"></td><td style=\"background-color:white\"></td><td style=\"background-color:white\"></td><td style=\"background-color:white\"></td><td style=\"background-color:white\"></td><td style=\"background-color:white\"></td><td style=\"background-color:white\"></td><td style=\"background-color:white\"></td></tr>\n",
       "<tr><td style=\"background-color:#999999\">16</td><td style=\"background-color:lightgrey\">17</td><td style=\"background-color:white\"></td><td style=\"background-color:white\">Table 11</td><td style=\"background-color:white\">Quarterly</td><td style=\"background-color:white\">Simple average house prices, by new/other dwellings, type of buyer and region, United Kingdom, from 1992</td><td style=\"background-color:white\">Live Table 504</td><td style=\"background-color:white\"></td><td style=\"background-color:white\"></td><td style=\"background-color:white\"></td><td style=\"background-color:white\"></td><td style=\"background-color:white\"></td><td style=\"background-color:white\"></td><td style=\"background-color:white\"></td><td style=\"background-color:white\"></td><td style=\"background-color:white\"></td><td style=\"background-color:white\"></td><td style=\"background-color:white\"></td></tr>\n",
       "<tr><td style=\"background-color:#999999\">17</td><td style=\"background-color:lightgrey\">18</td><td style=\"background-color:white\"></td><td style=\"background-color:white\">Table 15</td><td style=\"background-color:white\">Quarterly</td><td style=\"background-color:white\">Simple average house prices, mortgage advances and incomes of borrowers, by new/other dwellings, type of buyer and region, United Kingdom, from 1992</td><td style=\"background-color:white\">Live Table 514</td><td style=\"background-color:white\"></td><td style=\"background-color:white\"></td><td style=\"background-color:white\"></td><td style=\"background-color:white\"></td><td style=\"background-color:white\"></td><td style=\"background-color:white\"></td><td style=\"background-color:white\"></td><td style=\"background-color:white\"></td><td style=\"background-color:white\"></td><td style=\"background-color:white\"></td><td style=\"background-color:white\"></td></tr>\n",
       "<tr><td style=\"background-color:#999999\">18</td><td style=\"background-color:lightgrey\">19</td><td style=\"background-color:white\"></td><td style=\"background-color:white\"></td><td style=\"background-color:white\"></td><td style=\"background-color:white\"></td><td style=\"background-color:white\"></td><td style=\"background-color:white\"></td><td style=\"background-color:white\"></td><td style=\"background-color:white\"></td><td style=\"background-color:white\"></td><td style=\"background-color:white\"></td><td style=\"background-color:white\"></td><td style=\"background-color:white\"></td><td style=\"background-color:white\"></td><td style=\"background-color:white\"></td><td style=\"background-color:white\"></td><td style=\"background-color:white\"></td></tr>\n",
       "<tr><td style=\"background-color:#999999\">19</td><td style=\"background-color:lightgrey\">20</td><td style=\"background-color:white\"></td><td style=\"background-color:white\">The data published in these tables are based on a sub-sample of RMS data. These results will therefore differ from results produced using full sample data.  For further information please contact the ONS using the contact details on the previous page.</td><td style=\"background-color:white\"></td><td style=\"background-color:white\"></td><td style=\"background-color:white\"></td><td style=\"background-color:white\"></td><td style=\"background-color:white\"></td><td style=\"background-color:white\"></td><td style=\"background-color:white\"></td><td style=\"background-color:white\"></td><td style=\"background-color:white\"></td><td style=\"background-color:white\"></td><td style=\"background-color:white\"></td><td style=\"background-color:white\"></td><td style=\"background-color:white\"></td><td style=\"background-color:white\"></td></tr>\n",
       "\n",
       "                </table>\n",
       "            </body>\n",
       "            <br>\n",
       "        </html>\n",
       "    "
      ],
      "text/plain": [
       "<IPython.core.display.HTML object>"
      ]
     },
     "metadata": {},
     "output_type": "display_data"
    }
   ],
   "source": [
    "from tidychef import acquire, preview\n",
    "from tidychef.selection import XlsSelectable\n",
    "\n",
    "table: XlsSelectable = acquire.xls.http(\"https://raw.githubusercontent.com/mikeAdamss/tidychef/main/tests/fixtures/xls/house-prices.xls\",\n",
    "                                        custom_time_formats={\"[$-F800]dddd\\,\\ mmmm\\ dd\\,\\ yyyy\": \"%A, %B %d, %Y\"}, tables=\"Contents\")\n",
    "suspect_cell = table.excel_ref(\"C14\")\n",
    "preview(suspect_cell, show_xy=True)"
   ]
  },
  {
   "attachments": {},
   "cell_type": "markdown",
   "metadata": {},
   "source": [
    "## Note\n",
    "\n",
    "tidychef comes with a large number of excel format to `strftime()` translations as default but given the high level of customization an exhaustive mapping is difficult to create.\n",
    "\n",
    "Users are encouraged to PR additional mappings as encountered to [this file](https://github.com/mikeAdamss/tidychef/blob/main/tidychef/acquire/excel_time.py). "
   ]
  }
 ],
 "metadata": {
  "language_info": {
   "name": "python"
  },
  "orig_nbformat": 4
 },
 "nbformat": 4,
 "nbformat_minor": 2
}
