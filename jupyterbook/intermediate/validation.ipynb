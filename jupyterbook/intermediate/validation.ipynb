{
 "cells": [
  {
   "attachments": {},
   "cell_type": "markdown",
   "metadata": {},
   "source": [
    "# Validation\n",
    "\n",
    "The following is an introduction to basic validation in datachef and usage of the built in `validators` module.\n",
    "\n",
    "Note - while `validators` is useful for getting up and running in validation, its more important to understand the concepts here so you can implement something appropriate for your own use cases."
   ]
  },
  {
   "attachments": {},
   "cell_type": "markdown",
   "metadata": {},
   "source": [
    "## Source Data\n",
    "\n",
    "The data source we're using for these examples is shown below:\n",
    "\n",
    "| <span style=\"color:green\">Note - this particular table has some very verbose headers we don't care about, so we'll be using `bounded=` to remove them from the previews as well as to show just the subset of data we're working with.</span>|\n",
    "|-----------------------------------------|\n",
    "\n",
    "The [full data source can be downloaded here](https://github.com/mikeAdamss/datachef/raw/main/tests/fixtures/xlsx/ons-oic.xlsx). We'll be using th 10th tab named \"Table 3c\"."
   ]
  },
  {
   "cell_type": "code",
   "execution_count": 1,
   "metadata": {},
   "outputs": [
    {
     "data": {
      "text/html": [
       "\n",
       "    <html>\n",
       "        \n",
       "    <style>\n",
       "    table, th, td {\n",
       "        border: 1px solid;\n",
       "    }\n",
       "\n",
       "    table {\n",
       "        border-collapse: collapse;\n",
       "    }\n",
       "\n",
       "    td {\n",
       "        align: center;\n",
       "        border: 1px  black solid !important;\n",
       "        color: black !important;\n",
       "    }\n",
       "\n",
       "    th, td {\n",
       "        padding: 5px;\n",
       "    }\n",
       "\n",
       "    </style>\n",
       "    \n",
       "            <table>\n",
       "                \n",
       "            </table>\n",
       "\n",
       "            <body>\n",
       "                <h2>Table 3c</h2>\n",
       "                <table>\n",
       "                    <tr><td style=\"background-color:lightgrey\"></td><td style=\"background-color:lightgrey\">A</td><td style=\"background-color:lightgrey\">B</td><td style=\"background-color:lightgrey\">C</td><td style=\"background-color:lightgrey\">D</td><td style=\"background-color:lightgrey\">E</td><td style=\"background-color:lightgrey\">F</td><td style=\"background-color:lightgrey\">G</td><td style=\"background-color:lightgrey\">H</td></tr>\n",
       "<tr><td style=\"background-color:lightgrey\">4</td><td style=\"background-color:white\">Percentage change 3 months on previous 3 months</td><td style=\"background-color:white\"></td><td style=\"background-color:white\"></td><td style=\"background-color:white\"></td><td style=\"background-color:white\"></td><td style=\"background-color:white\"></td><td style=\"background-color:white\"></td><td style=\"background-color:white\"></td></tr>\n",
       "<tr><td style=\"background-color:lightgrey\">5</td><td style=\"background-color:white\">Time period</td><td style=\"background-color:white\">Public new housing</td><td style=\"background-color:white\">Private new housing</td><td style=\"background-color:white\">Total new housing</td><td style=\"background-color:white\">Infrastructure new work</td><td style=\"background-color:white\">Public other new work</td><td style=\"background-color:white\">Private industrial new work</td><td style=\"background-color:white\">Private commercial new work</td></tr>\n",
       "<tr><td style=\"background-color:lightgrey\">6</td><td style=\"background-color:white\">Dataset identifier code</td><td style=\"background-color:white\">MVO6</td><td style=\"background-color:white\">MVO7</td><td style=\"background-color:white\">MVO8</td><td style=\"background-color:white\">MVO9</td><td style=\"background-color:white\">MVP2</td><td style=\"background-color:white\">MVP3</td><td style=\"background-color:white\">MVP4</td></tr>\n",
       "<tr><td style=\"background-color:lightgrey\">7</td><td style=\"background-color:white\">Jun 2010</td><td style=\"background-color:white\">5.6</td><td style=\"background-color:white\">9.8</td><td style=\"background-color:white\">8.8</td><td style=\"background-color:white\">3</td><td style=\"background-color:white\">4.3</td><td style=\"background-color:white\">3.7</td><td style=\"background-color:white\">1.9</td></tr>\n",
       "<tr><td style=\"background-color:lightgrey\">8</td><td style=\"background-color:white\">Jul 2010</td><td style=\"background-color:white\">2</td><td style=\"background-color:white\">5.6</td><td style=\"background-color:white\">4.8</td><td style=\"background-color:white\">0.2</td><td style=\"background-color:white\">-0.2</td><td style=\"background-color:white\">9.7</td><td style=\"background-color:white\">3.5</td></tr>\n",
       "<tr><td style=\"background-color:lightgrey\">9</td><td style=\"background-color:white\">Aug 2010</td><td style=\"background-color:white\">5.5</td><td style=\"background-color:white\">4.5</td><td style=\"background-color:white\">4.7</td><td style=\"background-color:white\">-2.9</td><td style=\"background-color:white\">-2.9</td><td style=\"background-color:white\">24.4</td><td style=\"background-color:white\">5.9</td></tr>\n",
       "<tr><td style=\"background-color:lightgrey\">10</td><td style=\"background-color:white\">Sep 2010</td><td style=\"background-color:white\">11.7</td><td style=\"background-color:white\">7.5</td><td style=\"background-color:white\">8.5</td><td style=\"background-color:white\">-6.8</td><td style=\"background-color:white\">-3.3</td><td style=\"background-color:white\">16.1</td><td style=\"background-color:white\">5.3</td></tr>\n",
       "\n",
       "                </table>\n",
       "            </body>\n",
       "            <br>\n",
       "        </html>\n",
       "    "
      ],
      "text/plain": [
       "<IPython.core.display.HTML object>"
      ]
     },
     "metadata": {},
     "output_type": "display_data"
    }
   ],
   "source": [
    "from typing import List\n",
    "from datachef import acquire, preview, XlsxSelectable\n",
    "\n",
    "tables: List[XlsxSelectable] = acquire.xlsx.http(\"https://github.com/mikeAdamss/datachef/raw/main/tests/fixtures/xlsx/ons-oic.xlsx\")\n",
    "preview(tables[9], bounded=\"A4:H10\")"
   ]
  },
  {
   "attachments": {},
   "cell_type": "markdown",
   "metadata": {},
   "source": [
    "## Column: the validation= keyword\n",
    "\n",
    "It's important to understand how Column validation works:\n",
    "\n",
    "- The `Column` class has a keyword argument of `valiation=`\n",
    "- This keyword expects a callable (function,lambda function or callable class)\n",
    "- Whatever callable is passed will _typically_ raise an exception when presented with the `Cell` object to populate said column which is not valid.\n",
    "\n",
    "_Note - I say \"typically\" here as validators are intended to be highly customised and defined in large part by the user base. Raising an immediate exception is the simplest thing you could do, but by no means the only thing you could do._"
   ]
  },
  {
   "attachments": {},
   "cell_type": "markdown",
   "metadata": {},
   "source": [
    "## Simple Regex Validation\n",
    "\n",
    "For this example we're going to use the `matches` module. This has a simple regex validator that works in exactly the way explained above.\n",
    "\n",
    "i.e \"matches\" is just a convenience, you could just define this yourself (and we will as the next example).\n",
    "\n",
    "So the following example is valid for the regex provided:"
   ]
  },
  {
   "cell_type": "code",
   "execution_count": 2,
   "metadata": {},
   "outputs": [],
   "source": [
    "from typing import List\n",
    "from datachef import acquire, XlsxSelectable, valid, TidyData, Column, down, right\n",
    "\n",
    "tables: List[XlsxSelectable] = acquire.xlsx.http(\"https://github.com/mikeAdamss/datachef/raw/main/tests/fixtures/xlsx/ons-oic.xlsx\")\n",
    "table = tables[9]\n",
    "\n",
    "observations = table.excel_ref(\"B7:H10\").label_as(\"Observations\")\n",
    "dataset_identifier_code = table.excel_ref(\"B6\").expand(right).label_as(\"Dataset Identifier Codes\")\n",
    "\n",
    "# Note: matches a regex of capital M followed by anything\n",
    "tidy_data = TidyData(\n",
    "    observations,\n",
    "    Column(dataset_identifier_code.finds_observations_directly(down), validate=valid.regex(\"M.*\"))\n",
    ")"
   ]
  },
  {
   "attachments": {},
   "cell_type": "markdown",
   "metadata": {},
   "source": [
    "## Source Data\n",
    "\n",
    "The data source we're using for these examples is shown below:\n",
    "\n",
    "| <span style=\"color:green\">Note - this particular table has some very verbose headers we don't care about, so we'll be using `bounded=` to remove them from the previews as well as to show just the subset of data we're working with.</span>|\n",
    "|-----------------------------------------|\n",
    "\n",
    "The [full data source can be downloaded here](https://github.com/mikeAdamss/datachef/raw/main/tests/fixtures/xlsx/ons-oic.xlsx). We'll be using th 10th tab named \"Table 3c\"."
   ]
  },
  {
   "attachments": {},
   "cell_type": "markdown",
   "metadata": {},
   "source": [
    "Runs without error.\n",
    "\n",
    "Whereas in the following example we change the regex so the data no longer matches that which is expected - note the exception."
   ]
  },
  {
   "cell_type": "code",
   "execution_count": 3,
   "metadata": {},
   "outputs": [
    {
     "ename": "AssertionError",
     "evalue": "Value of cell \"<B6, value:\"MVO6\", x:1, y:5>\" does not match provided regex pattern \"Z.*\".",
     "output_type": "error",
     "traceback": [
      "\u001b[0;31m---------------------------------------------------------------------------\u001b[0m",
      "\u001b[0;31mAssertionError\u001b[0m                            Traceback (most recent call last)",
      "\u001b[0;32m/var/folders/3q/wpcx20553xv0hpsjgtq_zl_m0000gp/T/ipykernel_44929/2694820089.py\u001b[0m in \u001b[0;36m<cell line: 16>\u001b[0;34m()\u001b[0m\n\u001b[1;32m     14\u001b[0m )\n\u001b[1;32m     15\u001b[0m \u001b[0;34m\u001b[0m\u001b[0m\n\u001b[0;32m---> 16\u001b[0;31m \u001b[0mprint\u001b[0m\u001b[0;34m(\u001b[0m\u001b[0mtidy_data\u001b[0m\u001b[0;34m)\u001b[0m\u001b[0;34m\u001b[0m\u001b[0;34m\u001b[0m\u001b[0m\n\u001b[0m",
      "\u001b[0;32m~/code/mikeAdamss/datachef/datachef/output/tidydata.py\u001b[0m in \u001b[0;36m__str__\u001b[0;34m(self)\u001b[0m\n\u001b[1;32m     66\u001b[0m \u001b[0;34m\u001b[0m\u001b[0m\n\u001b[1;32m     67\u001b[0m     \u001b[0;32mdef\u001b[0m \u001b[0m__str__\u001b[0m\u001b[0;34m(\u001b[0m\u001b[0mself\u001b[0m\u001b[0;34m)\u001b[0m\u001b[0;34m:\u001b[0m  \u001b[0;31m# pragma: no cover\u001b[0m\u001b[0;34m\u001b[0m\u001b[0;34m\u001b[0m\u001b[0m\n\u001b[0;32m---> 68\u001b[0;31m         \u001b[0;32mreturn\u001b[0m \u001b[0mself\u001b[0m\u001b[0;34m.\u001b[0m\u001b[0m__get_representation\u001b[0m\u001b[0;34m(\u001b[0m\u001b[0;34m)\u001b[0m\u001b[0;34m\u001b[0m\u001b[0;34m\u001b[0m\u001b[0m\n\u001b[0m\u001b[1;32m     69\u001b[0m \u001b[0;34m\u001b[0m\u001b[0m\n\u001b[1;32m     70\u001b[0m     \u001b[0;32mdef\u001b[0m \u001b[0m__len__\u001b[0m\u001b[0;34m(\u001b[0m\u001b[0mself\u001b[0m\u001b[0;34m)\u001b[0m\u001b[0;34m:\u001b[0m\u001b[0;34m\u001b[0m\u001b[0;34m\u001b[0m\u001b[0m\n",
      "\u001b[0;32m~/code/mikeAdamss/datachef/datachef/output/tidydata.py\u001b[0m in \u001b[0;36m__get_representation\u001b[0;34m(self)\u001b[0m\n\u001b[1;32m     49\u001b[0m         \"\"\"\n\u001b[1;32m     50\u001b[0m         \u001b[0;32mif\u001b[0m \u001b[0;32mnot\u001b[0m \u001b[0mself\u001b[0m\u001b[0;34m.\u001b[0m\u001b[0m_data\u001b[0m\u001b[0;34m:\u001b[0m\u001b[0;34m\u001b[0m\u001b[0;34m\u001b[0m\u001b[0m\n\u001b[0;32m---> 51\u001b[0;31m             \u001b[0mself\u001b[0m\u001b[0;34m.\u001b[0m\u001b[0m_transform\u001b[0m\u001b[0;34m(\u001b[0m\u001b[0;34m)\u001b[0m\u001b[0;34m\u001b[0m\u001b[0;34m\u001b[0m\u001b[0m\n\u001b[0m\u001b[1;32m     52\u001b[0m \u001b[0;34m\u001b[0m\u001b[0m\n\u001b[1;32m     53\u001b[0m         \u001b[0mheader_row\u001b[0m \u001b[0;34m=\u001b[0m \u001b[0mself\u001b[0m\u001b[0;34m.\u001b[0m\u001b[0m_data\u001b[0m\u001b[0;34m[\u001b[0m\u001b[0;36m0\u001b[0m\u001b[0;34m]\u001b[0m\u001b[0;34m\u001b[0m\u001b[0;34m\u001b[0m\u001b[0m\n",
      "\u001b[0;32m~/code/mikeAdamss/datachef/datachef/output/tidydata.py\u001b[0m in \u001b[0;36m_transform\u001b[0;34m(self)\u001b[0m\n\u001b[1;32m    208\u001b[0m                 ]\n\u001b[1;32m    209\u001b[0m                 \u001b[0;32mfor\u001b[0m \u001b[0mcolumn\u001b[0m \u001b[0;32min\u001b[0m \u001b[0mstandard_columns\u001b[0m\u001b[0;34m:\u001b[0m\u001b[0;34m\u001b[0m\u001b[0;34m\u001b[0m\u001b[0m\n\u001b[0;32m--> 210\u001b[0;31m                     ob_value = column.resolve_column_cell_from_obs_cell(\n\u001b[0m\u001b[1;32m    211\u001b[0m                         \u001b[0mobservation\u001b[0m\u001b[0;34m\u001b[0m\u001b[0;34m\u001b[0m\u001b[0m\n\u001b[1;32m    212\u001b[0m                     ).value\n",
      "\u001b[0;32m~/code/mikeAdamss/datachef/datachef/column/base.py\u001b[0m in \u001b[0;36mresolve_column_cell_from_obs_cell\u001b[0;34m(self, observation_cell, *args)\u001b[0m\n\u001b[1;32m     89\u001b[0m         \"\"\"\n\u001b[1;32m     90\u001b[0m         \u001b[0mcell\u001b[0m \u001b[0;34m=\u001b[0m \u001b[0mself\u001b[0m\u001b[0;34m.\u001b[0m\u001b[0mengine\u001b[0m\u001b[0;34m.\u001b[0m\u001b[0mresolve\u001b[0m\u001b[0;34m(\u001b[0m\u001b[0mobservation_cell\u001b[0m\u001b[0;34m,\u001b[0m \u001b[0;34m*\u001b[0m\u001b[0margs\u001b[0m\u001b[0;34m)\u001b[0m\u001b[0;34m\u001b[0m\u001b[0;34m\u001b[0m\u001b[0m\n\u001b[0;32m---> 91\u001b[0;31m         \u001b[0mcell\u001b[0m \u001b[0;34m=\u001b[0m \u001b[0mself\u001b[0m\u001b[0;34m.\u001b[0m\u001b[0m_post_lookup\u001b[0m\u001b[0;34m(\u001b[0m\u001b[0mcell\u001b[0m\u001b[0;34m)\u001b[0m\u001b[0;34m\u001b[0m\u001b[0;34m\u001b[0m\u001b[0m\n\u001b[0m\u001b[1;32m     92\u001b[0m         \u001b[0;32mreturn\u001b[0m \u001b[0mcell\u001b[0m\u001b[0;34m\u001b[0m\u001b[0;34m\u001b[0m\u001b[0m\n\u001b[1;32m     93\u001b[0m \u001b[0;34m\u001b[0m\u001b[0m\n",
      "\u001b[0;32m~/code/mikeAdamss/datachef/datachef/column/column.py\u001b[0m in \u001b[0;36m_post_lookup\u001b[0;34m(self, cell)\u001b[0m\n\u001b[1;32m     74\u001b[0m         \u001b[0;31m# Validate\u001b[0m\u001b[0;34m\u001b[0m\u001b[0;34m\u001b[0m\u001b[0m\n\u001b[1;32m     75\u001b[0m         \u001b[0;32mif\u001b[0m \u001b[0mself\u001b[0m\u001b[0;34m.\u001b[0m\u001b[0mvalidation\u001b[0m\u001b[0;34m:\u001b[0m\u001b[0;34m\u001b[0m\u001b[0;34m\u001b[0m\u001b[0m\n\u001b[0;32m---> 76\u001b[0;31m             \u001b[0mself\u001b[0m\u001b[0;34m.\u001b[0m\u001b[0mvalidation\u001b[0m\u001b[0;34m(\u001b[0m\u001b[0mcell\u001b[0m\u001b[0;34m)\u001b[0m\u001b[0;34m\u001b[0m\u001b[0;34m\u001b[0m\u001b[0m\n\u001b[0m\u001b[1;32m     77\u001b[0m \u001b[0;34m\u001b[0m\u001b[0m\n\u001b[1;32m     78\u001b[0m         \u001b[0;32mreturn\u001b[0m \u001b[0mcell\u001b[0m\u001b[0;34m\u001b[0m\u001b[0;34m\u001b[0m\u001b[0m\n",
      "\u001b[0;32m~/code/mikeAdamss/datachef/datachef/validators/implementations/regex.py\u001b[0m in \u001b[0;36m__call__\u001b[0;34m(self, cell)\u001b[0m\n\u001b[1;32m     14\u001b[0m         \u001b[0mobject\u001b[0m \u001b[0mpatches\u001b[0m \u001b[0mthe\u001b[0m \u001b[0mprovided\u001b[0m \u001b[0mpattern\u001b[0m\u001b[0;34m\u001b[0m\u001b[0;34m\u001b[0m\u001b[0m\n\u001b[1;32m     15\u001b[0m         \"\"\"\n\u001b[0;32m---> 16\u001b[0;31m         assert re.match(\n\u001b[0m\u001b[1;32m     17\u001b[0m                 \u001b[0mself\u001b[0m\u001b[0;34m.\u001b[0m\u001b[0mpattern\u001b[0m\u001b[0;34m,\u001b[0m \u001b[0mcell\u001b[0m\u001b[0;34m.\u001b[0m\u001b[0mvalue\u001b[0m\u001b[0;34m\u001b[0m\u001b[0;34m\u001b[0m\u001b[0m\n\u001b[1;32m     18\u001b[0m             ), f'Value of cell \"{cell}\" does not match provided regex pattern \"{self.pattern}\".'\n",
      "\u001b[0;31mAssertionError\u001b[0m: Value of cell \"<B6, value:\"MVO6\", x:1, y:5>\" does not match provided regex pattern \"Z.*\"."
     ]
    }
   ],
   "source": [
    "from typing import List\n",
    "from datachef import acquire, XlsxSelectable, valid, TidyData, Column, down, right\n",
    "\n",
    "tables: List[XlsxSelectable] = acquire.xlsx.http(\"https://github.com/mikeAdamss/datachef/raw/main/tests/fixtures/xlsx/ons-oic.xlsx\")\n",
    "table = tables[9]\n",
    "\n",
    "observations = table.excel_ref(\"B7:H10\").label_as(\"Observations\")\n",
    "housing = table.excel_ref(\"B6\").expand(right).label_as(\"Dataset Identifier Code\")\n",
    "\n",
    "# Note: matches a regex of capital Z followed by anything\n",
    "tidy_data = TidyData(\n",
    "    observations,\n",
    "    Column(dataset_identifier_code.finds_observations_directly(down), validate=valid.regex(\"Z.*\"))\n",
    ")\n",
    "\n",
    "print(tidy_data)"
   ]
  },
  {
   "attachments": {},
   "cell_type": "markdown",
   "metadata": {},
   "source": [
    "## A Note on Lazy Evaluation\n",
    "\n",
    "One thing you many notice about the above is that the validation error does not occur until we try and print the `tidy_data` variable, this is because the `TidyData` class uses _lazy evaluation_.\n",
    "\n",
    "Simply put, this means the tidy data is never extracted until the last possible moment that is has to be, in this case when the users goes to print the results."
   ]
  },
  {
   "attachments": {},
   "cell_type": "markdown",
   "metadata": {},
   "source": [
    "## A Custom Validation Example\n",
    "\n",
    "For this example we're going to create a custom validation callable."
   ]
  },
  {
   "cell_type": "code",
   "execution_count": null,
   "metadata": {},
   "outputs": [
    {
     "ename": "",
     "evalue": "",
     "output_type": "error",
     "traceback": [
      "\u001b[1;31mThe kernel failed to start due to the missing module 'stack_data'. Consider installing this module.\n",
      "\u001b[1;31mClick <a href='https://aka.ms/kernelFailuresMissingModule'>here</a> for more info."
     ]
    }
   ],
   "source": [
    "from typing import List\n",
    "from datachef.models.source.cell import Cell\n",
    "from datachef import acquire, XlsxSelectable, matches, TidyData, Column, down, right\n",
    "\n",
    "def code_validator(cell: Cell):\n",
    "    \"\"\"\n",
    "    Custom validator that validates that a code is 4 characters\n",
    "    long and begins with a capital M\n",
    "    \"\"\"\n",
    "    if len(cell.value) == 4 and cell.value[0] == \"M\":\n",
    "        return True\n",
    "    return False\n",
    "\n",
    "tables: List[XlsxSelectable] = acquire.xlsx.http(\"https://github.com/mikeAdamss/datachef/raw/main/tests/fixtures/xlsx/ons-oic.xlsx\")\n",
    "table = tables[9]\n",
    "\n",
    "observations = table.excel_ref(\"B7:H10\").label_as(\"Observations\")\n",
    "housing = table.excel_ref(\"B6\").expand(right).label_as(\"Housing\")\n",
    "\n",
    "# Note: matches a regex of capital Z followed by anything\n",
    "tidy_data = TidyData(\n",
    "    observations,\n",
    "    Column(dataset_identifier_code.finds_observations_directly(down), validate=code_validator)\n",
    ")\n",
    "\n",
    "print(tidy_data)"
   ]
  },
  {
   "attachments": {},
   "cell_type": "markdown",
   "metadata": {},
   "source": [
    "## Validating Against An External Source Of Truth\n",
    "\n",
    "The most powerful form of validation is to compare values to an external source of truth, be that via a scheme, codelists, api or pretty much any \"master list\" of acceptable values.\n",
    "\n",
    "For this example we're going to use a simple json file.\n",
    "\n",
    "First we create the json file and write it to `./validation.json`."
   ]
  },
  {
   "cell_type": "code",
   "execution_count": null,
   "metadata": {},
   "outputs": [
    {
     "ename": "",
     "evalue": "",
     "output_type": "error",
     "traceback": [
      "\u001b[1;31mThe kernel failed to start due to the missing module 'stack_data'. Consider installing this module.\n",
      "\u001b[1;31mClick <a href='https://aka.ms/kernelFailuresMissingModule'>here</a> for more info."
     ]
    }
   ],
   "source": [
    "import json\n",
    "\n",
    "# Note: I've only populated Housing, but you could specify multiple\n",
    "# columns this way.\n",
    "valid = {\n",
    "    \"Housing\": [\n",
    "        \"Public new housing\",\n",
    "        \"Private new housing\",\n",
    "        \"Total new housing\",\n",
    "        \"Infrastructure new work\",\n",
    "        \"Public other new work\",\n",
    "        \"Private industrial new work\",\n",
    "        \"Private commercial new work\"\n",
    "        ]\n",
    "}\n",
    "\n",
    "with open(\"./validation.json\") as f:\n",
    "    json.dump(valid, f)"
   ]
  },
  {
   "attachments": {},
   "cell_type": "markdown",
   "metadata": {},
   "source": [
    "Now we have our json file here's (one implementation) of how you could use it for Column value validation."
   ]
  },
  {
   "cell_type": "code",
   "execution_count": null,
   "metadata": {},
   "outputs": [
    {
     "ename": "",
     "evalue": "",
     "output_type": "error",
     "traceback": [
      "\u001b[1;31mThe kernel failed to start due to the missing module 'stack_data'. Consider installing this module.\n",
      "\u001b[1;31mClick <a href='https://aka.ms/kernelFailuresMissingModule'>here</a> for more info."
     ]
    }
   ],
   "source": [
    "from typing import List\n",
    "from datachef.models.source.cell import Cell\n",
    "from datachef import acquire, XlsxSelectable, matches, TidyData, Column, down, right\n",
    "\n",
    "class Validator:\n",
    "\n",
    "    def __init__(self, column: str):\n",
    "        \"\"\"\n",
    "        Use the column name to get a list of valid values for\n",
    "        this column\n",
    "        \"\"\"\n",
    "        with open(\"./validation.json\") as f:\n",
    "            validation_dict = json.load(f)\n",
    "        self.valid_values= validation_dict[column]\n",
    "\n",
    "    def __call__(self, cell: Cell):\n",
    "        \"\"\"\n",
    "        Its valid if the cell value is in the list of valid\n",
    "        values for this column\n",
    "        \"\"\"\n",
    "        assert cell.value in self.valid_values, (f'''\n",
    "            Cell value {cell.value} not in list of\n",
    "            valid values: {self.valid_values}\n",
    "        ''')\n",
    "\n",
    "tables: List[XlsxSelectable] = acquire.xlsx.http(\"https://github.com/mikeAdamss/datachef/raw/main/tests/fixtures/xlsx/ons-oic.xlsx\")\n",
    "table = tables[9]\n",
    "\n",
    "observations = table.excel_ref(\"B7:H10\").label_as(\"Observations\")\n",
    "housing = table.excel_ref(\"B5\").expand(right).label_as(\"Housing\")\n",
    "\n",
    "tidy_data = TidyData(\n",
    "    observations,\n",
    "    Column(housing.finds_observations_directly(down), validation=Validator(\"Housing\"))\n",
    ")\n",
    "\n",
    "print(tidy_data)"
   ]
  },
  {
   "attachments": {},
   "cell_type": "markdown",
   "metadata": {},
   "source": [
    "As a final example, we'll change the validation json and remove most of the valid values and see what happens (it'll raise an exception when we go to print and the Column gets evaluated because it'll contains multiple values that cannot be asserted when passed to `Validator(\"Housing\")`)."
   ]
  },
  {
   "cell_type": "code",
   "execution_count": null,
   "metadata": {},
   "outputs": [
    {
     "ename": "",
     "evalue": "",
     "output_type": "error",
     "traceback": [
      "\u001b[1;31mThe kernel failed to start due to the missing module 'stack_data'. Consider installing this module.\n",
      "\u001b[1;31mClick <a href='https://aka.ms/kernelFailuresMissingModule'>here</a> for more info."
     ]
    }
   ],
   "source": [
    "import json\n",
    "\n",
    "# Note: I've only populated Housing, but you could specify multiple\n",
    "# columns this way.\n",
    "valid = {\n",
    "    \"Housing\": [\n",
    "        \"Public new housing\",\n",
    "        \"Private new housing\"\n",
    "        ]\n",
    "}\n",
    "\n",
    "with open(\"./validation-dict2.json\") as f:\n",
    "    json.dump(valid, f)"
   ]
  },
  {
   "cell_type": "code",
   "execution_count": null,
   "metadata": {},
   "outputs": [
    {
     "ename": "",
     "evalue": "",
     "output_type": "error",
     "traceback": [
      "\u001b[1;31mThe kernel failed to start due to the missing module 'stack_data'. Consider installing this module.\n",
      "\u001b[1;31mClick <a href='https://aka.ms/kernelFailuresMissingModule'>here</a> for more info."
     ]
    }
   ],
   "source": [
    "from typing import List\n",
    "from datachef.models.source.cell import Cell\n",
    "from datachef import acquire, XlsxSelectable, matches, TidyData, Column, down, right\n",
    "\n",
    "class Validator:\n",
    "\n",
    "    def __init__(self, column: str):\n",
    "        \"\"\"\n",
    "        Use the column name to get a list of valid values for\n",
    "        this column\n",
    "        \"\"\"\n",
    "        with open(\"./validation-dict2.json\") as f:\n",
    "            validation_dict = json.load(f)\n",
    "        self.valid_values= validation_dict[column]\n",
    "\n",
    "    def __call__(self, cell: Cell):\n",
    "        \"\"\"\n",
    "        Its valid if the cell value is in the list of valid\n",
    "        values for this column\n",
    "        \"\"\"\n",
    "        assert cell.value in self.valid_values, (f'''\n",
    "            Cell value {cell.value} not in list of\n",
    "            valid values: {self.valid_values}\n",
    "        ''')\n",
    "\n",
    "tables: List[XlsxSelectable] = acquire.xlsx.http(\"https://github.com/mikeAdamss/datachef/raw/main/tests/fixtures/xlsx/ons-oic.xlsx\")\n",
    "table = tables[9]\n",
    "\n",
    "observations = table.excel_ref(\"B7:H10\").label_as(\"Observations\")\n",
    "housing = table.excel_ref(\"B5\").expand(right).label_as(\"Housing\")\n",
    "\n",
    "tidy_data = TidyData(\n",
    "    observations,\n",
    "    Column(housing.finds_observations_directly(down), validation=Validator(\"Housing\"))\n",
    ")\n",
    "\n",
    "print(tidy_data)"
   ]
  }
 ],
 "metadata": {
  "kernelspec": {
   "display_name": "datachef-hNSMaw3h-py3.9",
   "language": "python",
   "name": "python3"
  },
  "language_info": {
   "codemirror_mode": {
    "name": "ipython",
    "version": 3
   },
   "file_extension": ".py",
   "mimetype": "text/x-python",
   "name": "python",
   "nbconvert_exporter": "python",
   "pygments_lexer": "ipython3",
   "version": "3.9.7"
  },
  "orig_nbformat": 4
 },
 "nbformat": 4,
 "nbformat_minor": 2
}
