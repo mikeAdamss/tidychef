{
 "cells": [
  {
   "cell_type": "markdown",
   "metadata": {},
   "source": [
    "# TidyData: Column: validate=\n",
    "\n",
    "The following is an introduction to basic validation in tidychef and usage of the `validate=` keyword provided by the `Column` class when constructing `TidyData`.\n",
    "\n",
    "| <span style=\"color:green\">Note - this keyword uses exactly the same `against` module we used when explaining `selection.validate()` method earlier in this documentation - the difference here is intent (explained below in more detail).</span>|\n",
    "|-----------------------------------------|"
   ]
  },
  {
   "cell_type": "markdown",
   "metadata": {},
   "source": [
    "## validate= vs .validate()\n",
    "\n",
    "The key difference to understand is as follow:\n",
    "\n",
    "- The `<selectable>.validate()` method run against **selections** so police your _extraction logic_.\n",
    "- Validations via the `Column(validate=)` keyword runs against the **output** so police your _final product_.\n",
    "\n",
    "Consider the following scenarios:\n",
    "\n",
    "- 1.) You want to select an \"anchor cell\" or a selection of cells for the sole purpose of subtracting it from another selection. It could be important to confirm these selections are accurate but because they're not directly extracted values then `validate=` will never see them (just the consequence of them) so the `<selectable>.validate()` is more appropriate.\n",
    "\n",
    "- 2.) You're are using `apply=` to cleanse cell value data _at the point of extraction_ and need to make sure the correct things are happening, the `<selectable>.validate()` method will **never see these cleansed values**, but `validate=` will.\n",
    "\n",
    "There are nuances on where its best to use each but the pithy version is \"use both strategies, wherever possible and as much as its practical to do so\"."
   ]
  },
  {
   "cell_type": "markdown",
   "metadata": {},
   "source": [
    "## Source Data\n",
    "\n",
    "The data source we're using for these examples is shown below:\n",
    "\n",
    "| <span style=\"color:green\">Note - this particular table has some very verbose headers we don't care about, so we'll be using `bounded=` to remove them from the previews as well as to show just the subset of data we're working with.</span>|\n",
    "|-----------------------------------------|\n",
    "\n",
    "The [full data source can be downloaded here](https://github.com/mikeAdamss/tidychef/raw/main/tests/fixtures/xlsx/ons-oic.xlsx). We'll be using th 10th tab named \"Table 3c\"."
   ]
  },
  {
   "cell_type": "code",
   "execution_count": null,
   "metadata": {},
   "outputs": [],
   "source": [
    "from tidychef import acquire, preview\n",
    "from tidychef.selection import XlsxSelectable\n",
    "\n",
    "table: XlsxSelectable = acquire.xlsx.http(\"https://github.com/mikeAdamss/tidychef/raw/main/tests/fixtures/xlsx/ons-oic.xlsx\", tables=\"Table 3c\")\n",
    "preview(table, bounded=\"A4:H10\")"
   ]
  },
  {
   "cell_type": "markdown",
   "metadata": {},
   "source": [
    "## Simple Regex Validation\n",
    "\n",
    "For this example we're going to use the same `against` module we used early in this documentation. This has a simple regex validator that works in exactly the way explained above.\n",
    "\n",
    "i.e `against` is just a convenience, you could just define this yourself.\n",
    "\n",
    "So the following example is an example of finding an invalid cell with the regex provided:"
   ]
  },
  {
   "cell_type": "code",
   "execution_count": null,
   "metadata": {},
   "outputs": [],
   "source": [
    "from tidychef import acquire, against\n",
    "from tidychef.direction import right, down\n",
    "from tidychef.output import TidyData, Column\n",
    "from tidychef.selection import XlsxSelectable\n",
    "\n",
    "table: XlsxSelectable = acquire.xlsx.http(\"https://github.com/mikeAdamss/tidychef/raw/main/tests/fixtures/xlsx/ons-oic.xlsx\", tables=\"Table 3c\")\n",
    "\n",
    "observations = table.excel_ref(\"B7:H10\").label_as(\"Observations\")\n",
    "dataset_identifier_code = table.excel_ref(\"B6\").expand(right).label_as(\"Dataset Identifier Codes\")\n",
    "\n",
    "# Note: matches a regex of capital M followed by anything\n",
    "tidy_data = TidyData(\n",
    "    observations,\n",
    "    Column(dataset_identifier_code.attach_directly(down), validate=against.regex(\"L.*\"))\n",
    ")\n",
    "\n",
    "print(tidy_data)"
   ]
  },
  {
   "cell_type": "markdown",
   "metadata": {},
   "source": [
    "## A Note on Lazy Evaluation\n",
    "\n",
    "One thing you many notice about the above is that the validation error does not occur until we try and print the `tidy_data` variable, this is because the `TidyData` class uses _lazy evaluation_.\n",
    "\n",
    "Simply put, this means the tidy data is never extracted until the last possible moment that is has to be, in this case when we print."
   ]
  }
 ],
 "metadata": {
  "kernelspec": {
   "display_name": "Python 3 (ipykernel)",
   "language": "python",
   "name": "python3"
  },
  "language_info": {
   "codemirror_mode": {
    "name": "ipython",
    "version": 3
   },
   "file_extension": ".py",
   "mimetype": "text/x-python",
   "name": "python",
   "nbconvert_exporter": "python",
   "pygments_lexer": "ipython3",
   "version": "3.12.11"
  }
 },
 "nbformat": 4,
 "nbformat_minor": 4
}
