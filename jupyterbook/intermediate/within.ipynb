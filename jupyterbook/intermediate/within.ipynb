{
 "cells": [
  {
   "attachments": {},
   "cell_type": "markdown",
   "metadata": {},
   "source": [
    "# TidyData: Within\n",
    "\n",
    "Here we document how to create a within relationship between the values of a column and observations.\n",
    "\n",
    "The purpose of within is to allow you to extract data where the visual relationship to a single column varies depending on the observation in question."
   ]
  },
  {
   "attachments": {},
   "cell_type": "markdown",
   "metadata": {},
   "source": [
    "## Source Data\n",
    "\n",
    "The data source we're using for these examples is shown below:\n",
    "\n",
    "| <span style=\"color:green\">Note - this particular table has some very verbose headers we don't care about, so we'll be using `bounded=` to remove them from the previews as well as to show just the subset of data we're working with.</span>|\n",
    "|-----------------------------------------|\n",
    "\n",
    "The [full data source can be downloaded here](https://github.com/mikeAdamss/datachef/raw/main/tests/fixtures/xls/within_sample.xls)."
   ]
  },
  {
   "cell_type": "code",
   "execution_count": 26,
   "metadata": {},
   "outputs": [
    {
     "data": {
      "text/html": [
       "\n",
       "    <html>\n",
       "        \n",
       "    <style>\n",
       "    table, th, td {\n",
       "        border: 1px solid;\n",
       "    }\n",
       "\n",
       "    table {\n",
       "        border-collapse: collapse;\n",
       "    }\n",
       "\n",
       "    td {\n",
       "        align: center;\n",
       "        border: 1px  black solid !important;\n",
       "        color: black !important;\n",
       "    }\n",
       "\n",
       "    th, td {\n",
       "        padding: 5px;\n",
       "    }\n",
       "\n",
       "    </style>\n",
       "    \n",
       "            <table>\n",
       "                \n",
       "            <tr>\n",
       "                <td style=\"background-color:cyan\">Sex</td>\n",
       "            <tr>\n",
       "        \n",
       "            </table>\n",
       "\n",
       "            <body>\n",
       "                <h2>data</h2>\n",
       "                <table>\n",
       "                    <tr><td style=\"background-color:lightgrey\"></td><td style=\"background-color:lightgrey\">A</td><td style=\"background-color:lightgrey\">B</td><td style=\"background-color:lightgrey\">C</td><td style=\"background-color:lightgrey\">D</td><td style=\"background-color:lightgrey\">E</td><td style=\"background-color:lightgrey\">F</td><td style=\"background-color:lightgrey\">G</td><td style=\"background-color:lightgrey\">H</td><td style=\"background-color:lightgrey\">I</td></tr>\n",
       "<tr><td style=\"background-color:lightgrey\">1</td><td style=\"background-color:white\"></td><td style=\"background-color:white\"></td><td style=\"background-color:white\"></td><td style=\"background-color:white\"></td><td style=\"background-color:white\"></td><td style=\"background-color:white\"></td><td style=\"background-color:white\"></td><td style=\"background-color:white\"></td><td style=\"background-color:white\"></td></tr>\n",
       "<tr><td style=\"background-color:lightgrey\">2</td><td style=\"background-color:white\">Date</td><td style=\"background-color:white\"></td><td style=\"background-color:white\"></td><td style=\"background-color:cyan\">Male</td><td style=\"background-color:white\"></td><td style=\"background-color:white\"></td><td style=\"background-color:white\"></td><td style=\"background-color:cyan\">Female</td><td style=\"background-color:white\"></td></tr>\n",
       "<tr><td style=\"background-color:lightgrey\">3</td><td style=\"background-color:white\">45108.0</td><td style=\"background-color:white\"></td><td style=\"background-color:white\">2.0</td><td style=\"background-color:white\">3.0</td><td style=\"background-color:white\">23.0</td><td style=\"background-color:white\"></td><td style=\"background-color:white\">4.0</td><td style=\"background-color:white\">12.0</td><td style=\"background-color:white\">7.0</td></tr>\n",
       "<tr><td style=\"background-color:lightgrey\">4</td><td style=\"background-color:white\">45109.0</td><td style=\"background-color:white\"></td><td style=\"background-color:white\">1.0</td><td style=\"background-color:white\">4.0</td><td style=\"background-color:white\">12.0</td><td style=\"background-color:white\"></td><td style=\"background-color:white\">23.0</td><td style=\"background-color:white\">24.0</td><td style=\"background-color:white\">2.0</td></tr>\n",
       "<tr><td style=\"background-color:lightgrey\">5</td><td style=\"background-color:white\">45110.0</td><td style=\"background-color:white\"></td><td style=\"background-color:white\">3.0</td><td style=\"background-color:white\">3.0</td><td style=\"background-color:white\">9.0</td><td style=\"background-color:white\"></td><td style=\"background-color:white\">5.0</td><td style=\"background-color:white\">4.0</td><td style=\"background-color:white\">16.0</td></tr>\n",
       "<tr><td style=\"background-color:lightgrey\">6</td><td style=\"background-color:white\">45111.0</td><td style=\"background-color:white\"></td><td style=\"background-color:white\">4.0</td><td style=\"background-color:white\">1.0</td><td style=\"background-color:white\">1.0</td><td style=\"background-color:white\"></td><td style=\"background-color:white\">6.0</td><td style=\"background-color:white\">24.0</td><td style=\"background-color:white\">31.0</td></tr>\n",
       "<tr><td style=\"background-color:lightgrey\">7</td><td style=\"background-color:white\">45112.0</td><td style=\"background-color:white\"></td><td style=\"background-color:white\">5.0</td><td style=\"background-color:white\">21.0</td><td style=\"background-color:white\">1.0</td><td style=\"background-color:white\"></td><td style=\"background-color:white\">56.0</td><td style=\"background-color:white\">512.0</td><td style=\"background-color:white\">12.0</td></tr>\n",
       "<tr><td style=\"background-color:lightgrey\">8</td><td style=\"background-color:white\">45113.0</td><td style=\"background-color:white\"></td><td style=\"background-color:white\">5.0</td><td style=\"background-color:white\">21.0</td><td style=\"background-color:white\">12.0</td><td style=\"background-color:white\"></td><td style=\"background-color:white\">3.0</td><td style=\"background-color:white\">5.0</td><td style=\"background-color:white\">7.0</td></tr>\n",
       "\n",
       "                </table>\n",
       "            </body>\n",
       "            <br>\n",
       "        </html>\n",
       "    "
      ],
      "text/plain": [
       "<IPython.core.display.HTML object>"
      ]
     },
     "metadata": {},
     "output_type": "display_data"
    }
   ],
   "source": [
    "from typing import List\n",
    "from datachef import acquire, preview\n",
    "from datachef.direction import right\n",
    "from datachef.output import Column\n",
    "from datachef.selection import XlsSelectable\n",
    "\n",
    "Column.horizontal_condition\n",
    "tables: List[XlsSelectable] = acquire.xls.http(\"https://raw.githubusercontent.com/mikeAdamss/datachef/main/tests/fixtures/xls/within-sample.xls\")\n",
    "table = tables[0]\n",
    "\n",
    "sex = table.excel_ref('D2').expand(right).is_not_blank().label_as(\"Sex\")\n",
    "preview(sex)"
   ]
  },
  {
   "attachments": {},
   "cell_type": "markdown",
   "metadata": {},
   "source": [
    "You'll notice that teh directional relationship to both \"Male\" and \"Female\" varies between `closest:right`, `directly:up` and `closest:left` depending on the observation in question.\n",
    "\n",
    "This scenario is what the within lookup is designed to solve."
   ]
  },
  {
   "attachments": {},
   "cell_type": "markdown",
   "metadata": {},
   "source": [
    "## Within Logic\n",
    "\n",
    "An example `Column` constructor using within is shown below:\n",
    "\n",
    "```\n",
    "Column(sex.finds_observations_within(below, start=left(1), end=right(1)))\n",
    "```\n",
    "\n",
    "This means that the \"sex\" column values find observation **below** itself by scanning **below** looking from 1 column to the left through to one column to the right.\n",
    "\n",
    "To put it another way, the column values \"look\" for observations in the order as indicated by the numbers in parenthesis - (1),(2), (3) etc.\n",
    "\n",
    "|  |  C   | D  | E|\n",
    "|--|------|------|--|\n",
    "|1 |      |      |  |\n",
    "|2 |      | Male |  | \n",
    "|3 | (1)    | (2)    | (3)|\n",
    "| 4| (4)    | (5)    | (6)|\n",
    "| 5| (7)    | (8)    | (9)|\n",
    "\n",
    "etc...\n",
    "\n",
    "You can also change he distance that is scanned as per the below\n",
    "\n",
    "```\n",
    "Column(sex.finds_observations_within(below, start=left(1), end=right(2)))\n",
    "```\n",
    "\n",
    "which would scan for observations as follows\n",
    "\n",
    "|  |  C   | D  | E| F |\n",
    "|--|------|------|--|--|\n",
    "|1 |    |      |  |  |\n",
    "|2 |      | Male |  |  | \n",
    "|3 | (1)    | (2)    | (3)| (4) |\n",
    "| 4| (5)    | (6)    | (7)| (8) |\n",
    "| 5| (9)    | (10)    | (11)|(12)  |\n",
    "\n",
    "Now lets apply this to our example"
   ]
  },
  {
   "cell_type": "code",
   "execution_count": 27,
   "metadata": {},
   "outputs": [
    {
     "data": {
      "text/html": [
       "\n",
       "    <html>\n",
       "        \n",
       "    <style>\n",
       "    table, th, td {\n",
       "        border: 1px solid;\n",
       "    }\n",
       "\n",
       "    table {\n",
       "        border-collapse: collapse;\n",
       "    }\n",
       "\n",
       "    td {\n",
       "        align: center;\n",
       "        border: 1px  black solid !important;\n",
       "        color: black !important;\n",
       "    }\n",
       "\n",
       "    th, td {\n",
       "        padding: 5px;\n",
       "    }\n",
       "\n",
       "    </style>\n",
       "    \n",
       "            <table>\n",
       "                \n",
       "            <tr>\n",
       "                <td style=\"background-color:cyan\">Observations</td>\n",
       "            <tr>\n",
       "        \n",
       "            <tr>\n",
       "                <td style=\"background-color:#99ff99\">Sex</td>\n",
       "            <tr>\n",
       "        \n",
       "            </table>\n",
       "\n",
       "            <body>\n",
       "                <h2>data</h2>\n",
       "                <table>\n",
       "                    <tr><td style=\"background-color:lightgrey\"></td><td style=\"background-color:lightgrey\">A</td><td style=\"background-color:lightgrey\">B</td><td style=\"background-color:lightgrey\">C</td><td style=\"background-color:lightgrey\">D</td><td style=\"background-color:lightgrey\">E</td><td style=\"background-color:lightgrey\">F</td><td style=\"background-color:lightgrey\">G</td><td style=\"background-color:lightgrey\">H</td><td style=\"background-color:lightgrey\">I</td></tr>\n",
       "<tr><td style=\"background-color:lightgrey\">1</td><td style=\"background-color:white\"></td><td style=\"background-color:white\"></td><td style=\"background-color:white\"></td><td style=\"background-color:white\"></td><td style=\"background-color:white\"></td><td style=\"background-color:white\"></td><td style=\"background-color:white\"></td><td style=\"background-color:white\"></td><td style=\"background-color:white\"></td></tr>\n",
       "<tr><td style=\"background-color:lightgrey\">2</td><td style=\"background-color:white\">Date</td><td style=\"background-color:white\"></td><td style=\"background-color:white\"></td><td style=\"background-color:#99ff99\">Male</td><td style=\"background-color:white\"></td><td style=\"background-color:white\"></td><td style=\"background-color:white\"></td><td style=\"background-color:#99ff99\">Female</td><td style=\"background-color:white\"></td></tr>\n",
       "<tr><td style=\"background-color:lightgrey\">3</td><td style=\"background-color:white\">45108.0</td><td style=\"background-color:white\"></td><td style=\"background-color:cyan\">2.0</td><td style=\"background-color:cyan\">3.0</td><td style=\"background-color:cyan\">23.0</td><td style=\"background-color:white\"></td><td style=\"background-color:cyan\">4.0</td><td style=\"background-color:cyan\">12.0</td><td style=\"background-color:cyan\">7.0</td></tr>\n",
       "<tr><td style=\"background-color:lightgrey\">4</td><td style=\"background-color:white\">45109.0</td><td style=\"background-color:white\"></td><td style=\"background-color:cyan\">1.0</td><td style=\"background-color:cyan\">4.0</td><td style=\"background-color:cyan\">12.0</td><td style=\"background-color:white\"></td><td style=\"background-color:cyan\">23.0</td><td style=\"background-color:cyan\">24.0</td><td style=\"background-color:cyan\">2.0</td></tr>\n",
       "<tr><td style=\"background-color:lightgrey\">5</td><td style=\"background-color:white\">45110.0</td><td style=\"background-color:white\"></td><td style=\"background-color:cyan\">3.0</td><td style=\"background-color:cyan\">3.0</td><td style=\"background-color:cyan\">9.0</td><td style=\"background-color:white\"></td><td style=\"background-color:cyan\">5.0</td><td style=\"background-color:cyan\">4.0</td><td style=\"background-color:cyan\">16.0</td></tr>\n",
       "<tr><td style=\"background-color:lightgrey\">6</td><td style=\"background-color:white\">45111.0</td><td style=\"background-color:white\"></td><td style=\"background-color:cyan\">4.0</td><td style=\"background-color:cyan\">1.0</td><td style=\"background-color:cyan\">1.0</td><td style=\"background-color:white\"></td><td style=\"background-color:cyan\">6.0</td><td style=\"background-color:cyan\">24.0</td><td style=\"background-color:cyan\">31.0</td></tr>\n",
       "<tr><td style=\"background-color:lightgrey\">7</td><td style=\"background-color:white\">45112.0</td><td style=\"background-color:white\"></td><td style=\"background-color:cyan\">5.0</td><td style=\"background-color:cyan\">21.0</td><td style=\"background-color:cyan\">1.0</td><td style=\"background-color:white\"></td><td style=\"background-color:cyan\">56.0</td><td style=\"background-color:cyan\">512.0</td><td style=\"background-color:cyan\">12.0</td></tr>\n",
       "<tr><td style=\"background-color:lightgrey\">8</td><td style=\"background-color:white\">45113.0</td><td style=\"background-color:white\"></td><td style=\"background-color:cyan\">5.0</td><td style=\"background-color:cyan\">21.0</td><td style=\"background-color:cyan\">12.0</td><td style=\"background-color:white\"></td><td style=\"background-color:cyan\">3.0</td><td style=\"background-color:cyan\">5.0</td><td style=\"background-color:cyan\">7.0</td></tr>\n",
       "\n",
       "                </table>\n",
       "            </body>\n",
       "            <br>\n",
       "        </html>\n",
       "    "
      ],
      "text/plain": [
       "<IPython.core.display.HTML object>"
      ]
     },
     "metadata": {},
     "output_type": "display_data"
    },
    {
     "data": {
      "text/html": [
       "<table>\n",
       "<thead>\n",
       "<tr><th style=\"text-align: right;\">  Observations</th><th>Sex   </th></tr>\n",
       "</thead>\n",
       "<tbody>\n",
       "<tr><td style=\"text-align: right;\">             2</td><td>Male  </td></tr>\n",
       "<tr><td style=\"text-align: right;\">             3</td><td>Male  </td></tr>\n",
       "<tr><td style=\"text-align: right;\">            23</td><td>Male  </td></tr>\n",
       "<tr><td style=\"text-align: right;\">             4</td><td>Female</td></tr>\n",
       "<tr><td style=\"text-align: right;\">            12</td><td>Female</td></tr>\n",
       "<tr><td style=\"text-align: right;\">             7</td><td>Female</td></tr>\n",
       "<tr><td style=\"text-align: right;\">             1</td><td>Male  </td></tr>\n",
       "<tr><td style=\"text-align: right;\">             3</td><td>Male  </td></tr>\n",
       "<tr><td style=\"text-align: right;\">             4</td><td>Male  </td></tr>\n",
       "<tr><td style=\"text-align: right;\">             5</td><td>Male  </td></tr>\n",
       "<tr><td style=\"text-align: right;\">             5</td><td>Male  </td></tr>\n",
       "<tr><td style=\"text-align: right;\">             4</td><td>Male  </td></tr>\n",
       "<tr><td style=\"text-align: right;\">             3</td><td>Male  </td></tr>\n",
       "<tr><td style=\"text-align: right;\">             1</td><td>Male  </td></tr>\n",
       "<tr><td style=\"text-align: right;\">            21</td><td>Male  </td></tr>\n",
       "<tr><td style=\"text-align: right;\">            21</td><td>Male  </td></tr>\n",
       "<tr><td style=\"text-align: right;\">            12</td><td>Male  </td></tr>\n",
       "<tr><td style=\"text-align: right;\">             9</td><td>Male  </td></tr>\n",
       "<tr><td style=\"text-align: right;\">             1</td><td>Male  </td></tr>\n",
       "<tr><td style=\"text-align: right;\">             1</td><td>Male  </td></tr>\n",
       "<tr><td style=\"text-align: right;\">            12</td><td>Male  </td></tr>\n",
       "<tr><td style=\"text-align: right;\">            23</td><td>Female</td></tr>\n",
       "<tr><td style=\"text-align: right;\">             5</td><td>Female</td></tr>\n",
       "<tr><td style=\"text-align: right;\">             6</td><td>Female</td></tr>\n",
       "<tr><td style=\"text-align: right;\">            56</td><td>Female</td></tr>\n",
       "<tr><td style=\"text-align: right;\">             3</td><td>Female</td></tr>\n",
       "<tr><td style=\"text-align: right;\">            24</td><td>Female</td></tr>\n",
       "<tr><td style=\"text-align: right;\">             4</td><td>Female</td></tr>\n",
       "<tr><td style=\"text-align: right;\">            24</td><td>Female</td></tr>\n",
       "<tr><td style=\"text-align: right;\">           512</td><td>Female</td></tr>\n",
       "<tr><td style=\"text-align: right;\">             5</td><td>Female</td></tr>\n",
       "<tr><td style=\"text-align: right;\">             2</td><td>Female</td></tr>\n",
       "<tr><td style=\"text-align: right;\">            16</td><td>Female</td></tr>\n",
       "<tr><td style=\"text-align: right;\">            31</td><td>Female</td></tr>\n",
       "<tr><td style=\"text-align: right;\">            12</td><td>Female</td></tr>\n",
       "<tr><td style=\"text-align: right;\">             7</td><td>Female</td></tr>\n",
       "</tbody>\n",
       "</table>"
      ],
      "text/plain": [
       "'<table>\\n<thead>\\n<tr><th style=\"text-align: right;\">  Observations</th><th>Sex   </th></tr>\\n</thead>\\n<tbody>\\n<tr><td style=\"text-align: right;\">             2</td><td>Male  </td></tr>\\n<tr><td style=\"text-align: right;\">             3</td><td>Male  </td></tr>\\n<tr><td style=\"text-align: right;\">            23</td><td>Male  </td></tr>\\n<tr><td style=\"text-align: right;\">             4</td><td>Female</td></tr>\\n<tr><td style=\"text-align: right;\">            12</td><td>Female</td></tr>\\n<tr><td style=\"text-align: right;\">             7</td><td>Female</td></tr>\\n<tr><td style=\"text-align: right;\">             1</td><td>Male  </td></tr>\\n<tr><td style=\"text-align: right;\">             3</td><td>Male  </td></tr>\\n<tr><td style=\"text-align: right;\">             4</td><td>Male  </td></tr>\\n<tr><td style=\"text-align: right;\">             5</td><td>Male  </td></tr>\\n<tr><td style=\"text-align: right;\">             5</td><td>Male  </td></tr>\\n<tr><td style=\"text-align: right;\">             4</td><td>Male  </td></tr>\\n<tr><td style=\"text-align: right;\">             3</td><td>Male  </td></tr>\\n<tr><td style=\"text-align: right;\">             1</td><td>Male  </td></tr>\\n<tr><td style=\"text-align: right;\">            21</td><td>Male  </td></tr>\\n<tr><td style=\"text-align: right;\">            21</td><td>Male  </td></tr>\\n<tr><td style=\"text-align: right;\">            12</td><td>Male  </td></tr>\\n<tr><td style=\"text-align: right;\">             9</td><td>Male  </td></tr>\\n<tr><td style=\"text-align: right;\">             1</td><td>Male  </td></tr>\\n<tr><td style=\"text-align: right;\">             1</td><td>Male  </td></tr>\\n<tr><td style=\"text-align: right;\">            12</td><td>Male  </td></tr>\\n<tr><td style=\"text-align: right;\">            23</td><td>Female</td></tr>\\n<tr><td style=\"text-align: right;\">             5</td><td>Female</td></tr>\\n<tr><td style=\"text-align: right;\">             6</td><td>Female</td></tr>\\n<tr><td style=\"text-align: right;\">            56</td><td>Female</td></tr>\\n<tr><td style=\"text-align: right;\">             3</td><td>Female</td></tr>\\n<tr><td style=\"text-align: right;\">            24</td><td>Female</td></tr>\\n<tr><td style=\"text-align: right;\">             4</td><td>Female</td></tr>\\n<tr><td style=\"text-align: right;\">            24</td><td>Female</td></tr>\\n<tr><td style=\"text-align: right;\">           512</td><td>Female</td></tr>\\n<tr><td style=\"text-align: right;\">             5</td><td>Female</td></tr>\\n<tr><td style=\"text-align: right;\">             2</td><td>Female</td></tr>\\n<tr><td style=\"text-align: right;\">            16</td><td>Female</td></tr>\\n<tr><td style=\"text-align: right;\">            31</td><td>Female</td></tr>\\n<tr><td style=\"text-align: right;\">            12</td><td>Female</td></tr>\\n<tr><td style=\"text-align: right;\">             7</td><td>Female</td></tr>\\n</tbody>\\n</table>'"
      ]
     },
     "metadata": {},
     "output_type": "display_data"
    },
    {
     "name": "stdout",
     "output_type": "stream",
     "text": [
      "\n"
     ]
    }
   ],
   "source": [
    "from typing import List\n",
    "from datachef import acquire, preview\n",
    "from datachef.direction import right, down, left\n",
    "from datachef.output import Column, TidyData\n",
    "from datachef.selection import XlsSelectable\n",
    "\n",
    "tables: List[XlsSelectable] = acquire.xls.http(\"https://raw.githubusercontent.com/mikeAdamss/datachef/main/tests/fixtures/xls/within-sample.xls\")\n",
    "table = tables[0]\n",
    "\n",
    "observations = table.excel_ref('C3').expand(right).expand(down).is_not_blank().label_as(\"Observations\")\n",
    "sex = table.excel_ref('D2').expand(right).is_not_blank().label_as(\"Sex\")\n",
    "preview(observations, sex)\n",
    "\n",
    "tidy_data = TidyData(\n",
    "    observations,\n",
    "    Column(sex.finds_observations_within(down, start=left(1), end=right(1)))\n",
    ")\n",
    "print(tidy_data)"
   ]
  },
  {
   "attachments": {},
   "cell_type": "markdown",
   "metadata": {},
   "source": [
    "## Within: Understanding Direction Of Traversal\n",
    "\n",
    "the direction of traversal depends entirely on the `start` and `end` keyword argument, i.e:\n",
    "\n",
    "`down, start=left(1), end=right(1)` is scanning from left to right, so considers cells in the following order:\n",
    "\n",
    "|  |  C   | D  | E|\n",
    "|--|------|------|--|\n",
    "|1 |      |      |  |\n",
    "|2 |      | Male |  | \n",
    "|3 | (1)    | (2)    | (3)|\n",
    "| 4| (4)    | (5)    | (6)|\n",
    "| 5| (7)    | (8)    | (9)|\n",
    "\n",
    "`down, start=right(1), end=left(1)` is scanning from right to left, so the order is:\n",
    "\n",
    "|  |  C   | D  | E|\n",
    "|--|------|------|--|\n",
    "|1 |      |      |  |\n",
    "|2 |      | Male |  | \n",
    "|3 | (3)    | (2)    | (1)|\n",
    "| 4| (6)    | (5)    | (4)|\n",
    "| 5| (9)    | (8)    | (7)|\n",
    "\n",
    "The order of traversal doesn't matter in our example scenario here but there **are** scenarios in more complex data where it will.\n",
    "\n",
    "Remember - each column value is resolved exactly **once** per observation, controlling the order of consideration gives you control where _more than one column value could potentially be resolved for a given observation_.\n",
    "\n",
    "In simplest terms **the order of traversal controls priority**.\n",
    "\n",
    "Consider the following data:"
   ]
  },
  {
   "cell_type": "code",
   "execution_count": 28,
   "metadata": {},
   "outputs": [
    {
     "data": {
      "text/html": [
       "\n",
       "    <html>\n",
       "        \n",
       "    <style>\n",
       "    table, th, td {\n",
       "        border: 1px solid;\n",
       "    }\n",
       "\n",
       "    table {\n",
       "        border-collapse: collapse;\n",
       "    }\n",
       "\n",
       "    td {\n",
       "        align: center;\n",
       "        border: 1px  black solid !important;\n",
       "        color: black !important;\n",
       "    }\n",
       "\n",
       "    th, td {\n",
       "        padding: 5px;\n",
       "    }\n",
       "\n",
       "    </style>\n",
       "    \n",
       "            <table>\n",
       "                \n",
       "            </table>\n",
       "\n",
       "            <body>\n",
       "                <h2>Unnamed Table</h2>\n",
       "                <table>\n",
       "                    <tr><td style=\"background-color:lightgrey\"></td><td style=\"background-color:lightgrey\">A</td><td style=\"background-color:lightgrey\">B</td><td style=\"background-color:lightgrey\">C</td><td style=\"background-color:lightgrey\">D</td><td style=\"background-color:lightgrey\">E</td><td style=\"background-color:lightgrey\">F</td><td style=\"background-color:lightgrey\">G</td></tr>\n",
       "<tr><td style=\"background-color:lightgrey\">1</td><td style=\"background-color:white\">Both</td><td style=\"background-color:white\"></td><td style=\"background-color:white\">Male</td><td style=\"background-color:white\"></td><td style=\"background-color:white\"></td><td style=\"background-color:white\">Female</td><td style=\"background-color:white\"></td></tr>\n",
       "<tr><td style=\"background-color:lightgrey\">2</td><td style=\"background-color:white\">-</td><td style=\"background-color:white\">Retired</td><td style=\"background-color:white\">Working Age</td><td style=\"background-color:white\">Child</td><td style=\"background-color:white\">Retired</td><td style=\"background-color:white\">Working Age</td><td style=\"background-color:white\">Child</td></tr>\n",
       "<tr><td style=\"background-color:lightgrey\">3</td><td style=\"background-color:white\">13</td><td style=\"background-color:white\">3</td><td style=\"background-color:white\">1</td><td style=\"background-color:white\">4</td><td style=\"background-color:white\">2</td><td style=\"background-color:white\">1</td><td style=\"background-color:white\">2</td></tr>\n",
       "<tr><td style=\"background-color:lightgrey\">4</td><td style=\"background-color:white\">19</td><td style=\"background-color:white\">3</td><td style=\"background-color:white\">3</td><td style=\"background-color:white\">5</td><td style=\"background-color:white\">3</td><td style=\"background-color:white\">4</td><td style=\"background-color:white\">1</td></tr>\n",
       "<tr><td style=\"background-color:lightgrey\">5</td><td style=\"background-color:white\">27</td><td style=\"background-color:white\">2</td><td style=\"background-color:white\">4</td><td style=\"background-color:white\">6</td><td style=\"background-color:white\">4</td><td style=\"background-color:white\">3</td><td style=\"background-color:white\">4</td></tr>\n",
       "<tr><td style=\"background-color:lightgrey\">6</td><td style=\"background-color:white\"></td><td style=\"background-color:white\"></td><td style=\"background-color:white\"></td><td style=\"background-color:white\"></td><td style=\"background-color:white\"></td><td style=\"background-color:white\"></td><td style=\"background-color:white\"></td></tr>\n",
       "\n",
       "                </table>\n",
       "            </body>\n",
       "            <br>\n",
       "        </html>\n",
       "    "
      ],
      "text/plain": [
       "<IPython.core.display.HTML object>"
      ]
     },
     "metadata": {},
     "output_type": "display_data"
    }
   ],
   "source": [
    "from datachef import acquire, filters\n",
    "from datachef.selection import Selectable\n",
    "\n",
    "# Note acquire.python.list_of_lists is a constructor that takes a python object\n",
    "# it's intended purely for testing and/or quickly mocking up tabulated data\n",
    "table: Selectable = acquire.python.list_of_lists(\n",
    "    [\n",
    "        [\"Both\", \"\", \"Male\", \"\", \"\", \"Female\", \"\"],\n",
    "        [\"-\", \"Retired\", \"Working Age\", \"Child\", \"Retired\", \"Working Age\", \"Child\"],\n",
    "        [\"13\", \"3\", \"1\", \"4\", \"2\", \"1\", \"2\"],\n",
    "        [\"19\", \"3\", \"3\", \"5\", \"3\", \"4\", \"1\"],\n",
    "        [\"27\", \"2\", \"4\", \"6\", \"4\", \"3\", \"4\"],\n",
    "        [\"\", \"\", \"\", \"\", \"\", \"\", \"\"],\n",
    "    ]\n",
    ")\n",
    "\n",
    "preview(table)"
   ]
  },
  {
   "attachments": {},
   "cell_type": "markdown",
   "metadata": {},
   "source": [
    "Now lets try extracting it with `start=left(1), end=right(1)`"
   ]
  },
  {
   "cell_type": "code",
   "execution_count": 29,
   "metadata": {},
   "outputs": [
    {
     "data": {
      "text/html": [
       "\n",
       "    <html>\n",
       "        \n",
       "    <style>\n",
       "    table, th, td {\n",
       "        border: 1px solid;\n",
       "    }\n",
       "\n",
       "    table {\n",
       "        border-collapse: collapse;\n",
       "    }\n",
       "\n",
       "    td {\n",
       "        align: center;\n",
       "        border: 1px  black solid !important;\n",
       "        color: black !important;\n",
       "    }\n",
       "\n",
       "    th, td {\n",
       "        padding: 5px;\n",
       "    }\n",
       "\n",
       "    </style>\n",
       "    \n",
       "            <table>\n",
       "                \n",
       "            <tr>\n",
       "                <td style=\"background-color:cyan\">Observations</td>\n",
       "            <tr>\n",
       "        \n",
       "            <tr>\n",
       "                <td style=\"background-color:#99ff99\">Sex</td>\n",
       "            <tr>\n",
       "        \n",
       "            </table>\n",
       "\n",
       "            <body>\n",
       "                <h2>Unnamed Table</h2>\n",
       "                <table>\n",
       "                    <tr><td style=\"background-color:lightgrey\"></td><td style=\"background-color:lightgrey\">A</td><td style=\"background-color:lightgrey\">B</td><td style=\"background-color:lightgrey\">C</td><td style=\"background-color:lightgrey\">D</td><td style=\"background-color:lightgrey\">E</td><td style=\"background-color:lightgrey\">F</td><td style=\"background-color:lightgrey\">G</td></tr>\n",
       "<tr><td style=\"background-color:lightgrey\">1</td><td style=\"background-color:#99ff99\">Both</td><td style=\"background-color:white\"></td><td style=\"background-color:#99ff99\">Male</td><td style=\"background-color:white\"></td><td style=\"background-color:white\"></td><td style=\"background-color:#99ff99\">Female</td><td style=\"background-color:white\"></td></tr>\n",
       "<tr><td style=\"background-color:lightgrey\">2</td><td style=\"background-color:white\">-</td><td style=\"background-color:white\">Retired</td><td style=\"background-color:white\">Working Age</td><td style=\"background-color:white\">Child</td><td style=\"background-color:white\">Retired</td><td style=\"background-color:white\">Working Age</td><td style=\"background-color:white\">Child</td></tr>\n",
       "<tr><td style=\"background-color:lightgrey\">3</td><td style=\"background-color:cyan\">13</td><td style=\"background-color:cyan\">3</td><td style=\"background-color:cyan\">1</td><td style=\"background-color:cyan\">4</td><td style=\"background-color:cyan\">2</td><td style=\"background-color:cyan\">1</td><td style=\"background-color:cyan\">2</td></tr>\n",
       "<tr><td style=\"background-color:lightgrey\">4</td><td style=\"background-color:cyan\">19</td><td style=\"background-color:cyan\">3</td><td style=\"background-color:cyan\">3</td><td style=\"background-color:cyan\">5</td><td style=\"background-color:cyan\">3</td><td style=\"background-color:cyan\">4</td><td style=\"background-color:cyan\">1</td></tr>\n",
       "<tr><td style=\"background-color:lightgrey\">5</td><td style=\"background-color:cyan\">27</td><td style=\"background-color:cyan\">2</td><td style=\"background-color:cyan\">4</td><td style=\"background-color:cyan\">6</td><td style=\"background-color:cyan\">4</td><td style=\"background-color:cyan\">3</td><td style=\"background-color:cyan\">4</td></tr>\n",
       "<tr><td style=\"background-color:lightgrey\">6</td><td style=\"background-color:white\"></td><td style=\"background-color:white\"></td><td style=\"background-color:white\"></td><td style=\"background-color:white\"></td><td style=\"background-color:white\"></td><td style=\"background-color:white\"></td><td style=\"background-color:white\"></td></tr>\n",
       "\n",
       "                </table>\n",
       "            </body>\n",
       "            <br>\n",
       "        </html>\n",
       "    "
      ],
      "text/plain": [
       "<IPython.core.display.HTML object>"
      ]
     },
     "metadata": {},
     "output_type": "display_data"
    },
    {
     "data": {
      "text/html": [
       "<table>\n",
       "<thead>\n",
       "<tr><th style=\"text-align: right;\">  Observations</th><th>Sex   </th></tr>\n",
       "</thead>\n",
       "<tbody>\n",
       "<tr><td style=\"text-align: right;\">            13</td><td>Both  </td></tr>\n",
       "<tr><td style=\"text-align: right;\">             3</td><td>Both  </td></tr>\n",
       "<tr><td style=\"text-align: right;\">             1</td><td>Male  </td></tr>\n",
       "<tr><td style=\"text-align: right;\">             4</td><td>Male  </td></tr>\n",
       "<tr><td style=\"text-align: right;\">             2</td><td>Female</td></tr>\n",
       "<tr><td style=\"text-align: right;\">             1</td><td>Female</td></tr>\n",
       "<tr><td style=\"text-align: right;\">             2</td><td>Female</td></tr>\n",
       "<tr><td style=\"text-align: right;\">            19</td><td>Both  </td></tr>\n",
       "<tr><td style=\"text-align: right;\">             3</td><td>Both  </td></tr>\n",
       "<tr><td style=\"text-align: right;\">             3</td><td>Male  </td></tr>\n",
       "<tr><td style=\"text-align: right;\">             5</td><td>Male  </td></tr>\n",
       "<tr><td style=\"text-align: right;\">             3</td><td>Female</td></tr>\n",
       "<tr><td style=\"text-align: right;\">             4</td><td>Female</td></tr>\n",
       "<tr><td style=\"text-align: right;\">             1</td><td>Female</td></tr>\n",
       "<tr><td style=\"text-align: right;\">            27</td><td>Both  </td></tr>\n",
       "<tr><td style=\"text-align: right;\">             2</td><td>Both  </td></tr>\n",
       "<tr><td style=\"text-align: right;\">             4</td><td>Male  </td></tr>\n",
       "<tr><td style=\"text-align: right;\">             6</td><td>Male  </td></tr>\n",
       "<tr><td style=\"text-align: right;\">             4</td><td>Female</td></tr>\n",
       "<tr><td style=\"text-align: right;\">             3</td><td>Female</td></tr>\n",
       "<tr><td style=\"text-align: right;\">             4</td><td>Female</td></tr>\n",
       "</tbody>\n",
       "</table>"
      ],
      "text/plain": [
       "'<table>\\n<thead>\\n<tr><th style=\"text-align: right;\">  Observations</th><th>Sex   </th></tr>\\n</thead>\\n<tbody>\\n<tr><td style=\"text-align: right;\">            13</td><td>Both  </td></tr>\\n<tr><td style=\"text-align: right;\">             3</td><td>Both  </td></tr>\\n<tr><td style=\"text-align: right;\">             1</td><td>Male  </td></tr>\\n<tr><td style=\"text-align: right;\">             4</td><td>Male  </td></tr>\\n<tr><td style=\"text-align: right;\">             2</td><td>Female</td></tr>\\n<tr><td style=\"text-align: right;\">             1</td><td>Female</td></tr>\\n<tr><td style=\"text-align: right;\">             2</td><td>Female</td></tr>\\n<tr><td style=\"text-align: right;\">            19</td><td>Both  </td></tr>\\n<tr><td style=\"text-align: right;\">             3</td><td>Both  </td></tr>\\n<tr><td style=\"text-align: right;\">             3</td><td>Male  </td></tr>\\n<tr><td style=\"text-align: right;\">             5</td><td>Male  </td></tr>\\n<tr><td style=\"text-align: right;\">             3</td><td>Female</td></tr>\\n<tr><td style=\"text-align: right;\">             4</td><td>Female</td></tr>\\n<tr><td style=\"text-align: right;\">             1</td><td>Female</td></tr>\\n<tr><td style=\"text-align: right;\">            27</td><td>Both  </td></tr>\\n<tr><td style=\"text-align: right;\">             2</td><td>Both  </td></tr>\\n<tr><td style=\"text-align: right;\">             4</td><td>Male  </td></tr>\\n<tr><td style=\"text-align: right;\">             6</td><td>Male  </td></tr>\\n<tr><td style=\"text-align: right;\">             4</td><td>Female</td></tr>\\n<tr><td style=\"text-align: right;\">             3</td><td>Female</td></tr>\\n<tr><td style=\"text-align: right;\">             4</td><td>Female</td></tr>\\n</tbody>\\n</table>'"
      ]
     },
     "metadata": {},
     "output_type": "display_data"
    },
    {
     "name": "stdout",
     "output_type": "stream",
     "text": [
      "\n"
     ]
    }
   ],
   "source": [
    "observations = table.filter(filters.is_numeric).label_as(\"Observations\")\n",
    "sex = table.excel_ref(\"1\").is_not_blank().label_as(\"Sex\")\n",
    "preview(observations, sex)\n",
    "\n",
    "tidy_data = TidyData(\n",
    "    observations,\n",
    "    Column(sex.finds_observations_within(down, start=right(1), end=left(1)))\n",
    ")\n",
    "\n",
    "print(tidy_data)\n"
   ]
  },
  {
   "attachments": {},
   "cell_type": "markdown",
   "metadata": {},
   "source": [
    "| <span style=\"color:ed\">Notice the values for \"Both\"! These include the leftmost values that should be categorised as Male.</span>|\n",
    "|-----------------------------------------|\n",
    "\n",
    "This is purely **a result of direction of travel**. The observation cells are considered right->centre->left to resolve the correct column value.\n",
    "\n",
    "As an example: cell B3 (value \"3\") resolves to \"Both\" as its **right** of \"Both\" and **left** of \"Male\" but **right** is the priority, a la right->center->left.\n",
    "\n",
    "Instead, lets define our within relationship with the opposite direction of travel so the obs are resolved left->center->right compared to the column values."
   ]
  },
  {
   "cell_type": "code",
   "execution_count": 30,
   "metadata": {},
   "outputs": [
    {
     "data": {
      "text/html": [
       "\n",
       "    <html>\n",
       "        \n",
       "    <style>\n",
       "    table, th, td {\n",
       "        border: 1px solid;\n",
       "    }\n",
       "\n",
       "    table {\n",
       "        border-collapse: collapse;\n",
       "    }\n",
       "\n",
       "    td {\n",
       "        align: center;\n",
       "        border: 1px  black solid !important;\n",
       "        color: black !important;\n",
       "    }\n",
       "\n",
       "    th, td {\n",
       "        padding: 5px;\n",
       "    }\n",
       "\n",
       "    </style>\n",
       "    \n",
       "            <table>\n",
       "                \n",
       "            <tr>\n",
       "                <td style=\"background-color:cyan\">Observations</td>\n",
       "            <tr>\n",
       "        \n",
       "            <tr>\n",
       "                <td style=\"background-color:#99ff99\">Sex</td>\n",
       "            <tr>\n",
       "        \n",
       "            </table>\n",
       "\n",
       "            <body>\n",
       "                <h2>Unnamed Table</h2>\n",
       "                <table>\n",
       "                    <tr><td style=\"background-color:lightgrey\"></td><td style=\"background-color:lightgrey\">A</td><td style=\"background-color:lightgrey\">B</td><td style=\"background-color:lightgrey\">C</td><td style=\"background-color:lightgrey\">D</td><td style=\"background-color:lightgrey\">E</td><td style=\"background-color:lightgrey\">F</td><td style=\"background-color:lightgrey\">G</td></tr>\n",
       "<tr><td style=\"background-color:lightgrey\">1</td><td style=\"background-color:#99ff99\">Both</td><td style=\"background-color:white\"></td><td style=\"background-color:#99ff99\">Male</td><td style=\"background-color:white\"></td><td style=\"background-color:white\"></td><td style=\"background-color:#99ff99\">Female</td><td style=\"background-color:white\"></td></tr>\n",
       "<tr><td style=\"background-color:lightgrey\">2</td><td style=\"background-color:white\">-</td><td style=\"background-color:white\">Retired</td><td style=\"background-color:white\">Working Age</td><td style=\"background-color:white\">Child</td><td style=\"background-color:white\">Retired</td><td style=\"background-color:white\">Working Age</td><td style=\"background-color:white\">Child</td></tr>\n",
       "<tr><td style=\"background-color:lightgrey\">3</td><td style=\"background-color:cyan\">13</td><td style=\"background-color:cyan\">3</td><td style=\"background-color:cyan\">1</td><td style=\"background-color:cyan\">4</td><td style=\"background-color:cyan\">2</td><td style=\"background-color:cyan\">1</td><td style=\"background-color:cyan\">2</td></tr>\n",
       "<tr><td style=\"background-color:lightgrey\">4</td><td style=\"background-color:cyan\">19</td><td style=\"background-color:cyan\">3</td><td style=\"background-color:cyan\">3</td><td style=\"background-color:cyan\">5</td><td style=\"background-color:cyan\">3</td><td style=\"background-color:cyan\">4</td><td style=\"background-color:cyan\">1</td></tr>\n",
       "<tr><td style=\"background-color:lightgrey\">5</td><td style=\"background-color:cyan\">27</td><td style=\"background-color:cyan\">2</td><td style=\"background-color:cyan\">4</td><td style=\"background-color:cyan\">6</td><td style=\"background-color:cyan\">4</td><td style=\"background-color:cyan\">3</td><td style=\"background-color:cyan\">4</td></tr>\n",
       "<tr><td style=\"background-color:lightgrey\">6</td><td style=\"background-color:white\"></td><td style=\"background-color:white\"></td><td style=\"background-color:white\"></td><td style=\"background-color:white\"></td><td style=\"background-color:white\"></td><td style=\"background-color:white\"></td><td style=\"background-color:white\"></td></tr>\n",
       "\n",
       "                </table>\n",
       "            </body>\n",
       "            <br>\n",
       "        </html>\n",
       "    "
      ],
      "text/plain": [
       "<IPython.core.display.HTML object>"
      ]
     },
     "metadata": {},
     "output_type": "display_data"
    },
    {
     "data": {
      "text/html": [
       "<table>\n",
       "<thead>\n",
       "<tr><th style=\"text-align: right;\">  Observations</th><th>Sex   </th></tr>\n",
       "</thead>\n",
       "<tbody>\n",
       "<tr><td style=\"text-align: right;\">            13</td><td>Both  </td></tr>\n",
       "<tr><td style=\"text-align: right;\">             3</td><td>Male  </td></tr>\n",
       "<tr><td style=\"text-align: right;\">             1</td><td>Male  </td></tr>\n",
       "<tr><td style=\"text-align: right;\">             4</td><td>Male  </td></tr>\n",
       "<tr><td style=\"text-align: right;\">             2</td><td>Female</td></tr>\n",
       "<tr><td style=\"text-align: right;\">             1</td><td>Female</td></tr>\n",
       "<tr><td style=\"text-align: right;\">             2</td><td>Female</td></tr>\n",
       "<tr><td style=\"text-align: right;\">            19</td><td>Both  </td></tr>\n",
       "<tr><td style=\"text-align: right;\">             3</td><td>Male  </td></tr>\n",
       "<tr><td style=\"text-align: right;\">             3</td><td>Male  </td></tr>\n",
       "<tr><td style=\"text-align: right;\">             5</td><td>Male  </td></tr>\n",
       "<tr><td style=\"text-align: right;\">             3</td><td>Female</td></tr>\n",
       "<tr><td style=\"text-align: right;\">             4</td><td>Female</td></tr>\n",
       "<tr><td style=\"text-align: right;\">             1</td><td>Female</td></tr>\n",
       "<tr><td style=\"text-align: right;\">            27</td><td>Both  </td></tr>\n",
       "<tr><td style=\"text-align: right;\">             2</td><td>Male  </td></tr>\n",
       "<tr><td style=\"text-align: right;\">             4</td><td>Male  </td></tr>\n",
       "<tr><td style=\"text-align: right;\">             6</td><td>Male  </td></tr>\n",
       "<tr><td style=\"text-align: right;\">             4</td><td>Female</td></tr>\n",
       "<tr><td style=\"text-align: right;\">             3</td><td>Female</td></tr>\n",
       "<tr><td style=\"text-align: right;\">             4</td><td>Female</td></tr>\n",
       "</tbody>\n",
       "</table>"
      ],
      "text/plain": [
       "'<table>\\n<thead>\\n<tr><th style=\"text-align: right;\">  Observations</th><th>Sex   </th></tr>\\n</thead>\\n<tbody>\\n<tr><td style=\"text-align: right;\">            13</td><td>Both  </td></tr>\\n<tr><td style=\"text-align: right;\">             3</td><td>Male  </td></tr>\\n<tr><td style=\"text-align: right;\">             1</td><td>Male  </td></tr>\\n<tr><td style=\"text-align: right;\">             4</td><td>Male  </td></tr>\\n<tr><td style=\"text-align: right;\">             2</td><td>Female</td></tr>\\n<tr><td style=\"text-align: right;\">             1</td><td>Female</td></tr>\\n<tr><td style=\"text-align: right;\">             2</td><td>Female</td></tr>\\n<tr><td style=\"text-align: right;\">            19</td><td>Both  </td></tr>\\n<tr><td style=\"text-align: right;\">             3</td><td>Male  </td></tr>\\n<tr><td style=\"text-align: right;\">             3</td><td>Male  </td></tr>\\n<tr><td style=\"text-align: right;\">             5</td><td>Male  </td></tr>\\n<tr><td style=\"text-align: right;\">             3</td><td>Female</td></tr>\\n<tr><td style=\"text-align: right;\">             4</td><td>Female</td></tr>\\n<tr><td style=\"text-align: right;\">             1</td><td>Female</td></tr>\\n<tr><td style=\"text-align: right;\">            27</td><td>Both  </td></tr>\\n<tr><td style=\"text-align: right;\">             2</td><td>Male  </td></tr>\\n<tr><td style=\"text-align: right;\">             4</td><td>Male  </td></tr>\\n<tr><td style=\"text-align: right;\">             6</td><td>Male  </td></tr>\\n<tr><td style=\"text-align: right;\">             4</td><td>Female</td></tr>\\n<tr><td style=\"text-align: right;\">             3</td><td>Female</td></tr>\\n<tr><td style=\"text-align: right;\">             4</td><td>Female</td></tr>\\n</tbody>\\n</table>'"
      ]
     },
     "metadata": {},
     "output_type": "display_data"
    },
    {
     "name": "stdout",
     "output_type": "stream",
     "text": [
      "\n"
     ]
    }
   ],
   "source": [
    "preview(observations, sex)\n",
    "\n",
    "tidy_data = TidyData(\n",
    "    observations,\n",
    "    Column(sex.finds_observations_within(down, start=left(1), end=right(1)))\n",
    ")\n",
    "\n",
    "print(tidy_data)"
   ]
  },
  {
   "attachments": {},
   "cell_type": "markdown",
   "metadata": {},
   "source": [
    "And so we get the extraction we wanted."
   ]
  }
 ],
 "metadata": {
  "kernelspec": {
   "display_name": "datachef-hNSMaw3h-py3.9",
   "language": "python",
   "name": "python3"
  },
  "language_info": {
   "codemirror_mode": {
    "name": "ipython",
    "version": 3
   },
   "file_extension": ".py",
   "mimetype": "text/x-python",
   "name": "python",
   "nbconvert_exporter": "python",
   "pygments_lexer": "ipython3",
   "version": "3.9.7"
  },
  "orig_nbformat": 4
 },
 "nbformat": 4,
 "nbformat_minor": 2
}
