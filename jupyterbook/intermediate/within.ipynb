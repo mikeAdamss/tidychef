{
 "cells": [
  {
   "attachments": {},
   "cell_type": "markdown",
   "metadata": {},
   "source": [
    "# TidyData: Within\n",
    "\n",
    "Here we document how to create a within relationship between the values of a column and observations.\n",
    "\n",
    "The purpose of within is to allow you to extract data where the visual relationship to a single column varies depending on the observation in question."
   ]
  },
  {
   "attachments": {},
   "cell_type": "markdown",
   "metadata": {},
   "source": [
    "## Source Data\n",
    "\n",
    "The data source we're using for these examples is shown below:\n",
    "\n",
    "| <span style=\"color:green\">Note - this particular table has some very verbose headers we don't care about, so we'll be using `bounded=` to remove them from the previews as well as to show just the subset of data we're working with.</span>|\n",
    "|-----------------------------------------|\n",
    "\n",
    "The [full data source can be downloaded here](https://github.com/mikeAdamss/datachef/raw/main/tests/fixtures/xls/within_sample.xls)."
   ]
  },
  {
   "cell_type": "code",
   "execution_count": 3,
   "metadata": {},
   "outputs": [
    {
     "ename": "HTTPError",
     "evalue": "\n                Unable to get url: https://raw.githubusercontent.com/mikeAdamss/datachef/main/tests/fixtures/xls/within-sample.xls\n                <Response [404]>\n                ",
     "output_type": "error",
     "traceback": [
      "\u001b[0;31m---------------------------------------------------------------------------\u001b[0m",
      "\u001b[0;31mHTTPError\u001b[0m                                 Traceback (most recent call last)",
      "Cell \u001b[0;32mIn[3], line 5\u001b[0m\n\u001b[1;32m      2\u001b[0m \u001b[39mfrom\u001b[39;00m \u001b[39mdatachef\u001b[39;00m \u001b[39mimport\u001b[39;00m acquire, preview, XlsSelectable, Column\n\u001b[1;32m      4\u001b[0m Column\u001b[39m.\u001b[39mhorizontal_condition\n\u001b[0;32m----> 5\u001b[0m tables: List[XlsSelectable] \u001b[39m=\u001b[39m acquire\u001b[39m.\u001b[39;49mxls\u001b[39m.\u001b[39;49mhttp(\u001b[39m\"\u001b[39;49m\u001b[39mhttps://raw.githubusercontent.com/mikeAdamss/datachef/main/tests/fixtures/xls/within-sample.xls\u001b[39;49m\u001b[39m\"\u001b[39;49m)\n\u001b[1;32m      6\u001b[0m table \u001b[39m=\u001b[39m tables[\u001b[39m0\u001b[39m]\n\u001b[1;32m      8\u001b[0m preview(table)\n",
      "File \u001b[0;32m~/code/mikeAdamss/datachef/datachef/acquire/xls/http_implemented.py:51\u001b[0m, in \u001b[0;36mhttp\u001b[0;34m(source, selectable, pre_hook, post_hook, session, cache, **kwargs)\u001b[0m\n\u001b[1;32m     33\u001b[0m \u001b[39m\u001b[39m\u001b[39m\"\"\"\u001b[39;00m\n\u001b[1;32m     34\u001b[0m \u001b[39mRead data from a Path (or string representing a path)\u001b[39;00m\n\u001b[1;32m     35\u001b[0m \u001b[39mpresent on the same machine where datachef is running.\u001b[39;00m\n\u001b[0;32m   (...)\u001b[0m\n\u001b[1;32m     41\u001b[0m \u001b[39mthe openpyxl.load_workbook() method\u001b[39;00m\n\u001b[1;32m     42\u001b[0m \u001b[39m\"\"\"\u001b[39;00m\n\u001b[1;32m     44\u001b[0m \u001b[39massert\u001b[39;00m \u001b[39misinstance\u001b[39m(\n\u001b[1;32m     45\u001b[0m     source, (\u001b[39mstr\u001b[39m, Path)\n\u001b[1;32m     46\u001b[0m ), \u001b[39m\"\"\"\u001b[39m\n\u001b[1;32m     47\u001b[0m \u001b[39m    The source you\u001b[39m\u001b[39m'\u001b[39m\u001b[39mre passing to acquire.csv.local() needs to\u001b[39m\n\u001b[1;32m     48\u001b[0m \u001b[39m    be either a Path object or a string representing such.\u001b[39m\n\u001b[1;32m     49\u001b[0m \u001b[39m    \u001b[39m\u001b[39m\"\"\"\u001b[39m\n\u001b[0;32m---> 51\u001b[0m \u001b[39mreturn\u001b[39;00m acquirer(\n\u001b[1;32m     52\u001b[0m     source,\n\u001b[1;32m     53\u001b[0m     HttpXlsReader,\n\u001b[1;32m     54\u001b[0m     selectable,\n\u001b[1;32m     55\u001b[0m     pre_hook\u001b[39m=\u001b[39;49mpre_hook,\n\u001b[1;32m     56\u001b[0m     post_hook\u001b[39m=\u001b[39;49mpost_hook,\n\u001b[1;32m     57\u001b[0m     session\u001b[39m=\u001b[39;49msession,\n\u001b[1;32m     58\u001b[0m     cache\u001b[39m=\u001b[39;49mcache,\n\u001b[1;32m     59\u001b[0m     \u001b[39m*\u001b[39;49m\u001b[39m*\u001b[39;49mkwargs,\n\u001b[1;32m     60\u001b[0m )\n",
      "File \u001b[0;32m~/code/mikeAdamss/datachef/datachef/acquire/main.py:41\u001b[0m, in \u001b[0;36macquirer\u001b[0;34m(source, reader, selectable, pre_hook, post_hook, **kwargs)\u001b[0m\n\u001b[1;32m     38\u001b[0m \u001b[39mif\u001b[39;00m pre_hook:\n\u001b[1;32m     39\u001b[0m     source \u001b[39m=\u001b[39m pre_hook(source)\n\u001b[0;32m---> 41\u001b[0m parsed \u001b[39m=\u001b[39m reader\u001b[39m.\u001b[39;49mparse(source, selectable\u001b[39m=\u001b[39;49mselectable, \u001b[39m*\u001b[39;49m\u001b[39m*\u001b[39;49mkwargs)\n\u001b[1;32m     43\u001b[0m \u001b[39m# Execute post load hook\u001b[39;00m\n\u001b[1;32m     44\u001b[0m \u001b[39mif\u001b[39;00m post_hook:\n",
      "File \u001b[0;32m~/code/mikeAdamss/datachef/datachef/acquire/xls/http_implemented.py:84\u001b[0m, in \u001b[0;36mHttpXlsReader.parse\u001b[0;34m(source, selectable, session, cache, **kwargs)\u001b[0m\n\u001b[1;32m     82\u001b[0m response: requests\u001b[39m.\u001b[39mResponse \u001b[39m=\u001b[39m session\u001b[39m.\u001b[39mget(source)\n\u001b[1;32m     83\u001b[0m \u001b[39mif\u001b[39;00m \u001b[39mnot\u001b[39;00m response\u001b[39m.\u001b[39mok:\n\u001b[0;32m---> 84\u001b[0m     \u001b[39mraise\u001b[39;00m requests\u001b[39m.\u001b[39mexceptions\u001b[39m.\u001b[39mHTTPError(\n\u001b[1;32m     85\u001b[0m         \u001b[39mf\u001b[39m\u001b[39m\"\"\"\u001b[39m\n\u001b[1;32m     86\u001b[0m \u001b[39m        Unable to get url: \u001b[39m\u001b[39m{\u001b[39;00msource\u001b[39m}\u001b[39;00m\n\u001b[1;32m     87\u001b[0m \u001b[39m        \u001b[39m\u001b[39m{\u001b[39;00mresponse\u001b[39m}\u001b[39;00m\n\u001b[1;32m     88\u001b[0m \u001b[39m        \u001b[39m\u001b[39m\"\"\"\u001b[39m\n\u001b[1;32m     89\u001b[0m     )\n\u001b[1;32m     91\u001b[0m bio \u001b[39m=\u001b[39m io\u001b[39m.\u001b[39mBytesIO()\n\u001b[1;32m     92\u001b[0m bio\u001b[39m.\u001b[39mwrite(response\u001b[39m.\u001b[39mcontent)\n",
      "\u001b[0;31mHTTPError\u001b[0m: \n                Unable to get url: https://raw.githubusercontent.com/mikeAdamss/datachef/main/tests/fixtures/xls/within-sample.xls\n                <Response [404]>\n                "
     ]
    }
   ],
   "source": [
    "from typing import List\n",
    "from datachef import acquire, preview, XlsSelectable, Column\n",
    "\n",
    "Column.horizontal_condition\n",
    "tables: List[XlsSelectable] = acquire.xls.http(\"https://raw.githubusercontent.com/mikeAdamss/datachef/main/tests/fixtures/xls/within-sample.xls\")\n",
    "table = tables[0]\n",
    "\n",
    "preview(table)"
   ]
  }
 ],
 "metadata": {
  "kernelspec": {
   "display_name": "datachef-hNSMaw3h-py3.9",
   "language": "python",
   "name": "python3"
  },
  "language_info": {
   "codemirror_mode": {
    "name": "ipython",
    "version": 3
   },
   "file_extension": ".py",
   "mimetype": "text/x-python",
   "name": "python",
   "nbconvert_exporter": "python",
   "pygments_lexer": "ipython3",
   "version": "3.9.7"
  },
  "orig_nbformat": 4
 },
 "nbformat": 4,
 "nbformat_minor": 2
}
