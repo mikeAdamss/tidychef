{
 "cells": [
  {
   "cell_type": "markdown",
   "metadata": {},
   "source": [
    "# TidyData: Within\n",
    "\n",
    "Here we document how to create a within relationship between the values of a column and observations.\n",
    "\n",
    "The purpose of within is to allow you to extract data where the visual relationship to a single column varies depending on the observation in question."
   ]
  },
  {
   "cell_type": "markdown",
   "metadata": {},
   "source": [
    "## Source Data\n",
    "\n",
    "The data source we're using for these examples is shown below:\n",
    "\n",
    "| <span style=\"color:green\">Note - this particular table has some very verbose headers we don't care about, so we'll be using `bounded=` to remove them from the previews as well as to show just the subset of data we're working with.</span>|\n",
    "|-----------------------------------------|\n",
    "\n",
    "The [full data source can be downloaded here](https://github.com/mikeAdamss/tidychef/raw/main/tests/fixtures/xls/within_sample.xls)."
   ]
  },
  {
   "cell_type": "code",
   "execution_count": null,
   "metadata": {},
   "outputs": [],
   "source": [
    "from tidychef import acquire, preview\n",
    "from tidychef.direction import right\n",
    "from tidychef.selection import XlsSelectable\n",
    "\n",
    "table: XlsSelectable = acquire.xls.http(\"https://raw.githubusercontent.com/mikeAdamss/tidychef/main/tests/fixtures/xls/within-sample.xls\", tables=\"data\")\n",
    "sex = table.excel_ref('D2').expand(right).is_not_blank().label_as(\"Sex\")\n",
    "preview(sex)"
   ]
  },
  {
   "cell_type": "markdown",
   "metadata": {},
   "source": [
    "You'll notice that the directional relationship to both \"Male\" and \"Female\" varies between `closest:right`, `directly:up` and `closest:left` depending on the observation in question.\n",
    "\n",
    "This scenario is what the within lookup is designed to solve."
   ]
  },
  {
   "cell_type": "markdown",
   "metadata": {},
   "source": [
    "## Within Logic\n",
    "\n",
    "An example `Column` constructor using within is shown below:\n",
    "\n",
    "```\n",
    "Column(sex.finds_observations_within(below, start=left(1), end=right(1)))\n",
    "```\n",
    "\n",
    "This means that the \"sex\" column values find observation **below** itself by scanning **below** looking from 1 column to the left through to one column to the right.\n",
    "\n",
    "To put it another way, the column values \"look\" for observations in the order as indicated by the numbers in parenthesis - (1),(2), (3) etc.\n",
    "\n",
    "|  |  C   | D  | E|\n",
    "|--|------|------|--|\n",
    "|1 |      |      |  |\n",
    "|2 |      | Male |  | \n",
    "|3 | (1)    | (2)    | (3)|\n",
    "| 4| (4)    | (5)    | (6)|\n",
    "| 5| (7)    | (8)    | (9)|\n",
    "\n",
    "etc...\n",
    "\n",
    "You can also change he distance that is scanned as per the below\n",
    "\n",
    "```\n",
    "Column(sex.finds_observations_within(below, start=left(1), end=right(2)))\n",
    "```\n",
    "\n",
    "which would scan for observations as follows\n",
    "\n",
    "|  |  C   | D  | E| F |\n",
    "|--|------|------|--|--|\n",
    "|1 |    |      |  |  |\n",
    "|2 |      | Male |  |  | \n",
    "|3 | (1)    | (2)    | (3)| (4) |\n",
    "| 4| (5)    | (6)    | (7)| (8) |\n",
    "| 5| (9)    | (10)    | (11)|(12)  |\n",
    "\n",
    "Now lets apply this to our example"
   ]
  },
  {
   "cell_type": "code",
   "execution_count": null,
   "metadata": {},
   "outputs": [],
   "source": [
    "from tidychef import acquire, preview\n",
    "from tidychef.direction import right, down, left\n",
    "from tidychef.output import Column, TidyData\n",
    "from tidychef.selection import XlsSelectable\n",
    "\n",
    "table: XlsSelectable = acquire.xls.http(\"https://raw.githubusercontent.com/mikeAdamss/tidychef/main/tests/fixtures/xls/within-sample.xls\", tables=\"data\")\n",
    "\n",
    "observations = table.excel_ref('C3').expand(right).expand(down).is_not_blank().label_as(\"Observations\")\n",
    "sex = table.excel_ref('D2').expand(right).is_not_blank().label_as(\"Sex\")\n",
    "preview(observations, sex)\n",
    "\n",
    "tidy_data = TidyData(\n",
    "    observations,\n",
    "    Column(sex.attach_within(down, start=left(1), end=right(1)))\n",
    ")\n",
    "print(tidy_data)"
   ]
  },
  {
   "cell_type": "markdown",
   "metadata": {},
   "source": [
    "## Within: Understanding Direction Of Traversal\n",
    "\n",
    "the direction of traversal depends entirely on the `start` and `end` keyword argument, i.e:\n",
    "\n",
    "`down, start=left(1), end=right(1)` is scanning from left to right, so considers cells in the following order:\n",
    "\n",
    "|  |  C   | D  | E|\n",
    "|--|------|------|--|\n",
    "|1 |      |      |  |\n",
    "|2 |      | Male |  | \n",
    "|3 | (1)    | (2)    | (3)|\n",
    "| 4| (4)    | (5)    | (6)|\n",
    "| 5| (7)    | (8)    | (9)|\n",
    "\n",
    "`down, start=right(1), end=left(1)` is scanning from right to left, so the order is:\n",
    "\n",
    "|  |  C   | D  | E|\n",
    "|--|------|------|--|\n",
    "|1 |      |      |  |\n",
    "|2 |      | Male |  | \n",
    "|3 | (3)    | (2)    | (1)|\n",
    "| 4| (6)    | (5)    | (4)|\n",
    "| 5| (9)    | (8)    | (7)|\n",
    "\n",
    "The order of traversal doesn't matter in our example scenario here but there **are** scenarios in more complex data where it will.\n",
    "\n",
    "Remember - each column value is resolved exactly **once** per observation, controlling the order of consideration gives you control where _more than one column value could potentially be resolved for a given observation_.\n",
    "\n",
    "In simplest terms **the order of traversal controls priority**.\n",
    "\n",
    "Consider the following data:"
   ]
  },
  {
   "cell_type": "code",
   "execution_count": null,
   "metadata": {},
   "outputs": [],
   "source": [
    "from tidychef import acquire, filters\n",
    "from tidychef.selection import Selectable\n",
    "\n",
    "# Note acquire.python.list_of_lists is a constructor that takes a python object\n",
    "# it's intended purely for testing and/or quickly mocking up tabulated data\n",
    "table: Selectable = acquire.python.list_of_lists(\n",
    "    [\n",
    "        [\"Both\", \"\", \"Male\", \"\", \"\", \"Female\", \"\"],\n",
    "        [\"-\", \"Retired\", \"Working Age\", \"Child\", \"Retired\", \"Working Age\", \"Child\"],\n",
    "        [\"13\", \"3\", \"1\", \"4\", \"2\", \"1\", \"2\"],\n",
    "        [\"19\", \"3\", \"3\", \"5\", \"3\", \"4\", \"1\"],\n",
    "        [\"27\", \"2\", \"4\", \"6\", \"4\", \"3\", \"4\"],\n",
    "        [\"\", \"\", \"\", \"\", \"\", \"\", \"\"],\n",
    "    ]\n",
    ")\n",
    "\n",
    "preview(table)"
   ]
  },
  {
   "cell_type": "markdown",
   "metadata": {},
   "source": [
    "Now lets try extracting it with `start=left(1), end=right(1)`"
   ]
  },
  {
   "cell_type": "code",
   "execution_count": null,
   "metadata": {},
   "outputs": [],
   "source": [
    "observations = table.filter(filters.is_numeric).label_as(\"Observations\")\n",
    "sex = table.excel_ref(\"1\").is_not_blank().label_as(\"Sex\")\n",
    "preview(observations, sex)\n",
    "\n",
    "tidy_data = TidyData(\n",
    "    observations,\n",
    "    Column(sex.attach_within(down, start=right(1), end=left(1)))\n",
    ")\n",
    "\n",
    "print(tidy_data)\n"
   ]
  },
  {
   "cell_type": "markdown",
   "metadata": {},
   "source": [
    "| <span style=\"color:ed\">Notice the values for \"Both\"! These include the leftmost values that should be categorised as Male.</span>|\n",
    "|-----------------------------------------|\n",
    "\n",
    "This is purely **a result of direction of travel**. The observation cells are considered right->centre->left to resolve the correct column value.\n",
    "\n",
    "As an example: cell B3 (value \"3\") resolves to \"Both\" as its **right** of \"Both\" and **left** of \"Male\" but **right** is the priority, a la right->center->left.\n",
    "\n",
    "Instead, lets define our within relationship with the opposite direction of travel so the obs are resolved left->center->right compared to the column values."
   ]
  },
  {
   "cell_type": "code",
   "execution_count": null,
   "metadata": {},
   "outputs": [],
   "source": [
    "preview(observations, sex)\n",
    "\n",
    "tidy_data = TidyData(\n",
    "    observations,\n",
    "    Column(sex.attach_within(down, start=left(1), end=right(1)))\n",
    ")\n",
    "\n",
    "print(tidy_data)"
   ]
  },
  {
   "cell_type": "markdown",
   "metadata": {},
   "source": [
    "And so we get the extraction we wanted."
   ]
  }
 ],
 "metadata": {
  "kernelspec": {
   "display_name": "Python 3 (ipykernel)",
   "language": "python",
   "name": "python3"
  },
  "language_info": {
   "codemirror_mode": {
    "name": "ipython",
    "version": 3
   },
   "file_extension": ".py",
   "mimetype": "text/x-python",
   "name": "python",
   "nbconvert_exporter": "python",
   "pygments_lexer": "ipython3",
   "version": "3.12.11"
  }
 },
 "nbformat": 4,
 "nbformat_minor": 4
}
