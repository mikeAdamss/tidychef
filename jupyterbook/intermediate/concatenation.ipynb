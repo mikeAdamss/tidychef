{
 "cells": [
  {
   "attachments": {},
   "cell_type": "markdown",
   "metadata": {},
   "source": [
    "## TidyData: Concatenation\n",
    "\n",
    "This section details how you can concatenate multiple tidy data sheets together when you output them."
   ]
  },
  {
   "attachments": {},
   "cell_type": "markdown",
   "metadata": {},
   "source": [
    "## Source Data\n",
    "\n",
    "The data source we're using for these examples is shown below:\n",
    "\n",
    "| <span style=\"color:green\">Note - this particular table has some very verbose headers we don't care about, so we'll be using `bounded=` to remove them from the previews as well as to show just the subset of data we're working with.</span>|\n",
    "|-----------------------------------------|\n",
    "\n",
    "The [full data source can be downloaded here](https://github.com/mikeAdamss/datachef/raw/main/tests/fixtures/xlsx/ons-oic.xlsx). We'll be using th 10th tab named \"Table 3c\"."
   ]
  },
  {
   "cell_type": "code",
   "execution_count": 1,
   "metadata": {},
   "outputs": [
    {
     "data": {
      "text/html": [
       "\n",
       "    <html>\n",
       "        \n",
       "    <style>\n",
       "    table, th, td {\n",
       "        border: 1px solid;\n",
       "    }\n",
       "\n",
       "    table {\n",
       "        border-collapse: collapse;\n",
       "    }\n",
       "\n",
       "    td {\n",
       "        align: center;\n",
       "        border: 1px  black solid !important;\n",
       "        color: black !important;\n",
       "    }\n",
       "\n",
       "    th, td {\n",
       "        padding: 5px;\n",
       "    }\n",
       "\n",
       "    </style>\n",
       "    \n",
       "            <table>\n",
       "                \n",
       "            </table>\n",
       "\n",
       "            <body>\n",
       "                <h2>Table 3c</h2>\n",
       "                <table>\n",
       "                    <tr><td style=\"background-color:lightgrey\"></td><td style=\"background-color:lightgrey\">A</td><td style=\"background-color:lightgrey\">B</td><td style=\"background-color:lightgrey\">C</td><td style=\"background-color:lightgrey\">D</td><td style=\"background-color:lightgrey\">E</td><td style=\"background-color:lightgrey\">F</td><td style=\"background-color:lightgrey\">G</td><td style=\"background-color:lightgrey\">H</td></tr>\n",
       "<tr><td style=\"background-color:lightgrey\">4</td><td style=\"background-color:white\">Percentage change 3 months on previous 3 months</td><td style=\"background-color:white\"></td><td style=\"background-color:white\"></td><td style=\"background-color:white\"></td><td style=\"background-color:white\"></td><td style=\"background-color:white\"></td><td style=\"background-color:white\"></td><td style=\"background-color:white\"></td></tr>\n",
       "<tr><td style=\"background-color:lightgrey\">5</td><td style=\"background-color:white\">Time period</td><td style=\"background-color:white\">Public new housing</td><td style=\"background-color:white\">Private new housing</td><td style=\"background-color:white\">Total new housing</td><td style=\"background-color:white\">Infrastructure new work</td><td style=\"background-color:white\">Public other new work</td><td style=\"background-color:white\">Private industrial new work</td><td style=\"background-color:white\">Private commercial new work</td></tr>\n",
       "<tr><td style=\"background-color:lightgrey\">6</td><td style=\"background-color:white\">Dataset identifier code</td><td style=\"background-color:white\">MVO6</td><td style=\"background-color:white\">MVO7</td><td style=\"background-color:white\">MVO8</td><td style=\"background-color:white\">MVO9</td><td style=\"background-color:white\">MVP2</td><td style=\"background-color:white\">MVP3</td><td style=\"background-color:white\">MVP4</td></tr>\n",
       "<tr><td style=\"background-color:lightgrey\">7</td><td style=\"background-color:white\">Jun 2010</td><td style=\"background-color:white\">5.6</td><td style=\"background-color:white\">9.8</td><td style=\"background-color:white\">8.8</td><td style=\"background-color:white\">3</td><td style=\"background-color:white\">4.3</td><td style=\"background-color:white\">3.7</td><td style=\"background-color:white\">1.9</td></tr>\n",
       "<tr><td style=\"background-color:lightgrey\">8</td><td style=\"background-color:white\">Jul 2010</td><td style=\"background-color:white\">2</td><td style=\"background-color:white\">5.6</td><td style=\"background-color:white\">4.8</td><td style=\"background-color:white\">0.2</td><td style=\"background-color:white\">-0.2</td><td style=\"background-color:white\">9.7</td><td style=\"background-color:white\">3.5</td></tr>\n",
       "<tr><td style=\"background-color:lightgrey\">9</td><td style=\"background-color:white\">Aug 2010</td><td style=\"background-color:white\">5.5</td><td style=\"background-color:white\">4.5</td><td style=\"background-color:white\">4.7</td><td style=\"background-color:white\">-2.9</td><td style=\"background-color:white\">-2.9</td><td style=\"background-color:white\">24.4</td><td style=\"background-color:white\">5.9</td></tr>\n",
       "<tr><td style=\"background-color:lightgrey\">10</td><td style=\"background-color:white\">Sep 2010</td><td style=\"background-color:white\">11.7</td><td style=\"background-color:white\">7.5</td><td style=\"background-color:white\">8.5</td><td style=\"background-color:white\">-6.8</td><td style=\"background-color:white\">-3.3</td><td style=\"background-color:white\">16.1</td><td style=\"background-color:white\">5.3</td></tr>\n",
       "\n",
       "                </table>\n",
       "            </body>\n",
       "            <br>\n",
       "        </html>\n",
       "    "
      ],
      "text/plain": [
       "<IPython.core.display.HTML object>"
      ]
     },
     "metadata": {},
     "output_type": "display_data"
    }
   ],
   "source": [
    "from typing import List\n",
    "from datachef import acquire, preview\n",
    "from datachef.selection import XlsxSelectable\n",
    "\n",
    "tables: List[XlsxSelectable] = acquire.xlsx.http(\"https://github.com/mikeAdamss/datachef/raw/main/tests/fixtures/xlsx/ons-oic.xlsx\")\n",
    "preview(tables[9], bounded=\"A4:H10\")"
   ]
  },
  {
   "attachments": {},
   "cell_type": "markdown",
   "metadata": {},
   "source": [
    "## The \"Two\" Sources\n",
    "\n",
    "To keep these examples reasonably brief we're going to create two TidyData class from the above as follow:\n",
    "\n",
    "- one with observations from B7 though H8\n",
    "- one with observations from B9 through H10"
   ]
  },
  {
   "cell_type": "code",
   "execution_count": 2,
   "metadata": {},
   "outputs": [],
   "source": [
    "from typing import List\n",
    "from datachef import acquire, preview\n",
    "from datachef.direction import right, down\n",
    "from datachef.output import TidyData, Column\n",
    "from datachef.selection import XlsxSelectable\n",
    "\n",
    "tables: List[XlsxSelectable] = acquire.xlsx.http(\"https://github.com/mikeAdamss/datachef/raw/main/tests/fixtures/xlsx/ons-oic.xlsx\")\n",
    "table = tables[9]\n",
    "\n",
    "houses = table.excel_ref(\"B5\").expand(right).label_as(\"Houses\")\n",
    "dataset_identifier_code = houses.shift(down).label_as(\"Dataset Identifier Code\")\n",
    "period = table.excel_ref(\"A7\").expand(down).label_as(\"Period\")\n",
    "\n",
    "observations1 = table.excel_ref(\"B7:H8\").label_as(\"Observations\")\n",
    "observations2 = table.excel_ref(\"B9:H10\").label_as(\"Observations\")"
   ]
  },
  {
   "cell_type": "code",
   "execution_count": 3,
   "metadata": {},
   "outputs": [
    {
     "name": "stdout",
     "output_type": "stream",
     "text": [
      "Preview selections for tidydata1\n"
     ]
    },
    {
     "data": {
      "text/html": [
       "\n",
       "    <html>\n",
       "        \n",
       "    <style>\n",
       "    table, th, td {\n",
       "        border: 1px solid;\n",
       "    }\n",
       "\n",
       "    table {\n",
       "        border-collapse: collapse;\n",
       "    }\n",
       "\n",
       "    td {\n",
       "        align: center;\n",
       "        border: 1px  black solid !important;\n",
       "        color: black !important;\n",
       "    }\n",
       "\n",
       "    th, td {\n",
       "        padding: 5px;\n",
       "    }\n",
       "\n",
       "    </style>\n",
       "    \n",
       "            <table>\n",
       "                \n",
       "            <tr>\n",
       "                <td style=\"background-color:cyan\">Observations</td>\n",
       "            <tr>\n",
       "        \n",
       "            <tr>\n",
       "                <td style=\"background-color:#99ff99\">Houses</td>\n",
       "            <tr>\n",
       "        \n",
       "            <tr>\n",
       "                <td style=\"background-color:#eeccff\">Dataset Identifier Code</td>\n",
       "            <tr>\n",
       "        \n",
       "            <tr>\n",
       "                <td style=\"background-color:#ffe066\">Period</td>\n",
       "            <tr>\n",
       "        \n",
       "            </table>\n",
       "\n",
       "            <body>\n",
       "                <h2>Table 3c</h2>\n",
       "                <table>\n",
       "                    <tr><td style=\"background-color:lightgrey\"></td><td style=\"background-color:lightgrey\">A</td><td style=\"background-color:lightgrey\">B</td><td style=\"background-color:lightgrey\">C</td><td style=\"background-color:lightgrey\">D</td><td style=\"background-color:lightgrey\">E</td><td style=\"background-color:lightgrey\">F</td><td style=\"background-color:lightgrey\">G</td><td style=\"background-color:lightgrey\">H</td></tr>\n",
       "<tr><td style=\"background-color:lightgrey\">4</td><td style=\"background-color:white\">Percentage change 3 months on previous 3 months</td><td style=\"background-color:white\"></td><td style=\"background-color:white\"></td><td style=\"background-color:white\"></td><td style=\"background-color:white\"></td><td style=\"background-color:white\"></td><td style=\"background-color:white\"></td><td style=\"background-color:white\"></td></tr>\n",
       "<tr><td style=\"background-color:lightgrey\">5</td><td style=\"background-color:white\">Time period</td><td style=\"background-color:#99ff99\">Public new housing</td><td style=\"background-color:#99ff99\">Private new housing</td><td style=\"background-color:#99ff99\">Total new housing</td><td style=\"background-color:#99ff99\">Infrastructure new work</td><td style=\"background-color:#99ff99\">Public other new work</td><td style=\"background-color:#99ff99\">Private industrial new work</td><td style=\"background-color:#99ff99\">Private commercial new work</td></tr>\n",
       "<tr><td style=\"background-color:lightgrey\">6</td><td style=\"background-color:white\">Dataset identifier code</td><td style=\"background-color:#eeccff\">MVO6</td><td style=\"background-color:#eeccff\">MVO7</td><td style=\"background-color:#eeccff\">MVO8</td><td style=\"background-color:#eeccff\">MVO9</td><td style=\"background-color:#eeccff\">MVP2</td><td style=\"background-color:#eeccff\">MVP3</td><td style=\"background-color:#eeccff\">MVP4</td></tr>\n",
       "<tr><td style=\"background-color:lightgrey\">7</td><td style=\"background-color:#ffe066\">Jun 2010</td><td style=\"background-color:cyan\">5.6</td><td style=\"background-color:cyan\">9.8</td><td style=\"background-color:cyan\">8.8</td><td style=\"background-color:cyan\">3</td><td style=\"background-color:cyan\">4.3</td><td style=\"background-color:cyan\">3.7</td><td style=\"background-color:cyan\">1.9</td></tr>\n",
       "<tr><td style=\"background-color:lightgrey\">8</td><td style=\"background-color:#ffe066\">Jul 2010</td><td style=\"background-color:cyan\">2</td><td style=\"background-color:cyan\">5.6</td><td style=\"background-color:cyan\">4.8</td><td style=\"background-color:cyan\">0.2</td><td style=\"background-color:cyan\">-0.2</td><td style=\"background-color:cyan\">9.7</td><td style=\"background-color:cyan\">3.5</td></tr>\n",
       "<tr><td style=\"background-color:lightgrey\">9</td><td style=\"background-color:#ffe066\">Aug 2010</td><td style=\"background-color:white\">5.5</td><td style=\"background-color:white\">4.5</td><td style=\"background-color:white\">4.7</td><td style=\"background-color:white\">-2.9</td><td style=\"background-color:white\">-2.9</td><td style=\"background-color:white\">24.4</td><td style=\"background-color:white\">5.9</td></tr>\n",
       "<tr><td style=\"background-color:lightgrey\">10</td><td style=\"background-color:#ffe066\">Sep 2010</td><td style=\"background-color:white\">11.7</td><td style=\"background-color:white\">7.5</td><td style=\"background-color:white\">8.5</td><td style=\"background-color:white\">-6.8</td><td style=\"background-color:white\">-3.3</td><td style=\"background-color:white\">16.1</td><td style=\"background-color:white\">5.3</td></tr>\n",
       "\n",
       "                </table>\n",
       "            </body>\n",
       "            <br>\n",
       "        </html>\n",
       "    "
      ],
      "text/plain": [
       "<IPython.core.display.HTML object>"
      ]
     },
     "metadata": {},
     "output_type": "display_data"
    },
    {
     "name": "stdout",
     "output_type": "stream",
     "text": [
      "Preview selections for tidydata1\n"
     ]
    },
    {
     "data": {
      "text/html": [
       "\n",
       "    <html>\n",
       "        \n",
       "    <style>\n",
       "    table, th, td {\n",
       "        border: 1px solid;\n",
       "    }\n",
       "\n",
       "    table {\n",
       "        border-collapse: collapse;\n",
       "    }\n",
       "\n",
       "    td {\n",
       "        align: center;\n",
       "        border: 1px  black solid !important;\n",
       "        color: black !important;\n",
       "    }\n",
       "\n",
       "    th, td {\n",
       "        padding: 5px;\n",
       "    }\n",
       "\n",
       "    </style>\n",
       "    \n",
       "            <table>\n",
       "                \n",
       "            <tr>\n",
       "                <td style=\"background-color:cyan\">Observations</td>\n",
       "            <tr>\n",
       "        \n",
       "            <tr>\n",
       "                <td style=\"background-color:#99ff99\">Houses</td>\n",
       "            <tr>\n",
       "        \n",
       "            <tr>\n",
       "                <td style=\"background-color:#eeccff\">Dataset Identifier Code</td>\n",
       "            <tr>\n",
       "        \n",
       "            <tr>\n",
       "                <td style=\"background-color:#ffe066\">Period</td>\n",
       "            <tr>\n",
       "        \n",
       "            </table>\n",
       "\n",
       "            <body>\n",
       "                <h2>Table 3c</h2>\n",
       "                <table>\n",
       "                    <tr><td style=\"background-color:lightgrey\"></td><td style=\"background-color:lightgrey\">A</td><td style=\"background-color:lightgrey\">B</td><td style=\"background-color:lightgrey\">C</td><td style=\"background-color:lightgrey\">D</td><td style=\"background-color:lightgrey\">E</td><td style=\"background-color:lightgrey\">F</td><td style=\"background-color:lightgrey\">G</td><td style=\"background-color:lightgrey\">H</td></tr>\n",
       "<tr><td style=\"background-color:lightgrey\">4</td><td style=\"background-color:white\">Percentage change 3 months on previous 3 months</td><td style=\"background-color:white\"></td><td style=\"background-color:white\"></td><td style=\"background-color:white\"></td><td style=\"background-color:white\"></td><td style=\"background-color:white\"></td><td style=\"background-color:white\"></td><td style=\"background-color:white\"></td></tr>\n",
       "<tr><td style=\"background-color:lightgrey\">5</td><td style=\"background-color:white\">Time period</td><td style=\"background-color:#99ff99\">Public new housing</td><td style=\"background-color:#99ff99\">Private new housing</td><td style=\"background-color:#99ff99\">Total new housing</td><td style=\"background-color:#99ff99\">Infrastructure new work</td><td style=\"background-color:#99ff99\">Public other new work</td><td style=\"background-color:#99ff99\">Private industrial new work</td><td style=\"background-color:#99ff99\">Private commercial new work</td></tr>\n",
       "<tr><td style=\"background-color:lightgrey\">6</td><td style=\"background-color:white\">Dataset identifier code</td><td style=\"background-color:#eeccff\">MVO6</td><td style=\"background-color:#eeccff\">MVO7</td><td style=\"background-color:#eeccff\">MVO8</td><td style=\"background-color:#eeccff\">MVO9</td><td style=\"background-color:#eeccff\">MVP2</td><td style=\"background-color:#eeccff\">MVP3</td><td style=\"background-color:#eeccff\">MVP4</td></tr>\n",
       "<tr><td style=\"background-color:lightgrey\">7</td><td style=\"background-color:#ffe066\">Jun 2010</td><td style=\"background-color:white\">5.6</td><td style=\"background-color:white\">9.8</td><td style=\"background-color:white\">8.8</td><td style=\"background-color:white\">3</td><td style=\"background-color:white\">4.3</td><td style=\"background-color:white\">3.7</td><td style=\"background-color:white\">1.9</td></tr>\n",
       "<tr><td style=\"background-color:lightgrey\">8</td><td style=\"background-color:#ffe066\">Jul 2010</td><td style=\"background-color:white\">2</td><td style=\"background-color:white\">5.6</td><td style=\"background-color:white\">4.8</td><td style=\"background-color:white\">0.2</td><td style=\"background-color:white\">-0.2</td><td style=\"background-color:white\">9.7</td><td style=\"background-color:white\">3.5</td></tr>\n",
       "<tr><td style=\"background-color:lightgrey\">9</td><td style=\"background-color:#ffe066\">Aug 2010</td><td style=\"background-color:cyan\">5.5</td><td style=\"background-color:cyan\">4.5</td><td style=\"background-color:cyan\">4.7</td><td style=\"background-color:cyan\">-2.9</td><td style=\"background-color:cyan\">-2.9</td><td style=\"background-color:cyan\">24.4</td><td style=\"background-color:cyan\">5.9</td></tr>\n",
       "<tr><td style=\"background-color:lightgrey\">10</td><td style=\"background-color:#ffe066\">Sep 2010</td><td style=\"background-color:cyan\">11.7</td><td style=\"background-color:cyan\">7.5</td><td style=\"background-color:cyan\">8.5</td><td style=\"background-color:cyan\">-6.8</td><td style=\"background-color:cyan\">-3.3</td><td style=\"background-color:cyan\">16.1</td><td style=\"background-color:cyan\">5.3</td></tr>\n",
       "\n",
       "                </table>\n",
       "            </body>\n",
       "            <br>\n",
       "        </html>\n",
       "    "
      ],
      "text/plain": [
       "<IPython.core.display.HTML object>"
      ]
     },
     "metadata": {},
     "output_type": "display_data"
    }
   ],
   "source": [
    "## Preview Both Sets of Selection\n",
    "\n",
    "print(\"Preview selections for tidydata1\")\n",
    "preview(observations1, houses, dataset_identifier_code, period, bounded=\"A4:H10\")\n",
    "\n",
    "print(\"Preview selections for tidydata1\")\n",
    "preview(observations2, houses, dataset_identifier_code, period, bounded=\"A4:H10\")"
   ]
  },
  {
   "attachments": {},
   "cell_type": "markdown",
   "metadata": {},
   "source": [
    "## Create and preview TidyData objects"
   ]
  },
  {
   "cell_type": "code",
   "execution_count": 4,
   "metadata": {},
   "outputs": [
    {
     "name": "stdout",
     "output_type": "stream",
     "text": [
      "Preview tidydata1\n"
     ]
    },
    {
     "data": {
      "text/html": [
       "<table>\n",
       "<thead>\n",
       "<tr><th style=\"text-align: right;\">  Observations</th><th>Period  </th><th>Dataset Identifier Code  </th><th>Houses                     </th></tr>\n",
       "</thead>\n",
       "<tbody>\n",
       "<tr><td style=\"text-align: right;\">           5.6</td><td>Jun 2010</td><td>MVO6                     </td><td>Public new housing         </td></tr>\n",
       "<tr><td style=\"text-align: right;\">           9.8</td><td>Jun 2010</td><td>MVO7                     </td><td>Private new housing        </td></tr>\n",
       "<tr><td style=\"text-align: right;\">           8.8</td><td>Jun 2010</td><td>MVO8                     </td><td>Total new housing          </td></tr>\n",
       "<tr><td style=\"text-align: right;\">           3  </td><td>Jun 2010</td><td>MVO9                     </td><td>Infrastructure new work    </td></tr>\n",
       "<tr><td style=\"text-align: right;\">           4.3</td><td>Jun 2010</td><td>MVP2                     </td><td>Public other new work      </td></tr>\n",
       "<tr><td style=\"text-align: right;\">           3.7</td><td>Jun 2010</td><td>MVP3                     </td><td>Private industrial new work</td></tr>\n",
       "<tr><td style=\"text-align: right;\">           1.9</td><td>Jun 2010</td><td>MVP4                     </td><td>Private commercial new work</td></tr>\n",
       "<tr><td style=\"text-align: right;\">           2  </td><td>Jul 2010</td><td>MVO6                     </td><td>Public new housing         </td></tr>\n",
       "<tr><td style=\"text-align: right;\">           5.6</td><td>Jul 2010</td><td>MVO7                     </td><td>Private new housing        </td></tr>\n",
       "<tr><td style=\"text-align: right;\">           4.8</td><td>Jul 2010</td><td>MVO8                     </td><td>Total new housing          </td></tr>\n",
       "<tr><td style=\"text-align: right;\">           0.2</td><td>Jul 2010</td><td>MVO9                     </td><td>Infrastructure new work    </td></tr>\n",
       "<tr><td style=\"text-align: right;\">          -0.2</td><td>Jul 2010</td><td>MVP2                     </td><td>Public other new work      </td></tr>\n",
       "<tr><td style=\"text-align: right;\">           9.7</td><td>Jul 2010</td><td>MVP3                     </td><td>Private industrial new work</td></tr>\n",
       "<tr><td style=\"text-align: right;\">           3.5</td><td>Jul 2010</td><td>MVP4                     </td><td>Private commercial new work</td></tr>\n",
       "</tbody>\n",
       "</table>"
      ],
      "text/plain": [
       "'<table>\\n<thead>\\n<tr><th style=\"text-align: right;\">  Observations</th><th>Period  </th><th>Dataset Identifier Code  </th><th>Houses                     </th></tr>\\n</thead>\\n<tbody>\\n<tr><td style=\"text-align: right;\">           5.6</td><td>Jun 2010</td><td>MVO6                     </td><td>Public new housing         </td></tr>\\n<tr><td style=\"text-align: right;\">           9.8</td><td>Jun 2010</td><td>MVO7                     </td><td>Private new housing        </td></tr>\\n<tr><td style=\"text-align: right;\">           8.8</td><td>Jun 2010</td><td>MVO8                     </td><td>Total new housing          </td></tr>\\n<tr><td style=\"text-align: right;\">           3  </td><td>Jun 2010</td><td>MVO9                     </td><td>Infrastructure new work    </td></tr>\\n<tr><td style=\"text-align: right;\">           4.3</td><td>Jun 2010</td><td>MVP2                     </td><td>Public other new work      </td></tr>\\n<tr><td style=\"text-align: right;\">           3.7</td><td>Jun 2010</td><td>MVP3                     </td><td>Private industrial new work</td></tr>\\n<tr><td style=\"text-align: right;\">           1.9</td><td>Jun 2010</td><td>MVP4                     </td><td>Private commercial new work</td></tr>\\n<tr><td style=\"text-align: right;\">           2  </td><td>Jul 2010</td><td>MVO6                     </td><td>Public new housing         </td></tr>\\n<tr><td style=\"text-align: right;\">           5.6</td><td>Jul 2010</td><td>MVO7                     </td><td>Private new housing        </td></tr>\\n<tr><td style=\"text-align: right;\">           4.8</td><td>Jul 2010</td><td>MVO8                     </td><td>Total new housing          </td></tr>\\n<tr><td style=\"text-align: right;\">           0.2</td><td>Jul 2010</td><td>MVO9                     </td><td>Infrastructure new work    </td></tr>\\n<tr><td style=\"text-align: right;\">          -0.2</td><td>Jul 2010</td><td>MVP2                     </td><td>Public other new work      </td></tr>\\n<tr><td style=\"text-align: right;\">           9.7</td><td>Jul 2010</td><td>MVP3                     </td><td>Private industrial new work</td></tr>\\n<tr><td style=\"text-align: right;\">           3.5</td><td>Jul 2010</td><td>MVP4                     </td><td>Private commercial new work</td></tr>\\n</tbody>\\n</table>'"
      ]
     },
     "metadata": {},
     "output_type": "display_data"
    },
    {
     "name": "stdout",
     "output_type": "stream",
     "text": [
      "\n",
      "Preview tidydata2\n"
     ]
    },
    {
     "data": {
      "text/html": [
       "<table>\n",
       "<thead>\n",
       "<tr><th style=\"text-align: right;\">  Observations</th><th>Period  </th><th>Dataset Identifier Code  </th><th>Houses                     </th></tr>\n",
       "</thead>\n",
       "<tbody>\n",
       "<tr><td style=\"text-align: right;\">           5.5</td><td>Aug 2010</td><td>MVO6                     </td><td>Public new housing         </td></tr>\n",
       "<tr><td style=\"text-align: right;\">           4.5</td><td>Aug 2010</td><td>MVO7                     </td><td>Private new housing        </td></tr>\n",
       "<tr><td style=\"text-align: right;\">           4.7</td><td>Aug 2010</td><td>MVO8                     </td><td>Total new housing          </td></tr>\n",
       "<tr><td style=\"text-align: right;\">          -2.9</td><td>Aug 2010</td><td>MVO9                     </td><td>Infrastructure new work    </td></tr>\n",
       "<tr><td style=\"text-align: right;\">          -2.9</td><td>Aug 2010</td><td>MVP2                     </td><td>Public other new work      </td></tr>\n",
       "<tr><td style=\"text-align: right;\">          24.4</td><td>Aug 2010</td><td>MVP3                     </td><td>Private industrial new work</td></tr>\n",
       "<tr><td style=\"text-align: right;\">           5.9</td><td>Aug 2010</td><td>MVP4                     </td><td>Private commercial new work</td></tr>\n",
       "<tr><td style=\"text-align: right;\">          11.7</td><td>Sep 2010</td><td>MVO6                     </td><td>Public new housing         </td></tr>\n",
       "<tr><td style=\"text-align: right;\">           7.5</td><td>Sep 2010</td><td>MVO7                     </td><td>Private new housing        </td></tr>\n",
       "<tr><td style=\"text-align: right;\">           8.5</td><td>Sep 2010</td><td>MVO8                     </td><td>Total new housing          </td></tr>\n",
       "<tr><td style=\"text-align: right;\">          -6.8</td><td>Sep 2010</td><td>MVO9                     </td><td>Infrastructure new work    </td></tr>\n",
       "<tr><td style=\"text-align: right;\">          -3.3</td><td>Sep 2010</td><td>MVP2                     </td><td>Public other new work      </td></tr>\n",
       "<tr><td style=\"text-align: right;\">          16.1</td><td>Sep 2010</td><td>MVP3                     </td><td>Private industrial new work</td></tr>\n",
       "<tr><td style=\"text-align: right;\">           5.3</td><td>Sep 2010</td><td>MVP4                     </td><td>Private commercial new work</td></tr>\n",
       "</tbody>\n",
       "</table>"
      ],
      "text/plain": [
       "'<table>\\n<thead>\\n<tr><th style=\"text-align: right;\">  Observations</th><th>Period  </th><th>Dataset Identifier Code  </th><th>Houses                     </th></tr>\\n</thead>\\n<tbody>\\n<tr><td style=\"text-align: right;\">           5.5</td><td>Aug 2010</td><td>MVO6                     </td><td>Public new housing         </td></tr>\\n<tr><td style=\"text-align: right;\">           4.5</td><td>Aug 2010</td><td>MVO7                     </td><td>Private new housing        </td></tr>\\n<tr><td style=\"text-align: right;\">           4.7</td><td>Aug 2010</td><td>MVO8                     </td><td>Total new housing          </td></tr>\\n<tr><td style=\"text-align: right;\">          -2.9</td><td>Aug 2010</td><td>MVO9                     </td><td>Infrastructure new work    </td></tr>\\n<tr><td style=\"text-align: right;\">          -2.9</td><td>Aug 2010</td><td>MVP2                     </td><td>Public other new work      </td></tr>\\n<tr><td style=\"text-align: right;\">          24.4</td><td>Aug 2010</td><td>MVP3                     </td><td>Private industrial new work</td></tr>\\n<tr><td style=\"text-align: right;\">           5.9</td><td>Aug 2010</td><td>MVP4                     </td><td>Private commercial new work</td></tr>\\n<tr><td style=\"text-align: right;\">          11.7</td><td>Sep 2010</td><td>MVO6                     </td><td>Public new housing         </td></tr>\\n<tr><td style=\"text-align: right;\">           7.5</td><td>Sep 2010</td><td>MVO7                     </td><td>Private new housing        </td></tr>\\n<tr><td style=\"text-align: right;\">           8.5</td><td>Sep 2010</td><td>MVO8                     </td><td>Total new housing          </td></tr>\\n<tr><td style=\"text-align: right;\">          -6.8</td><td>Sep 2010</td><td>MVO9                     </td><td>Infrastructure new work    </td></tr>\\n<tr><td style=\"text-align: right;\">          -3.3</td><td>Sep 2010</td><td>MVP2                     </td><td>Public other new work      </td></tr>\\n<tr><td style=\"text-align: right;\">          16.1</td><td>Sep 2010</td><td>MVP3                     </td><td>Private industrial new work</td></tr>\\n<tr><td style=\"text-align: right;\">           5.3</td><td>Sep 2010</td><td>MVP4                     </td><td>Private commercial new work</td></tr>\\n</tbody>\\n</table>'"
      ]
     },
     "metadata": {},
     "output_type": "display_data"
    },
    {
     "name": "stdout",
     "output_type": "stream",
     "text": [
      "\n"
     ]
    }
   ],
   "source": [
    "tidydata1 = TidyData(\n",
    "    observations1,\n",
    "    Column(period.finds_observations_directly(right)),\n",
    "    Column(dataset_identifier_code.finds_observations_directly(down)),\n",
    "    Column(houses.finds_observations_directly(down))\n",
    ")\n",
    "print(\"Preview tidydata1\")\n",
    "print(tidydata1)\n",
    "\n",
    "tidydata2 = TidyData(\n",
    "    observations2,\n",
    "    Column(period.finds_observations_directly(right)),\n",
    "    Column(dataset_identifier_code.finds_observations_directly(down)),\n",
    "    Column(houses.finds_observations_directly(down))\n",
    ")\n",
    "print(\"Preview tidydata2\")\n",
    "print(tidydata2)"
   ]
  },
  {
   "attachments": {},
   "cell_type": "markdown",
   "metadata": {},
   "source": [
    "## Concatenation via '+'\n",
    "\n",
    "The simplest way to concatenate two TidyData objects is just to add them together. "
   ]
  },
  {
   "cell_type": "code",
   "execution_count": 5,
   "metadata": {},
   "outputs": [
    {
     "data": {
      "text/html": [
       "<table>\n",
       "<thead>\n",
       "<tr><th style=\"text-align: right;\">  Observations</th><th>Period  </th><th>Dataset Identifier Code  </th><th>Houses                     </th></tr>\n",
       "</thead>\n",
       "<tbody>\n",
       "<tr><td style=\"text-align: right;\">           5.6</td><td>Jun 2010</td><td>MVO6                     </td><td>Public new housing         </td></tr>\n",
       "<tr><td style=\"text-align: right;\">           9.8</td><td>Jun 2010</td><td>MVO7                     </td><td>Private new housing        </td></tr>\n",
       "<tr><td style=\"text-align: right;\">           8.8</td><td>Jun 2010</td><td>MVO8                     </td><td>Total new housing          </td></tr>\n",
       "<tr><td style=\"text-align: right;\">           3  </td><td>Jun 2010</td><td>MVO9                     </td><td>Infrastructure new work    </td></tr>\n",
       "<tr><td style=\"text-align: right;\">           4.3</td><td>Jun 2010</td><td>MVP2                     </td><td>Public other new work      </td></tr>\n",
       "<tr><td style=\"text-align: right;\">           3.7</td><td>Jun 2010</td><td>MVP3                     </td><td>Private industrial new work</td></tr>\n",
       "<tr><td style=\"text-align: right;\">           1.9</td><td>Jun 2010</td><td>MVP4                     </td><td>Private commercial new work</td></tr>\n",
       "<tr><td style=\"text-align: right;\">           2  </td><td>Jul 2010</td><td>MVO6                     </td><td>Public new housing         </td></tr>\n",
       "<tr><td style=\"text-align: right;\">           5.6</td><td>Jul 2010</td><td>MVO7                     </td><td>Private new housing        </td></tr>\n",
       "<tr><td style=\"text-align: right;\">           4.8</td><td>Jul 2010</td><td>MVO8                     </td><td>Total new housing          </td></tr>\n",
       "<tr><td style=\"text-align: right;\">           0.2</td><td>Jul 2010</td><td>MVO9                     </td><td>Infrastructure new work    </td></tr>\n",
       "<tr><td style=\"text-align: right;\">          -0.2</td><td>Jul 2010</td><td>MVP2                     </td><td>Public other new work      </td></tr>\n",
       "<tr><td style=\"text-align: right;\">           9.7</td><td>Jul 2010</td><td>MVP3                     </td><td>Private industrial new work</td></tr>\n",
       "<tr><td style=\"text-align: right;\">           3.5</td><td>Jul 2010</td><td>MVP4                     </td><td>Private commercial new work</td></tr>\n",
       "<tr><td style=\"text-align: right;\">           5.5</td><td>Aug 2010</td><td>MVO6                     </td><td>Public new housing         </td></tr>\n",
       "<tr><td style=\"text-align: right;\">           4.5</td><td>Aug 2010</td><td>MVO7                     </td><td>Private new housing        </td></tr>\n",
       "<tr><td style=\"text-align: right;\">           4.7</td><td>Aug 2010</td><td>MVO8                     </td><td>Total new housing          </td></tr>\n",
       "<tr><td style=\"text-align: right;\">          -2.9</td><td>Aug 2010</td><td>MVO9                     </td><td>Infrastructure new work    </td></tr>\n",
       "<tr><td style=\"text-align: right;\">          -2.9</td><td>Aug 2010</td><td>MVP2                     </td><td>Public other new work      </td></tr>\n",
       "<tr><td style=\"text-align: right;\">          24.4</td><td>Aug 2010</td><td>MVP3                     </td><td>Private industrial new work</td></tr>\n",
       "<tr><td style=\"text-align: right;\">           5.9</td><td>Aug 2010</td><td>MVP4                     </td><td>Private commercial new work</td></tr>\n",
       "<tr><td style=\"text-align: right;\">          11.7</td><td>Sep 2010</td><td>MVO6                     </td><td>Public new housing         </td></tr>\n",
       "<tr><td style=\"text-align: right;\">           7.5</td><td>Sep 2010</td><td>MVO7                     </td><td>Private new housing        </td></tr>\n",
       "<tr><td style=\"text-align: right;\">           8.5</td><td>Sep 2010</td><td>MVO8                     </td><td>Total new housing          </td></tr>\n",
       "<tr><td style=\"text-align: right;\">          -6.8</td><td>Sep 2010</td><td>MVO9                     </td><td>Infrastructure new work    </td></tr>\n",
       "<tr><td style=\"text-align: right;\">          -3.3</td><td>Sep 2010</td><td>MVP2                     </td><td>Public other new work      </td></tr>\n",
       "<tr><td style=\"text-align: right;\">          16.1</td><td>Sep 2010</td><td>MVP3                     </td><td>Private industrial new work</td></tr>\n",
       "<tr><td style=\"text-align: right;\">           5.3</td><td>Sep 2010</td><td>MVP4                     </td><td>Private commercial new work</td></tr>\n",
       "</tbody>\n",
       "</table>"
      ],
      "text/plain": [
       "'<table>\\n<thead>\\n<tr><th style=\"text-align: right;\">  Observations</th><th>Period  </th><th>Dataset Identifier Code  </th><th>Houses                     </th></tr>\\n</thead>\\n<tbody>\\n<tr><td style=\"text-align: right;\">           5.6</td><td>Jun 2010</td><td>MVO6                     </td><td>Public new housing         </td></tr>\\n<tr><td style=\"text-align: right;\">           9.8</td><td>Jun 2010</td><td>MVO7                     </td><td>Private new housing        </td></tr>\\n<tr><td style=\"text-align: right;\">           8.8</td><td>Jun 2010</td><td>MVO8                     </td><td>Total new housing          </td></tr>\\n<tr><td style=\"text-align: right;\">           3  </td><td>Jun 2010</td><td>MVO9                     </td><td>Infrastructure new work    </td></tr>\\n<tr><td style=\"text-align: right;\">           4.3</td><td>Jun 2010</td><td>MVP2                     </td><td>Public other new work      </td></tr>\\n<tr><td style=\"text-align: right;\">           3.7</td><td>Jun 2010</td><td>MVP3                     </td><td>Private industrial new work</td></tr>\\n<tr><td style=\"text-align: right;\">           1.9</td><td>Jun 2010</td><td>MVP4                     </td><td>Private commercial new work</td></tr>\\n<tr><td style=\"text-align: right;\">           2  </td><td>Jul 2010</td><td>MVO6                     </td><td>Public new housing         </td></tr>\\n<tr><td style=\"text-align: right;\">           5.6</td><td>Jul 2010</td><td>MVO7                     </td><td>Private new housing        </td></tr>\\n<tr><td style=\"text-align: right;\">           4.8</td><td>Jul 2010</td><td>MVO8                     </td><td>Total new housing          </td></tr>\\n<tr><td style=\"text-align: right;\">           0.2</td><td>Jul 2010</td><td>MVO9                     </td><td>Infrastructure new work    </td></tr>\\n<tr><td style=\"text-align: right;\">          -0.2</td><td>Jul 2010</td><td>MVP2                     </td><td>Public other new work      </td></tr>\\n<tr><td style=\"text-align: right;\">           9.7</td><td>Jul 2010</td><td>MVP3                     </td><td>Private industrial new work</td></tr>\\n<tr><td style=\"text-align: right;\">           3.5</td><td>Jul 2010</td><td>MVP4                     </td><td>Private commercial new work</td></tr>\\n<tr><td style=\"text-align: right;\">           5.5</td><td>Aug 2010</td><td>MVO6                     </td><td>Public new housing         </td></tr>\\n<tr><td style=\"text-align: right;\">           4.5</td><td>Aug 2010</td><td>MVO7                     </td><td>Private new housing        </td></tr>\\n<tr><td style=\"text-align: right;\">           4.7</td><td>Aug 2010</td><td>MVO8                     </td><td>Total new housing          </td></tr>\\n<tr><td style=\"text-align: right;\">          -2.9</td><td>Aug 2010</td><td>MVO9                     </td><td>Infrastructure new work    </td></tr>\\n<tr><td style=\"text-align: right;\">          -2.9</td><td>Aug 2010</td><td>MVP2                     </td><td>Public other new work      </td></tr>\\n<tr><td style=\"text-align: right;\">          24.4</td><td>Aug 2010</td><td>MVP3                     </td><td>Private industrial new work</td></tr>\\n<tr><td style=\"text-align: right;\">           5.9</td><td>Aug 2010</td><td>MVP4                     </td><td>Private commercial new work</td></tr>\\n<tr><td style=\"text-align: right;\">          11.7</td><td>Sep 2010</td><td>MVO6                     </td><td>Public new housing         </td></tr>\\n<tr><td style=\"text-align: right;\">           7.5</td><td>Sep 2010</td><td>MVO7                     </td><td>Private new housing        </td></tr>\\n<tr><td style=\"text-align: right;\">           8.5</td><td>Sep 2010</td><td>MVO8                     </td><td>Total new housing          </td></tr>\\n<tr><td style=\"text-align: right;\">          -6.8</td><td>Sep 2010</td><td>MVO9                     </td><td>Infrastructure new work    </td></tr>\\n<tr><td style=\"text-align: right;\">          -3.3</td><td>Sep 2010</td><td>MVP2                     </td><td>Public other new work      </td></tr>\\n<tr><td style=\"text-align: right;\">          16.1</td><td>Sep 2010</td><td>MVP3                     </td><td>Private industrial new work</td></tr>\\n<tr><td style=\"text-align: right;\">           5.3</td><td>Sep 2010</td><td>MVP4                     </td><td>Private commercial new work</td></tr>\\n</tbody>\\n</table>'"
      ]
     },
     "metadata": {},
     "output_type": "display_data"
    },
    {
     "name": "stdout",
     "output_type": "stream",
     "text": [
      "\n",
      "Preview tidydata1\n"
     ]
    },
    {
     "data": {
      "text/html": [
       "<table>\n",
       "<thead>\n",
       "<tr><th style=\"text-align: right;\">  Observations</th><th>Period  </th><th>Dataset Identifier Code  </th><th>Houses                     </th></tr>\n",
       "</thead>\n",
       "<tbody>\n",
       "<tr><td style=\"text-align: right;\">           5.6</td><td>Jun 2010</td><td>MVO6                     </td><td>Public new housing         </td></tr>\n",
       "<tr><td style=\"text-align: right;\">           9.8</td><td>Jun 2010</td><td>MVO7                     </td><td>Private new housing        </td></tr>\n",
       "<tr><td style=\"text-align: right;\">           8.8</td><td>Jun 2010</td><td>MVO8                     </td><td>Total new housing          </td></tr>\n",
       "<tr><td style=\"text-align: right;\">           3  </td><td>Jun 2010</td><td>MVO9                     </td><td>Infrastructure new work    </td></tr>\n",
       "<tr><td style=\"text-align: right;\">           4.3</td><td>Jun 2010</td><td>MVP2                     </td><td>Public other new work      </td></tr>\n",
       "<tr><td style=\"text-align: right;\">           3.7</td><td>Jun 2010</td><td>MVP3                     </td><td>Private industrial new work</td></tr>\n",
       "<tr><td style=\"text-align: right;\">           1.9</td><td>Jun 2010</td><td>MVP4                     </td><td>Private commercial new work</td></tr>\n",
       "<tr><td style=\"text-align: right;\">           2  </td><td>Jul 2010</td><td>MVO6                     </td><td>Public new housing         </td></tr>\n",
       "<tr><td style=\"text-align: right;\">           5.6</td><td>Jul 2010</td><td>MVO7                     </td><td>Private new housing        </td></tr>\n",
       "<tr><td style=\"text-align: right;\">           4.8</td><td>Jul 2010</td><td>MVO8                     </td><td>Total new housing          </td></tr>\n",
       "<tr><td style=\"text-align: right;\">           0.2</td><td>Jul 2010</td><td>MVO9                     </td><td>Infrastructure new work    </td></tr>\n",
       "<tr><td style=\"text-align: right;\">          -0.2</td><td>Jul 2010</td><td>MVP2                     </td><td>Public other new work      </td></tr>\n",
       "<tr><td style=\"text-align: right;\">           9.7</td><td>Jul 2010</td><td>MVP3                     </td><td>Private industrial new work</td></tr>\n",
       "<tr><td style=\"text-align: right;\">           3.5</td><td>Jul 2010</td><td>MVP4                     </td><td>Private commercial new work</td></tr>\n",
       "</tbody>\n",
       "</table>"
      ],
      "text/plain": [
       "'<table>\\n<thead>\\n<tr><th style=\"text-align: right;\">  Observations</th><th>Period  </th><th>Dataset Identifier Code  </th><th>Houses                     </th></tr>\\n</thead>\\n<tbody>\\n<tr><td style=\"text-align: right;\">           5.6</td><td>Jun 2010</td><td>MVO6                     </td><td>Public new housing         </td></tr>\\n<tr><td style=\"text-align: right;\">           9.8</td><td>Jun 2010</td><td>MVO7                     </td><td>Private new housing        </td></tr>\\n<tr><td style=\"text-align: right;\">           8.8</td><td>Jun 2010</td><td>MVO8                     </td><td>Total new housing          </td></tr>\\n<tr><td style=\"text-align: right;\">           3  </td><td>Jun 2010</td><td>MVO9                     </td><td>Infrastructure new work    </td></tr>\\n<tr><td style=\"text-align: right;\">           4.3</td><td>Jun 2010</td><td>MVP2                     </td><td>Public other new work      </td></tr>\\n<tr><td style=\"text-align: right;\">           3.7</td><td>Jun 2010</td><td>MVP3                     </td><td>Private industrial new work</td></tr>\\n<tr><td style=\"text-align: right;\">           1.9</td><td>Jun 2010</td><td>MVP4                     </td><td>Private commercial new work</td></tr>\\n<tr><td style=\"text-align: right;\">           2  </td><td>Jul 2010</td><td>MVO6                     </td><td>Public new housing         </td></tr>\\n<tr><td style=\"text-align: right;\">           5.6</td><td>Jul 2010</td><td>MVO7                     </td><td>Private new housing        </td></tr>\\n<tr><td style=\"text-align: right;\">           4.8</td><td>Jul 2010</td><td>MVO8                     </td><td>Total new housing          </td></tr>\\n<tr><td style=\"text-align: right;\">           0.2</td><td>Jul 2010</td><td>MVO9                     </td><td>Infrastructure new work    </td></tr>\\n<tr><td style=\"text-align: right;\">          -0.2</td><td>Jul 2010</td><td>MVP2                     </td><td>Public other new work      </td></tr>\\n<tr><td style=\"text-align: right;\">           9.7</td><td>Jul 2010</td><td>MVP3                     </td><td>Private industrial new work</td></tr>\\n<tr><td style=\"text-align: right;\">           3.5</td><td>Jul 2010</td><td>MVP4                     </td><td>Private commercial new work</td></tr>\\n</tbody>\\n</table>'"
      ]
     },
     "metadata": {},
     "output_type": "display_data"
    },
    {
     "name": "stdout",
     "output_type": "stream",
     "text": [
      "\n",
      "Preview tidydata2\n"
     ]
    },
    {
     "data": {
      "text/html": [
       "<table>\n",
       "<thead>\n",
       "<tr><th style=\"text-align: right;\">  Observations</th><th>Period  </th><th>Dataset Identifier Code  </th><th>Houses                     </th></tr>\n",
       "</thead>\n",
       "<tbody>\n",
       "<tr><td style=\"text-align: right;\">           5.5</td><td>Aug 2010</td><td>MVO6                     </td><td>Public new housing         </td></tr>\n",
       "<tr><td style=\"text-align: right;\">           4.5</td><td>Aug 2010</td><td>MVO7                     </td><td>Private new housing        </td></tr>\n",
       "<tr><td style=\"text-align: right;\">           4.7</td><td>Aug 2010</td><td>MVO8                     </td><td>Total new housing          </td></tr>\n",
       "<tr><td style=\"text-align: right;\">          -2.9</td><td>Aug 2010</td><td>MVO9                     </td><td>Infrastructure new work    </td></tr>\n",
       "<tr><td style=\"text-align: right;\">          -2.9</td><td>Aug 2010</td><td>MVP2                     </td><td>Public other new work      </td></tr>\n",
       "<tr><td style=\"text-align: right;\">          24.4</td><td>Aug 2010</td><td>MVP3                     </td><td>Private industrial new work</td></tr>\n",
       "<tr><td style=\"text-align: right;\">           5.9</td><td>Aug 2010</td><td>MVP4                     </td><td>Private commercial new work</td></tr>\n",
       "<tr><td style=\"text-align: right;\">          11.7</td><td>Sep 2010</td><td>MVO6                     </td><td>Public new housing         </td></tr>\n",
       "<tr><td style=\"text-align: right;\">           7.5</td><td>Sep 2010</td><td>MVO7                     </td><td>Private new housing        </td></tr>\n",
       "<tr><td style=\"text-align: right;\">           8.5</td><td>Sep 2010</td><td>MVO8                     </td><td>Total new housing          </td></tr>\n",
       "<tr><td style=\"text-align: right;\">          -6.8</td><td>Sep 2010</td><td>MVO9                     </td><td>Infrastructure new work    </td></tr>\n",
       "<tr><td style=\"text-align: right;\">          -3.3</td><td>Sep 2010</td><td>MVP2                     </td><td>Public other new work      </td></tr>\n",
       "<tr><td style=\"text-align: right;\">          16.1</td><td>Sep 2010</td><td>MVP3                     </td><td>Private industrial new work</td></tr>\n",
       "<tr><td style=\"text-align: right;\">           5.3</td><td>Sep 2010</td><td>MVP4                     </td><td>Private commercial new work</td></tr>\n",
       "</tbody>\n",
       "</table>"
      ],
      "text/plain": [
       "'<table>\\n<thead>\\n<tr><th style=\"text-align: right;\">  Observations</th><th>Period  </th><th>Dataset Identifier Code  </th><th>Houses                     </th></tr>\\n</thead>\\n<tbody>\\n<tr><td style=\"text-align: right;\">           5.5</td><td>Aug 2010</td><td>MVO6                     </td><td>Public new housing         </td></tr>\\n<tr><td style=\"text-align: right;\">           4.5</td><td>Aug 2010</td><td>MVO7                     </td><td>Private new housing        </td></tr>\\n<tr><td style=\"text-align: right;\">           4.7</td><td>Aug 2010</td><td>MVO8                     </td><td>Total new housing          </td></tr>\\n<tr><td style=\"text-align: right;\">          -2.9</td><td>Aug 2010</td><td>MVO9                     </td><td>Infrastructure new work    </td></tr>\\n<tr><td style=\"text-align: right;\">          -2.9</td><td>Aug 2010</td><td>MVP2                     </td><td>Public other new work      </td></tr>\\n<tr><td style=\"text-align: right;\">          24.4</td><td>Aug 2010</td><td>MVP3                     </td><td>Private industrial new work</td></tr>\\n<tr><td style=\"text-align: right;\">           5.9</td><td>Aug 2010</td><td>MVP4                     </td><td>Private commercial new work</td></tr>\\n<tr><td style=\"text-align: right;\">          11.7</td><td>Sep 2010</td><td>MVO6                     </td><td>Public new housing         </td></tr>\\n<tr><td style=\"text-align: right;\">           7.5</td><td>Sep 2010</td><td>MVO7                     </td><td>Private new housing        </td></tr>\\n<tr><td style=\"text-align: right;\">           8.5</td><td>Sep 2010</td><td>MVO8                     </td><td>Total new housing          </td></tr>\\n<tr><td style=\"text-align: right;\">          -6.8</td><td>Sep 2010</td><td>MVO9                     </td><td>Infrastructure new work    </td></tr>\\n<tr><td style=\"text-align: right;\">          -3.3</td><td>Sep 2010</td><td>MVP2                     </td><td>Public other new work      </td></tr>\\n<tr><td style=\"text-align: right;\">          16.1</td><td>Sep 2010</td><td>MVP3                     </td><td>Private industrial new work</td></tr>\\n<tr><td style=\"text-align: right;\">           5.3</td><td>Sep 2010</td><td>MVP4                     </td><td>Private commercial new work</td></tr>\\n</tbody>\\n</table>'"
      ]
     },
     "metadata": {},
     "output_type": "display_data"
    },
    {
     "name": "stdout",
     "output_type": "stream",
     "text": [
      "\n"
     ]
    }
   ],
   "source": [
    "tidy_data_all = tidydata1+tidydata2\n",
    "print(tidy_data_all)"
   ]
  },
  {
   "attachments": {},
   "cell_type": "markdown",
   "metadata": {},
   "source": [
    "## Concatenation via a list\n",
    "\n",
    "The next method is to use the `TidyData.from_tidy_list()` constructor."
   ]
  },
  {
   "cell_type": "code",
   "execution_count": 6,
   "metadata": {},
   "outputs": [
    {
     "data": {
      "text/html": [
       "<table>\n",
       "<thead>\n",
       "<tr><th style=\"text-align: right;\">  Observations</th><th>Period  </th><th>Dataset Identifier Code  </th><th>Houses                     </th></tr>\n",
       "</thead>\n",
       "<tbody>\n",
       "<tr><td style=\"text-align: right;\">           5.6</td><td>Jun 2010</td><td>MVO6                     </td><td>Public new housing         </td></tr>\n",
       "<tr><td style=\"text-align: right;\">           9.8</td><td>Jun 2010</td><td>MVO7                     </td><td>Private new housing        </td></tr>\n",
       "<tr><td style=\"text-align: right;\">           8.8</td><td>Jun 2010</td><td>MVO8                     </td><td>Total new housing          </td></tr>\n",
       "<tr><td style=\"text-align: right;\">           3  </td><td>Jun 2010</td><td>MVO9                     </td><td>Infrastructure new work    </td></tr>\n",
       "<tr><td style=\"text-align: right;\">           4.3</td><td>Jun 2010</td><td>MVP2                     </td><td>Public other new work      </td></tr>\n",
       "<tr><td style=\"text-align: right;\">           3.7</td><td>Jun 2010</td><td>MVP3                     </td><td>Private industrial new work</td></tr>\n",
       "<tr><td style=\"text-align: right;\">           1.9</td><td>Jun 2010</td><td>MVP4                     </td><td>Private commercial new work</td></tr>\n",
       "<tr><td style=\"text-align: right;\">           2  </td><td>Jul 2010</td><td>MVO6                     </td><td>Public new housing         </td></tr>\n",
       "<tr><td style=\"text-align: right;\">           5.6</td><td>Jul 2010</td><td>MVO7                     </td><td>Private new housing        </td></tr>\n",
       "<tr><td style=\"text-align: right;\">           4.8</td><td>Jul 2010</td><td>MVO8                     </td><td>Total new housing          </td></tr>\n",
       "<tr><td style=\"text-align: right;\">           0.2</td><td>Jul 2010</td><td>MVO9                     </td><td>Infrastructure new work    </td></tr>\n",
       "<tr><td style=\"text-align: right;\">          -0.2</td><td>Jul 2010</td><td>MVP2                     </td><td>Public other new work      </td></tr>\n",
       "<tr><td style=\"text-align: right;\">           9.7</td><td>Jul 2010</td><td>MVP3                     </td><td>Private industrial new work</td></tr>\n",
       "<tr><td style=\"text-align: right;\">           3.5</td><td>Jul 2010</td><td>MVP4                     </td><td>Private commercial new work</td></tr>\n",
       "<tr><td style=\"text-align: right;\">           5.5</td><td>Aug 2010</td><td>MVO6                     </td><td>Public new housing         </td></tr>\n",
       "<tr><td style=\"text-align: right;\">           4.5</td><td>Aug 2010</td><td>MVO7                     </td><td>Private new housing        </td></tr>\n",
       "<tr><td style=\"text-align: right;\">           4.7</td><td>Aug 2010</td><td>MVO8                     </td><td>Total new housing          </td></tr>\n",
       "<tr><td style=\"text-align: right;\">          -2.9</td><td>Aug 2010</td><td>MVO9                     </td><td>Infrastructure new work    </td></tr>\n",
       "<tr><td style=\"text-align: right;\">          -2.9</td><td>Aug 2010</td><td>MVP2                     </td><td>Public other new work      </td></tr>\n",
       "<tr><td style=\"text-align: right;\">          24.4</td><td>Aug 2010</td><td>MVP3                     </td><td>Private industrial new work</td></tr>\n",
       "<tr><td style=\"text-align: right;\">           5.9</td><td>Aug 2010</td><td>MVP4                     </td><td>Private commercial new work</td></tr>\n",
       "<tr><td style=\"text-align: right;\">          11.7</td><td>Sep 2010</td><td>MVO6                     </td><td>Public new housing         </td></tr>\n",
       "<tr><td style=\"text-align: right;\">           7.5</td><td>Sep 2010</td><td>MVO7                     </td><td>Private new housing        </td></tr>\n",
       "<tr><td style=\"text-align: right;\">           8.5</td><td>Sep 2010</td><td>MVO8                     </td><td>Total new housing          </td></tr>\n",
       "<tr><td style=\"text-align: right;\">          -6.8</td><td>Sep 2010</td><td>MVO9                     </td><td>Infrastructure new work    </td></tr>\n",
       "<tr><td style=\"text-align: right;\">          -3.3</td><td>Sep 2010</td><td>MVP2                     </td><td>Public other new work      </td></tr>\n",
       "<tr><td style=\"text-align: right;\">          16.1</td><td>Sep 2010</td><td>MVP3                     </td><td>Private industrial new work</td></tr>\n",
       "<tr><td style=\"text-align: right;\">           5.3</td><td>Sep 2010</td><td>MVP4                     </td><td>Private commercial new work</td></tr>\n",
       "</tbody>\n",
       "</table>"
      ],
      "text/plain": [
       "'<table>\\n<thead>\\n<tr><th style=\"text-align: right;\">  Observations</th><th>Period  </th><th>Dataset Identifier Code  </th><th>Houses                     </th></tr>\\n</thead>\\n<tbody>\\n<tr><td style=\"text-align: right;\">           5.6</td><td>Jun 2010</td><td>MVO6                     </td><td>Public new housing         </td></tr>\\n<tr><td style=\"text-align: right;\">           9.8</td><td>Jun 2010</td><td>MVO7                     </td><td>Private new housing        </td></tr>\\n<tr><td style=\"text-align: right;\">           8.8</td><td>Jun 2010</td><td>MVO8                     </td><td>Total new housing          </td></tr>\\n<tr><td style=\"text-align: right;\">           3  </td><td>Jun 2010</td><td>MVO9                     </td><td>Infrastructure new work    </td></tr>\\n<tr><td style=\"text-align: right;\">           4.3</td><td>Jun 2010</td><td>MVP2                     </td><td>Public other new work      </td></tr>\\n<tr><td style=\"text-align: right;\">           3.7</td><td>Jun 2010</td><td>MVP3                     </td><td>Private industrial new work</td></tr>\\n<tr><td style=\"text-align: right;\">           1.9</td><td>Jun 2010</td><td>MVP4                     </td><td>Private commercial new work</td></tr>\\n<tr><td style=\"text-align: right;\">           2  </td><td>Jul 2010</td><td>MVO6                     </td><td>Public new housing         </td></tr>\\n<tr><td style=\"text-align: right;\">           5.6</td><td>Jul 2010</td><td>MVO7                     </td><td>Private new housing        </td></tr>\\n<tr><td style=\"text-align: right;\">           4.8</td><td>Jul 2010</td><td>MVO8                     </td><td>Total new housing          </td></tr>\\n<tr><td style=\"text-align: right;\">           0.2</td><td>Jul 2010</td><td>MVO9                     </td><td>Infrastructure new work    </td></tr>\\n<tr><td style=\"text-align: right;\">          -0.2</td><td>Jul 2010</td><td>MVP2                     </td><td>Public other new work      </td></tr>\\n<tr><td style=\"text-align: right;\">           9.7</td><td>Jul 2010</td><td>MVP3                     </td><td>Private industrial new work</td></tr>\\n<tr><td style=\"text-align: right;\">           3.5</td><td>Jul 2010</td><td>MVP4                     </td><td>Private commercial new work</td></tr>\\n<tr><td style=\"text-align: right;\">           5.5</td><td>Aug 2010</td><td>MVO6                     </td><td>Public new housing         </td></tr>\\n<tr><td style=\"text-align: right;\">           4.5</td><td>Aug 2010</td><td>MVO7                     </td><td>Private new housing        </td></tr>\\n<tr><td style=\"text-align: right;\">           4.7</td><td>Aug 2010</td><td>MVO8                     </td><td>Total new housing          </td></tr>\\n<tr><td style=\"text-align: right;\">          -2.9</td><td>Aug 2010</td><td>MVO9                     </td><td>Infrastructure new work    </td></tr>\\n<tr><td style=\"text-align: right;\">          -2.9</td><td>Aug 2010</td><td>MVP2                     </td><td>Public other new work      </td></tr>\\n<tr><td style=\"text-align: right;\">          24.4</td><td>Aug 2010</td><td>MVP3                     </td><td>Private industrial new work</td></tr>\\n<tr><td style=\"text-align: right;\">           5.9</td><td>Aug 2010</td><td>MVP4                     </td><td>Private commercial new work</td></tr>\\n<tr><td style=\"text-align: right;\">          11.7</td><td>Sep 2010</td><td>MVO6                     </td><td>Public new housing         </td></tr>\\n<tr><td style=\"text-align: right;\">           7.5</td><td>Sep 2010</td><td>MVO7                     </td><td>Private new housing        </td></tr>\\n<tr><td style=\"text-align: right;\">           8.5</td><td>Sep 2010</td><td>MVO8                     </td><td>Total new housing          </td></tr>\\n<tr><td style=\"text-align: right;\">          -6.8</td><td>Sep 2010</td><td>MVO9                     </td><td>Infrastructure new work    </td></tr>\\n<tr><td style=\"text-align: right;\">          -3.3</td><td>Sep 2010</td><td>MVP2                     </td><td>Public other new work      </td></tr>\\n<tr><td style=\"text-align: right;\">          16.1</td><td>Sep 2010</td><td>MVP3                     </td><td>Private industrial new work</td></tr>\\n<tr><td style=\"text-align: right;\">           5.3</td><td>Sep 2010</td><td>MVP4                     </td><td>Private commercial new work</td></tr>\\n</tbody>\\n</table>'"
      ]
     },
     "metadata": {},
     "output_type": "display_data"
    },
    {
     "name": "stdout",
     "output_type": "stream",
     "text": [
      "\n"
     ]
    }
   ],
   "source": [
    "tidy_data_all = TidyData.from_tidy_list([tidydata1, tidydata2])\n",
    "print(tidy_data_all)"
   ]
  },
  {
   "attachments": {},
   "cell_type": "markdown",
   "metadata": {},
   "source": [
    "## Concatenation via arguments\n",
    "\n",
    "Lastly, you can pass in objects of class TidyData as positional arguments to the `TidyData.from_tidy()` constructor."
   ]
  },
  {
   "cell_type": "code",
   "execution_count": 7,
   "metadata": {},
   "outputs": [
    {
     "data": {
      "text/html": [
       "<table>\n",
       "<thead>\n",
       "<tr><th style=\"text-align: right;\">  Observations</th><th>Period  </th><th>Dataset Identifier Code  </th><th>Houses                     </th></tr>\n",
       "</thead>\n",
       "<tbody>\n",
       "<tr><td style=\"text-align: right;\">           5.6</td><td>Jun 2010</td><td>MVO6                     </td><td>Public new housing         </td></tr>\n",
       "<tr><td style=\"text-align: right;\">           9.8</td><td>Jun 2010</td><td>MVO7                     </td><td>Private new housing        </td></tr>\n",
       "<tr><td style=\"text-align: right;\">           8.8</td><td>Jun 2010</td><td>MVO8                     </td><td>Total new housing          </td></tr>\n",
       "<tr><td style=\"text-align: right;\">           3  </td><td>Jun 2010</td><td>MVO9                     </td><td>Infrastructure new work    </td></tr>\n",
       "<tr><td style=\"text-align: right;\">           4.3</td><td>Jun 2010</td><td>MVP2                     </td><td>Public other new work      </td></tr>\n",
       "<tr><td style=\"text-align: right;\">           3.7</td><td>Jun 2010</td><td>MVP3                     </td><td>Private industrial new work</td></tr>\n",
       "<tr><td style=\"text-align: right;\">           1.9</td><td>Jun 2010</td><td>MVP4                     </td><td>Private commercial new work</td></tr>\n",
       "<tr><td style=\"text-align: right;\">           2  </td><td>Jul 2010</td><td>MVO6                     </td><td>Public new housing         </td></tr>\n",
       "<tr><td style=\"text-align: right;\">           5.6</td><td>Jul 2010</td><td>MVO7                     </td><td>Private new housing        </td></tr>\n",
       "<tr><td style=\"text-align: right;\">           4.8</td><td>Jul 2010</td><td>MVO8                     </td><td>Total new housing          </td></tr>\n",
       "<tr><td style=\"text-align: right;\">           0.2</td><td>Jul 2010</td><td>MVO9                     </td><td>Infrastructure new work    </td></tr>\n",
       "<tr><td style=\"text-align: right;\">          -0.2</td><td>Jul 2010</td><td>MVP2                     </td><td>Public other new work      </td></tr>\n",
       "<tr><td style=\"text-align: right;\">           9.7</td><td>Jul 2010</td><td>MVP3                     </td><td>Private industrial new work</td></tr>\n",
       "<tr><td style=\"text-align: right;\">           3.5</td><td>Jul 2010</td><td>MVP4                     </td><td>Private commercial new work</td></tr>\n",
       "<tr><td style=\"text-align: right;\">           5.5</td><td>Aug 2010</td><td>MVO6                     </td><td>Public new housing         </td></tr>\n",
       "<tr><td style=\"text-align: right;\">           4.5</td><td>Aug 2010</td><td>MVO7                     </td><td>Private new housing        </td></tr>\n",
       "<tr><td style=\"text-align: right;\">           4.7</td><td>Aug 2010</td><td>MVO8                     </td><td>Total new housing          </td></tr>\n",
       "<tr><td style=\"text-align: right;\">          -2.9</td><td>Aug 2010</td><td>MVO9                     </td><td>Infrastructure new work    </td></tr>\n",
       "<tr><td style=\"text-align: right;\">          -2.9</td><td>Aug 2010</td><td>MVP2                     </td><td>Public other new work      </td></tr>\n",
       "<tr><td style=\"text-align: right;\">          24.4</td><td>Aug 2010</td><td>MVP3                     </td><td>Private industrial new work</td></tr>\n",
       "<tr><td style=\"text-align: right;\">           5.9</td><td>Aug 2010</td><td>MVP4                     </td><td>Private commercial new work</td></tr>\n",
       "<tr><td style=\"text-align: right;\">          11.7</td><td>Sep 2010</td><td>MVO6                     </td><td>Public new housing         </td></tr>\n",
       "<tr><td style=\"text-align: right;\">           7.5</td><td>Sep 2010</td><td>MVO7                     </td><td>Private new housing        </td></tr>\n",
       "<tr><td style=\"text-align: right;\">           8.5</td><td>Sep 2010</td><td>MVO8                     </td><td>Total new housing          </td></tr>\n",
       "<tr><td style=\"text-align: right;\">          -6.8</td><td>Sep 2010</td><td>MVO9                     </td><td>Infrastructure new work    </td></tr>\n",
       "<tr><td style=\"text-align: right;\">          -3.3</td><td>Sep 2010</td><td>MVP2                     </td><td>Public other new work      </td></tr>\n",
       "<tr><td style=\"text-align: right;\">          16.1</td><td>Sep 2010</td><td>MVP3                     </td><td>Private industrial new work</td></tr>\n",
       "<tr><td style=\"text-align: right;\">           5.3</td><td>Sep 2010</td><td>MVP4                     </td><td>Private commercial new work</td></tr>\n",
       "</tbody>\n",
       "</table>"
      ],
      "text/plain": [
       "'<table>\\n<thead>\\n<tr><th style=\"text-align: right;\">  Observations</th><th>Period  </th><th>Dataset Identifier Code  </th><th>Houses                     </th></tr>\\n</thead>\\n<tbody>\\n<tr><td style=\"text-align: right;\">           5.6</td><td>Jun 2010</td><td>MVO6                     </td><td>Public new housing         </td></tr>\\n<tr><td style=\"text-align: right;\">           9.8</td><td>Jun 2010</td><td>MVO7                     </td><td>Private new housing        </td></tr>\\n<tr><td style=\"text-align: right;\">           8.8</td><td>Jun 2010</td><td>MVO8                     </td><td>Total new housing          </td></tr>\\n<tr><td style=\"text-align: right;\">           3  </td><td>Jun 2010</td><td>MVO9                     </td><td>Infrastructure new work    </td></tr>\\n<tr><td style=\"text-align: right;\">           4.3</td><td>Jun 2010</td><td>MVP2                     </td><td>Public other new work      </td></tr>\\n<tr><td style=\"text-align: right;\">           3.7</td><td>Jun 2010</td><td>MVP3                     </td><td>Private industrial new work</td></tr>\\n<tr><td style=\"text-align: right;\">           1.9</td><td>Jun 2010</td><td>MVP4                     </td><td>Private commercial new work</td></tr>\\n<tr><td style=\"text-align: right;\">           2  </td><td>Jul 2010</td><td>MVO6                     </td><td>Public new housing         </td></tr>\\n<tr><td style=\"text-align: right;\">           5.6</td><td>Jul 2010</td><td>MVO7                     </td><td>Private new housing        </td></tr>\\n<tr><td style=\"text-align: right;\">           4.8</td><td>Jul 2010</td><td>MVO8                     </td><td>Total new housing          </td></tr>\\n<tr><td style=\"text-align: right;\">           0.2</td><td>Jul 2010</td><td>MVO9                     </td><td>Infrastructure new work    </td></tr>\\n<tr><td style=\"text-align: right;\">          -0.2</td><td>Jul 2010</td><td>MVP2                     </td><td>Public other new work      </td></tr>\\n<tr><td style=\"text-align: right;\">           9.7</td><td>Jul 2010</td><td>MVP3                     </td><td>Private industrial new work</td></tr>\\n<tr><td style=\"text-align: right;\">           3.5</td><td>Jul 2010</td><td>MVP4                     </td><td>Private commercial new work</td></tr>\\n<tr><td style=\"text-align: right;\">           5.5</td><td>Aug 2010</td><td>MVO6                     </td><td>Public new housing         </td></tr>\\n<tr><td style=\"text-align: right;\">           4.5</td><td>Aug 2010</td><td>MVO7                     </td><td>Private new housing        </td></tr>\\n<tr><td style=\"text-align: right;\">           4.7</td><td>Aug 2010</td><td>MVO8                     </td><td>Total new housing          </td></tr>\\n<tr><td style=\"text-align: right;\">          -2.9</td><td>Aug 2010</td><td>MVO9                     </td><td>Infrastructure new work    </td></tr>\\n<tr><td style=\"text-align: right;\">          -2.9</td><td>Aug 2010</td><td>MVP2                     </td><td>Public other new work      </td></tr>\\n<tr><td style=\"text-align: right;\">          24.4</td><td>Aug 2010</td><td>MVP3                     </td><td>Private industrial new work</td></tr>\\n<tr><td style=\"text-align: right;\">           5.9</td><td>Aug 2010</td><td>MVP4                     </td><td>Private commercial new work</td></tr>\\n<tr><td style=\"text-align: right;\">          11.7</td><td>Sep 2010</td><td>MVO6                     </td><td>Public new housing         </td></tr>\\n<tr><td style=\"text-align: right;\">           7.5</td><td>Sep 2010</td><td>MVO7                     </td><td>Private new housing        </td></tr>\\n<tr><td style=\"text-align: right;\">           8.5</td><td>Sep 2010</td><td>MVO8                     </td><td>Total new housing          </td></tr>\\n<tr><td style=\"text-align: right;\">          -6.8</td><td>Sep 2010</td><td>MVO9                     </td><td>Infrastructure new work    </td></tr>\\n<tr><td style=\"text-align: right;\">          -3.3</td><td>Sep 2010</td><td>MVP2                     </td><td>Public other new work      </td></tr>\\n<tr><td style=\"text-align: right;\">          16.1</td><td>Sep 2010</td><td>MVP3                     </td><td>Private industrial new work</td></tr>\\n<tr><td style=\"text-align: right;\">           5.3</td><td>Sep 2010</td><td>MVP4                     </td><td>Private commercial new work</td></tr>\\n</tbody>\\n</table>'"
      ]
     },
     "metadata": {},
     "output_type": "display_data"
    },
    {
     "name": "stdout",
     "output_type": "stream",
     "text": [
      "\n"
     ]
    }
   ],
   "source": [
    "tidy_data_all = TidyData.from_tidy(tidydata1, tidydata2)\n",
    "print(tidy_data_all)"
   ]
  },
  {
   "attachments": {},
   "cell_type": "markdown",
   "metadata": {},
   "source": [
    "## Misaligned Headers Error\n",
    "\n",
    "Where concatenating together TidyData the column headers must match precisely.\n",
    "\n",
    "The following is an example of what happens if you try and concatenate two TidyData classes with misaligned headers."
   ]
  },
  {
   "cell_type": "code",
   "execution_count": 8,
   "metadata": {},
   "outputs": [
    {
     "name": "stdout",
     "output_type": "stream",
     "text": [
      "Preview tidydata1\n"
     ]
    },
    {
     "data": {
      "text/html": [
       "<table>\n",
       "<thead>\n",
       "<tr><th style=\"text-align: right;\">  Observations</th><th>Period  </th><th>Dataset Identifier Code  </th><th>Houses                     </th></tr>\n",
       "</thead>\n",
       "<tbody>\n",
       "<tr><td style=\"text-align: right;\">           5.6</td><td>Jun 2010</td><td>MVO6                     </td><td>Public new housing         </td></tr>\n",
       "<tr><td style=\"text-align: right;\">           9.8</td><td>Jun 2010</td><td>MVO7                     </td><td>Private new housing        </td></tr>\n",
       "<tr><td style=\"text-align: right;\">           8.8</td><td>Jun 2010</td><td>MVO8                     </td><td>Total new housing          </td></tr>\n",
       "<tr><td style=\"text-align: right;\">           3  </td><td>Jun 2010</td><td>MVO9                     </td><td>Infrastructure new work    </td></tr>\n",
       "<tr><td style=\"text-align: right;\">           4.3</td><td>Jun 2010</td><td>MVP2                     </td><td>Public other new work      </td></tr>\n",
       "<tr><td style=\"text-align: right;\">           3.7</td><td>Jun 2010</td><td>MVP3                     </td><td>Private industrial new work</td></tr>\n",
       "<tr><td style=\"text-align: right;\">           1.9</td><td>Jun 2010</td><td>MVP4                     </td><td>Private commercial new work</td></tr>\n",
       "<tr><td style=\"text-align: right;\">           2  </td><td>Jul 2010</td><td>MVO6                     </td><td>Public new housing         </td></tr>\n",
       "<tr><td style=\"text-align: right;\">           5.6</td><td>Jul 2010</td><td>MVO7                     </td><td>Private new housing        </td></tr>\n",
       "<tr><td style=\"text-align: right;\">           4.8</td><td>Jul 2010</td><td>MVO8                     </td><td>Total new housing          </td></tr>\n",
       "<tr><td style=\"text-align: right;\">           0.2</td><td>Jul 2010</td><td>MVO9                     </td><td>Infrastructure new work    </td></tr>\n",
       "<tr><td style=\"text-align: right;\">          -0.2</td><td>Jul 2010</td><td>MVP2                     </td><td>Public other new work      </td></tr>\n",
       "<tr><td style=\"text-align: right;\">           9.7</td><td>Jul 2010</td><td>MVP3                     </td><td>Private industrial new work</td></tr>\n",
       "<tr><td style=\"text-align: right;\">           3.5</td><td>Jul 2010</td><td>MVP4                     </td><td>Private commercial new work</td></tr>\n",
       "</tbody>\n",
       "</table>"
      ],
      "text/plain": [
       "'<table>\\n<thead>\\n<tr><th style=\"text-align: right;\">  Observations</th><th>Period  </th><th>Dataset Identifier Code  </th><th>Houses                     </th></tr>\\n</thead>\\n<tbody>\\n<tr><td style=\"text-align: right;\">           5.6</td><td>Jun 2010</td><td>MVO6                     </td><td>Public new housing         </td></tr>\\n<tr><td style=\"text-align: right;\">           9.8</td><td>Jun 2010</td><td>MVO7                     </td><td>Private new housing        </td></tr>\\n<tr><td style=\"text-align: right;\">           8.8</td><td>Jun 2010</td><td>MVO8                     </td><td>Total new housing          </td></tr>\\n<tr><td style=\"text-align: right;\">           3  </td><td>Jun 2010</td><td>MVO9                     </td><td>Infrastructure new work    </td></tr>\\n<tr><td style=\"text-align: right;\">           4.3</td><td>Jun 2010</td><td>MVP2                     </td><td>Public other new work      </td></tr>\\n<tr><td style=\"text-align: right;\">           3.7</td><td>Jun 2010</td><td>MVP3                     </td><td>Private industrial new work</td></tr>\\n<tr><td style=\"text-align: right;\">           1.9</td><td>Jun 2010</td><td>MVP4                     </td><td>Private commercial new work</td></tr>\\n<tr><td style=\"text-align: right;\">           2  </td><td>Jul 2010</td><td>MVO6                     </td><td>Public new housing         </td></tr>\\n<tr><td style=\"text-align: right;\">           5.6</td><td>Jul 2010</td><td>MVO7                     </td><td>Private new housing        </td></tr>\\n<tr><td style=\"text-align: right;\">           4.8</td><td>Jul 2010</td><td>MVO8                     </td><td>Total new housing          </td></tr>\\n<tr><td style=\"text-align: right;\">           0.2</td><td>Jul 2010</td><td>MVO9                     </td><td>Infrastructure new work    </td></tr>\\n<tr><td style=\"text-align: right;\">          -0.2</td><td>Jul 2010</td><td>MVP2                     </td><td>Public other new work      </td></tr>\\n<tr><td style=\"text-align: right;\">           9.7</td><td>Jul 2010</td><td>MVP3                     </td><td>Private industrial new work</td></tr>\\n<tr><td style=\"text-align: right;\">           3.5</td><td>Jul 2010</td><td>MVP4                     </td><td>Private commercial new work</td></tr>\\n</tbody>\\n</table>'"
      ]
     },
     "metadata": {},
     "output_type": "display_data"
    },
    {
     "name": "stdout",
     "output_type": "stream",
     "text": [
      "\n",
      "Preview tidydata2\n"
     ]
    },
    {
     "data": {
      "text/html": [
       "<table>\n",
       "<thead>\n",
       "<tr><th style=\"text-align: right;\">  Value</th><th>Period  </th><th>Dataset Identifier Code  </th><th>Houses                     </th></tr>\n",
       "</thead>\n",
       "<tbody>\n",
       "<tr><td style=\"text-align: right;\">    5.5</td><td>Aug 2010</td><td>MVO6                     </td><td>Public new housing         </td></tr>\n",
       "<tr><td style=\"text-align: right;\">    4.5</td><td>Aug 2010</td><td>MVO7                     </td><td>Private new housing        </td></tr>\n",
       "<tr><td style=\"text-align: right;\">    4.7</td><td>Aug 2010</td><td>MVO8                     </td><td>Total new housing          </td></tr>\n",
       "<tr><td style=\"text-align: right;\">   -2.9</td><td>Aug 2010</td><td>MVO9                     </td><td>Infrastructure new work    </td></tr>\n",
       "<tr><td style=\"text-align: right;\">   -2.9</td><td>Aug 2010</td><td>MVP2                     </td><td>Public other new work      </td></tr>\n",
       "<tr><td style=\"text-align: right;\">   24.4</td><td>Aug 2010</td><td>MVP3                     </td><td>Private industrial new work</td></tr>\n",
       "<tr><td style=\"text-align: right;\">    5.9</td><td>Aug 2010</td><td>MVP4                     </td><td>Private commercial new work</td></tr>\n",
       "<tr><td style=\"text-align: right;\">   11.7</td><td>Sep 2010</td><td>MVO6                     </td><td>Public new housing         </td></tr>\n",
       "<tr><td style=\"text-align: right;\">    7.5</td><td>Sep 2010</td><td>MVO7                     </td><td>Private new housing        </td></tr>\n",
       "<tr><td style=\"text-align: right;\">    8.5</td><td>Sep 2010</td><td>MVO8                     </td><td>Total new housing          </td></tr>\n",
       "<tr><td style=\"text-align: right;\">   -6.8</td><td>Sep 2010</td><td>MVO9                     </td><td>Infrastructure new work    </td></tr>\n",
       "<tr><td style=\"text-align: right;\">   -3.3</td><td>Sep 2010</td><td>MVP2                     </td><td>Public other new work      </td></tr>\n",
       "<tr><td style=\"text-align: right;\">   16.1</td><td>Sep 2010</td><td>MVP3                     </td><td>Private industrial new work</td></tr>\n",
       "<tr><td style=\"text-align: right;\">    5.3</td><td>Sep 2010</td><td>MVP4                     </td><td>Private commercial new work</td></tr>\n",
       "</tbody>\n",
       "</table>"
      ],
      "text/plain": [
       "'<table>\\n<thead>\\n<tr><th style=\"text-align: right;\">  Value</th><th>Period  </th><th>Dataset Identifier Code  </th><th>Houses                     </th></tr>\\n</thead>\\n<tbody>\\n<tr><td style=\"text-align: right;\">    5.5</td><td>Aug 2010</td><td>MVO6                     </td><td>Public new housing         </td></tr>\\n<tr><td style=\"text-align: right;\">    4.5</td><td>Aug 2010</td><td>MVO7                     </td><td>Private new housing        </td></tr>\\n<tr><td style=\"text-align: right;\">    4.7</td><td>Aug 2010</td><td>MVO8                     </td><td>Total new housing          </td></tr>\\n<tr><td style=\"text-align: right;\">   -2.9</td><td>Aug 2010</td><td>MVO9                     </td><td>Infrastructure new work    </td></tr>\\n<tr><td style=\"text-align: right;\">   -2.9</td><td>Aug 2010</td><td>MVP2                     </td><td>Public other new work      </td></tr>\\n<tr><td style=\"text-align: right;\">   24.4</td><td>Aug 2010</td><td>MVP3                     </td><td>Private industrial new work</td></tr>\\n<tr><td style=\"text-align: right;\">    5.9</td><td>Aug 2010</td><td>MVP4                     </td><td>Private commercial new work</td></tr>\\n<tr><td style=\"text-align: right;\">   11.7</td><td>Sep 2010</td><td>MVO6                     </td><td>Public new housing         </td></tr>\\n<tr><td style=\"text-align: right;\">    7.5</td><td>Sep 2010</td><td>MVO7                     </td><td>Private new housing        </td></tr>\\n<tr><td style=\"text-align: right;\">    8.5</td><td>Sep 2010</td><td>MVO8                     </td><td>Total new housing          </td></tr>\\n<tr><td style=\"text-align: right;\">   -6.8</td><td>Sep 2010</td><td>MVO9                     </td><td>Infrastructure new work    </td></tr>\\n<tr><td style=\"text-align: right;\">   -3.3</td><td>Sep 2010</td><td>MVP2                     </td><td>Public other new work      </td></tr>\\n<tr><td style=\"text-align: right;\">   16.1</td><td>Sep 2010</td><td>MVP3                     </td><td>Private industrial new work</td></tr>\\n<tr><td style=\"text-align: right;\">    5.3</td><td>Sep 2010</td><td>MVP4                     </td><td>Private commercial new work</td></tr>\\n</tbody>\\n</table>'"
      ]
     },
     "metadata": {},
     "output_type": "display_data"
    },
    {
     "name": "stdout",
     "output_type": "stream",
     "text": [
      "\n"
     ]
    }
   ],
   "source": [
    "# We're going to redefine tidydata2 but this time we're going to label the observations column\n",
    "# such that it no longer matches tidydata1 \n",
    "\n",
    "tidydata2 = TidyData(\n",
    "    observations2.label_as(\"Value\"),\n",
    "    Column(period.finds_observations_directly(right)),\n",
    "    Column(dataset_identifier_code.finds_observations_directly(down)),\n",
    "    Column(houses.finds_observations_directly(down))\n",
    ")\n",
    "\n",
    "# And we'll preview both so you can see the column headers no longer match\n",
    "print(\"Preview tidydata1\")\n",
    "print(tidydata1)\n",
    "\n",
    "print(\"Preview tidydata2\")\n",
    "print(tidydata2)\n"
   ]
  },
  {
   "cell_type": "code",
   "execution_count": 9,
   "metadata": {},
   "outputs": [
    {
     "ename": "MisalignedHeadersError",
     "evalue": "\n                You are attempting to sum two tidy data\n                outputs but they do not have the same\n                column headers.\n\n                TidyData1 headers:\n                ['Observations', 'Period', 'Dataset Identifier Code', 'Houses']\n\n                TidyData2 headers:\n                ['Value', 'Period', 'Dataset Identifier Code', 'Houses']\n            ",
     "output_type": "error",
     "traceback": [
      "\u001b[0;31m---------------------------------------------------------------------------\u001b[0m",
      "\u001b[0;31mMisalignedHeadersError\u001b[0m                    Traceback (most recent call last)",
      "Cell \u001b[0;32mIn[9], line 3\u001b[0m\n\u001b[1;32m      1\u001b[0m \u001b[39m# Now we try and concatenate them - and get an error!\u001b[39;00m\n\u001b[0;32m----> 3\u001b[0m tidydata1 \u001b[39m+\u001b[39;49m tidydata2\n",
      "File \u001b[0;32m~/code/mikeAdamss/datachef/datachef/utils/decorators/dontmutate.py:24\u001b[0m, in \u001b[0;36mdontmutate.<locals>.wrapper\u001b[0;34m(self, *args, **kwargs)\u001b[0m\n\u001b[1;32m     21\u001b[0m \u001b[39m@wraps\u001b[39m(method)\n\u001b[1;32m     22\u001b[0m \u001b[39mdef\u001b[39;00m \u001b[39mwrapper\u001b[39m(\u001b[39mself\u001b[39m, \u001b[39m*\u001b[39margs, \u001b[39m*\u001b[39m\u001b[39m*\u001b[39mkwargs):\n\u001b[1;32m     23\u001b[0m     \u001b[39mself\u001b[39m \u001b[39m=\u001b[39m copy\u001b[39m.\u001b[39mdeepcopy(\u001b[39mself\u001b[39m)\n\u001b[0;32m---> 24\u001b[0m     \u001b[39mreturn\u001b[39;00m method(\u001b[39mself\u001b[39;49m, \u001b[39m*\u001b[39;49margs, \u001b[39m*\u001b[39;49m\u001b[39m*\u001b[39;49mkwargs)\n",
      "File \u001b[0;32m~/code/mikeAdamss/datachef/datachef/output/tidydata.py:123\u001b[0m, in \u001b[0;36mTidyData.__add__\u001b[0;34m(self, other_tidy_data)\u001b[0m\n\u001b[1;32m    120\u001b[0m \u001b[39m# Error if we're joining two TidyData objects\u001b[39;00m\n\u001b[1;32m    121\u001b[0m \u001b[39m# with different headers\u001b[39;00m\n\u001b[1;32m    122\u001b[0m \u001b[39mif\u001b[39;00m \u001b[39mself\u001b[39m\u001b[39m.\u001b[39m_data[\u001b[39m0\u001b[39m] \u001b[39m!=\u001b[39m other_tidy_data\u001b[39m.\u001b[39m_data[\u001b[39m0\u001b[39m]:\n\u001b[0;32m--> 123\u001b[0m     \u001b[39mraise\u001b[39;00m MisalignedHeadersError(\n\u001b[1;32m    124\u001b[0m         \u001b[39mf\u001b[39m\u001b[39m\"\"\"\u001b[39m\n\u001b[1;32m    125\u001b[0m \u001b[39m        You are attempting to sum two tidy data\u001b[39m\n\u001b[1;32m    126\u001b[0m \u001b[39m        outputs but they do not have the same\u001b[39m\n\u001b[1;32m    127\u001b[0m \u001b[39m        column headers.\u001b[39m\n\u001b[1;32m    128\u001b[0m \n\u001b[1;32m    129\u001b[0m \u001b[39m        TidyData1 headers:\u001b[39m\n\u001b[1;32m    130\u001b[0m \u001b[39m        \u001b[39m\u001b[39m{\u001b[39;00m\u001b[39mself\u001b[39m\u001b[39m.\u001b[39m_data[\u001b[39m0\u001b[39m]\u001b[39m}\u001b[39;00m\n\u001b[1;32m    131\u001b[0m \n\u001b[1;32m    132\u001b[0m \u001b[39m        TidyData2 headers:\u001b[39m\n\u001b[1;32m    133\u001b[0m \u001b[39m        \u001b[39m\u001b[39m{\u001b[39;00mother_tidy_data\u001b[39m.\u001b[39m_data[\u001b[39m0\u001b[39m]\u001b[39m}\u001b[39;00m\n\u001b[1;32m    134\u001b[0m \u001b[39m    \u001b[39m\u001b[39m\"\"\"\u001b[39m\n\u001b[1;32m    135\u001b[0m     )\n\u001b[1;32m    137\u001b[0m \u001b[39m# Since the headers match, join all but the header\u001b[39;00m\n\u001b[1;32m    138\u001b[0m \u001b[39m# row from the new source\u001b[39;00m\n\u001b[1;32m    139\u001b[0m \u001b[39mself\u001b[39m\u001b[39m.\u001b[39m_data \u001b[39m+\u001b[39m\u001b[39m=\u001b[39m other_tidy_data\u001b[39m.\u001b[39m_data[\u001b[39m1\u001b[39m:]\n",
      "\u001b[0;31mMisalignedHeadersError\u001b[0m: \n                You are attempting to sum two tidy data\n                outputs but they do not have the same\n                column headers.\n\n                TidyData1 headers:\n                ['Observations', 'Period', 'Dataset Identifier Code', 'Houses']\n\n                TidyData2 headers:\n                ['Value', 'Period', 'Dataset Identifier Code', 'Houses']\n            "
     ]
    }
   ],
   "source": [
    "# Now we try and concatenate them - and get an error!\n",
    "\n",
    "tidydata1 + tidydata2"
   ]
  }
 ],
 "metadata": {
  "kernelspec": {
   "display_name": "datachef-hNSMaw3h-py3.9",
   "language": "python",
   "name": "python3"
  },
  "language_info": {
   "codemirror_mode": {
    "name": "ipython",
    "version": 3
   },
   "file_extension": ".py",
   "mimetype": "text/x-python",
   "name": "python",
   "nbconvert_exporter": "python",
   "pygments_lexer": "ipython3",
   "version": "3.9.7"
  },
  "orig_nbformat": 4
 },
 "nbformat": 4,
 "nbformat_minor": 2
}
