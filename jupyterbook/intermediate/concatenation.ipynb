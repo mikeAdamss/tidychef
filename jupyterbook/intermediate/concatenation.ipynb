{
 "cells": [
  {
   "attachments": {},
   "cell_type": "markdown",
   "metadata": {},
   "source": [
    "# TidyData: Concatenation\n",
    "\n",
    "This section details how you can concatenate multiple tidy data sheets together when you output them."
   ]
  },
  {
   "attachments": {},
   "cell_type": "markdown",
   "metadata": {},
   "source": [
    "## Source Data\n",
    "\n",
    "The data source we're using for these examples is shown below:\n",
    "\n",
    "| <span style=\"color:green\">Note - this particular table has some very verbose headers we don't care about, so we'll be using `bounded=` to remove them from the previews as well as to show just the subset of data we're working with.</span>|\n",
    "|-----------------------------------------|\n",
    "\n",
    "The [full data source can be downloaded here](https://github.com/mikeAdamss/tidychef/raw/main/tests/fixtures/xlsx/ons-oic.xlsx). We'll be using th 10th tab named \"Table 3c\"."
   ]
  },
  {
   "cell_type": "code",
   "execution_count": null,
   "metadata": {},
   "outputs": [],
   "source": [
    "from tidychef import acquire, preview\n",
    "from tidychef.selection import XlsxSelectable\n",
    "\n",
    "table: XlsxSelectable = acquire.xlsx.http(\"https://github.com/mikeAdamss/tidychef/raw/main/tests/fixtures/xlsx/ons-oic.xlsx\", tables=\"Table 3c\")\n",
    "preview(table, bounded=\"A4:H10\")"
   ]
  },
  {
   "attachments": {},
   "cell_type": "markdown",
   "metadata": {},
   "source": [
    "## The \"Two\" Sources\n",
    "\n",
    "To keep these examples reasonably brief we're going to create two TidyData class from the above as follow:\n",
    "\n",
    "- one with observations from B7 though H8\n",
    "- one with observations from B9 through H10"
   ]
  },
  {
   "cell_type": "code",
   "execution_count": null,
   "metadata": {},
   "outputs": [],
   "source": [
    "from tidychef import acquire, preview\n",
    "from tidychef.direction import right, down\n",
    "from tidychef.output import TidyData, Column\n",
    "from tidychef.selection import XlsxSelectable\n",
    "\n",
    "table: XlsxSelectable = acquire.xlsx.http(\"https://github.com/mikeAdamss/tidychef/raw/main/tests/fixtures/xlsx/ons-oic.xlsx\", tables=\"Table 3c\")\n",
    "\n",
    "\n",
    "houses = table.excel_ref(\"B5\").expand(right).label_as(\"Houses\")\n",
    "dataset_identifier_code = houses.shift(down).label_as(\"Dataset Identifier Code\")\n",
    "period = table.excel_ref(\"A7\").expand(down).label_as(\"Period\")\n",
    "\n",
    "observations1 = table.excel_ref(\"B7:H8\").label_as(\"Observations\")\n",
    "observations2 = table.excel_ref(\"B9:H10\").label_as(\"Observations\")"
   ]
  },
  {
   "cell_type": "code",
   "execution_count": null,
   "metadata": {},
   "outputs": [],
   "source": [
    "## Preview Both Sets of Selection\n",
    "\n",
    "print(\"Preview selections for tidydata1\")\n",
    "preview(observations1, houses, dataset_identifier_code, period, bounded=\"A4:H10\")\n",
    "\n",
    "print(\"Preview selections for tidydata1\")\n",
    "preview(observations2, houses, dataset_identifier_code, period, bounded=\"A4:H10\")"
   ]
  },
  {
   "attachments": {},
   "cell_type": "markdown",
   "metadata": {},
   "source": [
    "## Create and preview TidyData objects"
   ]
  },
  {
   "cell_type": "code",
   "execution_count": null,
   "metadata": {},
   "outputs": [],
   "source": [
    "tidydata1 = TidyData(\n",
    "    observations1,\n",
    "    Column(period.finds_observations_directly(right)),\n",
    "    Column(dataset_identifier_code.finds_observations_directly(down)),\n",
    "    Column(houses.finds_observations_directly(down))\n",
    ")\n",
    "print(\"Preview tidydata1\")\n",
    "print(tidydata1)\n",
    "\n",
    "tidydata2 = TidyData(\n",
    "    observations2,\n",
    "    Column(period.finds_observations_directly(right)),\n",
    "    Column(dataset_identifier_code.finds_observations_directly(down)),\n",
    "    Column(houses.finds_observations_directly(down))\n",
    ")\n",
    "print(\"Preview tidydata2\")\n",
    "print(tidydata2)"
   ]
  },
  {
   "attachments": {},
   "cell_type": "markdown",
   "metadata": {},
   "source": [
    "## Concatenation via '+'\n",
    "\n",
    "The simplest way to concatenate two TidyData objects is just to add them together. "
   ]
  },
  {
   "cell_type": "code",
   "execution_count": null,
   "metadata": {},
   "outputs": [],
   "source": [
    "tidy_data_all = tidydata1+tidydata2\n",
    "print(tidy_data_all)"
   ]
  },
  {
   "attachments": {},
   "cell_type": "markdown",
   "metadata": {},
   "source": [
    "## Concatenation via a list\n",
    "\n",
    "The next method is to use the `TidyData.from_tidy_list()` constructor."
   ]
  },
  {
   "cell_type": "code",
   "execution_count": null,
   "metadata": {},
   "outputs": [],
   "source": [
    "tidy_data_all = TidyData.from_tidy_list([tidydata1, tidydata2])\n",
    "print(tidy_data_all)"
   ]
  },
  {
   "attachments": {},
   "cell_type": "markdown",
   "metadata": {},
   "source": [
    "## Concatenation via arguments\n",
    "\n",
    "Lastly, you can pass in objects of class TidyData as positional arguments to the `TidyData.from_tidy()` constructor."
   ]
  },
  {
   "cell_type": "code",
   "execution_count": null,
   "metadata": {},
   "outputs": [],
   "source": [
    "tidy_data_all = TidyData.from_tidy(tidydata1, tidydata2)\n",
    "print(tidy_data_all)"
   ]
  },
  {
   "attachments": {},
   "cell_type": "markdown",
   "metadata": {},
   "source": [
    "## Misaligned Headers Error\n",
    "\n",
    "Where concatenating together TidyData the column headers must match precisely.\n",
    "\n",
    "The following is an example of what happens if you try and concatenate two TidyData classes with misaligned headers."
   ]
  },
  {
   "cell_type": "code",
   "execution_count": null,
   "metadata": {},
   "outputs": [],
   "source": [
    "# We're going to redefine tidydata2 but this time we're going to label the observations column\n",
    "# such that it no longer matches tidydata1 \n",
    "\n",
    "tidydata2 = TidyData(\n",
    "    observations2.label_as(\"Value\"),\n",
    "    Column(period.finds_observations_directly(right)),\n",
    "    Column(dataset_identifier_code.finds_observations_directly(down)),\n",
    "    Column(houses.finds_observations_directly(down))\n",
    ")\n",
    "\n",
    "# And we'll preview both so you can see the column headers no longer match\n",
    "print(\"Preview tidydata1\")\n",
    "print(tidydata1)\n",
    "\n",
    "print(\"Preview tidydata2\")\n",
    "print(tidydata2)\n"
   ]
  },
  {
   "cell_type": "code",
   "execution_count": null,
   "metadata": {},
   "outputs": [],
   "source": [
    "# Now we try and concatenate them - and get an error!\n",
    "\n",
    "tidydata1 + tidydata2"
   ]
  }
 ],
 "metadata": {
  "kernelspec": {
   "display_name": "datachef-hNSMaw3h-py3.9",
   "language": "python",
   "name": "python3"
  },
  "language_info": {
   "codemirror_mode": {
    "name": "ipython",
    "version": 3
   },
   "file_extension": ".py",
   "mimetype": "text/x-python",
   "name": "python",
   "nbconvert_exporter": "python",
   "pygments_lexer": "ipython3",
   "version": "3.9.7"
  },
  "orig_nbformat": 4
 },
 "nbformat": 4,
 "nbformat_minor": 2
}
