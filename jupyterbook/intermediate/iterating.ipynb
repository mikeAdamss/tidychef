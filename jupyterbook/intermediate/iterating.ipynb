{
 "cells": [
  {
   "cell_type": "markdown",
   "metadata": {},
   "source": [
    "# Iterating Tables/Sheets\n",
    "\n",
    "Here we'll talk about working with iterable data sources - such as extracting and joining data taken from multiple tables from a single spreadheet.\n"
   ]
  },
  {
   "cell_type": "markdown",
   "metadata": {},
   "source": [
    "## Source Data\n",
    "\n",
    "The data source we're using for these examples is shown below:\n",
    "\n",
    "| <span style=\"color:green\">Note - this particular table has some very verbose headers we don't care about, so we'll be using `bounded=` to remove them from the previews as well as to show just the subset of data we're working with.</span>|\n",
    "|-----------------------------------------|\n",
    "\n",
    "The [full data source can be downloaded here](https://github.com/mikeAdamss/tidychef/raw/main/tests/fixtures/xlsx/ons-oic.xlsx)."
   ]
  },
  {
   "cell_type": "markdown",
   "metadata": {},
   "source": [
    " For this example we'll be using the following tables:\n",
    " \n",
    " - The 4th table named \"Table 1a\".\n",
    " - The 5th table named \"Table 1b\".\n",
    "\n",
    " The principle difference between the tables is 1a is \"seasonally adjusted\" and 1b is not.\n",
    "\n",
    " For the sake of practicality we'll only be extracting observations down to row 12."
   ]
  },
  {
   "cell_type": "code",
   "execution_count": null,
   "metadata": {},
   "outputs": [],
   "source": [
    "from typing import List\n",
    "from tidychef import acquire, preview\n",
    "from tidychef.selection import XlsxSelectable\n",
    "\n",
    "tables: List[XlsxSelectable] = acquire.xlsx.http(\"https://github.com/mikeAdamss/tidychef/raw/main/tests/fixtures/xlsx/ons-oic.xlsx\", tables=\"Table 1a|Table 1b\")\n",
    "preview(tables[0], bounded=\"A1:H12\")\n",
    "preview(tables[1], bounded=\"A1:H12\")"
   ]
  },
  {
   "cell_type": "markdown",
   "metadata": {},
   "source": [
    "## An Iterated Extraction\n",
    "\n",
    "In this example we're going to\n",
    "\n",
    "- Iterate through the sheets\n",
    "- Extract data from the two sheets in question - adding a column to indicate whether the data is seasonally adjusted.\n",
    "- Join the data into a single TidyData putput."
   ]
  },
  {
   "cell_type": "code",
   "execution_count": null,
   "metadata": {},
   "outputs": [],
   "source": [
    "from tidychef import acquire, preview\n",
    "from tidychef.direction import right, down\n",
    "from tidychef.output import Column, TidyData\n",
    "from tidychef.selection import XlsxSelectable\n",
    "\n",
    "tables: List[XlsxSelectable] = acquire.xlsx.http(\"https://github.com/mikeAdamss/tidychef/raw/main/tests/fixtures/xlsx/ons-oic.xlsx\", tables=\"Table 1a|Table 1b\")\n",
    "\n",
    "# An empty list to hold our tables\n",
    "tidy_data_list = []\n",
    "\n",
    "# Now iterate and extract\n",
    "for table in tables:\n",
    "    anchor = table.excel_ref(\"A5\").label_as(\"Anchor Cell\")\n",
    "    observations = table.excel_ref(\"B7:H12\").label_as(\"Observations\")\n",
    "    housing = anchor.fill(right).label_as(\"Housing\")\n",
    "    dataset_identifier_codes = housing.shift(down).label_as(\"Data Identifier Codes\")\n",
    "    period = anchor.shift(down(2)).expand(down).label_as(\"Period\")\n",
    "\n",
    "    # We're not gonna set a variable based on the contents of cell A1\n",
    "    # this is what tells us if its SA of NSA\n",
    "    a1_cell_value = table.excel_ref(\"A1\").lone_value()\n",
    "    is_seasonally_adjusted = \"False\" if \"non-season\" in a1_cell_value else \"True\"\n",
    "\n",
    "    # Preview selections to sanity check\n",
    "    # we'll include the anchor cell\n",
    "    preview(anchor, observations, housing, dataset_identifier_codes, period, bounded=\"A1:H12\")\n",
    "\n",
    "    tidy_data = TidyData(\n",
    "        observations,\n",
    "        Column(housing.attach_directly(down)),\n",
    "        Column(dataset_identifier_codes.attach_directly(down)),\n",
    "        Column(period.attach_directly(right)),\n",
    "        Column.constant(\"Seasonally Adjusted\", is_seasonally_adjusted)\n",
    "    )\n",
    "    \n",
    "    # Now append the tidy data for this sheet to our list\n",
    "    tidy_data_list.append(tidy_data)\n",
    "    \n",
    "\n",
    "# concatenate the list and print our new output\n",
    "all_tidy_data = TidyData.from_tidy_list(tidy_data_list)\n",
    "print(all_tidy_data)\n"
   ]
  }
 ],
 "metadata": {
  "kernelspec": {
   "display_name": "Python 3 (ipykernel)",
   "language": "python",
   "name": "python3"
  },
  "language_info": {
   "codemirror_mode": {
    "name": "ipython",
    "version": 3
   },
   "file_extension": ".py",
   "mimetype": "text/x-python",
   "name": "python",
   "nbconvert_exporter": "python",
   "pygments_lexer": "ipython3",
   "version": "3.12.11"
  }
 },
 "nbformat": 4,
 "nbformat_minor": 4
}
