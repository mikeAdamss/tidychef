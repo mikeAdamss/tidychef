{
 "cells": [
  {
   "attachments": {},
   "cell_type": "markdown",
   "metadata": {},
   "source": [
    "# TidyData: Horizontal Conditions\n",
    "\n",
    "When extracting data there will be columns whose value will depend conditionally on the values of other columns. In tidychef we handle this scenario with what we call `HorizontalConditions`."
   ]
  },
  {
   "attachments": {},
   "cell_type": "markdown",
   "metadata": {},
   "source": [
    "## Source Data\n",
    "\n",
    "The data source we're using for these examples is shown below:\n",
    "\n",
    "The [full data source can be viewed here](https://raw.githubusercontent.com/mikeAdamss/tidychef/main/tests/fixtures/csv/bands-wide.csv)."
   ]
  },
  {
   "cell_type": "code",
   "execution_count": null,
   "metadata": {},
   "outputs": [],
   "source": [
    "from tidychef import acquire, preview\n",
    "from tidychef.selection import CsvSelectable\n",
    "\n",
    "table: CsvSelectable = acquire.csv.http(\"https://raw.githubusercontent.com/mikeAdamss/tidychef/main/tests/fixtures/csv/bands-wide.csv\")\n",
    "preview(table)"
   ]
  },
  {
   "attachments": {},
   "cell_type": "markdown",
   "metadata": {},
   "source": [
    "## Syntax\n",
    "\n",
    "The basic syntax for constructing a horizontal conditional is as follows:\n",
    "\n",
    "```\n",
    "Column.horizontal_condition(<name>, <callable>)\n",
    "```\n",
    "\n",
    "The `<callable>` is a python function or lambda function that operates upon a dictionary.\n",
    "\n",
    "### The Horizontal Condition Dictionary\n",
    "\n",
    "The dictionary in question consists of:\n",
    "\n",
    "- keys: the names of the extracted columns\n",
    "- values: the values extracted **against the same observation the horoxontal condition is operating against**.\n",
    "\n",
    "---\n",
    "\n",
    "Example:\n",
    "\n",
    "Let's imagine the you run a transform that will create the following line of tidy data.\n",
    "\n",
    "| Observation | Member | Assets | Band    |\n",
    "| ------------ | ------ | ------ | ------- |\n",
    "| 5            | John   | Cars   | Beatles |\n",
    "\n",
    "If you were to add a horizonal condition to the `TidyData` constructor, then **for that specific observation** the dictionary accessible to the horizontal condition would be:\n",
    "\n",
    "```\n",
    "{\n",
    "    \"Observation\": \"5\",\n",
    "    \"Member\": \"John\",\n",
    "    \"Assets\": \"Cars\",\n",
    "    \"Band\" : \"Beatles\n",
    "}\n",
    "```\n",
    "\n",
    "This will be shown in context in the examples below."
   ]
  },
  {
   "attachments": {},
   "cell_type": "markdown",
   "metadata": {},
   "source": [
    "## Condition: Singer In The Beatles\n",
    "\n",
    "For our first example, we'll create a horizontal condition columns to identify members of The Rolling Stones whose names end with \"e\".\n",
    "\n",
    "You've seen this example before, so mainly focus on the new `Column.horizontal_condition()` syntax."
   ]
  },
  {
   "cell_type": "code",
   "execution_count": null,
   "metadata": {},
   "outputs": [],
   "source": [
    "from typing import Dict\n",
    "from tidychef import acquire, preview, filters\n",
    "from tidychef.direction import right, below\n",
    "from tidychef.selection import CsvSelectable, filters\n",
    "from tidychef.output import TidyData, Column\n",
    "\n",
    "table: CsvSelectable = acquire.csv.http(\"https://raw.githubusercontent.com/mikeAdamss/tidychef/main/tests/fixtures/csv/bands-wide.csv\")\n",
    "\n",
    "def e_ending_stones(line: Dict[str, str]) -> str:\n",
    "    \"\"\"\n",
    "    Returns \"True\" as string if member ends with \"e\"\n",
    "    and band is \"Rolling Stones\"\n",
    "    \"\"\"\n",
    "    if line[\"Member\"].endswith(\"e\") and line[\"Band\"] == \"Rolling Stones\":\n",
    "        return \"True\"\n",
    "    return \"False\"\n",
    "\n",
    "observations = table.filter(filters.is_numeric).label_as(\"Observation\")\n",
    "bands = (table.excel_ref(\"A3\") | table.excel_ref(\"G3\")).label_as(\"Band\")\n",
    "assets = table.excel_ref('2').is_not_blank().label_as(\"Asset\")\n",
    "members = (table.excel_ref(\"B\") | table.excel_ref(\"H\")).is_not_blank().label_as(\"Member\")\n",
    "preview(observations, bands, assets, members)\n",
    "\n",
    "tidy_data = TidyData(\n",
    "    observations,\n",
    "    Column(bands.finds_observations_closest(right)),\n",
    "    Column(assets.finds_observations_directly(below)),\n",
    "    Column(members.finds_observations_directly(right)),\n",
    "    Column.horizontal_condition(\"Stones ending with e\", e_ending_stones)\n",
    ")\n",
    "print(tidy_data)"
   ]
  }
 ],
 "metadata": {
  "kernelspec": {
   "display_name": "datachef-hNSMaw3h-py3.9",
   "language": "python",
   "name": "python3"
  },
  "language_info": {
   "codemirror_mode": {
    "name": "ipython",
    "version": 3
   },
   "file_extension": ".py",
   "mimetype": "text/x-python",
   "name": "python",
   "nbconvert_exporter": "python",
   "pygments_lexer": "ipython3",
   "version": "3.9.7"
  },
  "orig_nbformat": 4
 },
 "nbformat": 4,
 "nbformat_minor": 2
}
