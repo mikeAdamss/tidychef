{
 "cells": [
  {
   "attachments": {},
   "cell_type": "markdown",
   "metadata": {},
   "source": [
    "## Against / Creating New Validators\n",
    "\n",
    "You will have seen use the `against` module as part of [selection validation](../basics/selection-validate.html) and [column validation](./validation.html).\n",
    "\n",
    "The provided `against` module is a convenience wrapper for accessing a datachef `Valdiator`.\n",
    "    \n",
    "A `Validator` in datachef is any class that inherits from [datachef.against.implementation.base.BaseValidator](https://github.com/mikeAdamss/datachef/blob/main/datachef/against/implementations/base.py).\n",
    "\n",
    "A a convenience the code for for this class is shown below (don't worry, it's actually very straight forward)."
   ]
  },
  {
   "attachments": {},
   "cell_type": "markdown",
   "metadata": {},
   "source": [
    "![](./images/against-base.png)\n",
    "\n",
    "You can also [view this class on github](https://github.com/mikeAdamss/datachef/blob/main/datachef/against/implementations/base.py)."
   ]
  }
 ],
 "metadata": {
  "language_info": {
   "name": "python"
  },
  "orig_nbformat": 4
 },
 "nbformat": 4,
 "nbformat_minor": 2
}
