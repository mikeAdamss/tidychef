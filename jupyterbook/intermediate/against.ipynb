{
 "cells": [
  {
   "attachments": {},
   "cell_type": "markdown",
   "metadata": {},
   "source": [
    "# Against (Creating New Validators)\n",
    "\n",
    "You will have seen use the `against` module as part of [selection validation](../basics/selection-validate.html) and [column validation](./validation.html).\n",
    "\n",
    "This `against` module is really just a wrapper around some simple validation classes, this document explains what they are, how they work and how to make your own."
   ]
  },
  {
   "attachments": {},
   "cell_type": "markdown",
   "metadata": {},
   "source": [
    "## How it works\n",
    "\n",
    "A `Validator` in tidychef is any class that inherits from [tidychef.against.implementation.base.BaseValidator](https://github.com/mikeAdamss/tidychef/blob/main/tidychef/against/implementations/base.py).\n",
    "\n",
    "As a convenience the code for for this class is shown below (don't worry, it's actually very straight forward)."
   ]
  },
  {
   "attachments": {},
   "cell_type": "markdown",
   "metadata": {},
   "source": [
    "![](../images/validator-base.png)"
   ]
  },
  {
   "attachments": {},
   "cell_type": "markdown",
   "metadata": {},
   "source": [
    "So a validator does exactly two things:\n",
    "\n",
    "- 1. Returns True or False when passed a Cell is passed to the class as an argument\n",
    "- 2. Returns a str message explaining the issue when its `.msg()` method is called with a Cell as an argument.\n",
    "\n",
    "_Note - The bits around _abc_ and _abstract classes_ are just programmer boiler plate, all they do is tell you if you forget to create one of the two listed methods (a useful thing!) otherwise you can safely ignore these bits as boiler plate_."
   ]
  },
  {
   "attachments": {},
   "cell_type": "markdown",
   "metadata": {},
   "source": [
    "## Create a new Validator\n",
    "\n",
    "For this example we're going to create a validator that confirms that a selected cell holds a value that is considered numerical (you'll notice this code is the code from the regex validator with a handful of small changes which we'll list below)."
   ]
  },
  {
   "cell_type": "code",
   "execution_count": null,
   "metadata": {},
   "outputs": [],
   "source": [
    "from dataclasses import dataclass\n",
    "\n",
    "from tidychef.models.source.cell import Cell\n",
    "from tidychef.against.implementations.base import BaseValidator\n",
    "\n",
    "@dataclass\n",
    "class NumericValidator(BaseValidator):\n",
    "    \n",
    "    def __call__(self, cell: Cell) -> bool:\n",
    "        \"\"\"\n",
    "        Is the value property of the Cell numeric\n",
    "        \"\"\"\n",
    "        return cell.value.isnumeric()\n",
    "    \n",
    "    def msg(self, cell: Cell) -> str:\n",
    "        \"\"\"\n",
    "        Provide a contextually meaningful\n",
    "        message to the user where cell\n",
    "        value is not numeric\n",
    "        \"\"\"\n",
    "        return f'\"{cell.value}\" is not numeric'"
   ]
  },
  {
   "attachments": {},
   "cell_type": "markdown",
   "metadata": {},
   "source": [
    "Changes we made\n",
    "\n",
    "- We've removed the `pattern` variables since our validator doesn't need arguments.\n",
    "- We've used the `isnumeric` method (that all python strings have) to return True or False when\n",
    "  the class gets called (via `__call__`).\n",
    "- We've updated the message.\n",
    "- We've updated the docstrings and name of the class.\n",
    "- We've removed `import re` since we're not using it.\n",
    "\n",
    "Now lets try it:"
   ]
  },
  {
   "cell_type": "code",
   "execution_count": null,
   "metadata": {},
   "outputs": [],
   "source": [
    "from tidychef.models.source.cell import Cell\n",
    "\n",
    "# Create a simple Cell object for testing\n",
    "# Note the value here is numeric!\n",
    "valid_cell = Cell(x=\"0\", y=\"0\", value=\"1\")\n",
    "\n",
    "# Try it out - this will be return True (1 is numeric)\n",
    "validator = NumericValidator()\n",
    "print(f'Should be True: {validator(valid_cell)}')\n",
    "\n",
    "# Now lets try a Cell with a non numeric value\n",
    "invalid_cell = Cell(x=\"0\", y=\"0\", value=\"foo\")\n",
    "print(f'Should be False: {validator(invalid_cell)}')\n",
    "\n",
    "# Lastly lets call .msg() on our failed validation and print it\n",
    "print(validator.msg(invalid_cell))"
   ]
  },
  {
   "attachments": {},
   "cell_type": "markdown",
   "metadata": {},
   "source": [
    "## Putting it all together\n",
    "\n",
    "Now lets see our new validator is action using the `<selectable>.validate()` method.\n",
    "\n",
    "You could equally use this new validator with `Columns(validate=)` (exactly the same validator class is used in both instances)."
   ]
  },
  {
   "attachments": {},
   "cell_type": "markdown",
   "metadata": {},
   "source": [
    "### Source Data\n",
    "\n",
    "The data source we're using for these examples is shown below:\n",
    "\n",
    "The [full data source can be viewed here](https://raw.githubusercontent.com/mikeAdamss/tidychef/main/tests/fixtures/csv/bands-wide.csv)."
   ]
  },
  {
   "cell_type": "code",
   "execution_count": null,
   "metadata": {},
   "outputs": [],
   "source": [
    "from tidychef import acquire, preview\n",
    "from tidychef.selection import CsvSelectable\n",
    "\n",
    "table: CsvSelectable = acquire.csv.http(\"https://raw.githubusercontent.com/mikeAdamss/tidychef/main/tests/fixtures/csv/bands-wide.csv\")\n",
    "preview(table)"
   ]
  },
  {
   "attachments": {},
   "cell_type": "markdown",
   "metadata": {},
   "source": [
    "For this example we're going to select **all non blank values from columns C & D and run our new validator against them**."
   ]
  },
  {
   "cell_type": "code",
   "execution_count": null,
   "metadata": {},
   "outputs": [],
   "source": [
    "from tidychef import acquire, preview\n",
    "from tidychef.selection import CsvSelectable\n",
    "\n",
    "table: CsvSelectable = acquire.csv.http(\"https://raw.githubusercontent.com/mikeAdamss/tidychef/main/tests/fixtures/csv/bands-wide.csv\")\n",
    "\n",
    "# Select them\n",
    "selection = (table.excel_ref('C') | table.excel_ref('D')).is_not_blank()\n",
    "\n",
    "# Preview the selection - PRIOR to validation\n",
    "# note - for the sake of this example, you'd just do it in one typically\n",
    "preview(selection)\n",
    "\n",
    "# Noe validate it\n",
    "numeric_validator = NumericValidator()\n",
    "selection.validate(numeric_validator)\n"
   ]
  },
  {
   "attachments": {},
   "cell_type": "markdown",
   "metadata": {},
   "source": [
    "## Further steps\n",
    "\n",
    "At this point we're approaching the point where a lesson in tidychef becomes a lesson in python (so this is probably more one for the programmers) but consider the following.\n",
    "\n",
    "- Validators are simple python classes and can be freely constructed.\n",
    "- For any given data pipeline project you will **always** have a source of truth.\n",
    "- Validators can give you contextual information _during the transformation process_ regarding exactly _what and where_ the issue is.\n",
    "\n",
    "So in terms of possibilities...\n",
    "\n",
    "- If you're desired output uses codelists - create a validator to compare your extracted values to said codelists.\n",
    "- If you're desired output has schemas - create a validator to compare your extracted values to said schema.\n",
    "- If you're desired output ends up on a restful api - create a validator to pull the valid values off said api and validate your extracted values against them.\n",
    "- etc etc\n",
    "\n",
    "You can always of course just validate your extracted data after its written to disk (a completely sensible thing to do) via `<whatever your tool of choice is>`, but there is an argument for validating early and often (and while you have context for exactly _what_ in the extraction process has caused the issue).\n",
    "\n",
    "As always it will depend on your own use case and requirements.\n"
   ]
  }
 ],
 "metadata": {
  "kernelspec": {
   "display_name": "datachef-hNSMaw3h-py3.9",
   "language": "python",
   "name": "python3"
  },
  "language_info": {
   "codemirror_mode": {
    "name": "ipython",
    "version": 3
   },
   "file_extension": ".py",
   "mimetype": "text/x-python",
   "name": "python",
   "nbconvert_exporter": "python",
   "pygments_lexer": "ipython3",
   "version": "3.7.13"
  },
  "orig_nbformat": 4
 },
 "nbformat": 4,
 "nbformat_minor": 2
}
