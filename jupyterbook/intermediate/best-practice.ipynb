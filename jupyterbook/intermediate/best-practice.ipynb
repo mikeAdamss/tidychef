{
 "cells": [
  {
   "attachments": {},
   "cell_type": "markdown",
   "metadata": {},
   "source": [
    "# Best Practice\n",
    "\n",
    "This section covers some best practice approaches and techniques for creating robust transform recipes with datachef."
   ]
  },
  {
   "attachments": {},
   "cell_type": "markdown",
   "metadata": {},
   "source": [
    "## Source Data\n",
    "\n",
    "The data source we're using for these examples is shown below:\n",
    "\n",
    "| <span style=\"color:green\">Note - this particular table has some very verbose headers we don't care about, so we'll be using `bounded=` to remove them from the previews as well as to show just the subset of data we're working with.</span>|\n",
    "|-----------------------------------------|\n",
    "\n",
    "The [full data source can be downloaded here](https://github.com/mikeAdamss/datachef/raw/main/tests/fixtures/xlsx/ons-oic.xlsx). We'll be using th 10th tab named \"Table 3c\".\n"
   ]
  },
  {
   "attachments": {},
   "cell_type": "markdown",
   "metadata": {},
   "source": [
    "## Conditional Is Better Then Explicit\n",
    "\n",
    "If you want to create a robust repeatable recipe a conditional selection (particularly simple conditions such as `.expand()` and `.fill()`) are typically better than explicit `.excel_ref()` statements.\n",
    "\n",
    "This is because _many_ tabulated sources are intended to be extended over time.\n",
    "\n",
    "Consider the following:"
   ]
  },
  {
   "cell_type": "code",
   "execution_count": 28,
   "metadata": {},
   "outputs": [
    {
     "data": {
      "text/html": [
       "\n",
       "    <html>\n",
       "        \n",
       "    <style>\n",
       "    table, th, td {\n",
       "        border: 1px solid;\n",
       "    }\n",
       "\n",
       "    table {\n",
       "        border-collapse: collapse;\n",
       "    }\n",
       "\n",
       "    td {\n",
       "        align: center;\n",
       "        border: 1px  black solid !important;\n",
       "        color: black !important;\n",
       "    }\n",
       "\n",
       "    th, td {\n",
       "        padding: 5px;\n",
       "    }\n",
       "\n",
       "    </style>\n",
       "    \n",
       "            <table>\n",
       "                \n",
       "            </table>\n",
       "\n",
       "            <body>\n",
       "                <h2>Table 3c</h2>\n",
       "                <table>\n",
       "                    <tr><td style=\"background-color:lightgrey\"></td><td style=\"background-color:lightgrey\">A</td><td style=\"background-color:lightgrey\">B</td><td style=\"background-color:lightgrey\">C</td><td style=\"background-color:lightgrey\">D</td><td style=\"background-color:lightgrey\">E</td><td style=\"background-color:lightgrey\">F</td><td style=\"background-color:lightgrey\">G</td><td style=\"background-color:lightgrey\">H</td></tr>\n",
       "<tr><td style=\"background-color:lightgrey\">155</td><td style=\"background-color:white\">Oct 2022</td><td style=\"background-color:white\">-3.3</td><td style=\"background-color:white\">0.6</td><td style=\"background-color:white\">0.2</td><td style=\"background-color:white\">5.3</td><td style=\"background-color:white\">-2.2</td><td style=\"background-color:white\">0.8</td><td style=\"background-color:white\">1.5</td></tr>\n",
       "<tr><td style=\"background-color:lightgrey\">156</td><td style=\"background-color:white\">Nov 2022</td><td style=\"background-color:white\">2</td><td style=\"background-color:white\">-0.4</td><td style=\"background-color:white\">-0.2</td><td style=\"background-color:white\">6.2</td><td style=\"background-color:white\">4</td><td style=\"background-color:white\">-0.5</td><td style=\"background-color:white\">0.5</td></tr>\n",
       "<tr><td style=\"background-color:lightgrey\">157</td><td style=\"background-color:white\">Dec 2022</td><td style=\"background-color:white\">7</td><td style=\"background-color:white\">-2.1</td><td style=\"background-color:white\">-1.1</td><td style=\"background-color:white\">7.3</td><td style=\"background-color:white\">10</td><td style=\"background-color:white\">-1.8</td><td style=\"background-color:white\">-1.7</td></tr>\n",
       "<tr><td style=\"background-color:lightgrey\">158</td><td style=\"background-color:white\">Jan 2023</td><td style=\"background-color:white\">7.1</td><td style=\"background-color:white\">-5.3</td><td style=\"background-color:white\">-4</td><td style=\"background-color:white\">6.3</td><td style=\"background-color:white\">8.9</td><td style=\"background-color:white\">0.3</td><td style=\"background-color:white\">-1.1</td></tr>\n",
       "<tr><td style=\"background-color:lightgrey\">159</td><td style=\"background-color:white\">Feb 2023</td><td style=\"background-color:white\">5</td><td style=\"background-color:white\">-5.1</td><td style=\"background-color:white\">-4</td><td style=\"background-color:white\">2.9</td><td style=\"background-color:white\">4.4</td><td style=\"background-color:white\">0.8</td><td style=\"background-color:white\">0.3</td></tr>\n",
       "<tr><td style=\"background-color:lightgrey\">160</td><td style=\"background-color:white\">Mar 2023</td><td style=\"background-color:white\">1.3</td><td style=\"background-color:white\">-5.3</td><td style=\"background-color:white\">-4.5</td><td style=\"background-color:white\">-1.9</td><td style=\"background-color:white\">0.2</td><td style=\"background-color:white\">4.2</td><td style=\"background-color:white\">0.7</td></tr>\n",
       "<tr><td style=\"background-color:lightgrey\">161</td><td style=\"background-color:white\">Apr 2023</td><td style=\"background-color:white\">-0.8</td><td style=\"background-color:white\">-3.3</td><td style=\"background-color:white\">-3</td><td style=\"background-color:white\">-1.5</td><td style=\"background-color:white\">2</td><td style=\"background-color:white\">5.4</td><td style=\"background-color:white\">0.9</td></tr>\n",
       "\n",
       "                </table>\n",
       "            </body>\n",
       "            <br>\n",
       "        </html>\n",
       "    "
      ],
      "text/plain": [
       "<IPython.core.display.HTML object>"
      ]
     },
     "metadata": {},
     "output_type": "display_data"
    }
   ],
   "source": [
    "from typing import List\n",
    "from datachef import acquire, preview, XlsxSelectable\n",
    "\n",
    "tables: List[XlsxSelectable] = acquire.xlsx.http(\"https://github.com/mikeAdamss/datachef/raw/main/tests/fixtures/xlsx/ons-oic.xlsx\")\n",
    "preview(tables[9], bounded=\"A155:H161\")"
   ]
  },
  {
   "attachments": {},
   "cell_type": "markdown",
   "metadata": {},
   "source": [
    "It's pretty easy to see that the creator of this dataset will be adding more months of data in the future - and you want your script to capture this additional data on reruns.\n",
    "\n",
    "Now consider our two different techniques of selection.\n",
    "\n",
    "### excel_ref()\n",
    "\n",
    "A statement of something like `table.excel_ref(\"B155:B161\")` will work but when the user inevitably republishes the source with additional rows this additional data will not be extracted.\n",
    "\n",
    "### expand()\n",
    "\n",
    "Whereas a statement of `table.excel_ref(\"B155\").expand(down).expand(right)` would automatically extract the additional data upon a re run of the script with **no code update required**."
   ]
  },
  {
   "attachments": {},
   "cell_type": "markdown",
   "metadata": {},
   "source": [
    "## Validation Vs Assertions\n",
    "\n",
    "These are superficially similar things using overlapping mechanics but there is a distinction that's important to understand here:\n",
    "\n",
    "- Assertions via the `<selectable>.assert_selections()` method run against **selections** so police your _extraction logic_.\n",
    "- Validations via the `Column(validation=)` constructor keyword run against the **output** so police your _final product_.\n",
    "\n",
    "Consider the following scenarios:\n",
    "\n",
    "- 1.) You want to select an \"anchor cell\" or a selection of cells for the sole purpose of subtracting it from another selection. It could be important to confirm these selections are accurate but because they're not directly extracted values then `validation=` will never see them (just the consequence of them) so the `assert_seletions()` is more appropriate.\n",
    "\n",
    "- 2.) You're are using `apply=` to cleanse cell value data at the point of extraction and need to make sure the correct things are happening, the `assert_seletions()` method will **never see these cleansed values**, but `validation=` will.\n",
    "\n",
    "Some nuances on where to use each follows but the pithy version is \"use both strategies, wherever possible and as much as its practical to do so\"."
   ]
  },
  {
   "attachments": {},
   "cell_type": "markdown",
   "metadata": {},
   "source": [
    "## When to use Validation & Assertions\n",
    "\n",
    "If you're doing a one off transform you've not intention of repeating (you're quickly pulling some data apart of populate a dataframe, chart etc) then you could argue that validation is overkill.\n",
    "\n",
    "If you're intending run your code more than once against a changeable data source you should be implementing some form of validation. Even if its just one of the lightweight methods documented elsewhere in this Jupyterbook.\n",
    "\n",
    "If you're setting up any kind of RAP processes, you should almost certainly be investing time in a quality validation callable (or other mechanism) suitable for your pipeline process and use case(s).\n",
    "\n",
    "Assertions are more light touch and as a general rule you should be getting into the habit of using them liberally.\n"
   ]
  },
  {
   "attachments": {},
   "cell_type": "markdown",
   "metadata": {},
   "source": [
    "## Select Wide and Validate Narrow\n",
    "\n",
    "Sharp observers will have noticed you can us regex to select cells and also use regex to assert selection and even validate extracted values - isn't this redundant?\n",
    "\n",
    "No, because there are very different goals for selection vs validation (to include assertions), as a general rule:\n",
    "\n",
    "- You want to keep your **selection techniques wide** so that the cells get selected _even if they contain invalid values_ (perhaps **especially** if they contain invalid values) - provided ofc these calls are located structurally where valid values should be.\n",
    "- Your validation then needs to be **narrow**, **precise** and **unforgiving**.\n",
    "\n",
    "You can sum this up with the following statement:\n",
    "\n",
    "**You cannot stop human beings making human errors when publishing updated versions of data sources, but you CAN set things up so you know WHEN and precisely WHERE any such error is encountered.**\n",
    "\n",
    "Consider this - if you use a strict regular expression to select _only valid values_ then this just means you completely skip the invalid values.\n",
    "\n",
    "- What if its just a typo? \"Maale\" in place of Male? Do you want \"Male\" to be missing from your output?\n",
    "- What if you use an `is_numeric` filter but a user adds a data marker of `*` in place of an observation?\n",
    "\n",
    "My point is there are nuances here, you **dont** want to process invalid values, but you **do** (on balance) want to select them (if they're located where valid values should be).\n",
    "\n",
    "The trick here is to use the provided tools to make it **obvious** where and precisely what the problem is so it can be trivially addressed. Judicious and well targeted usage of validation and assertions will get you that."
   ]
  }
 ],
 "metadata": {
  "kernelspec": {
   "display_name": "datachef-hNSMaw3h-py3.9",
   "language": "python",
   "name": "python3"
  },
  "language_info": {
   "codemirror_mode": {
    "name": "ipython",
    "version": 3
   },
   "file_extension": ".py",
   "mimetype": "text/x-python",
   "name": "python",
   "nbconvert_exporter": "python",
   "pygments_lexer": "ipython3",
   "version": "3.9.7"
  },
  "orig_nbformat": 4
 },
 "nbformat": 4,
 "nbformat_minor": 2
}
