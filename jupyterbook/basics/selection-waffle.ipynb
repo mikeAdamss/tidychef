{
 "cells": [
  {
   "attachments": {},
   "cell_type": "markdown",
   "metadata": {},
   "source": [
    "## Selection: Waffle\n",
    "\n",
    "A `waffle()` is a method for selecting cells that exist at the intersection of two selections.\n",
    "\n",
    "It's a concept that's easiest to explain with examples."
   ]
  },
  {
   "attachments": {},
   "cell_type": "markdown",
   "metadata": {},
   "source": [
    "## Source Data\n",
    "\n",
    "The data source we're using for these examples is shown below:\n",
    "\n",
    "| <span style=\"color:green\">Note - this particular table has some very verbose headers we don't care about, so we'll be using `bounded=` to remove them from the previews as well as to show just the subset of data we're working with.</span>|\n",
    "|-----------------------------------------|\n",
    "\n",
    "The [full data source can be downloaded here](https://github.com/mikeAdamss/datachef/raw/main/tests/fixtures/xlsx/ons-oic.xlsx). We'll be using th 6th tab named \"Table2a\"."
   ]
  },
  {
   "cell_type": "code",
   "execution_count": 1,
   "metadata": {},
   "outputs": [
    {
     "data": {
      "text/html": [
       "\n",
       "    <html>\n",
       "        \n",
       "    <style>\n",
       "    table, th, td {\n",
       "        border: 1px solid;\n",
       "    }\n",
       "\n",
       "    table {\n",
       "        border-collapse: collapse;\n",
       "    }\n",
       "\n",
       "    td {\n",
       "        align: center;\n",
       "        border: 1px  black solid !important;\n",
       "        color: black !important;\n",
       "    }\n",
       "\n",
       "    th, td {\n",
       "        padding: 5px;\n",
       "    }\n",
       "\n",
       "    </style>\n",
       "    \n",
       "            <table>\n",
       "                \n",
       "            </table>\n",
       "\n",
       "            <body>\n",
       "                <h2>Table 2a</h2>\n",
       "                <table>\n",
       "                    <tr><td style=\"background-color:lightgrey\"></td><td style=\"background-color:lightgrey\">A</td><td style=\"background-color:lightgrey\">B</td><td style=\"background-color:lightgrey\">C</td><td style=\"background-color:lightgrey\">D</td><td style=\"background-color:lightgrey\">E</td><td style=\"background-color:lightgrey\">F</td><td style=\"background-color:lightgrey\">G</td><td style=\"background-color:lightgrey\">H</td></tr>\n",
       "<tr><td style=\"background-color:lightgrey\">4</td><td style=\"background-color:white\">£ million</td><td style=\"background-color:white\"></td><td style=\"background-color:white\"></td><td style=\"background-color:white\"></td><td style=\"background-color:white\"></td><td style=\"background-color:white\"></td><td style=\"background-color:white\"></td><td style=\"background-color:white\"></td></tr>\n",
       "<tr><td style=\"background-color:lightgrey\">5</td><td style=\"background-color:white\">Time period</td><td style=\"background-color:white\">Public new housing</td><td style=\"background-color:white\">Private new housing</td><td style=\"background-color:white\">Total new housing</td><td style=\"background-color:white\">Infrastructure new work</td><td style=\"background-color:white\">Public other new work</td><td style=\"background-color:white\">Private industrial new work</td><td style=\"background-color:white\">Private commercial new work</td></tr>\n",
       "<tr><td style=\"background-color:lightgrey\">6</td><td style=\"background-color:white\">Dataset identifier code</td><td style=\"background-color:white\">MV3W</td><td style=\"background-color:white\">MV3X</td><td style=\"background-color:white\">MVL9</td><td style=\"background-color:white\">MV3Y</td><td style=\"background-color:white\">MV3Z</td><td style=\"background-color:white\">MV42</td><td style=\"background-color:white\">MV43</td></tr>\n",
       "<tr><td style=\"background-color:lightgrey\">7</td><td style=\"background-color:white\">1997</td><td style=\"background-color:white\">2158</td><td style=\"background-color:white\">17588</td><td style=\"background-color:white\">19690</td><td style=\"background-color:white\">14015</td><td style=\"background-color:white\">6010</td><td style=\"background-color:white\">8721</td><td style=\"background-color:white\">25517</td></tr>\n",
       "<tr><td style=\"background-color:lightgrey\">8</td><td style=\"background-color:white\">1998</td><td style=\"background-color:white\">1748</td><td style=\"background-color:white\">17764</td><td style=\"background-color:white\">19448</td><td style=\"background-color:white\">13627</td><td style=\"background-color:white\">6334</td><td style=\"background-color:white\">8885</td><td style=\"background-color:white\">27655</td></tr>\n",
       "<tr><td style=\"background-color:lightgrey\">9</td><td style=\"background-color:white\">1999</td><td style=\"background-color:white\">1515</td><td style=\"background-color:white\">15980</td><td style=\"background-color:white\">17436</td><td style=\"background-color:white\">13247</td><td style=\"background-color:white\">7129</td><td style=\"background-color:white\">9167</td><td style=\"background-color:white\">30963</td></tr>\n",
       "<tr><td style=\"background-color:lightgrey\">10</td><td style=\"background-color:white\">2000</td><td style=\"background-color:white\">1901</td><td style=\"background-color:white\">17853</td><td style=\"background-color:white\">19693</td><td style=\"background-color:white\">12430</td><td style=\"background-color:white\">6753</td><td style=\"background-color:white\">8182</td><td style=\"background-color:white\">31200</td></tr>\n",
       "\n",
       "                </table>\n",
       "            </body>\n",
       "            <br>\n",
       "        </html>\n",
       "    "
      ],
      "text/plain": [
       "<IPython.core.display.HTML object>"
      ]
     },
     "metadata": {},
     "output_type": "display_data"
    }
   ],
   "source": [
    "from typing import List\n",
    "from datachef import acquire, preview\n",
    "from datachef.direction import left, right, up\n",
    "from datachef.selection import XlsxSelectable\n",
    "\n",
    "tables: List[XlsxSelectable] = acquire.xlsx.http(\"https://github.com/mikeAdamss/datachef/raw/main/tests/fixtures/xlsx/ons-oic.xlsx\")\n",
    "table = tables[5]\n",
    "preview(table, bounded=\"A4:H10\")"
   ]
  },
  {
   "attachments": {},
   "cell_type": "markdown",
   "metadata": {},
   "source": [
    "Now lets image we have two selections as follows"
   ]
  },
  {
   "cell_type": "code",
   "execution_count": 2,
   "metadata": {},
   "outputs": [
    {
     "data": {
      "text/html": [
       "\n",
       "    <html>\n",
       "        \n",
       "    <style>\n",
       "    table, th, td {\n",
       "        border: 1px solid;\n",
       "    }\n",
       "\n",
       "    table {\n",
       "        border-collapse: collapse;\n",
       "    }\n",
       "\n",
       "    td {\n",
       "        align: center;\n",
       "        border: 1px  black solid !important;\n",
       "        color: black !important;\n",
       "    }\n",
       "\n",
       "    th, td {\n",
       "        padding: 5px;\n",
       "    }\n",
       "\n",
       "    </style>\n",
       "    \n",
       "            <table>\n",
       "                \n",
       "            <tr>\n",
       "                <td style=\"background-color:cyan\">Codes</td>\n",
       "            <tr>\n",
       "        \n",
       "            <tr>\n",
       "                <td style=\"background-color:#99ff99\">Years</td>\n",
       "            <tr>\n",
       "        \n",
       "            </table>\n",
       "\n",
       "            <body>\n",
       "                <h2>Table 2a</h2>\n",
       "                <table>\n",
       "                    <tr><td style=\"background-color:lightgrey\"></td><td style=\"background-color:lightgrey\">A</td><td style=\"background-color:lightgrey\">B</td><td style=\"background-color:lightgrey\">C</td><td style=\"background-color:lightgrey\">D</td><td style=\"background-color:lightgrey\">E</td><td style=\"background-color:lightgrey\">F</td><td style=\"background-color:lightgrey\">G</td><td style=\"background-color:lightgrey\">H</td></tr>\n",
       "<tr><td style=\"background-color:lightgrey\">4</td><td style=\"background-color:white\">£ million</td><td style=\"background-color:white\"></td><td style=\"background-color:white\"></td><td style=\"background-color:white\"></td><td style=\"background-color:white\"></td><td style=\"background-color:white\"></td><td style=\"background-color:white\"></td><td style=\"background-color:white\"></td></tr>\n",
       "<tr><td style=\"background-color:lightgrey\">5</td><td style=\"background-color:white\">Time period</td><td style=\"background-color:cyan\">Public new housing</td><td style=\"background-color:cyan\">Private new housing</td><td style=\"background-color:cyan\">Total new housing</td><td style=\"background-color:cyan\">Infrastructure new work</td><td style=\"background-color:cyan\">Public other new work</td><td style=\"background-color:cyan\">Private industrial new work</td><td style=\"background-color:cyan\">Private commercial new work</td></tr>\n",
       "<tr><td style=\"background-color:lightgrey\">6</td><td style=\"background-color:white\">Dataset identifier code</td><td style=\"background-color:white\">MV3W</td><td style=\"background-color:white\">MV3X</td><td style=\"background-color:white\">MVL9</td><td style=\"background-color:white\">MV3Y</td><td style=\"background-color:white\">MV3Z</td><td style=\"background-color:white\">MV42</td><td style=\"background-color:white\">MV43</td></tr>\n",
       "<tr><td style=\"background-color:lightgrey\">7</td><td style=\"background-color:#99ff99\">1997</td><td style=\"background-color:white\">2158</td><td style=\"background-color:white\">17588</td><td style=\"background-color:white\">19690</td><td style=\"background-color:white\">14015</td><td style=\"background-color:white\">6010</td><td style=\"background-color:white\">8721</td><td style=\"background-color:white\">25517</td></tr>\n",
       "<tr><td style=\"background-color:lightgrey\">8</td><td style=\"background-color:#99ff99\">1998</td><td style=\"background-color:white\">1748</td><td style=\"background-color:white\">17764</td><td style=\"background-color:white\">19448</td><td style=\"background-color:white\">13627</td><td style=\"background-color:white\">6334</td><td style=\"background-color:white\">8885</td><td style=\"background-color:white\">27655</td></tr>\n",
       "<tr><td style=\"background-color:lightgrey\">9</td><td style=\"background-color:#99ff99\">1999</td><td style=\"background-color:white\">1515</td><td style=\"background-color:white\">15980</td><td style=\"background-color:white\">17436</td><td style=\"background-color:white\">13247</td><td style=\"background-color:white\">7129</td><td style=\"background-color:white\">9167</td><td style=\"background-color:white\">30963</td></tr>\n",
       "<tr><td style=\"background-color:lightgrey\">10</td><td style=\"background-color:#99ff99\">2000</td><td style=\"background-color:white\">1901</td><td style=\"background-color:white\">17853</td><td style=\"background-color:white\">19693</td><td style=\"background-color:white\">12430</td><td style=\"background-color:white\">6753</td><td style=\"background-color:white\">8182</td><td style=\"background-color:white\">31200</td></tr>\n",
       "\n",
       "                </table>\n",
       "            </body>\n",
       "            <br>\n",
       "        </html>\n",
       "    "
      ],
      "text/plain": [
       "<IPython.core.display.HTML object>"
      ]
     },
     "metadata": {},
     "output_type": "display_data"
    }
   ],
   "source": [
    "codes = table.excel_ref(\"B5:H5\").label_as(\"Codes\")\n",
    "years = table.excel_ref(\"A7:A10\").label_as(\"Years\")\n",
    "preview(codes, years, bounded=\"A4:H10\")"
   ]
  },
  {
   "attachments": {},
   "cell_type": "markdown",
   "metadata": {},
   "source": [
    "Now we have our column values we want to get observations - this is where `waffle()` comes in!\n",
    "\n",
    "The syntax is as follows:\n",
    "\n",
    "```\n",
    "<selection1>.waffle(<direction>, <selection2>)\n",
    "```\n",
    "\n",
    "So in our example we're starting with the \"years\" selection and looking right to create a waffle against the \"codes\" selection, as follows:"
   ]
  },
  {
   "cell_type": "code",
   "execution_count": 3,
   "metadata": {},
   "outputs": [
    {
     "data": {
      "text/html": [
       "\n",
       "    <html>\n",
       "        \n",
       "    <style>\n",
       "    table, th, td {\n",
       "        border: 1px solid;\n",
       "    }\n",
       "\n",
       "    table {\n",
       "        border-collapse: collapse;\n",
       "    }\n",
       "\n",
       "    td {\n",
       "        align: center;\n",
       "        border: 1px  black solid !important;\n",
       "        color: black !important;\n",
       "    }\n",
       "\n",
       "    th, td {\n",
       "        padding: 5px;\n",
       "    }\n",
       "\n",
       "    </style>\n",
       "    \n",
       "            <table>\n",
       "                \n",
       "            <tr>\n",
       "                <td style=\"background-color:cyan\">Values</td>\n",
       "            <tr>\n",
       "        \n",
       "            </table>\n",
       "\n",
       "            <body>\n",
       "                <h2>Table 2a</h2>\n",
       "                <table>\n",
       "                    <tr><td style=\"background-color:lightgrey\"></td><td style=\"background-color:lightgrey\">A</td><td style=\"background-color:lightgrey\">B</td><td style=\"background-color:lightgrey\">C</td><td style=\"background-color:lightgrey\">D</td><td style=\"background-color:lightgrey\">E</td><td style=\"background-color:lightgrey\">F</td><td style=\"background-color:lightgrey\">G</td><td style=\"background-color:lightgrey\">H</td></tr>\n",
       "<tr><td style=\"background-color:lightgrey\">4</td><td style=\"background-color:white\">£ million</td><td style=\"background-color:white\"></td><td style=\"background-color:white\"></td><td style=\"background-color:white\"></td><td style=\"background-color:white\"></td><td style=\"background-color:white\"></td><td style=\"background-color:white\"></td><td style=\"background-color:white\"></td></tr>\n",
       "<tr><td style=\"background-color:lightgrey\">5</td><td style=\"background-color:white\">Time period</td><td style=\"background-color:white\">Public new housing</td><td style=\"background-color:white\">Private new housing</td><td style=\"background-color:white\">Total new housing</td><td style=\"background-color:white\">Infrastructure new work</td><td style=\"background-color:white\">Public other new work</td><td style=\"background-color:white\">Private industrial new work</td><td style=\"background-color:white\">Private commercial new work</td></tr>\n",
       "<tr><td style=\"background-color:lightgrey\">6</td><td style=\"background-color:white\">Dataset identifier code</td><td style=\"background-color:white\">MV3W</td><td style=\"background-color:white\">MV3X</td><td style=\"background-color:white\">MVL9</td><td style=\"background-color:white\">MV3Y</td><td style=\"background-color:white\">MV3Z</td><td style=\"background-color:white\">MV42</td><td style=\"background-color:white\">MV43</td></tr>\n",
       "<tr><td style=\"background-color:lightgrey\">7</td><td style=\"background-color:white\">1997</td><td style=\"background-color:cyan\">2158</td><td style=\"background-color:cyan\">17588</td><td style=\"background-color:cyan\">19690</td><td style=\"background-color:cyan\">14015</td><td style=\"background-color:cyan\">6010</td><td style=\"background-color:cyan\">8721</td><td style=\"background-color:cyan\">25517</td></tr>\n",
       "<tr><td style=\"background-color:lightgrey\">8</td><td style=\"background-color:white\">1998</td><td style=\"background-color:cyan\">1748</td><td style=\"background-color:cyan\">17764</td><td style=\"background-color:cyan\">19448</td><td style=\"background-color:cyan\">13627</td><td style=\"background-color:cyan\">6334</td><td style=\"background-color:cyan\">8885</td><td style=\"background-color:cyan\">27655</td></tr>\n",
       "<tr><td style=\"background-color:lightgrey\">9</td><td style=\"background-color:white\">1999</td><td style=\"background-color:cyan\">1515</td><td style=\"background-color:cyan\">15980</td><td style=\"background-color:cyan\">17436</td><td style=\"background-color:cyan\">13247</td><td style=\"background-color:cyan\">7129</td><td style=\"background-color:cyan\">9167</td><td style=\"background-color:cyan\">30963</td></tr>\n",
       "<tr><td style=\"background-color:lightgrey\">10</td><td style=\"background-color:white\">2000</td><td style=\"background-color:cyan\">1901</td><td style=\"background-color:cyan\">17853</td><td style=\"background-color:cyan\">19693</td><td style=\"background-color:cyan\">12430</td><td style=\"background-color:cyan\">6753</td><td style=\"background-color:cyan\">8182</td><td style=\"background-color:cyan\">31200</td></tr>\n",
       "\n",
       "                </table>\n",
       "            </body>\n",
       "            <br>\n",
       "        </html>\n",
       "    "
      ],
      "text/plain": [
       "<IPython.core.display.HTML object>"
      ]
     },
     "metadata": {},
     "output_type": "display_data"
    }
   ],
   "source": [
    "waffled_selection = years.waffle(right, codes).label_as(\"Values\")\n",
    "preview(waffled_selection, bounded=\"A4:H10\")"
   ]
  },
  {
   "attachments": {},
   "cell_type": "markdown",
   "metadata": {},
   "source": [
    "## Why the direction?\n",
    "\n",
    "Is the typical question at this point. It's because you can always interpret a waffle along more than one axis.\n",
    "\n",
    "As an example, lets use the same command but look to waffle up rather than right."
   ]
  },
  {
   "cell_type": "code",
   "execution_count": 4,
   "metadata": {},
   "outputs": [
    {
     "data": {
      "text/html": [
       "\n",
       "    <html>\n",
       "        \n",
       "    <style>\n",
       "    table, th, td {\n",
       "        border: 1px solid;\n",
       "    }\n",
       "\n",
       "    table {\n",
       "        border-collapse: collapse;\n",
       "    }\n",
       "\n",
       "    td {\n",
       "        align: center;\n",
       "        border: 1px  black solid !important;\n",
       "        color: black !important;\n",
       "    }\n",
       "\n",
       "    th, td {\n",
       "        padding: 5px;\n",
       "    }\n",
       "\n",
       "    </style>\n",
       "    \n",
       "            <table>\n",
       "                \n",
       "            <tr>\n",
       "                <td style=\"background-color:cyan\">Values</td>\n",
       "            <tr>\n",
       "        \n",
       "            </table>\n",
       "\n",
       "            <body>\n",
       "                <h2>Table 2a</h2>\n",
       "                <table>\n",
       "                    <tr><td style=\"background-color:lightgrey\"></td><td style=\"background-color:lightgrey\">A</td><td style=\"background-color:lightgrey\">B</td><td style=\"background-color:lightgrey\">C</td><td style=\"background-color:lightgrey\">D</td><td style=\"background-color:lightgrey\">E</td><td style=\"background-color:lightgrey\">F</td><td style=\"background-color:lightgrey\">G</td><td style=\"background-color:lightgrey\">H</td></tr>\n",
       "<tr><td style=\"background-color:lightgrey\">4</td><td style=\"background-color:white\">£ million</td><td style=\"background-color:white\"></td><td style=\"background-color:white\"></td><td style=\"background-color:white\"></td><td style=\"background-color:white\"></td><td style=\"background-color:white\"></td><td style=\"background-color:white\"></td><td style=\"background-color:white\"></td></tr>\n",
       "<tr><td style=\"background-color:lightgrey\">5</td><td style=\"background-color:cyan\">Time period</td><td style=\"background-color:white\">Public new housing</td><td style=\"background-color:white\">Private new housing</td><td style=\"background-color:white\">Total new housing</td><td style=\"background-color:white\">Infrastructure new work</td><td style=\"background-color:white\">Public other new work</td><td style=\"background-color:white\">Private industrial new work</td><td style=\"background-color:white\">Private commercial new work</td></tr>\n",
       "<tr><td style=\"background-color:lightgrey\">6</td><td style=\"background-color:white\">Dataset identifier code</td><td style=\"background-color:white\">MV3W</td><td style=\"background-color:white\">MV3X</td><td style=\"background-color:white\">MVL9</td><td style=\"background-color:white\">MV3Y</td><td style=\"background-color:white\">MV3Z</td><td style=\"background-color:white\">MV42</td><td style=\"background-color:white\">MV43</td></tr>\n",
       "<tr><td style=\"background-color:lightgrey\">7</td><td style=\"background-color:white\">1997</td><td style=\"background-color:white\">2158</td><td style=\"background-color:white\">17588</td><td style=\"background-color:white\">19690</td><td style=\"background-color:white\">14015</td><td style=\"background-color:white\">6010</td><td style=\"background-color:white\">8721</td><td style=\"background-color:white\">25517</td></tr>\n",
       "<tr><td style=\"background-color:lightgrey\">8</td><td style=\"background-color:white\">1998</td><td style=\"background-color:white\">1748</td><td style=\"background-color:white\">17764</td><td style=\"background-color:white\">19448</td><td style=\"background-color:white\">13627</td><td style=\"background-color:white\">6334</td><td style=\"background-color:white\">8885</td><td style=\"background-color:white\">27655</td></tr>\n",
       "<tr><td style=\"background-color:lightgrey\">9</td><td style=\"background-color:white\">1999</td><td style=\"background-color:white\">1515</td><td style=\"background-color:white\">15980</td><td style=\"background-color:white\">17436</td><td style=\"background-color:white\">13247</td><td style=\"background-color:white\">7129</td><td style=\"background-color:white\">9167</td><td style=\"background-color:white\">30963</td></tr>\n",
       "<tr><td style=\"background-color:lightgrey\">10</td><td style=\"background-color:white\">2000</td><td style=\"background-color:white\">1901</td><td style=\"background-color:white\">17853</td><td style=\"background-color:white\">19693</td><td style=\"background-color:white\">12430</td><td style=\"background-color:white\">6753</td><td style=\"background-color:white\">8182</td><td style=\"background-color:white\">31200</td></tr>\n",
       "\n",
       "                </table>\n",
       "            </body>\n",
       "            <br>\n",
       "        </html>\n",
       "    "
      ],
      "text/plain": [
       "<IPython.core.display.HTML object>"
      ]
     },
     "metadata": {},
     "output_type": "display_data"
    }
   ],
   "source": [
    "waffled_selection = years.waffle(up, codes).label_as(\"Values\")\n",
    "preview(waffled_selection, bounded=\"A4:H10\")"
   ]
  },
  {
   "attachments": {},
   "cell_type": "markdown",
   "metadata": {},
   "source": [
    "## You cannot waffle overlaps\n",
    "\n",
    "The `waffle()` method is very strict in that it will not allow you to waffle two selections that overlap on the relevant axis.\n",
    "\n",
    "Again, we'll show this with an example."
   ]
  },
  {
   "cell_type": "code",
   "execution_count": 5,
   "metadata": {},
   "outputs": [
    {
     "data": {
      "text/html": [
       "\n",
       "    <html>\n",
       "        \n",
       "    <style>\n",
       "    table, th, td {\n",
       "        border: 1px solid;\n",
       "    }\n",
       "\n",
       "    table {\n",
       "        border-collapse: collapse;\n",
       "    }\n",
       "\n",
       "    td {\n",
       "        align: center;\n",
       "        border: 1px  black solid !important;\n",
       "        color: black !important;\n",
       "    }\n",
       "\n",
       "    th, td {\n",
       "        padding: 5px;\n",
       "    }\n",
       "\n",
       "    </style>\n",
       "    \n",
       "            <table>\n",
       "                \n",
       "            <tr>\n",
       "                <td style=\"background-color:cyan\">Codes</td>\n",
       "            <tr>\n",
       "        \n",
       "            <tr>\n",
       "                <td style=\"background-color:#99ff99\">Years</td>\n",
       "            <tr>\n",
       "        \n",
       "            </table>\n",
       "\n",
       "            <body>\n",
       "                <h2>Table 2a</h2>\n",
       "                <table>\n",
       "                    <tr><td style=\"background-color:lightgrey\"></td><td style=\"background-color:lightgrey\">A</td><td style=\"background-color:lightgrey\">B</td><td style=\"background-color:lightgrey\">C</td><td style=\"background-color:lightgrey\">D</td><td style=\"background-color:lightgrey\">E</td><td style=\"background-color:lightgrey\">F</td><td style=\"background-color:lightgrey\">G</td><td style=\"background-color:lightgrey\">H</td></tr>\n",
       "<tr><td style=\"background-color:lightgrey\">4</td><td style=\"background-color:white\">£ million</td><td style=\"background-color:white\"></td><td style=\"background-color:white\"></td><td style=\"background-color:white\"></td><td style=\"background-color:white\"></td><td style=\"background-color:white\"></td><td style=\"background-color:white\"></td><td style=\"background-color:white\"></td></tr>\n",
       "<tr><td style=\"background-color:lightgrey\">5</td><td style=\"background-color:white\">Time period</td><td style=\"background-color:cyan\">Public new housing</td><td style=\"background-color:cyan\">Private new housing</td><td style=\"background-color:cyan\">Total new housing</td><td style=\"background-color:cyan\">Infrastructure new work</td><td style=\"background-color:cyan\">Public other new work</td><td style=\"background-color:cyan\">Private industrial new work</td><td style=\"background-color:cyan\">Private commercial new work</td></tr>\n",
       "<tr><td style=\"background-color:lightgrey\">6</td><td style=\"background-color:white\">Dataset identifier code</td><td style=\"background-color:white\">MV3W</td><td style=\"background-color:white\">MV3X</td><td style=\"background-color:white\">MVL9</td><td style=\"background-color:white\">MV3Y</td><td style=\"background-color:white\">MV3Z</td><td style=\"background-color:white\">MV42</td><td style=\"background-color:white\">MV43</td></tr>\n",
       "<tr><td style=\"background-color:lightgrey\">7</td><td style=\"background-color:white\">1997</td><td style=\"background-color:white\">2158</td><td style=\"background-color:#99ff99\">17588</td><td style=\"background-color:white\">19690</td><td style=\"background-color:white\">14015</td><td style=\"background-color:white\">6010</td><td style=\"background-color:white\">8721</td><td style=\"background-color:white\">25517</td></tr>\n",
       "<tr><td style=\"background-color:lightgrey\">8</td><td style=\"background-color:white\">1998</td><td style=\"background-color:white\">1748</td><td style=\"background-color:#99ff99\">17764</td><td style=\"background-color:white\">19448</td><td style=\"background-color:white\">13627</td><td style=\"background-color:white\">6334</td><td style=\"background-color:white\">8885</td><td style=\"background-color:white\">27655</td></tr>\n",
       "<tr><td style=\"background-color:lightgrey\">9</td><td style=\"background-color:white\">1999</td><td style=\"background-color:white\">1515</td><td style=\"background-color:#99ff99\">15980</td><td style=\"background-color:white\">17436</td><td style=\"background-color:white\">13247</td><td style=\"background-color:white\">7129</td><td style=\"background-color:white\">9167</td><td style=\"background-color:white\">30963</td></tr>\n",
       "<tr><td style=\"background-color:lightgrey\">10</td><td style=\"background-color:white\">2000</td><td style=\"background-color:white\">1901</td><td style=\"background-color:#99ff99\">17853</td><td style=\"background-color:white\">19693</td><td style=\"background-color:white\">12430</td><td style=\"background-color:white\">6753</td><td style=\"background-color:white\">8182</td><td style=\"background-color:white\">31200</td></tr>\n",
       "\n",
       "                </table>\n",
       "            </body>\n",
       "            <br>\n",
       "        </html>\n",
       "    "
      ],
      "text/plain": [
       "<IPython.core.display.HTML object>"
      ]
     },
     "metadata": {},
     "output_type": "display_data"
    },
    {
     "ename": "AmbiguousWaffleError",
     "evalue": "When using waffle right, your additional selections must all be right of your initial selections.",
     "output_type": "error",
     "traceback": [
      "\u001b[0;31m---------------------------------------------------------------------------\u001b[0m",
      "\u001b[0;31mAmbiguousWaffleError\u001b[0m                      Traceback (most recent call last)",
      "\u001b[0;32m/var/folders/3q/wpcx20553xv0hpsjgtq_zl_m0000gp/T/ipykernel_72816/2135533438.py\u001b[0m in \u001b[0;36m<cell line: 4>\u001b[0;34m()\u001b[0m\n\u001b[1;32m      2\u001b[0m \u001b[0myears\u001b[0m \u001b[0;34m=\u001b[0m \u001b[0mtable\u001b[0m\u001b[0;34m.\u001b[0m\u001b[0mexcel_ref\u001b[0m\u001b[0;34m(\u001b[0m\u001b[0;34m\"C7:C10\"\u001b[0m\u001b[0;34m)\u001b[0m\u001b[0;34m.\u001b[0m\u001b[0mlabel_as\u001b[0m\u001b[0;34m(\u001b[0m\u001b[0;34m\"Years\"\u001b[0m\u001b[0;34m)\u001b[0m\u001b[0;34m\u001b[0m\u001b[0;34m\u001b[0m\u001b[0m\n\u001b[1;32m      3\u001b[0m \u001b[0mpreview\u001b[0m\u001b[0;34m(\u001b[0m\u001b[0mcodes\u001b[0m\u001b[0;34m,\u001b[0m \u001b[0myears\u001b[0m\u001b[0;34m,\u001b[0m \u001b[0mbounded\u001b[0m\u001b[0;34m=\u001b[0m\u001b[0;34m\"A4:H10\"\u001b[0m\u001b[0;34m)\u001b[0m\u001b[0;34m\u001b[0m\u001b[0;34m\u001b[0m\u001b[0m\n\u001b[0;32m----> 4\u001b[0;31m \u001b[0mwaffled_selection\u001b[0m \u001b[0;34m=\u001b[0m \u001b[0myears\u001b[0m\u001b[0;34m.\u001b[0m\u001b[0mwaffle\u001b[0m\u001b[0;34m(\u001b[0m\u001b[0mright\u001b[0m\u001b[0;34m,\u001b[0m \u001b[0mcodes\u001b[0m\u001b[0;34m)\u001b[0m\u001b[0;34m\u001b[0m\u001b[0;34m\u001b[0m\u001b[0m\n\u001b[0m",
      "\u001b[0;32m~/code/mikeAdamss/datachef/datachef/utils/decorators/dontmutate.py\u001b[0m in \u001b[0;36mwrapper\u001b[0;34m(self, *args, **kwargs)\u001b[0m\n\u001b[1;32m     22\u001b[0m     \u001b[0;32mdef\u001b[0m \u001b[0mwrapper\u001b[0m\u001b[0;34m(\u001b[0m\u001b[0mself\u001b[0m\u001b[0;34m,\u001b[0m \u001b[0;34m*\u001b[0m\u001b[0margs\u001b[0m\u001b[0;34m,\u001b[0m \u001b[0;34m**\u001b[0m\u001b[0mkwargs\u001b[0m\u001b[0;34m)\u001b[0m\u001b[0;34m:\u001b[0m\u001b[0;34m\u001b[0m\u001b[0;34m\u001b[0m\u001b[0m\n\u001b[1;32m     23\u001b[0m         \u001b[0mself\u001b[0m \u001b[0;34m=\u001b[0m \u001b[0mcopy\u001b[0m\u001b[0;34m.\u001b[0m\u001b[0mdeepcopy\u001b[0m\u001b[0;34m(\u001b[0m\u001b[0mself\u001b[0m\u001b[0;34m)\u001b[0m\u001b[0;34m\u001b[0m\u001b[0;34m\u001b[0m\u001b[0m\n\u001b[0;32m---> 24\u001b[0;31m         \u001b[0;32mreturn\u001b[0m \u001b[0mmethod\u001b[0m\u001b[0;34m(\u001b[0m\u001b[0mself\u001b[0m\u001b[0;34m,\u001b[0m \u001b[0;34m*\u001b[0m\u001b[0margs\u001b[0m\u001b[0;34m,\u001b[0m \u001b[0;34m**\u001b[0m\u001b[0mkwargs\u001b[0m\u001b[0;34m)\u001b[0m\u001b[0;34m\u001b[0m\u001b[0;34m\u001b[0m\u001b[0m\n\u001b[0m\u001b[1;32m     25\u001b[0m \u001b[0;34m\u001b[0m\u001b[0m\n\u001b[1;32m     26\u001b[0m     \u001b[0;32mreturn\u001b[0m \u001b[0mwrapper\u001b[0m\u001b[0;34m\u001b[0m\u001b[0;34m\u001b[0m\u001b[0m\n",
      "\u001b[0;32m~/code/mikeAdamss/datachef/datachef/selection/selectable.py\u001b[0m in \u001b[0;36mwaffle\u001b[0;34m(self, direction, additional_selection)\u001b[0m\n\u001b[1;32m    587\u001b[0m                 \u001b[0mhighest_x\u001b[0m \u001b[0;34m=\u001b[0m \u001b[0mdfc\u001b[0m\u001b[0;34m.\u001b[0m\u001b[0mmaximum_x_offset\u001b[0m\u001b[0;34m(\u001b[0m\u001b[0mself\u001b[0m\u001b[0;34m.\u001b[0m\u001b[0mcells\u001b[0m\u001b[0;34m)\u001b[0m\u001b[0;34m\u001b[0m\u001b[0;34m\u001b[0m\u001b[0m\n\u001b[1;32m    588\u001b[0m                 \u001b[0;32mif\u001b[0m \u001b[0many\u001b[0m\u001b[0;34m(\u001b[0m\u001b[0;34m[\u001b[0m\u001b[0mx\u001b[0m \u001b[0;32mfor\u001b[0m \u001b[0mx\u001b[0m \u001b[0;32min\u001b[0m \u001b[0madditional_selection\u001b[0m \u001b[0;32mif\u001b[0m \u001b[0mx\u001b[0m\u001b[0;34m.\u001b[0m\u001b[0mx\u001b[0m \u001b[0;34m<=\u001b[0m \u001b[0mhighest_x\u001b[0m\u001b[0;34m]\u001b[0m\u001b[0;34m)\u001b[0m\u001b[0;34m:\u001b[0m\u001b[0;34m\u001b[0m\u001b[0;34m\u001b[0m\u001b[0m\n\u001b[0;32m--> 589\u001b[0;31m                     raise AmbiguousWaffleError(\n\u001b[0m\u001b[1;32m    590\u001b[0m                         \u001b[0;34m\"When using waffle right, your additional selections must all \"\u001b[0m\u001b[0;34m\u001b[0m\u001b[0;34m\u001b[0m\u001b[0m\n\u001b[1;32m    591\u001b[0m                         \"be right of your initial selections.\")\n",
      "\u001b[0;31mAmbiguousWaffleError\u001b[0m: When using waffle right, your additional selections must all be right of your initial selections."
     ]
    }
   ],
   "source": [
    "codes = table.excel_ref(\"B5:H5\").label_as(\"Codes\")\n",
    "years = table.excel_ref(\"C7:C10\").label_as(\"Years\")\n",
    "preview(codes, years, bounded=\"A4:H10\")\n",
    "waffled_selection = years.waffle(right, codes)"
   ]
  }
 ],
 "metadata": {
  "kernelspec": {
   "display_name": "datachef-hNSMaw3h-py3.9",
   "language": "python",
   "name": "python3"
  },
  "language_info": {
   "codemirror_mode": {
    "name": "ipython",
    "version": 3
   },
   "file_extension": ".py",
   "mimetype": "text/x-python",
   "name": "python",
   "nbconvert_exporter": "python",
   "pygments_lexer": "ipython3",
   "version": "3.9.7"
  },
  "orig_nbformat": 4
 },
 "nbformat": 4,
 "nbformat_minor": 2
}
