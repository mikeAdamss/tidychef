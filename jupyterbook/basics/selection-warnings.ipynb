{
 "cells": [
  {
   "attachments": {},
   "cell_type": "markdown",
   "metadata": {},
   "source": [
    "# Selection: Multiple Selection Warnings\n",
    "\n",
    "Now we're doing more dynamic seletions it's time to talk about multiple selection warnings.\n",
    "\n",
    "When extracting tabulated data in this manner, the _likelyhood_ is that we only want to use each value once - as such where a single cell appears in two selections within a single preview a warning will be raised.\n",
    "\n",
    "This default behaviour can be toggled off as needed."
   ]
  },
  {
   "attachments": {},
   "cell_type": "markdown",
   "metadata": {},
   "source": [
    "## Source Data\n",
    "\n",
    "The data source we're using for these examples is shown below:\n",
    "\n",
    "| <span style=\"color:green\">Note - this particular table has some very verbose headers we don't care about, so we'll be using `bounded=` to remove them from the previews as well as to show just the subset of data we're working with.</span>|\n",
    "|-----------------------------------------|\n",
    "\n",
    "The [full data source can be downloaded here](https://github.com/mikeAdamss/datachef/raw/main/tests/fixtures/xlsx/ons-oic.xlsx). We'll be using th 6th tab named \"Table2a\"."
   ]
  },
  {
   "cell_type": "code",
   "execution_count": null,
   "metadata": {},
   "outputs": [],
   "source": [
    "from datachef import acquire, preview\n",
    "from datachef.selection import XlsxSelectable\n",
    "\n",
    "table: XlsxSelectable = acquire.xlsx.http(\"https://github.com/mikeAdamss/datachef/raw/main/tests/fixtures/xlsx/ons-oic.xlsx\", tables=\"Table 2a\")\n",
    "preview(table, bounded=\"A4:H10\")"
   ]
  },
  {
   "attachments": {},
   "cell_type": "markdown",
   "metadata": {},
   "source": [
    "## Example Multiple Selection Warning\n",
    "\n",
    "The following is a simple example of a multiple selection warning."
   ]
  },
  {
   "cell_type": "code",
   "execution_count": null,
   "metadata": {},
   "outputs": [],
   "source": [
    "from datachef import acquire, preview\n",
    "from datachef.selection import XlsxSelectable\n",
    "\n",
    "table: XlsxSelectable = acquire.xlsx.http(\"https://github.com/mikeAdamss/datachef/raw/main/tests/fixtures/xlsx/ons-oic.xlsx\", tables=\"Table 2a\")\n",
    "\n",
    "# Select the whole of row 6\n",
    "row = table.excel_ref('6')\n",
    "\n",
    "# Select the whole of column E\n",
    "column = table.excel_ref('E')\n",
    "\n",
    "# Lets' preview and see what happens\n",
    "preview(row, column, bounded=\"A4:H10\")"
   ]
  },
  {
   "attachments": {},
   "cell_type": "markdown",
   "metadata": {},
   "source": [
    "## Turning Off Multiple Selection Warnings\n",
    "\n",
    "To turn off multiple selection warnings you just pass `multiple_selection_warning=False` to the preview function.\n",
    "\n",
    "You'll notice the cell in question just gets coloured by the last selection containing it that is passed to `preview()` instead. "
   ]
  },
  {
   "cell_type": "code",
   "execution_count": null,
   "metadata": {},
   "outputs": [],
   "source": [
    "from typing import List\n",
    "from datachef import acquire, preview\n",
    "from datachef.selection import XlsxSelectable\n",
    "\n",
    "tables: List[XlsxSelectable] = acquire.xlsx.http(\"https://github.com/mikeAdamss/datachef/raw/main/tests/fixtures/xlsx/ons-oic.xlsx\")\n",
    "table = tables[5]\n",
    "\n",
    "# Select the whole of row 6\n",
    "row = table.excel_ref('6')\n",
    "\n",
    "# Select the whole of column E\n",
    "column = table.excel_ref('E')\n",
    "\n",
    "# Lets' preview and see what happens\n",
    "preview(row, column, bounded=\"A4:H10\", multiple_selection_warning=False)"
   ]
  }
 ],
 "metadata": {
  "kernelspec": {
   "display_name": "datachef-hNSMaw3h-py3.9",
   "language": "python",
   "name": "python3"
  },
  "language_info": {
   "codemirror_mode": {
    "name": "ipython",
    "version": 3
   },
   "file_extension": ".py",
   "mimetype": "text/x-python",
   "name": "python",
   "nbconvert_exporter": "python",
   "pygments_lexer": "ipython3",
   "version": "3.9.7"
  },
  "orig_nbformat": 4
 },
 "nbformat": 4,
 "nbformat_minor": 2
}
