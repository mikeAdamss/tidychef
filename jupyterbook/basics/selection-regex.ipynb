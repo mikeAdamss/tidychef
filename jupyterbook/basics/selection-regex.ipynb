{
 "cells": [
  {
   "attachments": {},
   "cell_type": "markdown",
   "metadata": {},
   "source": [
    "# Selection: Regex\n",
    "\n",
    "No python data wrangling framework would be complete without a nod to regular expressions.\n",
    "\n",
    "The full syntax of regex is beyond the scope of this tutorial (but you can learn more [here](https://regexone.com/) or via many online sources).\n",
    "\n",
    "This page is just some simple example on how to use regex in relation to datachef cells."
   ]
  },
  {
   "attachments": {},
   "cell_type": "markdown",
   "metadata": {},
   "source": [
    "## Source Data\n",
    "\n",
    "The data source we're using for these examples is shown below:\n",
    "\n",
    "| <span style=\"color:green\">Note - this particular table has some very verbose headers we don't care about, so we'll be using `bounded=` to remove them from the previews as well as to show just the subset of data we're working with.</span>|\n",
    "|-----------------------------------------|\n",
    "\n",
    "The [full data source can be downloaded here](https://github.com/mikeAdamss/datachef/raw/main/tests/fixtures/xlsx/ons-oic.xlsx). We'll be using th 10th tab named \"Table 3c\"."
   ]
  },
  {
   "cell_type": "code",
   "execution_count": null,
   "metadata": {},
   "outputs": [],
   "source": [
    "from datachef import acquire, preview\n",
    "from datachef.selection import XlsxSelectable\n",
    "\n",
    "table: XlsxSelectable = acquire.xlsx.http(\"https://github.com/mikeAdamss/datachef/raw/main/tests/fixtures/xlsx/ons-oic.xlsx\", tables=\"Table 3c\")\n",
    "preview(table, bounded=\"A4:H10\")"
   ]
  },
  {
   "attachments": {},
   "cell_type": "markdown",
   "metadata": {},
   "source": [
    "## Simple Regex Examples\n",
    "\n",
    "The following are simple examples of how to use regex with datachef selections.\n",
    "\n",
    "Note, for brevity we use the common shorthand `re` for regex."
   ]
  },
  {
   "cell_type": "code",
   "execution_count": null,
   "metadata": {},
   "outputs": [],
   "source": [
    "from datachef import acquire, preview\n",
    "from datachef.selection import XlsxSelectable\n",
    "\n",
    "table: XlsxSelectable = acquire.xlsx.http(\"https://github.com/mikeAdamss/datachef/raw/main/tests/fixtures/xlsx/ons-oic.xlsx\", tables=\"Table 3c\")\n",
    "\n",
    "# cells beginning with a capital M\n",
    "m_cells = table.re(\"M.*\").label_as(\"Cells starting with a capital M\")\n",
    "\n",
    "# cells containing the word \"housing\"\n",
    "housing = table.re(\".*housing.*\").label_as(\"Cells containing the word housing\")\n",
    "\n",
    "# cells containing the word \"work\"\n",
    "work = table.re(\".*work.*\").label_as(\"Cells containing the word work\")\n",
    "\n",
    "# cells ending in a year\n",
    "year = table.re(\".*[0-9][0-9][0-9][0-9]\").label_as(\"Cells ending in a year\")\n",
    "\n",
    "preview(m_cells, housing, work, year, bounded=\"A4:H10\")"
   ]
  }
 ],
 "metadata": {
  "kernelspec": {
   "display_name": "datachef-hNSMaw3h-py3.9",
   "language": "python",
   "name": "python3"
  },
  "language_info": {
   "codemirror_mode": {
    "name": "ipython",
    "version": 3
   },
   "file_extension": ".py",
   "mimetype": "text/x-python",
   "name": "python",
   "nbconvert_exporter": "python",
   "pygments_lexer": "ipython3",
   "version": "3.9.7"
  },
  "orig_nbformat": 4
 },
 "nbformat": 4,
 "nbformat_minor": 2
}
