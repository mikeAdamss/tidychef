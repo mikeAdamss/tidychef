{
 "cells": [
  {
   "attachments": {},
   "cell_type": "markdown",
   "metadata": {},
   "source": [
    "# Selection: Regex\n",
    "\n",
    "No python parsing library would be complete without a nod to Regular expressions.\n",
    "\n",
    "The full syntax of regex is beyond the scope of this tutorial (but you can learn more [here](https://regexone.com/) or via many online sources).\n",
    "\n",
    "This page is just some simple example on how to use regex in relation to datachef cells."
   ]
  },
  {
   "attachments": {},
   "cell_type": "markdown",
   "metadata": {},
   "source": [
    "## Source Data\n",
    "\n",
    "The data source we're using for these examples is shown below:\n",
    "\n",
    "| <span style=\"color:green\">Note - this particular table has some very verbose headers we don't care about, so we'll be using `bounded=` to remove them from the previews as well as to show just the subset of data we're working with.</span>|\n",
    "|-----------------------------------------|\n",
    "\n",
    "The [full data source can be downloaded here](https://github.com/mikeAdamss/datachef/raw/main/tests/fixtures/xlsx/ons-oic.xlsx). We'll be using th 10th tab named \"Table 3c\"."
   ]
  },
  {
   "cell_type": "code",
   "execution_count": 1,
   "metadata": {},
   "outputs": [
    {
     "data": {
      "text/html": [
       "\n",
       "    <html>\n",
       "        \n",
       "    <style>\n",
       "    table, th, td {\n",
       "        border: 1px solid;\n",
       "    }\n",
       "\n",
       "    table {\n",
       "        border-collapse: collapse;\n",
       "    }\n",
       "\n",
       "    td {\n",
       "        align: center;\n",
       "        border: 1px  black solid !important;\n",
       "        color: black !important;\n",
       "    }\n",
       "\n",
       "    th, td {\n",
       "        padding: 5px;\n",
       "    }\n",
       "\n",
       "    </style>\n",
       "    \n",
       "            <table>\n",
       "                \n",
       "            </table>\n",
       "\n",
       "            <body>\n",
       "                <h2>Table 3c</h2>\n",
       "                <table>\n",
       "                    <tr><td style=\"background-color:lightgrey\"></td><td style=\"background-color:lightgrey\">A</td><td style=\"background-color:lightgrey\">B</td><td style=\"background-color:lightgrey\">C</td><td style=\"background-color:lightgrey\">D</td><td style=\"background-color:lightgrey\">E</td><td style=\"background-color:lightgrey\">F</td><td style=\"background-color:lightgrey\">G</td><td style=\"background-color:lightgrey\">H</td></tr>\n",
       "<tr><td style=\"background-color:lightgrey\">4</td><td style=\"background-color:white\">Percentage change 3 months on previous 3 months</td><td style=\"background-color:white\"></td><td style=\"background-color:white\"></td><td style=\"background-color:white\"></td><td style=\"background-color:white\"></td><td style=\"background-color:white\"></td><td style=\"background-color:white\"></td><td style=\"background-color:white\"></td></tr>\n",
       "<tr><td style=\"background-color:lightgrey\">5</td><td style=\"background-color:white\">Time period</td><td style=\"background-color:white\">Public new housing</td><td style=\"background-color:white\">Private new housing</td><td style=\"background-color:white\">Total new housing</td><td style=\"background-color:white\">Infrastructure new work</td><td style=\"background-color:white\">Public other new work</td><td style=\"background-color:white\">Private industrial new work</td><td style=\"background-color:white\">Private commercial new work</td></tr>\n",
       "<tr><td style=\"background-color:lightgrey\">6</td><td style=\"background-color:white\">Dataset identifier code</td><td style=\"background-color:white\">MVO6</td><td style=\"background-color:white\">MVO7</td><td style=\"background-color:white\">MVO8</td><td style=\"background-color:white\">MVO9</td><td style=\"background-color:white\">MVP2</td><td style=\"background-color:white\">MVP3</td><td style=\"background-color:white\">MVP4</td></tr>\n",
       "<tr><td style=\"background-color:lightgrey\">7</td><td style=\"background-color:white\">Jun 2010</td><td style=\"background-color:white\">5.6</td><td style=\"background-color:white\">9.8</td><td style=\"background-color:white\">8.8</td><td style=\"background-color:white\">3</td><td style=\"background-color:white\">4.3</td><td style=\"background-color:white\">3.7</td><td style=\"background-color:white\">1.9</td></tr>\n",
       "<tr><td style=\"background-color:lightgrey\">8</td><td style=\"background-color:white\">Jul 2010</td><td style=\"background-color:white\">2</td><td style=\"background-color:white\">5.6</td><td style=\"background-color:white\">4.8</td><td style=\"background-color:white\">0.2</td><td style=\"background-color:white\">-0.2</td><td style=\"background-color:white\">9.7</td><td style=\"background-color:white\">3.5</td></tr>\n",
       "<tr><td style=\"background-color:lightgrey\">9</td><td style=\"background-color:white\">Aug 2010</td><td style=\"background-color:white\">5.5</td><td style=\"background-color:white\">4.5</td><td style=\"background-color:white\">4.7</td><td style=\"background-color:white\">-2.9</td><td style=\"background-color:white\">-2.9</td><td style=\"background-color:white\">24.4</td><td style=\"background-color:white\">5.9</td></tr>\n",
       "<tr><td style=\"background-color:lightgrey\">10</td><td style=\"background-color:white\">Sep 2010</td><td style=\"background-color:white\">11.7</td><td style=\"background-color:white\">7.5</td><td style=\"background-color:white\">8.5</td><td style=\"background-color:white\">-6.8</td><td style=\"background-color:white\">-3.3</td><td style=\"background-color:white\">16.1</td><td style=\"background-color:white\">5.3</td></tr>\n",
       "\n",
       "                </table>\n",
       "            </body>\n",
       "            <br>\n",
       "        </html>\n",
       "    "
      ],
      "text/plain": [
       "<IPython.core.display.HTML object>"
      ]
     },
     "metadata": {},
     "output_type": "display_data"
    }
   ],
   "source": [
    "from typing import List\n",
    "from datachef import acquire, preview\n",
    "from datachef.selection import XlsxSelectable\n",
    "\n",
    "tables: List[XlsxSelectable] = acquire.xlsx.http(\"https://github.com/mikeAdamss/datachef/raw/main/tests/fixtures/xlsx/ons-oic.xlsx\")\n",
    "preview(tables[9], bounded=\"A4:H10\")"
   ]
  },
  {
   "attachments": {},
   "cell_type": "markdown",
   "metadata": {},
   "source": [
    "## Simple Regex Examples\n",
    "\n",
    "The following are simple examples of how to use regex with datachef selections.\n",
    "\n",
    "Note, for brevity we use the common shorthand `re` for regex."
   ]
  },
  {
   "cell_type": "code",
   "execution_count": 9,
   "metadata": {},
   "outputs": [
    {
     "data": {
      "text/html": [
       "\n",
       "    <html>\n",
       "        \n",
       "    <style>\n",
       "    table, th, td {\n",
       "        border: 1px solid;\n",
       "    }\n",
       "\n",
       "    table {\n",
       "        border-collapse: collapse;\n",
       "    }\n",
       "\n",
       "    td {\n",
       "        align: center;\n",
       "        border: 1px  black solid !important;\n",
       "        color: black !important;\n",
       "    }\n",
       "\n",
       "    th, td {\n",
       "        padding: 5px;\n",
       "    }\n",
       "\n",
       "    </style>\n",
       "    \n",
       "            <table>\n",
       "                \n",
       "            <tr>\n",
       "                <td style=\"background-color:cyan\">Cells starting with a capital M</td>\n",
       "            <tr>\n",
       "        \n",
       "            <tr>\n",
       "                <td style=\"background-color:#99ff99\">Cells containing the word housing</td>\n",
       "            <tr>\n",
       "        \n",
       "            <tr>\n",
       "                <td style=\"background-color:#eeccff\">Cells containing the word housing</td>\n",
       "            <tr>\n",
       "        \n",
       "            <tr>\n",
       "                <td style=\"background-color:#ffe066\">Cells ending in a year</td>\n",
       "            <tr>\n",
       "        \n",
       "            </table>\n",
       "\n",
       "            <body>\n",
       "                <h2>Table 3c</h2>\n",
       "                <table>\n",
       "                    <tr><td style=\"background-color:lightgrey\"></td><td style=\"background-color:lightgrey\">A</td><td style=\"background-color:lightgrey\">B</td><td style=\"background-color:lightgrey\">C</td><td style=\"background-color:lightgrey\">D</td><td style=\"background-color:lightgrey\">E</td><td style=\"background-color:lightgrey\">F</td><td style=\"background-color:lightgrey\">G</td><td style=\"background-color:lightgrey\">H</td></tr>\n",
       "<tr><td style=\"background-color:lightgrey\">4</td><td style=\"background-color:white\">Percentage change 3 months on previous 3 months</td><td style=\"background-color:white\"></td><td style=\"background-color:white\"></td><td style=\"background-color:white\"></td><td style=\"background-color:white\"></td><td style=\"background-color:white\"></td><td style=\"background-color:white\"></td><td style=\"background-color:white\"></td></tr>\n",
       "<tr><td style=\"background-color:lightgrey\">5</td><td style=\"background-color:white\">Time period</td><td style=\"background-color:#99ff99\">Public new housing</td><td style=\"background-color:#99ff99\">Private new housing</td><td style=\"background-color:#99ff99\">Total new housing</td><td style=\"background-color:#eeccff\">Infrastructure new work</td><td style=\"background-color:#eeccff\">Public other new work</td><td style=\"background-color:#eeccff\">Private industrial new work</td><td style=\"background-color:#eeccff\">Private commercial new work</td></tr>\n",
       "<tr><td style=\"background-color:lightgrey\">6</td><td style=\"background-color:white\">Dataset identifier code</td><td style=\"background-color:cyan\">MVO6</td><td style=\"background-color:cyan\">MVO7</td><td style=\"background-color:cyan\">MVO8</td><td style=\"background-color:cyan\">MVO9</td><td style=\"background-color:cyan\">MVP2</td><td style=\"background-color:cyan\">MVP3</td><td style=\"background-color:cyan\">MVP4</td></tr>\n",
       "<tr><td style=\"background-color:lightgrey\">7</td><td style=\"background-color:#ffe066\">Jun 2010</td><td style=\"background-color:white\">5.6</td><td style=\"background-color:white\">9.8</td><td style=\"background-color:white\">8.8</td><td style=\"background-color:white\">3</td><td style=\"background-color:white\">4.3</td><td style=\"background-color:white\">3.7</td><td style=\"background-color:white\">1.9</td></tr>\n",
       "<tr><td style=\"background-color:lightgrey\">8</td><td style=\"background-color:#ffe066\">Jul 2010</td><td style=\"background-color:white\">2</td><td style=\"background-color:white\">5.6</td><td style=\"background-color:white\">4.8</td><td style=\"background-color:white\">0.2</td><td style=\"background-color:white\">-0.2</td><td style=\"background-color:white\">9.7</td><td style=\"background-color:white\">3.5</td></tr>\n",
       "<tr><td style=\"background-color:lightgrey\">9</td><td style=\"background-color:#ffe066\">Aug 2010</td><td style=\"background-color:white\">5.5</td><td style=\"background-color:white\">4.5</td><td style=\"background-color:white\">4.7</td><td style=\"background-color:white\">-2.9</td><td style=\"background-color:white\">-2.9</td><td style=\"background-color:white\">24.4</td><td style=\"background-color:white\">5.9</td></tr>\n",
       "<tr><td style=\"background-color:lightgrey\">10</td><td style=\"background-color:#ffe066\">Sep 2010</td><td style=\"background-color:white\">11.7</td><td style=\"background-color:white\">7.5</td><td style=\"background-color:white\">8.5</td><td style=\"background-color:white\">-6.8</td><td style=\"background-color:white\">-3.3</td><td style=\"background-color:white\">16.1</td><td style=\"background-color:white\">5.3</td></tr>\n",
       "\n",
       "                </table>\n",
       "            </body>\n",
       "            <br>\n",
       "        </html>\n",
       "    "
      ],
      "text/plain": [
       "<IPython.core.display.HTML object>"
      ]
     },
     "metadata": {},
     "output_type": "display_data"
    }
   ],
   "source": [
    "from typing import List\n",
    "from datachef import acquire, preview\n",
    "from datachef.selection import XlsxSelectable\n",
    "\n",
    "tables: List[XlsxSelectable] = acquire.xlsx.http(\"https://github.com/mikeAdamss/datachef/raw/main/tests/fixtures/xlsx/ons-oic.xlsx\")\n",
    "table = tables[9]\n",
    "\n",
    "# cells beginning with a capital M\n",
    "m_cells = table.re(\"M.*\").label_as(\"Cells starting with a capital M\")\n",
    "\n",
    "# cells containing the word \"housing\"\n",
    "housing = table.re(\".*housing.*\").label_as(\"Cells containing the word housing\")\n",
    "\n",
    "# cells containing the word \"work\"\n",
    "work = table.re(\".*work.*\").label_as(\"Cells containing the word work\")\n",
    "\n",
    "# cells ending in a year\n",
    "year = table.re(\".*[0-9][0-9][0-9][0-9]\").label_as(\"Cells ending in a year\")\n",
    "\n",
    "preview(m_cells, housing, work, year, bounded=\"A4:H10\")"
   ]
  }
 ],
 "metadata": {
  "kernelspec": {
   "display_name": "datachef-hNSMaw3h-py3.9",
   "language": "python",
   "name": "python3"
  },
  "language_info": {
   "codemirror_mode": {
    "name": "ipython",
    "version": 3
   },
   "file_extension": ".py",
   "mimetype": "text/x-python",
   "name": "python",
   "nbconvert_exporter": "python",
   "pygments_lexer": "ipython3",
   "version": "3.9.7"
  },
  "orig_nbformat": 4
 },
 "nbformat": 4,
 "nbformat_minor": 2
}
