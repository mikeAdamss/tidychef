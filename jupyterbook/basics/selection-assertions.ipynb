{
 "cells": [
  {
   "attachments": {},
   "cell_type": "markdown",
   "metadata": {},
   "source": [
    "# Selection: Assertions\n",
    "\n",
    "This section details how to use the `assert_selections()` method with your extractions.\n",
    "\n",
    "The purpose of this method is _not_ to alter the selection in any way, it is to let you assert (confirm) you have **selected the cell values that you were expecting**.\n",
    "\n",
    "| <span style=\"color:green\">Note - there is more information on Assertions vs Validation in the [best practice](/../intermediate/best-practice) section later in this documentation. Our purpose here is just to understand how the assertion wrapper is used.</span>|\n",
    "|-----------------------------------------|"
   ]
  },
  {
   "attachments": {},
   "cell_type": "markdown",
   "metadata": {},
   "source": [
    "## Source Data\n",
    "\n",
    "The data source we're using for these examples is shown below:\n",
    "\n",
    "The [full data source can be viewed here](https://raw.githubusercontent.com/mikeAdamss/datachef/main/tests/fixtures/csv/bands-wide.csv)."
   ]
  },
  {
   "cell_type": "code",
   "execution_count": 1,
   "metadata": {},
   "outputs": [
    {
     "data": {
      "text/html": [
       "\n",
       "    <html>\n",
       "        \n",
       "    <style>\n",
       "    table, th, td {\n",
       "        border: 1px solid;\n",
       "    }\n",
       "\n",
       "    table {\n",
       "        border-collapse: collapse;\n",
       "    }\n",
       "\n",
       "    td {\n",
       "        align: center;\n",
       "        border: 1px  black solid !important;\n",
       "        color: black !important;\n",
       "    }\n",
       "\n",
       "    th, td {\n",
       "        padding: 5px;\n",
       "    }\n",
       "\n",
       "    </style>\n",
       "    \n",
       "            <table>\n",
       "                \n",
       "            </table>\n",
       "\n",
       "            <body>\n",
       "                <h2>Unnamed Table</h2>\n",
       "                <table>\n",
       "                    <tr><td style=\"background-color:lightgrey\"></td><td style=\"background-color:lightgrey\">A</td><td style=\"background-color:lightgrey\">B</td><td style=\"background-color:lightgrey\">C</td><td style=\"background-color:lightgrey\">D</td><td style=\"background-color:lightgrey\">E</td><td style=\"background-color:lightgrey\">F</td><td style=\"background-color:lightgrey\">G</td><td style=\"background-color:lightgrey\">H</td><td style=\"background-color:lightgrey\">I</td><td style=\"background-color:lightgrey\">J</td><td style=\"background-color:lightgrey\">K</td></tr>\n",
       "<tr><td style=\"background-color:lightgrey\">1</td><td style=\"background-color:white\"></td><td style=\"background-color:white\"></td><td style=\"background-color:white\"></td><td style=\"background-color:white\"></td><td style=\"background-color:white\"></td><td style=\"background-color:white\"></td><td style=\"background-color:white\"></td><td style=\"background-color:white\"></td><td style=\"background-color:white\"></td><td style=\"background-color:white\"></td><td style=\"background-color:white\"></td></tr>\n",
       "<tr><td style=\"background-color:lightgrey\">2</td><td style=\"background-color:white\"></td><td style=\"background-color:white\"></td><td style=\"background-color:white\">Houses</td><td style=\"background-color:white\">Cars</td><td style=\"background-color:white\">Boats</td><td style=\"background-color:white\"></td><td style=\"background-color:white\"></td><td style=\"background-color:white\"></td><td style=\"background-color:white\">Houses</td><td style=\"background-color:white\">Cars</td><td style=\"background-color:white\">Boats</td></tr>\n",
       "<tr><td style=\"background-color:lightgrey\">3</td><td style=\"background-color:white\">Beatles</td><td style=\"background-color:white\"></td><td style=\"background-color:white\"></td><td style=\"background-color:white\"></td><td style=\"background-color:white\"></td><td style=\"background-color:white\"></td><td style=\"background-color:white\">Rolling Stones</td><td style=\"background-color:white\"></td><td style=\"background-color:white\"></td><td style=\"background-color:white\"></td><td style=\"background-color:white\"></td></tr>\n",
       "<tr><td style=\"background-color:lightgrey\">4</td><td style=\"background-color:white\"></td><td style=\"background-color:white\">John</td><td style=\"background-color:white\">1</td><td style=\"background-color:white\">5</td><td style=\"background-color:white\">9</td><td style=\"background-color:white\"></td><td style=\"background-color:white\"></td><td style=\"background-color:white\">Keith</td><td style=\"background-color:white\">2</td><td style=\"background-color:white\">6</td><td style=\"background-color:white\">10</td></tr>\n",
       "<tr><td style=\"background-color:lightgrey\">5</td><td style=\"background-color:white\"></td><td style=\"background-color:white\">Paul</td><td style=\"background-color:white\">2</td><td style=\"background-color:white\">6</td><td style=\"background-color:white\">10</td><td style=\"background-color:white\"></td><td style=\"background-color:white\"></td><td style=\"background-color:white\">Mick</td><td style=\"background-color:white\">3</td><td style=\"background-color:white\">7</td><td style=\"background-color:white\">11</td></tr>\n",
       "<tr><td style=\"background-color:lightgrey\">6</td><td style=\"background-color:white\"></td><td style=\"background-color:white\">George</td><td style=\"background-color:white\">2</td><td style=\"background-color:white\">7</td><td style=\"background-color:white\">11</td><td style=\"background-color:white\"></td><td style=\"background-color:white\"></td><td style=\"background-color:white\">Charlie</td><td style=\"background-color:white\">3</td><td style=\"background-color:white\">8</td><td style=\"background-color:white\">12</td></tr>\n",
       "<tr><td style=\"background-color:lightgrey\">7</td><td style=\"background-color:white\"></td><td style=\"background-color:white\">Ringo</td><td style=\"background-color:white\">4</td><td style=\"background-color:white\">8</td><td style=\"background-color:white\">12</td><td style=\"background-color:white\"></td><td style=\"background-color:white\"></td><td style=\"background-color:white\">Ronnie</td><td style=\"background-color:white\">5</td><td style=\"background-color:white\">9</td><td style=\"background-color:white\">13</td></tr>\n",
       "<tr><td style=\"background-color:lightgrey\">8</td><td style=\"background-color:white\"></td><td style=\"background-color:white\"></td><td style=\"background-color:white\"></td><td style=\"background-color:white\"></td><td style=\"background-color:white\"></td><td style=\"background-color:white\"></td><td style=\"background-color:white\"></td><td style=\"background-color:white\"></td><td style=\"background-color:white\"></td><td style=\"background-color:white\"></td><td style=\"background-color:white\"></td></tr>\n",
       "\n",
       "                </table>\n",
       "            </body>\n",
       "            <br>\n",
       "        </html>\n",
       "    "
      ],
      "text/plain": [
       "<IPython.core.display.HTML object>"
      ]
     },
     "metadata": {},
     "output_type": "display_data"
    }
   ],
   "source": [
    "from datachef import acquire, preview, CsvSelectable\n",
    "\n",
    "table: CsvSelectable = acquire.csv.http(\"https://raw.githubusercontent.com/mikeAdamss/datachef/main/tests/fixtures/csv/bands-wide.csv\")\n",
    "preview(table)"
   ]
  },
  {
   "attachments": {},
   "cell_type": "markdown",
   "metadata": {},
   "source": [
    "## assert_selection() : are_one_one\n",
    "\n",
    "The `are_one_of` assertions compares the values of your selections to whatever list of strings you pass in.\n",
    "\n",
    "So the following example will **not** raise an AssertionError:"
   ]
  },
  {
   "cell_type": "code",
   "execution_count": 2,
   "metadata": {},
   "outputs": [
    {
     "data": {
      "text/plain": [
       "<datachef.selection.csv.csv.CsvSelectable at 0x11577d2b0>"
      ]
     },
     "execution_count": 2,
     "metadata": {},
     "output_type": "execute_result"
    }
   ],
   "source": [
    "from datachef import acquire, CsvSelectable\n",
    "\n",
    "table: CsvSelectable = acquire.csv.http(\"https://raw.githubusercontent.com/mikeAdamss/datachef/main/tests/fixtures/csv/bands-wide.csv\")\n",
    "\n",
    "table.excel_ref('B').is_not_blank().assert_selections(are_one_of=[\"John\", \"Paul\", \"Ringo\", \"George\"])\n"
   ]
  },
  {
   "attachments": {},
   "cell_type": "markdown",
   "metadata": {},
   "source": [
    "whereas this example **will** raise an AssertionError (as we're remove \"George\" from the list).\n",
    "\n",
    "| <span style=\"color:green\">Note - we're going to use a try catch to catch then print the exception, this is purely so it doesn't stop the execution of this notebook - you **dont** need to do anything like this in practice.</span>|\n",
    "|-----------------------------------------|"
   ]
  },
  {
   "cell_type": "code",
   "execution_count": 3,
   "metadata": {},
   "outputs": [
    {
     "name": "stdout",
     "output_type": "stream",
     "text": [
      "Cell value: 'George' not in ['John', 'Paul', 'Ringo']\n"
     ]
    }
   ],
   "source": [
    "from datachef import acquire, CsvSelectable\n",
    "\n",
    "table: CsvSelectable = acquire.csv.http(\"https://raw.githubusercontent.com/mikeAdamss/datachef/main/tests/fixtures/csv/bands-wide.csv\")\n",
    "\n",
    "try:\n",
    "    table.excel_ref('B').is_not_blank().assert_selections(are_one_of=[\"John\", \"Paul\", \"Ringo\"])\n",
    "except AssertionError as err:\n",
    "    print(err)"
   ]
  },
  {
   "attachments": {},
   "cell_type": "markdown",
   "metadata": {},
   "source": [
    "## assert_selection() : match\n",
    "\n",
    "The `match` assertions compares the values of your selections to whateverregular expression you pass in.\n",
    "\n",
    "So the following example will **not** raise an AssertionError:"
   ]
  },
  {
   "cell_type": "code",
   "execution_count": 4,
   "metadata": {},
   "outputs": [
    {
     "data": {
      "text/plain": [
       "<datachef.selection.csv.csv.CsvSelectable at 0x1157ac190>"
      ]
     },
     "execution_count": 4,
     "metadata": {},
     "output_type": "execute_result"
    }
   ],
   "source": [
    "from datachef import acquire, CsvSelectable\n",
    "\n",
    "table: CsvSelectable = acquire.csv.http(\"https://raw.githubusercontent.com/mikeAdamss/datachef/main/tests/fixtures/csv/bands-wide.csv\")\n",
    "\n",
    "table.excel_ref('B4').assert_selections(match=\"John\")"
   ]
  },
  {
   "attachments": {},
   "cell_type": "markdown",
   "metadata": {},
   "source": [
    "hereas this example **will** raise an AssertionError (as our regex is explicitly \"John\" but we've selected all of the Beatles).\n",
    "\n",
    "| <span style=\"color:green\">Note - we're going to use a try catch to catch then print the exception, this is purely so it doesn't stop the execution of this notebook - you **dont** need to do anything like this in practice.</span>|\n",
    "|-----------------------------------------|"
   ]
  },
  {
   "cell_type": "code",
   "execution_count": 5,
   "metadata": {},
   "outputs": [
    {
     "name": "stdout",
     "output_type": "stream",
     "text": [
      "Cell value: 'Paul' does not match regular expression 'John'\n"
     ]
    }
   ],
   "source": [
    "from datachef import acquire\n",
    "\n",
    "table: CsvSelectable = acquire.csv.http(\"https://raw.githubusercontent.com/mikeAdamss/datachef/main/tests/fixtures/csv/bands-wide.csv\")\n",
    "\n",
    "try:\n",
    "    table.excel_ref('B').is_not_blank().assert_selections(match=\"John\")\n",
    "except AssertionError as err:\n",
    "    print(err)"
   ]
  },
  {
   "attachments": {},
   "cell_type": "markdown",
   "metadata": {},
   "source": [
    "## assert_selection() : using\n",
    "\n",
    "The `using` method allows you to pass in a function of callable python class to do your assertions.\n",
    "\n",
    "**If you're still relatively early in your journey with python you can safely come back to this at a later time. It's useful but the standard keywords defined above are sufficant in many cases**\n",
    "\n",
    "The callable python object passed in via the `using` keyword must:\n",
    "\n",
    "- Be a function or a python class with a `__call__` dunder method.\n",
    "- Must take one argument exactly which will be a `datachef.models.source.cell.Cell` object.\n",
    "- Must raise an AssertionError if the contents of the cell are not as expected.\n",
    "\n",
    "Please note - in keeping with our overall goals while you _can_ write these things in line, its typically better to develop your own reusable code snippets as appropriate to your own data and use cases.\n",
    "\n",
    "Examples follow:"
   ]
  },
  {
   "attachments": {},
   "cell_type": "markdown",
   "metadata": {},
   "source": [
    "### using: via a function\n",
    "\n",
    "In this instance, a function that asserts the `Cell.value` is exactly equal to \"John\"."
   ]
  },
  {
   "cell_type": "code",
   "execution_count": 6,
   "metadata": {},
   "outputs": [
    {
     "name": "stdout",
     "output_type": "stream",
     "text": [
      "Cell value is Paul, expected 'John'\n"
     ]
    }
   ],
   "source": [
    "from datachef.models.source.cell import Cell\n",
    "from datachef import acquire\n",
    "\n",
    "def assert_its_john(cell: Cell):\n",
    "    \"\"\"\n",
    "    Assert the value of the cell is equal to exactly 'John'\n",
    "    \"\"\"\n",
    "    assert cell.value == \"John\", f\"Cell value is {cell.value}, expected 'John'\"\n",
    "\n",
    "table: CsvSelectable = acquire.csv.http(\"https://raw.githubusercontent.com/mikeAdamss/datachef/main/tests/fixtures/csv/bands-wide.csv\")\n",
    "\n",
    "try:\n",
    "    table.excel_ref('B').is_not_blank().assert_selections(using=assert_its_john)\n",
    "except AssertionError as err:\n",
    "    print(err)"
   ]
  },
  {
   "attachments": {},
   "cell_type": "markdown",
   "metadata": {},
   "source": [
    "### using: via a class\n",
    "\n",
    "In this instance, we're going to define a class that asserts the `Cell.value` is exactly equal to one of the names of a Beatle.\n",
    "\n",
    "Note - you could implement this funcionality easier with `are_one_of` keyword, but it makes for a nice clear example.\n",
    "\n",
    "In this instance we're **not** going to include Ringo, so an assertion error will be raised."
   ]
  },
  {
   "cell_type": "code",
   "execution_count": 8,
   "metadata": {},
   "outputs": [
    {
     "name": "stdout",
     "output_type": "stream",
     "text": [
      "\n"
     ]
    }
   ],
   "source": [
    "from typing import List\n",
    "\n",
    "from datachef.models.source.cell import Cell\n",
    "from datachef import acquire, CsvSelectable\n",
    "\n",
    "class ValueAsserter:\n",
    "    \"\"\"\n",
    "    Class to check that the value of a cell is\n",
    "    present within the list provided during class\n",
    "    instantiation.\n",
    "    \"\"\"\n",
    "\n",
    "    def __init__(self, names: List[str]):\n",
    "        self.names = names\n",
    "\n",
    "    def __call__(self, cell: Cell):\n",
    "        assert cell.value in self.names, (\n",
    "            f\"\"\n",
    "        )\n",
    "\n",
    "# Feed the name checker some names\n",
    "name_checker = ValueAsserter([\"John\", \"Paul\", \"George\"])\n",
    "\n",
    "table: CsvSelectable = acquire.csv.http(\"https://raw.githubusercontent.com/mikeAdamss/datachef/main/tests/fixtures/csv/bands-wide.csv\")\n",
    "\n",
    "try:\n",
    "    table.excel_ref('B').is_not_blank().assert_selections(using=name_checker)\n",
    "except AssertionError as err:\n",
    "    print(err)"
   ]
  }
 ],
 "metadata": {
  "kernelspec": {
   "display_name": "datachef-hNSMaw3h-py3.9",
   "language": "python",
   "name": "python3"
  },
  "language_info": {
   "codemirror_mode": {
    "name": "ipython",
    "version": 3
   },
   "file_extension": ".py",
   "mimetype": "text/x-python",
   "name": "python",
   "nbconvert_exporter": "python",
   "pygments_lexer": "ipython3",
   "version": "3.9.7"
  },
  "orig_nbformat": 4
 },
 "nbformat": 4,
 "nbformat_minor": 2
}
