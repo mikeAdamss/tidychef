{
 "cells": [
  {
   "attachments": {},
   "cell_type": "markdown",
   "metadata": {},
   "source": [
    "# TidyData: Constants\n",
    "\n",
    "There will be times when you need to populate a column with a single constant value.\n",
    "\n",
    "This section details how to do that."
   ]
  },
  {
   "attachments": {},
   "cell_type": "markdown",
   "metadata": {},
   "source": [
    "## Source Data\n",
    "\n",
    "The data source we're using for these examples is shown below:\n",
    "\n",
    "The [full data source can be downloaded here](https://raw.githubusercontent.com/mikeAdamss/datachef/main/tests/fixtures/csv/bands-wide.csv)."
   ]
  },
  {
   "cell_type": "code",
   "execution_count": 10,
   "metadata": {},
   "outputs": [
    {
     "data": {
      "text/html": [
       "\n",
       "    <html>\n",
       "        \n",
       "    <style>\n",
       "    table, th, td {\n",
       "        border: 1px solid;\n",
       "    }\n",
       "\n",
       "    table {\n",
       "        border-collapse: collapse;\n",
       "    }\n",
       "\n",
       "    td {\n",
       "        align: center;\n",
       "        border: 1px  black solid !important;\n",
       "        color: black !important;\n",
       "    }\n",
       "\n",
       "    th, td {\n",
       "        padding: 5px;\n",
       "    }\n",
       "\n",
       "    </style>\n",
       "    \n",
       "            <table>\n",
       "                \n",
       "            </table>\n",
       "\n",
       "            <body>\n",
       "                <h2>Unnamed Table</h2>\n",
       "                <table>\n",
       "                    <tr><td style=\"background-color:lightgrey\"></td><td style=\"background-color:lightgrey\">A</td><td style=\"background-color:lightgrey\">B</td><td style=\"background-color:lightgrey\">C</td><td style=\"background-color:lightgrey\">D</td><td style=\"background-color:lightgrey\">E</td><td style=\"background-color:lightgrey\">F</td><td style=\"background-color:lightgrey\">G</td><td style=\"background-color:lightgrey\">H</td><td style=\"background-color:lightgrey\">I</td><td style=\"background-color:lightgrey\">J</td><td style=\"background-color:lightgrey\">K</td></tr>\n",
       "<tr><td style=\"background-color:lightgrey\">1</td><td style=\"background-color:white\"></td><td style=\"background-color:white\"></td><td style=\"background-color:white\"></td><td style=\"background-color:white\"></td><td style=\"background-color:white\"></td><td style=\"background-color:white\"></td><td style=\"background-color:white\"></td><td style=\"background-color:white\"></td><td style=\"background-color:white\"></td><td style=\"background-color:white\"></td><td style=\"background-color:white\"></td></tr>\n",
       "<tr><td style=\"background-color:lightgrey\">2</td><td style=\"background-color:white\"></td><td style=\"background-color:white\"></td><td style=\"background-color:white\">Houses</td><td style=\"background-color:white\">Cars</td><td style=\"background-color:white\">Boats</td><td style=\"background-color:white\"></td><td style=\"background-color:white\"></td><td style=\"background-color:white\"></td><td style=\"background-color:white\">Houses</td><td style=\"background-color:white\">Cars</td><td style=\"background-color:white\">Boats</td></tr>\n",
       "<tr><td style=\"background-color:lightgrey\">3</td><td style=\"background-color:white\">Beatles</td><td style=\"background-color:white\"></td><td style=\"background-color:white\"></td><td style=\"background-color:white\"></td><td style=\"background-color:white\"></td><td style=\"background-color:white\"></td><td style=\"background-color:white\">Rolling Stones</td><td style=\"background-color:white\"></td><td style=\"background-color:white\"></td><td style=\"background-color:white\"></td><td style=\"background-color:white\"></td></tr>\n",
       "<tr><td style=\"background-color:lightgrey\">4</td><td style=\"background-color:white\"></td><td style=\"background-color:white\">John</td><td style=\"background-color:white\">1</td><td style=\"background-color:white\">5</td><td style=\"background-color:white\">9</td><td style=\"background-color:white\"></td><td style=\"background-color:white\"></td><td style=\"background-color:white\">Keith</td><td style=\"background-color:white\">2</td><td style=\"background-color:white\">6</td><td style=\"background-color:white\">10</td></tr>\n",
       "<tr><td style=\"background-color:lightgrey\">5</td><td style=\"background-color:white\"></td><td style=\"background-color:white\">Paul</td><td style=\"background-color:white\">2</td><td style=\"background-color:white\">6</td><td style=\"background-color:white\">10</td><td style=\"background-color:white\"></td><td style=\"background-color:white\"></td><td style=\"background-color:white\">Mick</td><td style=\"background-color:white\">3</td><td style=\"background-color:white\">7</td><td style=\"background-color:white\">11</td></tr>\n",
       "<tr><td style=\"background-color:lightgrey\">6</td><td style=\"background-color:white\"></td><td style=\"background-color:white\">George</td><td style=\"background-color:white\">2</td><td style=\"background-color:white\">7</td><td style=\"background-color:white\">11</td><td style=\"background-color:white\"></td><td style=\"background-color:white\"></td><td style=\"background-color:white\">Charlie</td><td style=\"background-color:white\">3</td><td style=\"background-color:white\">8</td><td style=\"background-color:white\">12</td></tr>\n",
       "<tr><td style=\"background-color:lightgrey\">7</td><td style=\"background-color:white\"></td><td style=\"background-color:white\">Ringo</td><td style=\"background-color:white\">4</td><td style=\"background-color:white\">8</td><td style=\"background-color:white\">12</td><td style=\"background-color:white\"></td><td style=\"background-color:white\"></td><td style=\"background-color:white\">Ronnie</td><td style=\"background-color:white\">5</td><td style=\"background-color:white\">9</td><td style=\"background-color:white\">13</td></tr>\n",
       "<tr><td style=\"background-color:lightgrey\">8</td><td style=\"background-color:white\"></td><td style=\"background-color:white\"></td><td style=\"background-color:white\"></td><td style=\"background-color:white\"></td><td style=\"background-color:white\"></td><td style=\"background-color:white\"></td><td style=\"background-color:white\"></td><td style=\"background-color:white\"></td><td style=\"background-color:white\"></td><td style=\"background-color:white\"></td><td style=\"background-color:white\"></td></tr>\n",
       "\n",
       "                </table>\n",
       "            </body>\n",
       "            <br>\n",
       "        </html>\n",
       "    "
      ],
      "text/plain": [
       "<IPython.core.display.HTML object>"
      ]
     },
     "metadata": {},
     "output_type": "display_data"
    }
   ],
   "source": [
    "from datachef import acquire, preview\n",
    "from datachef.selection import CsvSelectable\n",
    "\n",
    "# Argument is any csv file accessible via http or https\n",
    "table: CsvSelectable = acquire.csv.http(\"https://raw.githubusercontent.com/mikeAdamss/datachef/main/tests/fixtures/csv/bands-wide.csv\")\n",
    "preview(table)"
   ]
  },
  {
   "attachments": {},
   "cell_type": "markdown",
   "metadata": {},
   "source": [
    "## Declaring A Constant\n",
    "\n",
    "Delaring a constant value columns is a simple process and uses the syntax:\n",
    "\n",
    "```\n",
    "Column.constant(<column name>, <constant value>)\n",
    "```\n",
    "\n",
    "An example follows where we declare two columns of constants to go alongside a single directional column relationship."
   ]
  },
  {
   "cell_type": "code",
   "execution_count": 11,
   "metadata": {},
   "outputs": [
    {
     "data": {
      "text/html": [
       "\n",
       "    <html>\n",
       "        \n",
       "    <style>\n",
       "    table, th, td {\n",
       "        border: 1px solid;\n",
       "    }\n",
       "\n",
       "    table {\n",
       "        border-collapse: collapse;\n",
       "    }\n",
       "\n",
       "    td {\n",
       "        align: center;\n",
       "        border: 1px  black solid !important;\n",
       "        color: black !important;\n",
       "    }\n",
       "\n",
       "    th, td {\n",
       "        padding: 5px;\n",
       "    }\n",
       "\n",
       "    </style>\n",
       "    \n",
       "            <table>\n",
       "                \n",
       "            <tr>\n",
       "                <td style=\"background-color:cyan\">Value</td>\n",
       "            <tr>\n",
       "        \n",
       "            <tr>\n",
       "                <td style=\"background-color:#99ff99\">Assets Via Direction</td>\n",
       "            <tr>\n",
       "        \n",
       "            </table>\n",
       "\n",
       "            <body>\n",
       "                <h2>Unnamed Table</h2>\n",
       "                <table>\n",
       "                    <tr><td style=\"background-color:lightgrey\"></td><td style=\"background-color:lightgrey\">A</td><td style=\"background-color:lightgrey\">B</td><td style=\"background-color:lightgrey\">C</td><td style=\"background-color:lightgrey\">D</td><td style=\"background-color:lightgrey\">E</td><td style=\"background-color:lightgrey\">F</td><td style=\"background-color:lightgrey\">G</td><td style=\"background-color:lightgrey\">H</td><td style=\"background-color:lightgrey\">I</td><td style=\"background-color:lightgrey\">J</td><td style=\"background-color:lightgrey\">K</td></tr>\n",
       "<tr><td style=\"background-color:lightgrey\">1</td><td style=\"background-color:white\"></td><td style=\"background-color:white\"></td><td style=\"background-color:white\"></td><td style=\"background-color:white\"></td><td style=\"background-color:white\"></td><td style=\"background-color:white\"></td><td style=\"background-color:white\"></td><td style=\"background-color:white\"></td><td style=\"background-color:white\"></td><td style=\"background-color:white\"></td><td style=\"background-color:white\"></td></tr>\n",
       "<tr><td style=\"background-color:lightgrey\">2</td><td style=\"background-color:white\"></td><td style=\"background-color:white\"></td><td style=\"background-color:#99ff99\">Houses</td><td style=\"background-color:#99ff99\">Cars</td><td style=\"background-color:#99ff99\">Boats</td><td style=\"background-color:white\"></td><td style=\"background-color:white\"></td><td style=\"background-color:white\"></td><td style=\"background-color:#99ff99\">Houses</td><td style=\"background-color:#99ff99\">Cars</td><td style=\"background-color:#99ff99\">Boats</td></tr>\n",
       "<tr><td style=\"background-color:lightgrey\">3</td><td style=\"background-color:white\">Beatles</td><td style=\"background-color:white\"></td><td style=\"background-color:white\"></td><td style=\"background-color:white\"></td><td style=\"background-color:white\"></td><td style=\"background-color:white\"></td><td style=\"background-color:white\">Rolling Stones</td><td style=\"background-color:white\"></td><td style=\"background-color:white\"></td><td style=\"background-color:white\"></td><td style=\"background-color:white\"></td></tr>\n",
       "<tr><td style=\"background-color:lightgrey\">4</td><td style=\"background-color:white\"></td><td style=\"background-color:white\">John</td><td style=\"background-color:cyan\">1</td><td style=\"background-color:cyan\">5</td><td style=\"background-color:cyan\">9</td><td style=\"background-color:white\"></td><td style=\"background-color:white\"></td><td style=\"background-color:white\">Keith</td><td style=\"background-color:cyan\">2</td><td style=\"background-color:cyan\">6</td><td style=\"background-color:cyan\">10</td></tr>\n",
       "<tr><td style=\"background-color:lightgrey\">5</td><td style=\"background-color:white\"></td><td style=\"background-color:white\">Paul</td><td style=\"background-color:cyan\">2</td><td style=\"background-color:cyan\">6</td><td style=\"background-color:cyan\">10</td><td style=\"background-color:white\"></td><td style=\"background-color:white\"></td><td style=\"background-color:white\">Mick</td><td style=\"background-color:cyan\">3</td><td style=\"background-color:cyan\">7</td><td style=\"background-color:cyan\">11</td></tr>\n",
       "<tr><td style=\"background-color:lightgrey\">6</td><td style=\"background-color:white\"></td><td style=\"background-color:white\">George</td><td style=\"background-color:cyan\">2</td><td style=\"background-color:cyan\">7</td><td style=\"background-color:cyan\">11</td><td style=\"background-color:white\"></td><td style=\"background-color:white\"></td><td style=\"background-color:white\">Charlie</td><td style=\"background-color:cyan\">3</td><td style=\"background-color:cyan\">8</td><td style=\"background-color:cyan\">12</td></tr>\n",
       "<tr><td style=\"background-color:lightgrey\">7</td><td style=\"background-color:white\"></td><td style=\"background-color:white\">Ringo</td><td style=\"background-color:cyan\">4</td><td style=\"background-color:cyan\">8</td><td style=\"background-color:cyan\">12</td><td style=\"background-color:white\"></td><td style=\"background-color:white\"></td><td style=\"background-color:white\">Ronnie</td><td style=\"background-color:cyan\">5</td><td style=\"background-color:cyan\">9</td><td style=\"background-color:cyan\">13</td></tr>\n",
       "<tr><td style=\"background-color:lightgrey\">8</td><td style=\"background-color:white\"></td><td style=\"background-color:white\"></td><td style=\"background-color:white\"></td><td style=\"background-color:white\"></td><td style=\"background-color:white\"></td><td style=\"background-color:white\"></td><td style=\"background-color:white\"></td><td style=\"background-color:white\"></td><td style=\"background-color:white\"></td><td style=\"background-color:white\"></td><td style=\"background-color:white\"></td></tr>\n",
       "\n",
       "                </table>\n",
       "            </body>\n",
       "            <br>\n",
       "        </html>\n",
       "    "
      ],
      "text/plain": [
       "<IPython.core.display.HTML object>"
      ]
     },
     "metadata": {},
     "output_type": "display_data"
    },
    {
     "data": {
      "text/html": [
       "<table>\n",
       "<thead>\n",
       "<tr><th style=\"text-align: right;\">  Value</th><th>Assets Via Direction  </th><th>Constant Foo  </th><th>Constant Bar  </th></tr>\n",
       "</thead>\n",
       "<tbody>\n",
       "<tr><td style=\"text-align: right;\">      1</td><td>Houses                </td><td>Foo           </td><td>Bar           </td></tr>\n",
       "<tr><td style=\"text-align: right;\">      5</td><td>Cars                  </td><td>Foo           </td><td>Bar           </td></tr>\n",
       "<tr><td style=\"text-align: right;\">      9</td><td>Boats                 </td><td>Foo           </td><td>Bar           </td></tr>\n",
       "<tr><td style=\"text-align: right;\">      2</td><td>Houses                </td><td>Foo           </td><td>Bar           </td></tr>\n",
       "<tr><td style=\"text-align: right;\">      6</td><td>Cars                  </td><td>Foo           </td><td>Bar           </td></tr>\n",
       "<tr><td style=\"text-align: right;\">     10</td><td>Boats                 </td><td>Foo           </td><td>Bar           </td></tr>\n",
       "<tr><td style=\"text-align: right;\">      2</td><td>Houses                </td><td>Foo           </td><td>Bar           </td></tr>\n",
       "<tr><td style=\"text-align: right;\">      6</td><td>Cars                  </td><td>Foo           </td><td>Bar           </td></tr>\n",
       "<tr><td style=\"text-align: right;\">     10</td><td>Boats                 </td><td>Foo           </td><td>Bar           </td></tr>\n",
       "<tr><td style=\"text-align: right;\">      3</td><td>Houses                </td><td>Foo           </td><td>Bar           </td></tr>\n",
       "<tr><td style=\"text-align: right;\">      7</td><td>Cars                  </td><td>Foo           </td><td>Bar           </td></tr>\n",
       "<tr><td style=\"text-align: right;\">     11</td><td>Boats                 </td><td>Foo           </td><td>Bar           </td></tr>\n",
       "<tr><td style=\"text-align: right;\">      2</td><td>Houses                </td><td>Foo           </td><td>Bar           </td></tr>\n",
       "<tr><td style=\"text-align: right;\">      7</td><td>Cars                  </td><td>Foo           </td><td>Bar           </td></tr>\n",
       "<tr><td style=\"text-align: right;\">     11</td><td>Boats                 </td><td>Foo           </td><td>Bar           </td></tr>\n",
       "<tr><td style=\"text-align: right;\">      3</td><td>Houses                </td><td>Foo           </td><td>Bar           </td></tr>\n",
       "<tr><td style=\"text-align: right;\">      8</td><td>Cars                  </td><td>Foo           </td><td>Bar           </td></tr>\n",
       "<tr><td style=\"text-align: right;\">     12</td><td>Boats                 </td><td>Foo           </td><td>Bar           </td></tr>\n",
       "<tr><td style=\"text-align: right;\">      4</td><td>Houses                </td><td>Foo           </td><td>Bar           </td></tr>\n",
       "<tr><td style=\"text-align: right;\">      8</td><td>Cars                  </td><td>Foo           </td><td>Bar           </td></tr>\n",
       "<tr><td style=\"text-align: right;\">     12</td><td>Boats                 </td><td>Foo           </td><td>Bar           </td></tr>\n",
       "<tr><td style=\"text-align: right;\">      5</td><td>Houses                </td><td>Foo           </td><td>Bar           </td></tr>\n",
       "<tr><td style=\"text-align: right;\">      9</td><td>Cars                  </td><td>Foo           </td><td>Bar           </td></tr>\n",
       "<tr><td style=\"text-align: right;\">     13</td><td>Boats                 </td><td>Foo           </td><td>Bar           </td></tr>\n",
       "</tbody>\n",
       "</table>"
      ],
      "text/plain": [
       "'<table>\\n<thead>\\n<tr><th style=\"text-align: right;\">  Value</th><th>Assets Via Direction  </th><th>Constant Foo  </th><th>Constant Bar  </th></tr>\\n</thead>\\n<tbody>\\n<tr><td style=\"text-align: right;\">      1</td><td>Houses                </td><td>Foo           </td><td>Bar           </td></tr>\\n<tr><td style=\"text-align: right;\">      5</td><td>Cars                  </td><td>Foo           </td><td>Bar           </td></tr>\\n<tr><td style=\"text-align: right;\">      9</td><td>Boats                 </td><td>Foo           </td><td>Bar           </td></tr>\\n<tr><td style=\"text-align: right;\">      2</td><td>Houses                </td><td>Foo           </td><td>Bar           </td></tr>\\n<tr><td style=\"text-align: right;\">      6</td><td>Cars                  </td><td>Foo           </td><td>Bar           </td></tr>\\n<tr><td style=\"text-align: right;\">     10</td><td>Boats                 </td><td>Foo           </td><td>Bar           </td></tr>\\n<tr><td style=\"text-align: right;\">      2</td><td>Houses                </td><td>Foo           </td><td>Bar           </td></tr>\\n<tr><td style=\"text-align: right;\">      6</td><td>Cars                  </td><td>Foo           </td><td>Bar           </td></tr>\\n<tr><td style=\"text-align: right;\">     10</td><td>Boats                 </td><td>Foo           </td><td>Bar           </td></tr>\\n<tr><td style=\"text-align: right;\">      3</td><td>Houses                </td><td>Foo           </td><td>Bar           </td></tr>\\n<tr><td style=\"text-align: right;\">      7</td><td>Cars                  </td><td>Foo           </td><td>Bar           </td></tr>\\n<tr><td style=\"text-align: right;\">     11</td><td>Boats                 </td><td>Foo           </td><td>Bar           </td></tr>\\n<tr><td style=\"text-align: right;\">      2</td><td>Houses                </td><td>Foo           </td><td>Bar           </td></tr>\\n<tr><td style=\"text-align: right;\">      7</td><td>Cars                  </td><td>Foo           </td><td>Bar           </td></tr>\\n<tr><td style=\"text-align: right;\">     11</td><td>Boats                 </td><td>Foo           </td><td>Bar           </td></tr>\\n<tr><td style=\"text-align: right;\">      3</td><td>Houses                </td><td>Foo           </td><td>Bar           </td></tr>\\n<tr><td style=\"text-align: right;\">      8</td><td>Cars                  </td><td>Foo           </td><td>Bar           </td></tr>\\n<tr><td style=\"text-align: right;\">     12</td><td>Boats                 </td><td>Foo           </td><td>Bar           </td></tr>\\n<tr><td style=\"text-align: right;\">      4</td><td>Houses                </td><td>Foo           </td><td>Bar           </td></tr>\\n<tr><td style=\"text-align: right;\">      8</td><td>Cars                  </td><td>Foo           </td><td>Bar           </td></tr>\\n<tr><td style=\"text-align: right;\">     12</td><td>Boats                 </td><td>Foo           </td><td>Bar           </td></tr>\\n<tr><td style=\"text-align: right;\">      5</td><td>Houses                </td><td>Foo           </td><td>Bar           </td></tr>\\n<tr><td style=\"text-align: right;\">      9</td><td>Cars                  </td><td>Foo           </td><td>Bar           </td></tr>\\n<tr><td style=\"text-align: right;\">     13</td><td>Boats                 </td><td>Foo           </td><td>Bar           </td></tr>\\n</tbody>\\n</table>'"
      ]
     },
     "metadata": {},
     "output_type": "display_data"
    },
    {
     "name": "stdout",
     "output_type": "stream",
     "text": [
      "\n"
     ]
    }
   ],
   "source": [
    "from datachef import acquire, preview, filters\n",
    "from datachef.direction import below\n",
    "from datachef.selection import CsvSelectable\n",
    "from datachef.output import TidyData, Column\n",
    "\n",
    "# Argument is any csv file accessible via http or https\n",
    "table: CsvSelectable = acquire.csv.http(\"https://raw.githubusercontent.com/mikeAdamss/datachef/main/tests/fixtures/csv/bands-wide.csv\")\n",
    "\n",
    "observations = table.filter(filters.is_numeric).label_as(\"Value\")\n",
    "assets = table.excel_ref('2').is_not_blank().label_as(\"Assets Via Direction\")\n",
    "\n",
    "preview(observations, assets)\n",
    "\n",
    "tidy_data = TidyData(\n",
    "    observations,\n",
    "    Column(assets.finds_observations_directly(below)),\n",
    "    Column.constant(\"Constant Foo\", \"Foo\"),\n",
    "    Column.constant(\"Constant Bar\", \"Bar\")\n",
    ")\n",
    "\n",
    "print(tidy_data)"
   ]
  }
 ],
 "metadata": {
  "kernelspec": {
   "display_name": "datachef-hNSMaw3h-py3.9",
   "language": "python",
   "name": "python3"
  },
  "language_info": {
   "codemirror_mode": {
    "name": "ipython",
    "version": 3
   },
   "file_extension": ".py",
   "mimetype": "text/x-python",
   "name": "python",
   "nbconvert_exporter": "python",
   "pygments_lexer": "ipython3",
   "version": "3.9.7"
  },
  "orig_nbformat": 4
 },
 "nbformat": 4,
 "nbformat_minor": 2
}
