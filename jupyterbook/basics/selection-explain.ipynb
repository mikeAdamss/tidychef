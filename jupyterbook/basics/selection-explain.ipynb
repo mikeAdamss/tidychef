{
 "cells": [
  {
   "attachments": {},
   "cell_type": "markdown",
   "metadata": {},
   "source": [
    "# Selection: Config(explain=)\n",
    "\n",
    "You may have noticed that tidychef makes heavy use of **extended dot notation**.\n",
    "\n",
    "In simplest terms think of this as \"constantly chaining commands together with lots of .'s\".\n",
    "\n",
    "i.e\n",
    "\n",
    "___\n",
    "\n",
    "data_is_tidy = data_is_messy.so_do_something().then_something_else()\n",
    "\n",
    "___\n",
    "\n",
    "This is a powerful feature but can be be unintuitive to newcomers so tidychef includes an `explain` configuration option you can toggle on as part of doing a selection. This will create step by step mini previews to walk you through the chained selection logic (examples follow).\n",
    "\n",
    "Note - these are html preview tables so this **is only applicable when working in a notebook**. you can however also write this explain preview to a file if working via `.py` files.\n",
    "\n",
    "Toggling explain on is very simple, see the bold section below.\n",
    "___\n",
    "\n",
    "data_is_tidy = data_is_messy.**config(explain=True)**.so_do_something().then_something_else()()\n",
    "\n",
    "___\n",
    "\n",
    "Example follow:"
   ]
  },
  {
   "attachments": {},
   "cell_type": "markdown",
   "metadata": {},
   "source": [
    "Lets just quickly get some data in, we'll use the bands table we've used a few times before."
   ]
  },
  {
   "cell_type": "code",
   "execution_count": null,
   "metadata": {},
   "outputs": [],
   "source": [
    "from tidychef import acquire, preview\n",
    "from tidychef.direction import right, down\n",
    "from tidychef.selection import CsvSelectable\n",
    "\n",
    "table: CsvSelectable = acquire.csv.http(\"https://raw.githubusercontent.com/mikeAdamss/tidychef/main/tests/fixtures/csv/bands-wide.csv\")\n",
    "preview(table)"
   ]
  },
  {
   "attachments": {},
   "cell_type": "markdown",
   "metadata": {},
   "source": [
    "### Example 1\n",
    "\n",
    "Please note the miniature previews walking you through the selection logic. Each stage of the selection will have a header with an \"EXPLAIN \" prefix with a note on what has occurred."
   ]
  },
  {
   "cell_type": "code",
   "execution_count": null,
   "metadata": {},
   "outputs": [],
   "source": [
    "\n",
    "selection = table.config(explain=True).excel_ref(\"C2\").expand(right).is_not_blank().fill(down).is_not_blank()\n"
   ]
  },
  {
   "attachments": {},
   "cell_type": "markdown",
   "metadata": {},
   "source": [
    "## Example 2\n",
    "\n",
    "We'll try something similar but this time we'll string together a whole sleugh of methods in a roundabout way (as an example) to get the names."
   ]
  },
  {
   "cell_type": "code",
   "execution_count": null,
   "metadata": {},
   "outputs": [],
   "source": [
    "from tidychef import filters\n",
    "\n",
    "selection = table.config(explain=True).excel_ref(\"A1\").expand(right).expand(down).is_not_blank().filter(filters.is_not_numeric).re(\"^[a-zA-Z]*$\").filter(filters.not_contains_string(\"Beatles\")).filter(lambda cell: cell.excel_row != 2)"
   ]
  },
  {
   "attachments": {},
   "cell_type": "markdown",
   "metadata": {},
   "source": [
    "## Explain: writing to a file\n",
    "\n",
    "You can write your explain previews to a path on your local machine with the `explain_path=` keyword.\n",
    "\n",
    "The `explain_path` config option is mututally exclusive with the `explain` keyword as `explain=True` is implicit in declaring an `explain_path`.\n",
    "\n",
    "An example of using an explain path follows."
   ]
  },
  {
   "cell_type": "code",
   "execution_count": null,
   "metadata": {},
   "outputs": [],
   "source": [
    "selection = table.config(explain_path=\"explain_example.html\").excel_ref(\"C2\").expand(right).is_not_blank().fill(down).is_not_blank()\n"
   ]
  },
  {
   "attachments": {},
   "cell_type": "markdown",
   "metadata": {},
   "source": [
    "Which has created a file which can be [found here](./explain_example.html)."
   ]
  }
 ],
 "metadata": {
  "kernelspec": {
   "display_name": "datachef-hNSMaw3h-py3.9",
   "language": "python",
   "name": "python3"
  },
  "language_info": {
   "codemirror_mode": {
    "name": "ipython",
    "version": 3
   },
   "file_extension": ".py",
   "mimetype": "text/x-python",
   "name": "python",
   "nbconvert_exporter": "python",
   "pygments_lexer": "ipython3",
   "version": "3.9.7"
  },
  "orig_nbformat": 4
 },
 "nbformat": 4,
 "nbformat_minor": 2
}
