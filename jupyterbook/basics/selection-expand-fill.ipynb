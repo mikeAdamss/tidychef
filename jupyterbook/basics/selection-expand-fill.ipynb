{
 "cells": [
  {
   "attachments": {},
   "cell_type": "markdown",
   "metadata": {},
   "source": [
    "# Selection: Expand & Fill\n",
    "\n",
    "This page details the usage of the `.expand()` and `.fill()` selection methods.\n",
    "\n",
    "These methods are used to dynamically create selections for the purposes of extracting data sources that are routinely updated."
   ]
  },
  {
   "attachments": {},
   "cell_type": "markdown",
   "metadata": {},
   "source": [
    "## Source Data\n",
    "\n",
    "The data source we're using for these examples is shown below:\n",
    "\n",
    "| <span style=\"color:green\">Note - this particular table has some very verbose headers we don't care about, so we'll be using `bounded=` to remove them from the previews as well as to show just the subset of data we're working with.</span>|\n",
    "|-----------------------------------------|\n",
    "\n",
    "The [full data source can be downloaded here](https://github.com/mikeAdamss/tidychef/raw/main/tests/fixtures/xlsx/ons-oic.xlsx). We'll be using th 8th tab named \"Table 3a\"."
   ]
  },
  {
   "cell_type": "code",
   "execution_count": null,
   "metadata": {},
   "outputs": [],
   "source": [
    "from tidychef import acquire, preview\n",
    "from tidychef.selection import XlsxSelectable\n",
    "\n",
    "table: XlsxSelectable = acquire.xlsx.http(\"https://github.com/mikeAdamss/tidychef/raw/main/tests/fixtures/xlsx/ons-oic.xlsx\", tables=\"Table 3a\")\n",
    "preview(table, bounded=\"A4:H10\")"
   ]
  },
  {
   "attachments": {},
   "cell_type": "markdown",
   "metadata": {},
   "source": [
    "## Expand\n",
    "\n",
    "The expand method is roughly analogous to the act of selecting a cell in a speadsheet and dragging to increase that selection in a specific direction.\n",
    "\n",
    "For example:"
   ]
  },
  {
   "cell_type": "code",
   "execution_count": null,
   "metadata": {},
   "outputs": [],
   "source": [
    "from tidychef import acquire, preview\n",
    "from tidychef.selection import XlsxSelectable\n",
    "from tidychef.direction import right\n",
    "\n",
    "table: XlsxSelectable = acquire.xlsx.http(\"https://github.com/mikeAdamss/tidychef/raw/main/tests/fixtures/xlsx/ons-oic.xlsx\", tables=\"Table 3a\")\n",
    "\n",
    "# Select cell \"B3\" then preview\n",
    "selection = table.excel_ref(\"B5\")\n",
    "preview(selection, bounded=\"A4:H10\")\n",
    "\n",
    "# Then \"expand\" that selection to the right and preview again\n",
    "selection = selection.expand(right)\n",
    "preview(selection, bounded=\"A4:H10\")"
   ]
  },
  {
   "attachments": {},
   "cell_type": "markdown",
   "metadata": {},
   "source": [
    "This works the same with multiple starting cells, example follows:"
   ]
  },
  {
   "cell_type": "code",
   "execution_count": null,
   "metadata": {},
   "outputs": [],
   "source": [
    "from tidychef import acquire, preview\n",
    "from tidychef.selection import XlsxSelectable\n",
    "from tidychef.direction import right\n",
    "\n",
    "table: XlsxSelectable = acquire.xlsx.http(\"https://github.com/mikeAdamss/tidychef/raw/main/tests/fixtures/xlsx/ons-oic.xlsx\", tables=\"Table 3a\")\n",
    "\n",
    "# Select cells \"A6\" and \"A8\" then preview\n",
    "selection = table.excel_ref(\"A6\") | table.excel_ref(\"A8\")\n",
    "preview(selection, bounded=\"A4:H10\")\n",
    "\n",
    "# Then \"expand\" that selection to the right and preview again\n",
    "selection = selection.expand(right)\n",
    "preview(selection, bounded=\"A4:H10\")"
   ]
  },
  {
   "attachments": {},
   "cell_type": "markdown",
   "metadata": {},
   "source": [
    "## Fill\n",
    "\n",
    "The `.fill()` method works in a very similar direction to `.expand()`. The only difference is the originally selected cells are not inlcuded in the final selection.\n",
    "\n",
    "Example follows:"
   ]
  },
  {
   "cell_type": "code",
   "execution_count": null,
   "metadata": {},
   "outputs": [],
   "source": [
    "from tidychef import acquire, preview\n",
    "from tidychef.selection import XlsxSelectable\n",
    "from tidychef.direction import right\n",
    "\n",
    "table: XlsxSelectable = acquire.xlsx.http(\"https://github.com/mikeAdamss/tidychef/raw/main/tests/fixtures/xlsx/ons-oic.xlsx\", tables=\"Table 3a\")\n",
    "\n",
    "# Select cells \"A6\" and \"A8\" then preview\n",
    "selection = table.excel_ref(\"A6\") | table.excel_ref(\"A8\")\n",
    "preview(selection, bounded=\"A4:H10\")\n",
    "\n",
    "# Then \"fill\" that selection to the right and preview again\n",
    "selection = selection.fill(right)\n",
    "preview(selection, bounded=\"A4:H10\")"
   ]
  },
  {
   "attachments": {},
   "cell_type": "markdown",
   "metadata": {},
   "source": [
    "## All directions\n",
    "\n",
    "The supported directions are `up`, `down`, `left`, `right`, `above`, `below` with above and below being aliases of up and down respectively (in some scenarios they are a more natural fit).\n",
    "\n",
    "The following is a quick example of each of the four principle directions in use with the `.fill()` and `expand()` operators."
   ]
  },
  {
   "cell_type": "code",
   "execution_count": null,
   "metadata": {},
   "outputs": [],
   "source": [
    "from tidychef import acquire, preview\n",
    "from tidychef.selection import XlsxSelectable\n",
    "from tidychef.direction import right, left, up, down\n",
    "\n",
    "table: XlsxSelectable = acquire.xlsx.http(\"https://github.com/mikeAdamss/tidychef/raw/main/tests/fixtures/xlsx/ons-oic.xlsx\", tables=\"Table 3a\")\n",
    "\n",
    "# Fill right\n",
    "fill_right = table.excel_ref(\"F6\").fill(right).label_as(\"F6 fill right\")\n",
    "\n",
    "# Expand left\n",
    "expand_left = table.excel_ref(\"D5\").expand(left).label_as(\"D5 expand left\")\n",
    "\n",
    "# Expand down\n",
    "expand_down = table.excel_ref(\"D6\").expand(down).label_as(\"D6 expand down\")\n",
    "\n",
    "# Fill up\n",
    "fill_up = table.excel_ref(\"F9\").fill(up).label_as(\"F9 fill up\")\n",
    "\n",
    "preview(fill_right, expand_left, expand_down, fill_up, bounded=\"A4:H10\")"
   ]
  }
 ],
 "metadata": {
  "kernelspec": {
   "display_name": "datachef-hNSMaw3h-py3.9",
   "language": "python",
   "name": "python3"
  },
  "language_info": {
   "codemirror_mode": {
    "name": "ipython",
    "version": 3
   },
   "file_extension": ".py",
   "mimetype": "text/x-python",
   "name": "python",
   "nbconvert_exporter": "python",
   "pygments_lexer": "ipython3",
   "version": "3.9.7"
  },
  "orig_nbformat": 4
 },
 "nbformat": 4,
 "nbformat_minor": 2
}
