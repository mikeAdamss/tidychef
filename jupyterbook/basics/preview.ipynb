{
 "cells": [
  {
   "attachments": {},
   "cell_type": "markdown",
   "metadata": {},
   "source": [
    "# Preview\n",
    "\n",
    "For these example we're going to [use table two of this sample xls file](https://github.com/mikeAdamss/datachef/raw/main/tests/fixtures/xlsx/ons-oic.xlsx) as show below. And use the `bounded=` keywword to keep the previews small.\n",
    "\n",
    "| <span style=\"color:green\">Note - `bounded=` is useful for presentational purposes such as this, but should generally be avoided when writing processing scripts as its possible to hide data that you might need to know about.  .</span>|\n",
    "|-----------------------------------------|"
   ]
  },
  {
   "cell_type": "code",
   "execution_count": null,
   "metadata": {},
   "outputs": [],
   "source": [
    "from datachef import acquire, preview\n",
    "from datachef.selection import XlsxSelectable\n",
    "\n",
    "table: XlsxSelectable = acquire.xlsx.http(\"https://github.com/mikeAdamss/datachef/raw/main/tests/fixtures/xlsx/ons-oic.xlsx\", tables=\"Table 1a\")\n",
    "preview(table, bounded=\"A1:G11\")"
   ]
  },
  {
   "attachments": {},
   "cell_type": "markdown",
   "metadata": {},
   "source": [
    "## Selection & Preview\n",
    "\n",
    "We're going to make use of two selection methods now as follows.\n",
    "\n",
    "* `.excel_ref()` - use excel cel references to explicitly select a range of cells\n",
    "* `.label_as()` - give a user friendly label to a selection of cells\n",
    "\n",
    "We're going to start by making and previewing some simple selections with `.excel_ref()`"
   ]
  },
  {
   "cell_type": "code",
   "execution_count": null,
   "metadata": {},
   "outputs": [],
   "source": [
    "from datachef import acquire, preview\n",
    "from datachef.selection import XlsxSelectable\n",
    "\n",
    "table: XlsxSelectable = acquire.xlsx.http(\"https://github.com/mikeAdamss/datachef/raw/main/tests/fixtures/xlsx/ons-oic.xlsx\", tables=\"Table 1a\")\n",
    "\n",
    "# Create our selections\n",
    "time = table.excel_ref(\"A7:A11\")\n",
    "housing = table.excel_ref(\"B5:G5\")\n",
    "data_identifier_code = table.excel_ref(\"B6:G6\")\n",
    "\n",
    "# Note on multiple selections\n",
    "# - Any selections for previewing are just passed as positional arguments to preview().\n",
    "# - You dont need to pass in a blank selection, that is only necessary where no selections have been made.\n",
    "preview(time, housing, data_identifier_code, bounded=\"A1:G11\")"
   ]
  },
  {
   "attachments": {},
   "cell_type": "markdown",
   "metadata": {},
   "source": [
    "### ......and...beware the gotcha!\n",
    "\n",
    "And this makes a good example of why you need to be careful with the `bounded=` keyword.\n",
    "\n",
    "As shown below it can hide information you may need to know - to make this clear lets extend the  last preview another two rows and columns."
   ]
  },
  {
   "cell_type": "code",
   "execution_count": null,
   "metadata": {},
   "outputs": [],
   "source": [
    "preview(time, housing, data_identifier_code, bounded=\"A1:I13\")"
   ]
  },
  {
   "attachments": {},
   "cell_type": "markdown",
   "metadata": {},
   "source": [
    "From here we're going to continue using `bounded=` for reasons of practicality, just be aware of this gotcha in your own scripts."
   ]
  },
  {
   "attachments": {},
   "cell_type": "markdown",
   "metadata": {},
   "source": [
    "## Labelling Selections\n",
    "\n",
    "Lets do a similar thing but this time let's use `.label_as()` to give our cell selection some semantic meaning."
   ]
  },
  {
   "cell_type": "code",
   "execution_count": null,
   "metadata": {},
   "outputs": [],
   "source": [
    "from datachef import acquire, preview\n",
    "from datachef.selection import XlsxSelectable\n",
    "\n",
    "tables: XlsxSelectable = acquire.xlsx.http(\"https://github.com/mikeAdamss/datachef/raw/main/tests/fixtures/xlsx/ons-oic.xlsx\", tables=\"Table 1a\")\n",
    "\n",
    "# Create our selections\n",
    "time = table.excel_ref(\"A7:A11\").label_as(\"Time\")\n",
    "housing = table.excel_ref(\"B5:G5\").label_as(\"Housing\")\n",
    "data_identifier_code = table.excel_ref(\"B6:G6\").label_as(\"Data Identifier Code\")\n",
    "\n",
    "preview(time, housing, data_identifier_code, bounded=\"A1:G11\")"
   ]
  },
  {
   "attachments": {},
   "cell_type": "markdown",
   "metadata": {},
   "source": [
    "## Excel\n",
    "\n",
    "As previously mentioned, the default behaviour for `preview()` is to show excel style column letters and row numbers.\n",
    "\n",
    "This is nearly always the practical choice when processing but can lead to some confusion when previewing your work (especially where previewing a non excel format).\n",
    "\n",
    "As a nod to these scenarios you can use the `show_excel=` keyword to change this behaviour as per the following example. "
   ]
  },
  {
   "cell_type": "code",
   "execution_count": null,
   "metadata": {},
   "outputs": [],
   "source": [
    "preview(time, housing, data_identifier_code, bounded=\"A1:G11\", show_excel=False)"
   ]
  },
  {
   "attachments": {},
   "cell_type": "markdown",
   "metadata": {},
   "source": [
    "## XY\n",
    "\n",
    "Underneath the hood datachef uses the x (horizontal) and y (vertical) index of the cells to calculate relative positions.\n",
    "\n",
    "The can in some cases be useful information to know and is sometimes included in error messages.\n",
    "\n",
    "If you want to show x and y values on your preview you can use the `show_xy=` keyword."
   ]
  },
  {
   "cell_type": "code",
   "execution_count": null,
   "metadata": {},
   "outputs": [],
   "source": [
    "preview(time, housing, data_identifier_code, bounded=\"A1:G11\", show_xy=True, show_excel=False)"
   ]
  },
  {
   "attachments": {},
   "cell_type": "markdown",
   "metadata": {},
   "source": [
    "or both together"
   ]
  },
  {
   "cell_type": "code",
   "execution_count": null,
   "metadata": {},
   "outputs": [],
   "source": [
    "preview(time, housing, data_identifier_code, bounded=\"A1:G11\", show_xy=True)"
   ]
  }
 ],
 "metadata": {
  "kernelspec": {
   "display_name": "datachef-hNSMaw3h-py3.9",
   "language": "python",
   "name": "python3"
  },
  "language_info": {
   "codemirror_mode": {
    "name": "ipython",
    "version": 3
   },
   "file_extension": ".py",
   "mimetype": "text/x-python",
   "name": "python",
   "nbconvert_exporter": "python",
   "pygments_lexer": "ipython3",
   "version": "3.9.7"
  },
  "orig_nbformat": 4
 },
 "nbformat": 4,
 "nbformat_minor": 2
}
