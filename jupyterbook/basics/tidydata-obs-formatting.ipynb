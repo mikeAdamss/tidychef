{
 "cells": [
  {
   "cell_type": "markdown",
   "metadata": {},
   "source": [
    "# TidyData: Observation Formatting\n",
    "\n",
    "This section deals with how to format the observations column as part of a tidy data extraction.\n",
    "\n",
    "Some common examples of where you'd want to do this:\n",
    "\n",
    "- The observation data has been created with superfluous \".0\"s after all integer observations.\n",
    "- The observation data has a very high degree of precision beyond what is required or can be ingested by your data systems.\n",
    "- The observations have superflous characters or notations you wish to remove (note: how to capture this sort of data marker metadata as its own column is covered in the intermediate section)\n",
    "\n",
    "Note: As with everything else in this framework this is _just a tool_. Whether and to what extent you should be using it depends on your own use case and domain knowledge."
   ]
  },
  {
   "cell_type": "markdown",
   "metadata": {},
   "source": [
    "## Source Data\n",
    "\n",
    "The data source we're using for these examples is shown below:\n",
    "\n",
    "The [full data source can be viewed here](https://raw.githubusercontent.com/mikeAdamss/tidychef/main/tests/fixtures/csv/bands-wide.csv)."
   ]
  },
  {
   "cell_type": "code",
   "execution_count": null,
   "metadata": {},
   "outputs": [],
   "source": [
    "from tidychef import acquire, preview\n",
    "from tidychef.selection import CsvSelectable\n",
    "\n",
    "table: CsvSelectable = acquire.csv.http(\"https://raw.githubusercontent.com/mikeAdamss/tidychef/main/tests/fixtures/csv/bands-wide.csv\")\n",
    "preview(table)"
   ]
  },
  {
   "cell_type": "markdown",
   "metadata": {},
   "source": [
    "## Explanation\n",
    "\n",
    "To format the observations you pass a callable to the `TidyData` constructor as a `obs_apply=` keyword argument.\n",
    "\n",
    "Some simple examples follow using lambda functions (though as with the other callables, you could instead use function or classes with the `__call__` dunder method).\n",
    "\n",
    "\n",
    "### Lambda Example 1:\n",
    "\n",
    "Replace trailing \".0\" values with an empty string.\n",
    "\n",
    "```\n",
    "tidy_data = TidyData(\n",
    "    observations,\n",
    "    Column(bands.attach_closest(right)),\n",
    "    obs_apply=lambda x: x.replace(\".0\", \"\")\n",
    ")\n",
    "```\n",
    "\n",
    "### Lambda Example 2:\n",
    "\n",
    "Remove the last character is the last character is non numeric.\n",
    "\n",
    "```\n",
    "tidy_data = TidyData(\n",
    "    observations,\n",
    "    Column(bands.attach_closest(right)),\n",
    "    obs_apply=lambda x: x[:-1] if not x[:-1].isnumeric() else x\n",
    ")\n",
    "```\n",
    "\n",
    "The point is that **any callable that takes a `str` and returns a `str` can be passed to `obs_apply`**."
   ]
  },
  {
   "cell_type": "markdown",
   "metadata": {},
   "source": [
    "## Example\n",
    "\n",
    "To show this in practice we're just going to prefix each observation with \"foo \"."
   ]
  },
  {
   "cell_type": "code",
   "execution_count": null,
   "metadata": {
    "tags": []
   },
   "outputs": [],
   "source": [
    "from tidychef import acquire, preview, filters\n",
    "from tidychef.direction import right, below\n",
    "from tidychef.output import TidyData, Column\n",
    "from tidychef.selection import CsvSelectable\n",
    "\n",
    "table: CsvSelectable = acquire.csv.http(\"https://raw.githubusercontent.com/mikeAdamss/tidychef/main/tests/fixtures/csv/bands-wide.csv\")\n",
    "\n",
    "observations = table.filter(filters.is_numeric).label_as(\"Observations\")\n",
    "bands = (table.excel_ref(\"A3\") | table.excel_ref(\"G3\")).label_as(\"Bands\")\n",
    "assets = table.excel_ref('2').is_not_blank().label_as(\"Assets\")\n",
    "members = (table.excel_ref(\"B\") | table.excel_ref(\"H\")).is_not_blank().label_as(\"Members\")\n",
    "preview(observations, bands, assets, members)\n",
    "\n",
    "tidy_data = TidyData(\n",
    "    observations,\n",
    "    Column(bands.attach_closest(right)),\n",
    "    Column(assets.attach_directly(below)),\n",
    "    Column(members.attach_directly(right)),\n",
    "    obs_apply=lambda x: \"foo \"+x\n",
    ")\n",
    "print(tidy_data)"
   ]
  }
 ],
 "metadata": {
  "kernelspec": {
   "display_name": "Python 3 (ipykernel)",
   "language": "python",
   "name": "python3"
  },
  "language_info": {
   "codemirror_mode": {
    "name": "ipython",
    "version": 3
   },
   "file_extension": ".py",
   "mimetype": "text/x-python",
   "name": "python",
   "nbconvert_exporter": "python",
   "pygments_lexer": "ipython3",
   "version": "3.12.11"
  }
 },
 "nbformat": 4,
 "nbformat_minor": 4
}
