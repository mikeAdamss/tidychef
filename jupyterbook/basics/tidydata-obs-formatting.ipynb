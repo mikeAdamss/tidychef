{
 "cells": [
  {
   "attachments": {},
   "cell_type": "markdown",
   "metadata": {},
   "source": [
    "# TidyData: Observation Formatting\n",
    "\n",
    "This section deals with how to format the observations column as part of a tidy data extraction.\n",
    "\n",
    "Some common examples of where you'd want to do this:\n",
    "\n",
    "- The observation data has been created with superfluous \".0\"s after all integer observations.\n",
    "- The observation data has a very high degree of precision beyond what is required or can be ingested by your data systems.\n",
    "- The observations have superflous characters or notations you wish to remove (note: how to capture this sort of data marker metadata as its own column is covered in the intermediate section)\n",
    "\n",
    "Note: As with everything else in this framework this is _just a tool_. Whether and to what extent you should be using it depends on your own use case and domain knowledge."
   ]
  },
  {
   "attachments": {},
   "cell_type": "markdown",
   "metadata": {},
   "source": [
    "## Source Data\n",
    "\n",
    "The data source we're using for these examples is shown below:\n",
    "\n",
    "The [full data source can be viewed here](https://raw.githubusercontent.com/mikeAdamss/datachef/main/tests/fixtures/csv/bands-wide.csv)."
   ]
  },
  {
   "cell_type": "code",
   "execution_count": 8,
   "metadata": {},
   "outputs": [
    {
     "data": {
      "text/html": [
       "\n",
       "    <html>\n",
       "        \n",
       "    <style>\n",
       "    table, th, td {\n",
       "        border: 1px solid;\n",
       "    }\n",
       "\n",
       "    table {\n",
       "        border-collapse: collapse;\n",
       "    }\n",
       "\n",
       "    td {\n",
       "        align: center;\n",
       "        border: 1px  black solid !important;\n",
       "        color: black !important;\n",
       "    }\n",
       "\n",
       "    th, td {\n",
       "        padding: 5px;\n",
       "    }\n",
       "\n",
       "    </style>\n",
       "    \n",
       "            <table>\n",
       "                \n",
       "            </table>\n",
       "\n",
       "            <body>\n",
       "                <h2>Unnamed Table</h2>\n",
       "                <table>\n",
       "                    <tr><td style=\"background-color:lightgrey\"></td><td style=\"background-color:lightgrey\">A</td><td style=\"background-color:lightgrey\">B</td><td style=\"background-color:lightgrey\">C</td><td style=\"background-color:lightgrey\">D</td><td style=\"background-color:lightgrey\">E</td><td style=\"background-color:lightgrey\">F</td><td style=\"background-color:lightgrey\">G</td><td style=\"background-color:lightgrey\">H</td><td style=\"background-color:lightgrey\">I</td><td style=\"background-color:lightgrey\">J</td><td style=\"background-color:lightgrey\">K</td></tr>\n",
       "<tr><td style=\"background-color:lightgrey\">1</td><td style=\"background-color:white\"></td><td style=\"background-color:white\"></td><td style=\"background-color:white\"></td><td style=\"background-color:white\"></td><td style=\"background-color:white\"></td><td style=\"background-color:white\"></td><td style=\"background-color:white\"></td><td style=\"background-color:white\"></td><td style=\"background-color:white\"></td><td style=\"background-color:white\"></td><td style=\"background-color:white\"></td></tr>\n",
       "<tr><td style=\"background-color:lightgrey\">2</td><td style=\"background-color:white\"></td><td style=\"background-color:white\"></td><td style=\"background-color:white\">Houses</td><td style=\"background-color:white\">Cars</td><td style=\"background-color:white\">Boats</td><td style=\"background-color:white\"></td><td style=\"background-color:white\"></td><td style=\"background-color:white\"></td><td style=\"background-color:white\">Houses</td><td style=\"background-color:white\">Cars</td><td style=\"background-color:white\">Boats</td></tr>\n",
       "<tr><td style=\"background-color:lightgrey\">3</td><td style=\"background-color:white\">Beatles</td><td style=\"background-color:white\"></td><td style=\"background-color:white\"></td><td style=\"background-color:white\"></td><td style=\"background-color:white\"></td><td style=\"background-color:white\"></td><td style=\"background-color:white\">Rolling Stones</td><td style=\"background-color:white\"></td><td style=\"background-color:white\"></td><td style=\"background-color:white\"></td><td style=\"background-color:white\"></td></tr>\n",
       "<tr><td style=\"background-color:lightgrey\">4</td><td style=\"background-color:white\"></td><td style=\"background-color:white\">John</td><td style=\"background-color:white\">1</td><td style=\"background-color:white\">5</td><td style=\"background-color:white\">9</td><td style=\"background-color:white\"></td><td style=\"background-color:white\"></td><td style=\"background-color:white\">Keith</td><td style=\"background-color:white\">2</td><td style=\"background-color:white\">6</td><td style=\"background-color:white\">10</td></tr>\n",
       "<tr><td style=\"background-color:lightgrey\">5</td><td style=\"background-color:white\"></td><td style=\"background-color:white\">Paul</td><td style=\"background-color:white\">2</td><td style=\"background-color:white\">6</td><td style=\"background-color:white\">10</td><td style=\"background-color:white\"></td><td style=\"background-color:white\"></td><td style=\"background-color:white\">Mick</td><td style=\"background-color:white\">3</td><td style=\"background-color:white\">7</td><td style=\"background-color:white\">11</td></tr>\n",
       "<tr><td style=\"background-color:lightgrey\">6</td><td style=\"background-color:white\"></td><td style=\"background-color:white\">George</td><td style=\"background-color:white\">2</td><td style=\"background-color:white\">7</td><td style=\"background-color:white\">11</td><td style=\"background-color:white\"></td><td style=\"background-color:white\"></td><td style=\"background-color:white\">Charlie</td><td style=\"background-color:white\">3</td><td style=\"background-color:white\">8</td><td style=\"background-color:white\">12</td></tr>\n",
       "<tr><td style=\"background-color:lightgrey\">7</td><td style=\"background-color:white\"></td><td style=\"background-color:white\">Ringo</td><td style=\"background-color:white\">4</td><td style=\"background-color:white\">8</td><td style=\"background-color:white\">12</td><td style=\"background-color:white\"></td><td style=\"background-color:white\"></td><td style=\"background-color:white\">Ronnie</td><td style=\"background-color:white\">5</td><td style=\"background-color:white\">9</td><td style=\"background-color:white\">13</td></tr>\n",
       "<tr><td style=\"background-color:lightgrey\">8</td><td style=\"background-color:white\"></td><td style=\"background-color:white\"></td><td style=\"background-color:white\"></td><td style=\"background-color:white\"></td><td style=\"background-color:white\"></td><td style=\"background-color:white\"></td><td style=\"background-color:white\"></td><td style=\"background-color:white\"></td><td style=\"background-color:white\"></td><td style=\"background-color:white\"></td><td style=\"background-color:white\"></td></tr>\n",
       "\n",
       "                </table>\n",
       "            </body>\n",
       "            <br>\n",
       "        </html>\n",
       "    "
      ],
      "text/plain": [
       "<IPython.core.display.HTML object>"
      ]
     },
     "metadata": {},
     "output_type": "display_data"
    }
   ],
   "source": [
    "from datachef import acquire, preview\n",
    "from datachef.selection import CsvSelectable\n",
    "\n",
    "table: CsvSelectable = acquire.csv.http(\"https://raw.githubusercontent.com/mikeAdamss/datachef/main/tests/fixtures/csv/bands-wide.csv\")\n",
    "preview(table)"
   ]
  },
  {
   "attachments": {},
   "cell_type": "markdown",
   "metadata": {},
   "source": [
    "## Explanation\n",
    "\n",
    "To format the observations you pass a callable to the `TidyData` constructor as a `obs_apply=` keyword argument.\n",
    "\n",
    "Some simple examples follow using lambda functions (though as with the other callables, you could instead use function or classes with the `__call__` dunder method).\n",
    "\n",
    "\n",
    "### Lambda Example 1:\n",
    "\n",
    "Replace trailing \".0\" values with an empty string.\n",
    "\n",
    "```\n",
    "tidy_data = TidyData(\n",
    "    observations,\n",
    "    Column(bands.finds_observations_closest(right)),\n",
    "    obs_apply=lambda x: x.replace(\".0\", \"\")\n",
    ")\n",
    "```\n",
    "\n",
    "### Lambda Example 2:\n",
    "\n",
    "Remove the last character is the last character is non numeric.\n",
    "\n",
    "```\n",
    "tidy_data = TidyData(\n",
    "    observations,\n",
    "    Column(bands.finds_observations_closest(right)),\n",
    "    obs_apply=lambda x: x[:-1] if not x[:-1].isnumeric() else x\n",
    ")\n",
    "```\n",
    "\n",
    "The point is that **any callable that takes a `str` and returns a `str` can be passed to `obs_apply`**."
   ]
  },
  {
   "attachments": {},
   "cell_type": "markdown",
   "metadata": {},
   "source": [
    "## Example\n",
    "\n",
    "To show this in practice we're just going to prefix each observation with \"foo \"."
   ]
  },
  {
   "cell_type": "code",
   "execution_count": 9,
   "metadata": {},
   "outputs": [
    {
     "data": {
      "text/html": [
       "\n",
       "    <html>\n",
       "        \n",
       "    <style>\n",
       "    table, th, td {\n",
       "        border: 1px solid;\n",
       "    }\n",
       "\n",
       "    table {\n",
       "        border-collapse: collapse;\n",
       "    }\n",
       "\n",
       "    td {\n",
       "        align: center;\n",
       "        border: 1px  black solid !important;\n",
       "        color: black !important;\n",
       "    }\n",
       "\n",
       "    th, td {\n",
       "        padding: 5px;\n",
       "    }\n",
       "\n",
       "    </style>\n",
       "    \n",
       "            <table>\n",
       "                \n",
       "            <tr>\n",
       "                <td style=\"background-color:cyan\">Observations</td>\n",
       "            <tr>\n",
       "        \n",
       "            <tr>\n",
       "                <td style=\"background-color:#99ff99\">Bands</td>\n",
       "            <tr>\n",
       "        \n",
       "            <tr>\n",
       "                <td style=\"background-color:#eeccff\">Assets</td>\n",
       "            <tr>\n",
       "        \n",
       "            <tr>\n",
       "                <td style=\"background-color:#ffe066\">Members</td>\n",
       "            <tr>\n",
       "        \n",
       "            </table>\n",
       "\n",
       "            <body>\n",
       "                <h2>Unnamed Table</h2>\n",
       "                <table>\n",
       "                    <tr><td style=\"background-color:lightgrey\"></td><td style=\"background-color:lightgrey\">A</td><td style=\"background-color:lightgrey\">B</td><td style=\"background-color:lightgrey\">C</td><td style=\"background-color:lightgrey\">D</td><td style=\"background-color:lightgrey\">E</td><td style=\"background-color:lightgrey\">F</td><td style=\"background-color:lightgrey\">G</td><td style=\"background-color:lightgrey\">H</td><td style=\"background-color:lightgrey\">I</td><td style=\"background-color:lightgrey\">J</td><td style=\"background-color:lightgrey\">K</td></tr>\n",
       "<tr><td style=\"background-color:lightgrey\">1</td><td style=\"background-color:white\"></td><td style=\"background-color:white\"></td><td style=\"background-color:white\"></td><td style=\"background-color:white\"></td><td style=\"background-color:white\"></td><td style=\"background-color:white\"></td><td style=\"background-color:white\"></td><td style=\"background-color:white\"></td><td style=\"background-color:white\"></td><td style=\"background-color:white\"></td><td style=\"background-color:white\"></td></tr>\n",
       "<tr><td style=\"background-color:lightgrey\">2</td><td style=\"background-color:white\"></td><td style=\"background-color:white\"></td><td style=\"background-color:#eeccff\">Houses</td><td style=\"background-color:#eeccff\">Cars</td><td style=\"background-color:#eeccff\">Boats</td><td style=\"background-color:white\"></td><td style=\"background-color:white\"></td><td style=\"background-color:white\"></td><td style=\"background-color:#eeccff\">Houses</td><td style=\"background-color:#eeccff\">Cars</td><td style=\"background-color:#eeccff\">Boats</td></tr>\n",
       "<tr><td style=\"background-color:lightgrey\">3</td><td style=\"background-color:#99ff99\">Beatles</td><td style=\"background-color:white\"></td><td style=\"background-color:white\"></td><td style=\"background-color:white\"></td><td style=\"background-color:white\"></td><td style=\"background-color:white\"></td><td style=\"background-color:#99ff99\">Rolling Stones</td><td style=\"background-color:white\"></td><td style=\"background-color:white\"></td><td style=\"background-color:white\"></td><td style=\"background-color:white\"></td></tr>\n",
       "<tr><td style=\"background-color:lightgrey\">4</td><td style=\"background-color:white\"></td><td style=\"background-color:#ffe066\">John</td><td style=\"background-color:cyan\">1</td><td style=\"background-color:cyan\">5</td><td style=\"background-color:cyan\">9</td><td style=\"background-color:white\"></td><td style=\"background-color:white\"></td><td style=\"background-color:#ffe066\">Keith</td><td style=\"background-color:cyan\">2</td><td style=\"background-color:cyan\">6</td><td style=\"background-color:cyan\">10</td></tr>\n",
       "<tr><td style=\"background-color:lightgrey\">5</td><td style=\"background-color:white\"></td><td style=\"background-color:#ffe066\">Paul</td><td style=\"background-color:cyan\">2</td><td style=\"background-color:cyan\">6</td><td style=\"background-color:cyan\">10</td><td style=\"background-color:white\"></td><td style=\"background-color:white\"></td><td style=\"background-color:#ffe066\">Mick</td><td style=\"background-color:cyan\">3</td><td style=\"background-color:cyan\">7</td><td style=\"background-color:cyan\">11</td></tr>\n",
       "<tr><td style=\"background-color:lightgrey\">6</td><td style=\"background-color:white\"></td><td style=\"background-color:#ffe066\">George</td><td style=\"background-color:cyan\">2</td><td style=\"background-color:cyan\">7</td><td style=\"background-color:cyan\">11</td><td style=\"background-color:white\"></td><td style=\"background-color:white\"></td><td style=\"background-color:#ffe066\">Charlie</td><td style=\"background-color:cyan\">3</td><td style=\"background-color:cyan\">8</td><td style=\"background-color:cyan\">12</td></tr>\n",
       "<tr><td style=\"background-color:lightgrey\">7</td><td style=\"background-color:white\"></td><td style=\"background-color:#ffe066\">Ringo</td><td style=\"background-color:cyan\">4</td><td style=\"background-color:cyan\">8</td><td style=\"background-color:cyan\">12</td><td style=\"background-color:white\"></td><td style=\"background-color:white\"></td><td style=\"background-color:#ffe066\">Ronnie</td><td style=\"background-color:cyan\">5</td><td style=\"background-color:cyan\">9</td><td style=\"background-color:cyan\">13</td></tr>\n",
       "<tr><td style=\"background-color:lightgrey\">8</td><td style=\"background-color:white\"></td><td style=\"background-color:white\"></td><td style=\"background-color:white\"></td><td style=\"background-color:white\"></td><td style=\"background-color:white\"></td><td style=\"background-color:white\"></td><td style=\"background-color:white\"></td><td style=\"background-color:white\"></td><td style=\"background-color:white\"></td><td style=\"background-color:white\"></td><td style=\"background-color:white\"></td></tr>\n",
       "\n",
       "                </table>\n",
       "            </body>\n",
       "            <br>\n",
       "        </html>\n",
       "    "
      ],
      "text/plain": [
       "<IPython.core.display.HTML object>"
      ]
     },
     "metadata": {},
     "output_type": "display_data"
    },
    {
     "data": {
      "text/html": [
       "<table>\n",
       "<thead>\n",
       "<tr><th>Observations  </th><th>Bands         </th><th>Assets  </th><th>Members  </th></tr>\n",
       "</thead>\n",
       "<tbody>\n",
       "<tr><td>foo 1         </td><td>Beatles       </td><td>Houses  </td><td>John     </td></tr>\n",
       "<tr><td>foo 5         </td><td>Beatles       </td><td>Cars    </td><td>John     </td></tr>\n",
       "<tr><td>foo 9         </td><td>Beatles       </td><td>Boats   </td><td>John     </td></tr>\n",
       "<tr><td>foo 2         </td><td>Rolling Stones</td><td>Houses  </td><td>Keith    </td></tr>\n",
       "<tr><td>foo 6         </td><td>Rolling Stones</td><td>Cars    </td><td>Keith    </td></tr>\n",
       "<tr><td>foo 10        </td><td>Rolling Stones</td><td>Boats   </td><td>Keith    </td></tr>\n",
       "<tr><td>foo 2         </td><td>Beatles       </td><td>Houses  </td><td>Paul     </td></tr>\n",
       "<tr><td>foo 6         </td><td>Beatles       </td><td>Cars    </td><td>Paul     </td></tr>\n",
       "<tr><td>foo 10        </td><td>Beatles       </td><td>Boats   </td><td>Paul     </td></tr>\n",
       "<tr><td>foo 3         </td><td>Rolling Stones</td><td>Houses  </td><td>Mick     </td></tr>\n",
       "<tr><td>foo 7         </td><td>Rolling Stones</td><td>Cars    </td><td>Mick     </td></tr>\n",
       "<tr><td>foo 11        </td><td>Rolling Stones</td><td>Boats   </td><td>Mick     </td></tr>\n",
       "<tr><td>foo 2         </td><td>Beatles       </td><td>Houses  </td><td>George   </td></tr>\n",
       "<tr><td>foo 7         </td><td>Beatles       </td><td>Cars    </td><td>George   </td></tr>\n",
       "<tr><td>foo 11        </td><td>Beatles       </td><td>Boats   </td><td>George   </td></tr>\n",
       "<tr><td>foo 3         </td><td>Rolling Stones</td><td>Houses  </td><td>Charlie  </td></tr>\n",
       "<tr><td>foo 8         </td><td>Rolling Stones</td><td>Cars    </td><td>Charlie  </td></tr>\n",
       "<tr><td>foo 12        </td><td>Rolling Stones</td><td>Boats   </td><td>Charlie  </td></tr>\n",
       "<tr><td>foo 4         </td><td>Beatles       </td><td>Houses  </td><td>Ringo    </td></tr>\n",
       "<tr><td>foo 8         </td><td>Beatles       </td><td>Cars    </td><td>Ringo    </td></tr>\n",
       "<tr><td>foo 12        </td><td>Beatles       </td><td>Boats   </td><td>Ringo    </td></tr>\n",
       "<tr><td>foo 5         </td><td>Rolling Stones</td><td>Houses  </td><td>Ronnie   </td></tr>\n",
       "<tr><td>foo 9         </td><td>Rolling Stones</td><td>Cars    </td><td>Ronnie   </td></tr>\n",
       "<tr><td>foo 13        </td><td>Rolling Stones</td><td>Boats   </td><td>Ronnie   </td></tr>\n",
       "</tbody>\n",
       "</table>"
      ],
      "text/plain": [
       "'<table>\\n<thead>\\n<tr><th>Observations  </th><th>Bands         </th><th>Assets  </th><th>Members  </th></tr>\\n</thead>\\n<tbody>\\n<tr><td>foo 1         </td><td>Beatles       </td><td>Houses  </td><td>John     </td></tr>\\n<tr><td>foo 5         </td><td>Beatles       </td><td>Cars    </td><td>John     </td></tr>\\n<tr><td>foo 9         </td><td>Beatles       </td><td>Boats   </td><td>John     </td></tr>\\n<tr><td>foo 2         </td><td>Rolling Stones</td><td>Houses  </td><td>Keith    </td></tr>\\n<tr><td>foo 6         </td><td>Rolling Stones</td><td>Cars    </td><td>Keith    </td></tr>\\n<tr><td>foo 10        </td><td>Rolling Stones</td><td>Boats   </td><td>Keith    </td></tr>\\n<tr><td>foo 2         </td><td>Beatles       </td><td>Houses  </td><td>Paul     </td></tr>\\n<tr><td>foo 6         </td><td>Beatles       </td><td>Cars    </td><td>Paul     </td></tr>\\n<tr><td>foo 10        </td><td>Beatles       </td><td>Boats   </td><td>Paul     </td></tr>\\n<tr><td>foo 3         </td><td>Rolling Stones</td><td>Houses  </td><td>Mick     </td></tr>\\n<tr><td>foo 7         </td><td>Rolling Stones</td><td>Cars    </td><td>Mick     </td></tr>\\n<tr><td>foo 11        </td><td>Rolling Stones</td><td>Boats   </td><td>Mick     </td></tr>\\n<tr><td>foo 2         </td><td>Beatles       </td><td>Houses  </td><td>George   </td></tr>\\n<tr><td>foo 7         </td><td>Beatles       </td><td>Cars    </td><td>George   </td></tr>\\n<tr><td>foo 11        </td><td>Beatles       </td><td>Boats   </td><td>George   </td></tr>\\n<tr><td>foo 3         </td><td>Rolling Stones</td><td>Houses  </td><td>Charlie  </td></tr>\\n<tr><td>foo 8         </td><td>Rolling Stones</td><td>Cars    </td><td>Charlie  </td></tr>\\n<tr><td>foo 12        </td><td>Rolling Stones</td><td>Boats   </td><td>Charlie  </td></tr>\\n<tr><td>foo 4         </td><td>Beatles       </td><td>Houses  </td><td>Ringo    </td></tr>\\n<tr><td>foo 8         </td><td>Beatles       </td><td>Cars    </td><td>Ringo    </td></tr>\\n<tr><td>foo 12        </td><td>Beatles       </td><td>Boats   </td><td>Ringo    </td></tr>\\n<tr><td>foo 5         </td><td>Rolling Stones</td><td>Houses  </td><td>Ronnie   </td></tr>\\n<tr><td>foo 9         </td><td>Rolling Stones</td><td>Cars    </td><td>Ronnie   </td></tr>\\n<tr><td>foo 13        </td><td>Rolling Stones</td><td>Boats   </td><td>Ronnie   </td></tr>\\n</tbody>\\n</table>'"
      ]
     },
     "metadata": {},
     "output_type": "display_data"
    },
    {
     "name": "stdout",
     "output_type": "stream",
     "text": [
      "\n"
     ]
    }
   ],
   "source": [
    "from datachef import acquire, preview, filters\n",
    "from datachef.direction import right, below\n",
    "from datachef.output import TidyData, Column\n",
    "from datachef.selection import CsvSelectable\n",
    "\n",
    "table: CsvSelectable = acquire.csv.http(\"https://raw.githubusercontent.com/mikeAdamss/datachef/main/tests/fixtures/csv/bands-wide.csv\")\n",
    "\n",
    "observations = table.filter(filters.is_numeric).label_as(\"Observations\")\n",
    "bands = (table.excel_ref(\"A3\") | table.excel_ref(\"G3\")).label_as(\"Bands\")\n",
    "assets = table.excel_ref('2').is_not_blank().label_as(\"Assets\")\n",
    "members = (table.excel_ref(\"B\") | table.excel_ref(\"H\")).is_not_blank().label_as(\"Members\")\n",
    "preview(observations, bands, assets, members)\n",
    "\n",
    "tidy_data = TidyData(\n",
    "    observations,\n",
    "    Column(bands.finds_observations_closest(right)),\n",
    "    Column(assets.finds_observations_directly(below)),\n",
    "    Column(members.finds_observations_directly(right)),\n",
    "    obs_apply=lambda x: \"foo \"+x\n",
    ")\n",
    "print(tidy_data)"
   ]
  }
 ],
 "metadata": {
  "kernelspec": {
   "display_name": "datachef-hNSMaw3h-py3.9",
   "language": "python",
   "name": "python3"
  },
  "language_info": {
   "codemirror_mode": {
    "name": "ipython",
    "version": 3
   },
   "file_extension": ".py",
   "mimetype": "text/x-python",
   "name": "python",
   "nbconvert_exporter": "python",
   "pygments_lexer": "ipython3",
   "version": "3.9.7"
  },
  "orig_nbformat": 4
 },
 "nbformat": 4,
 "nbformat_minor": 2
}
