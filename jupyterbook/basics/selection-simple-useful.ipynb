{
 "cells": [
  {
   "attachments": {},
   "cell_type": "markdown",
   "metadata": {},
   "source": [
    "# Selection: Simple & Useful\n",
    "\n",
    "To finish our introduction to cell selection mechanisms we're going to just list a few simple but useful commands we haven't touched upon yet."
   ]
  },
  {
   "attachments": {},
   "cell_type": "markdown",
   "metadata": {},
   "source": [
    "## Source Data\n",
    "\n",
    "The data source we're using for these examples is shown below:\n",
    "\n",
    "| <span style=\"color:green\">Note - this particular table has some very verbose headers we don't care about, so we'll be using `bounded=` to remove them from the previews as well as to show just the subset of data we're working with.</span>|\n",
    "|-----------------------------------------|\n",
    "\n",
    "The [full data source can be downloaded here](https://github.com/mikeAdamss/tidychef/raw/main/tests/fixtures/xlsx/ons-oic.xlsx). We'll be using th 8th tab named \"Table 3a\"."
   ]
  },
  {
   "cell_type": "code",
   "execution_count": null,
   "metadata": {},
   "outputs": [],
   "source": [
    "from tidychef import acquire, preview\n",
    "from tidychef.selection import XlsxSelectable\n",
    "\n",
    "table: XlsxSelectable = acquire.xlsx.http(\"https://github.com/mikeAdamss/tidychef/raw/main/tests/fixtures/xlsx/ons-oic.xlsx\", tables=\"Table 3a\")\n",
    "preview(table, bounded=\"A4:H10\")"
   ]
  },
  {
   "attachments": {},
   "cell_type": "markdown",
   "metadata": {},
   "source": [
    "## Assert One\n",
    "\n",
    "The `assert_one()` function is used to quickly confirm that a cell selection contains exactly one cell.\n",
    "\n",
    "The following will not raise as there is exactly one cell in the selection."
   ]
  },
  {
   "cell_type": "code",
   "execution_count": null,
   "metadata": {},
   "outputs": [],
   "source": [
    "from tidychef import acquire\n",
    "from tidychef.selection import XlsxSelectable\n",
    "\n",
    "table: XlsxSelectable = acquire.xlsx.http(\"https://github.com/mikeAdamss/tidychef/raw/main/tests/fixtures/xlsx/ons-oic.xlsx\", tables=\"Table 3a\")\n",
    "table.excel_ref('A1').assert_one()"
   ]
  },
  {
   "attachments": {},
   "cell_type": "markdown",
   "metadata": {},
   "source": [
    "the following **will** raise a python `AssertionError` as there's more than one cell."
   ]
  },
  {
   "cell_type": "code",
   "execution_count": null,
   "metadata": {},
   "outputs": [],
   "source": [
    "from tidychef import acquire\n",
    "from tidychef.selection import XlsxSelectable\n",
    "\n",
    "table: XlsxSelectable = acquire.xlsx.http(\"https://github.com/mikeAdamss/tidychef/raw/main/tests/fixtures/xlsx/ons-oic.xlsx\", tables=\"Table 3a\")\n",
    "table.excel_ref('A1:A2').assert_one()"
   ]
  },
  {
   "attachments": {},
   "cell_type": "markdown",
   "metadata": {},
   "source": [
    "## Other simple assertions\n",
    "\n",
    "In addition to assert one, you can also use:\n",
    "\n",
    "- `assert_len(<int>)` - assert your selection contains the specified number of cells.\n",
    "- `assert_single_row()` - assert that all _currently selected_ cells are present on a single row.\n",
    "- `assert_single_column()` - assert that all _currently selected_ cells are present in a single column.\n"
   ]
  },
  {
   "attachments": {},
   "cell_type": "markdown",
   "metadata": {},
   "source": [
    "## Is Blank & Is Not Blank\n",
    "\n",
    "Two of the most common methods in tidychef are `is_blank()` and `is_not_blank()`.\n",
    "\n",
    "Usage examples follow."
   ]
  },
  {
   "cell_type": "code",
   "execution_count": null,
   "metadata": {},
   "outputs": [],
   "source": [
    "from tidychef import acquire\n",
    "from tidychef.selection import XlsxSelectable\n",
    "\n",
    "table: XlsxSelectable = acquire.xlsx.http(\"https://github.com/mikeAdamss/tidychef/raw/main/tests/fixtures/xlsx/ons-oic.xlsx\", tables=\"Table 3a\")\n",
    "\n",
    "non_blank_cells = table.is_not_blank().label_as(\"Non Blank Cells\")\n",
    "blank_cells = table.is_blank().label_as(\"Blank Cells\")\n",
    "\n",
    "preview(non_blank_cells, blank_cells, bounded=\"A4:H10\")"
   ]
  },
  {
   "attachments": {},
   "cell_type": "markdown",
   "metadata": {},
   "source": [
    "## Handling Whitespace In Blanks\n",
    "\n",
    "The default behaviour for both `is_blank()` and `is_not_blank()` is to treat cells that contain only whitespace as blank.\n",
    "\n",
    "If you need to change this behaviour (if you want to treat a cell containing only space and/or tabs as not blank) you can pass the keyword `disregard_whitespace=False` into either method.\n",
    "\n",
    "i.e\n",
    "\n",
    "```\n",
    "is_blank(disregard_whitespace=False)\n",
    "```\n",
    "\n",
    "and\n",
    "\n",
    "```\n",
    "is_not_blank(disregard_whitespace=False)\n",
    "```"
   ]
  },
  {
   "attachments": {},
   "cell_type": "markdown",
   "metadata": {},
   "source": [
    "## Lone Value\n",
    "\n",
    "`.lone_value()` asserts that a selection contains a single cell and if so returns the value contained in that cell."
   ]
  }
 ],
 "metadata": {
  "kernelspec": {
   "display_name": "datachef-hNSMaw3h-py3.9",
   "language": "python",
   "name": "python3"
  },
  "language_info": {
   "codemirror_mode": {
    "name": "ipython",
    "version": 3
   },
   "file_extension": ".py",
   "mimetype": "text/x-python",
   "name": "python",
   "nbconvert_exporter": "python",
   "pygments_lexer": "ipython3",
   "version": "3.9.7"
  },
  "orig_nbformat": 4
 },
 "nbformat": 4,
 "nbformat_minor": 2
}
