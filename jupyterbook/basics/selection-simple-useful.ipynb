{
 "cells": [
  {
   "attachments": {},
   "cell_type": "markdown",
   "metadata": {},
   "source": [
    "# Selection: Simple & Useful\n",
    "\n",
    "To finish our introduction to cell selection mechanisms we're going to just list a few simple but useful commands we haven't touched upon yet."
   ]
  },
  {
   "attachments": {},
   "cell_type": "markdown",
   "metadata": {},
   "source": [
    "## Source Data\n",
    "\n",
    "The data source we're using for these examples is shown below:\n",
    "\n",
    "| <span style=\"color:green\">Note - this particular table has some very verbose headers we don't care about, so we'll be using `bounded=` to remove them from the previews as well as to show just the subset of data we're working with.</span>|\n",
    "|-----------------------------------------|\n",
    "\n",
    "The [full data source can be downloaded here](https://github.com/mikeAdamss/datachef/raw/main/tests/fixtures/xlsx/ons-oic.xlsx). We'll be using th 8th tab named \"Table 3a\"."
   ]
  },
  {
   "cell_type": "code",
   "execution_count": 1,
   "metadata": {},
   "outputs": [
    {
     "data": {
      "text/html": [
       "\n",
       "    <html>\n",
       "        \n",
       "    <style>\n",
       "    table, th, td {\n",
       "        border: 1px solid;\n",
       "    }\n",
       "\n",
       "    table {\n",
       "        border-collapse: collapse;\n",
       "    }\n",
       "\n",
       "    td {\n",
       "        align: center;\n",
       "        border: 1px  black solid !important;\n",
       "        color: black !important;\n",
       "    }\n",
       "\n",
       "    th, td {\n",
       "        padding: 5px;\n",
       "    }\n",
       "\n",
       "    </style>\n",
       "    \n",
       "            <table>\n",
       "                \n",
       "            </table>\n",
       "\n",
       "            <body>\n",
       "                <h2>Table 3a</h2>\n",
       "                <table>\n",
       "                    <tr><td style=\"background-color:lightgrey\"></td><td style=\"background-color:lightgrey\">A</td><td style=\"background-color:lightgrey\">B</td><td style=\"background-color:lightgrey\">C</td><td style=\"background-color:lightgrey\">D</td><td style=\"background-color:lightgrey\">E</td><td style=\"background-color:lightgrey\">F</td><td style=\"background-color:lightgrey\">G</td><td style=\"background-color:lightgrey\">H</td></tr>\n",
       "<tr><td style=\"background-color:lightgrey\">4</td><td style=\"background-color:white\">Percentage change period on period</td><td style=\"background-color:white\"></td><td style=\"background-color:white\"></td><td style=\"background-color:white\"></td><td style=\"background-color:white\"></td><td style=\"background-color:white\"></td><td style=\"background-color:white\"></td><td style=\"background-color:white\"></td></tr>\n",
       "<tr><td style=\"background-color:lightgrey\">5</td><td style=\"background-color:white\">Time period</td><td style=\"background-color:white\">Public new housing</td><td style=\"background-color:white\">Private new housing</td><td style=\"background-color:white\">Total new housing</td><td style=\"background-color:white\">Infrastructure new work</td><td style=\"background-color:white\">Public other new work</td><td style=\"background-color:white\">Private industrial new work</td><td style=\"background-color:white\">Private commercial new work</td></tr>\n",
       "<tr><td style=\"background-color:lightgrey\">6</td><td style=\"background-color:white\">Annual dataset identifier code</td><td style=\"background-color:white\">MV5H</td><td style=\"background-color:white\">MV5I</td><td style=\"background-color:white\">MVM3</td><td style=\"background-color:white\">MV5J</td><td style=\"background-color:white\">MV5K</td><td style=\"background-color:white\">MV5L</td><td style=\"background-color:white\">MV5M</td></tr>\n",
       "<tr><td style=\"background-color:lightgrey\">7</td><td style=\"background-color:white\">Quarterly dataset identifier code</td><td style=\"background-color:white\">MV54</td><td style=\"background-color:white\">MV55</td><td style=\"background-color:white\">MVM7</td><td style=\"background-color:white\">MV56</td><td style=\"background-color:white\">MV57</td><td style=\"background-color:white\">MV58</td><td style=\"background-color:white\">MV59</td></tr>\n",
       "<tr><td style=\"background-color:lightgrey\">8</td><td style=\"background-color:white\">Monthly dataset identifier code</td><td style=\"background-color:white\">MV4O</td><td style=\"background-color:white\">MV4P</td><td style=\"background-color:white\">MVM2</td><td style=\"background-color:white\">MV4Q</td><td style=\"background-color:white\">MV4R</td><td style=\"background-color:white\">MV4S</td><td style=\"background-color:white\">MV4T</td></tr>\n",
       "<tr><td style=\"background-color:lightgrey\">9</td><td style=\"background-color:white\">1998</td><td style=\"background-color:white\">-19</td><td style=\"background-color:white\">1</td><td style=\"background-color:white\">-1.2</td><td style=\"background-color:white\">-2.8</td><td style=\"background-color:white\">5.4</td><td style=\"background-color:white\">1.9</td><td style=\"background-color:white\">8.4</td></tr>\n",
       "<tr><td style=\"background-color:lightgrey\">10</td><td style=\"background-color:white\">1999</td><td style=\"background-color:white\">-13.3</td><td style=\"background-color:white\">-10</td><td style=\"background-color:white\">-10.3</td><td style=\"background-color:white\">-2.8</td><td style=\"background-color:white\">12.6</td><td style=\"background-color:white\">3.2</td><td style=\"background-color:white\">12</td></tr>\n",
       "\n",
       "                </table>\n",
       "            </body>\n",
       "            <br>\n",
       "        </html>\n",
       "    "
      ],
      "text/plain": [
       "<IPython.core.display.HTML object>"
      ]
     },
     "metadata": {},
     "output_type": "display_data"
    }
   ],
   "source": [
    "from typing import List\n",
    "from datachef import acquire, preview\n",
    "from datachef.selection import XlsxSelectable\n",
    "\n",
    "tables: List[XlsxSelectable] = acquire.xlsx.http(\"https://github.com/mikeAdamss/datachef/raw/main/tests/fixtures/xlsx/ons-oic.xlsx\")\n",
    "preview(tables[7], bounded=\"A4:H10\")"
   ]
  },
  {
   "attachments": {},
   "cell_type": "markdown",
   "metadata": {},
   "source": [
    "## Assert One\n",
    "\n",
    "The `assert_one()` function is used to quickly confirm that a cell selection contains exactly one cell.\n",
    "\n",
    "The following will not raise as there is exactly one cell in the selection."
   ]
  },
  {
   "cell_type": "code",
   "execution_count": 2,
   "metadata": {},
   "outputs": [
    {
     "data": {
      "text/plain": [
       "<datachef.selection.xlsx.xlsx.XlsxSelectable at 0x11179cbb0>"
      ]
     },
     "execution_count": 2,
     "metadata": {},
     "output_type": "execute_result"
    }
   ],
   "source": [
    "from typing import List\n",
    "from datachef import acquire\n",
    "from datachef.selection import XlsxSelectable\n",
    "\n",
    "tables: List[XlsxSelectable] = acquire.xlsx.http(\"https://github.com/mikeAdamss/datachef/raw/main/tests/fixtures/xlsx/ons-oic.xlsx\")\n",
    "tables[7].excel_ref('A1').assert_one()"
   ]
  },
  {
   "attachments": {},
   "cell_type": "markdown",
   "metadata": {},
   "source": [
    "the following **will** raise a python `AssertionError` as there's more than one cell."
   ]
  },
  {
   "cell_type": "code",
   "execution_count": 3,
   "metadata": {},
   "outputs": [
    {
     "ename": "AssertionError",
     "evalue": "Selection contains 2 cells, not 1",
     "output_type": "error",
     "traceback": [
      "\u001b[0;31m---------------------------------------------------------------------------\u001b[0m",
      "\u001b[0;31mAssertionError\u001b[0m                            Traceback (most recent call last)",
      "Cell \u001b[0;32mIn[3], line 5\u001b[0m\n\u001b[1;32m      2\u001b[0m \u001b[39mfrom\u001b[39;00m \u001b[39mdatachef\u001b[39;00m \u001b[39mimport\u001b[39;00m acquire, XlsxSelectable\n\u001b[1;32m      4\u001b[0m tables: List[XlsxSelectable] \u001b[39m=\u001b[39m acquire\u001b[39m.\u001b[39mxlsx\u001b[39m.\u001b[39mhttp(\u001b[39m\"\u001b[39m\u001b[39mhttps://github.com/mikeAdamss/datachef/raw/main/tests/fixtures/xlsx/ons-oic.xlsx\u001b[39m\u001b[39m\"\u001b[39m)\n\u001b[0;32m----> 5\u001b[0m tables[\u001b[39m7\u001b[39;49m]\u001b[39m.\u001b[39;49mexcel_ref(\u001b[39m'\u001b[39;49m\u001b[39mA1:A2\u001b[39;49m\u001b[39m'\u001b[39;49m)\u001b[39m.\u001b[39;49massert_one()\n",
      "File \u001b[0;32m~/code/mikeAdamss/datachef/datachef/selection/selectable.py:61\u001b[0m, in \u001b[0;36mSelectable.assert_one\u001b[0;34m(self)\u001b[0m\n\u001b[1;32m     57\u001b[0m \u001b[39mdef\u001b[39;00m \u001b[39massert_one\u001b[39m(\u001b[39mself\u001b[39m):\n\u001b[1;32m     58\u001b[0m \u001b[39m    \u001b[39m\u001b[39m\"\"\"\u001b[39;00m\n\u001b[1;32m     59\u001b[0m \u001b[39m    Assert that the current selection contains exactly one cell\u001b[39;00m\n\u001b[1;32m     60\u001b[0m \u001b[39m    \"\"\"\u001b[39;00m\n\u001b[0;32m---> 61\u001b[0m     \u001b[39massert\u001b[39;00m (\n\u001b[1;32m     62\u001b[0m         \u001b[39mlen\u001b[39m(\u001b[39mself\u001b[39m\u001b[39m.\u001b[39mcells) \u001b[39m==\u001b[39m \u001b[39m1\u001b[39m\n\u001b[1;32m     63\u001b[0m     ), \u001b[39mf\u001b[39m\u001b[39m\"\u001b[39m\u001b[39mSelection contains \u001b[39m\u001b[39m{\u001b[39;00m\u001b[39mlen\u001b[39m(\u001b[39mself\u001b[39m\u001b[39m.\u001b[39mcells)\u001b[39m}\u001b[39;00m\u001b[39m cells, not 1\u001b[39m\u001b[39m\"\u001b[39m\n\u001b[1;32m     64\u001b[0m     \u001b[39mreturn\u001b[39;00m \u001b[39mself\u001b[39m\n",
      "\u001b[0;31mAssertionError\u001b[0m: Selection contains 2 cells, not 1"
     ]
    }
   ],
   "source": [
    "from typing import List\n",
    "from datachef import acquire\n",
    "from datachef.selection import XlsxSelectable\n",
    "\n",
    "tables: List[XlsxSelectable] = acquire.xlsx.http(\"https://github.com/mikeAdamss/datachef/raw/main/tests/fixtures/xlsx/ons-oic.xlsx\")\n",
    "tables[7].excel_ref('A1:A2').assert_one()"
   ]
  },
  {
   "attachments": {},
   "cell_type": "markdown",
   "metadata": {},
   "source": [
    "## Other simple assertions\n",
    "\n",
    "In addition to assert one, you can also use:\n",
    "\n",
    "- `assert_len(<int>)` - assert your selection contains the specified number of cells.\n",
    "- `assert_single_row()` - assert that all _currently selected_ cells are present on a single row.\n",
    "- `assert_single_column()` - assert that all _currently selected_ cells are present in a single column.\n"
   ]
  },
  {
   "attachments": {},
   "cell_type": "markdown",
   "metadata": {},
   "source": [
    "## Is Blank & Is Not Blank\n",
    "\n",
    "Two of the most common methods in datachef are `is_blank()` and `is_not_blank()`.\n",
    "\n",
    "Usage examples follow."
   ]
  },
  {
   "cell_type": "code",
   "execution_count": null,
   "metadata": {},
   "outputs": [
    {
     "data": {
      "text/html": [
       "\n",
       "    <html>\n",
       "        \n",
       "    <style>\n",
       "    table, th, td {\n",
       "        border: 1px solid;\n",
       "    }\n",
       "\n",
       "    table {\n",
       "        border-collapse: collapse;\n",
       "    }\n",
       "\n",
       "    td {\n",
       "        align: center;\n",
       "        border: 1px  black solid !important;\n",
       "        color: black !important;\n",
       "    }\n",
       "\n",
       "    th, td {\n",
       "        padding: 5px;\n",
       "    }\n",
       "\n",
       "    </style>\n",
       "    \n",
       "            <table>\n",
       "                \n",
       "            <tr>\n",
       "                <td style=\"background-color:cyan\">Non Blank Cells</td>\n",
       "            <tr>\n",
       "        \n",
       "            <tr>\n",
       "                <td style=\"background-color:#99ff99\">Blank Cells</td>\n",
       "            <tr>\n",
       "        \n",
       "            </table>\n",
       "\n",
       "            <body>\n",
       "                <h2>Table 3a</h2>\n",
       "                <table>\n",
       "                    <tr><td style=\"background-color:lightgrey\"></td><td style=\"background-color:lightgrey\">A</td><td style=\"background-color:lightgrey\">B</td><td style=\"background-color:lightgrey\">C</td><td style=\"background-color:lightgrey\">D</td><td style=\"background-color:lightgrey\">E</td><td style=\"background-color:lightgrey\">F</td><td style=\"background-color:lightgrey\">G</td><td style=\"background-color:lightgrey\">H</td></tr>\n",
       "<tr><td style=\"background-color:lightgrey\">4</td><td style=\"background-color:cyan\">Percentage change period on period</td><td style=\"background-color:#99ff99\"></td><td style=\"background-color:#99ff99\"></td><td style=\"background-color:#99ff99\"></td><td style=\"background-color:#99ff99\"></td><td style=\"background-color:#99ff99\"></td><td style=\"background-color:#99ff99\"></td><td style=\"background-color:#99ff99\"></td></tr>\n",
       "<tr><td style=\"background-color:lightgrey\">5</td><td style=\"background-color:cyan\">Time period</td><td style=\"background-color:cyan\">Public new housing</td><td style=\"background-color:cyan\">Private new housing</td><td style=\"background-color:cyan\">Total new housing</td><td style=\"background-color:cyan\">Infrastructure new work</td><td style=\"background-color:cyan\">Public other new work</td><td style=\"background-color:cyan\">Private industrial new work</td><td style=\"background-color:cyan\">Private commercial new work</td></tr>\n",
       "<tr><td style=\"background-color:lightgrey\">6</td><td style=\"background-color:cyan\">Annual dataset identifier code</td><td style=\"background-color:cyan\">MV5H</td><td style=\"background-color:cyan\">MV5I</td><td style=\"background-color:cyan\">MVM3</td><td style=\"background-color:cyan\">MV5J</td><td style=\"background-color:cyan\">MV5K</td><td style=\"background-color:cyan\">MV5L</td><td style=\"background-color:cyan\">MV5M</td></tr>\n",
       "<tr><td style=\"background-color:lightgrey\">7</td><td style=\"background-color:cyan\">Quarterly dataset identifier code</td><td style=\"background-color:cyan\">MV54</td><td style=\"background-color:cyan\">MV55</td><td style=\"background-color:cyan\">MVM7</td><td style=\"background-color:cyan\">MV56</td><td style=\"background-color:cyan\">MV57</td><td style=\"background-color:cyan\">MV58</td><td style=\"background-color:cyan\">MV59</td></tr>\n",
       "<tr><td style=\"background-color:lightgrey\">8</td><td style=\"background-color:cyan\">Monthly dataset identifier code</td><td style=\"background-color:cyan\">MV4O</td><td style=\"background-color:cyan\">MV4P</td><td style=\"background-color:cyan\">MVM2</td><td style=\"background-color:cyan\">MV4Q</td><td style=\"background-color:cyan\">MV4R</td><td style=\"background-color:cyan\">MV4S</td><td style=\"background-color:cyan\">MV4T</td></tr>\n",
       "<tr><td style=\"background-color:lightgrey\">9</td><td style=\"background-color:cyan\">1998</td><td style=\"background-color:cyan\">-19</td><td style=\"background-color:cyan\">1</td><td style=\"background-color:cyan\">-1.2</td><td style=\"background-color:cyan\">-2.8</td><td style=\"background-color:cyan\">5.4</td><td style=\"background-color:cyan\">1.9</td><td style=\"background-color:cyan\">8.4</td></tr>\n",
       "<tr><td style=\"background-color:lightgrey\">10</td><td style=\"background-color:cyan\">1999</td><td style=\"background-color:cyan\">-13.3</td><td style=\"background-color:cyan\">-10</td><td style=\"background-color:cyan\">-10.3</td><td style=\"background-color:cyan\">-2.8</td><td style=\"background-color:cyan\">12.6</td><td style=\"background-color:cyan\">3.2</td><td style=\"background-color:cyan\">12</td></tr>\n",
       "\n",
       "                </table>\n",
       "            </body>\n",
       "            <br>\n",
       "        </html>\n",
       "    "
      ],
      "text/plain": [
       "<IPython.core.display.HTML object>"
      ]
     },
     "metadata": {},
     "output_type": "display_data"
    }
   ],
   "source": [
    "from typing import List\n",
    "from datachef import acquire\n",
    "from datachef.selection import XlsxSelectable\n",
    "\n",
    "tables: List[XlsxSelectable] = acquire.xlsx.http(\"https://github.com/mikeAdamss/datachef/raw/main/tests/fixtures/xlsx/ons-oic.xlsx\")\n",
    "table = tables[7]\n",
    "\n",
    "non_blank_cells = table.is_not_blank().label_as(\"Non Blank Cells\")\n",
    "blank_cells = table.is_blank().label_as(\"Blank Cells\")\n",
    "\n",
    "preview(non_blank_cells, blank_cells, bounded=\"A4:H10\")"
   ]
  },
  {
   "attachments": {},
   "cell_type": "markdown",
   "metadata": {},
   "source": [
    "## Handling Whitespace In Blanks\n",
    "\n",
    "The default behaviour for both `is_blank()` and `is_not_blank()` is to treat cells that contain only whitespace as blank.\n",
    "\n",
    "If you need to change this behaviour (if you want to treat a cell containing only space and/or tabs as not blank) you can pass the keyword `disregard_whitespace=False` into either method.\n",
    "\n",
    "i.e\n",
    "\n",
    "```\n",
    "is_blank(disregard_whitespace=False)\n",
    "```\n",
    "\n",
    "and\n",
    "\n",
    "```\n",
    "is_not_blank(disregard_whitespace=False)\n",
    "```"
   ]
  },
  {
   "attachments": {},
   "cell_type": "markdown",
   "metadata": {},
   "source": [
    "## Lone Value\n",
    "\n",
    "`.lone_value()` asserts that a selection contains a single cell and if so returns the value contained in that cell.\n",
    "\n",
    "As an example:"
   ]
  },
  {
   "cell_type": "code",
   "execution_count": 4,
   "metadata": {},
   "outputs": [
    {
     "name": "stdout",
     "output_type": "stream",
     "text": [
      "Public new housing\n"
     ]
    }
   ],
   "source": [
    "from typing import List\n",
    "from datachef import acquire\n",
    "from datachef.selection import XlsxSelectable\n",
    "\n",
    "tables: List[XlsxSelectable] = acquire.xlsx.http(\"https://github.com/mikeAdamss/datachef/raw/main/tests/fixtures/xlsx/ons-oic.xlsx\")\n",
    "table = tables[7]\n",
    "\n",
    "print(table.excel_ref(\"B5\").lone_value())"
   ]
  },
  {
   "cell_type": "code",
   "execution_count": null,
   "metadata": {},
   "outputs": [],
   "source": []
  }
 ],
 "metadata": {
  "kernelspec": {
   "display_name": "datachef-hNSMaw3h-py3.9",
   "language": "python",
   "name": "python3"
  },
  "language_info": {
   "codemirror_mode": {
    "name": "ipython",
    "version": 3
   },
   "file_extension": ".py",
   "mimetype": "text/x-python",
   "name": "python",
   "nbconvert_exporter": "python",
   "pygments_lexer": "ipython3",
   "version": "3.9.7"
  },
  "orig_nbformat": 4
 },
 "nbformat": 4,
 "nbformat_minor": 2
}
