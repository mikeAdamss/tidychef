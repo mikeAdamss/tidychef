{
 "cells": [
  {
   "attachments": {},
   "cell_type": "markdown",
   "metadata": {},
   "source": [
    "# Acquire\n",
    "\n",
    "The acquire module is how data is loaded into datachef.\n",
    "\n",
    "The acquire module uses dot notation to specify format and origin (local vs http etc).\n",
    "\n",
    "Simple examples for common tabular data formats follow.\n",
    "\n",
    "| <span style=\"color:green\">Note - We're using excel style cell references for previews throughout these examples. This functionality will be explained in the _Preview_ page of this documentation.</span>|\n",
    "|-----------------------------------------|"
   ]
  },
  {
   "attachments": {},
   "cell_type": "markdown",
   "metadata": {},
   "source": [
    "## CSV Data From Local\n",
    "\n",
    "Creating a single selectable table-like object from a local csv file.\n",
    "\n",
    "You can download a copy of the example data being used [here](\"https://raw.githubusercontent.com/mikeAdamss/datachef/main/tests/fixtures/csv/bands-wide.csv\")."
   ]
  },
  {
   "cell_type": "code",
   "execution_count": 31,
   "metadata": {},
   "outputs": [
    {
     "data": {
      "text/html": [
       "\n",
       "    <html>\n",
       "        \n",
       "    <style>\n",
       "    table, th, td {\n",
       "        border: 1px solid;\n",
       "    }\n",
       "\n",
       "    table {\n",
       "        border-collapse: collapse;\n",
       "    }\n",
       "\n",
       "    td {\n",
       "        align: center;\n",
       "        border: 1px  black solid !important;\n",
       "        color: black !important;\n",
       "    }\n",
       "\n",
       "    th, td {\n",
       "        padding: 5px;\n",
       "    }\n",
       "\n",
       "    </style>\n",
       "    \n",
       "            <table>\n",
       "                \n",
       "            </table>\n",
       "\n",
       "            <body>\n",
       "                <h2>Unnamed Table</h2>\n",
       "                <table>\n",
       "                    <tr><td style=\"background-color:lightgrey\"></td><td style=\"background-color:lightgrey\">A</td><td style=\"background-color:lightgrey\">B</td><td style=\"background-color:lightgrey\">C</td><td style=\"background-color:lightgrey\">D</td><td style=\"background-color:lightgrey\">E</td><td style=\"background-color:lightgrey\">F</td><td style=\"background-color:lightgrey\">G</td><td style=\"background-color:lightgrey\">H</td><td style=\"background-color:lightgrey\">I</td><td style=\"background-color:lightgrey\">J</td><td style=\"background-color:lightgrey\">K</td></tr>\n",
       "<tr><td style=\"background-color:lightgrey\">1</td><td style=\"background-color:white\"></td><td style=\"background-color:white\"></td><td style=\"background-color:white\"></td><td style=\"background-color:white\"></td><td style=\"background-color:white\"></td><td style=\"background-color:white\"></td><td style=\"background-color:white\"></td><td style=\"background-color:white\"></td><td style=\"background-color:white\"></td><td style=\"background-color:white\"></td><td style=\"background-color:white\"></td></tr>\n",
       "<tr><td style=\"background-color:lightgrey\">2</td><td style=\"background-color:white\"></td><td style=\"background-color:white\"></td><td style=\"background-color:white\">Houses</td><td style=\"background-color:white\">Cars</td><td style=\"background-color:white\">Boats</td><td style=\"background-color:white\"></td><td style=\"background-color:white\"></td><td style=\"background-color:white\"></td><td style=\"background-color:white\">Houses</td><td style=\"background-color:white\">Cars</td><td style=\"background-color:white\">Boats</td></tr>\n",
       "<tr><td style=\"background-color:lightgrey\">3</td><td style=\"background-color:white\">Beatles</td><td style=\"background-color:white\"></td><td style=\"background-color:white\"></td><td style=\"background-color:white\"></td><td style=\"background-color:white\"></td><td style=\"background-color:white\"></td><td style=\"background-color:white\">Rolling Stones</td><td style=\"background-color:white\"></td><td style=\"background-color:white\"></td><td style=\"background-color:white\"></td><td style=\"background-color:white\"></td></tr>\n",
       "<tr><td style=\"background-color:lightgrey\">4</td><td style=\"background-color:white\"></td><td style=\"background-color:white\">John</td><td style=\"background-color:white\">1</td><td style=\"background-color:white\">5</td><td style=\"background-color:white\">9</td><td style=\"background-color:white\"></td><td style=\"background-color:white\"></td><td style=\"background-color:white\">Keith</td><td style=\"background-color:white\">2</td><td style=\"background-color:white\">6</td><td style=\"background-color:white\">10</td></tr>\n",
       "<tr><td style=\"background-color:lightgrey\">5</td><td style=\"background-color:white\"></td><td style=\"background-color:white\">Paul</td><td style=\"background-color:white\">2</td><td style=\"background-color:white\">6</td><td style=\"background-color:white\">10</td><td style=\"background-color:white\"></td><td style=\"background-color:white\"></td><td style=\"background-color:white\">Mick</td><td style=\"background-color:white\">3</td><td style=\"background-color:white\">7</td><td style=\"background-color:white\">11</td></tr>\n",
       "<tr><td style=\"background-color:lightgrey\">6</td><td style=\"background-color:white\"></td><td style=\"background-color:white\">George</td><td style=\"background-color:white\">2</td><td style=\"background-color:white\">7</td><td style=\"background-color:white\">11</td><td style=\"background-color:white\"></td><td style=\"background-color:white\"></td><td style=\"background-color:white\">Charlie</td><td style=\"background-color:white\">3</td><td style=\"background-color:white\">8</td><td style=\"background-color:white\">12</td></tr>\n",
       "<tr><td style=\"background-color:lightgrey\">7</td><td style=\"background-color:white\"></td><td style=\"background-color:white\">Ringo</td><td style=\"background-color:white\">4</td><td style=\"background-color:white\">8</td><td style=\"background-color:white\">12</td><td style=\"background-color:white\"></td><td style=\"background-color:white\"></td><td style=\"background-color:white\">Ronnie</td><td style=\"background-color:white\">5</td><td style=\"background-color:white\">9</td><td style=\"background-color:white\">13</td></tr>\n",
       "<tr><td style=\"background-color:lightgrey\">8</td><td style=\"background-color:white\"></td><td style=\"background-color:white\"></td><td style=\"background-color:white\"></td><td style=\"background-color:white\"></td><td style=\"background-color:white\"></td><td style=\"background-color:white\"></td><td style=\"background-color:white\"></td><td style=\"background-color:white\"></td><td style=\"background-color:white\"></td><td style=\"background-color:white\"></td><td style=\"background-color:white\"></td></tr>\n",
       "\n",
       "                </table>\n",
       "            </body>\n",
       "            <br>\n",
       "        </html>\n",
       "    "
      ],
      "text/plain": [
       "<IPython.core.display.HTML object>"
      ]
     },
     "metadata": {},
     "output_type": "display_data"
    }
   ],
   "source": [
    "from datachef import acquire, preview\n",
    "from datachef.selection import CsvSelectable\n",
    "\n",
    "# Argument is the location of any csv file on your machine\n",
    "# This can be a string or a python Path object.\n",
    "table: CsvSelectable = acquire.csv.local(\"../../tests/fixtures/csv/bands-wide.csv\")\n",
    "preview(table)"
   ]
  },
  {
   "attachments": {},
   "cell_type": "markdown",
   "metadata": {},
   "source": [
    "## CSV Data from Http(s)\n",
    "\n",
    "You can also load a csv via http as per the following example:"
   ]
  },
  {
   "cell_type": "code",
   "execution_count": 32,
   "metadata": {},
   "outputs": [
    {
     "data": {
      "text/html": [
       "\n",
       "    <html>\n",
       "        \n",
       "    <style>\n",
       "    table, th, td {\n",
       "        border: 1px solid;\n",
       "    }\n",
       "\n",
       "    table {\n",
       "        border-collapse: collapse;\n",
       "    }\n",
       "\n",
       "    td {\n",
       "        align: center;\n",
       "        border: 1px  black solid !important;\n",
       "        color: black !important;\n",
       "    }\n",
       "\n",
       "    th, td {\n",
       "        padding: 5px;\n",
       "    }\n",
       "\n",
       "    </style>\n",
       "    \n",
       "            <table>\n",
       "                \n",
       "            </table>\n",
       "\n",
       "            <body>\n",
       "                <h2>Unnamed Table</h2>\n",
       "                <table>\n",
       "                    <tr><td style=\"background-color:lightgrey\"></td><td style=\"background-color:lightgrey\">A</td><td style=\"background-color:lightgrey\">B</td><td style=\"background-color:lightgrey\">C</td><td style=\"background-color:lightgrey\">D</td><td style=\"background-color:lightgrey\">E</td><td style=\"background-color:lightgrey\">F</td><td style=\"background-color:lightgrey\">G</td><td style=\"background-color:lightgrey\">H</td><td style=\"background-color:lightgrey\">I</td><td style=\"background-color:lightgrey\">J</td><td style=\"background-color:lightgrey\">K</td></tr>\n",
       "<tr><td style=\"background-color:lightgrey\">1</td><td style=\"background-color:white\"></td><td style=\"background-color:white\"></td><td style=\"background-color:white\"></td><td style=\"background-color:white\"></td><td style=\"background-color:white\"></td><td style=\"background-color:white\"></td><td style=\"background-color:white\"></td><td style=\"background-color:white\"></td><td style=\"background-color:white\"></td><td style=\"background-color:white\"></td><td style=\"background-color:white\"></td></tr>\n",
       "<tr><td style=\"background-color:lightgrey\">2</td><td style=\"background-color:white\"></td><td style=\"background-color:white\"></td><td style=\"background-color:white\">Houses</td><td style=\"background-color:white\">Cars</td><td style=\"background-color:white\">Boats</td><td style=\"background-color:white\"></td><td style=\"background-color:white\"></td><td style=\"background-color:white\"></td><td style=\"background-color:white\">Houses</td><td style=\"background-color:white\">Cars</td><td style=\"background-color:white\">Boats</td></tr>\n",
       "<tr><td style=\"background-color:lightgrey\">3</td><td style=\"background-color:white\">Beatles</td><td style=\"background-color:white\"></td><td style=\"background-color:white\"></td><td style=\"background-color:white\"></td><td style=\"background-color:white\"></td><td style=\"background-color:white\"></td><td style=\"background-color:white\">Rolling Stones</td><td style=\"background-color:white\"></td><td style=\"background-color:white\"></td><td style=\"background-color:white\"></td><td style=\"background-color:white\"></td></tr>\n",
       "<tr><td style=\"background-color:lightgrey\">4</td><td style=\"background-color:white\"></td><td style=\"background-color:white\">John</td><td style=\"background-color:white\">1</td><td style=\"background-color:white\">5</td><td style=\"background-color:white\">9</td><td style=\"background-color:white\"></td><td style=\"background-color:white\"></td><td style=\"background-color:white\">Keith</td><td style=\"background-color:white\">2</td><td style=\"background-color:white\">6</td><td style=\"background-color:white\">10</td></tr>\n",
       "<tr><td style=\"background-color:lightgrey\">5</td><td style=\"background-color:white\"></td><td style=\"background-color:white\">Paul</td><td style=\"background-color:white\">2</td><td style=\"background-color:white\">6</td><td style=\"background-color:white\">10</td><td style=\"background-color:white\"></td><td style=\"background-color:white\"></td><td style=\"background-color:white\">Mick</td><td style=\"background-color:white\">3</td><td style=\"background-color:white\">7</td><td style=\"background-color:white\">11</td></tr>\n",
       "<tr><td style=\"background-color:lightgrey\">6</td><td style=\"background-color:white\"></td><td style=\"background-color:white\">George</td><td style=\"background-color:white\">2</td><td style=\"background-color:white\">7</td><td style=\"background-color:white\">11</td><td style=\"background-color:white\"></td><td style=\"background-color:white\"></td><td style=\"background-color:white\">Charlie</td><td style=\"background-color:white\">3</td><td style=\"background-color:white\">8</td><td style=\"background-color:white\">12</td></tr>\n",
       "<tr><td style=\"background-color:lightgrey\">7</td><td style=\"background-color:white\"></td><td style=\"background-color:white\">Ringo</td><td style=\"background-color:white\">4</td><td style=\"background-color:white\">8</td><td style=\"background-color:white\">12</td><td style=\"background-color:white\"></td><td style=\"background-color:white\"></td><td style=\"background-color:white\">Ronnie</td><td style=\"background-color:white\">5</td><td style=\"background-color:white\">9</td><td style=\"background-color:white\">13</td></tr>\n",
       "<tr><td style=\"background-color:lightgrey\">8</td><td style=\"background-color:white\"></td><td style=\"background-color:white\"></td><td style=\"background-color:white\"></td><td style=\"background-color:white\"></td><td style=\"background-color:white\"></td><td style=\"background-color:white\"></td><td style=\"background-color:white\"></td><td style=\"background-color:white\"></td><td style=\"background-color:white\"></td><td style=\"background-color:white\"></td><td style=\"background-color:white\"></td></tr>\n",
       "\n",
       "                </table>\n",
       "            </body>\n",
       "            <br>\n",
       "        </html>\n",
       "    "
      ],
      "text/plain": [
       "<IPython.core.display.HTML object>"
      ]
     },
     "metadata": {},
     "output_type": "display_data"
    }
   ],
   "source": [
    "from datachef import acquire, preview\n",
    "from datachef.selection import CsvSelectable\n",
    "\n",
    "# Argument is any csv file accessible via http or https\n",
    "table: CsvSelectable = acquire.csv.http(\"https://raw.githubusercontent.com/mikeAdamss/datachef/main/tests/fixtures/csv/bands-wide.csv\")\n",
    "preview(table)"
   ]
  },
  {
   "attachments": {},
   "cell_type": "markdown",
   "metadata": {},
   "source": [
    "## Customising Csv Loads\n",
    "\n",
    "Both the local and http csv loaders are wrappers around [the csv reader from the standard python library csv package](https://docs.python.org/3/library/csv.html) and propogate keyword arguments.\n",
    "\n",
    "This means you can pass any keyword arguments through to `acquire.csv.local()` and `acquire.csv.http()` that you could pass to the `csv.reader()` method.\n",
    "\n",
    "As an example here we are loading a csv file using a `|` delimiter in place of commas. [This is the example data we're using](https://raw.githubusercontent.com/mikeAdamss/datachef/main/tests/fixtures/csv/pipe-delimited.csv)."
   ]
  },
  {
   "cell_type": "code",
   "execution_count": 33,
   "metadata": {},
   "outputs": [
    {
     "data": {
      "text/html": [
       "\n",
       "    <html>\n",
       "        \n",
       "    <style>\n",
       "    table, th, td {\n",
       "        border: 1px solid;\n",
       "    }\n",
       "\n",
       "    table {\n",
       "        border-collapse: collapse;\n",
       "    }\n",
       "\n",
       "    td {\n",
       "        align: center;\n",
       "        border: 1px  black solid !important;\n",
       "        color: black !important;\n",
       "    }\n",
       "\n",
       "    th, td {\n",
       "        padding: 5px;\n",
       "    }\n",
       "\n",
       "    </style>\n",
       "    \n",
       "            <table>\n",
       "                \n",
       "            </table>\n",
       "\n",
       "            <body>\n",
       "                <h2>Unnamed Table</h2>\n",
       "                <table>\n",
       "                    <tr><td style=\"background-color:lightgrey\"></td><td style=\"background-color:lightgrey\">A</td><td style=\"background-color:lightgrey\">B</td><td style=\"background-color:lightgrey\">C</td></tr>\n",
       "<tr><td style=\"background-color:lightgrey\">1</td><td style=\"background-color:white\">Age</td><td style=\"background-color:white\">Male</td><td style=\"background-color:white\">Female</td></tr>\n",
       "<tr><td style=\"background-color:lightgrey\">2</td><td style=\"background-color:white\">1</td><td style=\"background-color:white\">3</td><td style=\"background-color:white\">9</td></tr>\n",
       "<tr><td style=\"background-color:lightgrey\">3</td><td style=\"background-color:white\">14</td><td style=\"background-color:white\">54</td><td style=\"background-color:white\">12</td></tr>\n",
       "<tr><td style=\"background-color:lightgrey\">4</td><td style=\"background-color:white\">9</td><td style=\"background-color:white\">0</td><td style=\"background-color:white\">3</td></tr>\n",
       "\n",
       "                </table>\n",
       "            </body>\n",
       "            <br>\n",
       "        </html>\n",
       "    "
      ],
      "text/plain": [
       "<IPython.core.display.HTML object>"
      ]
     },
     "metadata": {},
     "output_type": "display_data"
    }
   ],
   "source": [
    "from datachef import acquire, preview\n",
    "from datachef.selection import CsvSelectable\n",
    "\n",
    "# Lets specify a different delimiter\n",
    "table: CsvSelectable = acquire.csv.local(\"../../tests/fixtures/csv/pipe-delimited.csv\", delimiter=\"|\")\n",
    "preview(table)"
   ]
  },
  {
   "attachments": {},
   "cell_type": "markdown",
   "metadata": {},
   "source": [
    "## Loading Xlsx Data"
   ]
  },
  {
   "attachments": {},
   "cell_type": "markdown",
   "metadata": {},
   "source": [
    "Creating a **list** of selectable table-like objects from a local xlsx file.\n",
    "\n",
    "You can download the example xlsx data being used [here](https://github.com/mikeAdamss/datachef/raw/main/tests/fixtures/xlsx/ons-oic.xlsx).\n",
    "\n",
    "| <span style=\"color:green\">Note - Some of the following examples are quite big tables so we're using the `preview()` keyword `bounded=` to limit the size of the previews. Again this functionality will be explained in detail in the _Preview_ page of this documentation.</span>|\n",
    "|-----------------------------------------|"
   ]
  },
  {
   "attachments": {},
   "cell_type": "markdown",
   "metadata": {},
   "source": [
    "## Xlsx Data From Local"
   ]
  },
  {
   "cell_type": "code",
   "execution_count": 34,
   "metadata": {},
   "outputs": [
    {
     "data": {
      "text/html": [
       "\n",
       "    <html>\n",
       "        \n",
       "    <style>\n",
       "    table, th, td {\n",
       "        border: 1px solid;\n",
       "    }\n",
       "\n",
       "    table {\n",
       "        border-collapse: collapse;\n",
       "    }\n",
       "\n",
       "    td {\n",
       "        align: center;\n",
       "        border: 1px  black solid !important;\n",
       "        color: black !important;\n",
       "    }\n",
       "\n",
       "    th, td {\n",
       "        padding: 5px;\n",
       "    }\n",
       "\n",
       "    </style>\n",
       "    \n",
       "            <table>\n",
       "                \n",
       "            </table>\n",
       "\n",
       "            <body>\n",
       "                <h2>Cover Sheet</h2>\n",
       "                <table>\n",
       "                    <tr><td style=\"background-color:lightgrey\"></td><td style=\"background-color:lightgrey\">A</td><td style=\"background-color:lightgrey\">B</td></tr>\n",
       "<tr><td style=\"background-color:lightgrey\">1</td><td style=\"background-color:white\">Output in the construction industry reference tables April 2023</td><td style=\"background-color:white\"></td></tr>\n",
       "<tr><td style=\"background-color:lightgrey\">2</td><td style=\"background-color:white\">This spreadsheet contains the data tables published alongside the Office for National Statistics' Construction output in Great Britain bulletin for April 2023 . We have edited these data tables and the accompanying cover sheet, table of contents and notes worksheet to meet legal accessibility regulations</td><td style=\"background-color:white\"></td></tr>\n",
       "<tr><td style=\"background-color:lightgrey\">3</td><td style=\"background-color:white\">Coverage:</td><td style=\"background-color:white\">Great Britain</td></tr>\n",
       "<tr><td style=\"background-color:lightgrey\">4</td><td style=\"background-color:white\">Released:</td><td style=\"background-color:white\">14 June 2023</td></tr>\n",
       "\n",
       "                </table>\n",
       "            </body>\n",
       "            <br>\n",
       "        </html>\n",
       "    "
      ],
      "text/plain": [
       "<IPython.core.display.HTML object>"
      ]
     },
     "metadata": {},
     "output_type": "display_data"
    }
   ],
   "source": [
    "from typing import List\n",
    "from datachef import acquire, preview\n",
    "from datachef.selection import XlsxSelectable\n",
    "\n",
    "# Note: tables (note plural) as its now a list of tabulated data sources\n",
    "tables: List[XlsxSelectable] = acquire.xlsx.local(\"../../tests/fixtures/xlsx/ons-oic.xlsx\")\n",
    "preview(tables[0], bounded=\"A1:B4\")"
   ]
  },
  {
   "attachments": {},
   "cell_type": "markdown",
   "metadata": {},
   "source": [
    "Rather than using the rather clunky `tables[0]` syntax, we can also pass a `tables=` keyword as per the below. "
   ]
  },
  {
   "cell_type": "code",
   "execution_count": 35,
   "metadata": {},
   "outputs": [
    {
     "data": {
      "text/html": [
       "\n",
       "    <html>\n",
       "        \n",
       "    <style>\n",
       "    table, th, td {\n",
       "        border: 1px solid;\n",
       "    }\n",
       "\n",
       "    table {\n",
       "        border-collapse: collapse;\n",
       "    }\n",
       "\n",
       "    td {\n",
       "        align: center;\n",
       "        border: 1px  black solid !important;\n",
       "        color: black !important;\n",
       "    }\n",
       "\n",
       "    th, td {\n",
       "        padding: 5px;\n",
       "    }\n",
       "\n",
       "    </style>\n",
       "    \n",
       "            <table>\n",
       "                \n",
       "            </table>\n",
       "\n",
       "            <body>\n",
       "                <h2>Cover Sheet</h2>\n",
       "                <table>\n",
       "                    <tr><td style=\"background-color:lightgrey\"></td><td style=\"background-color:lightgrey\">A</td><td style=\"background-color:lightgrey\">B</td></tr>\n",
       "<tr><td style=\"background-color:lightgrey\">1</td><td style=\"background-color:white\">Output in the construction industry reference tables April 2023</td><td style=\"background-color:white\"></td></tr>\n",
       "<tr><td style=\"background-color:lightgrey\">2</td><td style=\"background-color:white\">This spreadsheet contains the data tables published alongside the Office for National Statistics' Construction output in Great Britain bulletin for April 2023 . We have edited these data tables and the accompanying cover sheet, table of contents and notes worksheet to meet legal accessibility regulations</td><td style=\"background-color:white\"></td></tr>\n",
       "<tr><td style=\"background-color:lightgrey\">3</td><td style=\"background-color:white\">Coverage:</td><td style=\"background-color:white\">Great Britain</td></tr>\n",
       "<tr><td style=\"background-color:lightgrey\">4</td><td style=\"background-color:white\">Released:</td><td style=\"background-color:white\">14 June 2023</td></tr>\n",
       "\n",
       "                </table>\n",
       "            </body>\n",
       "            <br>\n",
       "        </html>\n",
       "    "
      ],
      "text/plain": [
       "<IPython.core.display.HTML object>"
      ]
     },
     "metadata": {},
     "output_type": "display_data"
    }
   ],
   "source": [
    "from datachef import acquire, preview\n",
    "from datachef.selection import XlsxSelectable\n",
    "\n",
    "# Note: tables (note plural) as its now a list of tabulated data sources\n",
    "table: XlsxSelectable = acquire.xlsx.local(\"../../tests/fixtures/xlsx/ons-oic.xlsx\", tables=\"Cover Sheet\")\n",
    "preview(table, bounded=\"A1:B4\")"
   ]
  },
  {
   "attachments": {},
   "cell_type": "markdown",
   "metadata": {},
   "source": [
    "## Xlsx Data From Http(s)"
   ]
  },
  {
   "cell_type": "code",
   "execution_count": 36,
   "metadata": {},
   "outputs": [
    {
     "data": {
      "text/html": [
       "\n",
       "    <html>\n",
       "        \n",
       "    <style>\n",
       "    table, th, td {\n",
       "        border: 1px solid;\n",
       "    }\n",
       "\n",
       "    table {\n",
       "        border-collapse: collapse;\n",
       "    }\n",
       "\n",
       "    td {\n",
       "        align: center;\n",
       "        border: 1px  black solid !important;\n",
       "        color: black !important;\n",
       "    }\n",
       "\n",
       "    th, td {\n",
       "        padding: 5px;\n",
       "    }\n",
       "\n",
       "    </style>\n",
       "    \n",
       "            <table>\n",
       "                \n",
       "            </table>\n",
       "\n",
       "            <body>\n",
       "                <h2>Cover Sheet</h2>\n",
       "                <table>\n",
       "                    <tr><td style=\"background-color:lightgrey\"></td><td style=\"background-color:lightgrey\">A</td><td style=\"background-color:lightgrey\">B</td></tr>\n",
       "<tr><td style=\"background-color:lightgrey\">1</td><td style=\"background-color:white\">Output in the construction industry reference tables April 2023</td><td style=\"background-color:white\"></td></tr>\n",
       "<tr><td style=\"background-color:lightgrey\">2</td><td style=\"background-color:white\">This spreadsheet contains the data tables published alongside the Office for National Statistics' Construction output in Great Britain bulletin for April 2023 . We have edited these data tables and the accompanying cover sheet, table of contents and notes worksheet to meet legal accessibility regulations</td><td style=\"background-color:white\"></td></tr>\n",
       "<tr><td style=\"background-color:lightgrey\">3</td><td style=\"background-color:white\">Coverage:</td><td style=\"background-color:white\">Great Britain</td></tr>\n",
       "<tr><td style=\"background-color:lightgrey\">4</td><td style=\"background-color:white\">Released:</td><td style=\"background-color:white\">14 June 2023</td></tr>\n",
       "\n",
       "                </table>\n",
       "            </body>\n",
       "            <br>\n",
       "        </html>\n",
       "    "
      ],
      "text/plain": [
       "<IPython.core.display.HTML object>"
      ]
     },
     "metadata": {},
     "output_type": "display_data"
    }
   ],
   "source": [
    "from datachef import acquire, preview\n",
    "from datachef.selection import XlsxSelectable\n",
    "\n",
    "# Note: tables (note plural) as its now a list of tabulated data sources\n",
    "table: XlsxSelectable = acquire.xlsx.http(\"https://github.com/mikeAdamss/datachef/raw/main/tests/fixtures/xlsx/ons-oic.xlsx\", tables=\"Cover Sheet\")\n",
    "preview(table, bounded=\"A1:B4\")"
   ]
  },
  {
   "attachments": {},
   "cell_type": "markdown",
   "metadata": {},
   "source": [
    "## Loading Xls Data"
   ]
  },
  {
   "attachments": {},
   "cell_type": "markdown",
   "metadata": {},
   "source": [
    "## Xls Data From Local\n",
    "\n",
    "You can download the example data being used [here](https://github.com/mikeAdamss/datachef/raw/main/tests/fixtures/xls/sample.xls)."
   ]
  },
  {
   "cell_type": "code",
   "execution_count": 37,
   "metadata": {},
   "outputs": [
    {
     "data": {
      "text/html": [
       "\n",
       "    <html>\n",
       "        \n",
       "    <style>\n",
       "    table, th, td {\n",
       "        border: 1px solid;\n",
       "    }\n",
       "\n",
       "    table {\n",
       "        border-collapse: collapse;\n",
       "    }\n",
       "\n",
       "    td {\n",
       "        align: center;\n",
       "        border: 1px  black solid !important;\n",
       "        color: black !important;\n",
       "    }\n",
       "\n",
       "    th, td {\n",
       "        padding: 5px;\n",
       "    }\n",
       "\n",
       "    </style>\n",
       "    \n",
       "            <table>\n",
       "                \n",
       "            </table>\n",
       "\n",
       "            <body>\n",
       "                <h2>SalesOrders</h2>\n",
       "                <table>\n",
       "                    <tr><td style=\"background-color:lightgrey\"></td><td style=\"background-color:lightgrey\">A</td><td style=\"background-color:lightgrey\">B</td><td style=\"background-color:lightgrey\">C</td><td style=\"background-color:lightgrey\">D</td><td style=\"background-color:lightgrey\">E</td><td style=\"background-color:lightgrey\">F</td><td style=\"background-color:lightgrey\">G</td></tr>\n",
       "<tr><td style=\"background-color:lightgrey\">1</td><td style=\"background-color:white\">OrderDate</td><td style=\"background-color:white\">Region</td><td style=\"background-color:white\">Rep</td><td style=\"background-color:white\">Item</td><td style=\"background-color:white\">Units</td><td style=\"background-color:white\">Unit Cost</td><td style=\"background-color:white\">Total</td></tr>\n",
       "<tr><td style=\"background-color:lightgrey\">2</td><td style=\"background-color:white\">44202.0</td><td style=\"background-color:white\">East</td><td style=\"background-color:white\">Jones</td><td style=\"background-color:white\">Pencil</td><td style=\"background-color:white\">95.0</td><td style=\"background-color:white\">1.99</td><td style=\"background-color:white\">189.05</td></tr>\n",
       "<tr><td style=\"background-color:lightgrey\">3</td><td style=\"background-color:white\">44219.0</td><td style=\"background-color:white\">Central</td><td style=\"background-color:white\">Kivell</td><td style=\"background-color:white\">Binder</td><td style=\"background-color:white\">50.0</td><td style=\"background-color:white\">19.99</td><td style=\"background-color:white\">999.4999999999999</td></tr>\n",
       "<tr><td style=\"background-color:lightgrey\">4</td><td style=\"background-color:white\">44236.0</td><td style=\"background-color:white\">Central</td><td style=\"background-color:white\">Jardine</td><td style=\"background-color:white\">Pencil</td><td style=\"background-color:white\">36.0</td><td style=\"background-color:white\">4.99</td><td style=\"background-color:white\">179.64</td></tr>\n",
       "<tr><td style=\"background-color:lightgrey\">5</td><td style=\"background-color:white\">44253.0</td><td style=\"background-color:white\">Central</td><td style=\"background-color:white\">Gill</td><td style=\"background-color:white\">Pen</td><td style=\"background-color:white\">27.0</td><td style=\"background-color:white\">19.99</td><td style=\"background-color:white\">539.7299999999999</td></tr>\n",
       "<tr><td style=\"background-color:lightgrey\">6</td><td style=\"background-color:white\">44270.0</td><td style=\"background-color:white\">West</td><td style=\"background-color:white\">Sorvino</td><td style=\"background-color:white\">Pencil</td><td style=\"background-color:white\">56.0</td><td style=\"background-color:white\">2.99</td><td style=\"background-color:white\">167.44</td></tr>\n",
       "<tr><td style=\"background-color:lightgrey\">7</td><td style=\"background-color:white\">44287.0</td><td style=\"background-color:white\">East</td><td style=\"background-color:white\">Jones</td><td style=\"background-color:white\">Binder</td><td style=\"background-color:white\">60.0</td><td style=\"background-color:white\">4.99</td><td style=\"background-color:white\">299.40000000000003</td></tr>\n",
       "\n",
       "                </table>\n",
       "            </body>\n",
       "            <br>\n",
       "        </html>\n",
       "    "
      ],
      "text/plain": [
       "<IPython.core.display.HTML object>"
      ]
     },
     "metadata": {},
     "output_type": "display_data"
    }
   ],
   "source": [
    "from datachef import acquire, preview\n",
    "from datachef.selection import XlsSelectable\n",
    "\n",
    "table: XlsSelectable = acquire.xls.local(\"../../tests/fixtures/xls/sample.xls\", tables=\"SalesOrders\")\n",
    "preview(table, bounded=\"A1:G7\")"
   ]
  },
  {
   "attachments": {},
   "cell_type": "markdown",
   "metadata": {},
   "source": [
    "## Xls Data From Http(s)"
   ]
  },
  {
   "cell_type": "code",
   "execution_count": 38,
   "metadata": {},
   "outputs": [
    {
     "data": {
      "text/html": [
       "\n",
       "    <html>\n",
       "        \n",
       "    <style>\n",
       "    table, th, td {\n",
       "        border: 1px solid;\n",
       "    }\n",
       "\n",
       "    table {\n",
       "        border-collapse: collapse;\n",
       "    }\n",
       "\n",
       "    td {\n",
       "        align: center;\n",
       "        border: 1px  black solid !important;\n",
       "        color: black !important;\n",
       "    }\n",
       "\n",
       "    th, td {\n",
       "        padding: 5px;\n",
       "    }\n",
       "\n",
       "    </style>\n",
       "    \n",
       "            <table>\n",
       "                \n",
       "            </table>\n",
       "\n",
       "            <body>\n",
       "                <h2>SalesOrders</h2>\n",
       "                <table>\n",
       "                    <tr><td style=\"background-color:lightgrey\"></td><td style=\"background-color:lightgrey\">A</td><td style=\"background-color:lightgrey\">B</td><td style=\"background-color:lightgrey\">C</td><td style=\"background-color:lightgrey\">D</td><td style=\"background-color:lightgrey\">E</td><td style=\"background-color:lightgrey\">F</td><td style=\"background-color:lightgrey\">G</td></tr>\n",
       "<tr><td style=\"background-color:lightgrey\">1</td><td style=\"background-color:white\">OrderDate</td><td style=\"background-color:white\">Region</td><td style=\"background-color:white\">Rep</td><td style=\"background-color:white\">Item</td><td style=\"background-color:white\">Units</td><td style=\"background-color:white\">Unit Cost</td><td style=\"background-color:white\">Total</td></tr>\n",
       "<tr><td style=\"background-color:lightgrey\">2</td><td style=\"background-color:white\">44202.0</td><td style=\"background-color:white\">East</td><td style=\"background-color:white\">Jones</td><td style=\"background-color:white\">Pencil</td><td style=\"background-color:white\">95.0</td><td style=\"background-color:white\">1.99</td><td style=\"background-color:white\">189.05</td></tr>\n",
       "<tr><td style=\"background-color:lightgrey\">3</td><td style=\"background-color:white\">44219.0</td><td style=\"background-color:white\">Central</td><td style=\"background-color:white\">Kivell</td><td style=\"background-color:white\">Binder</td><td style=\"background-color:white\">50.0</td><td style=\"background-color:white\">19.99</td><td style=\"background-color:white\">999.4999999999999</td></tr>\n",
       "<tr><td style=\"background-color:lightgrey\">4</td><td style=\"background-color:white\">44236.0</td><td style=\"background-color:white\">Central</td><td style=\"background-color:white\">Jardine</td><td style=\"background-color:white\">Pencil</td><td style=\"background-color:white\">36.0</td><td style=\"background-color:white\">4.99</td><td style=\"background-color:white\">179.64</td></tr>\n",
       "<tr><td style=\"background-color:lightgrey\">5</td><td style=\"background-color:white\">44253.0</td><td style=\"background-color:white\">Central</td><td style=\"background-color:white\">Gill</td><td style=\"background-color:white\">Pen</td><td style=\"background-color:white\">27.0</td><td style=\"background-color:white\">19.99</td><td style=\"background-color:white\">539.7299999999999</td></tr>\n",
       "<tr><td style=\"background-color:lightgrey\">6</td><td style=\"background-color:white\">44270.0</td><td style=\"background-color:white\">West</td><td style=\"background-color:white\">Sorvino</td><td style=\"background-color:white\">Pencil</td><td style=\"background-color:white\">56.0</td><td style=\"background-color:white\">2.99</td><td style=\"background-color:white\">167.44</td></tr>\n",
       "<tr><td style=\"background-color:lightgrey\">7</td><td style=\"background-color:white\">44287.0</td><td style=\"background-color:white\">East</td><td style=\"background-color:white\">Jones</td><td style=\"background-color:white\">Binder</td><td style=\"background-color:white\">60.0</td><td style=\"background-color:white\">4.99</td><td style=\"background-color:white\">299.40000000000003</td></tr>\n",
       "\n",
       "                </table>\n",
       "            </body>\n",
       "            <br>\n",
       "        </html>\n",
       "    "
      ],
      "text/plain": [
       "<IPython.core.display.HTML object>"
      ]
     },
     "metadata": {},
     "output_type": "display_data"
    }
   ],
   "source": [
    "from datachef import acquire, preview\n",
    "from datachef.selection import XlsSelectable\n",
    "\n",
    "table: XlsSelectable = acquire.xls.http(\"https://github.com/mikeAdamss/datachef/raw/main/tests/fixtures/xls/sample.xls\", tables=\"SalesOrders\")\n",
    "preview(table, bounded=\"A1:G7\")"
   ]
  },
  {
   "attachments": {},
   "cell_type": "markdown",
   "metadata": {},
   "source": [
    "## A Note On Http(s) Caching\n",
    "\n",
    "All `.http()` methods described in this section use http caching via the python [CacheControl](https://pypi.org/project/CacheControl/) package.\n",
    "\n",
    "This _should_ cache responses and fetch new data only when the last modified date of the data in question has changed (i.e when the data source has been updated).\n",
    "\n",
    "You can toggle this behaviour off as needed by passing `cache=False` into the `.http()` function(s).\n",
    "\n",
    "Example follows:"
   ]
  },
  {
   "cell_type": "code",
   "execution_count": 39,
   "metadata": {},
   "outputs": [
    {
     "data": {
      "text/html": [
       "\n",
       "    <html>\n",
       "        \n",
       "    <style>\n",
       "    table, th, td {\n",
       "        border: 1px solid;\n",
       "    }\n",
       "\n",
       "    table {\n",
       "        border-collapse: collapse;\n",
       "    }\n",
       "\n",
       "    td {\n",
       "        align: center;\n",
       "        border: 1px  black solid !important;\n",
       "        color: black !important;\n",
       "    }\n",
       "\n",
       "    th, td {\n",
       "        padding: 5px;\n",
       "    }\n",
       "\n",
       "    </style>\n",
       "    \n",
       "            <table>\n",
       "                \n",
       "            </table>\n",
       "\n",
       "            <body>\n",
       "                <h2>Unnamed Table</h2>\n",
       "                <table>\n",
       "                    <tr><td style=\"background-color:lightgrey\"></td><td style=\"background-color:lightgrey\">A</td><td style=\"background-color:lightgrey\">B</td><td style=\"background-color:lightgrey\">C</td><td style=\"background-color:lightgrey\">D</td><td style=\"background-color:lightgrey\">E</td><td style=\"background-color:lightgrey\">F</td><td style=\"background-color:lightgrey\">G</td><td style=\"background-color:lightgrey\">H</td><td style=\"background-color:lightgrey\">I</td><td style=\"background-color:lightgrey\">J</td><td style=\"background-color:lightgrey\">K</td></tr>\n",
       "<tr><td style=\"background-color:lightgrey\">1</td><td style=\"background-color:white\"></td><td style=\"background-color:white\"></td><td style=\"background-color:white\"></td><td style=\"background-color:white\"></td><td style=\"background-color:white\"></td><td style=\"background-color:white\"></td><td style=\"background-color:white\"></td><td style=\"background-color:white\"></td><td style=\"background-color:white\"></td><td style=\"background-color:white\"></td><td style=\"background-color:white\"></td></tr>\n",
       "<tr><td style=\"background-color:lightgrey\">2</td><td style=\"background-color:white\"></td><td style=\"background-color:white\"></td><td style=\"background-color:white\">Houses</td><td style=\"background-color:white\">Cars</td><td style=\"background-color:white\">Boats</td><td style=\"background-color:white\"></td><td style=\"background-color:white\"></td><td style=\"background-color:white\"></td><td style=\"background-color:white\">Houses</td><td style=\"background-color:white\">Cars</td><td style=\"background-color:white\">Boats</td></tr>\n",
       "<tr><td style=\"background-color:lightgrey\">3</td><td style=\"background-color:white\">Beatles</td><td style=\"background-color:white\"></td><td style=\"background-color:white\"></td><td style=\"background-color:white\"></td><td style=\"background-color:white\"></td><td style=\"background-color:white\"></td><td style=\"background-color:white\">Rolling Stones</td><td style=\"background-color:white\"></td><td style=\"background-color:white\"></td><td style=\"background-color:white\"></td><td style=\"background-color:white\"></td></tr>\n",
       "<tr><td style=\"background-color:lightgrey\">4</td><td style=\"background-color:white\"></td><td style=\"background-color:white\">John</td><td style=\"background-color:white\">1</td><td style=\"background-color:white\">5</td><td style=\"background-color:white\">9</td><td style=\"background-color:white\"></td><td style=\"background-color:white\"></td><td style=\"background-color:white\">Keith</td><td style=\"background-color:white\">2</td><td style=\"background-color:white\">6</td><td style=\"background-color:white\">10</td></tr>\n",
       "<tr><td style=\"background-color:lightgrey\">5</td><td style=\"background-color:white\"></td><td style=\"background-color:white\">Paul</td><td style=\"background-color:white\">2</td><td style=\"background-color:white\">6</td><td style=\"background-color:white\">10</td><td style=\"background-color:white\"></td><td style=\"background-color:white\"></td><td style=\"background-color:white\">Mick</td><td style=\"background-color:white\">3</td><td style=\"background-color:white\">7</td><td style=\"background-color:white\">11</td></tr>\n",
       "<tr><td style=\"background-color:lightgrey\">6</td><td style=\"background-color:white\"></td><td style=\"background-color:white\">George</td><td style=\"background-color:white\">2</td><td style=\"background-color:white\">7</td><td style=\"background-color:white\">11</td><td style=\"background-color:white\"></td><td style=\"background-color:white\"></td><td style=\"background-color:white\">Charlie</td><td style=\"background-color:white\">3</td><td style=\"background-color:white\">8</td><td style=\"background-color:white\">12</td></tr>\n",
       "<tr><td style=\"background-color:lightgrey\">7</td><td style=\"background-color:white\"></td><td style=\"background-color:white\">Ringo</td><td style=\"background-color:white\">4</td><td style=\"background-color:white\">8</td><td style=\"background-color:white\">12</td><td style=\"background-color:white\"></td><td style=\"background-color:white\"></td><td style=\"background-color:white\">Ronnie</td><td style=\"background-color:white\">5</td><td style=\"background-color:white\">9</td><td style=\"background-color:white\">13</td></tr>\n",
       "<tr><td style=\"background-color:lightgrey\">8</td><td style=\"background-color:white\"></td><td style=\"background-color:white\"></td><td style=\"background-color:white\"></td><td style=\"background-color:white\"></td><td style=\"background-color:white\"></td><td style=\"background-color:white\"></td><td style=\"background-color:white\"></td><td style=\"background-color:white\"></td><td style=\"background-color:white\"></td><td style=\"background-color:white\"></td><td style=\"background-color:white\"></td></tr>\n",
       "\n",
       "                </table>\n",
       "            </body>\n",
       "            <br>\n",
       "        </html>\n",
       "    "
      ],
      "text/plain": [
       "<IPython.core.display.HTML object>"
      ]
     },
     "metadata": {},
     "output_type": "display_data"
    }
   ],
   "source": [
    "from datachef import acquire, preview\n",
    "from datachef.selection import CsvSelectable\n",
    "\n",
    "table: CsvSelectable = acquire.csv.http(\"https://raw.githubusercontent.com/mikeAdamss/datachef/main/tests/fixtures/csv/bands-wide.csv\",\n",
    "                         cache=False)\n",
    "preview(table)"
   ]
  },
  {
   "attachments": {},
   "cell_type": "markdown",
   "metadata": {},
   "source": [
    "## Using tables=\n",
    "\n",
    "Some of you will have wondered why its \"tables\" (plural) not \"table\" singular.\n",
    "\n",
    "It's because the string you pass to tables is a [regular expression](https://regexone.com/).\n",
    "\n",
    "We're _not_ going to go into regular expressions as part of this documentation, but for our purposes just be aware its pattern matching syntax and well worth exploring for anyone working in an ETL role.\n",
    "\n",
    "As a simple example, you can use regular expressions to create an **or** statement with the pipe (`|`) character.\n",
    "\n",
    "The following example shows how you can do just that to select two table from our xlsx source."
   ]
  },
  {
   "cell_type": "code",
   "execution_count": 40,
   "metadata": {},
   "outputs": [
    {
     "name": "stdout",
     "output_type": "stream",
     "text": [
      "Table 1a\n",
      "Table 1b\n"
     ]
    }
   ],
   "source": [
    "from typing import List\n",
    "from datachef import acquire\n",
    "from datachef.selection import XlsxSelectable\n",
    "\n",
    "tables: List[XlsxSelectable] = acquire.xlsx.http(\"https://github.com/mikeAdamss/datachef/raw/main/tests/fixtures/xlsx/ons-oic.xlsx\",\n",
    "                                                 tables=\"Table 1a|Table 1b\")\n",
    "for table in tables:\n",
    "    print(table.name)"
   ]
  },
  {
   "attachments": {},
   "cell_type": "markdown",
   "metadata": {},
   "source": [
    "For many users this ability to only select the tables you want to process will be all that's required, but the _real_ power here is the ability (where needed) to deal with inconsistencies in table naming.\n",
    "\n",
    "This is crude (you can do some very clever things with regular expressions should you chose to explore them) but continuing on from our **or** example lets imagine the following:\n",
    "\n",
    "```\n",
    "tables=\"Table 1a|table 1a|table1a|table 1A|Table 1A|Table1A\"\n",
    "```\n",
    "\n",
    "Which gives your acquire statement a fair degree of additional robustness, as minor changes or mistakes in table naming by the data publisher are accounted for."
   ]
  }
 ],
 "metadata": {
  "kernelspec": {
   "display_name": "Python 3",
   "language": "python",
   "name": "python3"
  },
  "language_info": {
   "codemirror_mode": {
    "name": "ipython",
    "version": 3
   },
   "file_extension": ".py",
   "mimetype": "text/x-python",
   "name": "python",
   "nbconvert_exporter": "python",
   "pygments_lexer": "ipython3",
   "version": "3.9.7"
  },
  "widgets": {
   "application/vnd.jupyter.widget-state+json": {
    "state": {},
    "version_major": 2,
    "version_minor": 0
   }
  }
 },
 "nbformat": 4,
 "nbformat_minor": 4
}
