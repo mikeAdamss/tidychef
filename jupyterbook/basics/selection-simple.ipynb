{
 "cells": [
  {
   "cell_type": "markdown",
   "metadata": {},
   "source": [
    "# Selection: Simple\n",
    "\n",
    "This is our introduction to the basic tidychef cell selection mechanisms."
   ]
  },
  {
   "cell_type": "markdown",
   "metadata": {},
   "source": [
    "## Source Data\n",
    "\n",
    "The data source we're using for these examples is shown below:\n",
    "\n",
    "| <span style=\"color:green\">Note - this particular table has some very verbose headers we don't care about, so we'll be using `bounded=` to remove them from the previews as well as to show just the subset of data we're working with.</span>|\n",
    "|-----------------------------------------|\n",
    "\n",
    "The [full data source can be downloaded here](https://github.com/mikeAdamss/tidychef/raw/main/tests/fixtures/xlsx/ons-oic.xlsx). We'll be using th 8th tab named \"Table 3a\"."
   ]
  },
  {
   "cell_type": "code",
   "execution_count": null,
   "metadata": {},
   "outputs": [],
   "source": [
    "from tidychef import acquire, preview\n",
    "from tidychef.selection import XlsxSelectable\n",
    "\n",
    "table: XlsxSelectable = acquire.xlsx.http(\"https://github.com/mikeAdamss/tidychef/raw/main/tests/fixtures/xlsx/ons-oic.xlsx\", tables=\"Table 3a\")\n",
    "preview(table, bounded=\"A4:H10\")"
   ]
  },
  {
   "cell_type": "markdown",
   "metadata": {},
   "source": [
    "## Row(s), Column(s) & Ranges\n",
    "\n",
    "These are easier to show that tell, so we're going to give quick examples of each of these.\n"
   ]
  },
  {
   "cell_type": "markdown",
   "metadata": {},
   "source": [
    "## Selecting a row\n",
    "\n",
    "Lets just select a row based on its row mumber."
   ]
  },
  {
   "cell_type": "code",
   "execution_count": null,
   "metadata": {},
   "outputs": [],
   "source": [
    "row3 = table.row(\"7\").label_as(\"Just row 7\")\n",
    "preview(row3, bounded=\"A5:H8\")"
   ]
  },
  {
   "cell_type": "markdown",
   "metadata": {},
   "source": [
    "## Selecting a row conditionally\n",
    "\n",
    "We know we want one row and its a row with at least one cell with \"Time period\" in it."
   ]
  },
  {
   "cell_type": "code",
   "execution_count": null,
   "metadata": {
    "tags": []
   },
   "outputs": [],
   "source": [
    "row_with_time_period = table.row_containing_strings([\"Time period\"]).label_as(\"A rows with 'Time period' in it\")\n",
    "preview(row_with_time_period, bounded=\"A4:H6\")"
   ]
  },
  {
   "cell_type": "markdown",
   "metadata": {},
   "source": [
    "Note - notice its strings plural not string singular, this allows us to be extra specific if we need to, example:\n",
    "\n",
    "```\n",
    "table.row_containing_strings([\"Foo\", \"Bar\", \"Baz\"])\n",
    "```\n",
    "\n",
    "This would still only return exactly one row, but only where said row contained a call ppulated with the value \"Foo\" and another call populated with the value \"Bar\" and another one populated with the word \"Baz\"."
   ]
  },
  {
   "cell_type": "markdown",
   "metadata": {
    "tags": []
   },
   "source": [
    "## Selecting a column"
   ]
  },
  {
   "cell_type": "code",
   "execution_count": null,
   "metadata": {
    "tags": []
   },
   "outputs": [],
   "source": [
    "column_c = table.column(\"C\").label_as(\"I am column C\")\n",
    "preview(column_c, bounded=\"B2:D10\")"
   ]
  },
  {
   "cell_type": "markdown",
   "metadata": {},
   "source": [
    "## Selecting a column conditionally"
   ]
  },
  {
   "cell_type": "code",
   "execution_count": null,
   "metadata": {
    "tags": []
   },
   "outputs": [],
   "source": [
    "column = table.column_containing_strings([\"Private new housing\"])\n",
    "preview(column_c, bounded=\"B2:D10\") "
   ]
  },
  {
   "cell_type": "markdown",
   "metadata": {},
   "source": [
    "There's a point worth understanding in this example, the latter (find by expected contents) is typically more robust than the formcer (explciit reference) as its a good chance of contiuing to work even fi the layout shifts."
   ]
  },
  {
   "cell_type": "markdown",
   "metadata": {
    "tags": []
   },
   "source": [
    "## Selecting a single cell conditionally\n",
    "\n",
    "Very much what is sounds like, in this case you only pass one string because you're only even looking for one match."
   ]
  },
  {
   "cell_type": "code",
   "execution_count": null,
   "metadata": {
    "tags": []
   },
   "outputs": [],
   "source": [
    "cell = table.cell_containing_string(\"MV5I\").label_as(\"Single cell selection\")\n",
    "preview(cell, bounded=\"B4:D8\") "
   ]
  },
  {
   "cell_type": "markdown",
   "metadata": {
    "tags": []
   },
   "source": [
    "## Understanding `box_select()`\n",
    "\n",
    "This is one of the less intuitive methods but also one you're gonna use a lot. The logic goes something like this:\n",
    "\n",
    "- 1. For virtual all tabulated datasource the observations (the actual values) appear in a box or rectangular, shape - as shown below"
   ]
  },
  {
   "cell_type": "code",
   "execution_count": null,
   "metadata": {
    "tags": []
   },
   "outputs": [],
   "source": [
    "preview(table.excel_ref(\"B9:E12\").label_as(\"Box like selection of value cells\"), bounded=\"A5:E12\")"
   ]
  },
  {
   "cell_type": "markdown",
   "metadata": {
    "tags": []
   },
   "source": [
    "* 2. The way you instinctively want to read the above blue selection **is the same way all human beings do**,starting from the top left of the blue box your eyes moves left to right, top to bottom - i.e the same way you'd read a book.\n",
    "\n",
    "* 3. `.box_select()` mirrors this quirk of how we read, so it:\n",
    "       - Starts with a single cell (the top-left part of the box)\n",
    "       - Sweeps right gathering all the cells\n",
    "       - Sweeps down gathering all cells beneath _those_ cells.\n",
    "\n",
    "example follows:"
   ]
  },
  {
   "cell_type": "code",
   "execution_count": null,
   "metadata": {
    "tags": []
   },
   "outputs": [],
   "source": [
    "start_cell = table.excel_ref(\"B9\")\n",
    "box_of_cells = start_cell.box_select().label_as(\"Box like selection of value cells\")\n",
    "preview(box_of_cells, bounded=\"A5:E12\")"
   ]
  },
  {
   "cell_type": "markdown",
   "metadata": {},
   "source": [
    "...wait.... can't we just use that handy `excel_ref()` thing that keeps cropping up?\n",
    "\n",
    "Yes you 100% can ..... but.... that's an explicit reference, so your code **breaks** the second someone moves whatever you're targetting so there's a trade off to consider.\n",
    "\n",
    "Excel ref is convenient and very useful thing you'll almost certainly be making use of, but it (and all explicit references) carry an inherent fragility. Decided where to be explicit vs conditional with your selections is very context dependent but always something you should be considering when working with tidychef.\n",
    "\n",
    "Speaking of....."
   ]
  },
  {
   "cell_type": "markdown",
   "metadata": {
    "tags": []
   },
   "source": [
    "## Excel ref\n",
    "\n",
    "This is analogous to when you click and drag on a spreadhseet to select a rand of cells, examples follow:"
   ]
  },
  {
   "cell_type": "code",
   "execution_count": null,
   "metadata": {
    "tags": []
   },
   "outputs": [],
   "source": [
    "preview(table.excel_ref(\"B9\"), bounded=\"A5:E12\")"
   ]
  },
  {
   "cell_type": "code",
   "execution_count": null,
   "metadata": {
    "tags": []
   },
   "outputs": [],
   "source": [
    "preview(table.excel_ref(\"B9:D11\"), bounded=\"A5:E12\")"
   ]
  },
  {
   "cell_type": "code",
   "execution_count": null,
   "metadata": {
    "tags": []
   },
   "outputs": [],
   "source": [
    "preview(table.excel_ref(\"8:10\"), bounded=\"A5:E12\")"
   ]
  },
  {
   "cell_type": "code",
   "execution_count": null,
   "metadata": {
    "tags": []
   },
   "outputs": [],
   "source": [
    "preview(table.excel_ref(\"D:E\"), bounded=\"A5:E12\")"
   ]
  },
  {
   "cell_type": "markdown",
   "metadata": {
    "tags": []
   },
   "source": [
    "## Is Numeric and Is Not Numeric\n",
    "\n",
    "These common methods are wrappers on two very popular filters (more on filters later) and they work largely as you'd image."
   ]
  },
  {
   "cell_type": "code",
   "execution_count": null,
   "metadata": {
    "tags": []
   },
   "outputs": [],
   "source": [
    "numeric = table.is_numeric().label_as(\"Is numeric\")\n",
    "preview(numeric, bounded=\"A5:E12\")"
   ]
  },
  {
   "cell_type": "code",
   "execution_count": null,
   "metadata": {
    "tags": []
   },
   "outputs": [],
   "source": [
    "not_numeric = table.is_not_numeric().label_as(\"In not numeric\")\n",
    "preview(not_numeric, bounded=\"A5:E12\")"
   ]
  },
  {
   "cell_type": "code",
   "execution_count": null,
   "metadata": {},
   "outputs": [],
   "source": []
  }
 ],
 "metadata": {
  "kernelspec": {
   "display_name": "Python 3 (ipykernel)",
   "language": "python",
   "name": "python3"
  },
  "language_info": {
   "codemirror_mode": {
    "name": "ipython",
    "version": 3
   },
   "file_extension": ".py",
   "mimetype": "text/x-python",
   "name": "python",
   "nbconvert_exporter": "python",
   "pygments_lexer": "ipython3",
   "version": "3.12.11"
  }
 },
 "nbformat": 4,
 "nbformat_minor": 4
}
