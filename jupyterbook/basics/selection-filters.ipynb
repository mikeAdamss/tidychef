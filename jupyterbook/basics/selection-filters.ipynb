{
 "cells": [
  {
   "cell_type": "markdown",
   "metadata": {},
   "source": [
    "# Selection: Filters\n",
    "\n",
    "Filters are a means of applying conditional logic to filter down any given selection of cells.\n",
    "\n",
    "Some standard filters are provided and will be explained here. We will also give some simple examples of how to make your own filters."
   ]
  },
  {
   "cell_type": "markdown",
   "metadata": {},
   "source": [
    "## Source Data\n",
    "\n",
    "The data source we're using for these examples is shown below:\n",
    "\n",
    "| <span style=\"color:green\">Note - this particular table has some very verbose headers we don't care about, so we'll be using `bounded=` to remove them from the previews as well as to show just the subset of data we're working with.</span>|\n",
    "|-----------------------------------------|\n",
    "\n",
    "The [full data source can be downloaded here](https://github.com/mikeAdamss/tidychef/raw/main/tests/fixtures/xlsx/ons-oic.xlsx). We'll be using th 6th tab named \"Table2a\"."
   ]
  },
  {
   "cell_type": "code",
   "execution_count": null,
   "metadata": {},
   "outputs": [],
   "source": [
    "from tidychef import acquire, preview\n",
    "from tidychef.selection import XlsxSelectable\n",
    "\n",
    "table: XlsxSelectable = acquire.xlsx.http(\"https://github.com/mikeAdamss/tidychef/raw/main/tests/fixtures/xlsx/ons-oic.xlsx\", tables=\"Table 2a\")\n",
    "preview(table, bounded=\"A4:H10\")"
   ]
  },
  {
   "cell_type": "markdown",
   "metadata": {},
   "source": [
    "## The Intention Of Filters\n",
    "\n",
    "Pre-existing filters are imported via the `filters` module and typically accessed via dot notation as arguments to the `.filter()` method.\n",
    "\n",
    "This is a conscious design choice to allow us to freely add additional filters without polluting or over complicating the tidychef api.\n",
    "\n",
    "| <span style=\"color:green\">Note - while this is a reasonably future proofed pattern, the intention here is to principally empower users to create filters or libraries of filters for their own use cases, DRY etc.</span>|\n",
    "|-----------------------------------------|\n"
   ]
  },
  {
   "cell_type": "markdown",
   "metadata": {},
   "source": [
    "## Filter Numeric\n",
    "\n",
    "Filters that work with the numeric or non numeric values of cells."
   ]
  },
  {
   "cell_type": "code",
   "execution_count": null,
   "metadata": {},
   "outputs": [],
   "source": [
    "from tidychef import acquire, preview, filters\n",
    "from tidychef.selection import XlsxSelectable\n",
    "\n",
    "table: XlsxSelectable = acquire.xlsx.http(\"https://github.com/mikeAdamss/tidychef/raw/main/tests/fixtures/xlsx/ons-oic.xlsx\", tables=\"Table 2a\")\n",
    "\n",
    "numeric = table.filter(filters.is_numeric).label_as(\"Cells that are numeric\")\n",
    "\n",
    "not_numeric = table.filter(filters.is_not_numeric).label_as(\"Cells that are NOT numeric\")\n",
    "\n",
    "preview(numeric, not_numeric, bounded=\"A4:H10\")"
   ]
  },
  {
   "cell_type": "markdown",
   "metadata": {},
   "source": [
    "## Filter Contains String\n",
    "\n",
    "This filter is a simple substring matcher, filtering down the selection of cells to just cells whose value contains the provided string.  "
   ]
  },
  {
   "cell_type": "code",
   "execution_count": null,
   "metadata": {},
   "outputs": [],
   "source": [
    "from tidychef import acquire, preview, filters\n",
    "from tidychef.selection import XlsxSelectable\n",
    "\n",
    "table: XlsxSelectable = acquire.xlsx.http(\"https://github.com/mikeAdamss/tidychef/raw/main/tests/fixtures/xlsx/ons-oic.xlsx\", tables=\"Table 2a\")\n",
    "\n",
    "housing = table.filter(filters.contains_string(\"housing\")).label_as(\"Cells containing 'housing'\")\n",
    "\n",
    "preview(housing, bounded=\"A4:H10\")"
   ]
  },
  {
   "cell_type": "markdown",
   "metadata": {},
   "source": [
    "## Custom Filters\n",
    "\n",
    "So a filter is just...\n",
    "\n",
    "* A function of python callable that returns True or False when given a \"cell\"\n",
    "* A \"cell\" is a tidychef object, the value (cell contents) of a cell can be access with `.value`\n",
    "\n",
    "For now we'll demonstrate how to create a filter using a simple function and a lambda function."
   ]
  },
  {
   "cell_type": "code",
   "execution_count": null,
   "metadata": {},
   "outputs": [],
   "source": [
    "from tidychef import acquire, preview\n",
    "from tidychef.models.source.cell import Cell\n",
    "from tidychef.selection import XlsxSelectable\n",
    "\n",
    "def m_filter(cell: Cell) -> bool:\n",
    "    \"\"\"\n",
    "    A simple custom filter to find cells starting with a capital M\n",
    "    \"\"\"\n",
    "    return cell.value.startswith(\"M\")\n",
    "\n",
    "table: XlsxSelectable = acquire.xlsx.http(\"https://github.com/mikeAdamss/tidychef/raw/main/tests/fixtures/xlsx/ons-oic.xlsx\", tables=\"Table 2a\")\n",
    "housing = table.filter(m_filter).label_as(\"Cells starting with M\")\n",
    "\n",
    "preview(housing, bounded=\"A4:H10\")"
   ]
  },
  {
   "cell_type": "markdown",
   "metadata": {},
   "source": [
    "Now the same thing but using a lambda function"
   ]
  },
  {
   "cell_type": "code",
   "execution_count": null,
   "metadata": {},
   "outputs": [],
   "source": [
    "from tidychef import acquire, preview\n",
    "from tidychef.selection import XlsxSelectable\n",
    "\n",
    "table: XlsxSelectable = acquire.xlsx.http(\"https://github.com/mikeAdamss/tidychef/raw/main/tests/fixtures/xlsx/ons-oic.xlsx\", tables=\"Table 2a\")\n",
    "housing = table.filter(lambda cell: cell.value.startswith(\"M\")).label_as(\"Cells starting with M\")\n",
    "\n",
    "preview(housing, bounded=\"A4:H10\")"
   ]
  }
 ],
 "metadata": {
  "kernelspec": {
   "display_name": "Python 3 (ipykernel)",
   "language": "python",
   "name": "python3"
  },
  "language_info": {
   "codemirror_mode": {
    "name": "ipython",
    "version": 3
   },
   "file_extension": ".py",
   "mimetype": "text/x-python",
   "name": "python",
   "nbconvert_exporter": "python",
   "pygments_lexer": "ipython3",
   "version": "3.12.11"
  }
 },
 "nbformat": 4,
 "nbformat_minor": 4
}
