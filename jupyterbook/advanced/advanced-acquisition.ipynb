{
 "cells": [
  {
   "attachments": {},
   "cell_type": "markdown",
   "metadata": {},
   "source": [
    "# Advanced Acquisition\n",
    "\n",
    "This section explains some of the more advanced things you can do with the `acquire` module.\n"
   ]
  },
  {
   "attachments": {},
   "cell_type": "markdown",
   "metadata": {},
   "source": [
    "## Acquire, pre_hook=\n",
    "\n",
    "A pre hook is an callable that:\n",
    "\n",
    "- does something with the argument you pass as source\n",
    "- passes back a variable that will be used as source by \"acquire\".\n",
    "\n",
    "This is easier to explain in the context of an example, as follows:"
   ]
  },
  {
   "attachments": {},
   "cell_type": "markdown",
   "metadata": {},
   "source": [
    "### Example Scenario\n",
    "\n",
    "For our example scenario we're going to use a **url to a json api** (a tiny one we've made ourselves) as a source.\n",
    "\n",
    "You can view the contents of the api [here](https://raw.githubusercontent.com/mikeAdamss/datachef/main/tests/fixtures/json/api.json).\n",
    "\n",
    "Our requirements are as follows:\n",
    "\n",
    "- We need to get the url of our source from that api.\n",
    "- The api for the json api will **not** change.\n",
    "- The urls listed **will** change.\n",
    "- We want to always acquire the url with \"bands-wide\" in the path.\n",
    "- We want an exception if there's anything other than exactly one \"bands-wide url.\n",
    "- We want that \"bands-wide\" url to be seemlessly passed along to the `acquire` function."
   ]
  },
  {
   "cell_type": "code",
   "execution_count": null,
   "metadata": {},
   "outputs": [],
   "source": [
    "import requests\n",
    "\n",
    "r = requests.get(\"https://raw.githubusercontent.com/mikeAdamss/datachef/main/tests/fixtures/json/api.json\")\n",
    "\n",
    "print(r.json())"
   ]
  }
 ],
 "metadata": {
  "kernelspec": {
   "display_name": "Python 3",
   "language": "python",
   "name": "python3"
  },
  "language_info": {
   "codemirror_mode": {
    "name": "ipython",
    "version": 3
   },
   "file_extension": ".py",
   "mimetype": "text/x-python",
   "name": "python",
   "nbconvert_exporter": "python",
   "pygments_lexer": "ipython3",
   "version": "3.9.7"
  },
  "widgets": {
   "application/vnd.jupyter.widget-state+json": {
    "state": {},
    "version_major": 2,
    "version_minor": 0
   }
  }
 },
 "nbformat": 4,
 "nbformat_minor": 4
}
