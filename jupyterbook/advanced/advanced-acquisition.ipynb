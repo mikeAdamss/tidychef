{
 "cells": [
  {
   "attachments": {},
   "cell_type": "markdown",
   "metadata": {},
   "source": [
    "# Advanced Acquisition\n",
    "\n",
    "This section explains some of the more advanced things you can do with the `acquire` module.\n"
   ]
  },
  {
   "attachments": {},
   "cell_type": "markdown",
   "metadata": {},
   "source": [
    "## pre_hook=\n",
    "\n",
    "A pre hook is an optional keyword of type callable that you can provide to any `acquire` methods that:\n",
    "\n",
    "- does something with the argument you pass as source\n",
    "- passes back a variable that will be used as the new source source by \"acquire\".\n",
    "\n",
    "The code is [here](https://github.com/mikeAdamss/datachef/blob/ece2764eba4d7b19fa3817de75c0fc0e71b6de68/datachef/acquire/main.py#L38) and is not complicated (it's literally two lines).\n",
    "\n",
    "It is however a _very useful_ two lines, examples follow:"
   ]
  },
  {
   "attachments": {},
   "cell_type": "markdown",
   "metadata": {},
   "source": [
    "### Example Scenario\n",
    "\n",
    "For our example scenario we're going to use a **url to a json api** (a tiny one we've made ourselves) as a source.\n",
    "\n",
    "You can view the contents of the api [here](https://raw.githubusercontent.com/mikeAdamss/datachef/main/tests/fixtures/json/api.json).\n",
    "\n",
    "Our requirements are as follows:\n",
    "\n",
    "- We need to get the url of our source from that api.\n",
    "- The api for the json api will **not** change.\n",
    "- The urls listed **will** change.\n",
    "- We want to always acquire the url with \"bands-wide\" in the path, there will always be one but the number of other urls and its positioning within that list will change.\n",
    "- We want an exception if there's anything other than exactly one \"bands-wide\" url.\n",
    "- We want that \"bands-wide\" url to be passed along to the `acquire` function and used to create our selectable.\n",
    "\n",
    "Example follows:"
   ]
  },
  {
   "cell_type": "code",
   "execution_count": 87,
   "metadata": {},
   "outputs": [
    {
     "data": {
      "text/plain": [
       "'https://raw.githubusercontent.com/mikeAdamss/datachef/main/tests/fixtures/csv/bands-wide.csv'"
      ]
     },
     "execution_count": 87,
     "metadata": {},
     "output_type": "execute_result"
    }
   ],
   "source": [
    "import requests\n",
    "\n",
    "# First we'll create a simple pre hook that meets our requirements.\n",
    "def select_band_csv(source: str) -> str:\n",
    "    \"\"\"\n",
    "    pre hook function to get the correct url from a list of urls\n",
    "    provided by a json api.\n",
    "    \"\"\"\n",
    "    r = requests.get(source)\n",
    "    url_dict= r.json()\n",
    "    url_wanted = [x for x in url_dict[\"datasets\"] if \"bands-wide\" in x]\n",
    "    assert len(url_wanted) == 1\n",
    "    return url_wanted[0]\n",
    "\n",
    "# Now let's try it out\n",
    "select_band_csv(\"https://raw.githubusercontent.com/mikeAdamss/datachef/main/tests/fixtures/json/api.json\")"
   ]
  },
  {
   "attachments": {},
   "cell_type": "markdown",
   "metadata": {},
   "source": [
    "And now let's see how we use this pre hook as a keyword argument to the acquire module."
   ]
  },
  {
   "cell_type": "code",
   "execution_count": 88,
   "metadata": {},
   "outputs": [
    {
     "data": {
      "text/html": [
       "\n",
       "    <html>\n",
       "        \n",
       "    <style>\n",
       "    table, th, td {\n",
       "        border: 1px solid;\n",
       "    }\n",
       "\n",
       "    table {\n",
       "        border-collapse: collapse;\n",
       "    }\n",
       "\n",
       "    td {\n",
       "        align: center;\n",
       "        border: 1px  black solid !important;\n",
       "        color: black !important;\n",
       "    }\n",
       "\n",
       "    th, td {\n",
       "        padding: 5px;\n",
       "    }\n",
       "\n",
       "    </style>\n",
       "    \n",
       "            <table>\n",
       "                \n",
       "            </table>\n",
       "\n",
       "            <body>\n",
       "                <h2>Unnamed Table</h2>\n",
       "                <table>\n",
       "                    <tr><td style=\"background-color:lightgrey\"></td><td style=\"background-color:lightgrey\">A</td><td style=\"background-color:lightgrey\">B</td><td style=\"background-color:lightgrey\">C</td><td style=\"background-color:lightgrey\">D</td><td style=\"background-color:lightgrey\">E</td><td style=\"background-color:lightgrey\">F</td><td style=\"background-color:lightgrey\">G</td><td style=\"background-color:lightgrey\">H</td><td style=\"background-color:lightgrey\">I</td><td style=\"background-color:lightgrey\">J</td><td style=\"background-color:lightgrey\">K</td></tr>\n",
       "<tr><td style=\"background-color:lightgrey\">1</td><td style=\"background-color:white\"></td><td style=\"background-color:white\"></td><td style=\"background-color:white\"></td><td style=\"background-color:white\"></td><td style=\"background-color:white\"></td><td style=\"background-color:white\"></td><td style=\"background-color:white\"></td><td style=\"background-color:white\"></td><td style=\"background-color:white\"></td><td style=\"background-color:white\"></td><td style=\"background-color:white\"></td></tr>\n",
       "<tr><td style=\"background-color:lightgrey\">2</td><td style=\"background-color:white\"></td><td style=\"background-color:white\"></td><td style=\"background-color:white\">Houses</td><td style=\"background-color:white\">Cars</td><td style=\"background-color:white\">Boats</td><td style=\"background-color:white\"></td><td style=\"background-color:white\"></td><td style=\"background-color:white\"></td><td style=\"background-color:white\">Houses</td><td style=\"background-color:white\">Cars</td><td style=\"background-color:white\">Boats</td></tr>\n",
       "<tr><td style=\"background-color:lightgrey\">3</td><td style=\"background-color:white\">Beatles</td><td style=\"background-color:white\"></td><td style=\"background-color:white\"></td><td style=\"background-color:white\"></td><td style=\"background-color:white\"></td><td style=\"background-color:white\"></td><td style=\"background-color:white\">Rolling Stones</td><td style=\"background-color:white\"></td><td style=\"background-color:white\"></td><td style=\"background-color:white\"></td><td style=\"background-color:white\"></td></tr>\n",
       "<tr><td style=\"background-color:lightgrey\">4</td><td style=\"background-color:white\"></td><td style=\"background-color:white\">John</td><td style=\"background-color:white\">1</td><td style=\"background-color:white\">5</td><td style=\"background-color:white\">9</td><td style=\"background-color:white\"></td><td style=\"background-color:white\"></td><td style=\"background-color:white\">Keith</td><td style=\"background-color:white\">2</td><td style=\"background-color:white\">6</td><td style=\"background-color:white\">10</td></tr>\n",
       "<tr><td style=\"background-color:lightgrey\">5</td><td style=\"background-color:white\"></td><td style=\"background-color:white\">Paul</td><td style=\"background-color:white\">2</td><td style=\"background-color:white\">6</td><td style=\"background-color:white\">10</td><td style=\"background-color:white\"></td><td style=\"background-color:white\"></td><td style=\"background-color:white\">Mick</td><td style=\"background-color:white\">3</td><td style=\"background-color:white\">7</td><td style=\"background-color:white\">11</td></tr>\n",
       "<tr><td style=\"background-color:lightgrey\">6</td><td style=\"background-color:white\"></td><td style=\"background-color:white\">George</td><td style=\"background-color:white\">2</td><td style=\"background-color:white\">7</td><td style=\"background-color:white\">11</td><td style=\"background-color:white\"></td><td style=\"background-color:white\"></td><td style=\"background-color:white\">Charlie</td><td style=\"background-color:white\">3</td><td style=\"background-color:white\">8</td><td style=\"background-color:white\">12</td></tr>\n",
       "<tr><td style=\"background-color:lightgrey\">7</td><td style=\"background-color:white\"></td><td style=\"background-color:white\">Ringo</td><td style=\"background-color:white\">4</td><td style=\"background-color:white\">8</td><td style=\"background-color:white\">12</td><td style=\"background-color:white\"></td><td style=\"background-color:white\"></td><td style=\"background-color:white\">Ronnie</td><td style=\"background-color:white\">5</td><td style=\"background-color:white\">9</td><td style=\"background-color:white\">13</td></tr>\n",
       "<tr><td style=\"background-color:lightgrey\">8</td><td style=\"background-color:white\"></td><td style=\"background-color:white\"></td><td style=\"background-color:white\"></td><td style=\"background-color:white\"></td><td style=\"background-color:white\"></td><td style=\"background-color:white\"></td><td style=\"background-color:white\"></td><td style=\"background-color:white\"></td><td style=\"background-color:white\"></td><td style=\"background-color:white\"></td><td style=\"background-color:white\"></td></tr>\n",
       "\n",
       "                </table>\n",
       "            </body>\n",
       "            <br>\n",
       "        </html>\n",
       "    "
      ],
      "text/plain": [
       "<IPython.core.display.HTML object>"
      ]
     },
     "metadata": {},
     "output_type": "display_data"
    }
   ],
   "source": [
    "from datachef import acquire, preview\n",
    "from datachef.selection import CsvSelectable\n",
    "\n",
    "table: CsvSelectable = acquire.csv.http(\n",
    "    \"https://raw.githubusercontent.com/mikeAdamss/datachef/main/tests/fixtures/json/api.json\",\n",
    "    pre_hook=select_band_csv)\n",
    "\n",
    "preview(table)\n"
   ]
  },
  {
   "attachments": {},
   "cell_type": "markdown",
   "metadata": {},
   "source": [
    "And voila! We're dynamically selecting the csv we want from the options presented by a json api."
   ]
  },
  {
   "attachments": {},
   "cell_type": "markdown",
   "metadata": {},
   "source": [
    "## post_hook=\n",
    "\n",
    "The post hook follows a similar concept but **is executed after the data is acquired** so operates on whatever is being returned by acquire.\n",
    "\n",
    "For example:\n",
    "\n",
    "- For `acquire.csv.local()` it operates against a single `CsvSelectable` object.\n",
    "- For `acquire.xlsx.local()` it operates against a **list** of `XlsxSelectable` objects.\n",
    "\n",
    "In all cases whatever your `post_hook` returns is what acquire will return.\n",
    "\n",
    "As with the pre hook the implementation is nice and simple (see [these two lines](https://github.com/mikeAdamss/datachef/blob/ece2764eba4d7b19fa3817de75c0fc0e71b6de68/datachef/acquire/main.py#L44)).\n",
    "\n",
    "For this example we'll be a little more ambitious and use a callable class.\n",
    "\n",
    "`NamedSheets` takes a list of table/tab/sheet names that we want and will filter out those we do not want as part of the acquisition function."
   ]
  },
  {
   "cell_type": "code",
   "execution_count": 89,
   "metadata": {},
   "outputs": [
    {
     "name": "stdout",
     "output_type": "stream",
     "text": [
      "Table 3a\n",
      "Table 3b\n"
     ]
    }
   ],
   "source": [
    "from dataclasses import dataclass\n",
    "from typing import List\n",
    "\n",
    "from datachef.selection import XlsxSelectable\n",
    "\n",
    "@dataclass\n",
    "class NamedSheets:\n",
    "     sheet_names: List[str]\n",
    "\n",
    "     def __call__(self, sheets: List[XlsxSelectable]):\n",
    "          return [x for x in sheets if x.name in self.sheet_names]\n",
    "          \n",
    "tables: List[XlsxSelectable] = acquire.xlsx.http(\n",
    "     \"https://github.com/mikeAdamss/datachef/raw/main/tests/fixtures/xlsx/ons-oic.xlsx\",\n",
    "     post_hook=NamedSheets([\"Table 3a\", \"Table 3b\"]))\n",
    "\n",
    "# To show it worked, we'll just iterate and print the table names\n",
    "for table in tables:\n",
    "     print(table.name)"
   ]
  },
  {
   "attachments": {},
   "cell_type": "markdown",
   "metadata": {},
   "source": [
    "## A Bried Explanation Of Selectables\n",
    "\n",
    "There will be more on this in the next section, but a datachef `Selectable` is the primary class we use for selecting cells."
   ]
  },
  {
   "attachments": {},
   "cell_type": "markdown",
   "metadata": {},
   "source": [
    "| Type | Description |\n",
    "| ------------------------------| -------------------|\n",
    "| `datachef.selection.selectable.Selectable` | The common class **all** selectables inherit from. This is where the selection methods all tabulated sources have in common reside |\n",
    "| `datachef.selection.csv.csv.CsvSelectable` | Extends `Selectable` so we can add methods that only make sense in the context of processing csv source data |\n",
    "| `datachef.selection.xls.xls.XlsSelectable` | Extends `Selectable` so we can add methods that only make sense in the context of processing xls source data |\n",
    "| `datachef.selection.xlsx.xlsx.XlsxSelectable` | Extends `Selectable` so we can add methods that only make sense in the context of processing xlsx source data |\n",
    "\n",
    "As an example, imagine a colourful xlsx file - would it not be potentially useful to create a cell colour based selector? Possibly yes, but such a selector would uses **xlsx only properties** and as such would make no sense and almost certainly not work when called against data ingested from other data formats. The above pattern allows us to create such a method but only expose it to users using xlsx sources.\n",
    "\n",
    "In other words, **selectables enable context appropriate methods**."
   ]
  },
  {
   "attachments": {},
   "cell_type": "markdown",
   "metadata": {},
   "source": [
    "### Using the acquire(selectable=) keyword.\n",
    "\n",
    "The `acquire` function allows you to overrdie the type of selectable class the data is populating via the `selectable=` keyword.\n",
    "\n",
    "As an (entirely specious and rather pointless) example, lets overwrite the Selectable for `acquire.xlsx.http()` such that it returns us a `XlsSelectable` rather than the `XlsxSelectable` it usually does."
   ]
  },
  {
   "cell_type": "code",
   "execution_count": 90,
   "metadata": {},
   "outputs": [
    {
     "name": "stdout",
     "output_type": "stream",
     "text": [
      "<class 'datachef.selection.xls.xls.XlsSelectable'>\n"
     ]
    }
   ],
   "source": [
    "from typing import List\n",
    "\n",
    "from datachef import acquire\n",
    "from datachef.selection import XlsSelectable\n",
    "\n",
    "tables: List[XlsSelectable] = acquire.xlsx.http(\"https://github.com/mikeAdamss/datachef/raw/main/tests/fixtures/xlsx/ons-oic.xlsx\",\n",
    "                                                selectable=XlsSelectable)\n",
    "\n",
    "print(type(tables[0]))"
   ]
  },
  {
   "attachments": {},
   "cell_type": "markdown",
   "metadata": {},
   "source": [
    "...but... why would you want to do this?\n",
    "\n",
    "Because `Selectables` are designed to be easily extended with powerful custom behaviours and methods, and you **don't want to have to create a new acquire mechanisms** every time you wish to do so.\n",
    "\n",
    "Don't worry, this technique will be detailed with examples in the next section, for our purposes here you just need to understand _how_ you override the `Selectable` class during data acquistion."
   ]
  }
 ],
 "metadata": {
  "kernelspec": {
   "display_name": "Python 3",
   "language": "python",
   "name": "python3"
  },
  "language_info": {
   "codemirror_mode": {
    "name": "ipython",
    "version": 3
   },
   "file_extension": ".py",
   "mimetype": "text/x-python",
   "name": "python",
   "nbconvert_exporter": "python",
   "pygments_lexer": "ipython3",
   "version": "3.9.7"
  },
  "widgets": {
   "application/vnd.jupyter.widget-state+json": {
    "state": {},
    "version_major": 2,
    "version_minor": 0
   }
  }
 },
 "nbformat": 4,
 "nbformat_minor": 4
}
