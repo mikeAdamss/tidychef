{
 "cells": [
  {
   "attachments": {},
   "cell_type": "markdown",
   "metadata": {},
   "source": [
    "# Custom Data Sources\n",
    "\n",
    "This document will explain how to extend tidychef to ingest additional tabulated data formats.\n",
    "\n",
    "We'll start by explaining how the `acquire` module works."
   ]
  },
  {
   "attachments": {},
   "cell_type": "markdown",
   "metadata": {},
   "source": [
    "## How acquire actually works\n",
    "\n",
    "So the first thing to understand is that all the functions accessible via the `acquire` module are really just wrappers around a single function, the `acquirer` function located in `tidychef.acquire.main`.\n",
    "\n",
    "Lets have a look at the method signature for acquirer.\n",
    "\n",
    "```\n",
    "def acquirer(\n",
    "    source: Any,\n",
    "    reader: BaseReader,\n",
    "    selectable: Selectable,\n",
    "    pre_hook: Optional[Callable] = None,\n",
    "    post_hook: Optional[Callable] = None,\n",
    "    **kwargs\n",
    ") -> Union[List[Selectable], Selectable]:\n",
    "```\n",
    "\n",
    "Now lets looks at one of the functions provided by the `acquire` module. In this instance we'll look at `acquire.csv.local`.\n",
    "\n",
    "_Note: I've removed the docstring to better make this point._\n",
    "\n",
    "```\n",
    "def local(\n",
    "    source: Union[str, Path],\n",
    "    selectable: Selectable = CsvSelectable,\n",
    "    pre_hook: Optional[Callable] = None,\n",
    "    post_hook: Optional[Callable] = None,\n",
    "    **kwargs\n",
    ") -> CsvSelectable:\n",
    "\n",
    "    return acquirer(\n",
    "        source,\n",
    "        LocalCsvReader(),\n",
    "        selectable,\n",
    "        pre_hook=pre_hook,\n",
    "        post_hook=post_hook,\n",
    "        **kwargs\n",
    "    )\n",
    "```\n",
    "\n",
    "So the `acquire.csv.local` just sets two values and calls `acquirer` with the arguments provided, the values set are:\n",
    "\n",
    "- Sets a default selectable (which a user can override).\n",
    "- Specifies which implementation of **BaseReader** is being used to parse the data.\n",
    "\n",
    "And **all** acquire functions follow this pattern, they are all just conveniences wrappers.\n"
   ]
  },
  {
   "attachments": {},
   "cell_type": "markdown",
   "metadata": {},
   "source": [
    "## What this means\n",
    "\n",
    "- The acquire functions just call `acquirer`.\n",
    "- `acquirer` just specifies a data source, something that implements `BaseReader` and an appropriate `Selectable`.\n",
    "\n",
    "Therefore, to get a new data source into tidychef you **just need to create a new implementation of `BaseReader` and call acquirer with it** and an appropriate `Selectable`."
   ]
  },
  {
   "attachments": {},
   "cell_type": "markdown",
   "metadata": {},
   "source": [
    "## Base Reader\n",
    "\n",
    "To create a reader we need to create a new class that extends `BaseReader` and implements the methods as show below.\n",
    "\n",
    "![](../images/base-reader.png)"
   ]
  },
  {
   "attachments": {},
   "cell_type": "markdown",
   "metadata": {},
   "source": [
    "So really all we need to do to ingest a new data format is populate a single parse method that:\n",
    "\n",
    "- Takes something as a source.\n",
    "- Populates a tidychef selectable or list of."
   ]
  },
  {
   "attachments": {},
   "cell_type": "markdown",
   "metadata": {},
   "source": [
    "## Python List Reader\n",
    "\n",
    "For our example we'll use a simple list of lists to represent a table.\n",
    "\n",
    "This is a mock up of the table we're going to be ingesting.\n",
    "\n",
    "| A  | B  | C | D  | E  |\n",
    "| -- | -- | --| -- | --  |\n",
    "|    |    |   |    |   |\n",
    "|    | Age Range   | Male   | Female  |    |\n",
    "|    | 1-20   | 10  | 5   |  |\n",
    "|    | 21-40   |  5 |  24  |  |\n",
    "|    | 41-60   |  21 | 9   |  |\n",
    "| | | | | | | \n",
    "\n",
    "And the following is the same thing expressed as python list of lists."
   ]
  },
  {
   "cell_type": "code",
   "execution_count": 3,
   "metadata": {},
   "outputs": [],
   "source": [
    "list_data = [\n",
    "    [\"\", \"\", \"\", \"\", \"\"],\n",
    "    [\"\", \"Age Range\", \"Male\", \"Female\", \"\"],\n",
    "    [\"\", \"1-20\", \"10\", \"5\", \"\"],\n",
    "    [\"\", \"21-40\", \"5\", \"24\", \"\"],\n",
    "    [\"\", \"41-60\", \"21\", \"9\", \"\"],\n",
    "    [\"\", \"\", \"\", \"\", \"\"]\n",
    "]"
   ]
  },
  {
   "attachments": {},
   "cell_type": "markdown",
   "metadata": {},
   "source": [
    "Now we have a source, lets write our reader implementation (we'll explain the logic after the code)."
   ]
  },
  {
   "cell_type": "code",
   "execution_count": 4,
   "metadata": {},
   "outputs": [],
   "source": [
    "from typing import List\n",
    "\n",
    "from tidychef.acquire.base import BaseReader\n",
    "from tidychef.selection import Selectable\n",
    "from tidychef.models.source.cell import Cell\n",
    "from tidychef.models.source.table import Table\n",
    "\n",
    "class ExampleReader(BaseReader):\n",
    "\n",
    "    def parse(self, source: List[List[str]], selectable: Selectable) -> Selectable:\n",
    "\n",
    "        table = Table()\n",
    "        for y, row in enumerate(source):\n",
    "            for x, cell_value in enumerate(row):\n",
    "                table.add_cell(\n",
    "                    Cell(x=x, y=y, value=str(cell_value))\n",
    "                )\n",
    "\n",
    "        return selectable(table, source=\"Example python list\")\n"
   ]
  },
  {
   "attachments": {},
   "cell_type": "markdown",
   "metadata": {},
   "source": [
    "- All readers must return either (a) a populated selectable or (b) a list of populated selectable (see last line of example).\n",
    "- A selectable is created from a table `tidychef.models.source.table.Table`, a source (typically a url or filename) and (where appropriate) the table name.\n",
    "- It's a class, the first argument must be `self`.\n",
    "- The `Table` is populated via the `add_cell()` method here though can also just pass a complete list of `Cell` objects into the `Table` constructor.\n",
    "- A `Cell` must be created from x (column index) y (row index) and the contents of the tabular cell.\n",
    "- It's not actually necessary here but tidychef deals in cell values as type `str` by default so the cast to str is something you'll almost certainly want to do.\n",
    "\n",
    "There are likely more efficient ways to load data in but this is a _consciously simple pattern_. Any tabulated source than can be read by python can be iterated, anything that can be iterated can be read into tidychef via this mechanism.\n",
    "\n",
    "Now lets try our new reader:"
   ]
  },
  {
   "cell_type": "code",
   "execution_count": 6,
   "metadata": {},
   "outputs": [
    {
     "data": {
      "text/html": [
       "\n",
       "    <html>\n",
       "        \n",
       "    <style>\n",
       "    table, th, td {\n",
       "        border: 1px solid;\n",
       "    }\n",
       "\n",
       "    table {\n",
       "        border-collapse: collapse;\n",
       "    }\n",
       "\n",
       "    td {\n",
       "        align: center;\n",
       "        border: 1px  black solid !important;\n",
       "        color: black !important;\n",
       "    }\n",
       "\n",
       "    th, td {\n",
       "        padding: 5px;\n",
       "    }\n",
       "\n",
       "    </style>\n",
       "    \n",
       "            <table>\n",
       "                \n",
       "            </table>\n",
       "\n",
       "            <body>\n",
       "                <h2>Unnamed Table</h2>\n",
       "                <table>\n",
       "                    <tr><td style=\"background-color:lightgrey\"></td><td style=\"background-color:lightgrey\">A</td><td style=\"background-color:lightgrey\">B</td><td style=\"background-color:lightgrey\">C</td><td style=\"background-color:lightgrey\">D</td><td style=\"background-color:lightgrey\">E</td></tr>\n",
       "<tr><td style=\"background-color:lightgrey\">1</td><td style=\"background-color:white\"></td><td style=\"background-color:white\"></td><td style=\"background-color:white\"></td><td style=\"background-color:white\"></td><td style=\"background-color:white\"></td></tr>\n",
       "<tr><td style=\"background-color:lightgrey\">2</td><td style=\"background-color:white\"></td><td style=\"background-color:white\">Age Range</td><td style=\"background-color:white\">Male</td><td style=\"background-color:white\">Female</td><td style=\"background-color:white\"></td></tr>\n",
       "<tr><td style=\"background-color:lightgrey\">3</td><td style=\"background-color:white\"></td><td style=\"background-color:white\">1-20</td><td style=\"background-color:white\">10</td><td style=\"background-color:white\">5</td><td style=\"background-color:white\"></td></tr>\n",
       "<tr><td style=\"background-color:lightgrey\">4</td><td style=\"background-color:white\"></td><td style=\"background-color:white\">21-40</td><td style=\"background-color:white\">5</td><td style=\"background-color:white\">24</td><td style=\"background-color:white\"></td></tr>\n",
       "<tr><td style=\"background-color:lightgrey\">5</td><td style=\"background-color:white\"></td><td style=\"background-color:white\">41-60</td><td style=\"background-color:white\">21</td><td style=\"background-color:white\">9</td><td style=\"background-color:white\"></td></tr>\n",
       "<tr><td style=\"background-color:lightgrey\">6</td><td style=\"background-color:white\"></td><td style=\"background-color:white\"></td><td style=\"background-color:white\"></td><td style=\"background-color:white\"></td><td style=\"background-color:white\"></td></tr>\n",
       "\n",
       "                </table>\n",
       "            </body>\n",
       "            <br>\n",
       "        </html>\n",
       "    "
      ],
      "text/plain": [
       "<IPython.core.display.HTML object>"
      ]
     },
     "metadata": {},
     "output_type": "display_data"
    }
   ],
   "source": [
    "from tidychef import preview\n",
    "from tidychef.acquire.main import acquirer\n",
    "\n",
    "table: Selectable = acquirer(list_data, ExampleReader(), Selectable)\n",
    "preview(table)"
   ]
  },
  {
   "attachments": {},
   "cell_type": "markdown",
   "metadata": {},
   "source": [
    "At which point the usual suite of methods are accessible, eg:"
   ]
  },
  {
   "cell_type": "code",
   "execution_count": null,
   "metadata": {},
   "outputs": [
    {
     "data": {
      "text/html": [
       "\n",
       "    <html>\n",
       "        \n",
       "    <style>\n",
       "    table, th, td {\n",
       "        border: 1px solid;\n",
       "    }\n",
       "\n",
       "    table {\n",
       "        border-collapse: collapse;\n",
       "    }\n",
       "\n",
       "    td {\n",
       "        align: center;\n",
       "        border: 1px  black solid !important;\n",
       "        color: black !important;\n",
       "    }\n",
       "\n",
       "    th, td {\n",
       "        padding: 5px;\n",
       "    }\n",
       "\n",
       "    </style>\n",
       "    \n",
       "            <table>\n",
       "                \n",
       "            <tr>\n",
       "                <td style=\"background-color:cyan\">Unnamed Selection: 0</td>\n",
       "            <tr>\n",
       "        \n",
       "            </table>\n",
       "\n",
       "            <body>\n",
       "                <h2>Unnamed Table</h2>\n",
       "                <table>\n",
       "                    <tr><td style=\"background-color:lightgrey\"></td><td style=\"background-color:lightgrey\">A</td><td style=\"background-color:lightgrey\">B</td><td style=\"background-color:lightgrey\">C</td><td style=\"background-color:lightgrey\">D</td><td style=\"background-color:lightgrey\">E</td></tr>\n",
       "<tr><td style=\"background-color:lightgrey\">1</td><td style=\"background-color:white\"></td><td style=\"background-color:white\"></td><td style=\"background-color:cyan\"></td><td style=\"background-color:white\"></td><td style=\"background-color:white\"></td></tr>\n",
       "<tr><td style=\"background-color:lightgrey\">2</td><td style=\"background-color:white\"></td><td style=\"background-color:white\">Age Range</td><td style=\"background-color:cyan\">Male</td><td style=\"background-color:white\">Female</td><td style=\"background-color:white\"></td></tr>\n",
       "<tr><td style=\"background-color:lightgrey\">3</td><td style=\"background-color:white\"></td><td style=\"background-color:white\">1-20</td><td style=\"background-color:cyan\">10</td><td style=\"background-color:white\">5</td><td style=\"background-color:white\"></td></tr>\n",
       "<tr><td style=\"background-color:lightgrey\">4</td><td style=\"background-color:white\"></td><td style=\"background-color:white\">21-40</td><td style=\"background-color:cyan\">5</td><td style=\"background-color:white\">24</td><td style=\"background-color:white\"></td></tr>\n",
       "<tr><td style=\"background-color:lightgrey\">5</td><td style=\"background-color:white\"></td><td style=\"background-color:white\">41-60</td><td style=\"background-color:cyan\">21</td><td style=\"background-color:white\">9</td><td style=\"background-color:white\"></td></tr>\n",
       "<tr><td style=\"background-color:lightgrey\">6</td><td style=\"background-color:white\"></td><td style=\"background-color:white\"></td><td style=\"background-color:cyan\"></td><td style=\"background-color:white\"></td><td style=\"background-color:white\"></td></tr>\n",
       "\n",
       "                </table>\n",
       "            </body>\n",
       "            <br>\n",
       "        </html>\n",
       "    "
      ],
      "text/plain": [
       "<IPython.core.display.HTML object>"
      ]
     },
     "metadata": {},
     "output_type": "display_data"
    }
   ],
   "source": [
    "preview(table.excel_ref(\"C\"))"
   ]
  }
 ],
 "metadata": {
  "kernelspec": {
   "display_name": "datachef-hNSMaw3h-py3.9",
   "language": "python",
   "name": "python3"
  },
  "language_info": {
   "codemirror_mode": {
    "name": "ipython",
    "version": 3
   },
   "file_extension": ".py",
   "mimetype": "text/x-python",
   "name": "python",
   "nbconvert_exporter": "python",
   "pygments_lexer": "ipython3",
   "version": "3.9.7"
  },
  "orig_nbformat": 4
 },
 "nbformat": 4,
 "nbformat_minor": 2
}
