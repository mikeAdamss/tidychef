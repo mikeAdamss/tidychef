{
 "cells": [
  {
   "attachments": {},
   "cell_type": "markdown",
   "metadata": {},
   "source": [
    "# Custom Data Sources\n",
    "\n",
    "This document will explain how to extend datachef to imbibe additional tabulated data formats.\n",
    "\n",
    "We'll start by explaining how the `acquire` module works."
   ]
  },
  {
   "attachments": {},
   "cell_type": "markdown",
   "metadata": {},
   "source": [
    "## How acquire actually works\n",
    "\n",
    "So the first thing to understand is that all the functions accessible via the `acquire` module are really just around a single function, the `acquirer` function located in `datachef.acquire.main`.\n",
    "\n",
    "Lets have a look at the method signature for acquirer.\n",
    "\n",
    "```\n",
    "def acquirer(\n",
    "    source: Any,\n",
    "    reader: BaseReader,\n",
    "    selectable: Selectable,\n",
    "    pre_hook: Optional[Callable] = None,\n",
    "    post_hook: Optional[Callable] = None,\n",
    "    **kwargs\n",
    ") -> Union[List[Selectable], Selectable]:\n",
    "```\n",
    "\n",
    "Now lets looks at one of the functions provided by the `acquire` module. In this instance we'll look at `acquire.csv.local`.\n",
    "\n",
    "_Note: I've removed the docstring to better make this point._\n",
    "\n",
    "```\n",
    "def local(\n",
    "    source: Union[str, Path],\n",
    "    selectable: Selectable = CsvSelectable,\n",
    "    pre_hook: Optional[Callable] = None,\n",
    "    post_hook: Optional[Callable] = None,\n",
    "    **kwargs\n",
    ") -> CsvSelectable:\n",
    "\n",
    "    return acquirer(\n",
    "        source,\n",
    "        LocalCsvReader,\n",
    "        selectable,\n",
    "        pre_hook=pre_hook,\n",
    "        post_hook=post_hook,\n",
    "        **kwargs\n",
    "    )\n",
    "```\n",
    "\n",
    "So the `acquire.csv.local` just sets two values and calls `acquirer` with the arguments provided, the values set are:\n",
    "\n",
    "- Sets a default selectable (which a user can override).\n",
    "- Specifies which implementation of **BaseReader** is being used to parse the data.\n",
    "\n",
    "And **all** acquire functions follow this pattern, they are all just conveniences wrappers.\n"
   ]
  },
  {
   "attachments": {},
   "cell_type": "markdown",
   "metadata": {},
   "source": [
    "## What this means\n",
    "\n",
    "- The acquire functions just call `acquirer`.\n",
    "- `acquirer` just specific any data source, something that implements `BaseReader` and an appropriate `Selectable`.\n",
    "\n",
    "Therefore, to get a new data source into datachef you **just need to create a new implementation of `BaseReader` and call acquirer with it**."
   ]
  },
  {
   "attachments": {},
   "cell_type": "markdown",
   "metadata": {},
   "source": [
    "## Base Reader\n",
    "\n",
    "To create a reader we need to create a new class that extends `BaseReader` and implements the methods as show below."
   ]
  }
 ],
 "metadata": {
  "kernelspec": {
   "display_name": "datachef-hNSMaw3h-py3.9",
   "language": "python",
   "name": "python3"
  },
  "language_info": {
   "codemirror_mode": {
    "name": "ipython",
    "version": 3
   },
   "file_extension": ".py",
   "mimetype": "text/x-python",
   "name": "python",
   "nbconvert_exporter": "python",
   "pygments_lexer": "ipython3",
   "version": "3.9.7"
  },
  "orig_nbformat": 4
 },
 "nbformat": 4,
 "nbformat_minor": 2
}
