{
 "cells": [
  {
   "cell_type": "markdown",
   "metadata": {},
   "source": [
    "# House Prices\n",
    "\n",
    "A large dataset from the UK Office for National Statistics that makes heavy use of irregularly offset headers and whitespace as a visual only means of data demarcation."
   ]
  },
  {
   "cell_type": "markdown",
   "metadata": {
    "tags": []
   },
   "source": [
    "## Tutorial Structure\n",
    "\n",
    "With these example tutorials I'm going to comment heavily and cover nuances in a follow up section (with liberal targetted previews as needed) as it's the easiest way to grapple with new ideas. It may also be worth opening up these notebooks yourself (they're in `./jupyterbook` in the [tidychef](https://github.com/mikeAdamss/tidychef) github repo) so you can run, alter and generally have a play about with this yourself as part of your learning.\n",
    "\n",
    "We'll cover:\n",
    "\n",
    "- source data\n",
    "- requirements, what we're aiming to do here\n",
    "- show the full script (all logic commented)\n",
    "- output the selection preview\n",
    "- nuances (where applicable)\n",
    "- view the output\n",
    "\n",
    "This sequencing is necessary as the output for some of the example is **really** long so that necessitates it coming last. If you're viewing this via a jupyter book (i.e on the site) you can navigate between the above sections via your right hand menu.\n",
    "\n",
    "_Note - these tutorial scripts might seem verbose due all the comments but that's ok (this is a tutorial after all). If you take them out you end up with a fairly succinct and human readable encapsulation of what would otherwise (with existing tools) be a rather convoluted and fragile set of instructions to express._\n",
    "\n",
    "In virtually all cases I'll make heavy use of `preview` and `bounded` to only look at relevant parts of what can be quite large datasets. Downloads links are provided for the source data."
   ]
  },
  {
   "cell_type": "markdown",
   "metadata": {},
   "source": [
    "## Source"
   ]
  },
  {
   "cell_type": "code",
   "execution_count": 1,
   "metadata": {},
   "outputs": [
    {
     "data": {
      "text/html": [
       "\n",
       "    <html>\n",
       "        \n",
       "    <style>\n",
       "    table, th, td {\n",
       "        border: 1px solid;\n",
       "    }\n",
       "\n",
       "    table {\n",
       "        border-collapse: collapse;\n",
       "    }\n",
       "\n",
       "    td {\n",
       "        align: center;\n",
       "        border: 1px  black solid !important;\n",
       "        color: black !important;\n",
       "    }\n",
       "\n",
       "    th, td {\n",
       "        padding: 5px;\n",
       "    }\n",
       "\n",
       "    </style>\n",
       "    \n",
       "            <table>\n",
       "                \n",
       "            </table>\n",
       "\n",
       "            <body>\n",
       "                <h2>Table 11</h2>\n",
       "                <table>\n",
       "                    <tr><td style=\"background-color:lightgrey\"></td><td style=\"background-color:lightgrey\">A</td><td style=\"background-color:lightgrey\">B</td><td style=\"background-color:lightgrey\">C</td><td style=\"background-color:lightgrey\">D</td><td style=\"background-color:lightgrey\">E</td><td style=\"background-color:lightgrey\">F</td><td style=\"background-color:lightgrey\">G</td><td style=\"background-color:lightgrey\">H</td><td style=\"background-color:lightgrey\">I</td><td style=\"background-color:lightgrey\">J</td><td style=\"background-color:lightgrey\">K</td><td style=\"background-color:lightgrey\">L</td><td style=\"background-color:lightgrey\">M</td></tr>\n",
       "<tr><td style=\"background-color:lightgrey\">1</td><td style=\"background-color:white\">Table 11 Housing market: simple average house prices, by new/other dwellings, type of buyer and  region, United Kingdom, from 1992 (quarterly) 1, 2, 3 (previously DCLG table 504)</td><td style=\"background-color:white\"></td><td style=\"background-color:white\"></td><td style=\"background-color:white\"></td><td style=\"background-color:white\"></td><td style=\"background-color:white\"></td><td style=\"background-color:white\"></td><td style=\"background-color:white\"></td><td style=\"background-color:white\"></td><td style=\"background-color:white\"></td><td style=\"background-color:white\"></td><td style=\"background-color:white\"></td><td style=\"background-color:white\"></td></tr>\n",
       "<tr><td style=\"background-color:lightgrey\">2</td><td style=\"background-color:white\"></td><td style=\"background-color:white\"></td><td style=\"background-color:white\"></td><td style=\"background-color:white\"></td><td style=\"background-color:white\"></td><td style=\"background-color:white\"></td><td style=\"background-color:white\"></td><td style=\"background-color:white\"></td><td style=\"background-color:white\"></td><td style=\"background-color:white\"></td><td style=\"background-color:white\"></td><td style=\"background-color:white\"></td><td style=\"background-color:white\"></td></tr>\n",
       "<tr><td style=\"background-color:lightgrey\">3</td><td style=\"background-color:white\"></td><td style=\"background-color:white\"></td><td style=\"background-color:white\"></td><td style=\"background-color:white\"></td><td style=\"background-color:white\">New dwellings</td><td style=\"background-color:white\"></td><td style=\"background-color:white\">Other dwellings4</td><td style=\"background-color:white\"></td><td style=\"background-color:white\">All dwellings</td><td style=\"background-color:white\"></td><td style=\"background-color:white\">First time buyers</td><td style=\"background-color:white\"></td><td style=\"background-color:white\">Former owner occupiers</td></tr>\n",
       "<tr><td style=\"background-color:lightgrey\">4</td><td style=\"background-color:white\"></td><td style=\"background-color:white\"></td><td style=\"background-color:white\"></td><td style=\"background-color:white\"></td><td style=\"background-color:white\">Price</td><td style=\"background-color:white\"></td><td style=\"background-color:white\">Price</td><td style=\"background-color:white\"></td><td style=\"background-color:white\">Price</td><td style=\"background-color:white\"></td><td style=\"background-color:white\">Price</td><td style=\"background-color:white\"></td><td style=\"background-color:white\">Price</td></tr>\n",
       "<tr><td style=\"background-color:lightgrey\">5</td><td style=\"background-color:white\"></td><td style=\"background-color:white\"></td><td style=\"background-color:white\"></td><td style=\"background-color:white\"></td><td style=\"background-color:white\">£</td><td style=\"background-color:white\"></td><td style=\"background-color:white\">£</td><td style=\"background-color:white\"></td><td style=\"background-color:white\">£</td><td style=\"background-color:white\"></td><td style=\"background-color:white\">£</td><td style=\"background-color:white\"></td><td style=\"background-color:white\">£</td></tr>\n",
       "<tr><td style=\"background-color:lightgrey\">6</td><td style=\"background-color:white\">United Kingdom</td><td style=\"background-color:white\"></td><td style=\"background-color:white\"></td><td style=\"background-color:white\"></td><td style=\"background-color:white\"></td><td style=\"background-color:white\"></td><td style=\"background-color:white\"></td><td style=\"background-color:white\"></td><td style=\"background-color:white\"></td><td style=\"background-color:white\"></td><td style=\"background-color:white\"></td><td style=\"background-color:white\"></td><td style=\"background-color:white\"></td></tr>\n",
       "<tr><td style=\"background-color:lightgrey\">7</td><td style=\"background-color:white\">K02000001</td><td style=\"background-color:white\"></td><td style=\"background-color:white\"></td><td style=\"background-color:white\"></td><td style=\"background-color:white\"></td><td style=\"background-color:white\"></td><td style=\"background-color:white\"></td><td style=\"background-color:white\"></td><td style=\"background-color:white\"></td><td style=\"background-color:white\"></td><td style=\"background-color:white\"></td><td style=\"background-color:white\"></td><td style=\"background-color:white\"></td></tr>\n",
       "<tr><td style=\"background-color:lightgrey\">8</td><td style=\"background-color:white\"></td><td style=\"background-color:white\">1992.0</td><td style=\"background-color:white\">Q1</td><td style=\"background-color:white\"></td><td style=\"background-color:white\"></td><td style=\"background-color:white\"></td><td style=\"background-color:white\"></td><td style=\"background-color:white\"></td><td style=\"background-color:white\"></td><td style=\"background-color:white\"></td><td style=\"background-color:white\"></td><td style=\"background-color:white\"></td><td style=\"background-color:white\"></td></tr>\n",
       "<tr><td style=\"background-color:lightgrey\">9</td><td style=\"background-color:white\"></td><td style=\"background-color:white\"></td><td style=\"background-color:white\">Q2</td><td style=\"background-color:white\"></td><td style=\"background-color:white\">77360.0</td><td style=\"background-color:white\"></td><td style=\"background-color:white\">60210.0</td><td style=\"background-color:white\"></td><td style=\"background-color:white\">62255.0</td><td style=\"background-color:white\"></td><td style=\"background-color:white\">46919.0</td><td style=\"background-color:white\"></td><td style=\"background-color:white\">76988.0</td></tr>\n",
       "<tr><td style=\"background-color:lightgrey\">10</td><td style=\"background-color:white\"></td><td style=\"background-color:white\"></td><td style=\"background-color:white\">Q3</td><td style=\"background-color:white\"></td><td style=\"background-color:white\">69893.0</td><td style=\"background-color:white\"></td><td style=\"background-color:white\">62513.0</td><td style=\"background-color:white\"></td><td style=\"background-color:white\">63712.0</td><td style=\"background-color:white\"></td><td style=\"background-color:white\">48578.0</td><td style=\"background-color:white\"></td><td style=\"background-color:white\">79493.0</td></tr>\n",
       "<tr><td style=\"background-color:lightgrey\">11</td><td style=\"background-color:white\"></td><td style=\"background-color:white\"></td><td style=\"background-color:white\">Q4</td><td style=\"background-color:white\"></td><td style=\"background-color:white\">70043.0</td><td style=\"background-color:white\"></td><td style=\"background-color:white\">57193.0</td><td style=\"background-color:white\"></td><td style=\"background-color:white\">59230.0</td><td style=\"background-color:white\"></td><td style=\"background-color:white\">44831.0</td><td style=\"background-color:white\"></td><td style=\"background-color:white\">76992.0</td></tr>\n",
       "<tr><td style=\"background-color:lightgrey\">12</td><td style=\"background-color:white\"></td><td style=\"background-color:white\">1993.0</td><td style=\"background-color:white\">Q1</td><td style=\"background-color:white\"></td><td style=\"background-color:white\">72700.0</td><td style=\"background-color:white\"></td><td style=\"background-color:white\">58345.0</td><td style=\"background-color:white\"></td><td style=\"background-color:white\">60213.0</td><td style=\"background-color:white\"></td><td style=\"background-color:white\">46300.0</td><td style=\"background-color:white\"></td><td style=\"background-color:white\">77787.0</td></tr>\n",
       "<tr><td style=\"background-color:lightgrey\">13</td><td style=\"background-color:white\"></td><td style=\"background-color:white\"></td><td style=\"background-color:white\">Q2</td><td style=\"background-color:white\"></td><td style=\"background-color:white\">73289.0</td><td style=\"background-color:white\"></td><td style=\"background-color:white\">60196.0</td><td style=\"background-color:white\"></td><td style=\"background-color:white\">61895.0</td><td style=\"background-color:white\"></td><td style=\"background-color:white\">48566.0</td><td style=\"background-color:white\"></td><td style=\"background-color:white\">78151.0</td></tr>\n",
       "<tr><td style=\"background-color:lightgrey\">14</td><td style=\"background-color:white\"></td><td style=\"background-color:white\"></td><td style=\"background-color:white\">Q3</td><td style=\"background-color:white\"></td><td style=\"background-color:white\">73285.0</td><td style=\"background-color:white\"></td><td style=\"background-color:white\">61941.0</td><td style=\"background-color:white\"></td><td style=\"background-color:white\">63742.0</td><td style=\"background-color:white\"></td><td style=\"background-color:white\">47954.0</td><td style=\"background-color:white\"></td><td style=\"background-color:white\">81710.0</td></tr>\n",
       "<tr><td style=\"background-color:lightgrey\">15</td><td style=\"background-color:white\"></td><td style=\"background-color:white\"></td><td style=\"background-color:white\">Q4</td><td style=\"background-color:white\"></td><td style=\"background-color:white\">73460.0</td><td style=\"background-color:white\"></td><td style=\"background-color:white\">60463.0</td><td style=\"background-color:white\"></td><td style=\"background-color:white\">62596.0</td><td style=\"background-color:white\"></td><td style=\"background-color:white\">47475.0</td><td style=\"background-color:white\"></td><td style=\"background-color:white\">79860.0</td></tr>\n",
       "<tr><td style=\"background-color:lightgrey\">16</td><td style=\"background-color:white\"></td><td style=\"background-color:white\">1994.0</td><td style=\"background-color:white\">Q1</td><td style=\"background-color:white\"></td><td style=\"background-color:white\">72892.0</td><td style=\"background-color:white\"></td><td style=\"background-color:white\">60070.0</td><td style=\"background-color:white\"></td><td style=\"background-color:white\">62024.0</td><td style=\"background-color:white\"></td><td style=\"background-color:white\">46283.0</td><td style=\"background-color:white\"></td><td style=\"background-color:white\">82473.0</td></tr>\n",
       "<tr><td style=\"background-color:lightgrey\">17</td><td style=\"background-color:white\"></td><td style=\"background-color:white\"></td><td style=\"background-color:white\">Q2</td><td style=\"background-color:white\"></td><td style=\"background-color:white\">74421.0</td><td style=\"background-color:white\"></td><td style=\"background-color:white\">63026.0</td><td style=\"background-color:white\"></td><td style=\"background-color:white\">64835.0</td><td style=\"background-color:white\"></td><td style=\"background-color:white\">48754.0</td><td style=\"background-color:white\"></td><td style=\"background-color:white\">83955.0</td></tr>\n",
       "<tr><td style=\"background-color:lightgrey\">18</td><td style=\"background-color:white\"></td><td style=\"background-color:white\"></td><td style=\"background-color:white\">Q3</td><td style=\"background-color:white\"></td><td style=\"background-color:white\">74310.0</td><td style=\"background-color:white\"></td><td style=\"background-color:white\">64165.0</td><td style=\"background-color:white\"></td><td style=\"background-color:white\">66159.0</td><td style=\"background-color:white\"></td><td style=\"background-color:white\">48619.0</td><td style=\"background-color:white\"></td><td style=\"background-color:white\">86916.0</td></tr>\n",
       "<tr><td style=\"background-color:lightgrey\">19</td><td style=\"background-color:white\"></td><td style=\"background-color:white\"></td><td style=\"background-color:white\">Q4</td><td style=\"background-color:white\"></td><td style=\"background-color:white\">76852.0</td><td style=\"background-color:white\"></td><td style=\"background-color:white\">63006.0</td><td style=\"background-color:white\"></td><td style=\"background-color:white\">65583.0</td><td style=\"background-color:white\"></td><td style=\"background-color:white\">49021.0</td><td style=\"background-color:white\"></td><td style=\"background-color:white\">85403.0</td></tr>\n",
       "<tr><td style=\"background-color:lightgrey\">20</td><td style=\"background-color:white\"></td><td style=\"background-color:white\">1995.0</td><td style=\"background-color:white\">Q1</td><td style=\"background-color:white\"></td><td style=\"background-color:white\">74752.0</td><td style=\"background-color:white\"></td><td style=\"background-color:white\">59659.0</td><td style=\"background-color:white\"></td><td style=\"background-color:white\">62329.0</td><td style=\"background-color:white\"></td><td style=\"background-color:white\">46961.0</td><td style=\"background-color:white\"></td><td style=\"background-color:white\">82698.0</td></tr>\n",
       "\n",
       "                </table>\n",
       "            </body>\n",
       "            <br>\n",
       "        </html>\n",
       "    "
      ],
      "text/plain": [
       "<IPython.core.display.HTML object>"
      ]
     },
     "metadata": {},
     "output_type": "display_data"
    }
   ],
   "source": [
    "from tidychef import acquire, preview\n",
    "from tidychef.selection import XlsSelectable\n",
    "\n",
    "table: XlsSelectable = acquire.xls.http(\"https://raw.githubusercontent.com/mikeAdamss/tidychef/main/tests/fixtures/xls/house-prices.xls\", tables=\"Table 11\")\n",
    "preview(table, bounded=\"A1:M20\")"
   ]
  },
  {
   "cell_type": "markdown",
   "metadata": {},
   "source": [
    "From an xlx source which can be [downloaded here](https://raw.githubusercontent.com/mikeAdamss/tidychef/main/tests/fixtures/xls/house-prices.xls)."
   ]
  },
  {
   "cell_type": "markdown",
   "metadata": {},
   "source": [
    "## Requirements\n",
    "\n",
    "- We'll take \"Year\" and \"Quarter\" from the appropriate values in columns B and C.\n",
    "- We'll take populated cells on row 4 as \"Housing\" and we'll strip the \"4\" notation away.\n",
    "- We'll take \"Area\" and \"Area Code\" from column A (see United Kingdom and K02000001 as the examples).\n",
    "- We'll call the observations column \"Value\" and we'll strip any trailing \".0\"s.\n",
    " \n",
    " Note: this is one of the morecomplexbasic examples but its complexity in terms of large amound of simple things. Take you time and work through it logically."
   ]
  },
  {
   "cell_type": "code",
   "execution_count": 2,
   "metadata": {
    "tags": []
   },
   "outputs": [
    {
     "data": {
      "text/html": [
       "\n",
       "    <html>\n",
       "        \n",
       "    <style>\n",
       "    table, th, td {\n",
       "        border: 1px solid;\n",
       "    }\n",
       "\n",
       "    table {\n",
       "        border-collapse: collapse;\n",
       "    }\n",
       "\n",
       "    td {\n",
       "        align: center;\n",
       "        border: 1px  black solid !important;\n",
       "        color: black !important;\n",
       "    }\n",
       "\n",
       "    th, td {\n",
       "        padding: 5px;\n",
       "    }\n",
       "\n",
       "    </style>\n",
       "    \n",
       "            <table>\n",
       "                \n",
       "            <tr>\n",
       "                <td style=\"background-color:cyan\">Observation</td>\n",
       "            <tr>\n",
       "        \n",
       "            <tr>\n",
       "                <td style=\"background-color:#99ff99\">Measure</td>\n",
       "            <tr>\n",
       "        \n",
       "            <tr>\n",
       "                <td style=\"background-color:#eeccff\">Area Code</td>\n",
       "            <tr>\n",
       "        \n",
       "            <tr>\n",
       "                <td style=\"background-color:#ffe066\">Area</td>\n",
       "            <tr>\n",
       "        \n",
       "            <tr>\n",
       "                <td style=\"background-color:#ff4da6\">Year</td>\n",
       "            <tr>\n",
       "        \n",
       "            <tr>\n",
       "                <td style=\"background-color:#ff9933\">Quarter</td>\n",
       "            <tr>\n",
       "        \n",
       "            <tr>\n",
       "                <td style=\"background-color:#4d4dff\">Measure</td>\n",
       "            <tr>\n",
       "        \n",
       "            </table>\n",
       "\n",
       "            <body>\n",
       "                <h2>Table 11</h2>\n",
       "                <table>\n",
       "                    <tr><td style=\"background-color:lightgrey\"></td><td style=\"background-color:lightgrey\">A</td><td style=\"background-color:lightgrey\">B</td><td style=\"background-color:lightgrey\">C</td><td style=\"background-color:lightgrey\">D</td><td style=\"background-color:lightgrey\">E</td><td style=\"background-color:lightgrey\">F</td><td style=\"background-color:lightgrey\">G</td><td style=\"background-color:lightgrey\">H</td><td style=\"background-color:lightgrey\">I</td><td style=\"background-color:lightgrey\">J</td><td style=\"background-color:lightgrey\">K</td><td style=\"background-color:lightgrey\">L</td><td style=\"background-color:lightgrey\">M</td></tr>\n",
       "<tr><td style=\"background-color:lightgrey\">1</td><td style=\"background-color:white\">Table 11 Housing market: simple average house prices, by new/other dwellings, type of buyer and  region, United Kingdom, from 1992 (quarterly) 1, 2, 3 (previously DCLG table 504)</td><td style=\"background-color:white\"></td><td style=\"background-color:white\"></td><td style=\"background-color:white\"></td><td style=\"background-color:white\"></td><td style=\"background-color:white\"></td><td style=\"background-color:white\"></td><td style=\"background-color:white\"></td><td style=\"background-color:white\"></td><td style=\"background-color:white\"></td><td style=\"background-color:white\"></td><td style=\"background-color:white\"></td><td style=\"background-color:white\"></td></tr>\n",
       "<tr><td style=\"background-color:lightgrey\">2</td><td style=\"background-color:white\"></td><td style=\"background-color:white\"></td><td style=\"background-color:white\"></td><td style=\"background-color:white\"></td><td style=\"background-color:white\"></td><td style=\"background-color:white\"></td><td style=\"background-color:white\"></td><td style=\"background-color:white\"></td><td style=\"background-color:white\"></td><td style=\"background-color:white\"></td><td style=\"background-color:white\"></td><td style=\"background-color:white\"></td><td style=\"background-color:white\"></td></tr>\n",
       "<tr><td style=\"background-color:lightgrey\">3</td><td style=\"background-color:white\"></td><td style=\"background-color:white\"></td><td style=\"background-color:white\"></td><td style=\"background-color:white\"></td><td style=\"background-color:#99ff99\">New dwellings</td><td style=\"background-color:white\"></td><td style=\"background-color:#99ff99\">Other dwellings4</td><td style=\"background-color:white\"></td><td style=\"background-color:#99ff99\">All dwellings</td><td style=\"background-color:white\"></td><td style=\"background-color:#99ff99\">First time buyers</td><td style=\"background-color:white\"></td><td style=\"background-color:#99ff99\">Former owner occupiers</td></tr>\n",
       "<tr><td style=\"background-color:lightgrey\">4</td><td style=\"background-color:white\"></td><td style=\"background-color:white\"></td><td style=\"background-color:white\"></td><td style=\"background-color:white\"></td><td style=\"background-color:#4d4dff\">Price</td><td style=\"background-color:white\"></td><td style=\"background-color:#4d4dff\">Price</td><td style=\"background-color:white\"></td><td style=\"background-color:#4d4dff\">Price</td><td style=\"background-color:white\"></td><td style=\"background-color:#4d4dff\">Price</td><td style=\"background-color:white\"></td><td style=\"background-color:#4d4dff\">Price</td></tr>\n",
       "<tr><td style=\"background-color:lightgrey\">5</td><td style=\"background-color:white\"></td><td style=\"background-color:white\"></td><td style=\"background-color:white\"></td><td style=\"background-color:white\"></td><td style=\"background-color:white\">£</td><td style=\"background-color:white\"></td><td style=\"background-color:white\">£</td><td style=\"background-color:white\"></td><td style=\"background-color:white\">£</td><td style=\"background-color:white\"></td><td style=\"background-color:white\">£</td><td style=\"background-color:white\"></td><td style=\"background-color:white\">£</td></tr>\n",
       "<tr><td style=\"background-color:lightgrey\">6</td><td style=\"background-color:#ffe066\">United Kingdom</td><td style=\"background-color:white\"></td><td style=\"background-color:white\"></td><td style=\"background-color:white\"></td><td style=\"background-color:white\"></td><td style=\"background-color:white\"></td><td style=\"background-color:white\"></td><td style=\"background-color:white\"></td><td style=\"background-color:white\"></td><td style=\"background-color:white\"></td><td style=\"background-color:white\"></td><td style=\"background-color:white\"></td><td style=\"background-color:white\"></td></tr>\n",
       "<tr><td style=\"background-color:lightgrey\">7</td><td style=\"background-color:#eeccff\">K02000001</td><td style=\"background-color:white\"></td><td style=\"background-color:white\"></td><td style=\"background-color:white\"></td><td style=\"background-color:white\"></td><td style=\"background-color:white\"></td><td style=\"background-color:white\"></td><td style=\"background-color:white\"></td><td style=\"background-color:white\"></td><td style=\"background-color:white\"></td><td style=\"background-color:white\"></td><td style=\"background-color:white\"></td><td style=\"background-color:white\"></td></tr>\n",
       "<tr><td style=\"background-color:lightgrey\">8</td><td style=\"background-color:white\"></td><td style=\"background-color:#ff4da6\">1992.0</td><td style=\"background-color:#ff9933\">Q1</td><td style=\"background-color:white\"></td><td style=\"background-color:white\"></td><td style=\"background-color:white\"></td><td style=\"background-color:white\"></td><td style=\"background-color:white\"></td><td style=\"background-color:white\"></td><td style=\"background-color:white\"></td><td style=\"background-color:white\"></td><td style=\"background-color:white\"></td><td style=\"background-color:white\"></td></tr>\n",
       "<tr><td style=\"background-color:lightgrey\">9</td><td style=\"background-color:white\"></td><td style=\"background-color:white\"></td><td style=\"background-color:#ff9933\">Q2</td><td style=\"background-color:white\"></td><td style=\"background-color:cyan\">77360.0</td><td style=\"background-color:white\"></td><td style=\"background-color:cyan\">60210.0</td><td style=\"background-color:white\"></td><td style=\"background-color:cyan\">62255.0</td><td style=\"background-color:white\"></td><td style=\"background-color:cyan\">46919.0</td><td style=\"background-color:white\"></td><td style=\"background-color:cyan\">76988.0</td></tr>\n",
       "<tr><td style=\"background-color:lightgrey\">10</td><td style=\"background-color:white\"></td><td style=\"background-color:white\"></td><td style=\"background-color:#ff9933\">Q3</td><td style=\"background-color:white\"></td><td style=\"background-color:cyan\">69893.0</td><td style=\"background-color:white\"></td><td style=\"background-color:cyan\">62513.0</td><td style=\"background-color:white\"></td><td style=\"background-color:cyan\">63712.0</td><td style=\"background-color:white\"></td><td style=\"background-color:cyan\">48578.0</td><td style=\"background-color:white\"></td><td style=\"background-color:cyan\">79493.0</td></tr>\n",
       "<tr><td style=\"background-color:lightgrey\">11</td><td style=\"background-color:white\"></td><td style=\"background-color:white\"></td><td style=\"background-color:#ff9933\">Q4</td><td style=\"background-color:white\"></td><td style=\"background-color:cyan\">70043.0</td><td style=\"background-color:white\"></td><td style=\"background-color:cyan\">57193.0</td><td style=\"background-color:white\"></td><td style=\"background-color:cyan\">59230.0</td><td style=\"background-color:white\"></td><td style=\"background-color:cyan\">44831.0</td><td style=\"background-color:white\"></td><td style=\"background-color:cyan\">76992.0</td></tr>\n",
       "<tr><td style=\"background-color:lightgrey\">12</td><td style=\"background-color:white\"></td><td style=\"background-color:#ff4da6\">1993.0</td><td style=\"background-color:#ff9933\">Q1</td><td style=\"background-color:white\"></td><td style=\"background-color:cyan\">72700.0</td><td style=\"background-color:white\"></td><td style=\"background-color:cyan\">58345.0</td><td style=\"background-color:white\"></td><td style=\"background-color:cyan\">60213.0</td><td style=\"background-color:white\"></td><td style=\"background-color:cyan\">46300.0</td><td style=\"background-color:white\"></td><td style=\"background-color:cyan\">77787.0</td></tr>\n",
       "<tr><td style=\"background-color:lightgrey\">13</td><td style=\"background-color:white\"></td><td style=\"background-color:white\"></td><td style=\"background-color:#ff9933\">Q2</td><td style=\"background-color:white\"></td><td style=\"background-color:cyan\">73289.0</td><td style=\"background-color:white\"></td><td style=\"background-color:cyan\">60196.0</td><td style=\"background-color:white\"></td><td style=\"background-color:cyan\">61895.0</td><td style=\"background-color:white\"></td><td style=\"background-color:cyan\">48566.0</td><td style=\"background-color:white\"></td><td style=\"background-color:cyan\">78151.0</td></tr>\n",
       "<tr><td style=\"background-color:lightgrey\">14</td><td style=\"background-color:white\"></td><td style=\"background-color:white\"></td><td style=\"background-color:#ff9933\">Q3</td><td style=\"background-color:white\"></td><td style=\"background-color:cyan\">73285.0</td><td style=\"background-color:white\"></td><td style=\"background-color:cyan\">61941.0</td><td style=\"background-color:white\"></td><td style=\"background-color:cyan\">63742.0</td><td style=\"background-color:white\"></td><td style=\"background-color:cyan\">47954.0</td><td style=\"background-color:white\"></td><td style=\"background-color:cyan\">81710.0</td></tr>\n",
       "<tr><td style=\"background-color:lightgrey\">15</td><td style=\"background-color:white\"></td><td style=\"background-color:white\"></td><td style=\"background-color:#ff9933\">Q4</td><td style=\"background-color:white\"></td><td style=\"background-color:cyan\">73460.0</td><td style=\"background-color:white\"></td><td style=\"background-color:cyan\">60463.0</td><td style=\"background-color:white\"></td><td style=\"background-color:cyan\">62596.0</td><td style=\"background-color:white\"></td><td style=\"background-color:cyan\">47475.0</td><td style=\"background-color:white\"></td><td style=\"background-color:cyan\">79860.0</td></tr>\n",
       "<tr><td style=\"background-color:lightgrey\">16</td><td style=\"background-color:white\"></td><td style=\"background-color:#ff4da6\">1994.0</td><td style=\"background-color:#ff9933\">Q1</td><td style=\"background-color:white\"></td><td style=\"background-color:cyan\">72892.0</td><td style=\"background-color:white\"></td><td style=\"background-color:cyan\">60070.0</td><td style=\"background-color:white\"></td><td style=\"background-color:cyan\">62024.0</td><td style=\"background-color:white\"></td><td style=\"background-color:cyan\">46283.0</td><td style=\"background-color:white\"></td><td style=\"background-color:cyan\">82473.0</td></tr>\n",
       "<tr><td style=\"background-color:lightgrey\">17</td><td style=\"background-color:white\"></td><td style=\"background-color:white\"></td><td style=\"background-color:#ff9933\">Q2</td><td style=\"background-color:white\"></td><td style=\"background-color:cyan\">74421.0</td><td style=\"background-color:white\"></td><td style=\"background-color:cyan\">63026.0</td><td style=\"background-color:white\"></td><td style=\"background-color:cyan\">64835.0</td><td style=\"background-color:white\"></td><td style=\"background-color:cyan\">48754.0</td><td style=\"background-color:white\"></td><td style=\"background-color:cyan\">83955.0</td></tr>\n",
       "<tr><td style=\"background-color:lightgrey\">18</td><td style=\"background-color:white\"></td><td style=\"background-color:white\"></td><td style=\"background-color:#ff9933\">Q3</td><td style=\"background-color:white\"></td><td style=\"background-color:cyan\">74310.0</td><td style=\"background-color:white\"></td><td style=\"background-color:cyan\">64165.0</td><td style=\"background-color:white\"></td><td style=\"background-color:cyan\">66159.0</td><td style=\"background-color:white\"></td><td style=\"background-color:cyan\">48619.0</td><td style=\"background-color:white\"></td><td style=\"background-color:cyan\">86916.0</td></tr>\n",
       "<tr><td style=\"background-color:lightgrey\">19</td><td style=\"background-color:white\"></td><td style=\"background-color:white\"></td><td style=\"background-color:#ff9933\">Q4</td><td style=\"background-color:white\"></td><td style=\"background-color:cyan\">76852.0</td><td style=\"background-color:white\"></td><td style=\"background-color:cyan\">63006.0</td><td style=\"background-color:white\"></td><td style=\"background-color:cyan\">65583.0</td><td style=\"background-color:white\"></td><td style=\"background-color:cyan\">49021.0</td><td style=\"background-color:white\"></td><td style=\"background-color:cyan\">85403.0</td></tr>\n",
       "<tr><td style=\"background-color:lightgrey\">20</td><td style=\"background-color:white\"></td><td style=\"background-color:#ff4da6\">1995.0</td><td style=\"background-color:#ff9933\">Q1</td><td style=\"background-color:white\"></td><td style=\"background-color:cyan\">74752.0</td><td style=\"background-color:white\"></td><td style=\"background-color:cyan\">59659.0</td><td style=\"background-color:white\"></td><td style=\"background-color:cyan\">62329.0</td><td style=\"background-color:white\"></td><td style=\"background-color:cyan\">46961.0</td><td style=\"background-color:white\"></td><td style=\"background-color:cyan\">82698.0</td></tr>\n",
       "\n",
       "                </table>\n",
       "            </body>\n",
       "            <br>\n",
       "        </html>\n",
       "    "
      ],
      "text/plain": [
       "<IPython.core.display.HTML object>"
      ]
     },
     "metadata": {},
     "output_type": "display_data"
    }
   ],
   "source": [
    "from tidychef import acquire, preview\n",
    "from tidychef.direction import up, down, right, left\n",
    "from tidychef.output import TidyData, Column\n",
    "from tidychef.selection import XlsSelectable\n",
    "\n",
    "# Get the data via the acquire api, in this instance we're only interested in table 11 of the spreadsheet\n",
    "table: XlsSelectable = acquire.xls.http(\"https://raw.githubusercontent.com/mikeAdamss/tidychef/main/tests/fixtures/xls/house-prices.xls\", tables=\"Table 11\")\n",
    "\n",
    "# Sweep up some unwanted stuff at the bottom of the table\n",
    "unwanted = table.column('A').is_numeric().expand(right).expand(down)\n",
    "\n",
    "# Get the area level - I'm doing something a little sneaky here to avoid regex'ing a large dataset, see nuances.\n",
    "area = table.excel_ref(\"A1\").fill(down).is_not_blank().shift(up).is_not_blank().label_as(\"Area\") - unwanted\n",
    "\n",
    "# An area code is always above an area\n",
    "area_code = area.shift(down).label_as(\"Area Code\")\n",
    "\n",
    "# - (a) Find the row that's got 1 or more cells with 'Price' written in it\n",
    "# - (b) Get rid of the blank cells on that row\n",
    "measure = table.row_containing_strings(['Price']).is_not_blank().label_as(\"Measure\")\n",
    "\n",
    "# housing is always the line above measure\n",
    "housing = measure.shift(up)\n",
    "\n",
    "# observations are numberic values below our \"Measure\" selections\n",
    "observations = measure.fill(down).is_not_blank().is_numeric().label_as(\"Observation\")\n",
    "\n",
    "# We'll select year as number values in column B\n",
    "year = table.excel_ref('B').is_numeric().label_as(\"Year\")\n",
    "\n",
    "# years are non black cells to the right of year\n",
    "quarter = year.shift(right).extrude(down(3)).is_not_blank().label_as(\"Quarter\")\n",
    "\n",
    "# Create a bounded preview inline but also write the full preview to path\n",
    "preview(observations, housing, area_code, area, year, quarter, measure, bounded=\"A1:M20\")\n",
    "preview(observations, housing, area_code, area, year, quarter, measure, path=\"house-prices.html\")\n",
    "\n",
    "tidy_data = TidyData(\n",
    "    observations,\n",
    "    Column(measure.attach_directly(down)),\n",
    "    Column(housing.attach_directly(down), apply=lambda x: x.rstrip(\"4\")), # Lets strip the notation\n",
    "    Column(area_code.attach_closest(down)),\n",
    "    Column(area.attach_closest(down)),\n",
    "    Column(year.attach_closest(down), apply=lambda x: x.replace(\".0\", \"\")), # Present as whole number\n",
    "    Column(quarter.attach_directly(right)),\n",
    "    obs_apply = lambda x: x.replace(\".0\", \"\") # Present observation as whole number where applicable.\n",
    ")\n",
    "\n",
    "tidy_data.to_csv(\"house-prices.csv\")"
   ]
  },
  {
   "cell_type": "markdown",
   "metadata": {},
   "source": [
    "## Nuances\n",
    "\n",
    "### How we're getting area - and why\n",
    "\n",
    "Not everyone likes to use regex and it can have performance issues if you go wild with it, so we're taking a different approach to this. I'll walk through it one step at a time. Here's the full command:\n",
    "\n",
    "```python\n",
    "area = table.excel_ref(\"A1\").fill(down).is_not_blank().shift(up).is_not_blank().label_as(\"Area\")\n",
    "```\n",
    "\n",
    "Note - for brevity we'll just look at one block the two headers in questions, but remember there are dozens of identical two cell blocks in this column and the commands operate simultaneously on **all** of them."
   ]
  },
  {
   "cell_type": "code",
   "execution_count": 3,
   "metadata": {
    "tags": []
   },
   "outputs": [
    {
     "data": {
      "text/html": [
       "\n",
       "    <html>\n",
       "        \n",
       "    <style>\n",
       "    table, th, td {\n",
       "        border: 1px solid;\n",
       "    }\n",
       "\n",
       "    table {\n",
       "        border-collapse: collapse;\n",
       "    }\n",
       "\n",
       "    td {\n",
       "        align: center;\n",
       "        border: 1px  black solid !important;\n",
       "        color: black !important;\n",
       "    }\n",
       "\n",
       "    th, td {\n",
       "        padding: 5px;\n",
       "    }\n",
       "\n",
       "    </style>\n",
       "    \n",
       "            <table>\n",
       "                \n",
       "            <tr>\n",
       "                <td style=\"background-color:cyan\">Unnamed Selection: 0</td>\n",
       "            <tr>\n",
       "        \n",
       "            </table>\n",
       "\n",
       "            <body>\n",
       "                <h2>Table 11</h2>\n",
       "                <table>\n",
       "                    <tr><td style=\"background-color:lightgrey\"></td><td style=\"background-color:lightgrey\">A</td><td style=\"background-color:lightgrey\">B</td><td style=\"background-color:lightgrey\">C</td><td style=\"background-color:lightgrey\">D</td><td style=\"background-color:lightgrey\">E</td><td style=\"background-color:lightgrey\">F</td><td style=\"background-color:lightgrey\">G</td><td style=\"background-color:lightgrey\">H</td><td style=\"background-color:lightgrey\">I</td><td style=\"background-color:lightgrey\">J</td><td style=\"background-color:lightgrey\">K</td><td style=\"background-color:lightgrey\">L</td><td style=\"background-color:lightgrey\">M</td></tr>\n",
       "<tr><td style=\"background-color:lightgrey\">1</td><td style=\"background-color:white\">Table 11 Housing market: simple average house prices, by new/other dwellings, type of buyer and  region, United Kingdom, from 1992 (quarterly) 1, 2, 3 (previously DCLG table 504)</td><td style=\"background-color:white\"></td><td style=\"background-color:white\"></td><td style=\"background-color:white\"></td><td style=\"background-color:white\"></td><td style=\"background-color:white\"></td><td style=\"background-color:white\"></td><td style=\"background-color:white\"></td><td style=\"background-color:white\"></td><td style=\"background-color:white\"></td><td style=\"background-color:white\"></td><td style=\"background-color:white\"></td><td style=\"background-color:white\"></td></tr>\n",
       "<tr><td style=\"background-color:lightgrey\">2</td><td style=\"background-color:white\"></td><td style=\"background-color:white\"></td><td style=\"background-color:white\"></td><td style=\"background-color:white\"></td><td style=\"background-color:white\"></td><td style=\"background-color:white\"></td><td style=\"background-color:white\"></td><td style=\"background-color:white\"></td><td style=\"background-color:white\"></td><td style=\"background-color:white\"></td><td style=\"background-color:white\"></td><td style=\"background-color:white\"></td><td style=\"background-color:white\"></td></tr>\n",
       "<tr><td style=\"background-color:lightgrey\">3</td><td style=\"background-color:white\"></td><td style=\"background-color:white\"></td><td style=\"background-color:white\"></td><td style=\"background-color:white\"></td><td style=\"background-color:white\">New dwellings</td><td style=\"background-color:white\"></td><td style=\"background-color:white\">Other dwellings4</td><td style=\"background-color:white\"></td><td style=\"background-color:white\">All dwellings</td><td style=\"background-color:white\"></td><td style=\"background-color:white\">First time buyers</td><td style=\"background-color:white\"></td><td style=\"background-color:white\">Former owner occupiers</td></tr>\n",
       "<tr><td style=\"background-color:lightgrey\">4</td><td style=\"background-color:white\"></td><td style=\"background-color:white\"></td><td style=\"background-color:white\"></td><td style=\"background-color:white\"></td><td style=\"background-color:white\">Price</td><td style=\"background-color:white\"></td><td style=\"background-color:white\">Price</td><td style=\"background-color:white\"></td><td style=\"background-color:white\">Price</td><td style=\"background-color:white\"></td><td style=\"background-color:white\">Price</td><td style=\"background-color:white\"></td><td style=\"background-color:white\">Price</td></tr>\n",
       "<tr><td style=\"background-color:lightgrey\">5</td><td style=\"background-color:white\"></td><td style=\"background-color:white\"></td><td style=\"background-color:white\"></td><td style=\"background-color:white\"></td><td style=\"background-color:white\">£</td><td style=\"background-color:white\"></td><td style=\"background-color:white\">£</td><td style=\"background-color:white\"></td><td style=\"background-color:white\">£</td><td style=\"background-color:white\"></td><td style=\"background-color:white\">£</td><td style=\"background-color:white\"></td><td style=\"background-color:white\">£</td></tr>\n",
       "<tr><td style=\"background-color:lightgrey\">6</td><td style=\"background-color:cyan\">United Kingdom</td><td style=\"background-color:white\"></td><td style=\"background-color:white\"></td><td style=\"background-color:white\"></td><td style=\"background-color:white\"></td><td style=\"background-color:white\"></td><td style=\"background-color:white\"></td><td style=\"background-color:white\"></td><td style=\"background-color:white\"></td><td style=\"background-color:white\"></td><td style=\"background-color:white\"></td><td style=\"background-color:white\"></td><td style=\"background-color:white\"></td></tr>\n",
       "<tr><td style=\"background-color:lightgrey\">7</td><td style=\"background-color:cyan\">K02000001</td><td style=\"background-color:white\"></td><td style=\"background-color:white\"></td><td style=\"background-color:white\"></td><td style=\"background-color:white\"></td><td style=\"background-color:white\"></td><td style=\"background-color:white\"></td><td style=\"background-color:white\"></td><td style=\"background-color:white\"></td><td style=\"background-color:white\"></td><td style=\"background-color:white\"></td><td style=\"background-color:white\"></td><td style=\"background-color:white\"></td></tr>\n",
       "<tr><td style=\"background-color:lightgrey\">8</td><td style=\"background-color:white\"></td><td style=\"background-color:white\">1992.0</td><td style=\"background-color:white\">Q1</td><td style=\"background-color:white\"></td><td style=\"background-color:white\"></td><td style=\"background-color:white\"></td><td style=\"background-color:white\"></td><td style=\"background-color:white\"></td><td style=\"background-color:white\"></td><td style=\"background-color:white\"></td><td style=\"background-color:white\"></td><td style=\"background-color:white\"></td><td style=\"background-color:white\"></td></tr>\n",
       "\n",
       "                </table>\n",
       "            </body>\n",
       "            <br>\n",
       "        </html>\n",
       "    "
      ],
      "text/plain": [
       "<IPython.core.display.HTML object>"
      ]
     },
     "metadata": {},
     "output_type": "display_data"
    }
   ],
   "source": [
    "# Get not blank cells from Column A -not- counting cell A1 (its got some title information in it\n",
    "example = table.excel_ref(\"A1\").fill(down).is_not_blank()\n",
    "preview(example, bounded=\"A1:M8\")"
   ]
  },
  {
   "cell_type": "code",
   "execution_count": 4,
   "metadata": {
    "tags": []
   },
   "outputs": [
    {
     "data": {
      "text/html": [
       "\n",
       "    <html>\n",
       "        \n",
       "    <style>\n",
       "    table, th, td {\n",
       "        border: 1px solid;\n",
       "    }\n",
       "\n",
       "    table {\n",
       "        border-collapse: collapse;\n",
       "    }\n",
       "\n",
       "    td {\n",
       "        align: center;\n",
       "        border: 1px  black solid !important;\n",
       "        color: black !important;\n",
       "    }\n",
       "\n",
       "    th, td {\n",
       "        padding: 5px;\n",
       "    }\n",
       "\n",
       "    </style>\n",
       "    \n",
       "            <table>\n",
       "                \n",
       "            <tr>\n",
       "                <td style=\"background-color:cyan\">Unnamed Selection: 0</td>\n",
       "            <tr>\n",
       "        \n",
       "            </table>\n",
       "\n",
       "            <body>\n",
       "                <h2>Table 11</h2>\n",
       "                <table>\n",
       "                    <tr><td style=\"background-color:lightgrey\"></td><td style=\"background-color:lightgrey\">A</td><td style=\"background-color:lightgrey\">B</td><td style=\"background-color:lightgrey\">C</td><td style=\"background-color:lightgrey\">D</td><td style=\"background-color:lightgrey\">E</td><td style=\"background-color:lightgrey\">F</td><td style=\"background-color:lightgrey\">G</td><td style=\"background-color:lightgrey\">H</td><td style=\"background-color:lightgrey\">I</td><td style=\"background-color:lightgrey\">J</td><td style=\"background-color:lightgrey\">K</td><td style=\"background-color:lightgrey\">L</td><td style=\"background-color:lightgrey\">M</td></tr>\n",
       "<tr><td style=\"background-color:lightgrey\">1</td><td style=\"background-color:white\">Table 11 Housing market: simple average house prices, by new/other dwellings, type of buyer and  region, United Kingdom, from 1992 (quarterly) 1, 2, 3 (previously DCLG table 504)</td><td style=\"background-color:white\"></td><td style=\"background-color:white\"></td><td style=\"background-color:white\"></td><td style=\"background-color:white\"></td><td style=\"background-color:white\"></td><td style=\"background-color:white\"></td><td style=\"background-color:white\"></td><td style=\"background-color:white\"></td><td style=\"background-color:white\"></td><td style=\"background-color:white\"></td><td style=\"background-color:white\"></td><td style=\"background-color:white\"></td></tr>\n",
       "<tr><td style=\"background-color:lightgrey\">2</td><td style=\"background-color:white\"></td><td style=\"background-color:white\"></td><td style=\"background-color:white\"></td><td style=\"background-color:white\"></td><td style=\"background-color:white\"></td><td style=\"background-color:white\"></td><td style=\"background-color:white\"></td><td style=\"background-color:white\"></td><td style=\"background-color:white\"></td><td style=\"background-color:white\"></td><td style=\"background-color:white\"></td><td style=\"background-color:white\"></td><td style=\"background-color:white\"></td></tr>\n",
       "<tr><td style=\"background-color:lightgrey\">3</td><td style=\"background-color:white\"></td><td style=\"background-color:white\"></td><td style=\"background-color:white\"></td><td style=\"background-color:white\"></td><td style=\"background-color:white\">New dwellings</td><td style=\"background-color:white\"></td><td style=\"background-color:white\">Other dwellings4</td><td style=\"background-color:white\"></td><td style=\"background-color:white\">All dwellings</td><td style=\"background-color:white\"></td><td style=\"background-color:white\">First time buyers</td><td style=\"background-color:white\"></td><td style=\"background-color:white\">Former owner occupiers</td></tr>\n",
       "<tr><td style=\"background-color:lightgrey\">4</td><td style=\"background-color:white\"></td><td style=\"background-color:white\"></td><td style=\"background-color:white\"></td><td style=\"background-color:white\"></td><td style=\"background-color:white\">Price</td><td style=\"background-color:white\"></td><td style=\"background-color:white\">Price</td><td style=\"background-color:white\"></td><td style=\"background-color:white\">Price</td><td style=\"background-color:white\"></td><td style=\"background-color:white\">Price</td><td style=\"background-color:white\"></td><td style=\"background-color:white\">Price</td></tr>\n",
       "<tr><td style=\"background-color:lightgrey\">5</td><td style=\"background-color:cyan\"></td><td style=\"background-color:white\"></td><td style=\"background-color:white\"></td><td style=\"background-color:white\"></td><td style=\"background-color:white\">£</td><td style=\"background-color:white\"></td><td style=\"background-color:white\">£</td><td style=\"background-color:white\"></td><td style=\"background-color:white\">£</td><td style=\"background-color:white\"></td><td style=\"background-color:white\">£</td><td style=\"background-color:white\"></td><td style=\"background-color:white\">£</td></tr>\n",
       "<tr><td style=\"background-color:lightgrey\">6</td><td style=\"background-color:cyan\">United Kingdom</td><td style=\"background-color:white\"></td><td style=\"background-color:white\"></td><td style=\"background-color:white\"></td><td style=\"background-color:white\"></td><td style=\"background-color:white\"></td><td style=\"background-color:white\"></td><td style=\"background-color:white\"></td><td style=\"background-color:white\"></td><td style=\"background-color:white\"></td><td style=\"background-color:white\"></td><td style=\"background-color:white\"></td><td style=\"background-color:white\"></td></tr>\n",
       "<tr><td style=\"background-color:lightgrey\">7</td><td style=\"background-color:white\">K02000001</td><td style=\"background-color:white\"></td><td style=\"background-color:white\"></td><td style=\"background-color:white\"></td><td style=\"background-color:white\"></td><td style=\"background-color:white\"></td><td style=\"background-color:white\"></td><td style=\"background-color:white\"></td><td style=\"background-color:white\"></td><td style=\"background-color:white\"></td><td style=\"background-color:white\"></td><td style=\"background-color:white\"></td><td style=\"background-color:white\"></td></tr>\n",
       "<tr><td style=\"background-color:lightgrey\">8</td><td style=\"background-color:white\"></td><td style=\"background-color:white\">1992.0</td><td style=\"background-color:white\">Q1</td><td style=\"background-color:white\"></td><td style=\"background-color:white\"></td><td style=\"background-color:white\"></td><td style=\"background-color:white\"></td><td style=\"background-color:white\"></td><td style=\"background-color:white\"></td><td style=\"background-color:white\"></td><td style=\"background-color:white\"></td><td style=\"background-color:white\"></td><td style=\"background-color:white\"></td></tr>\n",
       "\n",
       "                </table>\n",
       "            </body>\n",
       "            <br>\n",
       "        </html>\n",
       "    "
      ],
      "text/plain": [
       "<IPython.core.display.HTML object>"
      ]
     },
     "metadata": {},
     "output_type": "display_data"
    }
   ],
   "source": [
    "# Now we shift that selection up by one\n",
    "example2 = example.shift(up)\n",
    "preview(example2, bounded=\"A1:M8\")"
   ]
  },
  {
   "cell_type": "code",
   "execution_count": 5,
   "metadata": {
    "tags": []
   },
   "outputs": [
    {
     "data": {
      "text/html": [
       "\n",
       "    <html>\n",
       "        \n",
       "    <style>\n",
       "    table, th, td {\n",
       "        border: 1px solid;\n",
       "    }\n",
       "\n",
       "    table {\n",
       "        border-collapse: collapse;\n",
       "    }\n",
       "\n",
       "    td {\n",
       "        align: center;\n",
       "        border: 1px  black solid !important;\n",
       "        color: black !important;\n",
       "    }\n",
       "\n",
       "    th, td {\n",
       "        padding: 5px;\n",
       "    }\n",
       "\n",
       "    </style>\n",
       "    \n",
       "            <table>\n",
       "                \n",
       "            <tr>\n",
       "                <td style=\"background-color:cyan\">Unnamed Selection: 0</td>\n",
       "            <tr>\n",
       "        \n",
       "            </table>\n",
       "\n",
       "            <body>\n",
       "                <h2>Table 11</h2>\n",
       "                <table>\n",
       "                    <tr><td style=\"background-color:lightgrey\"></td><td style=\"background-color:lightgrey\">A</td><td style=\"background-color:lightgrey\">B</td><td style=\"background-color:lightgrey\">C</td><td style=\"background-color:lightgrey\">D</td><td style=\"background-color:lightgrey\">E</td><td style=\"background-color:lightgrey\">F</td><td style=\"background-color:lightgrey\">G</td><td style=\"background-color:lightgrey\">H</td><td style=\"background-color:lightgrey\">I</td><td style=\"background-color:lightgrey\">J</td><td style=\"background-color:lightgrey\">K</td><td style=\"background-color:lightgrey\">L</td><td style=\"background-color:lightgrey\">M</td></tr>\n",
       "<tr><td style=\"background-color:lightgrey\">1</td><td style=\"background-color:white\">Table 11 Housing market: simple average house prices, by new/other dwellings, type of buyer and  region, United Kingdom, from 1992 (quarterly) 1, 2, 3 (previously DCLG table 504)</td><td style=\"background-color:white\"></td><td style=\"background-color:white\"></td><td style=\"background-color:white\"></td><td style=\"background-color:white\"></td><td style=\"background-color:white\"></td><td style=\"background-color:white\"></td><td style=\"background-color:white\"></td><td style=\"background-color:white\"></td><td style=\"background-color:white\"></td><td style=\"background-color:white\"></td><td style=\"background-color:white\"></td><td style=\"background-color:white\"></td></tr>\n",
       "<tr><td style=\"background-color:lightgrey\">2</td><td style=\"background-color:white\"></td><td style=\"background-color:white\"></td><td style=\"background-color:white\"></td><td style=\"background-color:white\"></td><td style=\"background-color:white\"></td><td style=\"background-color:white\"></td><td style=\"background-color:white\"></td><td style=\"background-color:white\"></td><td style=\"background-color:white\"></td><td style=\"background-color:white\"></td><td style=\"background-color:white\"></td><td style=\"background-color:white\"></td><td style=\"background-color:white\"></td></tr>\n",
       "<tr><td style=\"background-color:lightgrey\">3</td><td style=\"background-color:white\"></td><td style=\"background-color:white\"></td><td style=\"background-color:white\"></td><td style=\"background-color:white\"></td><td style=\"background-color:white\">New dwellings</td><td style=\"background-color:white\"></td><td style=\"background-color:white\">Other dwellings4</td><td style=\"background-color:white\"></td><td style=\"background-color:white\">All dwellings</td><td style=\"background-color:white\"></td><td style=\"background-color:white\">First time buyers</td><td style=\"background-color:white\"></td><td style=\"background-color:white\">Former owner occupiers</td></tr>\n",
       "<tr><td style=\"background-color:lightgrey\">4</td><td style=\"background-color:white\"></td><td style=\"background-color:white\"></td><td style=\"background-color:white\"></td><td style=\"background-color:white\"></td><td style=\"background-color:white\">Price</td><td style=\"background-color:white\"></td><td style=\"background-color:white\">Price</td><td style=\"background-color:white\"></td><td style=\"background-color:white\">Price</td><td style=\"background-color:white\"></td><td style=\"background-color:white\">Price</td><td style=\"background-color:white\"></td><td style=\"background-color:white\">Price</td></tr>\n",
       "<tr><td style=\"background-color:lightgrey\">5</td><td style=\"background-color:white\"></td><td style=\"background-color:white\"></td><td style=\"background-color:white\"></td><td style=\"background-color:white\"></td><td style=\"background-color:white\">£</td><td style=\"background-color:white\"></td><td style=\"background-color:white\">£</td><td style=\"background-color:white\"></td><td style=\"background-color:white\">£</td><td style=\"background-color:white\"></td><td style=\"background-color:white\">£</td><td style=\"background-color:white\"></td><td style=\"background-color:white\">£</td></tr>\n",
       "<tr><td style=\"background-color:lightgrey\">6</td><td style=\"background-color:cyan\">United Kingdom</td><td style=\"background-color:white\"></td><td style=\"background-color:white\"></td><td style=\"background-color:white\"></td><td style=\"background-color:white\"></td><td style=\"background-color:white\"></td><td style=\"background-color:white\"></td><td style=\"background-color:white\"></td><td style=\"background-color:white\"></td><td style=\"background-color:white\"></td><td style=\"background-color:white\"></td><td style=\"background-color:white\"></td><td style=\"background-color:white\"></td></tr>\n",
       "<tr><td style=\"background-color:lightgrey\">7</td><td style=\"background-color:white\">K02000001</td><td style=\"background-color:white\"></td><td style=\"background-color:white\"></td><td style=\"background-color:white\"></td><td style=\"background-color:white\"></td><td style=\"background-color:white\"></td><td style=\"background-color:white\"></td><td style=\"background-color:white\"></td><td style=\"background-color:white\"></td><td style=\"background-color:white\"></td><td style=\"background-color:white\"></td><td style=\"background-color:white\"></td><td style=\"background-color:white\"></td></tr>\n",
       "<tr><td style=\"background-color:lightgrey\">8</td><td style=\"background-color:white\"></td><td style=\"background-color:white\">1992.0</td><td style=\"background-color:white\">Q1</td><td style=\"background-color:white\"></td><td style=\"background-color:white\"></td><td style=\"background-color:white\"></td><td style=\"background-color:white\"></td><td style=\"background-color:white\"></td><td style=\"background-color:white\"></td><td style=\"background-color:white\"></td><td style=\"background-color:white\"></td><td style=\"background-color:white\"></td><td style=\"background-color:white\"></td></tr>\n",
       "\n",
       "                </table>\n",
       "            </body>\n",
       "            <br>\n",
       "        </html>\n",
       "    "
      ],
      "text/plain": [
       "<IPython.core.display.HTML object>"
      ]
     },
     "metadata": {},
     "output_type": "display_data"
    }
   ],
   "source": [
    "# And now we remove blanks again.\n",
    "example3 = example2.is_not_blank()\n",
    "preview(example3, bounded=\"A1:M8\")"
   ]
  },
  {
   "cell_type": "markdown",
   "metadata": {
    "tags": []
   },
   "source": [
    "And voila, a very targetted selection without relying on regex or any other kind of string matching!\n",
    "\n",
    "It's hard to convey this next point without writing endless example of this kind but a big part of getting the most out of tidychef is learning to leverage command chaining in non obvious ways like this, effectively the more you do this kind of thing the more you learn to in think terms of \"visual wrangling\"."
   ]
  },
  {
   "cell_type": "markdown",
   "metadata": {
    "tags": []
   },
   "source": [
    "# Outputs\n",
    "\n",
    "The full preview can be [viewed here](./house-prices.html).\n",
    "\n",
    "The tidy data can be [downloaded here](./house-prices.csv) and a full inline preview of the tidydata generated is shown below for those people who'd prefer to scroll."
   ]
  },
  {
   "cell_type": "code",
   "execution_count": 6,
   "metadata": {
    "tags": []
   },
   "outputs": [
    {
     "name": "stdout",
     "output_type": "stream",
     "text": [
      "9921\n"
     ]
    }
   ],
   "source": [
    "print(tidy_data)"
   ]
  }
 ],
 "metadata": {
  "kernelspec": {
   "display_name": "Python 3 (ipykernel)",
   "language": "python",
   "name": "python3"
  },
  "language_info": {
   "codemirror_mode": {
    "name": "ipython",
    "version": 3
   },
   "file_extension": ".py",
   "mimetype": "text/x-python",
   "name": "python",
   "nbconvert_exporter": "python",
   "pygments_lexer": "ipython3",
   "version": "3.12.11"
  }
 },
 "nbformat": 4,
 "nbformat_minor": 4
}
