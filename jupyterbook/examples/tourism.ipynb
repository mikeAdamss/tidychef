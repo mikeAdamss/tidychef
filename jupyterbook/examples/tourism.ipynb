{
 "cells": [
  {
   "cell_type": "markdown",
   "metadata": {},
   "source": [
    "# Tourism\n",
    "\n",
    "This example highlights how you can actually use a combination of deliberately extracting blank cells along with horizontal conditions to unpick complex (bad) table structures."
   ]
  },
  {
   "cell_type": "markdown",
   "metadata": {
    "tags": []
   },
   "source": [
    "## Tutorial Structure\n",
    "\n",
    "With these example tutorials I'm going to comment heavily and cover nuances in a follow up section (with liberal targetted previews as needed) as it's the easiest way to grapple with new ideas. It may also be worth opening up these notebooks yourself (they're in `./jupyterbook` in the [tidychef](https://github.com/mikeAdamss/tidychef) github repo) so you can run, alter and generally have a play about with this yourself as part of your learning.\n",
    "\n",
    "We'll cover:\n",
    "\n",
    "- source data\n",
    "- requirements, what we're aiming to do here\n",
    "- show the full script (all logic commented)\n",
    "- output the selection preview\n",
    "- nuances (where applicable)\n",
    "- view the output\n",
    "\n",
    "This sequencing is necessary as the output for some of the example is **really** long so that necessitates it coming last. If you're viewing this via a jupyter book (i.e on the site) you can navigate between the above sections via your right hand menu.\n",
    "\n",
    "_Note - these tutorial scripts might seem verbose due all the comments but that's ok (this is a tutorial after all). If you take them out you end up with a fairly succinct and human readable encapsulation of what would otherwise (with existing tools) be a rather convoluted and fragile set of instructions to express._\n",
    "\n",
    "In virtually all cases I'll make heavy use of `preview` and `bounded` to only look at relevant parts of what can be quite large datasets. Downloads links are provided for the source data."
   ]
  },
  {
   "cell_type": "markdown",
   "metadata": {},
   "source": [
    "## Source\n",
    "\n",
    "For this example we're extracting the table3 from an xlsx dataset dealing with travel and tourism."
   ]
  },
  {
   "cell_type": "code",
   "execution_count": null,
   "metadata": {
    "tags": []
   },
   "outputs": [],
   "source": [
    "from tidychef import acquire, preview\n",
    "from tidychef.selection import XlsxSelectable\n",
    "\n",
    "table: XlsxSelectable = acquire.xlsx.http(\"https://raw.githubusercontent.com/mikeAdamss/tidychef/main/tests/fixtures/xlsx/tourism.xlsx\", tables=\"Table 3\")\n",
    "preview(table, bounded=\"A1:L20\")"
   ]
  },
  {
   "cell_type": "markdown",
   "metadata": {},
   "source": [
    "## Requirements\n",
    "\n",
    "- Rows 4 and 5 combines as \"Country\"\n",
    "- Column A as \"Year\"\n",
    "- Column B as \"Month\".\n",
    "- Row 6 as \"Seasonal Adjustment\"\n",
    "\n",
    "We're not gonna take the footer data dealing with three month comparissons for our purposes here.\n"
   ]
  },
  {
   "cell_type": "code",
   "execution_count": null,
   "metadata": {
    "tags": []
   },
   "outputs": [],
   "source": [
    "from typing import Dict, List\n",
    "from tidychef import acquire, preview\n",
    "from tidychef.direction import up, down, left, right\n",
    "from tidychef.output import Column, TidyData\n",
    "from tidychef.selection import XlsxSelectable\n",
    "\n",
    "tables: List[XlsxSelectable] = acquire.xlsx.http(\"https://raw.githubusercontent.com/mikeAdamss/tidychef/main/tests/fixtures/xlsx/tourism.xlsx\")\n",
    "table = tables[3]\n",
    "\n",
    "# We'll fine seasonal adjustment by looking for the row containing both SA and NSA\n",
    "seasonal_adjustment = table.row_containing_strings([\"SA\", \"NSA\"]).is_not_blank().label_as(\"Seasonal Adjustment\")\n",
    "\n",
    "# With area, we're going to take all three rows and concatenate them later with a horizontal condition\n",
    "area1 = seasonal_adjustment.shift(up(3)).label_as(\"area1\")\n",
    "area2 = seasonal_adjustment.shift(up(2)).label_as(\"area2\")\n",
    "area3 = seasonal_adjustment.shift(up(1)).label_as(\"area3\")\n",
    "\n",
    "# Month is things in column B (not row 1) thats not blank\n",
    "month = table.excel_ref(\"B2\").fill(down).is_not_blank().label_as(\"Month\")\n",
    "\n",
    "# Year is one cell to the left of month\n",
    "year = month.shift(left).is_not_blank().label_as(\"Year\")\n",
    "\n",
    "# Observations are at the intersection of month and seasonal adjustment so we'll just use a waffle.\n",
    "observations = month.waffle(right, seasonal_adjustment).label_as(\"Observations\")\n",
    "\n",
    "preview(seasonal_adjustment, area1, area2, area3, month, year, observations, bounded=\"A1:L20\")\n",
    "\n",
    "# This is the function for the horizontal condition, we'll discuss this in nuances\n",
    "def create_area(line) -> str:\n",
    "    \"\"\"\n",
    "    A function to create a sensible string from the three areas\n",
    "    \"\"\"\n",
    "    # We need to get rid of any trailing whitespace and remove the non header text mised in with the headers\n",
    "    area1 = line[\"area1\"].replace(\"Area of visit\", \"\").strip()\n",
    "    area2 = line[\"area2\"].replace(\"of which\", \"\").replace(\"Other countries\", \"\").strip()\n",
    "    area3 = line[\"area3\"].strip()\n",
    "    \n",
    "    # Combined the header\n",
    "    # If its blank its column B, so set to all visits\n",
    "    combined_area = f\"{area1} {area2} {area3}\"\n",
    "    return combined_area if combined_area.strip() != \"\" else \"All Visits\"\n",
    "    \n",
    "tidy_data = TidyData(\n",
    "    observations,\n",
    "    Column(seasonal_adjustment.attach_directly(down)),\n",
    "    Column(area1.attach_directly(down)),\n",
    "    Column(area2.attach_directly(down)),\n",
    "    Column(area3.attach_directly(down)),\n",
    "    Column(month.attach_directly(right)),\n",
    "    Column(year.attach_closest(down)),\n",
    "    Column.horizontal_condition(\"Area\", create_area), # this is us using the create_area function to populate a column\n",
    "    drop=[\"area1\", \"area2\", \"area3\"]\n",
    ")"
   ]
  },
  {
   "cell_type": "markdown",
   "metadata": {
    "tags": []
   },
   "source": [
    "## Nuances\n",
    "\n",
    "### The Horizontal Condition + Drop\n",
    "\n",
    "At this point it'd be worth having a read of the documentation for Horizontal Conditions (it's not long). The following will recap that a little, but we are assuming you have read it.\n",
    "\n",
    "So a column made by `Column.horizontal_condition(<column name>, <callable>)` just uses passes a dictionary **representing the rest of the row** to the callable.\n",
    "\n",
    "To make this clearer lets look at the first line of what the tidy data would look like **without** dropping any columns.\n"
   ]
  },
  {
   "cell_type": "code",
   "execution_count": null,
   "metadata": {
    "tags": []
   },
   "outputs": [],
   "source": [
    "temporary_tidy_data = TidyData(\n",
    "    observations,\n",
    "    Column(seasonal_adjustment.attach_directly(down)),\n",
    "    Column(area1.attach_directly(down)),\n",
    "    Column(area2.attach_directly(down)),\n",
    "    Column(area3.attach_directly(down)),\n",
    "    Column(month.attach_directly(right)),\n",
    "    Column(year.attach_closest(down)),\n",
    "    Column.horizontal_condition(\"Area\", create_area),\n",
    "    # drop=[\"area1\", \"area2\", \"area3\"]   - this is me not dropping the temporary columns\n",
    ")\n",
    "\n",
    "# Note: tidychef doesnt transform until the tidy data is needed (usually when you to_csv) so we'll need to prod it along and truncate the outut\n",
    "# so I can demonstrate what we're working with.\n",
    "# This is more \"under the hood\" trickery than intended usage (hence _ prefixes) but we need a quick example.\n",
    "# i.e don't worry about how I'm doing this, there's no reason for you to\n",
    "temporary_tidy_data._transform()\n",
    "temporary_tidy_data._data = temporary_tidy_data._data[:2] \n",
    "print(\"These are the column headers and the first row\\n\", temporary_tidy_data)"
   ]
  },
  {
   "cell_type": "markdown",
   "metadata": {},
   "source": [
    "When you use `horizontal_condition` if has access to the contents of a given row as a dictionary, so the example row would be:\n",
    "\n",
    "```json\n",
    "{\n",
    "    \"Observations\": \"5831.281022512688\",\n",
    "    \"Seasonal Adjustment\": \"NSA\",\n",
    "    \"area1\": \"All Visits\",\n",
    "    \"area2\": \"\",\n",
    "    \"area3\": \"\",\n",
    "    \"Month\": \"Jan\",\n",
    "    \"Year\": \"2018\",\n",
    "}\n",
    "```\n",
    "\n",
    "which hopefully conextualises what this function is doing. tThe `line` variable is the contents of _a_ row and populates the `Area` column for _that row_. i.e in the case of our **example first row** `line` would be the contents of the above dictionary.\n",
    "\n",
    "```python\n",
    "# This is the function for the horizontal condition, we'll discuss in nuances\n",
    "def create_area(line) -> str:\n",
    "    \"\"\"\n",
    "    A function to create a sensible string from the three areas\n",
    "    \"\"\"\n",
    "    # Area 2 needs a little extra handling as we don't want \"of which\"\n",
    "    area1 = line[\"area1\"].replace(\"Area of visit\", \"\").strip()\n",
    "    area2 = line[\"area2\"].replace(\"of which\", \"\").replace(\"Other countries\", \"\").strip()\n",
    "    area3 = line[\"area3\"].strip()\n",
    "    \n",
    "    # Combined the header\n",
    "    # If its blank its column B, soset to all visits\n",
    "    combined_area = f\"{area1} {area2} {area3}\"\n",
    "    return combined_area if combined_area.strip() != \"\" else \"All Visits\"\n",
    "```\n",
    "\n",
    "Which for our **single example row** returns the \"All Visits\" value which populates the `Area` column (the horizontal condition column).\n",
    "\n",
    "All the other rows are calcualted in the same way - the line dictionary goes to the function - the function populate `Area`.\n",
    "\n",
    "The `drop` keyword just gets rid of the intermediary columns at the end (when we've no use for them)."
   ]
  },
  {
   "cell_type": "markdown",
   "metadata": {},
   "source": [
    "# Outputs\n",
    "\n",
    "The tidy data can be [downloaded here](./tourism.csv) and a full inline preview of the tidydata generated is shown below for those people who'd prefer to scroll."
   ]
  },
  {
   "cell_type": "code",
   "execution_count": null,
   "metadata": {},
   "outputs": [],
   "source": [
    "print(tidy_data)"
   ]
  },
  {
   "cell_type": "code",
   "execution_count": null,
   "metadata": {},
   "outputs": [],
   "source": []
  }
 ],
 "metadata": {
  "kernelspec": {
   "display_name": "Python 3 (ipykernel)",
   "language": "python",
   "name": "python3"
  },
  "language_info": {
   "codemirror_mode": {
    "name": "ipython",
    "version": 3
   },
   "file_extension": ".py",
   "mimetype": "text/x-python",
   "name": "python",
   "nbconvert_exporter": "python",
   "pygments_lexer": "ipython3",
   "version": "3.12.11"
  }
 },
 "nbformat": 4,
 "nbformat_minor": 4
}
