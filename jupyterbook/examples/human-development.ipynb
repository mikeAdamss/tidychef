{
 "cells": [
  {
   "cell_type": "markdown",
   "metadata": {},
   "source": [
    "# Human Development\n",
    "\n",
    "We're going to extract from a UK Office for National Statistics xlx spreadsheet on human development.\n",
    "\n",
    "This id a particularly oddly structured table in terms of machine readibility and serves as probably our most complex example.\n",
    "\n",
    "tidychecf can handle this just fine but _remember this is an edge case_ example so **do all of the other examples first** and maybe even work through some of your own transforms before tackling this one."
   ]
  },
  {
   "cell_type": "markdown",
   "metadata": {
    "tags": []
   },
   "source": [
    "## Tutorial Structure\n",
    "\n",
    "With these example tutorials I'm going to comment heavily and cover nuances in a follow up section (with liberal targetted previews as needed) as it's the easiest way to grapple with new ideas. It may also be worth opening up these notebooks yourself (they're in `./jupyterbook` in the [tidychef](https://github.com/mikeAdamss/tidychef) github repo) so you can run, alter and generally have a play about with this yourself as part of your learning.\n",
    "\n",
    "We'll cover:\n",
    "\n",
    "- source data\n",
    "- requirements, what we're aiming to do here\n",
    "- show the full script (all logic commented)\n",
    "- output the selection preview\n",
    "- nuances (where applicable)\n",
    "- view the output\n",
    "\n",
    "This sequencing is necessary as the output for some of the example is **really** long so that necessitates it coming last. If you're viewing this via a jupyter book (i.e on the site) you can navigate between the above sections via your right hand menu.\n",
    "\n",
    "_Note - these tutorial scripts might seem verbose due all the comments but that's ok (this is a tutorial after all). If you take them out you end up with a fairly succinct and human readable encapsulation of what would otherwise (with existing tools) be a rather convoluted and fragile set of instructions to express._\n",
    "\n",
    "In virtually all cases I'll make heavy use of `preview` and `bounded` to only look at relevant parts of what can be quite large datasets. Downloads links are provided for the source data."
   ]
  },
  {
   "cell_type": "code",
   "execution_count": null,
   "metadata": {
    "tags": []
   },
   "outputs": [],
   "source": [
    "from tidychef import acquire, preview\n",
    "from tidychef.selection import XlsxSelectable\n",
    "\n",
    "table: XlsxSelectable = acquire.xlsx.http(\"https://raw.githubusercontent.com/mikeAdamss/tidychef/main/tests/fixtures/xlsx/human-development-2008.xlsx\", tables=\"Table 3\")\n",
    "preview(table, bounded=\"A1:W32\")"
   ]
  },
  {
   "cell_type": "markdown",
   "metadata": {},
   "source": [
    "From an xlsx source which can be [downloaded here](https://raw.githubusercontent.com/mikeAdamss/tidychef/main/tests/fixtures/xlsx/human-development-2008.xlsx)."
   ]
  },
  {
   "cell_type": "markdown",
   "metadata": {},
   "source": [
    "## Requirements\n",
    "\n",
    "Given this a particularly bizarely shaped dataset, we're going to do a bit of fair bit of preamble here to explain this data structure before we get into the extraction logic.\n",
    "\n",
    "The following is a labelled preview to help explain the scenario."
   ]
  },
  {
   "cell_type": "code",
   "execution_count": null,
   "metadata": {
    "tags": []
   },
   "outputs": [],
   "source": [
    "from IPython.display import IFrame\n",
    "IFrame(src='./preamble-preview.html', width='100%', height=2500)"
   ]
  },
  {
   "cell_type": "markdown",
   "metadata": {
    "tags": []
   },
   "source": [
    "## Requirements\n",
    "\n",
    "- We'll take the infroamtion alone the top as `Metric`\n",
    "- We'll take `Country` as per the preview above\n",
    "- We're gonna want `Category` (HUMAN DEVELOPMENT etc) as the non numeric values in column A, discounting headers at the top of the page.\n",
    "- We'll want `Data Marker` as whatevers to the right of an observation, blank is fine - this **does not apply** to observations from column A but we will need to guarantee a consistent structure.\n",
    "- We'll need a unit of measure to differentiate between number which are ranks vs numbers which as percentages\n",
    "- We'll take observations as per the above, the the header column in the middle of them (and the way data markers are being used) necessitates us making two separate extractions (which we'd then combine) as follows:\n",
    "    - extraction 1: observationsto the **left** of country, constant blank data markers\n",
    "    - extractoin 2: observations to the **right** of country, extracted data markers.\n"
   ]
  },
  {
   "cell_type": "code",
   "execution_count": null,
   "metadata": {
    "tags": []
   },
   "outputs": [],
   "source": [
    "from tidychef import acquire, preview\n",
    "from tidychef.direction import right, down, left\n",
    "from tidychef.output import TidyData, Column\n",
    "from tidychef.selection import XlsxSelectable\n",
    "\n",
    "table: XlsxSelectable = acquire.xlsx.http(\"https://raw.githubusercontent.com/mikeAdamss/tidychef/main/tests/fixtures/xlsx/human-development-2008.xlsx\", tables=\"Table 3\")\n",
    "\n",
    "# So we're going to need slightly different instruction for observations in column A vs all the other observations, so we're gonna\n",
    "# create a jobs variable to track this\n",
    "jobs = [\n",
    "    {\n",
    "        \"direction to obs\": left,\n",
    "        \"get obs\": table.cell_containing_string(\"HDI rank\").fill(down).is_not_blank().is_numeric().label_as(\"Observations\"),\n",
    "        \"get data markers\": None\n",
    "    },\n",
    "    {\n",
    "        \"direction to obs\": right,\n",
    "        \"get obs\": table.excel_ref(\"B7:B14\").expand(right).is_not_blank().fill(down).is_not_blank().label_as(\"Observations\"),\n",
    "        \"get data markers\": table.excel_ref(\"B7:B14\").expand(right).is_not_blank().fill(down).is_not_blank().shift(right).label_as(\"Data Marker\")\n",
    "    }\n",
    "]\n",
    "\n",
    "# Given the exeptionally messy header structure we'll use a lookup to didy things up.\n",
    "# The key is what extracted - the value what it'll be post extraction.\n",
    "lookup = {\n",
    "    '$1 a day \\n1990-2005d':  \"Population below income poverty line (%), $1 a day, 1990-2005\",\n",
    "     '$2 a day \\n1990-2005d ': \"Population below income poverty line (%), $2 a day, 1990-2005\",\n",
    "     'Adult illiteracy rateb,†\\n(% aged 15 and older)\\n1995-2005 ': \"Adult illiteracy rate (% aged 15 and older) 1995-2005\",\n",
    "     'Children under weight for age†\\n(% under age 5)\\n1996-2005d ': \"Children under weight for age (% under age 5), 1996-2005\",\n",
    "     'HDI rank': \"HDI rank\",\n",
    "     'HPI-1 rank minus income poverty rankc': \"Human povery index rank minus income poverty rank\",\n",
    "     'National poverty line           1990-2004d': \"National poverty line, 1990-2004\",\n",
    "     'Population not using an improved water source†\\n(%)\\n2004': \"Population not using an improved water source, 2004\",\n",
    "     'Probability at birth of not surviving to age 40a,†\\n(% of cohort)\\n2000-05' :\"Probability at birth of not surviving to age 40, % of cohort 2000-5\",\n",
    "     'Rank': \"Human poverty index - Rank\",\n",
    "     'Value \\n (%)': \"Human poverty index - Value(%)\"\n",
    "}\n",
    "\n",
    "all_tidy_data = []\n",
    "\n",
    "for job in jobs:\n",
    "    \n",
    "    # We don't want anyting below NOTES in column A\n",
    "    unwanted = table.column('A').cell_containing_string(\"NOTES\").expand_to_box()\n",
    "    \n",
    "    header = table.excel_ref(\"9:13\").is_not_blank().label_as(\"Headers\")\n",
    "    \n",
    "    # Category is the non observation data in in column A\n",
    "    category = table.column(\"A\").cell_containing_string(\"HIGH HUMAN DEVELOPMENT\").expand(down).is_not_blank().is_not_numeric().label_as(\"Category\") - unwanted\n",
    "    \n",
    "    # Get the observations via whatever mechanisms is appropriate for this job\n",
    "    observations = job[\"get obs\"] - unwanted\n",
    "    \n",
    "    # Get countries from column B\n",
    "    country = table.column(\"B\").is_not_blank().label_as(\"Country\") - unwanted\n",
    "    \n",
    "    # We only get data markers in some sceanrios\n",
    "    if job[\"get data markers\"] is not None:\n",
    "        data_markers = job[\"get data markers\"] - unwanted\n",
    "        preview(observations, header, category, country, data_markers, bounded=\"A1:Q48\")\n",
    "    else:\n",
    "        preview(observations, header, category, country, bounded=\"A1:Q48\")\n",
    "        \n",
    "    # The tidy data definition both jobs have in common\n",
    "    # Note: we're not using a .get() with the lookup, this is deliberate, if you must\n",
    "    # use a lookup o this kind (dont unless you have to) always be explicity, its better\n",
    "    # it raises a KeyError than fails silently.\n",
    "    tidy_data = TidyData(\n",
    "        observations,\n",
    "        Column(header.attach_directly(down), apply=lambda x: lookup[x]), # use the lookup to tidy this up, see nuances\n",
    "        Column(category.attach_closest(down)),\n",
    "        Column(country.attach_directly(job[\"direction to obs\"]))\n",
    "    )\n",
    "    \n",
    "    # Where we have a data_marker selection we use it, where we do not we\n",
    "    # include a blank Data Marker column to make sure both jobs result in\n",
    "    # an identical structure.\n",
    "    # There's an important thing here. The TidyData class uses lazy evauation,\n",
    "    # i.e the transformation does not happen until it needs to - this is what\n",
    "    # allows us to add columns post instantiation.\n",
    "    if job[\"get data markers\"]:\n",
    "        tidy_data.add_column(Column(data_markers.attach_directly(left)))\n",
    "    else:\n",
    "        tidy_data.add_column(Column.constant(\"Data Marker\", \"\"))\n",
    "    \n",
    "    all_tidy_data.append(tidy_data)\n",
    "    \n",
    "                                 \n",
    "# Now we join them\n",
    "tidy_data = TidyData.from_tidy_list(all_tidy_data)"
   ]
  },
  {
   "cell_type": "markdown",
   "metadata": {},
   "source": [
    "## Nuances\n",
    "\n",
    "### Using the lookup dictionary\n",
    "\n",
    "In general programming (and in python in particular) there's a **KISS** (Keep it simple stupid) rule, which applies equally to your extractions.\n",
    "\n",
    "We _could_ have written a lot of clever code to get those headers, but honetly, you'll often find a simple lookup dictionary is just easier to maintain on blance, at least with a structure with this level of convolution - a dictionary lookup is a very light touch thing to do when paired with apply.\n",
    "\n",
    "But **one piece of advice**, you'dll notice I'm doing `lookup[x]` not `lookup.get(x, x)` because (in the hyperthetical scenario of running this against future versions of the data source) I'd _want_ a `KeyError` if the header text changes.\n",
    "\n",
    "That won't always be the case (maybe you only want to change a _specific_header value and leave all the others as-is). So if you're hazy on the python trade offs of `dictionary[key]` vs `dictionary.get(key, key)` it's probably worth doing a little reading."
   ]
  },
  {
   "cell_type": "markdown",
   "metadata": {},
   "source": [
    "# Outputs\n",
    "\n",
    "The tidy data can be [downloaded here](./human-development.csv) and a full inline preview of the tidydata generated is shown below for those people who'd prefer to scroll."
   ]
  },
  {
   "cell_type": "code",
   "execution_count": null,
   "metadata": {
    "tags": []
   },
   "outputs": [],
   "source": [
    "print(all_tidy_data)"
   ]
  }
 ],
 "metadata": {
  "kernelspec": {
   "display_name": "Python 3 (ipykernel)",
   "language": "python",
   "name": "python3"
  },
  "language_info": {
   "codemirror_mode": {
    "name": "ipython",
    "version": 3
   },
   "file_extension": ".py",
   "mimetype": "text/x-python",
   "name": "python",
   "nbconvert_exporter": "python",
   "pygments_lexer": "ipython3",
   "version": "3.12.11"
  }
 },
 "nbformat": 4,
 "nbformat_minor": 4
}
