{
 "cells": [
  {
   "cell_type": "markdown",
   "metadata": {},
   "source": [
    "# Bands\n",
    "\n",
    "Our simple example from the repo splash page."
   ]
  },
  {
   "cell_type": "markdown",
   "metadata": {},
   "source": [
    "## Tutorial Structure\n",
    "\n",
    "With these example tutorials I'm going to comment heavily and cover nuances in a follow up section (with liberal targetted previews as needed) as it's the easiest way to grapple with new ideas. It may also be worth opening up these notebooks yourself (they're in `./jupyterbook` in the [tidychef](https://github.com/mikeAdamss/tidychef) github repo) so you can run, alter and generally have a play about with this yourself as part of your learning.\n",
    "\n",
    "We'll cover:\n",
    "\n",
    "- source data\n",
    "- requirements, what we're aiming to do here\n",
    "- show the full script (all logic commented)\n",
    "- output the selection preview\n",
    "- nuances (where applicable)\n",
    "- view the output\n",
    "\n",
    "This sequencing is necessary as the output for some of the example is **really** long so that necessitates it coming last. If you're viewing this via a jupyter book (i.e on the site) you can navigate between the above sections via your right hand menu.\n",
    "\n",
    "_Note - these tutorial scripts might seem verbose due all the comments but that's ok (this is a tutorial after all). If you take them out you end up with a fairly succinct and human readable encapsulation of what would otherwise (with existing tools) be a rather convoluted and fragile set of instructions to express._\n",
    "\n",
    "In virtually all cases I'll make heavy use of `preview` and `bounded` to only look at relevant parts of what can be quite large datasets. Downloads links are provided for the source data."
   ]
  },
  {
   "cell_type": "markdown",
   "metadata": {},
   "source": [
    "## Source\n",
    "\n",
    "For this example we're extracting the following table:\n",
    "\n",
    "![](../../images/bands-before.png)\n",
    "\n",
    "From a csv source which can be viewed [here](https://raw.githubusercontent.com/mikeAdamss/tidychef/main/tests/fixtures/csv/bands-wide.csv)."
   ]
  },
  {
   "cell_type": "markdown",
   "metadata": {},
   "source": [
    "## Specification\n",
    "\n",
    "- We want a \"Value\" column to hold the observations\n",
    "- We want other columns of: \"Band\", \"Name\", \"Asset\"\n",
    "- We want to preview selections inline.\n",
    "- We want to output one tidy data csv as \"bands_tidy.csv\""
   ]
  },
  {
   "cell_type": "markdown",
   "metadata": {},
   "source": [
    "# Recipe"
   ]
  },
  {
   "cell_type": "code",
   "execution_count": null,
   "metadata": {
    "tags": []
   },
   "outputs": [],
   "source": [
    "from tidychef import acquire, filters, preview\n",
    "from tidychef.direction import down, right, below\n",
    "from tidychef.output import Column, TidyData\n",
    "\n",
    "# Load a CSV table from a URL\n",
    "table = acquire.csv.http(\n",
    "    \"https://raw.githubusercontent.com/mikeAdamss/tidychef/main/tests/fixtures/csv/bands-wide.csv\"\n",
    ")\n",
    "\n",
    "# Select numeric observations and label them\n",
    "observations = table.is_numeric().label_as(\"Value\")\n",
    "\n",
    "# Select headers and label them\n",
    "bands = table.row_containing_strings([\"Beatles\"]).is_not_blank().label_as(\"Band\")\n",
    "assets = table.row_containing_strings([\"Cars\"]).is_not_blank().label_as(\"Asset\")\n",
    "names = table.cell_containing_string(\"Beatles\").shift(down).expand_to_box().is_not_numeric().label_as(\"Name\")\n",
    "\n",
    "# We'll request a preview to see our selections\n",
    "preview(observations, bands, assets, names)\n",
    "\n",
    "# Build tidy data by attaching observations and headers\n",
    "tidy_data = TidyData(\n",
    "    observations,\n",
    "    Column(bands.attach_closest(right)),\n",
    "    Column(assets.attach_directly(below)),\n",
    "    Column(names.attach_directly(right)),\n",
    ")\n",
    "\n",
    "# Export the tidy data to CSV\n",
    "tidy_data.to_csv(\"bands_tidy.csv\")"
   ]
  },
  {
   "cell_type": "markdown",
   "metadata": {},
   "source": [
    "## Nuances\n",
    "\n",
    "So this is our initial example so is reasonaby easy to follow along with, the only thing that I'd really stop and consider is the `TidyData` class, this:\n",
    "\n",
    "```python\n",
    "tidy_data = TidyData(\n",
    "    observations,\n",
    "    Column(bands.attach_closest(right)),\n",
    "    Column(assets.attach_directly(below)),\n",
    "    Column(names.attach_directly(right)),\n",
    ")\n",
    "```\n",
    "\n",
    "which is really just\n",
    "\n",
    "```python\n",
    "tidy_data = TidyData(\n",
    "    <your values>,                                                           # This becomes the \"Value\" column                                                     \n",
    "    <a column and how it visually related to those values>                   # Becomes the next column \"Band\" \n",
    "    <another column and how it visually relates to those values>             # Becomes the next column \"Asset\"\n",
    "    <another column and how it visually related to those values              # Becomes the next column \"Name\"\n",
    ")\n",
    "```\n",
    "\n",
    "That's probably the key insight here, every row entry in the `TidyData` class becomes a column in your output file and they're presented in the order you speciy them (note - your value/observation column is **always** first)."
   ]
  },
  {
   "cell_type": "markdown",
   "metadata": {},
   "source": [
    "# Outputs\n",
    "\n",
    "The output generated by the above script can be [downloaded here](./bands_tidy.csv) or viewed below."
   ]
  },
  {
   "cell_type": "code",
   "execution_count": null,
   "metadata": {
    "tags": []
   },
   "outputs": [],
   "source": [
    "print(tidy_data)"
   ]
  },
  {
   "cell_type": "code",
   "execution_count": null,
   "metadata": {},
   "outputs": [],
   "source": []
  }
 ],
 "metadata": {
  "kernelspec": {
   "display_name": "Python 3 (ipykernel)",
   "language": "python",
   "name": "python3"
  },
  "language_info": {
   "codemirror_mode": {
    "name": "ipython",
    "version": 3
   },
   "file_extension": ".py",
   "mimetype": "text/x-python",
   "name": "python",
   "nbconvert_exporter": "python",
   "pygments_lexer": "ipython3",
   "version": "3.12.11"
  },
  "widgets": {
   "application/vnd.jupyter.widget-state+json": {
    "state": {},
    "version_major": 2,
    "version_minor": 0
   }
  }
 },
 "nbformat": 4,
 "nbformat_minor": 4
}
