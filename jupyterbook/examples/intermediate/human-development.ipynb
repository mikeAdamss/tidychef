{
 "cells": [
  {
   "attachments": {},
   "cell_type": "markdown",
   "metadata": {},
   "source": [
    "# Human Development"
   ]
  },
  {
   "cell_type": "code",
   "execution_count": null,
   "metadata": {},
   "outputs": [],
   "source": [
    "from typing import List\n",
    "from datachef import acquire, preview\n",
    "from datachef.selection import XlsxSelectable\n",
    "\n",
    "tables: List[XlsxSelectable] = acquire.xlsx.http(\"https://raw.githubusercontent.com/mikeAdamss/datachef/main/tests/fixtures/xlsx/human-development-2008.xlsx\")\n",
    "preview(tables[0], bounded=\"A1:M32\")"
   ]
  },
  {
   "attachments": {},
   "cell_type": "markdown",
   "metadata": {},
   "source": [
    "From an xlsx source which can be [downloaded here](https://raw.githubusercontent.com/mikeAdamss/datachef/main/tests/fixtures/xlsx/human-development-2008.xlsx)."
   ]
  },
  {
   "attachments": {},
   "cell_type": "markdown",
   "metadata": {},
   "source": [
    "## Requirements\n",
    "\n",
    "- We're going to take the values of HDI Rank as well as Human Poverty Index Value and Percent as observations under the column name \"Value\" and differentiate them with a column of \"Category\".\n",
    "- We're going to take columns of \"Year\", \"Area\" and \"HDI Category\" in all cases.\n",
    "\n",
    "**Notes**\n",
    "\n",
    "This is a good example of using multiple passes over a single table to construct your tidy data output. In this instance we're going to use a python dictionary to minamise the code repetition required to do so."
   ]
  },
  {
   "cell_type": "code",
   "execution_count": null,
   "metadata": {},
   "outputs": [],
   "source": [
    "from typing import List\n",
    "from datachef import acquire, filters, preview\n",
    "from datachef.direction import right, down, left, up\n",
    "from datachef.output import TidyData, Column\n",
    "from datachef.selection import XlsxSelectable\n",
    "\n",
    "tables: List[XlsxSelectable] = acquire.xlsx.http(\"https://raw.githubusercontent.com/mikeAdamss/datachef/main/tests/fixtures/xlsx/human-development-2008.xlsx\")\n",
    "table = tables[0]\n",
    "\n",
    "# We don't want the extensive footers\n",
    "unwanted = table.re(\"NOTES\").assert_one().expand(right).expand(down)\n",
    "\n",
    "# Input dict of  <category>: <observations>\n",
    "input_dict = {\n",
    "    \"HDI Rank\": (table.excel_ref(\"B\").is_not_blank().shift(left) - unwanted),\n",
    "    \"Human Poverty Index: Rank\": (table.re(\"Rank\").assert_one().fill(down).is_not_blank() - unwanted),\n",
    "    \"Human Poverty Index: Value (%)\": (table.re(\"Value\").assert_one().fill(down).is_not_blank() - unwanted)\n",
    "}\n",
    "    \n",
    "# Selection that are the same for each iteration\n",
    "area = table.excel_ref(\"B\").is_not_blank().label_as(\"Area\")\n",
    "hdi_category = table.excel_ref(\"B\").is_blank().shift(left).label_as(\"HDI Category\")\n",
    "year_value = table.source.split(\".\")[2].split(\"-\")[-1]\n",
    "    \n",
    "tidy_data_list = []\n",
    "\n",
    "# Use a counter for deciding the direction for area as it changes based on\n",
    "# the observable values being extracted.\n",
    "i = 0\n",
    "for category, observations in input_dict.items():\n",
    "    preview(observations, hdi_category, area, bounded=\"A12:M25\")\n",
    "    tidy_data_list.append(\n",
    "        TidyData(\n",
    "            observations.label_as(\"Value\"),\n",
    "            Column(hdi_category.finds_observations_closest(down)),\n",
    "            Column(area.finds_observations_directly(left if i == 0 else right)),\n",
    "            Column.constant(\"Year\", year_value),\n",
    "            Column.constant(\"Category\", category)\n",
    "            )\n",
    "        )\n",
    "    i += 1\n",
    "\n",
    "all_tidy_data = TidyData.from_tidy_list(tidy_data_list)\n",
    "all_tidy_data.to_csv(\"human-development.csv\")\n"
   ]
  },
  {
   "attachments": {},
   "cell_type": "markdown",
   "metadata": {},
   "source": [
    "# Outputs\n",
    "\n",
    "The tidy data can be [downloaded here](./human-development.csv) and a full inline preview of the tidydata generated is shown below for those people who'd prefer to scroll."
   ]
  },
  {
   "cell_type": "code",
   "execution_count": null,
   "metadata": {},
   "outputs": [],
   "source": [
    "print(all_tidy_data)"
   ]
  }
 ],
 "metadata": {
  "kernelspec": {
   "display_name": "datachef-hNSMaw3h-py3.9",
   "language": "python",
   "name": "python3"
  },
  "language_info": {
   "codemirror_mode": {
    "name": "ipython",
    "version": 3
   },
   "file_extension": ".py",
   "mimetype": "text/x-python",
   "name": "python",
   "nbconvert_exporter": "python",
   "pygments_lexer": "ipython3",
   "version": "3.9.7"
  },
  "orig_nbformat": 4
 },
 "nbformat": 4,
 "nbformat_minor": 2
}
