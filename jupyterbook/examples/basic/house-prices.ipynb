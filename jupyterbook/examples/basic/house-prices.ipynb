{
 "cells": [
  {
   "cell_type": "markdown",
   "metadata": {},
   "source": [
    "# House Prices\n",
    "\n",
    "A large dataset from the UK Office for National Statistics that makes heavy use of irregularly offset headers and whitespace as a visual only means of data demarcation."
   ]
  },
  {
   "cell_type": "markdown",
   "metadata": {
    "tags": []
   },
   "source": [
    "## Tutorial Structure\n",
    "\n",
    "With these example tutorials I'm going to comment heavily and cover nuances in a follow up section (with liberal targetted previews as needed) as it's the easiest way to grapple with new ideas. It may also be worth opening up these notebooks yourself (they're in `./jupyterbook` in the [tidychef](https://github.com/mikeAdamss/tidychef) github repo) so you can run, alter and generally have a play about with this yourself as part of your learning.\n",
    "\n",
    "We'll cover:\n",
    "\n",
    "- source data\n",
    "- requirements, what we're aiming to do here\n",
    "- show the full script (all logic commented)\n",
    "- output the selection preview\n",
    "- nuances (where applicable)\n",
    "- view the output\n",
    "\n",
    "This sequencing is necessary as the output for some of the example is **really** long so that necessitates it coming last. If you're viewing this via a jupyter book (i.e on the site) you can navigate between the above sections via your right hand menu.\n",
    "\n",
    "_Note - these tutorial scripts might seem verbose due all the comments but that's ok (this is a tutorial after all). If you take them out you end up with a fairly succinct and human readable encapsulation of what would otherwise (with existing tools) be a rather convoluted and fragile set of instructions to express._\n",
    "\n",
    "In virtually all cases I'll make heavy use of `preview` and `bounded` to only look at relevant parts of what can be quite large datasets. Downloads links are provided for the source data."
   ]
  },
  {
   "cell_type": "markdown",
   "metadata": {},
   "source": [
    "## Source"
   ]
  },
  {
   "cell_type": "code",
   "execution_count": null,
   "metadata": {},
   "outputs": [],
   "source": [
    "from tidychef import acquire, preview\n",
    "from tidychef.selection import XlsSelectable\n",
    "\n",
    "table: XlsSelectable = acquire.xls.http(\"https://raw.githubusercontent.com/mikeAdamss/tidychef/main/tests/fixtures/xls/house-prices.xls\", tables=\"Table 11\")\n",
    "preview(table, bounded=\"A1:M20\")"
   ]
  },
  {
   "cell_type": "markdown",
   "metadata": {},
   "source": [
    "From an xlx source which can be [downloaded here](https://raw.githubusercontent.com/mikeAdamss/tidychef/main/tests/fixtures/xls/house-prices.xls)."
   ]
  },
  {
   "cell_type": "markdown",
   "metadata": {},
   "source": [
    "## Requirements\n",
    "\n",
    "- We'll take \"Year\" and \"Quarter\" from the appropriate values in columns B and C.\n",
    "- We'll take populated cells on row 4 as \"Housing\" and we'll strip the \"4\" notation away.\n",
    "- We'll take \"Area\" and \"Area Code\" from column A (see United Kingdom and K02000001 as the examples).\n",
    "- We'll call the observations column \"Value\" and we'll strip any trailing \".0\"s.\n",
    " \n",
    " Note: this is one of the morecomplexbasic examples but its complexity in terms of large amound of simple things. Take you time and work through it logically."
   ]
  },
  {
   "cell_type": "code",
   "execution_count": null,
   "metadata": {
    "tags": []
   },
   "outputs": [],
   "source": [
    "from tidychef import acquire, preview\n",
    "from tidychef.direction import up, down, right, left\n",
    "from tidychef.output import TidyData, Column\n",
    "from tidychef.selection import XlsSelectable\n",
    "\n",
    "# Get the data via the acquire api, in this instance we're only interested in table 11 of the spreadsheet\n",
    "table: XlsSelectable = acquire.xls.http(\"https://raw.githubusercontent.com/mikeAdamss/tidychef/main/tests/fixtures/xls/house-prices.xls\", tables=\"Table 11\")\n",
    "\n",
    "# Sweep up some unwanted stuff at the bottom of the table\n",
    "unwanted = table.column('A').is_numeric().expand_to_box()\n",
    "\n",
    "# Get the area level - I'm doing something a little sneaky here to avoid regex'ing a large dataset, see nuances.\n",
    "area = table.excel_ref(\"A1\").fill(down).is_not_blank().shift(up).is_not_blank().label_as(\"Area\") - unwanted\n",
    "\n",
    "# An area code is always above an area\n",
    "area_code = area.shift(down).label_as(\"Area Code\")\n",
    "\n",
    "# - (a) Find the row that's got 1 or more cells with 'Price' written in it\n",
    "# - (b) Get rid of the blank cells on that row\n",
    "measure = table.row_containing_strings(['Price']).is_not_blank().label_as(\"Measure\")\n",
    "\n",
    "# housing is always the line above measure\n",
    "housing = measure.shift(up)\n",
    "\n",
    "# observations are numberic values below our \"Measure\" selections\n",
    "observations = measure.fill(down).is_not_blank().is_numeric().label_as(\"Observation\")\n",
    "\n",
    "# We'll select year as number values in column B\n",
    "year = table.excel_ref('B').is_numeric().label_as(\"Year\")\n",
    "\n",
    "# years are non black cells to the left of quarters\n",
    "quarter = year.shift(right).extrude(down(3)).is_not_blank().label_as(\"Year\")\n",
    "\n",
    "# Create a bounded preview inline but also write the full preview to path\n",
    "preview(observations, housing, area_code, area, year, quarter, measure, bounded=\"A1:M20\")\n",
    "preview(observations, housing, area_code, area, year, quarter, measure, path=\"house-prices.html\")\n",
    "\n",
    "tidy_data = TidyData(\n",
    "    observations,\n",
    "    Column(measure.attach_directly(down)),\n",
    "    Column(housing.attach_directly(down), apply=lambda x: x.rstrip(\"4\")), # Lets strip the notation\n",
    "    Column(area_code.attach_closest(down)),\n",
    "    Column(area.attach_closest(down)),\n",
    "    Column(year.attach_closest(down), apply=lambda x: x.replace(\".0\", \"\")), # Present as whole number\n",
    "    Column(quarter.attach_directly(right)),\n",
    "    obs_apply = lambda x: x.replace(\".0\", \"\") # Present observation as whole number where applicable.\n",
    ")\n",
    "\n",
    "tidy_data.to_csv(\"house-prices.csv\")"
   ]
  },
  {
   "cell_type": "markdown",
   "metadata": {},
   "source": [
    "## Nuances\n",
    "\n",
    "### How we're getting area - and why\n",
    "\n",
    "Not everyone likes to use regex and it can have performance issues if you go wild with it, so we're taking a different approach to this. I'll walk through it one step at a time. Here's the full command:\n",
    "\n",
    "```python\n",
    "area = table.excel_ref(\"A1\").fill(down).is_not_blank().shift(up).is_not_blank().label_as(\"Area\")\n",
    "```\n",
    "\n",
    "Note - for brevity we'll just look at one block the two headers in questions, but remember there are dozens of identical two cell blocks in this column and the commands operate simultaneously on **all** of them."
   ]
  },
  {
   "cell_type": "code",
   "execution_count": null,
   "metadata": {
    "tags": []
   },
   "outputs": [],
   "source": [
    "# Get not blank cells from Column A -not- counting cell A1 (its got some title information in it\n",
    "example = table.excel_ref(\"A1\").fill(down).is_not_blank()\n",
    "preview(example, bounded=\"A1:M8\")"
   ]
  },
  {
   "cell_type": "code",
   "execution_count": null,
   "metadata": {
    "tags": []
   },
   "outputs": [],
   "source": [
    "# Now we shift that selection up by one\n",
    "example2 = example.shift(up)\n",
    "preview(example2, bounded=\"A1:M8\")"
   ]
  },
  {
   "cell_type": "code",
   "execution_count": null,
   "metadata": {
    "tags": []
   },
   "outputs": [],
   "source": [
    "# And now we remove blanks again.\n",
    "example3 = example2.is_not_blank()\n",
    "preview(example3, bounded=\"A1:M8\")"
   ]
  },
  {
   "cell_type": "markdown",
   "metadata": {
    "tags": []
   },
   "source": [
    "And voila, a very targetted selection without relying on regex or any other kind of string matching!\n",
    "\n",
    "It's hard to convey this next point without writing endless example of this kind but a big part of getting the most out of tidychef is learning to leverage command chaining in non obvious ways like this, effectively the more you do this kind of thing the more you learn to in think terms of \"visual wrangling\"."
   ]
  },
  {
   "cell_type": "markdown",
   "metadata": {
    "tags": []
   },
   "source": [
    "# Outputs\n",
    "\n",
    "The full preview can be [viewed here](./house-prices.html).\n",
    "\n",
    "The tidy data can be [downloaded here](./house-prices.csv) and a full inline preview of the tidydata generated is shown below for those people who'd prefer to scroll."
   ]
  },
  {
   "cell_type": "code",
   "execution_count": null,
   "metadata": {
    "tags": []
   },
   "outputs": [],
   "source": [
    "print(tidy_data)"
   ]
  }
 ],
 "metadata": {
  "kernelspec": {
   "display_name": "Python 3 (ipykernel)",
   "language": "python",
   "name": "python3"
  },
  "language_info": {
   "codemirror_mode": {
    "name": "ipython",
    "version": 3
   },
   "file_extension": ".py",
   "mimetype": "text/x-python",
   "name": "python",
   "nbconvert_exporter": "python",
   "pygments_lexer": "ipython3",
   "version": "3.12.11"
  }
 },
 "nbformat": 4,
 "nbformat_minor": 4
}
