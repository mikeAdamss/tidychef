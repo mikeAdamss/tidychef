{
 "cells": [
  {
   "attachments": {},
   "cell_type": "markdown",
   "metadata": {},
   "source": [
    "# Monthly GDP Tables: GVA"
   ]
  },
  {
   "attachments": {},
   "cell_type": "markdown",
   "metadata": {},
   "source": [
    "## Source\n",
    "\n",
    "For this example we're extracting the table \"GVA\" as shown below (note - preview cropped to row 16 for reasons of practicality):"
   ]
  },
  {
   "cell_type": "code",
   "execution_count": null,
   "metadata": {},
   "outputs": [],
   "source": [
    "from typing import List\n",
    "from datachef import acquire, preview\n",
    "from datachef.selection import XlsSelectable\n",
    "\n",
    "tables: List[XlsSelectable] = acquire.xls.http(\"https://raw.githubusercontent.com/mikeAdamss/datachef/main/tests/fixtures/xls/monthlygdptablesapril2023.xls\")\n",
    "preview(tables[3], bounded=\"A1:Z16\")"
   ]
  },
  {
   "attachments": {},
   "cell_type": "markdown",
   "metadata": {},
   "source": [
    "From an xls source which can be [downloaded here](https://raw.githubusercontent.com/mikeAdamss/datachef/main/tests/fixtures/xls/monthlygdptablesapril2023.xls).\n",
    "\n",
    "One interesting thing to note here is the producer has intermingled CDID identifiers in with the primary observations values (see lines 7 and 13 above) - we need to be sure to account for this."
   ]
  },
  {
   "attachments": {},
   "cell_type": "markdown",
   "metadata": {},
   "source": [
    "# Requirements\n",
    "\n",
    "- We'll take cell C5 and cells directly right as the column \"Identifier\"\n",
    "- We'll take cell C8 and cells directly downwards as the column \"Category\"\n",
    "- We'll take all cells to the right of a column B value of \"CDID\" as the column \"CDID\"\n",
    "- We'll take cell A8 and cells directly downwards as \"Time Period\"\n",
    "- We're going to ignore the \"Weight\" values for this example.\n",
    "- We're also going to ignore the bracketed text and just remove it for our purposes here.\n",
    "- We'll take the observations are the principle table values minus the CDID headings that are intermingled. We'll use a column name of \"Value\" for them."
   ]
  },
  {
   "cell_type": "code",
   "execution_count": null,
   "metadata": {},
   "outputs": [],
   "source": [
    "from typing import List\n",
    "\n",
    "from datachef import acquire, preview\n",
    "from datachef.direction import up, down, left, right\n",
    "from datachef.output import TidyData, Column\n",
    "from datachef.selection import XlsSelectable\n",
    "\n",
    "\n",
    "tables: List[XlsSelectable] = acquire.xls.http(\"https://raw.githubusercontent.com/mikeAdamss/datachef/main/tests/fixtures/xls/monthlygdptablesapril2023.xls\")\n",
    "table = tables[3]\n",
    "\n",
    "# Sensible starting things\n",
    "assert table.name == \"GVA\", \"GVA table has moved position\"\n",
    "anchor = table.excel_ref(\"B7\").label_as(\"Anchor Cell\")\n",
    "assert anchor.lone_value() == \"CDID\", \"Anchor has moved position\"\n",
    "\n",
    "cdid = anchor.expand(down).filter(lambda x: x.value == \"CDID\").fill(right).label_as(\"CDID\")\n",
    "identifier = anchor.shift(up(2)).fill(right).label_as(\"Identifier\")\n",
    "category = anchor.fill(down).filter(lambda x: x.value != \"CDID\").label_as(\"Category\")\n",
    "time_period = category.shift(left).label_as(\"Time Period\")\n",
    "\n",
    "observations = (anchor.shift(right).shift(down).expand(right).expand(down).is_not_blank() - cdid).label_as(\"Value\")\n",
    "\n",
    "# Create a bounded preview inline but also write the full preview to path\n",
    "preview(anchor, identifier, category, cdid, time_period, observations, bounded=\"A4:Z16\")\n",
    "preview(anchor, identifier, category, cdid, time_period, observations, path=\"monthly-gdp-gva-table.html\")\n",
    "\n",
    "tidy_data = TidyData(\n",
    "    observations,\n",
    "    Column(cdid.finds_observations_directly(down)),\n",
    "    Column(identifier.finds_observations_directly(down)),\n",
    "    Column(category.finds_observations_directly(right), apply=lambda x: x.split(\"[\")[0].strip()),\n",
    "    Column(time_period.finds_observations_directly(right), apply=lambda x: x.rstrip(\".0\"))\n",
    ")\n",
    "tidy_data.to_csv(\"monthly-gdp-gva-table.csv\")"
   ]
  },
  {
   "attachments": {},
   "cell_type": "markdown",
   "metadata": {},
   "source": [
    "# Outputs\n",
    "\n",
    "The full preview can be [downloaded here](./monthly-gdp-gva-table.html):\n",
    "\n",
    "The tidy data can be [downloaded here](./monthly-gdp-gva-table.html) and a full inline preview of the tidydata generated is shown below for those people who'd prefer to scroll."
   ]
  },
  {
   "cell_type": "code",
   "execution_count": null,
   "metadata": {},
   "outputs": [],
   "source": [
    "print(tidy_data)"
   ]
  }
 ],
 "metadata": {
  "kernelspec": {
   "display_name": "datachef-hNSMaw3h-py3.9",
   "language": "python",
   "name": "python3"
  },
  "language_info": {
   "codemirror_mode": {
    "name": "ipython",
    "version": 3
   },
   "file_extension": ".py",
   "mimetype": "text/x-python",
   "name": "python",
   "nbconvert_exporter": "python",
   "pygments_lexer": "ipython3",
   "version": "3.9.7"
  },
  "orig_nbformat": 4
 },
 "nbformat": 4,
 "nbformat_minor": 2
}
