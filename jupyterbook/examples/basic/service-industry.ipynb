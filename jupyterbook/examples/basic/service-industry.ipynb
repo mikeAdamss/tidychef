{
 "cells": [
  {
   "attachments": {},
   "cell_type": "markdown",
   "metadata": {},
   "source": [
    "# Service Industry"
   ]
  },
  {
   "attachments": {},
   "cell_type": "markdown",
   "metadata": {},
   "source": [
    "## Source\n",
    "\n",
    "For this example we're extracting the table \"TOPS19\" as shown below (note - preview cropped for reasons of practicality):"
   ]
  },
  {
   "cell_type": "code",
   "execution_count": null,
   "metadata": {},
   "outputs": [],
   "source": [
    "from typing import List\n",
    "from datachef import acquire, preview\n",
    "from datachef.selection import XlsSelectable\n",
    "\n",
    "tables: List[XlsSelectable] = acquire.xls.http(\"https://raw.githubusercontent.com/mikeAdamss/datachef/main/tests/fixtures/xls/service-industry.xls\")\n",
    "preview(tables[10], bounded=\"A1:Q22\")\n"
   ]
  },
  {
   "attachments": {},
   "cell_type": "markdown",
   "metadata": {},
   "source": [
    "From an xlsx source which can be [downloaded here](https://raw.githubusercontent.com/mikeAdamss/datachef/main/tests/fixtures/xls/servie-industry.xls)."
   ]
  },
  {
   "attachments": {},
   "cell_type": "markdown",
   "metadata": {},
   "source": [
    "# Requirements\n",
    "\n",
    "- We'll take the line 4 and 5 headers as \"Product\".\n",
    "- We'll call \"Year\" from column A and clean it up.\n",
    "- We'll take \"Quarter\" from column B.\n",
    "- We'll take row 9 as \"CDID\" (as I happen to know that's the name of this particular type of identifier).\n",
    "- We'll call the observations column \"Value\"\n",
    "\n",
    "This is a pretty standard recipe with a few things to note:\n",
    "\n",
    "- using `extrude` to hanble badly merged cells (lines 4, 5 & 6).\n",
    "- dealing with an extensive footer by defining it early and just removing it from the selections.\n",
    "- using a `shift` on th already selected year to add cells that structurally should be \"All\" for quarters in a targetted manner."
   ]
  },
  {
   "cell_type": "code",
   "execution_count": null,
   "metadata": {},
   "outputs": [],
   "source": [
    "from typing import List\n",
    "from datachef import acquire, against, preview\n",
    "from datachef.direction import up, down, left, right\n",
    "from datachef.output import Column, TidyData\n",
    "from datachef.selection import XlsSelectable\n",
    "\n",
    "tables: List[XlsSelectable] = acquire.xls.http(\"https://raw.githubusercontent.com/mikeAdamss/datachef/main/tests/fixtures/xls/service-industry.xls\")\n",
    "\n",
    "# Do sensible things\n",
    "table = tables[10]\n",
    "wanted_table = \"TOPSI9\"\n",
    "assert table.name == wanted_table, f'Got table {table.name}, expected {wanted_table}'\n",
    "footer = table.excel_ref('A').re(\"Average\").expand(right).expand(down)\n",
    "\n",
    "anchor = table.re(\".*ships and boats.*\").assert_one().shift(left).label_as(\"Anchor Cell\")\n",
    "year = (anchor.shift(left(3)).expand(down).is_not_blank()- footer).label_as(\"Year\")\n",
    "quarter = (\n",
    "    (anchor.shift(left(2)).expand(down).is_not_blank() | year.shift(right))\n",
    "    - footer\n",
    "    ).label_as(\"Quarter\")\n",
    "cdid = table.re(\"^[A-Z]{3}\\d$\").assert_single_row().label_as(\"CDID\")\n",
    "product = anchor.extrude(up).extrude(down).expand(right).is_not_blank().label_as(\"Product\")\n",
    "observations = (cdid.waffle(down, quarter) - footer).label_as(\"Value\")\n",
    "\n",
    "preview(anchor, observations, product, year, quarter, cdid)\n",
    "\n",
    "tidy_data = TidyData(\n",
    "    observations,\n",
    "    Column(product.finds_observations_directly(down)),\n",
    "    Column(year.finds_observations_closest(down), apply=lambda x: x[:4], validate=against.is_numeric),\n",
    "    Column(quarter.finds_observations_directly(right), apply=lambda x: \"All\" if x == \"\" else x),\n",
    "    Column(cdid.finds_observations_directly(down))\n",
    ")\n",
    "\n",
    "tidy_data.to_csv(\"service-industry.csv\")"
   ]
  },
  {
   "attachments": {},
   "cell_type": "markdown",
   "metadata": {},
   "source": [
    "# Outputs\n",
    "\n",
    "The tidy data can be [downloaded here](./service-industry.csv) and a full inline preview of the tidydata generated is shown below for those people who'd prefer to scroll."
   ]
  },
  {
   "cell_type": "code",
   "execution_count": null,
   "metadata": {},
   "outputs": [],
   "source": [
    "print(tidy_data)"
   ]
  }
 ],
 "metadata": {
  "kernelspec": {
   "display_name": "datachef-hNSMaw3h-py3.9",
   "language": "python",
   "name": "python3"
  },
  "language_info": {
   "codemirror_mode": {
    "name": "ipython",
    "version": 3
   },
   "file_extension": ".py",
   "mimetype": "text/x-python",
   "name": "python",
   "nbconvert_exporter": "python",
   "pygments_lexer": "ipython3",
   "version": "3.9.7"
  },
  "orig_nbformat": 4
 },
 "nbformat": 4,
 "nbformat_minor": 2
}
