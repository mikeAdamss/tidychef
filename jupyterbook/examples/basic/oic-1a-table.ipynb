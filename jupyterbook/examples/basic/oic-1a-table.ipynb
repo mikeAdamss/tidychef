{
 "cells": [
  {
   "attachments": {},
   "cell_type": "markdown",
   "metadata": {},
   "source": [
    "# Output In Construction: Table 1a"
   ]
  },
  {
   "attachments": {},
   "cell_type": "markdown",
   "metadata": {},
   "source": [
    "## Source\n",
    "\n",
    "For this example we're extracting the table \"1a\" as shown below (note - preview cropped to row 13 for reasons of practicality):"
   ]
  },
  {
   "cell_type": "code",
   "execution_count": null,
   "metadata": {},
   "outputs": [],
   "source": [
    "from tidychef import acquire, preview\n",
    "from tidychef.selection import XlsxSelectable\n",
    "\n",
    "table: XlsxSelectable = acquire.xlsx.http(\"https://raw.githubusercontent.com/mikeAdamss/tidychef/main/tests/fixtures/xlsx/ons-oic.xlsx\", tables=\"Table 1a\")\n",
    "preview(table, bounded=\"A1:O13\")"
   ]
  },
  {
   "attachments": {},
   "cell_type": "markdown",
   "metadata": {},
   "source": [
    "From an xlsx source which can be [downloaded here](https://raw.githubusercontent.com/mikeAdamss/tidychef/main/tests/fixtures/xlsx/ons-oic.xlsx)."
   ]
  },
  {
   "attachments": {},
   "cell_type": "markdown",
   "metadata": {},
   "source": [
    "# Requirements\n",
    "\n",
    "- We'll take time period from the left hand column\n",
    "- We'll call the row 5 headers Housing\n",
    "- We'll call row 6 Identifier\n",
    "- We'll call the observations column \"Value\""
   ]
  },
  {
   "cell_type": "code",
   "execution_count": null,
   "metadata": {},
   "outputs": [],
   "source": [
    "from tidychef import acquire, preview\n",
    "from tidychef.direction import down, right\n",
    "from tidychef.output import TidyData, Column\n",
    "from tidychef.selection import XlsxSelectable\n",
    "\n",
    "table: XlsxSelectable = acquire.xlsx.http(\"https://raw.githubusercontent.com/mikeAdamss/tidychef/main/tests/fixtures/xlsx/ons-oic.xlsx\", tables=\"Table 1a\")\n",
    "anchor = table.excel_ref('A').re(\"Time period\").assert_one().label_as(\"Anchor Cell\")\n",
    "\n",
    "observations = anchor.shift(right).shift(down(2)).expand(right).expand(down).is_not_blank().label_as(\"Value\")\n",
    "identifier = anchor.shift(down).fill(right).label_as(\"Identifier\")\n",
    "housing = anchor.fill(right).label_as(\"Housing\")\n",
    "time_period = anchor.shift(down).fill(down).label_as(\"Time Period\")\n",
    "\n",
    "# Create a bounded preview inline but also write the full preview to path\n",
    "preview(anchor, observations, identifier, housing, time_period, bounded=\"A3:O13\")\n",
    "preview(anchor, observations, identifier, housing, time_period, path=\"oic-1a-table.html\")\n",
    "\n",
    "tidy_data = TidyData(\n",
    "    observations,\n",
    "    Column(identifier.finds_observations_directly(down)),\n",
    "    Column(housing.finds_observations_directly(down)),\n",
    "    Column(time_period.finds_observations_directly(right)),\n",
    ")\n",
    "\n",
    "tidy_data.to_csv(\"oic-1a-table.csv\")"
   ]
  },
  {
   "attachments": {},
   "cell_type": "markdown",
   "metadata": {},
   "source": [
    "# Outputs\n",
    "\n",
    "The full preview can be [downloaded here](./oic-1a-table.html).\n",
    "\n",
    "The tidy data can be [downloaded here](./oic-1a-table.csv) and a full inline preview of the tidydata generated is shown below for those people who'd prefer to scroll."
   ]
  },
  {
   "cell_type": "code",
   "execution_count": null,
   "metadata": {},
   "outputs": [],
   "source": [
    "print(tidy_data)"
   ]
  }
 ],
 "metadata": {
  "kernelspec": {
   "display_name": "datachef-hNSMaw3h-py3.9",
   "language": "python",
   "name": "python3"
  },
  "language_info": {
   "codemirror_mode": {
    "name": "ipython",
    "version": 3
   },
   "file_extension": ".py",
   "mimetype": "text/x-python",
   "name": "python",
   "nbconvert_exporter": "python",
   "pygments_lexer": "ipython3",
   "version": "3.7.13"
  },
  "orig_nbformat": 4
 },
 "nbformat": 4,
 "nbformat_minor": 2
}
