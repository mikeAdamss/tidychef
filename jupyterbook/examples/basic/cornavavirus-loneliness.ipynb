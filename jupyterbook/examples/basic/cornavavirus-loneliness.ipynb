{
 "cells": [
  {
   "attachments": {},
   "cell_type": "markdown",
   "metadata": {},
   "source": [
    "# Coronavirus: Loneliness"
   ]
  },
  {
   "cell_type": "code",
   "execution_count": null,
   "metadata": {},
   "outputs": [],
   "source": [
    "from typing import List\n",
    "from datachef import acquire, preview\n",
    "from datachef.selection import XlsxSelectable\n",
    "\n",
    "tables: List[XlsxSelectable] = acquire.xlsx.http(\"https://raw.githubusercontent.com/mikeAdamss/datachef/main/tests/fixtures/xlsx/coronavirusandlonelinessreferencetable.xlsx\")\n",
    "preview(tables[5], bounded=\"A1:F20\")"
   ]
  },
  {
   "attachments": {},
   "cell_type": "markdown",
   "metadata": {},
   "source": [
    "From an xlsx source which can be [downloaded here](https://raw.githubusercontent.com/mikeAdamss/datachef/main/tests/fixtures/xlsx/coronavirusandlonelinessreferencetable.xlsx)."
   ]
  },
  {
   "attachments": {},
   "cell_type": "markdown",
   "metadata": {},
   "source": [
    "## Requirements\n",
    "\n",
    "- We'll take the priciple description of lonliness (Often/Always etc) as a \"Lonliness\" column.\n",
    "- We'll take sex as a \"Sex\" column.\n",
    "- Sample size will be taken as a \"Sample Size\" column.\n",
    "\n",
    "This is a particularly good example for dealing with quite an irregularly presented table. "
   ]
  },
  {
   "cell_type": "code",
   "execution_count": null,
   "metadata": {},
   "outputs": [],
   "source": [
    "from typing import List\n",
    "from datachef import acquire, filters, preview\n",
    "from datachef.direction import right, down, left, up\n",
    "from datachef.output import TidyData, Column\n",
    "from datachef.selection import XlsxSelectable\n",
    "\n",
    "tables: List[XlsxSelectable] = acquire.xlsx.http(\"https://raw.githubusercontent.com/mikeAdamss/datachef/main/tests/fixtures/xlsx/coronavirusandlonelinessreferencetable.xlsx\")\n",
    "table = tables[5]\n",
    "\n",
    "# Do sensible things to start\n",
    "assert table.name == \"1.4 Loneliness by sex\"\n",
    "\n",
    "sex = table.re(\"Male\").expand(right).is_not_blank().label_as(\"Sex\")\n",
    "sample_size = table.filter(filters.contains_string(\"Sample size\")).fill(right).is_not_blank().label_as(\"Sample Size\")\n",
    "# We'll select the source entry at the end just so we can remove it from selections\n",
    "unwanted_footer = table.filter(filters.contains_string(\"Source: \")).assert_one()\n",
    "lonliness = (table.excel_ref('A4').expand(down) - sample_size.shift(left) - unwanted_footer.expand(down)).is_not_blank().label_as(\"Loneliness\")\n",
    "observations = lonliness.fill(right).is_not_blank().label_as(\"Observations\")\n",
    "\n",
    "# Create a bounded preview inline but also write the full preview to path\n",
    "preview(observations, sex, sample_size, lonliness, bounded=\"A1:F20\")\n",
    "preview(observations, sex, sample_size, lonliness, path=\"loneliness.csv\")\n",
    "\n",
    "\n",
    "tidy_data = TidyData(\n",
    "    observations, \n",
    "    Column(sex.finds_observations_directly(down)),\n",
    "    Column(sample_size.finds_observations_directly(up)),\n",
    "    Column(lonliness.finds_observations_directly(right)),\n",
    "\n",
    ")\n",
    "\n",
    "tidy_data.to_csv(\"loneliness.csv\")"
   ]
  },
  {
   "attachments": {},
   "cell_type": "markdown",
   "metadata": {},
   "source": [
    "# Outputs\n",
    "\n",
    "The full preview can be [downloaded here](./loneliness.html):\n",
    "\n",
    "The tidy data can be [downloaded here](./loneliness.html) and a full inline preview of the tidydata generated is shown below."
   ]
  },
  {
   "cell_type": "code",
   "execution_count": null,
   "metadata": {},
   "outputs": [],
   "source": [
    "print(tidy_data)"
   ]
  }
 ],
 "metadata": {
  "kernelspec": {
   "display_name": "datachef-hNSMaw3h-py3.9",
   "language": "python",
   "name": "python3"
  },
  "language_info": {
   "codemirror_mode": {
    "name": "ipython",
    "version": 3
   },
   "file_extension": ".py",
   "mimetype": "text/x-python",
   "name": "python",
   "nbconvert_exporter": "python",
   "pygments_lexer": "ipython3",
   "version": "3.9.7"
  },
  "orig_nbformat": 4
 },
 "nbformat": 4,
 "nbformat_minor": 2
}
