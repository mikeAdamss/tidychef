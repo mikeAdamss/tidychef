{
 "cells": [
  {
   "attachments": {},
   "cell_type": "markdown",
   "metadata": {},
   "source": [
    "# Loading Csv Data\n",
    "\n",
    "The acquire module is how data is loaded into datachef.\n",
    "\n",
    "The acquire module uses dot notation to specify format and origin (local vs http etc).\n",
    "\n",
    "Simple Examples follow:\n",
    "\n",
    "\n"
   ]
  },
  {
   "attachments": {},
   "cell_type": "markdown",
   "metadata": {},
   "source": [
    "## CSV Data From Local\n",
    "\n",
    "Creating a single selectable table-like object from a local csv file."
   ]
  },
  {
   "cell_type": "code",
   "execution_count": 9,
   "metadata": {},
   "outputs": [
    {
     "data": {
      "text/html": [
       "\n",
       "    <html>\n",
       "        \n",
       "    <style>\n",
       "    table, th, td {\n",
       "        border: 1px solid;\n",
       "    }\n",
       "\n",
       "    table {\n",
       "        border-collapse: collapse;\n",
       "    }\n",
       "\n",
       "    td {\n",
       "        align: center;\n",
       "        border: 1px  black solid !important;\n",
       "        color: black !important;\n",
       "    }\n",
       "\n",
       "    th, td {\n",
       "        padding: 5px;\n",
       "    }\n",
       "\n",
       "    </style>\n",
       "    \n",
       "            <table>\n",
       "                \n",
       "            </table>\n",
       "\n",
       "            <body>\n",
       "                <h2>Unnamed Table</h2>\n",
       "                <table>\n",
       "                    <tr><td style=\"background-color:lightgrey\"></td><td style=\"background-color:lightgrey\">A</td><td style=\"background-color:lightgrey\">B</td><td style=\"background-color:lightgrey\">C</td><td style=\"background-color:lightgrey\">D</td><td style=\"background-color:lightgrey\">E</td></tr>\n",
       "<tr><td style=\"background-color:lightgrey\">1</td><td style=\"background-color:white\"></td><td style=\"background-color:white\"></td><td style=\"background-color:white\"></td><td style=\"background-color:white\"></td><td style=\"background-color:white\"></td></tr>\n",
       "<tr><td style=\"background-color:lightgrey\">2</td><td style=\"background-color:white\"></td><td style=\"background-color:white\"></td><td style=\"background-color:white\">Houses</td><td style=\"background-color:white\">Cars</td><td style=\"background-color:white\">Boats</td></tr>\n",
       "<tr><td style=\"background-color:lightgrey\">3</td><td style=\"background-color:white\">Beatles</td><td style=\"background-color:white\"></td><td style=\"background-color:white\"></td><td style=\"background-color:white\"></td><td style=\"background-color:white\"></td></tr>\n",
       "<tr><td style=\"background-color:lightgrey\">4</td><td style=\"background-color:white\"></td><td style=\"background-color:white\">John</td><td style=\"background-color:white\">1</td><td style=\"background-color:white\">5</td><td style=\"background-color:white\">9</td></tr>\n",
       "<tr><td style=\"background-color:lightgrey\">5</td><td style=\"background-color:white\"></td><td style=\"background-color:white\">Paul</td><td style=\"background-color:white\">2</td><td style=\"background-color:white\">6</td><td style=\"background-color:white\">10</td></tr>\n",
       "<tr><td style=\"background-color:lightgrey\">6</td><td style=\"background-color:white\"></td><td style=\"background-color:white\">George</td><td style=\"background-color:white\">2</td><td style=\"background-color:white\">7</td><td style=\"background-color:white\">11</td></tr>\n",
       "<tr><td style=\"background-color:lightgrey\">7</td><td style=\"background-color:white\"></td><td style=\"background-color:white\">Ringo</td><td style=\"background-color:white\">4</td><td style=\"background-color:white\">8</td><td style=\"background-color:white\">12</td></tr>\n",
       "<tr><td style=\"background-color:lightgrey\">8</td><td style=\"background-color:white\"></td><td style=\"background-color:white\"></td><td style=\"background-color:white\"></td><td style=\"background-color:white\"></td><td style=\"background-color:white\"></td></tr>\n",
       "<tr><td style=\"background-color:lightgrey\">9</td><td style=\"background-color:white\">Rolling Stones</td><td style=\"background-color:white\"></td><td style=\"background-color:white\"></td><td style=\"background-color:white\"></td><td style=\"background-color:white\"></td></tr>\n",
       "<tr><td style=\"background-color:lightgrey\">10</td><td style=\"background-color:white\"></td><td style=\"background-color:white\">Keith</td><td style=\"background-color:white\">2</td><td style=\"background-color:white\">6</td><td style=\"background-color:white\">10</td></tr>\n",
       "<tr><td style=\"background-color:lightgrey\">11</td><td style=\"background-color:white\"></td><td style=\"background-color:white\">Mick</td><td style=\"background-color:white\">3</td><td style=\"background-color:white\">7</td><td style=\"background-color:white\">11</td></tr>\n",
       "<tr><td style=\"background-color:lightgrey\">12</td><td style=\"background-color:white\"></td><td style=\"background-color:white\">Charlie</td><td style=\"background-color:white\">3</td><td style=\"background-color:white\">8</td><td style=\"background-color:white\">12</td></tr>\n",
       "<tr><td style=\"background-color:lightgrey\">13</td><td style=\"background-color:white\"></td><td style=\"background-color:white\">Ronnie</td><td style=\"background-color:white\">5</td><td style=\"background-color:white\">9</td><td style=\"background-color:white\">13</td></tr>\n",
       "\n",
       "                </table>\n",
       "            </body>\n",
       "        </html>\n",
       "    "
      ],
      "text/plain": [
       "<IPython.core.display.HTML object>"
      ]
     },
     "metadata": {},
     "output_type": "display_data"
    }
   ],
   "source": [
    "from datachef import acquire, preview\n",
    "\n",
    "table = acquire.csv.local(\"../../tests/fixtures/csv/bands.csv\")\n",
    "preview(table)"
   ]
  },
  {
   "attachments": {},
   "cell_type": "markdown",
   "metadata": {},
   "source": [
    "#### ..... why are there excel style column and row headers?\n",
    "\n",
    "The term `excel_ref` is used throughout datachef within the context of tabulated data regardless of the source format. This is purely a convenience as \"F1\" is instantly recognisable to most users and more practical that \"x 5, y 0\".\n",
    "\n",
    "If you need to preview without these excel notations, you can use the `with_excel_notations=False` as per the following example:"
   ]
  },
  {
   "cell_type": "code",
   "execution_count": 10,
   "metadata": {},
   "outputs": [
    {
     "data": {
      "text/html": [
       "\n",
       "    <html>\n",
       "        \n",
       "    <style>\n",
       "    table, th, td {\n",
       "        border: 1px solid;\n",
       "    }\n",
       "\n",
       "    table {\n",
       "        border-collapse: collapse;\n",
       "    }\n",
       "\n",
       "    td {\n",
       "        align: center;\n",
       "        border: 1px  black solid !important;\n",
       "        color: black !important;\n",
       "    }\n",
       "\n",
       "    th, td {\n",
       "        padding: 5px;\n",
       "    }\n",
       "\n",
       "    </style>\n",
       "    \n",
       "            <table>\n",
       "                \n",
       "            </table>\n",
       "\n",
       "            <body>\n",
       "                <h2>Unnamed Table</h2>\n",
       "                <table>\n",
       "                    <tr><td style=\"background-color:white\"></td><td style=\"background-color:white\"></td><td style=\"background-color:white\"></td><td style=\"background-color:white\"></td><td style=\"background-color:white\"></td></tr>\n",
       "<tr><td style=\"background-color:white\"></td><td style=\"background-color:white\"></td><td style=\"background-color:white\">Houses</td><td style=\"background-color:white\">Cars</td><td style=\"background-color:white\">Boats</td></tr>\n",
       "<tr><td style=\"background-color:white\">Beatles</td><td style=\"background-color:white\"></td><td style=\"background-color:white\"></td><td style=\"background-color:white\"></td><td style=\"background-color:white\"></td></tr>\n",
       "<tr><td style=\"background-color:white\"></td><td style=\"background-color:white\">John</td><td style=\"background-color:white\">1</td><td style=\"background-color:white\">5</td><td style=\"background-color:white\">9</td></tr>\n",
       "<tr><td style=\"background-color:white\"></td><td style=\"background-color:white\">Paul</td><td style=\"background-color:white\">2</td><td style=\"background-color:white\">6</td><td style=\"background-color:white\">10</td></tr>\n",
       "<tr><td style=\"background-color:white\"></td><td style=\"background-color:white\">George</td><td style=\"background-color:white\">2</td><td style=\"background-color:white\">7</td><td style=\"background-color:white\">11</td></tr>\n",
       "<tr><td style=\"background-color:white\"></td><td style=\"background-color:white\">Ringo</td><td style=\"background-color:white\">4</td><td style=\"background-color:white\">8</td><td style=\"background-color:white\">12</td></tr>\n",
       "<tr><td style=\"background-color:white\"></td><td style=\"background-color:white\"></td><td style=\"background-color:white\"></td><td style=\"background-color:white\"></td><td style=\"background-color:white\"></td></tr>\n",
       "<tr><td style=\"background-color:white\">Rolling Stones</td><td style=\"background-color:white\"></td><td style=\"background-color:white\"></td><td style=\"background-color:white\"></td><td style=\"background-color:white\"></td></tr>\n",
       "<tr><td style=\"background-color:white\"></td><td style=\"background-color:white\">Keith</td><td style=\"background-color:white\">2</td><td style=\"background-color:white\">6</td><td style=\"background-color:white\">10</td></tr>\n",
       "<tr><td style=\"background-color:white\"></td><td style=\"background-color:white\">Mick</td><td style=\"background-color:white\">3</td><td style=\"background-color:white\">7</td><td style=\"background-color:white\">11</td></tr>\n",
       "<tr><td style=\"background-color:white\"></td><td style=\"background-color:white\">Charlie</td><td style=\"background-color:white\">3</td><td style=\"background-color:white\">8</td><td style=\"background-color:white\">12</td></tr>\n",
       "<tr><td style=\"background-color:white\"></td><td style=\"background-color:white\">Ronnie</td><td style=\"background-color:white\">5</td><td style=\"background-color:white\">9</td><td style=\"background-color:white\">13</td></tr>\n",
       "\n",
       "                </table>\n",
       "            </body>\n",
       "        </html>\n",
       "    "
      ],
      "text/plain": [
       "<IPython.core.display.HTML object>"
      ]
     },
     "metadata": {},
     "output_type": "display_data"
    }
   ],
   "source": [
    "from datachef import acquire, preview\n",
    "\n",
    "table = acquire.csv.local(\"../../tests/fixtures/csv/bands.csv\")\n",
    "preview(table, with_excel_notations=False)"
   ]
  },
  {
   "attachments": {},
   "cell_type": "markdown",
   "metadata": {},
   "source": [
    "## CSV Data from Http(s)\n",
    "\n",
    "You can also load a csv via http as per the following example:"
   ]
  },
  {
   "cell_type": "code",
   "execution_count": 11,
   "metadata": {},
   "outputs": [
    {
     "data": {
      "text/html": [
       "\n",
       "    <html>\n",
       "        \n",
       "    <style>\n",
       "    table, th, td {\n",
       "        border: 1px solid;\n",
       "    }\n",
       "\n",
       "    table {\n",
       "        border-collapse: collapse;\n",
       "    }\n",
       "\n",
       "    td {\n",
       "        align: center;\n",
       "        border: 1px  black solid !important;\n",
       "        color: black !important;\n",
       "    }\n",
       "\n",
       "    th, td {\n",
       "        padding: 5px;\n",
       "    }\n",
       "\n",
       "    </style>\n",
       "    \n",
       "            <table>\n",
       "                \n",
       "            </table>\n",
       "\n",
       "            <body>\n",
       "                <h2>Unnamed Table</h2>\n",
       "                <table>\n",
       "                    <tr><td style=\"background-color:lightgrey\"></td><td style=\"background-color:lightgrey\">A</td><td style=\"background-color:lightgrey\">B</td><td style=\"background-color:lightgrey\">C</td><td style=\"background-color:lightgrey\">D</td><td style=\"background-color:lightgrey\">E</td></tr>\n",
       "<tr><td style=\"background-color:lightgrey\">1</td><td style=\"background-color:white\"></td><td style=\"background-color:white\"></td><td style=\"background-color:white\"></td><td style=\"background-color:white\"></td><td style=\"background-color:white\"></td></tr>\n",
       "<tr><td style=\"background-color:lightgrey\">2</td><td style=\"background-color:white\"></td><td style=\"background-color:white\"></td><td style=\"background-color:white\">Houses</td><td style=\"background-color:white\">Cars</td><td style=\"background-color:white\">Boats</td></tr>\n",
       "<tr><td style=\"background-color:lightgrey\">3</td><td style=\"background-color:white\">Beatles</td><td style=\"background-color:white\"></td><td style=\"background-color:white\"></td><td style=\"background-color:white\"></td><td style=\"background-color:white\"></td></tr>\n",
       "<tr><td style=\"background-color:lightgrey\">4</td><td style=\"background-color:white\"></td><td style=\"background-color:white\">John</td><td style=\"background-color:white\">1</td><td style=\"background-color:white\">5</td><td style=\"background-color:white\">9</td></tr>\n",
       "<tr><td style=\"background-color:lightgrey\">5</td><td style=\"background-color:white\"></td><td style=\"background-color:white\">Paul</td><td style=\"background-color:white\">2</td><td style=\"background-color:white\">6</td><td style=\"background-color:white\">10</td></tr>\n",
       "<tr><td style=\"background-color:lightgrey\">6</td><td style=\"background-color:white\"></td><td style=\"background-color:white\">George</td><td style=\"background-color:white\">2</td><td style=\"background-color:white\">7</td><td style=\"background-color:white\">11</td></tr>\n",
       "<tr><td style=\"background-color:lightgrey\">7</td><td style=\"background-color:white\"></td><td style=\"background-color:white\">Ringo</td><td style=\"background-color:white\">4</td><td style=\"background-color:white\">8</td><td style=\"background-color:white\">12</td></tr>\n",
       "<tr><td style=\"background-color:lightgrey\">8</td><td style=\"background-color:white\"></td><td style=\"background-color:white\"></td><td style=\"background-color:white\"></td><td style=\"background-color:white\"></td><td style=\"background-color:white\"></td></tr>\n",
       "<tr><td style=\"background-color:lightgrey\">9</td><td style=\"background-color:white\">Rolling Stones</td><td style=\"background-color:white\"></td><td style=\"background-color:white\"></td><td style=\"background-color:white\"></td><td style=\"background-color:white\"></td></tr>\n",
       "<tr><td style=\"background-color:lightgrey\">10</td><td style=\"background-color:white\"></td><td style=\"background-color:white\">Keith</td><td style=\"background-color:white\">2</td><td style=\"background-color:white\">6</td><td style=\"background-color:white\">10</td></tr>\n",
       "<tr><td style=\"background-color:lightgrey\">11</td><td style=\"background-color:white\"></td><td style=\"background-color:white\">Mick</td><td style=\"background-color:white\">3</td><td style=\"background-color:white\">7</td><td style=\"background-color:white\">11</td></tr>\n",
       "<tr><td style=\"background-color:lightgrey\">12</td><td style=\"background-color:white\"></td><td style=\"background-color:white\">Charlie</td><td style=\"background-color:white\">3</td><td style=\"background-color:white\">8</td><td style=\"background-color:white\">12</td></tr>\n",
       "<tr><td style=\"background-color:lightgrey\">13</td><td style=\"background-color:white\"></td><td style=\"background-color:white\">Ronnie</td><td style=\"background-color:white\">5</td><td style=\"background-color:white\">9</td><td style=\"background-color:white\">13</td></tr>\n",
       "\n",
       "                </table>\n",
       "            </body>\n",
       "        </html>\n",
       "    "
      ],
      "text/plain": [
       "<IPython.core.display.HTML object>"
      ]
     },
     "metadata": {},
     "output_type": "display_data"
    }
   ],
   "source": [
    "from datachef import acquire, preview\n",
    "\n",
    "table = acquire.csv.http(\"https://raw.githubusercontent.com/mikeAdamss/datachef/main/tests/fixtures/csv/bands.csv\")\n",
    "preview(table)"
   ]
  },
  {
   "attachments": {},
   "cell_type": "markdown",
   "metadata": {},
   "source": []
  }
 ],
 "metadata": {
  "kernelspec": {
   "display_name": "Python 3",
   "language": "python",
   "name": "python3"
  },
  "language_info": {
   "codemirror_mode": {
    "name": "ipython",
    "version": 3
   },
   "file_extension": ".py",
   "mimetype": "text/x-python",
   "name": "python",
   "nbconvert_exporter": "python",
   "pygments_lexer": "ipython3",
   "version": "3.9.7"
  },
  "widgets": {
   "application/vnd.jupyter.widget-state+json": {
    "state": {},
    "version_major": 2,
    "version_minor": 0
   }
  }
 },
 "nbformat": 4,
 "nbformat_minor": 4
}
