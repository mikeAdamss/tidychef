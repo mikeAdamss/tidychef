{
 "cells": [
  {
   "attachments": {},
   "cell_type": "markdown",
   "metadata": {},
   "source": [
    "# Extended Dot Notation\n",
    "\n",
    "Datachef makes heavy use of **extended dot notation**.\n",
    "\n",
    "In simplest terms think of this as \"constantly chaining commands together with lots of .'s\".\n",
    "\n",
    "i.e\n",
    "\n",
    "```\n",
    "data_is_tidy = data_is_messy.so_clean_it_up().then_format_it().then_we_are_done()\n",
    "```\n",
    "\n",
    "This is a powerful and fairly intuitive approach for data wrangling as the majority of IDE's have auto completion so a user can easily browse through the availible tools for a given context/class rather than having to memorize commands.\n",
    "\n",
    "Given this approach may be a new thing for those nearer the start of their journey with python this section briefly explains the concept."
   ]
  }
 ],
 "metadata": {
  "kernelspec": {
   "display_name": "datachef-hNSMaw3h-py3.9",
   "language": "python",
   "name": "python3"
  },
  "language_info": {
   "codemirror_mode": {
    "name": "ipython",
    "version": 3
   },
   "file_extension": ".py",
   "mimetype": "text/x-python",
   "name": "python",
   "nbconvert_exporter": "python",
   "pygments_lexer": "ipython3",
   "version": "3.9.7"
  },
  "orig_nbformat": 4
 },
 "nbformat": 4,
 "nbformat_minor": 2
}
