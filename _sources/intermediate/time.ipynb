{
 "cells": [
  {
   "cell_type": "markdown",
   "metadata": {},
   "source": [
    "# Time\n",
    "\n",
    "One of the challenges of working with spreadsheet data is that spreadsheets have specific handling of time that doesn't always translate well when parsed into python.\n",
    "\n",
    "In all cases tidychef will seek to format the time type cells via the exact same human readable format said cells would appear as when viewed via excel.\n",
    "\n",
    "The process is as follows:\n",
    "\n",
    "- When an excel cell is read that has an _excel type_ of time.\n",
    "- tidychef will check the excel information for _how that time type is formatted for presentation_.\n",
    "- tidychef will apply that formatting so the value in tidychef **matches that you'd expect from viewing the original source**.\n",
    "- if _custom_ or unknown time formatting is applied, tidychef will fall back on the raw cell value and will show a warning.\n",
    "\n",
    "An example of this behaviour and how you can handle these scenarios is detailed below."
   ]
  },
  {
   "cell_type": "code",
   "execution_count": null,
   "metadata": {},
   "outputs": [],
   "source": [
    "from typing import List\n",
    "\n",
    "from tidychef import acquire, preview\n",
    "from tidychef.selection import XlsSelectable\n",
    "\n",
    "tables: List[XlsSelectable] = acquire.xls.http(\"https://raw.githubusercontent.com/mikeAdamss/tidychef/main/tests/fixtures/xls/house-prices.xls\")"
   ]
  },
  {
   "cell_type": "markdown",
   "metadata": {},
   "source": [
    "Now lets have a look at the cell in question"
   ]
  },
  {
   "cell_type": "code",
   "execution_count": null,
   "metadata": {},
   "outputs": [],
   "source": [
    "table: XlsSelectable = acquire.xls.http(\"https://raw.githubusercontent.com/mikeAdamss/tidychef/main/tests/fixtures/xls/house-prices.xls\",\n",
    "                                               tables=\"Contents\")\n",
    "suspect_cell = table.excel_ref(\"C14\")\n",
    "preview(suspect_cell, show_xy=True)"
   ]
  },
  {
   "cell_type": "markdown",
   "metadata": {},
   "source": [
    "You'll notice it just contains a number, that's a python [datetime](https://docs.python.org/3/library/datetime.html) object representing the specific moment in time in a way that python understands.\n",
    "\n",
    "In this instance someone has created quite a complex custom time formatting string of `[$-F800]dddd\\,\\ mmmm\\ dd\\,\\ yyyy` to represent the value (as expressed in the original file) as:\n",
    "\n",
    "```\n",
    "Wednesday, August 16th, 2023\n",
    "````\n",
    "\n",
    "So how do we specify the time formatting to use for these kinds of custom and complex time formats?"
   ]
  },
  {
   "cell_type": "markdown",
   "metadata": {},
   "source": [
    "## Specifying time formatting\n",
    "\n"
   ]
  },
  {
   "cell_type": "markdown",
   "metadata": {},
   "source": [
    "Tidychef allows you to map excel formats to the standard patterns supported by the python [datatime.strftime()](https://www.programiz.com/python-programming/datetime/strftime) method.\n",
    "\n",
    "This is done by passing an appropriate dictionary into acquire with the keyword argument `custom_time_formats=` to map excel time formats to a `strftime()` pattern.\n",
    "\n",
    "In this instance we'll provide the `stftime()` format string for the excel pattern in question.\n",
    "\n",
    "Example follows:"
   ]
  },
  {
   "cell_type": "code",
   "execution_count": null,
   "metadata": {
    "tags": []
   },
   "outputs": [],
   "source": [
    "from tidychef import acquire, preview\n",
    "from tidychef.selection import XlsSelectable\n",
    "\n",
    "table: XlsSelectable = acquire.xls.http(\"https://raw.githubusercontent.com/mikeAdamss/tidychef/main/tests/fixtures/xls/house-prices.xls\",\n",
    "                                        custom_time_formats={r\"[$-F800]dddd\\,\\ mmmm\\ dd\\,\\ yyyy\": \"%A, %B %d, %Y\"}, tables=\"Contents\")\n",
    "suspect_cell = table.excel_ref(\"C14\")\n",
    "preview(suspect_cell, show_xy=True)"
   ]
  },
  {
   "cell_type": "markdown",
   "metadata": {},
   "source": [
    "## Note\n",
    "\n",
    "tidychef comes with a large number of excel format to `strftime()` translations as default but given the high level of customization an exhaustive mapping is difficult to create.\n",
    "\n",
    "Users are encouraged to PR additional mappings as encountered to [this file](https://github.com/mikeAdamss/tidychef/blob/main/tidychef/acquire/excel_time.py). "
   ]
  }
 ],
 "metadata": {
  "kernelspec": {
   "display_name": "Python 3 (ipykernel)",
   "language": "python",
   "name": "python3"
  },
  "language_info": {
   "codemirror_mode": {
    "name": "ipython",
    "version": 3
   },
   "file_extension": ".py",
   "mimetype": "text/x-python",
   "name": "python",
   "nbconvert_exporter": "python",
   "pygments_lexer": "ipython3",
   "version": "3.12.11"
  }
 },
 "nbformat": 4,
 "nbformat_minor": 4
}
