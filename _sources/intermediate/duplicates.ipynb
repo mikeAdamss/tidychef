{
 "cells": [
  {
   "attachments": {},
   "cell_type": "markdown",
   "metadata": {},
   "source": [
    "# TidyData: Duplicate Rows\n",
    "\n",
    "When you extract from messy data sources you'll sometimes encounter scenarios where exactly the same observation has been included more than once (typically when joining tables).\n",
    "\n",
    "This document explains how to deal with duplicates during your extractions."
   ]
  },
  {
   "attachments": {},
   "cell_type": "markdown",
   "metadata": {},
   "source": [
    "## Source Data\n",
    "\n",
    "The data source we're using for these examples is shown below:\n",
    "\n",
    "The [full data source can be viewed here](https://raw.githubusercontent.com/mikeAdamss/datachef/main/tests/fixtures/csv/bands-wide.csv)."
   ]
  },
  {
   "cell_type": "code",
   "execution_count": 20,
   "metadata": {},
   "outputs": [
    {
     "data": {
      "text/html": [
       "\n",
       "    <html>\n",
       "        \n",
       "    <style>\n",
       "    table, th, td {\n",
       "        border: 1px solid;\n",
       "    }\n",
       "\n",
       "    table {\n",
       "        border-collapse: collapse;\n",
       "    }\n",
       "\n",
       "    td {\n",
       "        align: center;\n",
       "        border: 1px  black solid !important;\n",
       "        color: black !important;\n",
       "    }\n",
       "\n",
       "    th, td {\n",
       "        padding: 5px;\n",
       "    }\n",
       "\n",
       "    </style>\n",
       "    \n",
       "            <table>\n",
       "                \n",
       "            </table>\n",
       "\n",
       "            <body>\n",
       "                <h2>Unnamed Table</h2>\n",
       "                <table>\n",
       "                    <tr><td style=\"background-color:lightgrey\"></td><td style=\"background-color:lightgrey\">A</td><td style=\"background-color:lightgrey\">B</td><td style=\"background-color:lightgrey\">C</td><td style=\"background-color:lightgrey\">D</td><td style=\"background-color:lightgrey\">E</td><td style=\"background-color:lightgrey\">F</td><td style=\"background-color:lightgrey\">G</td><td style=\"background-color:lightgrey\">H</td><td style=\"background-color:lightgrey\">I</td><td style=\"background-color:lightgrey\">J</td><td style=\"background-color:lightgrey\">K</td></tr>\n",
       "<tr><td style=\"background-color:lightgrey\">1</td><td style=\"background-color:white\"></td><td style=\"background-color:white\"></td><td style=\"background-color:white\"></td><td style=\"background-color:white\"></td><td style=\"background-color:white\"></td><td style=\"background-color:white\"></td><td style=\"background-color:white\"></td><td style=\"background-color:white\"></td><td style=\"background-color:white\"></td><td style=\"background-color:white\"></td><td style=\"background-color:white\"></td></tr>\n",
       "<tr><td style=\"background-color:lightgrey\">2</td><td style=\"background-color:white\"></td><td style=\"background-color:white\"></td><td style=\"background-color:white\">Houses</td><td style=\"background-color:white\">Cars</td><td style=\"background-color:white\">Boats</td><td style=\"background-color:white\"></td><td style=\"background-color:white\"></td><td style=\"background-color:white\"></td><td style=\"background-color:white\">Houses</td><td style=\"background-color:white\">Cars</td><td style=\"background-color:white\">Boats</td></tr>\n",
       "<tr><td style=\"background-color:lightgrey\">3</td><td style=\"background-color:white\">Beatles</td><td style=\"background-color:white\"></td><td style=\"background-color:white\"></td><td style=\"background-color:white\"></td><td style=\"background-color:white\"></td><td style=\"background-color:white\"></td><td style=\"background-color:white\">Rolling Stones</td><td style=\"background-color:white\"></td><td style=\"background-color:white\"></td><td style=\"background-color:white\"></td><td style=\"background-color:white\"></td></tr>\n",
       "<tr><td style=\"background-color:lightgrey\">4</td><td style=\"background-color:white\"></td><td style=\"background-color:white\">John</td><td style=\"background-color:white\">1</td><td style=\"background-color:white\">5</td><td style=\"background-color:white\">9</td><td style=\"background-color:white\"></td><td style=\"background-color:white\"></td><td style=\"background-color:white\">Keith</td><td style=\"background-color:white\">2</td><td style=\"background-color:white\">6</td><td style=\"background-color:white\">10</td></tr>\n",
       "<tr><td style=\"background-color:lightgrey\">5</td><td style=\"background-color:white\"></td><td style=\"background-color:white\">Paul</td><td style=\"background-color:white\">2</td><td style=\"background-color:white\">6</td><td style=\"background-color:white\">10</td><td style=\"background-color:white\"></td><td style=\"background-color:white\"></td><td style=\"background-color:white\">Mick</td><td style=\"background-color:white\">3</td><td style=\"background-color:white\">7</td><td style=\"background-color:white\">11</td></tr>\n",
       "<tr><td style=\"background-color:lightgrey\">6</td><td style=\"background-color:white\"></td><td style=\"background-color:white\">George</td><td style=\"background-color:white\">2</td><td style=\"background-color:white\">7</td><td style=\"background-color:white\">11</td><td style=\"background-color:white\"></td><td style=\"background-color:white\"></td><td style=\"background-color:white\">Charlie</td><td style=\"background-color:white\">3</td><td style=\"background-color:white\">8</td><td style=\"background-color:white\">12</td></tr>\n",
       "<tr><td style=\"background-color:lightgrey\">7</td><td style=\"background-color:white\"></td><td style=\"background-color:white\">Ringo</td><td style=\"background-color:white\">4</td><td style=\"background-color:white\">8</td><td style=\"background-color:white\">12</td><td style=\"background-color:white\"></td><td style=\"background-color:white\"></td><td style=\"background-color:white\">Ronnie</td><td style=\"background-color:white\">5</td><td style=\"background-color:white\">9</td><td style=\"background-color:white\">13</td></tr>\n",
       "<tr><td style=\"background-color:lightgrey\">8</td><td style=\"background-color:white\"></td><td style=\"background-color:white\"></td><td style=\"background-color:white\"></td><td style=\"background-color:white\"></td><td style=\"background-color:white\"></td><td style=\"background-color:white\"></td><td style=\"background-color:white\"></td><td style=\"background-color:white\"></td><td style=\"background-color:white\"></td><td style=\"background-color:white\"></td><td style=\"background-color:white\"></td></tr>\n",
       "\n",
       "                </table>\n",
       "            </body>\n",
       "            <br>\n",
       "        </html>\n",
       "    "
      ],
      "text/plain": [
       "<IPython.core.display.HTML object>"
      ]
     },
     "metadata": {},
     "output_type": "display_data"
    }
   ],
   "source": [
    "from datachef import acquire, preview\n",
    "from datachef.selection import CsvSelectable\n",
    "\n",
    "table: CsvSelectable = acquire.csv.http(\"https://raw.githubusercontent.com/mikeAdamss/datachef/main/tests/fixtures/csv/bands-wide.csv\")\n",
    "preview(table)"
   ]
  },
  {
   "attachments": {},
   "cell_type": "markdown",
   "metadata": {},
   "source": [
    "## Creating Duplicates\n",
    "\n",
    "For our example we're going to need duplicated rows. To simulate that we're just going to join two copies of exactly the same tidy data together. This means that **every row will be duplicated** in our example.\n",
    "\n",
    "First though, we need some tidy data (we'll skip the preview here as you've seen this one a few times already)."
   ]
  },
  {
   "cell_type": "code",
   "execution_count": 21,
   "metadata": {},
   "outputs": [],
   "source": [
    "from datachef import acquire, filters\n",
    "from datachef.direction import right, below\n",
    "from datachef.selection import CsvSelectable\n",
    "from datachef.output import TidyData, Column\n",
    "\n",
    "table: CsvSelectable = acquire.csv.http(\"https://raw.githubusercontent.com/mikeAdamss/datachef/main/tests/fixtures/csv/bands-wide.csv\")\n",
    "\n",
    "observations = table.filter(filters.is_numeric).label_as(\"Observation\")\n",
    "bands = (table.excel_ref(\"A3\") | table.excel_ref(\"G3\")).label_as(\"Band\")\n",
    "assets = table.excel_ref('2').is_not_blank().label_as(\"Asset\")\n",
    "members = (table.excel_ref(\"B\") | table.excel_ref(\"H\")).is_not_blank().label_as(\"Member\")\n",
    "\n",
    "tidy_data = TidyData(\n",
    "    observations,\n",
    "    Column(bands.finds_observations_closest(right)),\n",
    "    Column(assets.finds_observations_directly(below)),\n",
    "    Column(members.finds_observations_directly(right))\n",
    ")"
   ]
  },
  {
   "attachments": {},
   "cell_type": "markdown",
   "metadata": {},
   "source": [
    "Now lets join two of them together and drop the duplicates.\n",
    "\n",
    "Dropping duplicates is done via the `TidyData.drop_duplicates()` method.\n",
    "\n",
    "If called without keyword argument duplicates will be dropped with no user feedback given, alternatively you can use one (or both) of the following.\n",
    "\n",
    "- `print_duplicates` which prints out the rows you've just dropped.\n",
    "- `path` which writes the same information to a specified text file (for more excessive numbers of duplicate rows)."
   ]
  },
  {
   "cell_type": "code",
   "execution_count": 22,
   "metadata": {},
   "outputs": [
    {
     "name": "stdout",
     "output_type": "stream",
     "text": [
      "Removed duplicate instances of the following row(s):\n",
      "-----------------------------------------------------\n",
      "1,Beatles,Houses,John\n",
      "5,Beatles,Cars,John\n",
      "9,Beatles,Boats,John\n",
      "2,Rolling Stones,Houses,Keith\n",
      "6,Rolling Stones,Cars,Keith\n",
      "10,Rolling Stones,Boats,Keith\n",
      "2,Beatles,Houses,Paul\n",
      "6,Beatles,Cars,Paul\n",
      "10,Beatles,Boats,Paul\n",
      "3,Rolling Stones,Houses,Mick\n",
      "7,Rolling Stones,Cars,Mick\n",
      "11,Rolling Stones,Boats,Mick\n",
      "2,Beatles,Houses,George\n",
      "7,Beatles,Cars,George\n",
      "11,Beatles,Boats,George\n",
      "3,Rolling Stones,Houses,Charlie\n",
      "8,Rolling Stones,Cars,Charlie\n",
      "12,Rolling Stones,Boats,Charlie\n",
      "4,Beatles,Houses,Ringo\n",
      "8,Beatles,Cars,Ringo\n",
      "12,Beatles,Boats,Ringo\n",
      "5,Rolling Stones,Houses,Ronnie\n",
      "9,Rolling Stones,Cars,Ronnie\n",
      "13,Rolling Stones,Boats,Ronnie\n"
     ]
    }
   ],
   "source": [
    "all_tidy_data = TidyData.from_tidy(tidy_data, tidy_data).drop_duplicates(print_duplicates=True, path=\"duplicates.txt\")"
   ]
  },
  {
   "attachments": {},
   "cell_type": "markdown",
   "metadata": {},
   "source": [
    "The above is the result of `print_duplicates=True`.\n",
    "\n",
    "Below, we'll check the contents of `duplicates.txt` as well."
   ]
  },
  {
   "cell_type": "code",
   "execution_count": 23,
   "metadata": {},
   "outputs": [
    {
     "name": "stdout",
     "output_type": "stream",
     "text": [
      "Removed duplicate instances of the following row(s):\n",
      "-----------------------------------------------------\n",
      "1,Beatles,Houses,John\n",
      "5,Beatles,Cars,John\n",
      "9,Beatles,Boats,John\n",
      "2,Rolling Stones,Houses,Keith\n",
      "6,Rolling Stones,Cars,Keith\n",
      "10,Rolling Stones,Boats,Keith\n",
      "2,Beatles,Houses,Paul\n",
      "6,Beatles,Cars,Paul\n",
      "10,Beatles,Boats,Paul\n",
      "3,Rolling Stones,Houses,Mick\n",
      "7,Rolling Stones,Cars,Mick\n",
      "11,Rolling Stones,Boats,Mick\n",
      "2,Beatles,Houses,George\n",
      "7,Beatles,Cars,George\n",
      "11,Beatles,Boats,George\n",
      "3,Rolling Stones,Houses,Charlie\n",
      "8,Rolling Stones,Cars,Charlie\n",
      "12,Rolling Stones,Boats,Charlie\n",
      "4,Beatles,Houses,Ringo\n",
      "8,Beatles,Cars,Ringo\n",
      "12,Beatles,Boats,Ringo\n",
      "5,Rolling Stones,Houses,Ronnie\n",
      "9,Rolling Stones,Cars,Ronnie\n",
      "13,Rolling Stones,Boats,Ronnie\n",
      "\n"
     ]
    }
   ],
   "source": [
    "with open(\"duplicates.txt\") as f:\n",
    "    print(f.read())"
   ]
  }
 ],
 "metadata": {
  "kernelspec": {
   "display_name": "datachef-hNSMaw3h-py3.9",
   "language": "python",
   "name": "python3"
  },
  "language_info": {
   "codemirror_mode": {
    "name": "ipython",
    "version": 3
   },
   "file_extension": ".py",
   "mimetype": "text/x-python",
   "name": "python",
   "nbconvert_exporter": "python",
   "pygments_lexer": "ipython3",
   "version": "3.9.7"
  },
  "orig_nbformat": 4
 },
 "nbformat": 4,
 "nbformat_minor": 2
}
