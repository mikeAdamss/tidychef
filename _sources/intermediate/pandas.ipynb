{
 "cells": [
  {
   "attachments": {},
   "cell_type": "markdown",
   "metadata": {},
   "source": [
    "# Pandas\n",
    "\n",
    "The following is a quick note on how to transfer data extracted via datachef into a pandas dataframe.\n",
    "\n",
    "| <span style=\"color:green\">Note - pandas is a huge and ever evolving ecosphere all of itself. As such we're not going to bring it into datachef as a dependency (it has very differnet goals and we like our simple dependency chain). We do however provide the following conveniences for quickly shunting tidy data outputs into pandas in a suitably decoupled way</span>|\n",
    "|-----------------------------------------|"
   ]
  },
  {
   "attachments": {},
   "cell_type": "markdown",
   "metadata": {},
   "source": [
    "## Source Data\n",
    "\n",
    "The data source we're using for these examples is shown below:\n",
    "\n",
    "The [full data source can be viewed here](https://raw.githubusercontent.com/mikeAdamss/datachef/main/tests/fixtures/csv/bands-wide.csv)."
   ]
  },
  {
   "cell_type": "code",
   "execution_count": null,
   "metadata": {},
   "outputs": [],
   "source": [
    "from datachef import acquire, preview\n",
    "from datachef.selection import CsvSelectable\n",
    "\n",
    "table: CsvSelectable = acquire.csv.http(\"https://raw.githubusercontent.com/mikeAdamss/datachef/main/tests/fixtures/csv/bands-wide.csv\")\n",
    "preview(table)"
   ]
  },
  {
   "attachments": {},
   "cell_type": "markdown",
   "metadata": {},
   "source": [
    "## TidyData.to_dict()\n",
    "\n",
    "The following is an example of using the `TidyData.from_dict()` method.\n",
    "\n",
    "Note - the dict in question is the same structure used by the pandas `DataFrame.from_dict()` method - this will form our mechanism of handover."
   ]
  },
  {
   "cell_type": "code",
   "execution_count": null,
   "metadata": {},
   "outputs": [],
   "source": [
    "import json\n",
    "from datachef import acquire, preview, filters\n",
    "from datachef.direction import right, below\n",
    "from datachef.selection import CsvSelectable\n",
    "from datachef.output import TidyData, Column\n",
    "\n",
    "table: CsvSelectable = acquire.csv.http(\"https://raw.githubusercontent.com/mikeAdamss/datachef/main/tests/fixtures/csv/bands-wide.csv\")\n",
    "\n",
    "observations = table.filter(filters.is_numeric).label_as(\"Observation\")\n",
    "bands = (table.excel_ref(\"A3\") | table.excel_ref(\"G3\")).label_as(\"Band\")\n",
    "assets = table.excel_ref('2').is_not_blank().label_as(\"Asset\")\n",
    "members = (table.excel_ref(\"B\") | table.excel_ref(\"H\")).is_not_blank().label_as(\"Member\")\n",
    "preview(observations, bands, assets, members)\n",
    "\n",
    "tidy_data = TidyData(\n",
    "    observations,\n",
    "    Column(bands.finds_observations_closest(right)),\n",
    "    Column(assets.finds_observations_directly(below)),\n",
    "    Column(members.finds_observations_directly(right))\n",
    ")\n",
    "\n",
    "# See the non dict tidydata\n",
    "print(tidy_data)\n",
    "\n",
    "# Now see it in dictionary form.\n",
    "# We'll use json to prettyify the dict version\n",
    "print(json.dumps(tidy_data.to_dict(), indent=2))"
   ]
  },
  {
   "attachments": {},
   "cell_type": "markdown",
   "metadata": {},
   "source": [
    "A dictionary like the above can be passed directly into pandas trivially as per the following\n",
    "\n",
    "```\n",
    "import pandas as pd\n",
    "\n",
    "# ..\n",
    "# ...\n",
    "# the code from the above example\n",
    "# ...\n",
    "# ..\n",
    "\n",
    "\n",
    "tidy_data_dict = tidy_data.to_dict()\n",
    "dataframe = pd.DataFrame.from_dict(tidy_data_dict)\n",
    "```"
   ]
  }
 ],
 "metadata": {
  "kernelspec": {
   "display_name": "datachef-hNSMaw3h-py3.9",
   "language": "python",
   "name": "python3"
  },
  "language_info": {
   "codemirror_mode": {
    "name": "ipython",
    "version": 3
   },
   "file_extension": ".py",
   "mimetype": "text/x-python",
   "name": "python",
   "nbconvert_exporter": "python",
   "pygments_lexer": "ipython3",
   "version": "3.9.7"
  },
  "orig_nbformat": 4
 },
 "nbformat": 4,
 "nbformat_minor": 2
}
