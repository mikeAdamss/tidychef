{
 "cells": [
  {
   "cell_type": "markdown",
   "metadata": {},
   "source": [
    "# Apply\n",
    "\n",
    "This section explain how to use the `apply=` keyword with the `Column()` class to do simple data cleansing during extraction."
   ]
  },
  {
   "cell_type": "markdown",
   "metadata": {},
   "source": [
    "## Source Data\n",
    "\n",
    "The data source we're using for these examples is shown below:\n",
    "\n",
    "The [full data source can be viewed here](https://raw.githubusercontent.com/mikeAdamss/tidychef/main/tests/fixtures/csv/bands-wide.csv)."
   ]
  },
  {
   "cell_type": "code",
   "execution_count": null,
   "metadata": {},
   "outputs": [],
   "source": [
    "from tidychef import acquire, preview\n",
    "from tidychef.selection import CsvSelectable\n",
    "\n",
    "table: CsvSelectable = acquire.csv.http(\"https://raw.githubusercontent.com/mikeAdamss/tidychef/main/tests/fixtures/csv/bands-wide.csv\")\n",
    "preview(table)"
   ]
  },
  {
   "cell_type": "markdown",
   "metadata": {},
   "source": [
    "## What is Apply\n",
    "\n",
    "The `apply=` keyword allowed you to pass in a single python \"callable\" (a function or class that can be passed arguments).\n",
    "\n",
    "Such callables are passed into the `Column()` class such as as per the following snippet:\n",
    "\n",
    "```\n",
    "Column(selection.attach_directly(left), apply=myfunction)\n",
    "```\n",
    "\n",
    "In all cases the callable is a thing that acts upon the contents of the _specific column_ **at the point of extraction** (so it'll change your output, never your input)."
   ]
  },
  {
   "cell_type": "markdown",
   "metadata": {},
   "source": [
    "## Apply: Function Example\n",
    "\n",
    "The following is an example of using `apply=` with a simple user defined function."
   ]
  },
  {
   "cell_type": "code",
   "execution_count": null,
   "metadata": {},
   "outputs": [],
   "source": [
    "from tidychef import acquire, preview\n",
    "from tidychef.direction import right\n",
    "from tidychef.selection import CsvSelectable, filters\n",
    "from tidychef.output import TidyData, Column\n",
    "\n",
    "# this is our custom function for apply\n",
    "def lennon_iser(cell_value: str):\n",
    "    \"\"\"\n",
    "    A simple function to prefix \" Lennon\" where the value of\n",
    "    a cell is \"John\"\n",
    "    \"\"\"\n",
    "    if cell_value == \"John\":\n",
    "        return cell_value+\" Lennon\"\n",
    "    return cell_value\n",
    "\n",
    "\n",
    "table: CsvSelectable = acquire.csv.http(\"https://raw.githubusercontent.com/mikeAdamss/tidychef/main/tests/fixtures/csv/bands-wide.csv\")\n",
    "\n",
    "observations = table.filter(filters.is_numeric).label_as(\"Observations\")\n",
    "members = (table.excel_ref(\"B\") | table.excel_ref(\"H\")).is_not_blank().label_as(\"Members\")\n",
    "preview(observations, members)\n",
    "\n",
    "tidy_data = TidyData(\n",
    "    observations,\n",
    "    Column(members.attach_directly(right), apply=lennon_iser)\n",
    ")\n",
    "print(tidy_data)"
   ]
  },
  {
   "cell_type": "markdown",
   "metadata": {},
   "source": [
    "## Apply: Lambda Example\n",
    "\n",
    "Here's the same example but using a lambda function"
   ]
  },
  {
   "cell_type": "code",
   "execution_count": null,
   "metadata": {},
   "outputs": [],
   "source": [
    "from tidychef import acquire, filters, preview\n",
    "from tidychef.direction import right\n",
    "from tidychef.output import TidyData, Column\n",
    "from tidychef.selection import CsvSelectable\n",
    "\n",
    "table: CsvSelectable = acquire.csv.http(\"https://raw.githubusercontent.com/mikeAdamss/tidychef/main/tests/fixtures/csv/bands-wide.csv\")\n",
    "\n",
    "observations = table.filter(filters.is_numeric).label_as(\"Observations\")\n",
    "members = (table.excel_ref(\"B\") | table.excel_ref(\"H\")).is_not_blank().label_as(\"Members\")\n",
    "preview(observations, members)\n",
    "\n",
    "tidy_data = TidyData(\n",
    "    observations,\n",
    "    Column(members.attach_directly(right), apply=lambda x: x+\" Lennon\" if x == \"John\" else x)\n",
    ")\n",
    "print(tidy_data)"
   ]
  },
  {
   "cell_type": "markdown",
   "metadata": {},
   "source": [
    "## Apply: Class\n",
    "\n",
    "This final example creates a callable python class.\n",
    "\n",
    "This is a more complex example but also a powerful one, as a class based callable can hold data and allows you to make far more complex conditionals.\n",
    "\n",
    "**If you're still relatively early in your journey with python you can safely come back to this at a later time. It's useful but the function and lambda function implementations are sufficient for many if not most use cases.**\n",
    "\n",
    "For this example we're going to add the surname of all beatles members."
   ]
  },
  {
   "cell_type": "code",
   "execution_count": null,
   "metadata": {},
   "outputs": [],
   "source": [
    "from typing import Dict\n",
    "from tidychef import acquire, preview\n",
    "from tidychef.direction import right\n",
    "from tidychef.output import TidyData, Column\n",
    "from tidychef.selection import CsvSelectable\n",
    "\n",
    "# this is our custom class\n",
    "class SurnamesFromDict:\n",
    "\n",
    "    def __init__(self, name_surname_dict: Dict[str,str]):\n",
    "        \"\"\"\n",
    "        A class that adds surnames when first names are provided\n",
    "        \"\"\"\n",
    "        self.name_surname_dict = name_surname_dict\n",
    "\n",
    "    def __call__(self, cell_value):\n",
    "        return f\"{cell_value} {self.name_surname_dict[cell_value]}\"\n",
    "\n",
    "# now we create an instance of our custom class with the data lookups\n",
    "surname_getter = SurnamesFromDict({\n",
    "        \"John\": \"Lennon\",\n",
    "        \"Paul\": \"McCartney\",\n",
    "        \"George\": \"Harrison\",\n",
    "        \"Ringo\": \"Starr\"\n",
    "    })\n",
    "\n",
    "\n",
    "# Now we do the extraction\n",
    "table: CsvSelectable = acquire.csv.http(\"https://raw.githubusercontent.com/mikeAdamss/tidychef/main/tests/fixtures/csv/bands-wide.csv\")\n",
    "observations = table.excel_ref('C4:E7').label_as(\"Observations\")\n",
    "members = table.excel_ref(\"B\").is_not_blank().label_as(\"Members\")\n",
    "preview(observations, members)\n",
    "\n",
    "tidy_data = TidyData(\n",
    "    observations,\n",
    "    Column(members.attach_directly(right), apply=surname_getter)\n",
    ")\n",
    "print(tidy_data)"
   ]
  }
 ],
 "metadata": {
  "kernelspec": {
   "display_name": "Python 3 (ipykernel)",
   "language": "python",
   "name": "python3"
  },
  "language_info": {
   "codemirror_mode": {
    "name": "ipython",
    "version": 3
   },
   "file_extension": ".py",
   "mimetype": "text/x-python",
   "name": "python",
   "nbconvert_exporter": "python",
   "pygments_lexer": "ipython3",
   "version": "3.12.11"
  },
  "widgets": {
   "application/vnd.jupyter.widget-state+json": {
    "state": {},
    "version_major": 2,
    "version_minor": 0
   }
  }
 },
 "nbformat": 4,
 "nbformat_minor": 4
}
