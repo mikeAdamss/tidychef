{
 "cells": [
  {
   "attachments": {},
   "cell_type": "markdown",
   "metadata": {},
   "source": [
    "# Apply\n",
    "\n",
    "This section explain how to use the `apply=` keyword with the `Column()` class to do simple data cleansing during extraction."
   ]
  },
  {
   "attachments": {},
   "cell_type": "markdown",
   "metadata": {},
   "source": [
    "## Source Data\n",
    "\n",
    "The data source we're using for these examples is shown below:\n",
    "\n",
    "The [full data source can be viewed here](https://raw.githubusercontent.com/mikeAdamss/datachef/main/tests/fixtures/csv/bands-wide.csv)."
   ]
  },
  {
   "cell_type": "code",
   "execution_count": 17,
   "metadata": {},
   "outputs": [
    {
     "data": {
      "text/html": [
       "\n",
       "    <html>\n",
       "        \n",
       "    <style>\n",
       "    table, th, td {\n",
       "        border: 1px solid;\n",
       "    }\n",
       "\n",
       "    table {\n",
       "        border-collapse: collapse;\n",
       "    }\n",
       "\n",
       "    td {\n",
       "        align: center;\n",
       "        border: 1px  black solid !important;\n",
       "        color: black !important;\n",
       "    }\n",
       "\n",
       "    th, td {\n",
       "        padding: 5px;\n",
       "    }\n",
       "\n",
       "    </style>\n",
       "    \n",
       "            <table>\n",
       "                \n",
       "            </table>\n",
       "\n",
       "            <body>\n",
       "                <h2>Unnamed Table</h2>\n",
       "                <table>\n",
       "                    <tr><td style=\"background-color:lightgrey\"></td><td style=\"background-color:lightgrey\">A</td><td style=\"background-color:lightgrey\">B</td><td style=\"background-color:lightgrey\">C</td><td style=\"background-color:lightgrey\">D</td><td style=\"background-color:lightgrey\">E</td><td style=\"background-color:lightgrey\">F</td><td style=\"background-color:lightgrey\">G</td><td style=\"background-color:lightgrey\">H</td><td style=\"background-color:lightgrey\">I</td><td style=\"background-color:lightgrey\">J</td><td style=\"background-color:lightgrey\">K</td></tr>\n",
       "<tr><td style=\"background-color:lightgrey\">1</td><td style=\"background-color:white\"></td><td style=\"background-color:white\"></td><td style=\"background-color:white\"></td><td style=\"background-color:white\"></td><td style=\"background-color:white\"></td><td style=\"background-color:white\"></td><td style=\"background-color:white\"></td><td style=\"background-color:white\"></td><td style=\"background-color:white\"></td><td style=\"background-color:white\"></td><td style=\"background-color:white\"></td></tr>\n",
       "<tr><td style=\"background-color:lightgrey\">2</td><td style=\"background-color:white\"></td><td style=\"background-color:white\"></td><td style=\"background-color:white\">Houses</td><td style=\"background-color:white\">Cars</td><td style=\"background-color:white\">Boats</td><td style=\"background-color:white\"></td><td style=\"background-color:white\"></td><td style=\"background-color:white\"></td><td style=\"background-color:white\">Houses</td><td style=\"background-color:white\">Cars</td><td style=\"background-color:white\">Boats</td></tr>\n",
       "<tr><td style=\"background-color:lightgrey\">3</td><td style=\"background-color:white\">Beatles</td><td style=\"background-color:white\"></td><td style=\"background-color:white\"></td><td style=\"background-color:white\"></td><td style=\"background-color:white\"></td><td style=\"background-color:white\"></td><td style=\"background-color:white\">Rolling Stones</td><td style=\"background-color:white\"></td><td style=\"background-color:white\"></td><td style=\"background-color:white\"></td><td style=\"background-color:white\"></td></tr>\n",
       "<tr><td style=\"background-color:lightgrey\">4</td><td style=\"background-color:white\"></td><td style=\"background-color:white\">John</td><td style=\"background-color:white\">1</td><td style=\"background-color:white\">5</td><td style=\"background-color:white\">9</td><td style=\"background-color:white\"></td><td style=\"background-color:white\"></td><td style=\"background-color:white\">Keith</td><td style=\"background-color:white\">2</td><td style=\"background-color:white\">6</td><td style=\"background-color:white\">10</td></tr>\n",
       "<tr><td style=\"background-color:lightgrey\">5</td><td style=\"background-color:white\"></td><td style=\"background-color:white\">Paul</td><td style=\"background-color:white\">2</td><td style=\"background-color:white\">6</td><td style=\"background-color:white\">10</td><td style=\"background-color:white\"></td><td style=\"background-color:white\"></td><td style=\"background-color:white\">Mick</td><td style=\"background-color:white\">3</td><td style=\"background-color:white\">7</td><td style=\"background-color:white\">11</td></tr>\n",
       "<tr><td style=\"background-color:lightgrey\">6</td><td style=\"background-color:white\"></td><td style=\"background-color:white\">George</td><td style=\"background-color:white\">2</td><td style=\"background-color:white\">7</td><td style=\"background-color:white\">11</td><td style=\"background-color:white\"></td><td style=\"background-color:white\"></td><td style=\"background-color:white\">Charlie</td><td style=\"background-color:white\">3</td><td style=\"background-color:white\">8</td><td style=\"background-color:white\">12</td></tr>\n",
       "<tr><td style=\"background-color:lightgrey\">7</td><td style=\"background-color:white\"></td><td style=\"background-color:white\">Ringo</td><td style=\"background-color:white\">4</td><td style=\"background-color:white\">8</td><td style=\"background-color:white\">12</td><td style=\"background-color:white\"></td><td style=\"background-color:white\"></td><td style=\"background-color:white\">Ronnie</td><td style=\"background-color:white\">5</td><td style=\"background-color:white\">9</td><td style=\"background-color:white\">13</td></tr>\n",
       "<tr><td style=\"background-color:lightgrey\">8</td><td style=\"background-color:white\"></td><td style=\"background-color:white\"></td><td style=\"background-color:white\"></td><td style=\"background-color:white\"></td><td style=\"background-color:white\"></td><td style=\"background-color:white\"></td><td style=\"background-color:white\"></td><td style=\"background-color:white\"></td><td style=\"background-color:white\"></td><td style=\"background-color:white\"></td><td style=\"background-color:white\"></td></tr>\n",
       "\n",
       "                </table>\n",
       "            </body>\n",
       "            <br>\n",
       "        </html>\n",
       "    "
      ],
      "text/plain": [
       "<IPython.core.display.HTML object>"
      ]
     },
     "metadata": {},
     "output_type": "display_data"
    }
   ],
   "source": [
    "from datachef import acquire, preview\n",
    "from datachef.selection import CsvSelectable\n",
    "\n",
    "table: CsvSelectable = acquire.csv.http(\"https://raw.githubusercontent.com/mikeAdamss/datachef/main/tests/fixtures/csv/bands-wide.csv\")\n",
    "preview(table)"
   ]
  },
  {
   "attachments": {},
   "cell_type": "markdown",
   "metadata": {},
   "source": [
    "## What is Apply\n",
    "\n",
    "The `apply=` keyword allowed you to pass in a single python \"callable\" (a function or class that can be passed arguments).\n",
    "\n",
    "Such callables are passed into the `Column()` class such as as per the following snippet:\n",
    "\n",
    "```\n",
    "Column(selection.finds_observations_directly(left), apply=myfunction)\n",
    "```\n",
    "\n",
    "In all cases the callable is a thing that acts upon the contents of the **specific column** informing and **at the point of extraction** (so it'll change your output, never your input)."
   ]
  },
  {
   "attachments": {},
   "cell_type": "markdown",
   "metadata": {},
   "source": [
    "## Apply: Function Example\n",
    "\n",
    "The following is an example of using `apply=` with a simple user defined function."
   ]
  },
  {
   "cell_type": "code",
   "execution_count": 18,
   "metadata": {},
   "outputs": [
    {
     "data": {
      "text/html": [
       "\n",
       "    <html>\n",
       "        \n",
       "    <style>\n",
       "    table, th, td {\n",
       "        border: 1px solid;\n",
       "    }\n",
       "\n",
       "    table {\n",
       "        border-collapse: collapse;\n",
       "    }\n",
       "\n",
       "    td {\n",
       "        align: center;\n",
       "        border: 1px  black solid !important;\n",
       "        color: black !important;\n",
       "    }\n",
       "\n",
       "    th, td {\n",
       "        padding: 5px;\n",
       "    }\n",
       "\n",
       "    </style>\n",
       "    \n",
       "            <table>\n",
       "                \n",
       "            <tr>\n",
       "                <td style=\"background-color:cyan\">Observations</td>\n",
       "            <tr>\n",
       "        \n",
       "            <tr>\n",
       "                <td style=\"background-color:#99ff99\">Members</td>\n",
       "            <tr>\n",
       "        \n",
       "            </table>\n",
       "\n",
       "            <body>\n",
       "                <h2>Unnamed Table</h2>\n",
       "                <table>\n",
       "                    <tr><td style=\"background-color:lightgrey\"></td><td style=\"background-color:lightgrey\">A</td><td style=\"background-color:lightgrey\">B</td><td style=\"background-color:lightgrey\">C</td><td style=\"background-color:lightgrey\">D</td><td style=\"background-color:lightgrey\">E</td><td style=\"background-color:lightgrey\">F</td><td style=\"background-color:lightgrey\">G</td><td style=\"background-color:lightgrey\">H</td><td style=\"background-color:lightgrey\">I</td><td style=\"background-color:lightgrey\">J</td><td style=\"background-color:lightgrey\">K</td></tr>\n",
       "<tr><td style=\"background-color:lightgrey\">1</td><td style=\"background-color:white\"></td><td style=\"background-color:white\"></td><td style=\"background-color:white\"></td><td style=\"background-color:white\"></td><td style=\"background-color:white\"></td><td style=\"background-color:white\"></td><td style=\"background-color:white\"></td><td style=\"background-color:white\"></td><td style=\"background-color:white\"></td><td style=\"background-color:white\"></td><td style=\"background-color:white\"></td></tr>\n",
       "<tr><td style=\"background-color:lightgrey\">2</td><td style=\"background-color:white\"></td><td style=\"background-color:white\"></td><td style=\"background-color:white\">Houses</td><td style=\"background-color:white\">Cars</td><td style=\"background-color:white\">Boats</td><td style=\"background-color:white\"></td><td style=\"background-color:white\"></td><td style=\"background-color:white\"></td><td style=\"background-color:white\">Houses</td><td style=\"background-color:white\">Cars</td><td style=\"background-color:white\">Boats</td></tr>\n",
       "<tr><td style=\"background-color:lightgrey\">3</td><td style=\"background-color:white\">Beatles</td><td style=\"background-color:white\"></td><td style=\"background-color:white\"></td><td style=\"background-color:white\"></td><td style=\"background-color:white\"></td><td style=\"background-color:white\"></td><td style=\"background-color:white\">Rolling Stones</td><td style=\"background-color:white\"></td><td style=\"background-color:white\"></td><td style=\"background-color:white\"></td><td style=\"background-color:white\"></td></tr>\n",
       "<tr><td style=\"background-color:lightgrey\">4</td><td style=\"background-color:white\"></td><td style=\"background-color:#99ff99\">John</td><td style=\"background-color:cyan\">1</td><td style=\"background-color:cyan\">5</td><td style=\"background-color:cyan\">9</td><td style=\"background-color:white\"></td><td style=\"background-color:white\"></td><td style=\"background-color:#99ff99\">Keith</td><td style=\"background-color:cyan\">2</td><td style=\"background-color:cyan\">6</td><td style=\"background-color:cyan\">10</td></tr>\n",
       "<tr><td style=\"background-color:lightgrey\">5</td><td style=\"background-color:white\"></td><td style=\"background-color:#99ff99\">Paul</td><td style=\"background-color:cyan\">2</td><td style=\"background-color:cyan\">6</td><td style=\"background-color:cyan\">10</td><td style=\"background-color:white\"></td><td style=\"background-color:white\"></td><td style=\"background-color:#99ff99\">Mick</td><td style=\"background-color:cyan\">3</td><td style=\"background-color:cyan\">7</td><td style=\"background-color:cyan\">11</td></tr>\n",
       "<tr><td style=\"background-color:lightgrey\">6</td><td style=\"background-color:white\"></td><td style=\"background-color:#99ff99\">George</td><td style=\"background-color:cyan\">2</td><td style=\"background-color:cyan\">7</td><td style=\"background-color:cyan\">11</td><td style=\"background-color:white\"></td><td style=\"background-color:white\"></td><td style=\"background-color:#99ff99\">Charlie</td><td style=\"background-color:cyan\">3</td><td style=\"background-color:cyan\">8</td><td style=\"background-color:cyan\">12</td></tr>\n",
       "<tr><td style=\"background-color:lightgrey\">7</td><td style=\"background-color:white\"></td><td style=\"background-color:#99ff99\">Ringo</td><td style=\"background-color:cyan\">4</td><td style=\"background-color:cyan\">8</td><td style=\"background-color:cyan\">12</td><td style=\"background-color:white\"></td><td style=\"background-color:white\"></td><td style=\"background-color:#99ff99\">Ronnie</td><td style=\"background-color:cyan\">5</td><td style=\"background-color:cyan\">9</td><td style=\"background-color:cyan\">13</td></tr>\n",
       "<tr><td style=\"background-color:lightgrey\">8</td><td style=\"background-color:white\"></td><td style=\"background-color:white\"></td><td style=\"background-color:white\"></td><td style=\"background-color:white\"></td><td style=\"background-color:white\"></td><td style=\"background-color:white\"></td><td style=\"background-color:white\"></td><td style=\"background-color:white\"></td><td style=\"background-color:white\"></td><td style=\"background-color:white\"></td><td style=\"background-color:white\"></td></tr>\n",
       "\n",
       "                </table>\n",
       "            </body>\n",
       "            <br>\n",
       "        </html>\n",
       "    "
      ],
      "text/plain": [
       "<IPython.core.display.HTML object>"
      ]
     },
     "metadata": {},
     "output_type": "display_data"
    },
    {
     "data": {
      "text/html": [
       "<table>\n",
       "<thead>\n",
       "<tr><th style=\"text-align: right;\">  Observations</th><th>Members    </th></tr>\n",
       "</thead>\n",
       "<tbody>\n",
       "<tr><td style=\"text-align: right;\">             1</td><td>John Lennon</td></tr>\n",
       "<tr><td style=\"text-align: right;\">             5</td><td>John Lennon</td></tr>\n",
       "<tr><td style=\"text-align: right;\">             9</td><td>John Lennon</td></tr>\n",
       "<tr><td style=\"text-align: right;\">             2</td><td>Keith      </td></tr>\n",
       "<tr><td style=\"text-align: right;\">             6</td><td>Keith      </td></tr>\n",
       "<tr><td style=\"text-align: right;\">            10</td><td>Keith      </td></tr>\n",
       "<tr><td style=\"text-align: right;\">             2</td><td>Paul       </td></tr>\n",
       "<tr><td style=\"text-align: right;\">             6</td><td>Paul       </td></tr>\n",
       "<tr><td style=\"text-align: right;\">            10</td><td>Paul       </td></tr>\n",
       "<tr><td style=\"text-align: right;\">             3</td><td>Mick       </td></tr>\n",
       "<tr><td style=\"text-align: right;\">             7</td><td>Mick       </td></tr>\n",
       "<tr><td style=\"text-align: right;\">            11</td><td>Mick       </td></tr>\n",
       "<tr><td style=\"text-align: right;\">             2</td><td>George     </td></tr>\n",
       "<tr><td style=\"text-align: right;\">             7</td><td>George     </td></tr>\n",
       "<tr><td style=\"text-align: right;\">            11</td><td>George     </td></tr>\n",
       "<tr><td style=\"text-align: right;\">             3</td><td>Charlie    </td></tr>\n",
       "<tr><td style=\"text-align: right;\">             8</td><td>Charlie    </td></tr>\n",
       "<tr><td style=\"text-align: right;\">            12</td><td>Charlie    </td></tr>\n",
       "<tr><td style=\"text-align: right;\">             4</td><td>Ringo      </td></tr>\n",
       "<tr><td style=\"text-align: right;\">             8</td><td>Ringo      </td></tr>\n",
       "<tr><td style=\"text-align: right;\">            12</td><td>Ringo      </td></tr>\n",
       "<tr><td style=\"text-align: right;\">             5</td><td>Ronnie     </td></tr>\n",
       "<tr><td style=\"text-align: right;\">             9</td><td>Ronnie     </td></tr>\n",
       "<tr><td style=\"text-align: right;\">            13</td><td>Ronnie     </td></tr>\n",
       "</tbody>\n",
       "</table>"
      ],
      "text/plain": [
       "'<table>\\n<thead>\\n<tr><th style=\"text-align: right;\">  Observations</th><th>Members    </th></tr>\\n</thead>\\n<tbody>\\n<tr><td style=\"text-align: right;\">             1</td><td>John Lennon</td></tr>\\n<tr><td style=\"text-align: right;\">             5</td><td>John Lennon</td></tr>\\n<tr><td style=\"text-align: right;\">             9</td><td>John Lennon</td></tr>\\n<tr><td style=\"text-align: right;\">             2</td><td>Keith      </td></tr>\\n<tr><td style=\"text-align: right;\">             6</td><td>Keith      </td></tr>\\n<tr><td style=\"text-align: right;\">            10</td><td>Keith      </td></tr>\\n<tr><td style=\"text-align: right;\">             2</td><td>Paul       </td></tr>\\n<tr><td style=\"text-align: right;\">             6</td><td>Paul       </td></tr>\\n<tr><td style=\"text-align: right;\">            10</td><td>Paul       </td></tr>\\n<tr><td style=\"text-align: right;\">             3</td><td>Mick       </td></tr>\\n<tr><td style=\"text-align: right;\">             7</td><td>Mick       </td></tr>\\n<tr><td style=\"text-align: right;\">            11</td><td>Mick       </td></tr>\\n<tr><td style=\"text-align: right;\">             2</td><td>George     </td></tr>\\n<tr><td style=\"text-align: right;\">             7</td><td>George     </td></tr>\\n<tr><td style=\"text-align: right;\">            11</td><td>George     </td></tr>\\n<tr><td style=\"text-align: right;\">             3</td><td>Charlie    </td></tr>\\n<tr><td style=\"text-align: right;\">             8</td><td>Charlie    </td></tr>\\n<tr><td style=\"text-align: right;\">            12</td><td>Charlie    </td></tr>\\n<tr><td style=\"text-align: right;\">             4</td><td>Ringo      </td></tr>\\n<tr><td style=\"text-align: right;\">             8</td><td>Ringo      </td></tr>\\n<tr><td style=\"text-align: right;\">            12</td><td>Ringo      </td></tr>\\n<tr><td style=\"text-align: right;\">             5</td><td>Ronnie     </td></tr>\\n<tr><td style=\"text-align: right;\">             9</td><td>Ronnie     </td></tr>\\n<tr><td style=\"text-align: right;\">            13</td><td>Ronnie     </td></tr>\\n</tbody>\\n</table>'"
      ]
     },
     "metadata": {},
     "output_type": "display_data"
    },
    {
     "name": "stdout",
     "output_type": "stream",
     "text": [
      "\n"
     ]
    }
   ],
   "source": [
    "from datachef import acquire, preview\n",
    "from datachef.direction import right\n",
    "from datachef.selection import CsvSelectable, filters\n",
    "from datachef.output import TidyData, Column\n",
    "\n",
    "# this is our custom function for apply\n",
    "def lennon_iser(cell_value: str):\n",
    "    \"\"\"\n",
    "    A simple function to prefix \" Lennon\" where the value of\n",
    "    a cell is \"John\"\n",
    "    \"\"\"\n",
    "    if cell_value == \"John\":\n",
    "        return cell_value+\" Lennon\"\n",
    "    return cell_value\n",
    "\n",
    "\n",
    "table: CsvSelectable = acquire.csv.http(\"https://raw.githubusercontent.com/mikeAdamss/datachef/main/tests/fixtures/csv/bands-wide.csv\")\n",
    "\n",
    "observations = table.filter(filters.is_numeric).label_as(\"Observations\")\n",
    "members = (table.excel_ref(\"B\") | table.excel_ref(\"H\")).is_not_blank().label_as(\"Members\")\n",
    "preview(observations, members)\n",
    "\n",
    "tidy_data = TidyData(\n",
    "    observations,\n",
    "    Column(members.finds_observations_directly(right), apply=lennon_iser)\n",
    ")\n",
    "print(tidy_data)"
   ]
  },
  {
   "attachments": {},
   "cell_type": "markdown",
   "metadata": {},
   "source": [
    "## Apply: Lambda Example\n",
    "\n",
    "Here's the same example but using a lambda function"
   ]
  },
  {
   "cell_type": "code",
   "execution_count": 19,
   "metadata": {},
   "outputs": [
    {
     "data": {
      "text/html": [
       "\n",
       "    <html>\n",
       "        \n",
       "    <style>\n",
       "    table, th, td {\n",
       "        border: 1px solid;\n",
       "    }\n",
       "\n",
       "    table {\n",
       "        border-collapse: collapse;\n",
       "    }\n",
       "\n",
       "    td {\n",
       "        align: center;\n",
       "        border: 1px  black solid !important;\n",
       "        color: black !important;\n",
       "    }\n",
       "\n",
       "    th, td {\n",
       "        padding: 5px;\n",
       "    }\n",
       "\n",
       "    </style>\n",
       "    \n",
       "            <table>\n",
       "                \n",
       "            <tr>\n",
       "                <td style=\"background-color:cyan\">Observations</td>\n",
       "            <tr>\n",
       "        \n",
       "            <tr>\n",
       "                <td style=\"background-color:#99ff99\">Members</td>\n",
       "            <tr>\n",
       "        \n",
       "            </table>\n",
       "\n",
       "            <body>\n",
       "                <h2>Unnamed Table</h2>\n",
       "                <table>\n",
       "                    <tr><td style=\"background-color:lightgrey\"></td><td style=\"background-color:lightgrey\">A</td><td style=\"background-color:lightgrey\">B</td><td style=\"background-color:lightgrey\">C</td><td style=\"background-color:lightgrey\">D</td><td style=\"background-color:lightgrey\">E</td><td style=\"background-color:lightgrey\">F</td><td style=\"background-color:lightgrey\">G</td><td style=\"background-color:lightgrey\">H</td><td style=\"background-color:lightgrey\">I</td><td style=\"background-color:lightgrey\">J</td><td style=\"background-color:lightgrey\">K</td></tr>\n",
       "<tr><td style=\"background-color:lightgrey\">1</td><td style=\"background-color:white\"></td><td style=\"background-color:white\"></td><td style=\"background-color:white\"></td><td style=\"background-color:white\"></td><td style=\"background-color:white\"></td><td style=\"background-color:white\"></td><td style=\"background-color:white\"></td><td style=\"background-color:white\"></td><td style=\"background-color:white\"></td><td style=\"background-color:white\"></td><td style=\"background-color:white\"></td></tr>\n",
       "<tr><td style=\"background-color:lightgrey\">2</td><td style=\"background-color:white\"></td><td style=\"background-color:white\"></td><td style=\"background-color:white\">Houses</td><td style=\"background-color:white\">Cars</td><td style=\"background-color:white\">Boats</td><td style=\"background-color:white\"></td><td style=\"background-color:white\"></td><td style=\"background-color:white\"></td><td style=\"background-color:white\">Houses</td><td style=\"background-color:white\">Cars</td><td style=\"background-color:white\">Boats</td></tr>\n",
       "<tr><td style=\"background-color:lightgrey\">3</td><td style=\"background-color:white\">Beatles</td><td style=\"background-color:white\"></td><td style=\"background-color:white\"></td><td style=\"background-color:white\"></td><td style=\"background-color:white\"></td><td style=\"background-color:white\"></td><td style=\"background-color:white\">Rolling Stones</td><td style=\"background-color:white\"></td><td style=\"background-color:white\"></td><td style=\"background-color:white\"></td><td style=\"background-color:white\"></td></tr>\n",
       "<tr><td style=\"background-color:lightgrey\">4</td><td style=\"background-color:white\"></td><td style=\"background-color:#99ff99\">John</td><td style=\"background-color:cyan\">1</td><td style=\"background-color:cyan\">5</td><td style=\"background-color:cyan\">9</td><td style=\"background-color:white\"></td><td style=\"background-color:white\"></td><td style=\"background-color:#99ff99\">Keith</td><td style=\"background-color:cyan\">2</td><td style=\"background-color:cyan\">6</td><td style=\"background-color:cyan\">10</td></tr>\n",
       "<tr><td style=\"background-color:lightgrey\">5</td><td style=\"background-color:white\"></td><td style=\"background-color:#99ff99\">Paul</td><td style=\"background-color:cyan\">2</td><td style=\"background-color:cyan\">6</td><td style=\"background-color:cyan\">10</td><td style=\"background-color:white\"></td><td style=\"background-color:white\"></td><td style=\"background-color:#99ff99\">Mick</td><td style=\"background-color:cyan\">3</td><td style=\"background-color:cyan\">7</td><td style=\"background-color:cyan\">11</td></tr>\n",
       "<tr><td style=\"background-color:lightgrey\">6</td><td style=\"background-color:white\"></td><td style=\"background-color:#99ff99\">George</td><td style=\"background-color:cyan\">2</td><td style=\"background-color:cyan\">7</td><td style=\"background-color:cyan\">11</td><td style=\"background-color:white\"></td><td style=\"background-color:white\"></td><td style=\"background-color:#99ff99\">Charlie</td><td style=\"background-color:cyan\">3</td><td style=\"background-color:cyan\">8</td><td style=\"background-color:cyan\">12</td></tr>\n",
       "<tr><td style=\"background-color:lightgrey\">7</td><td style=\"background-color:white\"></td><td style=\"background-color:#99ff99\">Ringo</td><td style=\"background-color:cyan\">4</td><td style=\"background-color:cyan\">8</td><td style=\"background-color:cyan\">12</td><td style=\"background-color:white\"></td><td style=\"background-color:white\"></td><td style=\"background-color:#99ff99\">Ronnie</td><td style=\"background-color:cyan\">5</td><td style=\"background-color:cyan\">9</td><td style=\"background-color:cyan\">13</td></tr>\n",
       "<tr><td style=\"background-color:lightgrey\">8</td><td style=\"background-color:white\"></td><td style=\"background-color:white\"></td><td style=\"background-color:white\"></td><td style=\"background-color:white\"></td><td style=\"background-color:white\"></td><td style=\"background-color:white\"></td><td style=\"background-color:white\"></td><td style=\"background-color:white\"></td><td style=\"background-color:white\"></td><td style=\"background-color:white\"></td><td style=\"background-color:white\"></td></tr>\n",
       "\n",
       "                </table>\n",
       "            </body>\n",
       "            <br>\n",
       "        </html>\n",
       "    "
      ],
      "text/plain": [
       "<IPython.core.display.HTML object>"
      ]
     },
     "metadata": {},
     "output_type": "display_data"
    },
    {
     "data": {
      "text/html": [
       "<table>\n",
       "<thead>\n",
       "<tr><th style=\"text-align: right;\">  Observations</th><th>Members    </th></tr>\n",
       "</thead>\n",
       "<tbody>\n",
       "<tr><td style=\"text-align: right;\">             1</td><td>John Lennon</td></tr>\n",
       "<tr><td style=\"text-align: right;\">             5</td><td>John Lennon</td></tr>\n",
       "<tr><td style=\"text-align: right;\">             9</td><td>John Lennon</td></tr>\n",
       "<tr><td style=\"text-align: right;\">             2</td><td>Keith      </td></tr>\n",
       "<tr><td style=\"text-align: right;\">             6</td><td>Keith      </td></tr>\n",
       "<tr><td style=\"text-align: right;\">            10</td><td>Keith      </td></tr>\n",
       "<tr><td style=\"text-align: right;\">             2</td><td>Paul       </td></tr>\n",
       "<tr><td style=\"text-align: right;\">             6</td><td>Paul       </td></tr>\n",
       "<tr><td style=\"text-align: right;\">            10</td><td>Paul       </td></tr>\n",
       "<tr><td style=\"text-align: right;\">             3</td><td>Mick       </td></tr>\n",
       "<tr><td style=\"text-align: right;\">             7</td><td>Mick       </td></tr>\n",
       "<tr><td style=\"text-align: right;\">            11</td><td>Mick       </td></tr>\n",
       "<tr><td style=\"text-align: right;\">             2</td><td>George     </td></tr>\n",
       "<tr><td style=\"text-align: right;\">             7</td><td>George     </td></tr>\n",
       "<tr><td style=\"text-align: right;\">            11</td><td>George     </td></tr>\n",
       "<tr><td style=\"text-align: right;\">             3</td><td>Charlie    </td></tr>\n",
       "<tr><td style=\"text-align: right;\">             8</td><td>Charlie    </td></tr>\n",
       "<tr><td style=\"text-align: right;\">            12</td><td>Charlie    </td></tr>\n",
       "<tr><td style=\"text-align: right;\">             4</td><td>Ringo      </td></tr>\n",
       "<tr><td style=\"text-align: right;\">             8</td><td>Ringo      </td></tr>\n",
       "<tr><td style=\"text-align: right;\">            12</td><td>Ringo      </td></tr>\n",
       "<tr><td style=\"text-align: right;\">             5</td><td>Ronnie     </td></tr>\n",
       "<tr><td style=\"text-align: right;\">             9</td><td>Ronnie     </td></tr>\n",
       "<tr><td style=\"text-align: right;\">            13</td><td>Ronnie     </td></tr>\n",
       "</tbody>\n",
       "</table>"
      ],
      "text/plain": [
       "'<table>\\n<thead>\\n<tr><th style=\"text-align: right;\">  Observations</th><th>Members    </th></tr>\\n</thead>\\n<tbody>\\n<tr><td style=\"text-align: right;\">             1</td><td>John Lennon</td></tr>\\n<tr><td style=\"text-align: right;\">             5</td><td>John Lennon</td></tr>\\n<tr><td style=\"text-align: right;\">             9</td><td>John Lennon</td></tr>\\n<tr><td style=\"text-align: right;\">             2</td><td>Keith      </td></tr>\\n<tr><td style=\"text-align: right;\">             6</td><td>Keith      </td></tr>\\n<tr><td style=\"text-align: right;\">            10</td><td>Keith      </td></tr>\\n<tr><td style=\"text-align: right;\">             2</td><td>Paul       </td></tr>\\n<tr><td style=\"text-align: right;\">             6</td><td>Paul       </td></tr>\\n<tr><td style=\"text-align: right;\">            10</td><td>Paul       </td></tr>\\n<tr><td style=\"text-align: right;\">             3</td><td>Mick       </td></tr>\\n<tr><td style=\"text-align: right;\">             7</td><td>Mick       </td></tr>\\n<tr><td style=\"text-align: right;\">            11</td><td>Mick       </td></tr>\\n<tr><td style=\"text-align: right;\">             2</td><td>George     </td></tr>\\n<tr><td style=\"text-align: right;\">             7</td><td>George     </td></tr>\\n<tr><td style=\"text-align: right;\">            11</td><td>George     </td></tr>\\n<tr><td style=\"text-align: right;\">             3</td><td>Charlie    </td></tr>\\n<tr><td style=\"text-align: right;\">             8</td><td>Charlie    </td></tr>\\n<tr><td style=\"text-align: right;\">            12</td><td>Charlie    </td></tr>\\n<tr><td style=\"text-align: right;\">             4</td><td>Ringo      </td></tr>\\n<tr><td style=\"text-align: right;\">             8</td><td>Ringo      </td></tr>\\n<tr><td style=\"text-align: right;\">            12</td><td>Ringo      </td></tr>\\n<tr><td style=\"text-align: right;\">             5</td><td>Ronnie     </td></tr>\\n<tr><td style=\"text-align: right;\">             9</td><td>Ronnie     </td></tr>\\n<tr><td style=\"text-align: right;\">            13</td><td>Ronnie     </td></tr>\\n</tbody>\\n</table>'"
      ]
     },
     "metadata": {},
     "output_type": "display_data"
    },
    {
     "name": "stdout",
     "output_type": "stream",
     "text": [
      "\n"
     ]
    }
   ],
   "source": [
    "from datachef import acquire, preview, CsvSelectable, filters, TidyData, Column, right\n",
    "\n",
    "table: CsvSelectable = acquire.csv.http(\"https://raw.githubusercontent.com/mikeAdamss/datachef/main/tests/fixtures/csv/bands-wide.csv\")\n",
    "\n",
    "observations = table.filter(filters.is_numeric).label_as(\"Observations\")\n",
    "members = (table.excel_ref(\"B\") | table.excel_ref(\"H\")).is_not_blank().label_as(\"Members\")\n",
    "preview(observations, members)\n",
    "\n",
    "tidy_data = TidyData(\n",
    "    observations,\n",
    "    Column(members.finds_observations_directly(right), apply=lambda x: x+\" Lennon\" if x == \"John\" else x)\n",
    ")\n",
    "print(tidy_data)"
   ]
  },
  {
   "attachments": {},
   "cell_type": "markdown",
   "metadata": {},
   "source": [
    "## Apply: Class\n",
    "\n",
    "This final example creates a callable python class.\n",
    "\n",
    "This is a more complex example but also a powerful one, as a class based callable can hold data and allows you to make far more complex conditionals.\n",
    "\n",
    "**If you're still relatively early in your journey with python you can safely come back to this at a later time. It's useful but the function and lambda function implementations are sufficient for many if not most use cases.**\n",
    "\n",
    "For this example we're going to add the surname of all beatles members."
   ]
  },
  {
   "cell_type": "code",
   "execution_count": 20,
   "metadata": {},
   "outputs": [
    {
     "data": {
      "text/html": [
       "\n",
       "    <html>\n",
       "        \n",
       "    <style>\n",
       "    table, th, td {\n",
       "        border: 1px solid;\n",
       "    }\n",
       "\n",
       "    table {\n",
       "        border-collapse: collapse;\n",
       "    }\n",
       "\n",
       "    td {\n",
       "        align: center;\n",
       "        border: 1px  black solid !important;\n",
       "        color: black !important;\n",
       "    }\n",
       "\n",
       "    th, td {\n",
       "        padding: 5px;\n",
       "    }\n",
       "\n",
       "    </style>\n",
       "    \n",
       "            <table>\n",
       "                \n",
       "            <tr>\n",
       "                <td style=\"background-color:cyan\">Observations</td>\n",
       "            <tr>\n",
       "        \n",
       "            <tr>\n",
       "                <td style=\"background-color:#99ff99\">Members</td>\n",
       "            <tr>\n",
       "        \n",
       "            </table>\n",
       "\n",
       "            <body>\n",
       "                <h2>Unnamed Table</h2>\n",
       "                <table>\n",
       "                    <tr><td style=\"background-color:lightgrey\"></td><td style=\"background-color:lightgrey\">A</td><td style=\"background-color:lightgrey\">B</td><td style=\"background-color:lightgrey\">C</td><td style=\"background-color:lightgrey\">D</td><td style=\"background-color:lightgrey\">E</td><td style=\"background-color:lightgrey\">F</td><td style=\"background-color:lightgrey\">G</td><td style=\"background-color:lightgrey\">H</td><td style=\"background-color:lightgrey\">I</td><td style=\"background-color:lightgrey\">J</td><td style=\"background-color:lightgrey\">K</td></tr>\n",
       "<tr><td style=\"background-color:lightgrey\">1</td><td style=\"background-color:white\"></td><td style=\"background-color:white\"></td><td style=\"background-color:white\"></td><td style=\"background-color:white\"></td><td style=\"background-color:white\"></td><td style=\"background-color:white\"></td><td style=\"background-color:white\"></td><td style=\"background-color:white\"></td><td style=\"background-color:white\"></td><td style=\"background-color:white\"></td><td style=\"background-color:white\"></td></tr>\n",
       "<tr><td style=\"background-color:lightgrey\">2</td><td style=\"background-color:white\"></td><td style=\"background-color:white\"></td><td style=\"background-color:white\">Houses</td><td style=\"background-color:white\">Cars</td><td style=\"background-color:white\">Boats</td><td style=\"background-color:white\"></td><td style=\"background-color:white\"></td><td style=\"background-color:white\"></td><td style=\"background-color:white\">Houses</td><td style=\"background-color:white\">Cars</td><td style=\"background-color:white\">Boats</td></tr>\n",
       "<tr><td style=\"background-color:lightgrey\">3</td><td style=\"background-color:white\">Beatles</td><td style=\"background-color:white\"></td><td style=\"background-color:white\"></td><td style=\"background-color:white\"></td><td style=\"background-color:white\"></td><td style=\"background-color:white\"></td><td style=\"background-color:white\">Rolling Stones</td><td style=\"background-color:white\"></td><td style=\"background-color:white\"></td><td style=\"background-color:white\"></td><td style=\"background-color:white\"></td></tr>\n",
       "<tr><td style=\"background-color:lightgrey\">4</td><td style=\"background-color:white\"></td><td style=\"background-color:#99ff99\">John</td><td style=\"background-color:cyan\">1</td><td style=\"background-color:cyan\">5</td><td style=\"background-color:cyan\">9</td><td style=\"background-color:white\"></td><td style=\"background-color:white\"></td><td style=\"background-color:white\">Keith</td><td style=\"background-color:white\">2</td><td style=\"background-color:white\">6</td><td style=\"background-color:white\">10</td></tr>\n",
       "<tr><td style=\"background-color:lightgrey\">5</td><td style=\"background-color:white\"></td><td style=\"background-color:#99ff99\">Paul</td><td style=\"background-color:cyan\">2</td><td style=\"background-color:cyan\">6</td><td style=\"background-color:cyan\">10</td><td style=\"background-color:white\"></td><td style=\"background-color:white\"></td><td style=\"background-color:white\">Mick</td><td style=\"background-color:white\">3</td><td style=\"background-color:white\">7</td><td style=\"background-color:white\">11</td></tr>\n",
       "<tr><td style=\"background-color:lightgrey\">6</td><td style=\"background-color:white\"></td><td style=\"background-color:#99ff99\">George</td><td style=\"background-color:cyan\">2</td><td style=\"background-color:cyan\">7</td><td style=\"background-color:cyan\">11</td><td style=\"background-color:white\"></td><td style=\"background-color:white\"></td><td style=\"background-color:white\">Charlie</td><td style=\"background-color:white\">3</td><td style=\"background-color:white\">8</td><td style=\"background-color:white\">12</td></tr>\n",
       "<tr><td style=\"background-color:lightgrey\">7</td><td style=\"background-color:white\"></td><td style=\"background-color:#99ff99\">Ringo</td><td style=\"background-color:cyan\">4</td><td style=\"background-color:cyan\">8</td><td style=\"background-color:cyan\">12</td><td style=\"background-color:white\"></td><td style=\"background-color:white\"></td><td style=\"background-color:white\">Ronnie</td><td style=\"background-color:white\">5</td><td style=\"background-color:white\">9</td><td style=\"background-color:white\">13</td></tr>\n",
       "<tr><td style=\"background-color:lightgrey\">8</td><td style=\"background-color:white\"></td><td style=\"background-color:white\"></td><td style=\"background-color:white\"></td><td style=\"background-color:white\"></td><td style=\"background-color:white\"></td><td style=\"background-color:white\"></td><td style=\"background-color:white\"></td><td style=\"background-color:white\"></td><td style=\"background-color:white\"></td><td style=\"background-color:white\"></td><td style=\"background-color:white\"></td></tr>\n",
       "\n",
       "                </table>\n",
       "            </body>\n",
       "            <br>\n",
       "        </html>\n",
       "    "
      ],
      "text/plain": [
       "<IPython.core.display.HTML object>"
      ]
     },
     "metadata": {},
     "output_type": "display_data"
    },
    {
     "data": {
      "text/html": [
       "<table>\n",
       "<thead>\n",
       "<tr><th style=\"text-align: right;\">  Observations</th><th>Members        </th></tr>\n",
       "</thead>\n",
       "<tbody>\n",
       "<tr><td style=\"text-align: right;\">             1</td><td>John Lennon    </td></tr>\n",
       "<tr><td style=\"text-align: right;\">             5</td><td>John Lennon    </td></tr>\n",
       "<tr><td style=\"text-align: right;\">             9</td><td>John Lennon    </td></tr>\n",
       "<tr><td style=\"text-align: right;\">             2</td><td>Paul McCartney </td></tr>\n",
       "<tr><td style=\"text-align: right;\">             6</td><td>Paul McCartney </td></tr>\n",
       "<tr><td style=\"text-align: right;\">            10</td><td>Paul McCartney </td></tr>\n",
       "<tr><td style=\"text-align: right;\">             2</td><td>George Harrison</td></tr>\n",
       "<tr><td style=\"text-align: right;\">             7</td><td>George Harrison</td></tr>\n",
       "<tr><td style=\"text-align: right;\">            11</td><td>George Harrison</td></tr>\n",
       "<tr><td style=\"text-align: right;\">             4</td><td>Ringo Starr    </td></tr>\n",
       "<tr><td style=\"text-align: right;\">             8</td><td>Ringo Starr    </td></tr>\n",
       "<tr><td style=\"text-align: right;\">            12</td><td>Ringo Starr    </td></tr>\n",
       "</tbody>\n",
       "</table>"
      ],
      "text/plain": [
       "'<table>\\n<thead>\\n<tr><th style=\"text-align: right;\">  Observations</th><th>Members        </th></tr>\\n</thead>\\n<tbody>\\n<tr><td style=\"text-align: right;\">             1</td><td>John Lennon    </td></tr>\\n<tr><td style=\"text-align: right;\">             5</td><td>John Lennon    </td></tr>\\n<tr><td style=\"text-align: right;\">             9</td><td>John Lennon    </td></tr>\\n<tr><td style=\"text-align: right;\">             2</td><td>Paul McCartney </td></tr>\\n<tr><td style=\"text-align: right;\">             6</td><td>Paul McCartney </td></tr>\\n<tr><td style=\"text-align: right;\">            10</td><td>Paul McCartney </td></tr>\\n<tr><td style=\"text-align: right;\">             2</td><td>George Harrison</td></tr>\\n<tr><td style=\"text-align: right;\">             7</td><td>George Harrison</td></tr>\\n<tr><td style=\"text-align: right;\">            11</td><td>George Harrison</td></tr>\\n<tr><td style=\"text-align: right;\">             4</td><td>Ringo Starr    </td></tr>\\n<tr><td style=\"text-align: right;\">             8</td><td>Ringo Starr    </td></tr>\\n<tr><td style=\"text-align: right;\">            12</td><td>Ringo Starr    </td></tr>\\n</tbody>\\n</table>'"
      ]
     },
     "metadata": {},
     "output_type": "display_data"
    },
    {
     "name": "stdout",
     "output_type": "stream",
     "text": [
      "\n"
     ]
    }
   ],
   "source": [
    "from typing import Dict\n",
    "from datachef import acquire, preview\n",
    "from datachef.direction import right\n",
    "from datachef.output import TidyData, Column\n",
    "from datachef.selection import CsvSelectable\n",
    "\n",
    "# this is our custom class\n",
    "class SurnamesFromDict:\n",
    "\n",
    "    def __init__(self, name_surname_dict: Dict[str,str]):\n",
    "        \"\"\"\n",
    "        A class that adds surnames when first names are provided\n",
    "        \"\"\"\n",
    "        self.name_surname_dict = name_surname_dict\n",
    "\n",
    "    def __call__(self, cell_value):\n",
    "        if \" \" in cell_value:\n",
    "            return cell_value\n",
    "        return f\"{cell_value} {self.name_surname_dict[cell_value]}\"\n",
    "\n",
    "# now we create an instance of our custom class with the data lookups\n",
    "surname_getter = SurnamesFromDict({\n",
    "        \"John\": \"Lennon\",\n",
    "        \"Paul\": \"McCartney\",\n",
    "        \"George\": \"Harrison\",\n",
    "        \"Ringo\": \"Starr\"\n",
    "    })\n",
    "\n",
    "\n",
    "# Now we do the extraction\n",
    "table: CsvSelectable = acquire.csv.http(\"https://raw.githubusercontent.com/mikeAdamss/datachef/main/tests/fixtures/csv/bands-wide.csv\")\n",
    "observations = table.excel_ref('C4:E7').label_as(\"Observations\")\n",
    "members = table.excel_ref(\"B\").is_not_blank().label_as(\"Members\")\n",
    "preview(observations, members)\n",
    "\n",
    "tidy_data = TidyData(\n",
    "    observations,\n",
    "    Column(members.finds_observations_directly(right), apply=surname_getter)\n",
    ")\n",
    "print(tidy_data)"
   ]
  }
 ],
 "metadata": {
  "kernelspec": {
   "display_name": "Python 3",
   "language": "python",
   "name": "python3"
  },
  "language_info": {
   "codemirror_mode": {
    "name": "ipython",
    "version": 3
   },
   "file_extension": ".py",
   "mimetype": "text/x-python",
   "name": "python",
   "nbconvert_exporter": "python",
   "pygments_lexer": "ipython3",
   "version": "3.9.7"
  },
  "widgets": {
   "application/vnd.jupyter.widget-state+json": {
    "state": {},
    "version_major": 2,
    "version_minor": 0
   }
  }
 },
 "nbformat": 4,
 "nbformat_minor": 4
}
