{
 "cells": [
  {
   "attachments": {},
   "cell_type": "markdown",
   "metadata": {},
   "source": [
    "# TidyData: Data Markers & Dropping Columns\n",
    "\n",
    "This section shows you how to deal with extracting data markers.\n",
    "\n",
    "The term \"data marker\" is a catch all term for notations or non numeric indicators that are often attached to a value observation in data tables intended for visual consumption."
   ]
  },
  {
   "attachments": {},
   "cell_type": "markdown",
   "metadata": {},
   "source": [
    "## Source Data\n",
    "\n",
    "The data source we're using for these examples is shown below:\n",
    "\n",
    "The [full data source can be viewed here](https://raw.githubusercontent.com/mikeAdamss/datachef/main/tests/fixtures/csv/data-markers.csv)."
   ]
  },
  {
   "cell_type": "code",
   "execution_count": 1,
   "metadata": {},
   "outputs": [
    {
     "data": {
      "text/html": [
       "\n",
       "    <html>\n",
       "        \n",
       "    <style>\n",
       "    table, th, td {\n",
       "        border: 1px solid;\n",
       "    }\n",
       "\n",
       "    table {\n",
       "        border-collapse: collapse;\n",
       "    }\n",
       "\n",
       "    td {\n",
       "        align: center;\n",
       "        border: 1px  black solid !important;\n",
       "        color: black !important;\n",
       "    }\n",
       "\n",
       "    th, td {\n",
       "        padding: 5px;\n",
       "    }\n",
       "\n",
       "    </style>\n",
       "    \n",
       "            <table>\n",
       "                \n",
       "            </table>\n",
       "\n",
       "            <body>\n",
       "                <h2>Unnamed Table</h2>\n",
       "                <table>\n",
       "                    <tr><td style=\"background-color:lightgrey\"></td><td style=\"background-color:lightgrey\">A</td><td style=\"background-color:lightgrey\">B</td><td style=\"background-color:lightgrey\">C</td></tr>\n",
       "<tr><td style=\"background-color:lightgrey\">1</td><td style=\"background-color:white\"></td><td style=\"background-color:white\"></td><td style=\"background-color:white\"></td></tr>\n",
       "<tr><td style=\"background-color:lightgrey\">2</td><td style=\"background-color:white\">Trucks</td><td style=\"background-color:white\">Cars</td><td style=\"background-color:white\">Name</td></tr>\n",
       "<tr><td style=\"background-color:lightgrey\">3</td><td style=\"background-color:white\"></td><td style=\"background-color:white\"></td><td style=\"background-color:white\"></td></tr>\n",
       "<tr><td style=\"background-color:lightgrey\">4</td><td style=\"background-color:white\">5</td><td style=\"background-color:white\">5</td><td style=\"background-color:white\">John Lennon</td></tr>\n",
       "<tr><td style=\"background-color:lightgrey\">5</td><td style=\"background-color:white\">9</td><td style=\"background-color:white\">6*</td><td style=\"background-color:white\">Ringo Strr</td></tr>\n",
       "<tr><td style=\"background-color:lightgrey\">6</td><td style=\"background-color:white\">7</td><td style=\"background-color:white\">7</td><td style=\"background-color:white\">Mick Jagger</td></tr>\n",
       "<tr><td style=\"background-color:lightgrey\">7</td><td style=\"background-color:white\">9</td><td style=\"background-color:white\">6**</td><td style=\"background-color:white\">Keith Moon</td></tr>\n",
       "<tr><td style=\"background-color:lightgrey\">8</td><td style=\"background-color:white\">9</td><td style=\"background-color:white\"></td><td style=\"background-color:white\">Pete Townsend</td></tr>\n",
       "<tr><td style=\"background-color:lightgrey\">9</td><td style=\"background-color:white\"></td><td style=\"background-color:white\"></td><td style=\"background-color:white\"></td></tr>\n",
       "<tr><td style=\"background-color:lightgrey\">10</td><td style=\"background-color:white\">Key</td><td style=\"background-color:white\"></td><td style=\"background-color:white\"></td></tr>\n",
       "<tr><td style=\"background-color:lightgrey\">11</td><td style=\"background-color:white\">*</td><td style=\"background-color:white\">Not counting foreign imports</td><td style=\"background-color:white\"></td></tr>\n",
       "<tr><td style=\"background-color:lightgrey\">12</td><td style=\"background-color:white\">**</td><td style=\"background-color:white\">Not including white models</td><td style=\"background-color:white\"></td></tr>\n",
       "\n",
       "                </table>\n",
       "            </body>\n",
       "            <br>\n",
       "        </html>\n",
       "    "
      ],
      "text/plain": [
       "<IPython.core.display.HTML object>"
      ]
     },
     "metadata": {},
     "output_type": "display_data"
    }
   ],
   "source": [
    "from datachef import acquire, preview\n",
    "from datachef.selection import CsvSelectable\n",
    "\n",
    "table: CsvSelectable = acquire.csv.http(\"https://raw.githubusercontent.com/mikeAdamss/datachef/main/tests/fixtures/csv/data-markers.csv\")\n",
    "preview(table)"
   ]
  },
  {
   "attachments": {},
   "cell_type": "markdown",
   "metadata": {},
   "source": [
    "For our example we're going to:\n",
    "\n",
    "- Take a \"Vehicles\" column\n",
    "- Take all observations as \"raw observations\"\n",
    "- Use a horizontal condition to create the \"Value\" column for observations **without** data markers.\n",
    "- Use a horizontal condition to create a \"Data Marker\" column for **just** the data markers."
   ]
  },
  {
   "cell_type": "code",
   "execution_count": 2,
   "metadata": {},
   "outputs": [
    {
     "data": {
      "text/html": [
       "\n",
       "    <html>\n",
       "        \n",
       "    <style>\n",
       "    table, th, td {\n",
       "        border: 1px solid;\n",
       "    }\n",
       "\n",
       "    table {\n",
       "        border-collapse: collapse;\n",
       "    }\n",
       "\n",
       "    td {\n",
       "        align: center;\n",
       "        border: 1px  black solid !important;\n",
       "        color: black !important;\n",
       "    }\n",
       "\n",
       "    th, td {\n",
       "        padding: 5px;\n",
       "    }\n",
       "\n",
       "    </style>\n",
       "    \n",
       "            <table>\n",
       "                \n",
       "            <tr>\n",
       "                <td style=\"background-color:cyan\">Anchor Cell</td>\n",
       "            <tr>\n",
       "        \n",
       "            <tr>\n",
       "                <td style=\"background-color:#99ff99\">raw</td>\n",
       "            <tr>\n",
       "        \n",
       "            <tr>\n",
       "                <td style=\"background-color:#eeccff\">Name</td>\n",
       "            <tr>\n",
       "        \n",
       "            <tr>\n",
       "                <td style=\"background-color:#ffe066\">Vehicles</td>\n",
       "            <tr>\n",
       "        \n",
       "            </table>\n",
       "\n",
       "            <body>\n",
       "                <h2>Unnamed Table</h2>\n",
       "                <table>\n",
       "                    <tr><td style=\"background-color:lightgrey\"></td><td style=\"background-color:lightgrey\">A</td><td style=\"background-color:lightgrey\">B</td><td style=\"background-color:lightgrey\">C</td></tr>\n",
       "<tr><td style=\"background-color:lightgrey\">1</td><td style=\"background-color:white\"></td><td style=\"background-color:white\"></td><td style=\"background-color:white\"></td></tr>\n",
       "<tr><td style=\"background-color:lightgrey\">2</td><td style=\"background-color:#ffe066\">Trucks</td><td style=\"background-color:#ffe066\">Cars</td><td style=\"background-color:cyan\">Name</td></tr>\n",
       "<tr><td style=\"background-color:lightgrey\">3</td><td style=\"background-color:white\"></td><td style=\"background-color:white\"></td><td style=\"background-color:white\"></td></tr>\n",
       "<tr><td style=\"background-color:lightgrey\">4</td><td style=\"background-color:#99ff99\">5</td><td style=\"background-color:#99ff99\">5</td><td style=\"background-color:#eeccff\">John Lennon</td></tr>\n",
       "<tr><td style=\"background-color:lightgrey\">5</td><td style=\"background-color:#99ff99\">9</td><td style=\"background-color:#99ff99\">6*</td><td style=\"background-color:#eeccff\">Ringo Strr</td></tr>\n",
       "<tr><td style=\"background-color:lightgrey\">6</td><td style=\"background-color:#99ff99\">7</td><td style=\"background-color:#99ff99\">7</td><td style=\"background-color:#eeccff\">Mick Jagger</td></tr>\n",
       "<tr><td style=\"background-color:lightgrey\">7</td><td style=\"background-color:#99ff99\">9</td><td style=\"background-color:#99ff99\">6**</td><td style=\"background-color:#eeccff\">Keith Moon</td></tr>\n",
       "<tr><td style=\"background-color:lightgrey\">8</td><td style=\"background-color:#99ff99\">9</td><td style=\"background-color:white\"></td><td style=\"background-color:#eeccff\">Pete Townsend</td></tr>\n",
       "<tr><td style=\"background-color:lightgrey\">9</td><td style=\"background-color:white\"></td><td style=\"background-color:white\"></td><td style=\"background-color:white\"></td></tr>\n",
       "<tr><td style=\"background-color:lightgrey\">10</td><td style=\"background-color:white\">Key</td><td style=\"background-color:white\"></td><td style=\"background-color:white\"></td></tr>\n",
       "<tr><td style=\"background-color:lightgrey\">11</td><td style=\"background-color:white\">*</td><td style=\"background-color:white\">Not counting foreign imports</td><td style=\"background-color:white\"></td></tr>\n",
       "<tr><td style=\"background-color:lightgrey\">12</td><td style=\"background-color:white\">**</td><td style=\"background-color:white\">Not including white models</td><td style=\"background-color:white\"></td></tr>\n",
       "\n",
       "                </table>\n",
       "            </body>\n",
       "            <br>\n",
       "        </html>\n",
       "    "
      ],
      "text/plain": [
       "<IPython.core.display.HTML object>"
      ]
     },
     "metadata": {},
     "output_type": "display_data"
    },
    {
     "data": {
      "text/html": [
       "<table>\n",
       "<thead>\n",
       "<tr><th style=\"text-align: right;\">  Value</th><th>Data Marker  </th><th>Name         </th><th>Vehicles  </th></tr>\n",
       "</thead>\n",
       "<tbody>\n",
       "<tr><td style=\"text-align: right;\">      5</td><td>             </td><td>John Lennon  </td><td>Trucks    </td></tr>\n",
       "<tr><td style=\"text-align: right;\">      5</td><td>             </td><td>John Lennon  </td><td>Cars      </td></tr>\n",
       "<tr><td style=\"text-align: right;\">      9</td><td>             </td><td>Ringo Strr   </td><td>Trucks    </td></tr>\n",
       "<tr><td style=\"text-align: right;\">      6</td><td>*            </td><td>Ringo Strr   </td><td>Cars      </td></tr>\n",
       "<tr><td style=\"text-align: right;\">      7</td><td>             </td><td>Mick Jagger  </td><td>Trucks    </td></tr>\n",
       "<tr><td style=\"text-align: right;\">      7</td><td>             </td><td>Mick Jagger  </td><td>Cars      </td></tr>\n",
       "<tr><td style=\"text-align: right;\">      9</td><td>             </td><td>Keith Moon   </td><td>Trucks    </td></tr>\n",
       "<tr><td style=\"text-align: right;\">      6</td><td>**           </td><td>Keith Moon   </td><td>Cars      </td></tr>\n",
       "<tr><td style=\"text-align: right;\">      9</td><td>             </td><td>Pete Townsend</td><td>Trucks    </td></tr>\n",
       "</tbody>\n",
       "</table>"
      ],
      "text/plain": [
       "'<table>\\n<thead>\\n<tr><th style=\"text-align: right;\">  Value</th><th>Data Marker  </th><th>Name         </th><th>Vehicles  </th></tr>\\n</thead>\\n<tbody>\\n<tr><td style=\"text-align: right;\">      5</td><td>             </td><td>John Lennon  </td><td>Trucks    </td></tr>\\n<tr><td style=\"text-align: right;\">      5</td><td>             </td><td>John Lennon  </td><td>Cars      </td></tr>\\n<tr><td style=\"text-align: right;\">      9</td><td>             </td><td>Ringo Strr   </td><td>Trucks    </td></tr>\\n<tr><td style=\"text-align: right;\">      6</td><td>*            </td><td>Ringo Strr   </td><td>Cars      </td></tr>\\n<tr><td style=\"text-align: right;\">      7</td><td>             </td><td>Mick Jagger  </td><td>Trucks    </td></tr>\\n<tr><td style=\"text-align: right;\">      7</td><td>             </td><td>Mick Jagger  </td><td>Cars      </td></tr>\\n<tr><td style=\"text-align: right;\">      9</td><td>             </td><td>Keith Moon   </td><td>Trucks    </td></tr>\\n<tr><td style=\"text-align: right;\">      6</td><td>**           </td><td>Keith Moon   </td><td>Cars      </td></tr>\\n<tr><td style=\"text-align: right;\">      9</td><td>             </td><td>Pete Townsend</td><td>Trucks    </td></tr>\\n</tbody>\\n</table>'"
      ]
     },
     "metadata": {},
     "output_type": "display_data"
    },
    {
     "name": "stdout",
     "output_type": "stream",
     "text": [
      "\n"
     ]
    }
   ],
   "source": [
    "from typing import Dict\n",
    "\n",
    "from datachef import acquire, preview\n",
    "from datachef.direction import right, down, left, up\n",
    "from datachef.output import TidyData, Column\n",
    "from datachef.selection import CsvSelectable\n",
    "\n",
    "table: CsvSelectable = acquire.csv.http(\"https://raw.githubusercontent.com/mikeAdamss/datachef/main/tests/fixtures/csv/data-markers.csv\")\n",
    "\n",
    "anchor = table.re(\"Name\").assert_one().label_as(\"Anchor Cell\")\n",
    "name = anchor.fill(down).is_not_blank().label_as(\"Name\")\n",
    "raw_observations = name.fill(left).is_not_blank().label_as(\"raw\")\n",
    "vehicles = anchor.fill(left).label_as(\"Vehicles\")\n",
    "\n",
    "preview(anchor, raw_observations, name, vehicles)\n",
    "\n",
    "def obs_only(line: Dict[str, str]) -> str:\n",
    "    \"\"\"\n",
    "    Returns numeric characters from the \"raw\" column relative to\n",
    "    the column cell being populated.\n",
    "    \"\"\"\n",
    "    v = \"\".join([c for c in line[\"raw\"] if c.isnumeric()])\n",
    "    return v\n",
    "\n",
    "def data_markers_only(line: Dict[str, str]) -> str:\n",
    "    \"\"\"\n",
    "    Returns non numeric characters from the \"raw\" column relative to\n",
    "    the column cell being populated.\n",
    "    \"\"\"\n",
    "    v = \"\".join([c for c in line[\"raw\"] if not c.isnumeric()])\n",
    "    return v\n",
    "\n",
    "tidy_data = TidyData(\n",
    "    raw_observations,\n",
    "    Column.horizontal_condition(\"Value\", obs_only),\n",
    "    Column.horizontal_condition(\"Data Marker\", data_markers_only),\n",
    "    Column(name.finds_observations_directly(left)),\n",
    "    Column(vehicles.finds_observations_directly(down)),\n",
    "    drop=[\"raw\"]\n",
    ")\n",
    "print(tidy_data)"
   ]
  }
 ],
 "metadata": {
  "kernelspec": {
   "display_name": "datachef-hNSMaw3h-py3.9",
   "language": "python",
   "name": "python3"
  },
  "language_info": {
   "codemirror_mode": {
    "name": "ipython",
    "version": 3
   },
   "file_extension": ".py",
   "mimetype": "text/x-python",
   "name": "python",
   "nbconvert_exporter": "python",
   "pygments_lexer": "ipython3",
   "version": "3.9.7"
  },
  "orig_nbformat": 4
 },
 "nbformat": 4,
 "nbformat_minor": 2
}
