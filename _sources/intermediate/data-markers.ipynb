{
 "cells": [
  {
   "attachments": {},
   "cell_type": "markdown",
   "metadata": {},
   "source": [
    "# TidyData: Data Markers & Dropping Columns\n",
    "\n",
    "This section shows you how to deal with extracting data markers.\n",
    "\n",
    "I'm using the term \"data marker\" as a catch all term for notations or non numeric indicators that can be attached to a cell value in data tables intended for visual consumption to indicate some nuance regarding the value in question."
   ]
  },
  {
   "attachments": {},
   "cell_type": "markdown",
   "metadata": {},
   "source": [
    "## Source Data\n",
    "\n",
    "The data source we're using for these examples is shown below:\n",
    "\n",
    "The [full data source can be viewed here](https://raw.githubusercontent.com/mikeAdamss/datachef/main/tests/fixtures/csv/data-markers.csv)."
   ]
  },
  {
   "cell_type": "code",
   "execution_count": null,
   "metadata": {},
   "outputs": [],
   "source": [
    "from datachef import acquire, preview\n",
    "from datachef.selection import CsvSelectable\n",
    "\n",
    "table: CsvSelectable = acquire.csv.http(\"https://raw.githubusercontent.com/mikeAdamss/datachef/main/tests/fixtures/csv/data-markers.csv\")\n",
    "preview(table)"
   ]
  },
  {
   "attachments": {},
   "cell_type": "markdown",
   "metadata": {},
   "source": [
    "For our example we're going to:\n",
    "\n",
    "- Take a \"Vehicles\" column\n",
    "- Take all observations as \"raw observations\"\n",
    "- Use a horizontal condition to create the \"Value\" column for observations **without** data markers.\n",
    "- Use a horizontal condition to create a \"Data Marker\" column for **just** the data markers.\n",
    "- \"drop\" the \"raw\" column from the tidy data once its served its purpose."
   ]
  },
  {
   "cell_type": "code",
   "execution_count": null,
   "metadata": {},
   "outputs": [],
   "source": [
    "from typing import Dict\n",
    "\n",
    "from datachef import acquire, preview\n",
    "from datachef.direction import right, down, left, up\n",
    "from datachef.output import TidyData, Column\n",
    "from datachef.selection import CsvSelectable\n",
    "\n",
    "table: CsvSelectable = acquire.csv.http(\"https://raw.githubusercontent.com/mikeAdamss/datachef/main/tests/fixtures/csv/data-markers.csv\")\n",
    "\n",
    "anchor = table.re(\"Name\").assert_one().label_as(\"Anchor Cell\")\n",
    "name = anchor.fill(down).is_not_blank().label_as(\"Name\")\n",
    "raw_observations = name.fill(left).is_not_blank().label_as(\"raw\")\n",
    "vehicles = anchor.fill(left).label_as(\"Vehicles\")\n",
    "\n",
    "preview(anchor, raw_observations, name, vehicles)\n",
    "\n",
    "def obs_only(line: Dict[str, str]) -> str:\n",
    "    \"\"\"\n",
    "    Returns numeric characters from the \"raw\" column relative to\n",
    "    the column cell being populated.\n",
    "    \"\"\"\n",
    "    v = \"\".join([c for c in line[\"raw\"] if c.isnumeric()])\n",
    "    return v\n",
    "\n",
    "def data_markers_only(line: Dict[str, str]) -> str:\n",
    "    \"\"\"\n",
    "    Returns non numeric characters from the \"raw\" column relative to\n",
    "    the column cell being populated.\n",
    "    \"\"\"\n",
    "    v = \"\".join([c for c in line[\"raw\"] if not c.isnumeric()])\n",
    "    return v\n",
    "\n",
    "tidy_data = TidyData(\n",
    "    raw_observations,\n",
    "    Column.horizontal_condition(\"Value\", obs_only),\n",
    "    Column.horizontal_condition(\"Data Marker\", data_markers_only),\n",
    "    Column(name.finds_observations_directly(left)),\n",
    "    Column(vehicles.finds_observations_directly(down)),\n",
    "    drop=[\"raw\"]\n",
    ")\n",
    "print(tidy_data)"
   ]
  }
 ],
 "metadata": {
  "kernelspec": {
   "display_name": "datachef-hNSMaw3h-py3.9",
   "language": "python",
   "name": "python3"
  },
  "language_info": {
   "codemirror_mode": {
    "name": "ipython",
    "version": 3
   },
   "file_extension": ".py",
   "mimetype": "text/x-python",
   "name": "python",
   "nbconvert_exporter": "python",
   "pygments_lexer": "ipython3",
   "version": "3.9.7"
  },
  "orig_nbformat": 4
 },
 "nbformat": 4,
 "nbformat_minor": 2
}
