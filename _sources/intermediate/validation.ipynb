{
 "cells": [
  {
   "attachments": {},
   "cell_type": "markdown",
   "metadata": {},
   "source": [
    "# TidyData: Column: validate=\n",
    "\n",
    "The following is an introduction to basic validation in datachef and usage of the `validate=` keyword provided by the `Column` class when constructing `TidyData`.\n",
    "\n",
    "| <span style=\"color:green\">Note - this keyword uses exactly the same `against` module we used when explaining `selection.validate()` method earlier in this documentation - the difference here is intent (explained below in more detail).</span>|\n",
    "|-----------------------------------------|"
   ]
  },
  {
   "attachments": {},
   "cell_type": "markdown",
   "metadata": {},
   "source": [
    "## validate= vs .validate()\n",
    "\n",
    "The key difference to understand is as follow:\n",
    "\n",
    "- The `<selectable>.validate()` method run against **selections** so police your _extraction logic_.\n",
    "- Validations via the `Column(validation=)` keyword runs against the **output** so police your _final product_.\n",
    "\n",
    "Consider the following scenarios:\n",
    "\n",
    "- 1.) You want to select an \"anchor cell\" or a selection of cells for the sole purpose of subtracting it from another selection. It could be important to confirm these selections are accurate but because they're not directly extracted values then `validation=` will never see them (just the consequence of them) so the `<selectable>.validate()` is more appropriate.\n",
    "\n",
    "- 2.) You're are using `apply=` to cleanse cell value data _at the point of extraction_ and need to make sure the correct things are happening, the `<selectable>.validate()` method will **never see these cleansed values**, but `validation=` will.\n",
    "\n",
    "There are nuances on where its best to use each but the pithy version is \"use both strategies, wherever possible and as much as its practical to do so\"."
   ]
  },
  {
   "attachments": {},
   "cell_type": "markdown",
   "metadata": {},
   "source": [
    "## Source Data\n",
    "\n",
    "The data source we're using for these examples is shown below:\n",
    "\n",
    "| <span style=\"color:green\">Note - this particular table has some very verbose headers we don't care about, so we'll be using `bounded=` to remove them from the previews as well as to show just the subset of data we're working with.</span>|\n",
    "|-----------------------------------------|\n",
    "\n",
    "The [full data source can be downloaded here](https://github.com/mikeAdamss/datachef/raw/main/tests/fixtures/xlsx/ons-oic.xlsx). We'll be using th 10th tab named \"Table 3c\"."
   ]
  },
  {
   "cell_type": "code",
   "execution_count": 28,
   "metadata": {},
   "outputs": [
    {
     "data": {
      "text/html": [
       "\n",
       "    <html>\n",
       "        \n",
       "    <style>\n",
       "    table, th, td {\n",
       "        border: 1px solid;\n",
       "    }\n",
       "\n",
       "    table {\n",
       "        border-collapse: collapse;\n",
       "    }\n",
       "\n",
       "    td {\n",
       "        align: center;\n",
       "        border: 1px  black solid !important;\n",
       "        color: black !important;\n",
       "    }\n",
       "\n",
       "    th, td {\n",
       "        padding: 5px;\n",
       "    }\n",
       "\n",
       "    </style>\n",
       "    \n",
       "            <table>\n",
       "                \n",
       "            </table>\n",
       "\n",
       "            <body>\n",
       "                <h2>Table 3c</h2>\n",
       "                <table>\n",
       "                    <tr><td style=\"background-color:lightgrey\"></td><td style=\"background-color:lightgrey\">A</td><td style=\"background-color:lightgrey\">B</td><td style=\"background-color:lightgrey\">C</td><td style=\"background-color:lightgrey\">D</td><td style=\"background-color:lightgrey\">E</td><td style=\"background-color:lightgrey\">F</td><td style=\"background-color:lightgrey\">G</td><td style=\"background-color:lightgrey\">H</td></tr>\n",
       "<tr><td style=\"background-color:lightgrey\">4</td><td style=\"background-color:white\">Percentage change 3 months on previous 3 months</td><td style=\"background-color:white\"></td><td style=\"background-color:white\"></td><td style=\"background-color:white\"></td><td style=\"background-color:white\"></td><td style=\"background-color:white\"></td><td style=\"background-color:white\"></td><td style=\"background-color:white\"></td></tr>\n",
       "<tr><td style=\"background-color:lightgrey\">5</td><td style=\"background-color:white\">Time period</td><td style=\"background-color:white\">Public new housing</td><td style=\"background-color:white\">Private new housing</td><td style=\"background-color:white\">Total new housing</td><td style=\"background-color:white\">Infrastructure new work</td><td style=\"background-color:white\">Public other new work</td><td style=\"background-color:white\">Private industrial new work</td><td style=\"background-color:white\">Private commercial new work</td></tr>\n",
       "<tr><td style=\"background-color:lightgrey\">6</td><td style=\"background-color:white\">Dataset identifier code</td><td style=\"background-color:white\">MVO6</td><td style=\"background-color:white\">MVO7</td><td style=\"background-color:white\">MVO8</td><td style=\"background-color:white\">MVO9</td><td style=\"background-color:white\">MVP2</td><td style=\"background-color:white\">MVP3</td><td style=\"background-color:white\">MVP4</td></tr>\n",
       "<tr><td style=\"background-color:lightgrey\">7</td><td style=\"background-color:white\">Jun 2010</td><td style=\"background-color:white\">5.6</td><td style=\"background-color:white\">9.8</td><td style=\"background-color:white\">8.8</td><td style=\"background-color:white\">3</td><td style=\"background-color:white\">4.3</td><td style=\"background-color:white\">3.7</td><td style=\"background-color:white\">1.9</td></tr>\n",
       "<tr><td style=\"background-color:lightgrey\">8</td><td style=\"background-color:white\">Jul 2010</td><td style=\"background-color:white\">2</td><td style=\"background-color:white\">5.6</td><td style=\"background-color:white\">4.8</td><td style=\"background-color:white\">0.2</td><td style=\"background-color:white\">-0.2</td><td style=\"background-color:white\">9.7</td><td style=\"background-color:white\">3.5</td></tr>\n",
       "<tr><td style=\"background-color:lightgrey\">9</td><td style=\"background-color:white\">Aug 2010</td><td style=\"background-color:white\">5.5</td><td style=\"background-color:white\">4.5</td><td style=\"background-color:white\">4.7</td><td style=\"background-color:white\">-2.9</td><td style=\"background-color:white\">-2.9</td><td style=\"background-color:white\">24.4</td><td style=\"background-color:white\">5.9</td></tr>\n",
       "<tr><td style=\"background-color:lightgrey\">10</td><td style=\"background-color:white\">Sep 2010</td><td style=\"background-color:white\">11.7</td><td style=\"background-color:white\">7.5</td><td style=\"background-color:white\">8.5</td><td style=\"background-color:white\">-6.8</td><td style=\"background-color:white\">-3.3</td><td style=\"background-color:white\">16.1</td><td style=\"background-color:white\">5.3</td></tr>\n",
       "\n",
       "                </table>\n",
       "            </body>\n",
       "            <br>\n",
       "        </html>\n",
       "    "
      ],
      "text/plain": [
       "<IPython.core.display.HTML object>"
      ]
     },
     "metadata": {},
     "output_type": "display_data"
    }
   ],
   "source": [
    "from typing import List\n",
    "from datachef import acquire, preview\n",
    "from datachef.selection import XlsxSelectable\n",
    "\n",
    "tables: List[XlsxSelectable] = acquire.xlsx.http(\"https://github.com/mikeAdamss/datachef/raw/main/tests/fixtures/xlsx/ons-oic.xlsx\")\n",
    "preview(tables[9], bounded=\"A4:H10\")"
   ]
  },
  {
   "attachments": {},
   "cell_type": "markdown",
   "metadata": {},
   "source": [
    "## Simple Regex Validation\n",
    "\n",
    "For this example we're going to use the same `against` module we used early in this documentation. This has a simple regex validator that works in exactly the way explained above.\n",
    "\n",
    "i.e `against` is just a convenience, you could just define this yourself.\n",
    "\n",
    "So the following example is valid for the regex provided:"
   ]
  },
  {
   "cell_type": "code",
   "execution_count": 29,
   "metadata": {},
   "outputs": [],
   "source": [
    "from typing import List\n",
    "from datachef import acquire, against\n",
    "from datachef.direction import right, down\n",
    "from datachef.output import TidyData, Column\n",
    "from datachef.selection import XlsxSelectable\n",
    "\n",
    "tables: List[XlsxSelectable] = acquire.xlsx.http(\"https://github.com/mikeAdamss/datachef/raw/main/tests/fixtures/xlsx/ons-oic.xlsx\")\n",
    "table = tables[9]\n",
    "\n",
    "observations = table.excel_ref(\"B7:H10\").label_as(\"Observations\")\n",
    "dataset_identifier_code = table.excel_ref(\"B6\").expand(right).label_as(\"Dataset Identifier Codes\")\n",
    "\n",
    "# Note: matches a regex of capital M followed by anything\n",
    "tidy_data = TidyData(\n",
    "    observations,\n",
    "    Column(dataset_identifier_code.finds_observations_directly(down), validate=against.regex(\"M.*\"))\n",
    ")"
   ]
  },
  {
   "attachments": {},
   "cell_type": "markdown",
   "metadata": {},
   "source": [
    "## A Note on Lazy Evaluation\n",
    "\n",
    "One thing you many notice about the above is that the validation error does not occur until we try and print the `tidy_data` variable, this is because the `TidyData` class uses _lazy evaluation_.\n",
    "\n",
    "Simply put, this means the tidy data is never extracted until the last possible moment that is has to be, in this case when the users goes to print the results."
   ]
  }
 ],
 "metadata": {
  "kernelspec": {
   "display_name": "datachef-hNSMaw3h-py3.9",
   "language": "python",
   "name": "python3"
  },
  "language_info": {
   "codemirror_mode": {
    "name": "ipython",
    "version": 3
   },
   "file_extension": ".py",
   "mimetype": "text/x-python",
   "name": "python",
   "nbconvert_exporter": "python",
   "pygments_lexer": "ipython3",
   "version": "3.9.7"
  },
  "orig_nbformat": 4
 },
 "nbformat": 4,
 "nbformat_minor": 2
}
