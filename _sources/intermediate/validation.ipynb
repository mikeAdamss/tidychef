{
 "cells": [
  {
   "attachments": {},
   "cell_type": "markdown",
   "metadata": {},
   "source": [
    "# TidyData: Column: validate=\n",
    "\n",
    "The following is an introduction to basic validation in datachef and usage of the `validate=` keyword provided by the `Column` class when constructing `TidyData`.\n",
    "\n",
    "| <span style=\"color:green\">Note - this keyword uses exactly the same `against` module we used when explaining `selection.validate()` method earlier in this documentation - the difference here is intent (explained below in more detail).</span>|\n",
    "|-----------------------------------------|"
   ]
  },
  {
   "attachments": {},
   "cell_type": "markdown",
   "metadata": {},
   "source": [
    "## validate= vs .validate()\n",
    "\n",
    "The key difference to understand is as follow:\n",
    "\n",
    "- The `<selectable>.validate()` method run against **selections** so police your _extraction logic_.\n",
    "- Validations via the `Column(validation=)` keyword runs against the **output** so police your _final product_.\n",
    "\n",
    "Consider the following scenarios:\n",
    "\n",
    "- 1.) You want to select an \"anchor cell\" or a selection of cells for the sole purpose of subtracting it from another selection. It could be important to confirm these selections are accurate but because they're not directly extracted values then `validation=` will never see them (just the consequence of them) so the `<selectable>.validate()` is more appropriate.\n",
    "\n",
    "- 2.) You're are using `apply=` to cleanse cell value data _at the point of extraction_ and need to make sure the correct things are happening, the `<selectable>.validate()` method will **never see these cleansed values**, but `validation=` will.\n",
    "\n",
    "There are nuances on where its best to use each but the pithy version is \"use both strategies, wherever possible and as much as its practical to do so\"."
   ]
  },
  {
   "attachments": {},
   "cell_type": "markdown",
   "metadata": {},
   "source": [
    "## Source Data\n",
    "\n",
    "The data source we're using for these examples is shown below:\n",
    "\n",
    "| <span style=\"color:green\">Note - this particular table has some very verbose headers we don't care about, so we'll be using `bounded=` to remove them from the previews as well as to show just the subset of data we're working with.</span>|\n",
    "|-----------------------------------------|\n",
    "\n",
    "The [full data source can be downloaded here](https://github.com/mikeAdamss/datachef/raw/main/tests/fixtures/xlsx/ons-oic.xlsx). We'll be using th 10th tab named \"Table 3c\"."
   ]
  },
  {
   "cell_type": "code",
   "execution_count": null,
   "metadata": {},
   "outputs": [],
   "source": [
    "from datachef import acquire, preview\n",
    "from datachef.selection import XlsxSelectable\n",
    "\n",
    "table: XlsxSelectable = acquire.xlsx.http(\"https://github.com/mikeAdamss/datachef/raw/main/tests/fixtures/xlsx/ons-oic.xlsx\", tables=\"Table 3c\")\n",
    "preview(table, bounded=\"A4:H10\")"
   ]
  },
  {
   "attachments": {},
   "cell_type": "markdown",
   "metadata": {},
   "source": [
    "## Simple Regex Validation\n",
    "\n",
    "For this example we're going to use the same `against` module we used early in this documentation. This has a simple regex validator that works in exactly the way explained above.\n",
    "\n",
    "i.e `against` is just a convenience, you could just define this yourself.\n",
    "\n",
    "So the following example is valid for the regex provided:"
   ]
  },
  {
   "cell_type": "code",
   "execution_count": null,
   "metadata": {},
   "outputs": [],
   "source": [
    "from datachef import acquire, against\n",
    "from datachef.direction import right, down\n",
    "from datachef.output import TidyData, Column\n",
    "from datachef.selection import XlsxSelectable\n",
    "\n",
    "table: XlsxSelectable = acquire.xlsx.http(\"https://github.com/mikeAdamss/datachef/raw/main/tests/fixtures/xlsx/ons-oic.xlsx\", tables=\"Table 3c\")\n",
    "\n",
    "observations = table.excel_ref(\"B7:H10\").label_as(\"Observations\")\n",
    "dataset_identifier_code = table.excel_ref(\"B6\").expand(right).label_as(\"Dataset Identifier Codes\")\n",
    "\n",
    "# Note: matches a regex of capital M followed by anything\n",
    "tidy_data = TidyData(\n",
    "    observations,\n",
    "    Column(dataset_identifier_code.finds_observations_directly(down), validate=against.regex(\"M.*\"))\n",
    ")\n",
    "\n",
    "print(tidy_data)"
   ]
  },
  {
   "attachments": {},
   "cell_type": "markdown",
   "metadata": {},
   "source": [
    "## A Note on Lazy Evaluation\n",
    "\n",
    "One thing you many notice about the above is that the validation error does not occur until we try and print the `tidy_data` variable, this is because the `TidyData` class uses _lazy evaluation_.\n",
    "\n",
    "Simply put, this means the tidy data is never extracted until the last possible moment that is has to be, in this case when we print."
   ]
  }
 ],
 "metadata": {
  "kernelspec": {
   "display_name": "datachef-hNSMaw3h-py3.9",
   "language": "python",
   "name": "python3"
  },
  "language_info": {
   "codemirror_mode": {
    "name": "ipython",
    "version": 3
   },
   "file_extension": ".py",
   "mimetype": "text/x-python",
   "name": "python",
   "nbconvert_exporter": "python",
   "pygments_lexer": "ipython3",
   "version": "3.9.7"
  },
  "orig_nbformat": 4
 },
 "nbformat": 4,
 "nbformat_minor": 2
}
