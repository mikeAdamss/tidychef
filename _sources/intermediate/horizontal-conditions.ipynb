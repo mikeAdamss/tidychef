{
 "cells": [
  {
   "attachments": {},
   "cell_type": "markdown",
   "metadata": {},
   "source": [
    "# TidyData: Horizontal Conditions\n",
    "\n",
    "When extracting data there will be columns whose value will depend conditionally on the values of other columns. In Datachef we handle this scenario with what we call `HorizontalConditions`."
   ]
  },
  {
   "attachments": {},
   "cell_type": "markdown",
   "metadata": {},
   "source": [
    "## Source Data\n",
    "\n",
    "The data source we're using for these examples is shown below:\n",
    "\n",
    "The [full data source can be viewed here](https://raw.githubusercontent.com/mikeAdamss/datachef/main/tests/fixtures/csv/bands-wide.csv)."
   ]
  },
  {
   "cell_type": "code",
   "execution_count": 1,
   "metadata": {},
   "outputs": [
    {
     "data": {
      "text/html": [
       "\n",
       "    <html>\n",
       "        \n",
       "    <style>\n",
       "    table, th, td {\n",
       "        border: 1px solid;\n",
       "    }\n",
       "\n",
       "    table {\n",
       "        border-collapse: collapse;\n",
       "    }\n",
       "\n",
       "    td {\n",
       "        align: center;\n",
       "        border: 1px  black solid !important;\n",
       "        color: black !important;\n",
       "    }\n",
       "\n",
       "    th, td {\n",
       "        padding: 5px;\n",
       "    }\n",
       "\n",
       "    </style>\n",
       "    \n",
       "            <table>\n",
       "                \n",
       "            </table>\n",
       "\n",
       "            <body>\n",
       "                <h2>Unnamed Table</h2>\n",
       "                <table>\n",
       "                    <tr><td style=\"background-color:lightgrey\"></td><td style=\"background-color:lightgrey\">A</td><td style=\"background-color:lightgrey\">B</td><td style=\"background-color:lightgrey\">C</td><td style=\"background-color:lightgrey\">D</td><td style=\"background-color:lightgrey\">E</td><td style=\"background-color:lightgrey\">F</td><td style=\"background-color:lightgrey\">G</td><td style=\"background-color:lightgrey\">H</td><td style=\"background-color:lightgrey\">I</td><td style=\"background-color:lightgrey\">J</td><td style=\"background-color:lightgrey\">K</td></tr>\n",
       "<tr><td style=\"background-color:lightgrey\">1</td><td style=\"background-color:white\"></td><td style=\"background-color:white\"></td><td style=\"background-color:white\"></td><td style=\"background-color:white\"></td><td style=\"background-color:white\"></td><td style=\"background-color:white\"></td><td style=\"background-color:white\"></td><td style=\"background-color:white\"></td><td style=\"background-color:white\"></td><td style=\"background-color:white\"></td><td style=\"background-color:white\"></td></tr>\n",
       "<tr><td style=\"background-color:lightgrey\">2</td><td style=\"background-color:white\"></td><td style=\"background-color:white\"></td><td style=\"background-color:white\">Houses</td><td style=\"background-color:white\">Cars</td><td style=\"background-color:white\">Boats</td><td style=\"background-color:white\"></td><td style=\"background-color:white\"></td><td style=\"background-color:white\"></td><td style=\"background-color:white\">Houses</td><td style=\"background-color:white\">Cars</td><td style=\"background-color:white\">Boats</td></tr>\n",
       "<tr><td style=\"background-color:lightgrey\">3</td><td style=\"background-color:white\">Beatles</td><td style=\"background-color:white\"></td><td style=\"background-color:white\"></td><td style=\"background-color:white\"></td><td style=\"background-color:white\"></td><td style=\"background-color:white\"></td><td style=\"background-color:white\">Rolling Stones</td><td style=\"background-color:white\"></td><td style=\"background-color:white\"></td><td style=\"background-color:white\"></td><td style=\"background-color:white\"></td></tr>\n",
       "<tr><td style=\"background-color:lightgrey\">4</td><td style=\"background-color:white\"></td><td style=\"background-color:white\">John</td><td style=\"background-color:white\">1</td><td style=\"background-color:white\">5</td><td style=\"background-color:white\">9</td><td style=\"background-color:white\"></td><td style=\"background-color:white\"></td><td style=\"background-color:white\">Keith</td><td style=\"background-color:white\">2</td><td style=\"background-color:white\">6</td><td style=\"background-color:white\">10</td></tr>\n",
       "<tr><td style=\"background-color:lightgrey\">5</td><td style=\"background-color:white\"></td><td style=\"background-color:white\">Paul</td><td style=\"background-color:white\">2</td><td style=\"background-color:white\">6</td><td style=\"background-color:white\">10</td><td style=\"background-color:white\"></td><td style=\"background-color:white\"></td><td style=\"background-color:white\">Mick</td><td style=\"background-color:white\">3</td><td style=\"background-color:white\">7</td><td style=\"background-color:white\">11</td></tr>\n",
       "<tr><td style=\"background-color:lightgrey\">6</td><td style=\"background-color:white\"></td><td style=\"background-color:white\">George</td><td style=\"background-color:white\">2</td><td style=\"background-color:white\">7</td><td style=\"background-color:white\">11</td><td style=\"background-color:white\"></td><td style=\"background-color:white\"></td><td style=\"background-color:white\">Charlie</td><td style=\"background-color:white\">3</td><td style=\"background-color:white\">8</td><td style=\"background-color:white\">12</td></tr>\n",
       "<tr><td style=\"background-color:lightgrey\">7</td><td style=\"background-color:white\"></td><td style=\"background-color:white\">Ringo</td><td style=\"background-color:white\">4</td><td style=\"background-color:white\">8</td><td style=\"background-color:white\">12</td><td style=\"background-color:white\"></td><td style=\"background-color:white\"></td><td style=\"background-color:white\">Ronnie</td><td style=\"background-color:white\">5</td><td style=\"background-color:white\">9</td><td style=\"background-color:white\">13</td></tr>\n",
       "<tr><td style=\"background-color:lightgrey\">8</td><td style=\"background-color:white\"></td><td style=\"background-color:white\"></td><td style=\"background-color:white\"></td><td style=\"background-color:white\"></td><td style=\"background-color:white\"></td><td style=\"background-color:white\"></td><td style=\"background-color:white\"></td><td style=\"background-color:white\"></td><td style=\"background-color:white\"></td><td style=\"background-color:white\"></td><td style=\"background-color:white\"></td></tr>\n",
       "\n",
       "                </table>\n",
       "            </body>\n",
       "            <br>\n",
       "        </html>\n",
       "    "
      ],
      "text/plain": [
       "<IPython.core.display.HTML object>"
      ]
     },
     "metadata": {},
     "output_type": "display_data"
    }
   ],
   "source": [
    "from datachef import acquire, preview, CsvSelectable, Column\n",
    "\n",
    "Column.horizontal_condition\n",
    "table: CsvSelectable = acquire.csv.http(\"https://raw.githubusercontent.com/mikeAdamss/datachef/main/tests/fixtures/csv/bands-wide.csv\")\n",
    "preview(table)"
   ]
  },
  {
   "attachments": {},
   "cell_type": "markdown",
   "metadata": {},
   "source": [
    "## Syntax\n",
    "\n",
    "The basic syntax for constructing a horizontal conditional is as follows:\n",
    "\n",
    "```\n",
    "Column.horizontal_condition(<name>, <callable>)\n",
    "```\n",
    "\n",
    "The `<callable>` is a python function or lambda function that operates upon a dictionary.\n",
    "\n",
    "### The Horizontal Condition Dictionary\n",
    "\n",
    "The dictionary in question consists of:\n",
    "\n",
    "- keys: the names of the extracted columns\n",
    "- values: the values extracted **against the same observation the horoxontal condition is operating against**.\n",
    "\n",
    "---\n",
    "\n",
    "Example:\n",
    "\n",
    "Let's imagine the you run a transform that will create the following line of tidy data.\n",
    "\n",
    "| Observation | Member | Assets | Band    |\n",
    "| ------------ | ------ | ------ | ------- |\n",
    "| 5            | John   | Cars   | Beatles |\n",
    "\n",
    "If you were to add a horizonal condition to the `TidyData` constructor, then **for that specific observation** the dictionary accessible to the horizontal condition would be:\n",
    "\n",
    "```\n",
    "{\n",
    "    \"Member\": \"John\",\n",
    "    \"Assets\": \"Cars\",\n",
    "    \"Band\" : \"Beatles\n",
    "}\n",
    "```\n",
    "\n",
    "This will be shown in context in the examples below."
   ]
  },
  {
   "attachments": {},
   "cell_type": "markdown",
   "metadata": {},
   "source": [
    "## Condition: Singer In The Beatles\n",
    "\n",
    "For our first example, we'll create a horizontal condition columns to identify which band members are singers in the beatles.\n",
    "\n",
    "You;ve seen this example before, so mainly focus on the new `Column.horizontal_condition()` syntax."
   ]
  },
  {
   "cell_type": "code",
   "execution_count": 2,
   "metadata": {},
   "outputs": [
    {
     "data": {
      "text/html": [
       "\n",
       "    <html>\n",
       "        \n",
       "    <style>\n",
       "    table, th, td {\n",
       "        border: 1px solid;\n",
       "    }\n",
       "\n",
       "    table {\n",
       "        border-collapse: collapse;\n",
       "    }\n",
       "\n",
       "    td {\n",
       "        align: center;\n",
       "        border: 1px  black solid !important;\n",
       "        color: black !important;\n",
       "    }\n",
       "\n",
       "    th, td {\n",
       "        padding: 5px;\n",
       "    }\n",
       "\n",
       "    </style>\n",
       "    \n",
       "            <table>\n",
       "                \n",
       "            <tr>\n",
       "                <td style=\"background-color:cyan\">Observation</td>\n",
       "            <tr>\n",
       "        \n",
       "            <tr>\n",
       "                <td style=\"background-color:#99ff99\">Band</td>\n",
       "            <tr>\n",
       "        \n",
       "            <tr>\n",
       "                <td style=\"background-color:#eeccff\">Asset</td>\n",
       "            <tr>\n",
       "        \n",
       "            <tr>\n",
       "                <td style=\"background-color:#ffe066\">Member</td>\n",
       "            <tr>\n",
       "        \n",
       "            </table>\n",
       "\n",
       "            <body>\n",
       "                <h2>Unnamed Table</h2>\n",
       "                <table>\n",
       "                    <tr><td style=\"background-color:lightgrey\"></td><td style=\"background-color:lightgrey\">A</td><td style=\"background-color:lightgrey\">B</td><td style=\"background-color:lightgrey\">C</td><td style=\"background-color:lightgrey\">D</td><td style=\"background-color:lightgrey\">E</td><td style=\"background-color:lightgrey\">F</td><td style=\"background-color:lightgrey\">G</td><td style=\"background-color:lightgrey\">H</td><td style=\"background-color:lightgrey\">I</td><td style=\"background-color:lightgrey\">J</td><td style=\"background-color:lightgrey\">K</td></tr>\n",
       "<tr><td style=\"background-color:lightgrey\">1</td><td style=\"background-color:white\"></td><td style=\"background-color:white\"></td><td style=\"background-color:white\"></td><td style=\"background-color:white\"></td><td style=\"background-color:white\"></td><td style=\"background-color:white\"></td><td style=\"background-color:white\"></td><td style=\"background-color:white\"></td><td style=\"background-color:white\"></td><td style=\"background-color:white\"></td><td style=\"background-color:white\"></td></tr>\n",
       "<tr><td style=\"background-color:lightgrey\">2</td><td style=\"background-color:white\"></td><td style=\"background-color:white\"></td><td style=\"background-color:#eeccff\">Houses</td><td style=\"background-color:#eeccff\">Cars</td><td style=\"background-color:#eeccff\">Boats</td><td style=\"background-color:white\"></td><td style=\"background-color:white\"></td><td style=\"background-color:white\"></td><td style=\"background-color:#eeccff\">Houses</td><td style=\"background-color:#eeccff\">Cars</td><td style=\"background-color:#eeccff\">Boats</td></tr>\n",
       "<tr><td style=\"background-color:lightgrey\">3</td><td style=\"background-color:#99ff99\">Beatles</td><td style=\"background-color:white\"></td><td style=\"background-color:white\"></td><td style=\"background-color:white\"></td><td style=\"background-color:white\"></td><td style=\"background-color:white\"></td><td style=\"background-color:#99ff99\">Rolling Stones</td><td style=\"background-color:white\"></td><td style=\"background-color:white\"></td><td style=\"background-color:white\"></td><td style=\"background-color:white\"></td></tr>\n",
       "<tr><td style=\"background-color:lightgrey\">4</td><td style=\"background-color:white\"></td><td style=\"background-color:#ffe066\">John</td><td style=\"background-color:cyan\">1</td><td style=\"background-color:cyan\">5</td><td style=\"background-color:cyan\">9</td><td style=\"background-color:white\"></td><td style=\"background-color:white\"></td><td style=\"background-color:#ffe066\">Keith</td><td style=\"background-color:cyan\">2</td><td style=\"background-color:cyan\">6</td><td style=\"background-color:cyan\">10</td></tr>\n",
       "<tr><td style=\"background-color:lightgrey\">5</td><td style=\"background-color:white\"></td><td style=\"background-color:#ffe066\">Paul</td><td style=\"background-color:cyan\">2</td><td style=\"background-color:cyan\">6</td><td style=\"background-color:cyan\">10</td><td style=\"background-color:white\"></td><td style=\"background-color:white\"></td><td style=\"background-color:#ffe066\">Mick</td><td style=\"background-color:cyan\">3</td><td style=\"background-color:cyan\">7</td><td style=\"background-color:cyan\">11</td></tr>\n",
       "<tr><td style=\"background-color:lightgrey\">6</td><td style=\"background-color:white\"></td><td style=\"background-color:#ffe066\">George</td><td style=\"background-color:cyan\">2</td><td style=\"background-color:cyan\">7</td><td style=\"background-color:cyan\">11</td><td style=\"background-color:white\"></td><td style=\"background-color:white\"></td><td style=\"background-color:#ffe066\">Charlie</td><td style=\"background-color:cyan\">3</td><td style=\"background-color:cyan\">8</td><td style=\"background-color:cyan\">12</td></tr>\n",
       "<tr><td style=\"background-color:lightgrey\">7</td><td style=\"background-color:white\"></td><td style=\"background-color:#ffe066\">Ringo</td><td style=\"background-color:cyan\">4</td><td style=\"background-color:cyan\">8</td><td style=\"background-color:cyan\">12</td><td style=\"background-color:white\"></td><td style=\"background-color:white\"></td><td style=\"background-color:#ffe066\">Ronnie</td><td style=\"background-color:cyan\">5</td><td style=\"background-color:cyan\">9</td><td style=\"background-color:cyan\">13</td></tr>\n",
       "<tr><td style=\"background-color:lightgrey\">8</td><td style=\"background-color:white\"></td><td style=\"background-color:white\"></td><td style=\"background-color:white\"></td><td style=\"background-color:white\"></td><td style=\"background-color:white\"></td><td style=\"background-color:white\"></td><td style=\"background-color:white\"></td><td style=\"background-color:white\"></td><td style=\"background-color:white\"></td><td style=\"background-color:white\"></td><td style=\"background-color:white\"></td></tr>\n",
       "\n",
       "                </table>\n",
       "            </body>\n",
       "            <br>\n",
       "        </html>\n",
       "    "
      ],
      "text/plain": [
       "<IPython.core.display.HTML object>"
      ]
     },
     "metadata": {},
     "output_type": "display_data"
    },
    {
     "data": {
      "text/html": [
       "<table>\n",
       "<thead>\n",
       "<tr><th style=\"text-align: right;\">  Observation</th><th>Band          </th><th>Asset  </th><th>Member  </th><th>Is a Beatles Singer  </th></tr>\n",
       "</thead>\n",
       "<tbody>\n",
       "<tr><td style=\"text-align: right;\">            1</td><td>Beatles       </td><td>Houses </td><td>John    </td><td>True                 </td></tr>\n",
       "<tr><td style=\"text-align: right;\">            5</td><td>Beatles       </td><td>Cars   </td><td>John    </td><td>True                 </td></tr>\n",
       "<tr><td style=\"text-align: right;\">            9</td><td>Beatles       </td><td>Boats  </td><td>John    </td><td>True                 </td></tr>\n",
       "<tr><td style=\"text-align: right;\">            2</td><td>Rolling Stones</td><td>Houses </td><td>Keith   </td><td>False                </td></tr>\n",
       "<tr><td style=\"text-align: right;\">            6</td><td>Rolling Stones</td><td>Cars   </td><td>Keith   </td><td>False                </td></tr>\n",
       "<tr><td style=\"text-align: right;\">           10</td><td>Rolling Stones</td><td>Boats  </td><td>Keith   </td><td>False                </td></tr>\n",
       "<tr><td style=\"text-align: right;\">            2</td><td>Beatles       </td><td>Houses </td><td>Paul    </td><td>True                 </td></tr>\n",
       "<tr><td style=\"text-align: right;\">            6</td><td>Beatles       </td><td>Cars   </td><td>Paul    </td><td>True                 </td></tr>\n",
       "<tr><td style=\"text-align: right;\">           10</td><td>Beatles       </td><td>Boats  </td><td>Paul    </td><td>True                 </td></tr>\n",
       "<tr><td style=\"text-align: right;\">            3</td><td>Rolling Stones</td><td>Houses </td><td>Mick    </td><td>False                </td></tr>\n",
       "<tr><td style=\"text-align: right;\">            7</td><td>Rolling Stones</td><td>Cars   </td><td>Mick    </td><td>False                </td></tr>\n",
       "<tr><td style=\"text-align: right;\">           11</td><td>Rolling Stones</td><td>Boats  </td><td>Mick    </td><td>False                </td></tr>\n",
       "<tr><td style=\"text-align: right;\">            2</td><td>Beatles       </td><td>Houses </td><td>George  </td><td>False                </td></tr>\n",
       "<tr><td style=\"text-align: right;\">            7</td><td>Beatles       </td><td>Cars   </td><td>George  </td><td>False                </td></tr>\n",
       "<tr><td style=\"text-align: right;\">           11</td><td>Beatles       </td><td>Boats  </td><td>George  </td><td>False                </td></tr>\n",
       "<tr><td style=\"text-align: right;\">            3</td><td>Rolling Stones</td><td>Houses </td><td>Charlie </td><td>False                </td></tr>\n",
       "<tr><td style=\"text-align: right;\">            8</td><td>Rolling Stones</td><td>Cars   </td><td>Charlie </td><td>False                </td></tr>\n",
       "<tr><td style=\"text-align: right;\">           12</td><td>Rolling Stones</td><td>Boats  </td><td>Charlie </td><td>False                </td></tr>\n",
       "<tr><td style=\"text-align: right;\">            4</td><td>Beatles       </td><td>Houses </td><td>Ringo   </td><td>False                </td></tr>\n",
       "<tr><td style=\"text-align: right;\">            8</td><td>Beatles       </td><td>Cars   </td><td>Ringo   </td><td>False                </td></tr>\n",
       "<tr><td style=\"text-align: right;\">           12</td><td>Beatles       </td><td>Boats  </td><td>Ringo   </td><td>False                </td></tr>\n",
       "<tr><td style=\"text-align: right;\">            5</td><td>Rolling Stones</td><td>Houses </td><td>Ronnie  </td><td>False                </td></tr>\n",
       "<tr><td style=\"text-align: right;\">            9</td><td>Rolling Stones</td><td>Cars   </td><td>Ronnie  </td><td>False                </td></tr>\n",
       "<tr><td style=\"text-align: right;\">           13</td><td>Rolling Stones</td><td>Boats  </td><td>Ronnie  </td><td>False                </td></tr>\n",
       "</tbody>\n",
       "</table>"
      ],
      "text/plain": [
       "'<table>\\n<thead>\\n<tr><th style=\"text-align: right;\">  Observation</th><th>Band          </th><th>Asset  </th><th>Member  </th><th>Is a Beatles Singer  </th></tr>\\n</thead>\\n<tbody>\\n<tr><td style=\"text-align: right;\">            1</td><td>Beatles       </td><td>Houses </td><td>John    </td><td>True                 </td></tr>\\n<tr><td style=\"text-align: right;\">            5</td><td>Beatles       </td><td>Cars   </td><td>John    </td><td>True                 </td></tr>\\n<tr><td style=\"text-align: right;\">            9</td><td>Beatles       </td><td>Boats  </td><td>John    </td><td>True                 </td></tr>\\n<tr><td style=\"text-align: right;\">            2</td><td>Rolling Stones</td><td>Houses </td><td>Keith   </td><td>False                </td></tr>\\n<tr><td style=\"text-align: right;\">            6</td><td>Rolling Stones</td><td>Cars   </td><td>Keith   </td><td>False                </td></tr>\\n<tr><td style=\"text-align: right;\">           10</td><td>Rolling Stones</td><td>Boats  </td><td>Keith   </td><td>False                </td></tr>\\n<tr><td style=\"text-align: right;\">            2</td><td>Beatles       </td><td>Houses </td><td>Paul    </td><td>True                 </td></tr>\\n<tr><td style=\"text-align: right;\">            6</td><td>Beatles       </td><td>Cars   </td><td>Paul    </td><td>True                 </td></tr>\\n<tr><td style=\"text-align: right;\">           10</td><td>Beatles       </td><td>Boats  </td><td>Paul    </td><td>True                 </td></tr>\\n<tr><td style=\"text-align: right;\">            3</td><td>Rolling Stones</td><td>Houses </td><td>Mick    </td><td>False                </td></tr>\\n<tr><td style=\"text-align: right;\">            7</td><td>Rolling Stones</td><td>Cars   </td><td>Mick    </td><td>False                </td></tr>\\n<tr><td style=\"text-align: right;\">           11</td><td>Rolling Stones</td><td>Boats  </td><td>Mick    </td><td>False                </td></tr>\\n<tr><td style=\"text-align: right;\">            2</td><td>Beatles       </td><td>Houses </td><td>George  </td><td>False                </td></tr>\\n<tr><td style=\"text-align: right;\">            7</td><td>Beatles       </td><td>Cars   </td><td>George  </td><td>False                </td></tr>\\n<tr><td style=\"text-align: right;\">           11</td><td>Beatles       </td><td>Boats  </td><td>George  </td><td>False                </td></tr>\\n<tr><td style=\"text-align: right;\">            3</td><td>Rolling Stones</td><td>Houses </td><td>Charlie </td><td>False                </td></tr>\\n<tr><td style=\"text-align: right;\">            8</td><td>Rolling Stones</td><td>Cars   </td><td>Charlie </td><td>False                </td></tr>\\n<tr><td style=\"text-align: right;\">           12</td><td>Rolling Stones</td><td>Boats  </td><td>Charlie </td><td>False                </td></tr>\\n<tr><td style=\"text-align: right;\">            4</td><td>Beatles       </td><td>Houses </td><td>Ringo   </td><td>False                </td></tr>\\n<tr><td style=\"text-align: right;\">            8</td><td>Beatles       </td><td>Cars   </td><td>Ringo   </td><td>False                </td></tr>\\n<tr><td style=\"text-align: right;\">           12</td><td>Beatles       </td><td>Boats  </td><td>Ringo   </td><td>False                </td></tr>\\n<tr><td style=\"text-align: right;\">            5</td><td>Rolling Stones</td><td>Houses </td><td>Ronnie  </td><td>False                </td></tr>\\n<tr><td style=\"text-align: right;\">            9</td><td>Rolling Stones</td><td>Cars   </td><td>Ronnie  </td><td>False                </td></tr>\\n<tr><td style=\"text-align: right;\">           13</td><td>Rolling Stones</td><td>Boats  </td><td>Ronnie  </td><td>False                </td></tr>\\n</tbody>\\n</table>'"
      ]
     },
     "metadata": {},
     "output_type": "display_data"
    },
    {
     "name": "stdout",
     "output_type": "stream",
     "text": [
      "\n"
     ]
    }
   ],
   "source": [
    "from typing import Dict\n",
    "from datachef import acquire, preview, CsvSelectable, filters, TidyData, Column, right, left, below\n",
    "\n",
    "table: CsvSelectable = acquire.csv.http(\"https://raw.githubusercontent.com/mikeAdamss/datachef/main/tests/fixtures/csv/bands-wide.csv\")\n",
    "\n",
    "def is_beatles_singer(line: Dict[str, str]):\n",
    "    \"\"\"\n",
    "    Returns \"True\" as string if member is John or Paul and band\n",
    "    is beatles, else \"False\" as string.\n",
    "    \"\"\"\n",
    "    if line[\"Member\"] in [\"John\", \"Paul\"] and line[\"Band\"] == \"Beatles\":\n",
    "        return \"True\"\n",
    "    return \"False\"\n",
    "\n",
    "observations = table.filter(filters.is_numeric).label_as(\"Observation\")\n",
    "bands = (table.excel_ref(\"A3\") | table.excel_ref(\"G3\")).label_as(\"Band\")\n",
    "assets = table.excel_ref('2').is_not_blank().label_as(\"Asset\")\n",
    "members = (table.excel_ref(\"B\") | table.excel_ref(\"H\")).is_not_blank().label_as(\"Member\")\n",
    "preview(observations, bands, assets, members)\n",
    "\n",
    "tidy_data = TidyData(\n",
    "    observations,\n",
    "    Column(bands.finds_observations_closest(right)),\n",
    "    Column(assets.finds_observations_directly(below)),\n",
    "    Column(members.finds_observations_directly(right)),\n",
    "    Column.horizontal_condition(\"Is a Beatles Singer\", is_beatles_singer)\n",
    ")\n",
    "print(tidy_data)"
   ]
  },
  {
   "attachments": {},
   "cell_type": "markdown",
   "metadata": {},
   "source": [
    "## A Note On Design\n",
    "\n",
    "There is not (and never will be) any version of a \"vertical condition\" in datachef.\n",
    "\n",
    "When working with datasets of unknown length we try to always support (or at least leave open the door to) the concept of data streaming, a horizontal condition meets that criteria as it works within the context of a single \"tidy row\" of \"tidy data\" so can be iterated, streamed or potentially even distributed for processing relatively easily - none of which works if row 5 is informed by row 4 etc.\n",
    "\n",
    "If you find yourself needing to lookup vertically into your extracted columns:\n",
    "\n",
    "- (a) Stop and think about it, is there another way to skin this cat?\n",
    "- (b) Are you really trying to create tidy data or are you trying to create something else?\n",
    "- (c) If you need to - then just shunt it into pandas for post processing, you're working on a data series and that's not a paradime datachef was built to support."
   ]
  }
 ],
 "metadata": {
  "kernelspec": {
   "display_name": "datachef-hNSMaw3h-py3.9",
   "language": "python",
   "name": "python3"
  },
  "language_info": {
   "codemirror_mode": {
    "name": "ipython",
    "version": 3
   },
   "file_extension": ".py",
   "mimetype": "text/x-python",
   "name": "python",
   "nbconvert_exporter": "python",
   "pygments_lexer": "ipython3",
   "version": "3.9.7"
  },
  "orig_nbformat": 4
 },
 "nbformat": 4,
 "nbformat_minor": 2
}
