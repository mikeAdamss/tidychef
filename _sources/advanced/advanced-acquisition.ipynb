{
 "cells": [
  {
   "attachments": {},
   "cell_type": "markdown",
   "metadata": {},
   "source": [
    "# Advanced Acquisition\n",
    "\n",
    "This section explains some of the more advanced things you can do with the `acquire` module.\n"
   ]
  },
  {
   "attachments": {},
   "cell_type": "markdown",
   "metadata": {},
   "source": [
    "## pre_hook=\n",
    "\n",
    "A pre hook is an optional keyword of type callable that you can provide to any `acquire` methods that:\n",
    "\n",
    "- does something with the argument you pass as source\n",
    "- passes back a variable that will be used as the new source source by \"acquire\".\n",
    "\n",
    "The code is [here](https://github.com/mikeAdamss/tidychef/blob/ece2764eba4d7b19fa3817de75c0fc0e71b6de68/tidychef/acquire/main.py#L38) and is not complicated (it's literally two lines).\n",
    "\n",
    "It is however a _very useful_ two lines, examples follow:"
   ]
  },
  {
   "attachments": {},
   "cell_type": "markdown",
   "metadata": {},
   "source": [
    "### Example Scenario\n",
    "\n",
    "For our example scenario we're going to use a **url to a json api** (a tiny one we've made ourselves) as a source.\n",
    "\n",
    "You can view the contents of the api [here](https://raw.githubusercontent.com/mikeAdamss/tidychef/main/tests/fixtures/json/api.json).\n",
    "\n",
    "Our requirements are as follows:\n",
    "\n",
    "- We need to get the url of our source from that api.\n",
    "- The api for the json api will **not** change.\n",
    "- The urls listed **will** change.\n",
    "- We want to always acquire the url with \"bands-wide\" in the path, there will always be one but the number of other urls and its positioning within that list will change.\n",
    "- We want an exception if there's anything other than exactly one \"bands-wide\" url.\n",
    "- We want that \"bands-wide\" url to be passed along to the `acquire` function and used to create our selectable.\n",
    "\n",
    "Example follows:"
   ]
  },
  {
   "cell_type": "code",
   "execution_count": null,
   "metadata": {},
   "outputs": [],
   "source": [
    "import requests\n",
    "\n",
    "# First we'll create a simple pre hook that meets our requirements.\n",
    "def select_band_csv(source: str) -> str:\n",
    "    \"\"\"\n",
    "    pre hook function to get the correct url from a list of urls\n",
    "    provided by a json api.\n",
    "    \"\"\"\n",
    "    r = requests.get(source)\n",
    "    url_dict= r.json()\n",
    "    url_wanted = [x for x in url_dict[\"datasets\"] if \"bands-wide\" in x]\n",
    "    assert len(url_wanted) == 1\n",
    "    return url_wanted[0]\n",
    "\n",
    "# Now let's try it out\n",
    "select_band_csv(\"https://raw.githubusercontent.com/mikeAdamss/tidychef/main/tests/fixtures/json/api.json\")"
   ]
  },
  {
   "attachments": {},
   "cell_type": "markdown",
   "metadata": {},
   "source": [
    "And now let's see how we use this pre hook as a keyword argument to the acquire module."
   ]
  },
  {
   "cell_type": "code",
   "execution_count": null,
   "metadata": {},
   "outputs": [],
   "source": [
    "from tidychef import acquire, preview\n",
    "from tidychef.selection import CsvSelectable\n",
    "\n",
    "table: CsvSelectable = acquire.csv.http(\n",
    "    \"https://raw.githubusercontent.com/mikeAdamss/tidychef/main/tests/fixtures/json/api.json\",\n",
    "    pre_hook=select_band_csv)\n",
    "\n",
    "preview(table)\n"
   ]
  },
  {
   "attachments": {},
   "cell_type": "markdown",
   "metadata": {},
   "source": [
    "And voila! We're dynamically selecting the csv we want from the options presented by a json api."
   ]
  },
  {
   "attachments": {},
   "cell_type": "markdown",
   "metadata": {},
   "source": [
    "## post_hook=\n",
    "\n",
    "The post hook follows a similar concept but **is executed after the data is acquired** so operates on whatever is being returned by acquire.\n",
    "\n",
    "For example:\n",
    "\n",
    "- For `acquire.csv.local()` it operates against a single `CsvSelectable` object.\n",
    "- For `acquire.xlsx.local()` it operates against a **list** of `XlsxSelectable` objects.\n",
    "\n",
    "In all cases whatever your `post_hook` returns is what acquire will return.\n",
    "\n",
    "As with the pre hook the implementation is nice and simple (see [these two lines](https://github.com/mikeAdamss/tidychef/blob/ece2764eba4d7b19fa3817de75c0fc0e71b6de68/tidychef/acquire/main.py#L44)).\n",
    "\n",
    "For this example we'll be a little more ambitious and use a callable class.\n",
    "\n",
    "`NamedSheets` takes a list of table/tab/sheet names that we want and will filter out those we do not want as part of the acquisition function."
   ]
  },
  {
   "cell_type": "code",
   "execution_count": null,
   "metadata": {},
   "outputs": [],
   "source": [
    "from dataclasses import dataclass\n",
    "from typing import List\n",
    "\n",
    "from tidychef.selection import XlsxSelectable\n",
    "\n",
    "@dataclass\n",
    "class NamedSheets:\n",
    "     sheet_names: List[str]\n",
    "\n",
    "     def __call__(self, sheets: List[XlsxSelectable]):\n",
    "          return [x for x in sheets if x.name in self.sheet_names]\n",
    "          \n",
    "tables: List[XlsxSelectable] = acquire.xlsx.http(\n",
    "     \"https://github.com/mikeAdamss/tidychef/raw/main/tests/fixtures/xlsx/ons-oic.xlsx\",\n",
    "     post_hook=NamedSheets([\"Table 3a\", \"Table 3b\"]))\n",
    "\n",
    "# To show it worked, we'll just iterate and print the table names\n",
    "for table in tables:\n",
    "     print(table.name)"
   ]
  },
  {
   "attachments": {},
   "cell_type": "markdown",
   "metadata": {},
   "source": [
    "## A Brief Explanation Of Selectables\n",
    "\n",
    "There will be more on this in the next section, but a tidychef `Selectable` is the primary class we use for selecting cells."
   ]
  },
  {
   "attachments": {},
   "cell_type": "markdown",
   "metadata": {},
   "source": [
    "| Type | Description |\n",
    "| ------------------------------| -------------------|\n",
    "| `tidychef.selection.selectable.Selectable` | The common class **all** selectables inherit from. This is where the selection methods all tabulated sources have in common reside |\n",
    "| `tidychef.selection.csv.csv.CsvSelectable` | Extends `Selectable` so we can add methods that only make sense in the context of processing csv source data |\n",
    "| `tidychef.selection.xls.xls.XlsSelectable` | Extends `Selectable` so we can add methods that only make sense in the context of processing xls source data |\n",
    "| `tidychef.selection.xlsx.xlsx.XlsxSelectable` | Extends `Selectable` so we can add methods that only make sense in the context of processing xlsx source data |\n",
    "\n",
    "As an example, imagine a colourful xlsx file - would it not be potentially useful to create a cell colour based selector? Possibly yes, but such a selector would uses **xlsx only properties** and as such would make no sense and almost certainly not work when called against data ingested from other data formats. The above pattern allows us to create such a method but only expose it to users using xlsx sources.\n",
    "\n",
    "In other words, **selectables enable context appropriate methods**."
   ]
  },
  {
   "attachments": {},
   "cell_type": "markdown",
   "metadata": {},
   "source": [
    "### Using the acquire(selectable=) keyword.\n",
    "\n",
    "The `acquire` function allows you to overrdie the type of selectable class the data is populating via the `selectable=` keyword.\n",
    "\n",
    "As an (entirely specious and rather pointless) example, lets overwrite the Selectable for `acquire.xlsx.http()` such that it returns us a `XlsSelectable` rather than the `XlsxSelectable` it usually does."
   ]
  },
  {
   "cell_type": "code",
   "execution_count": null,
   "metadata": {},
   "outputs": [],
   "source": [
    "from typing import List\n",
    "\n",
    "from tidychef import acquire\n",
    "from tidychef.selection import XlsSelectable\n",
    "\n",
    "tables: List[XlsSelectable] = acquire.xlsx.http(\"https://github.com/mikeAdamss/tidychef/raw/main/tests/fixtures/xlsx/ons-oic.xlsx\",\n",
    "                                                selectable=XlsSelectable)\n",
    "\n",
    "print(type(tables[0]))"
   ]
  },
  {
   "attachments": {},
   "cell_type": "markdown",
   "metadata": {},
   "source": [
    "...but... why would you want to do this?\n",
    "\n",
    "Because `Selectables` are designed to be easily extended with powerful custom behaviours and methods, and you **don't want to have to create a new acquire mechanisms** every time you wish to do so.\n",
    "\n",
    "Don't worry, this technique will be detailed with examples in the next section, for our purposes here you just need to understand _how_ you override the `Selectable` class during data acquistion."
   ]
  }
 ],
 "metadata": {
  "kernelspec": {
   "display_name": "Python 3",
   "language": "python",
   "name": "python3"
  },
  "language_info": {
   "codemirror_mode": {
    "name": "ipython",
    "version": 3
   },
   "file_extension": ".py",
   "mimetype": "text/x-python",
   "name": "python",
   "nbconvert_exporter": "python",
   "pygments_lexer": "ipython3",
   "version": "3.9.7"
  },
  "widgets": {
   "application/vnd.jupyter.widget-state+json": {
    "state": {},
    "version_major": 2,
    "version_minor": 0
   }
  }
 },
 "nbformat": 4,
 "nbformat_minor": 4
}
