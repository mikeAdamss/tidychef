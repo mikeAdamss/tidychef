{
 "cells": [
  {
   "attachments": {},
   "cell_type": "markdown",
   "metadata": {},
   "source": [
    "# Household Debt Inequalities\n",
    "\n"
   ]
  },
  {
   "attachments": {},
   "cell_type": "markdown",
   "metadata": {},
   "source": [
    "## Source\n",
    "\n",
    "For this example we're extracting the tables 11 and 12 from an xls dataset dealing with household debt inequalities.\n",
    "\n",
    "The example highlights using iteration to join multiple tables into a coherent whole."
   ]
  },
  {
   "cell_type": "code",
   "execution_count": null,
   "metadata": {},
   "outputs": [],
   "source": [
    "from typing import List\n",
    "from tidychef import acquire, preview\n",
    "from tidychef.selection import XlsSelectable\n",
    "\n",
    "tables: List[XlsSelectable] = acquire.xls.http(\"https://raw.githubusercontent.com/mikeAdamss/tidychef/main/tests/fixtures/xls/householddebtdataset.xls\", tables=\"Table 11|Table 12\")\n",
    "for table in tables:\n",
    "    preview(table)"
   ]
  },
  {
   "attachments": {},
   "cell_type": "markdown",
   "metadata": {},
   "source": [
    "From an xls source which can be [downloaded here](https://raw.githubusercontent.com/mikeAdamss/tidychef/main/tests/fixtures/xls/householddebtdataset.xls)."
   ]
  },
  {
   "attachments": {},
   "cell_type": "markdown",
   "metadata": {},
   "source": [
    "## Requirements\n",
    "\n",
    "- We're going to extract \"Period\" from the obvious dates in column A.\n",
    "- We're just going to call the principle field indicated by column A \"Category\".\n",
    "- We're going to take \"Great Britain\" as a constant for a column named \"Area\".\n",
    "- We're going to take the headers on row 4 as \"Financial Liability\"\n",
    "- As an additional exercise we're going to use a horizontal condition to create a \"Unit Of Measure\" column to be one of \"Pounds Sterling\", \"Percent\", \"Ratio\" or \"Number\" depending on the category.\n",
    "- We're going to prefix \"Category\" as extracted from table 12 with \"Education: \" to make the data a little easier to understand.\n",
    "- We're going to join both tables into a single tidy data output.\n",
    "- We're going to de-duplicate with a printout of what we've removed - it should be the contents of row 14 as its duplicated on both tables.\n",
    "- We'll strip trailing \".0\"s from the observations (which we'll call \"Value\" this time)."
   ]
  },
  {
   "cell_type": "code",
   "execution_count": null,
   "metadata": {},
   "outputs": [],
   "source": [
    "from typing import Dict, List\n",
    "from tidychef import acquire, preview\n",
    "from tidychef.direction import down, right, left\n",
    "from tidychef.output import Column, TidyData\n",
    "from tidychef.selection import XlsSelectable\n",
    "\n",
    "def unit_of_measure(line: Dict[str, str]) -> str:\n",
    "    \"\"\"\n",
    "    Function to define unit of measure based on Financial Liability\n",
    "    \"\"\"\n",
    "    cat = line[\"Category\"]\n",
    "    if \"(%)\" in cat:\n",
    "        return \"Percent\"\n",
    "    elif \"(£)\" in cat:\n",
    "        return \"Pounds Sterling\"\n",
    "    elif \"Frequency\" in cat:\n",
    "        return \"Number\"\n",
    "    elif \"Ratio\" in cat:\n",
    "        return \"Ratio\"\n",
    "    else:\n",
    "        raise Exception(f\"Cannot identify unit of measure from: {cat}\")\n",
    "\n",
    "tables: List[XlsSelectable] = acquire.xls.http(\"https://raw.githubusercontent.com/mikeAdamss/tidychef/main/tests/fixtures/xls/householddebtdataset.xls\", tables=\"Table 11|Table 12\")\n",
    "\n",
    "all_tidy_data = []\n",
    "for table in tables:\n",
    "    area = table.excel_ref(\"A\").re(\"Great Britain\").assert_one().label_as(\"Area\")\n",
    "    period = table.excel_ref(\"A3\").fill(down).re(\".*[0-9]{4}\").assert_len(2).label_as(\"Period\")\n",
    "    category = area.shift(down).fill(right).label_as(\"Category\")\n",
    "    observations = category.fill(down).is_not_blank().label_as(\"Value\")\n",
    "    financial_liability = (observations.fill(left) - observations).label_as(\"Financial Liability\")\n",
    "    preview(observations, area, period, category, financial_liability)\n",
    "\n",
    "    tidy_data = TidyData(\n",
    "        observations,\n",
    "        Column.constant(\"Area\", area.lone_value()),\n",
    "        Column(period.finds_observations_closest(down)),\n",
    "        Column(category.finds_observations_directly(down), apply=lambda x: \"Eduction: \"+x if table.name == \"Table 12\" else x),\n",
    "        Column(financial_liability.finds_observations_directly(right)),\n",
    "        Column.horizontal_condition(\"Unit Of Measure\", unit_of_measure),\n",
    "        obs_apply=lambda x: x.replace(\".0\", \"\")\n",
    "    )\n",
    "\n",
    "    all_tidy_data.append(tidy_data)\n",
    "\n",
    "final_tidy_data = TidyData.from_tidy_list(all_tidy_data)\n",
    "final_tidy_data.drop_duplicates(print_duplicates=True)\n",
    "final_tidy_data.to_csv(\"household-debt.csv\")"
   ]
  },
  {
   "attachments": {},
   "cell_type": "markdown",
   "metadata": {},
   "source": [
    "# Outputs\n",
    "\n",
    "The tidy data can be [downloaded here](./household-debt.csv) and a full inline preview of the tidydata generated is shown below for those people who'd prefer to scroll."
   ]
  },
  {
   "cell_type": "code",
   "execution_count": null,
   "metadata": {},
   "outputs": [],
   "source": [
    "print(final_tidy_data)"
   ]
  }
 ],
 "metadata": {
  "kernelspec": {
   "display_name": "datachef-hNSMaw3h-py3.9",
   "language": "python",
   "name": "python3"
  },
  "language_info": {
   "codemirror_mode": {
    "name": "ipython",
    "version": 3
   },
   "file_extension": ".py",
   "mimetype": "text/x-python",
   "name": "python",
   "nbconvert_exporter": "python",
   "pygments_lexer": "ipython3",
   "version": "3.7.13"
  },
  "orig_nbformat": 4
 },
 "nbformat": 4,
 "nbformat_minor": 2
}
