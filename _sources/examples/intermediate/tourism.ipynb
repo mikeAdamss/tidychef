{
 "cells": [
  {
   "attachments": {},
   "cell_type": "markdown",
   "metadata": {},
   "source": [
    "# Tourism\n",
    "\n",
    "This example highlights how you can actually use a combination of deliberately extracting blank cells along with horizontal conditions to unpick complex (bad) table structures."
   ]
  },
  {
   "attachments": {},
   "cell_type": "markdown",
   "metadata": {},
   "source": [
    "## Source\n",
    "\n",
    "For this example we're extracting the table3 from an xlsx dataset dealing with travel and tourism."
   ]
  },
  {
   "cell_type": "code",
   "execution_count": null,
   "metadata": {},
   "outputs": [],
   "source": [
    "from datachef import acquire, preview\n",
    "from datachef.selection import XlsxSelectable\n",
    "\n",
    "table: XlsxSelectable = acquire.xlsx.http(\"https://raw.githubusercontent.com/mikeAdamss/datachef/main/tests/fixtures/xlsx/tourism.xlsx\", tables=\"Table 3\")\n",
    "preview(table, bounded=\"A1:L11\")"
   ]
  },
  {
   "attachments": {},
   "cell_type": "markdown",
   "metadata": {},
   "source": [
    "# Stage 1\n",
    "\n",
    "When using datachef you typically don't need to have interim data transform stages, but to better explain this approach we'll do something similar here.\n",
    "\n",
    "We're going to create a `TidyData` class with just observations and two interim columns formed from rows  4 and 5.\n",
    "\n",
    "When we write the full recipe (later) **we'll do this all in one**, this step by step approach is purely to better explain the technique.\n",
    "\n",
    "Here's the logic:\n",
    "\n",
    "- Select row 4 cells minus the \"of which\" cells so we can use a closest relationship to create tc1 (temp country 1)\n",
    "- Select most of row 5 as as tc2 (temp country 2).\n",
    "- Combine the columns into \"Country\" ready for final output.\n",
    "\n",
    "We'll preview this \"half way\" table to better explain the concept. When we do this for real we'll be dropping the temporary columns as part of the recipe."
   ]
  },
  {
   "cell_type": "code",
   "execution_count": null,
   "metadata": {},
   "outputs": [],
   "source": [
    "from typing import Dict\n",
    "from datachef import acquire, preview\n",
    "from datachef.direction import up, down, right\n",
    "from datachef.output import Column, TidyData\n",
    "from datachef.selection import XlsxSelectable\n",
    "\n",
    "table: XlsxSelectable = acquire.xlsx.http(\"https://raw.githubusercontent.com/mikeAdamss/datachef/main/tests/fixtures/xlsx/tourism.xlsx\", tables=\"Table 3\")\n",
    "\n",
    "anchor = table.re(\"All Visits\").assert_one().label_as(\"Anchor Cell\")\n",
    "\n",
    "temp_country_1 = (anchor.shift(down).expand(right) - anchor.shift(down(2)).expand(right).is_not_blank().shift(up)).label_as(\"tc1\")\n",
    "temp_country_2 = anchor.shift(down(2)).expand(right).label_as(\"tc2\")\n",
    "observations = temp_country_2.shift(down(2)).expand(down).is_not_blank().label_as(\"Value\")\n",
    "\n",
    "preview(anchor, observations, temp_country_1, temp_country_2, bounded=\"A1:L11\")\n",
    "\n",
    "def combine(line: Dict[str, str]) -> str:\n",
    "    # If temp column2 is populated combine both columns\n",
    "    # around \" - \".\n",
    "    # If both are blank its All Countries.\n",
    "    # Else just return temp column 1 value\n",
    "    if len(line[\"tc2\"]) > 0:\n",
    "        return line[\"tc1\"] + \" - \" + line[\"tc2\"]\n",
    "    if len(line[\"tc1\"]) == 0 and len(line[\"tc2\"]) == 0:\n",
    "        return \"All Countries\"\n",
    "    return line[\"tc1\"]\n",
    "\n",
    "\n",
    "tidy_data = TidyData(\n",
    "    observations,\n",
    "    Column(temp_country_1.finds_observations_closest(right)),\n",
    "    Column(temp_country_2.finds_observations_directly(down)),\n",
    "    Column.horizontal_condition(\"Country\", combine)\n",
    ")\n",
    "tidy_data.to_csv(\"interim-tourism.csv\")"
   ]
  },
  {
   "attachments": {},
   "cell_type": "markdown",
   "metadata": {},
   "source": [
    "Given I'd rather not fill the page up with a huge table I've included a truncated screenshot below, you can also view the interim table [here](./interim-tourism.csv). If you look at the \"Country\" column you'll notice it's fully and correctly populated.\n",
    "\n",
    "![](./tourism-screenshot.png)\n",
    "\n",
    "Now that we've explained unpicking that nasty visual relationship, let's put it together with the usual bag of tricks.\n",
    "\n",
    "## Requirements\n",
    "\n",
    "- Rows 4 and 5 combines as \"Country\"\n",
    "- Column A as \"Year\"\n",
    "- Column B as \"Month\". Im **not** doing to split off the markers as this is already quite a complex example, but you;d do so via the same technique documented for handling data markers.\n",
    "- Row 6 as \"Seasonal Adjustment\"\n"
   ]
  },
  {
   "cell_type": "code",
   "execution_count": null,
   "metadata": {},
   "outputs": [],
   "source": [
    "from typing import Dict, List\n",
    "from datachef import acquire, preview\n",
    "from datachef.direction import up, down, left, right\n",
    "from datachef.output import Column, TidyData\n",
    "from datachef.selection import XlsxSelectable\n",
    "\n",
    "tables: List[XlsxSelectable] = acquire.xlsx.http(\"https://raw.githubusercontent.com/mikeAdamss/datachef/main/tests/fixtures/xlsx/tourism.xlsx\")\n",
    "table = tables[3]\n",
    "\n",
    "anchor = table.re(\"All Visits\").assert_one().label_as(\"Anchor Cell\")\n",
    "\n",
    "temp_country_1 = (anchor.shift(down).expand(right) - anchor.shift(down(2)).expand(right).is_not_blank().shift(up)).label_as(\"tc1\")\n",
    "temp_country_2 = anchor.shift(down(2)).expand(right).label_as(\"tc2\")\n",
    "month = anchor.shift(left).fill(down).is_not_blank().label_as(\"Month\")\n",
    "year = anchor.shift(left(2)).fill(down).is_not_blank().label_as(\"Year\")\n",
    "seasonal_adjustment = anchor.shift(down(3)).expand(right).is_not_blank().label_as(\"Seasonal Adjustment\")\n",
    "\n",
    "unwanted = table.excel_ref(\"A\").re(\"Latest three\").assert_one().expand(right).expand(down)\n",
    "observations = (temp_country_2.shift(down(2)).expand(down).is_not_blank() - unwanted).label_as(\"Value\")\n",
    "\n",
    "preview(anchor, observations, month, year, seasonal_adjustment, temp_country_1, temp_country_2, bounded=\"A1:L11\")\n",
    "\n",
    "def combine(line: Dict[str, str]) -> str:\n",
    "    # If temp column2 is populated combine both columns\n",
    "    # around \" - \".\n",
    "    # If both are blank its All Countries.\n",
    "    # Else just return temp column 1 value\n",
    "    if len(line[\"tc2\"]) > 0:\n",
    "        return line[\"tc1\"] + \" - \" + line[\"tc2\"]\n",
    "    if len(line[\"tc1\"]) == 0 and len(line[\"tc2\"]) == 0:\n",
    "        return \"All Countries\"\n",
    "    return line[\"tc1\"]\n",
    "\n",
    "\n",
    "tidy_data = TidyData(\n",
    "    observations,\n",
    "    Column(temp_country_1.finds_observations_closest(right)),\n",
    "    Column(temp_country_2.finds_observations_directly(down)),\n",
    "    Column(year.finds_observations_closest(down)),\n",
    "    Column(month.finds_observations_directly(right)),\n",
    "    Column(seasonal_adjustment.finds_observations_directly(down)),\n",
    "    Column.horizontal_condition(\"Country\", combine),\n",
    "    drop=[\"tc1\", \"tc2\"]\n",
    ")\n",
    "\n",
    "tidy_data.to_csv(\"tourism.csv\")"
   ]
  },
  {
   "attachments": {},
   "cell_type": "markdown",
   "metadata": {},
   "source": [
    "# Outputs\n",
    "\n",
    "The tidy data can be [downloaded here](./tourism.csv) and a full inline preview of the tidydata generated is shown below for those people who'd prefer to scroll."
   ]
  },
  {
   "cell_type": "code",
   "execution_count": null,
   "metadata": {},
   "outputs": [],
   "source": [
    "print(tidy_data)"
   ]
  }
 ],
 "metadata": {
  "kernelspec": {
   "display_name": "datachef-hNSMaw3h-py3.9",
   "language": "python",
   "name": "python3"
  },
  "language_info": {
   "codemirror_mode": {
    "name": "ipython",
    "version": 3
   },
   "file_extension": ".py",
   "mimetype": "text/x-python",
   "name": "python",
   "nbconvert_exporter": "python",
   "pygments_lexer": "ipython3",
   "version": "3.9.7"
  },
  "orig_nbformat": 4
 },
 "nbformat": 4,
 "nbformat_minor": 2
}
