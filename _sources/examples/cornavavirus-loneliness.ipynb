{
 "cells": [
  {
   "cell_type": "markdown",
   "metadata": {},
   "source": [
    "# Coronavirus: Loneliness\n",
    "\n",
    "An irregular shaped spreadsheet dataset originally published by the UK Office for National Statistics."
   ]
  },
  {
   "cell_type": "markdown",
   "metadata": {},
   "source": [
    "## Tutorial Structure\n",
    "\n",
    "With these example tutorials I'm going to comment heavily and cover nuances in a follow up section (with liberal targetted previews as needed) as it's the easiest way to grapple with new ideas. It may also be worth opening up these notebooks yourself (they're in `./jupyterbook` in the [tidychef](https://github.com/mikeAdamss/tidychef) github repo) so you can run, alter and generally have a play about with this yourself as part of your learning.\n",
    "\n",
    "We'll cover:\n",
    "\n",
    "- source data\n",
    "- requirements, what we're aiming to do here\n",
    "- show the full script (all logic commented)\n",
    "- output the selection preview\n",
    "- nuances (where applicable)\n",
    "- view the output\n",
    "\n",
    "This sequencing is necessary as the output for some of the example is **really** long so that necessitates it coming last. If you're viewing this via a jupyter book (i.e on the site) you can navigate between the above sections via your right hand menu.\n",
    "\n",
    "_Note - these tutorial scripts might seem verbose due all the comments but that's ok (this is a tutorial after all). If you take them out you end up with a fairly succinct and human readable encapsulation of what would otherwise (with existing tools) be a rather convoluted and fragile set of instructions to express._\n",
    "\n",
    "In virtually all cases I'll make heavy use of `preview` and `bounded` to only look at relevant parts of what can be quite large datasets. Downloads links are provided for the source data."
   ]
  },
  {
   "cell_type": "markdown",
   "metadata": {},
   "source": [
    "## Source"
   ]
  },
  {
   "cell_type": "code",
   "execution_count": null,
   "metadata": {
    "tags": []
   },
   "outputs": [],
   "source": [
    "from tidychef import acquire, preview\n",
    "from tidychef.selection import XlsxSelectable\n",
    "\n",
    "table: XlsxSelectable = acquire.xlsx.http(\"https://raw.githubusercontent.com/mikeAdamss/tidychef/main/tests/fixtures/xlsx/coronavirusandlonelinessreferencetable.xlsx\", tables=\"1.4 Loneliness by sex\")\n",
    "preview(table, bounded=\"A1:F24\")"
   ]
  },
  {
   "cell_type": "markdown",
   "metadata": {},
   "source": [
    "From an xlsx source which can be [downloaded here](https://raw.githubusercontent.com/mikeAdamss/tidychef/main/tests/fixtures/xlsx/coronavirusandlonelinessreferencetable.xlsx)."
   ]
  },
  {
   "cell_type": "markdown",
   "metadata": {},
   "source": [
    "## Requirements\n",
    "\n",
    "\n",
    "- We'll take the priciple description of lonliness (Often/Always etc) as a \"Lonliness\" column.\n",
    "- We'll take sex as a \"Sex\" column.\n",
    "- Sample size will be taken as a \"Sample Size\" column.\n",
    "- We'll add a unit of measure so our data makes sense.\n",
    "\n",
    "One the whole thiis is a particularly good example or a _very_ irregularly presented table, in terms of readibility this was clearly very much constructed for a human not a machine to read."
   ]
  },
  {
   "cell_type": "code",
   "execution_count": null,
   "metadata": {
    "tags": []
   },
   "outputs": [],
   "source": [
    "from tidychef import acquire, preview\n",
    "from tidychef.direction import right, down, left, up\n",
    "from tidychef.output import TidyData, Column\n",
    "from tidychef.selection import XlsxSelectable\n",
    "\n",
    "# Get the data via the acquire api\n",
    "table: XlsxSelectable = acquire.xlsx.http(\"https://raw.githubusercontent.com/mikeAdamss/tidychef/main/tests/fixtures/xlsx/coronavirusandlonelinessreferencetable.xlsx\", tables=\"1.4 Loneliness by sex\")\n",
    "\n",
    "# Lets find the unwanted footer information so we can dicount it where needed\n",
    "# - (a) select the cell with the text \"Source: \" in it\n",
    "# - (b) confirm there's only one of those\n",
    "# - (c) expand to a box selection (think \"hold clicking a cell and dragging down right\" in excel)\n",
    "unwanted_footer = table.cell_containing_string(\"Source: \", strict=False).expand_to_box()\n",
    "table = table - unwanted_footer\n",
    "\n",
    "# - (a) get the column with Male in it\n",
    "# - (b) narrow it down to just specifc cells from that column with Male in them\n",
    "# - (c) extend/extrude the selection to inlcude two cells to the right of each\n",
    "sex = table.column_containing_strings([\"Male\"]).re(\"Male\").extrude(right(2)).label_as(\"Sex\")\n",
    "\n",
    "# - (a) filter the data to cells with the string \"Sample size\" in them\n",
    "# - (b) confirm there's just two of those\n",
    "# - (c) select all cells located to the right of those two\n",
    "# - (d) desregard any blank cells you just selected\n",
    "sample_size = table.cells_containing_string(\"Sample size\", strict=False).assert_len(2).fill(right).is_not_blank().label_as(\"Sample Size\")\n",
    "\n",
    "# For observations, we just want all numeric values that aren't the sample size\n",
    "observations = table.is_numeric().label_as(\"Observations\") - sample_size\n",
    "\n",
    "# Loneliness is anything to the left of an observation cell thats not a number\n",
    "loneliness = observations.fill(left).is_not_numeric()\n",
    "\n",
    "# Create a bounded preview inline but also write the full preview to path\n",
    "preview(observations, sex, sample_size, loneliness, bounded=\"A1:F20\")\n",
    "preview(observations, sex, sample_size, loneliness, path=\"loneliness.html\")\n",
    "\n",
    "# Construct the tidydata table\n",
    "tidy_data = TidyData(\n",
    "    observations, \n",
    "    Column(sex.attach_directly(down)),\n",
    "    Column(sample_size.attach_directly(up)),\n",
    "    Column(loneliness.attach_directly(right)),\n",
    "    Column.constant(\"Unit of measure\", \"Percentage\")\n",
    ")\n",
    "\n",
    "tidy_data.to_csv(\"loneliness.csv\")"
   ]
  },
  {
   "cell_type": "markdown",
   "metadata": {},
   "source": [
    "## Nuances\n",
    "\n",
    "### Subtracting junk text\n",
    "\n",
    "There's a nice example here if why tidychef supports the **substraction of one selection from another**. Human first tables have a nasty habit of including all sorts of ad hoc footers and side comments that don't fit into any sort of regular structured data view of a resource.\n",
    "\n",
    "```python\n",
    "unwanted_footer = table.filter(filters.contains_string(\"Source: \")).assert_one().expand_to_box()\n",
    "```\n",
    "\n",
    "which allows us to casually disregard the junk text later on as needed, i.e\n",
    "\n",
    "```python\n",
    "loneliness = loneliness - unwanted_footer # clear it up a bit\n",
    "```\n",
    "\n",
    "### Sex - why the double 'Male' selection?\n",
    "\n",
    "This probably seems odd at first. The key point here is **re is slow**.\n",
    "\n",
    "So this would work:\n",
    "\n",
    "```python\n",
    "sex = table.re(\"Male\").extrude(right(2)).label_as(\"Sex\")\n",
    "\n",
    "```\n",
    "\n",
    "but this is smarter\n",
    "\n",
    "```python\n",
    "sex = table.column_containing_strings([\"Male\"]).re(\"Male\").extrude(right(2)).label_as(\"Sex\")\n",
    "\n",
    "```\n",
    "\n",
    "...in complete honestly, \"slow\" is relative and unless you're running `re` against 10's of thousands of cells it's probably fine, even then its minutes not hours -neverthelss- it _is_ a lot slower than the other standard methods so I wanted to make the point. It's good practice to always aim to tighten your selection _prior_ to `re` where it's viable to.\n"
   ]
  },
  {
   "cell_type": "markdown",
   "metadata": {},
   "source": [
    "# Output\n",
    "\n",
    "The full preview can be [viewed here](./loneliness.html).\n",
    "\n",
    "The tidy data can be [downloaded here](./loneliness.html) and a full inline preview of the tidydata generated is shown below."
   ]
  },
  {
   "cell_type": "code",
   "execution_count": null,
   "metadata": {},
   "outputs": [],
   "source": [
    "print(tidy_data)"
   ]
  }
 ],
 "metadata": {
  "kernelspec": {
   "display_name": "Python 3 (ipykernel)",
   "language": "python",
   "name": "python3"
  },
  "language_info": {
   "codemirror_mode": {
    "name": "ipython",
    "version": 3
   },
   "file_extension": ".py",
   "mimetype": "text/x-python",
   "name": "python",
   "nbconvert_exporter": "python",
   "pygments_lexer": "ipython3",
   "version": "3.12.11"
  }
 },
 "nbformat": 4,
 "nbformat_minor": 4
}
