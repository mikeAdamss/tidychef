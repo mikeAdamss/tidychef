{
 "cells": [
  {
   "cell_type": "markdown",
   "metadata": {},
   "source": [
    "# Output In Construction: Tables 1a + 1b\n",
    "\n",
    "A large but straiht forward transform. To make it interesting we're going to pull data in from **two** sheets to form **one** tidy data output.\n",
    "\n",
    "`Table 1a` - seasonally adjusted data.\n",
    "`Table 1b` - non seasonally adjusted data."
   ]
  },
  {
   "cell_type": "markdown",
   "metadata": {},
   "source": [
    "## Tutorial Structure\n",
    "\n",
    "With these example tutorials I'm going to comment heavily and cover nuances in a follow up section (with liberal targetted previews as needed) as it's the easiest way to grapple with new ideas. It may also be worth opening up these notebooks yourself (they're in `./jupyterbook` in the [tidychef](https://github.com/mikeAdamss/tidychef) github repo) so you can run, alter and generally have a play about with this yourself as part of your learning.\n",
    "\n",
    "We'll cover:\n",
    "\n",
    "- source data\n",
    "- requirements, what we're aiming to do here\n",
    "- show the full script (all logic commented)\n",
    "- output the selection preview\n",
    "- nuances (where applicable)\n",
    "- view the output\n",
    "\n",
    "This sequencing is necessary as the output for some of the example is **really** long so that necessitates it coming last. If you're viewing this via a jupyter book (i.e on the site) you can navigate between the above sections via your right hand menu.\n",
    "\n",
    "_Note - these tutorial scripts might seem verbose due all the comments but that's ok (this is a tutorial after all). If you take them out you end up with a fairly succinct and human readable encapsulation of what would otherwise (with existing tools) be a rather convoluted and fragile set of instructions to express._\n",
    "\n",
    "In virtually all cases I'll make heavy use of `preview` and `bounded` to only look at relevant parts of what can be quite large datasets. Downloads links are provided for the source data."
   ]
  },
  {
   "cell_type": "markdown",
   "metadata": {},
   "source": [
    "## Source\n",
    "\n",
    "For this example we're extracting the table \"1a\" as shown below (note - preview cropped to row 13 for reasons of practicality):"
   ]
  },
  {
   "cell_type": "code",
   "execution_count": null,
   "metadata": {
    "tags": []
   },
   "outputs": [],
   "source": [
    "from typing import List\n",
    "\n",
    "from tidychef import acquire, preview\n",
    "from tidychef.selection import XlsxSelectable\n",
    "\n",
    "# Get tables as list of two tables\n",
    "tables: List[XlsxSelectable] = acquire.xlsx.http(\"https://raw.githubusercontent.com/mikeAdamss/tidychef/main/tests/fixtures/xlsx/ons-oic.xlsx\", tables=\"Table 1a|Table 1b\")\n",
    "\n",
    "# Iterate to preview each\n",
    "for table in tables:\n",
    "    preview(table, bounded=\"A1:O13\")"
   ]
  },
  {
   "cell_type": "markdown",
   "metadata": {},
   "source": [
    "From an xlsx source which can be [downloaded here](https://raw.githubusercontent.com/mikeAdamss/tidychef/main/tests/fixtures/xlsx/ons-oic.xlsx)."
   ]
  },
  {
   "cell_type": "markdown",
   "metadata": {},
   "source": [
    "# Requirements\n",
    "\n",
    "- We'll take time period from the left hand column\n",
    "- We'll call the row 5 headers Construction\n",
    "- We'll call row 6 Identifier\n",
    "- We'll call the observations column \"Obervations\""
   ]
  },
  {
   "cell_type": "code",
   "execution_count": null,
   "metadata": {
    "tags": []
   },
   "outputs": [],
   "source": [
    "from typing import List\n",
    "\n",
    "from tidychef import acquire, preview\n",
    "from tidychef.direction import down, right\n",
    "from tidychef.output import TidyData, Column\n",
    "from tidychef.selection import XlsxSelectable\n",
    "\n",
    "tables: List[XlsxSelectable] = acquire.xlsx.http(\"https://raw.githubusercontent.com/mikeAdamss/tidychef/main/tests/fixtures/xlsx/ons-oic.xlsx\", tables=\"Table 1a|Table 1b\")\n",
    "\n",
    "all_tidy_data = []\n",
    "\n",
    "for table in tables:\n",
    "    # Set an adjustment variable based on the table we're looking at\n",
    "    if table.name == \"Table 1a\":\n",
    "        adjustment = \"Seasonally Adjusted\"\n",
    "    elif table.name == \"Table 1b\":\n",
    "        adjustment = \"Non Seasonally Adjusted\"\n",
    "    else:\n",
    "        # Can't happen here, but its good practice to consider failures\n",
    "        raise ValueError(f\"Unexpected table name, got {table.name}\")\n",
    "\n",
    "    # Set an anchor cell for convenient reference\n",
    "    anchor = table.excel_ref('A').cell_containing_string(\"Time period\").label_as(\"Anchor Cell\")\n",
    "\n",
    "    # Move down+right one and expand to box\n",
    "    observations = anchor.shift(right).shift(down(2)).expand_to_box().label_as(\"Value\")\n",
    "    \n",
    "    # Down one from the anchor and everything to our right is an Identifier\n",
    "    identifier = anchor.shift(down).fill(right).label_as(\"Identifier\")\n",
    "    \n",
    "    # Everyting to the right of anchor is a type of Construction\n",
    "    construction = anchor.fill(right).label_as(\"Construction\")\n",
    "    \n",
    "    # Move down one cell from the anchor, and everything below is time period\n",
    "    time_period = anchor.shift(down).fill(down).label_as(\"Time Period\")\n",
    "\n",
    "    # Create a bounded preview inline but also write the full preview to path\n",
    "    preview(anchor, observations, identifier, construction, time_period, bounded=\"A3:O13\")\n",
    "    preview(anchor, observations, identifier, construction, time_period, path=f\"oic-{table.name.lower().replace(' ', '-')}.html\")\n",
    "\n",
    "    tidy_data = TidyData(\n",
    "        observations,\n",
    "        Column(identifier.attach_directly(down)),\n",
    "        Column(construction.attach_directly(down)),\n",
    "        Column(time_period.attach_directly(right)),\n",
    "        Column.constant(\"Adjustment\", adjustment) # Set constant column using our adjustment variable\n",
    "    )\n",
    "    \n",
    "    all_tidy_data.append(tidy_data)\n",
    "\n",
    "    \n",
    "combined = TidyData.from_tidy_list(all_tidy_data)\n",
    "combined.to_csv(\"oic-table.csv\")"
   ]
  },
  {
   "cell_type": "markdown",
   "metadata": {},
   "source": [
    "# Outputs\n",
    "\n",
    "The full previews can be viewed as follow:\n",
    "\n",
    "- [Table 1a](./oic-table-1a.html).\n",
    "- [Table 1a](./oic-table-1b.html).\n",
    "\n",
    "The tidy data (combined from the extraction of both) can be [downloaded here](./oic-table.csv) and a full inline preview of the tidydata generated is shown below for those people who'd prefer to scroll.\n",
    "\n",
    "_Note: With this one if you scroll down to half way or below in the table you'll clearly see the change of adjustment - the point where the two data sources were concatenated._"
   ]
  },
  {
   "cell_type": "code",
   "execution_count": null,
   "metadata": {
    "tags": []
   },
   "outputs": [],
   "source": [
    "print(combined)"
   ]
  }
 ],
 "metadata": {
  "kernelspec": {
   "display_name": "Python 3 (ipykernel)",
   "language": "python",
   "name": "python3"
  },
  "language_info": {
   "codemirror_mode": {
    "name": "ipython",
    "version": 3
   },
   "file_extension": ".py",
   "mimetype": "text/x-python",
   "name": "python",
   "nbconvert_exporter": "python",
   "pygments_lexer": "ipython3",
   "version": "3.12.11"
  }
 },
 "nbformat": 4,
 "nbformat_minor": 4
}
