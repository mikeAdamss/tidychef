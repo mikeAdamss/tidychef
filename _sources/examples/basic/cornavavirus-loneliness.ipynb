{
 "cells": [
  {
   "attachments": {},
   "cell_type": "markdown",
   "metadata": {},
   "source": [
    "# Coronavirus: Loneliness"
   ]
  },
  {
   "cell_type": "code",
   "execution_count": 4,
   "metadata": {},
   "outputs": [
    {
     "data": {
      "text/html": [
       "\n",
       "    <html>\n",
       "        \n",
       "    <style>\n",
       "    table, th, td {\n",
       "        border: 1px solid;\n",
       "    }\n",
       "\n",
       "    table {\n",
       "        border-collapse: collapse;\n",
       "    }\n",
       "\n",
       "    td {\n",
       "        align: center;\n",
       "        border: 1px  black solid !important;\n",
       "        color: black !important;\n",
       "    }\n",
       "\n",
       "    th, td {\n",
       "        padding: 5px;\n",
       "    }\n",
       "\n",
       "    </style>\n",
       "    \n",
       "            <table>\n",
       "                \n",
       "            </table>\n",
       "\n",
       "            <body>\n",
       "                <h2>1.4 Loneliness by sex</h2>\n",
       "                <table>\n",
       "                    <tr><td style=\"background-color:lightgrey\"></td><td style=\"background-color:lightgrey\">A</td><td style=\"background-color:lightgrey\">B</td><td style=\"background-color:lightgrey\">C</td><td style=\"background-color:lightgrey\">D</td><td style=\"background-color:lightgrey\">E</td><td style=\"background-color:lightgrey\">F</td></tr>\n",
       "<tr><td style=\"background-color:lightgrey\">1</td><td style=\"background-color:white\">Proportion of people who feel lonely, by sex, Great Britain 3rd April to 3rd May 2020</td><td style=\"background-color:white\"></td><td style=\"background-color:white\"></td><td style=\"background-color:white\"></td><td style=\"background-color:white\"></td><td style=\"background-color:white\"></td></tr>\n",
       "<tr><td style=\"background-color:lightgrey\">2</td><td style=\"background-color:white\"></td><td style=\"background-color:white\"></td><td style=\"background-color:white\"></td><td style=\"background-color:white\"></td><td style=\"background-color:white\"></td><td style=\"background-color:white\"></td></tr>\n",
       "<tr><td style=\"background-color:lightgrey\">3</td><td style=\"background-color:white\">Definitions: \n",
       "\n",
       "Feeling often/ always lonely\n",
       "Adults aged 16 and over across Great Britain were asked how often they felt lonely, where the options were \"often/always\" / \"some of the time\" / \"occasionally\" / \"hardly ever\" / \"never\". Those reporting feeling lonely often / always is used as the indicator.\n",
       "\n",
       "Feeling lonely in the past 7 days\n",
       "Adults aged 16 and over across Great Britain were asked \"In the past seven days, how has your well-being being affected?\". This indicator is measured by those then reporting \"Feeling lonely\". </td><td style=\"background-color:white\"></td><td style=\"background-color:white\"></td><td style=\"background-color:white\"></td><td style=\"background-color:white\"></td><td style=\"background-color:white\"></td></tr>\n",
       "<tr><td style=\"background-color:lightgrey\">4</td><td style=\"background-color:white\"></td><td style=\"background-color:white\"></td><td style=\"background-color:white\"></td><td style=\"background-color:white\"></td><td style=\"background-color:white\"></td><td style=\"background-color:white\"></td></tr>\n",
       "<tr><td style=\"background-color:lightgrey\">5</td><td style=\"background-color:white\"></td><td style=\"background-color:white\"></td><td style=\"background-color:white\"></td><td style=\"background-color:white\">Percentage</td><td style=\"background-color:white\"></td><td style=\"background-color:white\"></td></tr>\n",
       "<tr><td style=\"background-color:lightgrey\">6</td><td style=\"background-color:white\"></td><td style=\"background-color:white\">Male</td><td style=\"background-color:white\">Female</td><td style=\"background-color:white\">All People</td><td style=\"background-color:white\"></td><td style=\"background-color:white\"></td></tr>\n",
       "<tr><td style=\"background-color:lightgrey\">7</td><td style=\"background-color:white\">Often/Always</td><td style=\"background-color:white\">5.1</td><td style=\"background-color:white\">4.9</td><td style=\"background-color:white\">5</td><td style=\"background-color:white\"></td><td style=\"background-color:white\"></td></tr>\n",
       "<tr><td style=\"background-color:lightgrey\">8</td><td style=\"background-color:white\">Lower 95% Confidence Interval </td><td style=\"background-color:white\">3.7</td><td style=\"background-color:white\">3.9</td><td style=\"background-color:white\">4.1</td><td style=\"background-color:white\"></td><td style=\"background-color:white\"></td></tr>\n",
       "<tr><td style=\"background-color:lightgrey\">9</td><td style=\"background-color:white\">Upper 95% Confidence Interval </td><td style=\"background-color:white\">6.6</td><td style=\"background-color:white\">6</td><td style=\"background-color:white\">5.9</td><td style=\"background-color:white\"></td><td style=\"background-color:white\"></td></tr>\n",
       "<tr><td style=\"background-color:lightgrey\">10</td><td style=\"background-color:white\"></td><td style=\"background-color:white\"></td><td style=\"background-color:white\"></td><td style=\"background-color:white\"></td><td style=\"background-color:white\"></td><td style=\"background-color:white\"></td></tr>\n",
       "<tr><td style=\"background-color:lightgrey\">11</td><td style=\"background-color:white\">Sample size (rounded)</td><td style=\"background-color:white\">2400</td><td style=\"background-color:white\">2860</td><td style=\"background-color:white\">5260</td><td style=\"background-color:white\"></td><td style=\"background-color:white\"></td></tr>\n",
       "<tr><td style=\"background-color:lightgrey\">12</td><td style=\"background-color:white\"></td><td style=\"background-color:white\"></td><td style=\"background-color:white\"></td><td style=\"background-color:white\">Percentage</td><td style=\"background-color:white\"></td><td style=\"background-color:white\"></td></tr>\n",
       "<tr><td style=\"background-color:lightgrey\">13</td><td style=\"background-color:white\"></td><td style=\"background-color:white\">Male</td><td style=\"background-color:white\">Female</td><td style=\"background-color:white\">All People</td><td style=\"background-color:white\"></td><td style=\"background-color:white\"></td></tr>\n",
       "<tr><td style=\"background-color:lightgrey\">14</td><td style=\"background-color:white\">Felt lonely in past 7 days</td><td style=\"background-color:white\">29.8</td><td style=\"background-color:white\">31.8</td><td style=\"background-color:white\">30.9</td><td style=\"background-color:white\"></td><td style=\"background-color:white\"></td></tr>\n",
       "<tr><td style=\"background-color:lightgrey\">15</td><td style=\"background-color:white\">Lower 95% Confidence Interval </td><td style=\"background-color:white\">25.8</td><td style=\"background-color:white\">28.5</td><td style=\"background-color:white\">28.4</td><td style=\"background-color:white\"></td><td style=\"background-color:white\"></td></tr>\n",
       "<tr><td style=\"background-color:lightgrey\">16</td><td style=\"background-color:white\">Upper 95% Confidence Interval </td><td style=\"background-color:white\">33.8</td><td style=\"background-color:white\">35.1</td><td style=\"background-color:white\">33.5</td><td style=\"background-color:white\"></td><td style=\"background-color:white\"></td></tr>\n",
       "<tr><td style=\"background-color:lightgrey\">17</td><td style=\"background-color:white\"></td><td style=\"background-color:white\"></td><td style=\"background-color:white\"></td><td style=\"background-color:white\"></td><td style=\"background-color:white\"></td><td style=\"background-color:white\"></td></tr>\n",
       "<tr><td style=\"background-color:lightgrey\">18</td><td style=\"background-color:white\">Sample size (rounded)</td><td style=\"background-color:white\">1000</td><td style=\"background-color:white\">1450</td><td style=\"background-color:white\">2440</td><td style=\"background-color:white\"></td><td style=\"background-color:white\"></td></tr>\n",
       "<tr><td style=\"background-color:lightgrey\">19</td><td style=\"background-color:white\">Source: Opinions and Lifestyle Survey, Office for National Statistics</td><td style=\"background-color:white\"></td><td style=\"background-color:white\"></td><td style=\"background-color:white\"></td><td style=\"background-color:white\"></td><td style=\"background-color:white\"></td></tr>\n",
       "<tr><td style=\"background-color:lightgrey\">20</td><td style=\"background-color:white\"></td><td style=\"background-color:white\"></td><td style=\"background-color:white\"></td><td style=\"background-color:white\"></td><td style=\"background-color:white\"></td><td style=\"background-color:white\"></td></tr>\n",
       "\n",
       "                </table>\n",
       "            </body>\n",
       "            <br>\n",
       "        </html>\n",
       "    "
      ],
      "text/plain": [
       "<IPython.core.display.HTML object>"
      ]
     },
     "metadata": {},
     "output_type": "display_data"
    }
   ],
   "source": [
    "from typing import List\n",
    "from datachef import acquire, preview\n",
    "from datachef.selection import XlsxSelectable\n",
    "\n",
    "tables: List[XlsxSelectable] = acquire.xlsx.http(\"https://raw.githubusercontent.com/mikeAdamss/datachef/main/tests/fixtures/xlsx/coronavirusandlonelinessreferencetable.xlsx\")\n",
    "preview(tables[5], bounded=\"A1:F20\")"
   ]
  },
  {
   "attachments": {},
   "cell_type": "markdown",
   "metadata": {},
   "source": [
    "From an xlsx source which can be [downloaded here](https://raw.githubusercontent.com/mikeAdamss/datachef/main/tests/fixtures/xlsx/coronavirusandlonelinessreferencetable.xlsx)."
   ]
  },
  {
   "attachments": {},
   "cell_type": "markdown",
   "metadata": {},
   "source": [
    "## Requirements\n",
    "\n",
    "- We'll take the priciple description of lonliness (Often/Always etc) as a \"Lonliness\" column.\n",
    "- We'll take sex as a \"Sex\" column.\n",
    "- Sample size will be taken as a \"Sample Size\" column.\n",
    "\n",
    "This is a particularly good example for dealing with quite an irregularly presented table. "
   ]
  },
  {
   "cell_type": "code",
   "execution_count": 5,
   "metadata": {},
   "outputs": [
    {
     "data": {
      "text/html": [
       "\n",
       "    <html>\n",
       "        \n",
       "    <style>\n",
       "    table, th, td {\n",
       "        border: 1px solid;\n",
       "    }\n",
       "\n",
       "    table {\n",
       "        border-collapse: collapse;\n",
       "    }\n",
       "\n",
       "    td {\n",
       "        align: center;\n",
       "        border: 1px  black solid !important;\n",
       "        color: black !important;\n",
       "    }\n",
       "\n",
       "    th, td {\n",
       "        padding: 5px;\n",
       "    }\n",
       "\n",
       "    </style>\n",
       "    \n",
       "            <table>\n",
       "                \n",
       "            <tr>\n",
       "                <td style=\"background-color:cyan\">Observations</td>\n",
       "            <tr>\n",
       "        \n",
       "            <tr>\n",
       "                <td style=\"background-color:#99ff99\">Sex</td>\n",
       "            <tr>\n",
       "        \n",
       "            <tr>\n",
       "                <td style=\"background-color:#eeccff\">Sample Size</td>\n",
       "            <tr>\n",
       "        \n",
       "            <tr>\n",
       "                <td style=\"background-color:#ffe066\">Loneliness</td>\n",
       "            <tr>\n",
       "        \n",
       "            </table>\n",
       "\n",
       "            <body>\n",
       "                <h2>1.4 Loneliness by sex</h2>\n",
       "                <table>\n",
       "                    <tr><td style=\"background-color:lightgrey\"></td><td style=\"background-color:lightgrey\">A</td><td style=\"background-color:lightgrey\">B</td><td style=\"background-color:lightgrey\">C</td><td style=\"background-color:lightgrey\">D</td><td style=\"background-color:lightgrey\">E</td><td style=\"background-color:lightgrey\">F</td></tr>\n",
       "<tr><td style=\"background-color:lightgrey\">1</td><td style=\"background-color:white\">Proportion of people who feel lonely, by sex, Great Britain 3rd April to 3rd May 2020</td><td style=\"background-color:white\"></td><td style=\"background-color:white\"></td><td style=\"background-color:white\"></td><td style=\"background-color:white\"></td><td style=\"background-color:white\"></td></tr>\n",
       "<tr><td style=\"background-color:lightgrey\">2</td><td style=\"background-color:white\"></td><td style=\"background-color:white\"></td><td style=\"background-color:white\"></td><td style=\"background-color:white\"></td><td style=\"background-color:white\"></td><td style=\"background-color:white\"></td></tr>\n",
       "<tr><td style=\"background-color:lightgrey\">3</td><td style=\"background-color:white\">Definitions: \n",
       "\n",
       "Feeling often/ always lonely\n",
       "Adults aged 16 and over across Great Britain were asked how often they felt lonely, where the options were \"often/always\" / \"some of the time\" / \"occasionally\" / \"hardly ever\" / \"never\". Those reporting feeling lonely often / always is used as the indicator.\n",
       "\n",
       "Feeling lonely in the past 7 days\n",
       "Adults aged 16 and over across Great Britain were asked \"In the past seven days, how has your well-being being affected?\". This indicator is measured by those then reporting \"Feeling lonely\". </td><td style=\"background-color:white\"></td><td style=\"background-color:white\"></td><td style=\"background-color:white\"></td><td style=\"background-color:white\"></td><td style=\"background-color:white\"></td></tr>\n",
       "<tr><td style=\"background-color:lightgrey\">4</td><td style=\"background-color:white\"></td><td style=\"background-color:white\"></td><td style=\"background-color:white\"></td><td style=\"background-color:white\"></td><td style=\"background-color:white\"></td><td style=\"background-color:white\"></td></tr>\n",
       "<tr><td style=\"background-color:lightgrey\">5</td><td style=\"background-color:white\"></td><td style=\"background-color:white\"></td><td style=\"background-color:white\"></td><td style=\"background-color:white\">Percentage</td><td style=\"background-color:white\"></td><td style=\"background-color:white\"></td></tr>\n",
       "<tr><td style=\"background-color:lightgrey\">6</td><td style=\"background-color:white\"></td><td style=\"background-color:#99ff99\">Male</td><td style=\"background-color:#99ff99\">Female</td><td style=\"background-color:#99ff99\">All People</td><td style=\"background-color:white\"></td><td style=\"background-color:white\"></td></tr>\n",
       "<tr><td style=\"background-color:lightgrey\">7</td><td style=\"background-color:#ffe066\">Often/Always</td><td style=\"background-color:cyan\">5.1</td><td style=\"background-color:cyan\">4.9</td><td style=\"background-color:cyan\">5</td><td style=\"background-color:white\"></td><td style=\"background-color:white\"></td></tr>\n",
       "<tr><td style=\"background-color:lightgrey\">8</td><td style=\"background-color:#ffe066\">Lower 95% Confidence Interval </td><td style=\"background-color:cyan\">3.7</td><td style=\"background-color:cyan\">3.9</td><td style=\"background-color:cyan\">4.1</td><td style=\"background-color:white\"></td><td style=\"background-color:white\"></td></tr>\n",
       "<tr><td style=\"background-color:lightgrey\">9</td><td style=\"background-color:#ffe066\">Upper 95% Confidence Interval </td><td style=\"background-color:cyan\">6.6</td><td style=\"background-color:cyan\">6</td><td style=\"background-color:cyan\">5.9</td><td style=\"background-color:white\"></td><td style=\"background-color:white\"></td></tr>\n",
       "<tr><td style=\"background-color:lightgrey\">10</td><td style=\"background-color:white\"></td><td style=\"background-color:white\"></td><td style=\"background-color:white\"></td><td style=\"background-color:white\"></td><td style=\"background-color:white\"></td><td style=\"background-color:white\"></td></tr>\n",
       "<tr><td style=\"background-color:lightgrey\">11</td><td style=\"background-color:white\">Sample size (rounded)</td><td style=\"background-color:#eeccff\">2400</td><td style=\"background-color:#eeccff\">2860</td><td style=\"background-color:#eeccff\">5260</td><td style=\"background-color:white\"></td><td style=\"background-color:white\"></td></tr>\n",
       "<tr><td style=\"background-color:lightgrey\">12</td><td style=\"background-color:white\"></td><td style=\"background-color:white\"></td><td style=\"background-color:white\"></td><td style=\"background-color:white\">Percentage</td><td style=\"background-color:white\"></td><td style=\"background-color:white\"></td></tr>\n",
       "<tr><td style=\"background-color:lightgrey\">13</td><td style=\"background-color:white\"></td><td style=\"background-color:#99ff99\">Male</td><td style=\"background-color:#99ff99\">Female</td><td style=\"background-color:#99ff99\">All People</td><td style=\"background-color:white\"></td><td style=\"background-color:white\"></td></tr>\n",
       "<tr><td style=\"background-color:lightgrey\">14</td><td style=\"background-color:#ffe066\">Felt lonely in past 7 days</td><td style=\"background-color:cyan\">29.8</td><td style=\"background-color:cyan\">31.8</td><td style=\"background-color:cyan\">30.9</td><td style=\"background-color:white\"></td><td style=\"background-color:white\"></td></tr>\n",
       "<tr><td style=\"background-color:lightgrey\">15</td><td style=\"background-color:#ffe066\">Lower 95% Confidence Interval </td><td style=\"background-color:cyan\">25.8</td><td style=\"background-color:cyan\">28.5</td><td style=\"background-color:cyan\">28.4</td><td style=\"background-color:white\"></td><td style=\"background-color:white\"></td></tr>\n",
       "<tr><td style=\"background-color:lightgrey\">16</td><td style=\"background-color:#ffe066\">Upper 95% Confidence Interval </td><td style=\"background-color:cyan\">33.8</td><td style=\"background-color:cyan\">35.1</td><td style=\"background-color:cyan\">33.5</td><td style=\"background-color:white\"></td><td style=\"background-color:white\"></td></tr>\n",
       "<tr><td style=\"background-color:lightgrey\">17</td><td style=\"background-color:white\"></td><td style=\"background-color:white\"></td><td style=\"background-color:white\"></td><td style=\"background-color:white\"></td><td style=\"background-color:white\"></td><td style=\"background-color:white\"></td></tr>\n",
       "<tr><td style=\"background-color:lightgrey\">18</td><td style=\"background-color:white\">Sample size (rounded)</td><td style=\"background-color:#eeccff\">1000</td><td style=\"background-color:#eeccff\">1450</td><td style=\"background-color:#eeccff\">2440</td><td style=\"background-color:white\"></td><td style=\"background-color:white\"></td></tr>\n",
       "<tr><td style=\"background-color:lightgrey\">19</td><td style=\"background-color:white\">Source: Opinions and Lifestyle Survey, Office for National Statistics</td><td style=\"background-color:white\"></td><td style=\"background-color:white\"></td><td style=\"background-color:white\"></td><td style=\"background-color:white\"></td><td style=\"background-color:white\"></td></tr>\n",
       "<tr><td style=\"background-color:lightgrey\">20</td><td style=\"background-color:white\"></td><td style=\"background-color:white\"></td><td style=\"background-color:white\"></td><td style=\"background-color:white\"></td><td style=\"background-color:white\"></td><td style=\"background-color:white\"></td></tr>\n",
       "\n",
       "                </table>\n",
       "            </body>\n",
       "            <br>\n",
       "        </html>\n",
       "    "
      ],
      "text/plain": [
       "<IPython.core.display.HTML object>"
      ]
     },
     "metadata": {},
     "output_type": "display_data"
    }
   ],
   "source": [
    "from typing import List\n",
    "from datachef import acquire, filters, preview\n",
    "from datachef.direction import right, down, left, up\n",
    "from datachef.output import TidyData, Column\n",
    "from datachef.selection import XlsxSelectable\n",
    "\n",
    "tables: List[XlsxSelectable] = acquire.xlsx.http(\"https://raw.githubusercontent.com/mikeAdamss/datachef/main/tests/fixtures/xlsx/coronavirusandlonelinessreferencetable.xlsx\")\n",
    "table = tables[5]\n",
    "\n",
    "# Do sensible things to start\n",
    "assert table.name == \"1.4 Loneliness by sex\"\n",
    "\n",
    "sex = table.re(\"Male\").expand(right).is_not_blank().label_as(\"Sex\")\n",
    "sample_size = table.filter(filters.contains_string(\"Sample size\")).fill(right).is_not_blank().label_as(\"Sample Size\")\n",
    "# We'll select the source entry at the end just so we can remove it from selections\n",
    "unwanted_footer = table.filter(filters.contains_string(\"Source: \")).assert_one()\n",
    "lonliness = (table.excel_ref('A4').expand(down) - sample_size.shift(left) - unwanted_footer.expand(down)).is_not_blank().label_as(\"Loneliness\")\n",
    "observations = lonliness.fill(right).is_not_blank().label_as(\"Observations\")\n",
    "\n",
    "# Create a bounded preview inline but also write the full preview to path\n",
    "preview(observations, sex, sample_size, lonliness, bounded=\"A1:F20\")\n",
    "preview(observations, sex, sample_size, lonliness, path=\"loneliness.csv\")\n",
    "\n",
    "\n",
    "tidy_data = TidyData(\n",
    "    observations, \n",
    "    Column(sex.finds_observations_directly(down)),\n",
    "    Column(sample_size.finds_observations_directly(up)),\n",
    "    Column(lonliness.finds_observations_directly(right)),\n",
    "\n",
    ")\n",
    "\n",
    "tidy_data.to_csv(\"loneliness.csv\")"
   ]
  },
  {
   "attachments": {},
   "cell_type": "markdown",
   "metadata": {},
   "source": [
    "# Outputs\n",
    "\n",
    "The full preview can be [downloaded here](./loneliness.html).\n",
    "\n",
    "The tidy data can be [downloaded here](./loneliness.html) and a full inline preview of the tidydata generated is shown below."
   ]
  },
  {
   "cell_type": "code",
   "execution_count": 6,
   "metadata": {},
   "outputs": [
    {
     "data": {
      "text/html": [
       "<table>\n",
       "<thead>\n",
       "<tr><th style=\"text-align: right;\">  Observations</th><th>Sex       </th><th style=\"text-align: right;\">  Sample Size</th><th>Loneliness                   </th></tr>\n",
       "</thead>\n",
       "<tbody>\n",
       "<tr><td style=\"text-align: right;\">           5.1</td><td>Male      </td><td style=\"text-align: right;\">         2400</td><td>Often/Always                 </td></tr>\n",
       "<tr><td style=\"text-align: right;\">           4.9</td><td>Female    </td><td style=\"text-align: right;\">         2860</td><td>Often/Always                 </td></tr>\n",
       "<tr><td style=\"text-align: right;\">           5  </td><td>All People</td><td style=\"text-align: right;\">         5260</td><td>Often/Always                 </td></tr>\n",
       "<tr><td style=\"text-align: right;\">           3.7</td><td>Male      </td><td style=\"text-align: right;\">         2400</td><td>Lower 95% Confidence Interval</td></tr>\n",
       "<tr><td style=\"text-align: right;\">           3.9</td><td>Female    </td><td style=\"text-align: right;\">         2860</td><td>Lower 95% Confidence Interval</td></tr>\n",
       "<tr><td style=\"text-align: right;\">           4.1</td><td>All People</td><td style=\"text-align: right;\">         5260</td><td>Lower 95% Confidence Interval</td></tr>\n",
       "<tr><td style=\"text-align: right;\">           6.6</td><td>Male      </td><td style=\"text-align: right;\">         2400</td><td>Upper 95% Confidence Interval</td></tr>\n",
       "<tr><td style=\"text-align: right;\">           6  </td><td>Female    </td><td style=\"text-align: right;\">         2860</td><td>Upper 95% Confidence Interval</td></tr>\n",
       "<tr><td style=\"text-align: right;\">           5.9</td><td>All People</td><td style=\"text-align: right;\">         5260</td><td>Upper 95% Confidence Interval</td></tr>\n",
       "<tr><td style=\"text-align: right;\">          29.8</td><td>Male      </td><td style=\"text-align: right;\">         1000</td><td>Felt lonely in past 7 days   </td></tr>\n",
       "<tr><td style=\"text-align: right;\">          31.8</td><td>Female    </td><td style=\"text-align: right;\">         1450</td><td>Felt lonely in past 7 days   </td></tr>\n",
       "<tr><td style=\"text-align: right;\">          30.9</td><td>All People</td><td style=\"text-align: right;\">         2440</td><td>Felt lonely in past 7 days   </td></tr>\n",
       "<tr><td style=\"text-align: right;\">          25.8</td><td>Male      </td><td style=\"text-align: right;\">         1000</td><td>Lower 95% Confidence Interval</td></tr>\n",
       "<tr><td style=\"text-align: right;\">          28.5</td><td>Female    </td><td style=\"text-align: right;\">         1450</td><td>Lower 95% Confidence Interval</td></tr>\n",
       "<tr><td style=\"text-align: right;\">          28.4</td><td>All People</td><td style=\"text-align: right;\">         2440</td><td>Lower 95% Confidence Interval</td></tr>\n",
       "<tr><td style=\"text-align: right;\">          33.8</td><td>Male      </td><td style=\"text-align: right;\">         1000</td><td>Upper 95% Confidence Interval</td></tr>\n",
       "<tr><td style=\"text-align: right;\">          35.1</td><td>Female    </td><td style=\"text-align: right;\">         1450</td><td>Upper 95% Confidence Interval</td></tr>\n",
       "<tr><td style=\"text-align: right;\">          33.5</td><td>All People</td><td style=\"text-align: right;\">         2440</td><td>Upper 95% Confidence Interval</td></tr>\n",
       "</tbody>\n",
       "</table>"
      ],
      "text/plain": [
       "'<table>\\n<thead>\\n<tr><th style=\"text-align: right;\">  Observations</th><th>Sex       </th><th style=\"text-align: right;\">  Sample Size</th><th>Loneliness                   </th></tr>\\n</thead>\\n<tbody>\\n<tr><td style=\"text-align: right;\">           5.1</td><td>Male      </td><td style=\"text-align: right;\">         2400</td><td>Often/Always                 </td></tr>\\n<tr><td style=\"text-align: right;\">           4.9</td><td>Female    </td><td style=\"text-align: right;\">         2860</td><td>Often/Always                 </td></tr>\\n<tr><td style=\"text-align: right;\">           5  </td><td>All People</td><td style=\"text-align: right;\">         5260</td><td>Often/Always                 </td></tr>\\n<tr><td style=\"text-align: right;\">           3.7</td><td>Male      </td><td style=\"text-align: right;\">         2400</td><td>Lower 95% Confidence Interval</td></tr>\\n<tr><td style=\"text-align: right;\">           3.9</td><td>Female    </td><td style=\"text-align: right;\">         2860</td><td>Lower 95% Confidence Interval</td></tr>\\n<tr><td style=\"text-align: right;\">           4.1</td><td>All People</td><td style=\"text-align: right;\">         5260</td><td>Lower 95% Confidence Interval</td></tr>\\n<tr><td style=\"text-align: right;\">           6.6</td><td>Male      </td><td style=\"text-align: right;\">         2400</td><td>Upper 95% Confidence Interval</td></tr>\\n<tr><td style=\"text-align: right;\">           6  </td><td>Female    </td><td style=\"text-align: right;\">         2860</td><td>Upper 95% Confidence Interval</td></tr>\\n<tr><td style=\"text-align: right;\">           5.9</td><td>All People</td><td style=\"text-align: right;\">         5260</td><td>Upper 95% Confidence Interval</td></tr>\\n<tr><td style=\"text-align: right;\">          29.8</td><td>Male      </td><td style=\"text-align: right;\">         1000</td><td>Felt lonely in past 7 days   </td></tr>\\n<tr><td style=\"text-align: right;\">          31.8</td><td>Female    </td><td style=\"text-align: right;\">         1450</td><td>Felt lonely in past 7 days   </td></tr>\\n<tr><td style=\"text-align: right;\">          30.9</td><td>All People</td><td style=\"text-align: right;\">         2440</td><td>Felt lonely in past 7 days   </td></tr>\\n<tr><td style=\"text-align: right;\">          25.8</td><td>Male      </td><td style=\"text-align: right;\">         1000</td><td>Lower 95% Confidence Interval</td></tr>\\n<tr><td style=\"text-align: right;\">          28.5</td><td>Female    </td><td style=\"text-align: right;\">         1450</td><td>Lower 95% Confidence Interval</td></tr>\\n<tr><td style=\"text-align: right;\">          28.4</td><td>All People</td><td style=\"text-align: right;\">         2440</td><td>Lower 95% Confidence Interval</td></tr>\\n<tr><td style=\"text-align: right;\">          33.8</td><td>Male      </td><td style=\"text-align: right;\">         1000</td><td>Upper 95% Confidence Interval</td></tr>\\n<tr><td style=\"text-align: right;\">          35.1</td><td>Female    </td><td style=\"text-align: right;\">         1450</td><td>Upper 95% Confidence Interval</td></tr>\\n<tr><td style=\"text-align: right;\">          33.5</td><td>All People</td><td style=\"text-align: right;\">         2440</td><td>Upper 95% Confidence Interval</td></tr>\\n</tbody>\\n</table>'"
      ]
     },
     "metadata": {},
     "output_type": "display_data"
    },
    {
     "name": "stdout",
     "output_type": "stream",
     "text": [
      "\n"
     ]
    }
   ],
   "source": [
    "print(tidy_data)"
   ]
  }
 ],
 "metadata": {
  "kernelspec": {
   "display_name": "datachef-hNSMaw3h-py3.9",
   "language": "python",
   "name": "python3"
  },
  "language_info": {
   "codemirror_mode": {
    "name": "ipython",
    "version": 3
   },
   "file_extension": ".py",
   "mimetype": "text/x-python",
   "name": "python",
   "nbconvert_exporter": "python",
   "pygments_lexer": "ipython3",
   "version": "3.9.7"
  },
  "orig_nbformat": 4
 },
 "nbformat": 4,
 "nbformat_minor": 2
}
