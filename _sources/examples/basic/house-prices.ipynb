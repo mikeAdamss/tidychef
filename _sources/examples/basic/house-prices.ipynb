{
 "cells": [
  {
   "attachments": {},
   "cell_type": "markdown",
   "metadata": {},
   "source": [
    "# House Prices"
   ]
  },
  {
   "cell_type": "code",
   "execution_count": null,
   "metadata": {},
   "outputs": [],
   "source": [
    "from tidychef import acquire, preview\n",
    "from tidychef.selection import XlsSelectable\n",
    "\n",
    "table: XlsSelectable = acquire.xls.http(\"https://raw.githubusercontent.com/mikeAdamss/tidychef/main/tests/fixtures/xls/house-prices.xls\", tables=\"Table 11\")\n",
    "preview(table, bounded=\"A1:M20\")"
   ]
  },
  {
   "attachments": {},
   "cell_type": "markdown",
   "metadata": {},
   "source": [
    "From an xlx source which can be [downloaded here](https://raw.githubusercontent.com/mikeAdamss/tidychef/main/tests/fixtures/xls/house-prices.xls)."
   ]
  },
  {
   "attachments": {},
   "cell_type": "markdown",
   "metadata": {},
   "source": [
    "## Requirements\n",
    "\n",
    "- We'll take \"Year\" and \"Quarter\" from the appropriate values in columns B and C.\n",
    "- We'll take populated cells on row 4 as \"Housing\" and we'll strip the \"4\" notation away.\n",
    "- We'll take \"Area\" and \"Area Code\" from column A (see United Kingdom and K02000001 as the examples).\n",
    "- We'll call the observations column \"Value\" and we'll strip any trailing \".0\"s.\n",
    "\n",
    "The key lesson here is the use of `closest` to get the quarter. Remember the \"closest\" you can be to something on a directional axis is _level with it_ (so in this example: observations on 9 will resolve \"closest above\" to Q2 **also** on row 9).  "
   ]
  },
  {
   "cell_type": "code",
   "execution_count": null,
   "metadata": {},
   "outputs": [],
   "source": [
    "from tidychef import acquire, preview, filters\n",
    "from tidychef.direction import up, down, right\n",
    "from tidychef.output import TidyData, Column\n",
    "from tidychef.selection import XlsSelectable\n",
    "\n",
    "table: XlsSelectable = acquire.xls.http(\"https://raw.githubusercontent.com/mikeAdamss/tidychef/main/tests/fixtures/xls/house-prices.xls\", tables=\"Table 11\")\n",
    "\n",
    "housing = table.re('New dwellings').assert_one().expand(right).is_not_blank().label_as(\"Housing\")\n",
    "area_code = table.excel_ref(\"A\").is_not_blank().re(\"[A-Z][0-9].*\").label_as(\"Area Code\")\n",
    "area = area_code.shift(up).label_as(\"Area\")\n",
    "year = area.shift(right).expand(down).is_not_blank().label_as(\"Year\")\n",
    "quarter = year.shift(right).expand(down).is_not_blank().label_as(\"Quarter\")\n",
    "observations = quarter.fill(right).is_not_blank().filter(filters.is_not_numeric).label_as(\"Value\")\n",
    "\n",
    "# Create a bounded preview inline but also write the full preview to path\n",
    "preview(observations, housing, area_code, area, year, quarter, bounded=\"A1:M20\")\n",
    "preview(observations, housing, area_code, area, year, quarter, path=\"house-prices.html\")\n",
    "\n",
    "tidy_data = TidyData(\n",
    "    observations,\n",
    "    Column(housing.finds_observations_directly(down), apply=lambda x: x.rstrip(\"4\")),\n",
    "    Column(area.finds_observations_closest(down)),\n",
    "    Column(area_code.finds_observations_closest(down)),\n",
    "    Column(year.finds_observations_closest(down), apply=lambda x: x.replace(\".0\", \"\")),\n",
    "    Column(quarter.finds_observations_directly(right)),\n",
    "    obs_apply = lambda x: x.replace(\".0\", \"\")\n",
    ")\n",
    "\n",
    "tidy_data.to_csv(\"house-prices.csv\")"
   ]
  },
  {
   "attachments": {},
   "cell_type": "markdown",
   "metadata": {},
   "source": [
    "# Outputs\n",
    "\n",
    "The full preview can be [downloaded here](./house-prices.html).\n",
    "\n",
    "The tidy data can be [downloaded here](./house-prices.csv) and a full inline preview of the tidydata generated is shown below for those people who'd prefer to scroll."
   ]
  },
  {
   "cell_type": "code",
   "execution_count": null,
   "metadata": {},
   "outputs": [],
   "source": [
    "print(tidy_data)"
   ]
  }
 ],
 "metadata": {
  "kernelspec": {
   "display_name": "datachef-hNSMaw3h-py3.9",
   "language": "python",
   "name": "python3"
  },
  "language_info": {
   "codemirror_mode": {
    "name": "ipython",
    "version": 3
   },
   "file_extension": ".py",
   "mimetype": "text/x-python",
   "name": "python",
   "nbconvert_exporter": "python",
   "pygments_lexer": "ipython3",
   "version": "3.7.13"
  },
  "orig_nbformat": 4
 },
 "nbformat": 4,
 "nbformat_minor": 2
}
