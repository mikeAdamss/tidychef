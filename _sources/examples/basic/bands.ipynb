{
 "cells": [
  {
   "attachments": {},
   "cell_type": "markdown",
   "metadata": {},
   "source": [
    "# Bands"
   ]
  },
  {
   "attachments": {},
   "cell_type": "markdown",
   "metadata": {},
   "source": [
    "## Source\n",
    "\n",
    "For this example we're extracting the following table:\n",
    "\n",
    "![](../../images/bands-before.png)\n",
    "\n",
    "From a csv source which can be viewed [here](https://raw.githubusercontent.com/mikeAdamss/tidychef/main/tests/fixtures/csv/bands-wide.csv)."
   ]
  },
  {
   "attachments": {},
   "cell_type": "markdown",
   "metadata": {},
   "source": [
    "## Specification\n",
    "\n",
    "- We want a \"Value\" column to hold the observations\n",
    "- We want other columns of: \"Band\", \"Name\", \"Asset\"\n",
    "- We want to preview selections inline.\n",
    "- We want to output one tidy data csv as \"bands_tidy.csv\""
   ]
  },
  {
   "attachments": {},
   "cell_type": "markdown",
   "metadata": {},
   "source": [
    "# Recipe"
   ]
  },
  {
   "cell_type": "code",
   "execution_count": 1,
   "metadata": {},
   "outputs": [
    {
     "data": {
      "text/html": [
       "\n",
       "    <html>\n",
       "        \n",
       "    <style>\n",
       "    table, th, td {\n",
       "        border: 1px solid;\n",
       "    }\n",
       "\n",
       "    table {\n",
       "        border-collapse: collapse;\n",
       "    }\n",
       "\n",
       "    td {\n",
       "        align: center;\n",
       "        border: 1px  black solid !important;\n",
       "        color: black !important;\n",
       "    }\n",
       "\n",
       "    th, td {\n",
       "        padding: 5px;\n",
       "    }\n",
       "\n",
       "    </style>\n",
       "    \n",
       "            <table>\n",
       "                \n",
       "            <tr>\n",
       "                <td style=\"background-color:cyan\">Value</td>\n",
       "            <tr>\n",
       "        \n",
       "            <tr>\n",
       "                <td style=\"background-color:#99ff99\">Band</td>\n",
       "            <tr>\n",
       "        \n",
       "            <tr>\n",
       "                <td style=\"background-color:#eeccff\">Asset</td>\n",
       "            <tr>\n",
       "        \n",
       "            <tr>\n",
       "                <td style=\"background-color:#ffe066\">Name</td>\n",
       "            <tr>\n",
       "        \n",
       "            </table>\n",
       "\n",
       "            <body>\n",
       "                <h2>Unnamed Table</h2>\n",
       "                <table>\n",
       "                    <tr><td style=\"background-color:lightgrey\"></td><td style=\"background-color:lightgrey\">A</td><td style=\"background-color:lightgrey\">B</td><td style=\"background-color:lightgrey\">C</td><td style=\"background-color:lightgrey\">D</td><td style=\"background-color:lightgrey\">E</td><td style=\"background-color:lightgrey\">F</td><td style=\"background-color:lightgrey\">G</td><td style=\"background-color:lightgrey\">H</td><td style=\"background-color:lightgrey\">I</td><td style=\"background-color:lightgrey\">J</td><td style=\"background-color:lightgrey\">K</td></tr>\n",
       "<tr><td style=\"background-color:lightgrey\">1</td><td style=\"background-color:white\"></td><td style=\"background-color:white\"></td><td style=\"background-color:white\"></td><td style=\"background-color:white\"></td><td style=\"background-color:white\"></td><td style=\"background-color:white\"></td><td style=\"background-color:white\"></td><td style=\"background-color:white\"></td><td style=\"background-color:white\"></td><td style=\"background-color:white\"></td><td style=\"background-color:white\"></td></tr>\n",
       "<tr><td style=\"background-color:lightgrey\">2</td><td style=\"background-color:white\"></td><td style=\"background-color:white\"></td><td style=\"background-color:#eeccff\">Houses</td><td style=\"background-color:#eeccff\">Cars</td><td style=\"background-color:#eeccff\">Boats</td><td style=\"background-color:white\"></td><td style=\"background-color:white\"></td><td style=\"background-color:white\"></td><td style=\"background-color:#eeccff\">Houses</td><td style=\"background-color:#eeccff\">Cars</td><td style=\"background-color:#eeccff\">Boats</td></tr>\n",
       "<tr><td style=\"background-color:lightgrey\">3</td><td style=\"background-color:#99ff99\">Beatles</td><td style=\"background-color:white\"></td><td style=\"background-color:white\"></td><td style=\"background-color:white\"></td><td style=\"background-color:white\"></td><td style=\"background-color:white\"></td><td style=\"background-color:#99ff99\">Rolling Stones</td><td style=\"background-color:white\"></td><td style=\"background-color:white\"></td><td style=\"background-color:white\"></td><td style=\"background-color:white\"></td></tr>\n",
       "<tr><td style=\"background-color:lightgrey\">4</td><td style=\"background-color:white\"></td><td style=\"background-color:#ffe066\">John</td><td style=\"background-color:cyan\">1</td><td style=\"background-color:cyan\">5</td><td style=\"background-color:cyan\">9</td><td style=\"background-color:white\"></td><td style=\"background-color:white\"></td><td style=\"background-color:#ffe066\">Keith</td><td style=\"background-color:cyan\">2</td><td style=\"background-color:cyan\">6</td><td style=\"background-color:cyan\">10</td></tr>\n",
       "<tr><td style=\"background-color:lightgrey\">5</td><td style=\"background-color:white\"></td><td style=\"background-color:#ffe066\">Paul</td><td style=\"background-color:cyan\">2</td><td style=\"background-color:cyan\">6</td><td style=\"background-color:cyan\">10</td><td style=\"background-color:white\"></td><td style=\"background-color:white\"></td><td style=\"background-color:#ffe066\">Mick</td><td style=\"background-color:cyan\">3</td><td style=\"background-color:cyan\">7</td><td style=\"background-color:cyan\">11</td></tr>\n",
       "<tr><td style=\"background-color:lightgrey\">6</td><td style=\"background-color:white\"></td><td style=\"background-color:#ffe066\">George</td><td style=\"background-color:cyan\">2</td><td style=\"background-color:cyan\">7</td><td style=\"background-color:cyan\">11</td><td style=\"background-color:white\"></td><td style=\"background-color:white\"></td><td style=\"background-color:#ffe066\">Charlie</td><td style=\"background-color:cyan\">3</td><td style=\"background-color:cyan\">8</td><td style=\"background-color:cyan\">12</td></tr>\n",
       "<tr><td style=\"background-color:lightgrey\">7</td><td style=\"background-color:white\"></td><td style=\"background-color:#ffe066\">Ringo</td><td style=\"background-color:cyan\">4</td><td style=\"background-color:cyan\">8</td><td style=\"background-color:cyan\">12</td><td style=\"background-color:white\"></td><td style=\"background-color:white\"></td><td style=\"background-color:#ffe066\">Ronnie</td><td style=\"background-color:cyan\">5</td><td style=\"background-color:cyan\">9</td><td style=\"background-color:cyan\">13</td></tr>\n",
       "<tr><td style=\"background-color:lightgrey\">8</td><td style=\"background-color:white\"></td><td style=\"background-color:white\"></td><td style=\"background-color:white\"></td><td style=\"background-color:white\"></td><td style=\"background-color:white\"></td><td style=\"background-color:white\"></td><td style=\"background-color:white\"></td><td style=\"background-color:white\"></td><td style=\"background-color:white\"></td><td style=\"background-color:white\"></td><td style=\"background-color:white\"></td></tr>\n",
       "\n",
       "                </table>\n",
       "            </body>\n",
       "            <br>\n",
       "        </html>\n",
       "    "
      ],
      "text/plain": [
       "<IPython.core.display.HTML object>"
      ]
     },
     "metadata": {},
     "output_type": "display_data"
    }
   ],
   "source": [
    "from tidychef import acquire, preview, filters\n",
    "from tidychef.direction import right, below\n",
    "from tidychef.output import TidyData, Column\n",
    "from tidychef.selection import CsvSelectable\n",
    "\n",
    "table: CsvSelectable = acquire.csv.http(\"https://raw.githubusercontent.com/mikeAdamss/tidychef/main/tests/fixtures/csv/bands-wide.csv\")\n",
    "\n",
    "observations = table.filter(filters.is_numeric).label_as(\"Value\")\n",
    "bands = table.excel_ref(\"3\").is_not_blank().label_as(\"Band\")\n",
    "assets = table.excel_ref('2').is_not_blank().label_as(\"Asset\")\n",
    "names = (table.excel_ref(\"B\") | table.excel_ref(\"H\")).is_not_blank().label_as(\"Name\")\n",
    "preview(observations, bands, assets, names)\n",
    "\n",
    "tidy_data = TidyData(\n",
    "    observations,\n",
    "    Column(bands.finds_observations_closest(right)),\n",
    "    Column(assets.finds_observations_directly(below)),\n",
    "    Column(names.finds_observations_directly(right))\n",
    ")\n",
    "\n",
    "tidy_data.to_csv(\"bands_tidy.csv\")"
   ]
  },
  {
   "attachments": {},
   "cell_type": "markdown",
   "metadata": {},
   "source": [
    "# Outputs\n",
    "\n",
    "The output generated by the above example can be [downloaded here](./bands_tidy.csv) or viewed below."
   ]
  },
  {
   "cell_type": "code",
   "execution_count": 2,
   "metadata": {},
   "outputs": [
    {
     "data": {
      "text/html": [
       "\n",
       "    <html>\n",
       "        \n",
       "    <style>\n",
       "    table, th, td {\n",
       "        border: 1px solid;\n",
       "    }\n",
       "\n",
       "    table {\n",
       "        border-collapse: collapse;\n",
       "    }\n",
       "\n",
       "    td {\n",
       "        align: center;\n",
       "        border: 1px  black solid !important;\n",
       "        color: black !important;\n",
       "    }\n",
       "\n",
       "    th, td {\n",
       "        padding: 5px;\n",
       "    }\n",
       "\n",
       "    </style>\n",
       "    \n",
       "            <body>\n",
       "                <table>\n",
       "                    <tr><td style=\"background-color:lightgrey\">Value</td><td style=\"background-color:lightgrey\">Band</td><td style=\"background-color:lightgrey\">Asset</td><td style=\"background-color:lightgrey\">Name</td></tr><tr><td style=\"background-color:white\">1</td><td style=\"background-color:white\">Beatles</td><td style=\"background-color:white\">Houses</td><td style=\"background-color:white\">John</td></tr><tr><td style=\"background-color:white\">5</td><td style=\"background-color:white\">Beatles</td><td style=\"background-color:white\">Cars</td><td style=\"background-color:white\">John</td></tr><tr><td style=\"background-color:white\">9</td><td style=\"background-color:white\">Beatles</td><td style=\"background-color:white\">Boats</td><td style=\"background-color:white\">John</td></tr><tr><td style=\"background-color:white\">2</td><td style=\"background-color:white\">Rolling Stones</td><td style=\"background-color:white\">Houses</td><td style=\"background-color:white\">Keith</td></tr><tr><td style=\"background-color:white\">6</td><td style=\"background-color:white\">Rolling Stones</td><td style=\"background-color:white\">Cars</td><td style=\"background-color:white\">Keith</td></tr><tr><td style=\"background-color:white\">10</td><td style=\"background-color:white\">Rolling Stones</td><td style=\"background-color:white\">Boats</td><td style=\"background-color:white\">Keith</td></tr><tr><td style=\"background-color:white\">2</td><td style=\"background-color:white\">Beatles</td><td style=\"background-color:white\">Houses</td><td style=\"background-color:white\">Paul</td></tr><tr><td style=\"background-color:white\">6</td><td style=\"background-color:white\">Beatles</td><td style=\"background-color:white\">Cars</td><td style=\"background-color:white\">Paul</td></tr><tr><td style=\"background-color:white\">10</td><td style=\"background-color:white\">Beatles</td><td style=\"background-color:white\">Boats</td><td style=\"background-color:white\">Paul</td></tr><tr><td style=\"background-color:white\">3</td><td style=\"background-color:white\">Rolling Stones</td><td style=\"background-color:white\">Houses</td><td style=\"background-color:white\">Mick</td></tr><tr><td style=\"background-color:white\">7</td><td style=\"background-color:white\">Rolling Stones</td><td style=\"background-color:white\">Cars</td><td style=\"background-color:white\">Mick</td></tr><tr><td style=\"background-color:white\">11</td><td style=\"background-color:white\">Rolling Stones</td><td style=\"background-color:white\">Boats</td><td style=\"background-color:white\">Mick</td></tr><tr><td style=\"background-color:white\">2</td><td style=\"background-color:white\">Beatles</td><td style=\"background-color:white\">Houses</td><td style=\"background-color:white\">George</td></tr><tr><td style=\"background-color:white\">7</td><td style=\"background-color:white\">Beatles</td><td style=\"background-color:white\">Cars</td><td style=\"background-color:white\">George</td></tr><tr><td style=\"background-color:white\">11</td><td style=\"background-color:white\">Beatles</td><td style=\"background-color:white\">Boats</td><td style=\"background-color:white\">George</td></tr><tr><td style=\"background-color:white\">3</td><td style=\"background-color:white\">Rolling Stones</td><td style=\"background-color:white\">Houses</td><td style=\"background-color:white\">Charlie</td></tr><tr><td style=\"background-color:white\">8</td><td style=\"background-color:white\">Rolling Stones</td><td style=\"background-color:white\">Cars</td><td style=\"background-color:white\">Charlie</td></tr><tr><td style=\"background-color:white\">12</td><td style=\"background-color:white\">Rolling Stones</td><td style=\"background-color:white\">Boats</td><td style=\"background-color:white\">Charlie</td></tr><tr><td style=\"background-color:white\">4</td><td style=\"background-color:white\">Beatles</td><td style=\"background-color:white\">Houses</td><td style=\"background-color:white\">Ringo</td></tr><tr><td style=\"background-color:white\">8</td><td style=\"background-color:white\">Beatles</td><td style=\"background-color:white\">Cars</td><td style=\"background-color:white\">Ringo</td></tr><tr><td style=\"background-color:white\">12</td><td style=\"background-color:white\">Beatles</td><td style=\"background-color:white\">Boats</td><td style=\"background-color:white\">Ringo</td></tr><tr><td style=\"background-color:white\">5</td><td style=\"background-color:white\">Rolling Stones</td><td style=\"background-color:white\">Houses</td><td style=\"background-color:white\">Ronnie</td></tr><tr><td style=\"background-color:white\">9</td><td style=\"background-color:white\">Rolling Stones</td><td style=\"background-color:white\">Cars</td><td style=\"background-color:white\">Ronnie</td></tr><tr><td style=\"background-color:white\">13</td><td style=\"background-color:white\">Rolling Stones</td><td style=\"background-color:white\">Boats</td><td style=\"background-color:white\">Ronnie</td></tr>\n",
       "                </table>\n",
       "            </body>\n",
       "            <br>\n",
       "        </html>\n",
       "    "
      ],
      "text/plain": [
       "<IPython.core.display.HTML object>"
      ]
     },
     "metadata": {},
     "output_type": "display_data"
    },
    {
     "name": "stdout",
     "output_type": "stream",
     "text": [
      "\n"
     ]
    }
   ],
   "source": [
    "print(tidy_data)"
   ]
  }
 ],
 "metadata": {
  "kernelspec": {
   "display_name": "Python 3",
   "language": "python",
   "name": "python3"
  },
  "language_info": {
   "codemirror_mode": {
    "name": "ipython",
    "version": 3
   },
   "file_extension": ".py",
   "mimetype": "text/x-python",
   "name": "python",
   "nbconvert_exporter": "python",
   "pygments_lexer": "ipython3",
   "version": "3.7.13"
  },
  "widgets": {
   "application/vnd.jupyter.widget-state+json": {
    "state": {},
    "version_major": 2,
    "version_minor": 0
   }
  }
 },
 "nbformat": 4,
 "nbformat_minor": 4
}
