{
 "cells": [
  {
   "cell_type": "markdown",
   "metadata": {},
   "source": [
    "# Household Debt Inequalities\n",
    "\n",
    "A relatively simple two sheet extraction from data first published by the UK Office for National Statistics."
   ]
  },
  {
   "cell_type": "markdown",
   "metadata": {},
   "source": [
    "## Tutorial Structure\n",
    "\n",
    "With these example tutorials I'm going to comment heavily and cover nuances in a follow up section (with liberal targetted previews as needed) as it's the easiest way to grapple with new ideas. It may also be worth opening up these notebooks yourself (they're in `./jupyterbook` in the [tidychef](https://github.com/mikeAdamss/tidychef) github repo) so you can run, alter and generally have a play about with this yourself as part of your learning.\n",
    "\n",
    "We'll cover:\n",
    "\n",
    "- source data\n",
    "- requirements, what we're aiming to do here\n",
    "- show the full script (all logic commented)\n",
    "- output the selection preview\n",
    "- nuances (where applicable)\n",
    "- view the output\n",
    "\n",
    "This sequencing is necessary as the output for some of the example is **really** long so that necessitates it coming last. If you're viewing this via a jupyter book (i.e on the site) you can navigate between the above sections via your right hand menu.\n",
    "\n",
    "_Note - these tutorial scripts might seem verbose due all the comments but that's ok (this is a tutorial after all). If you take them out you end up with a fairly succinct and human readable encapsulation of what would otherwise (with existing tools) be a rather convoluted and fragile set of instructions to express._\n",
    "\n",
    "In virtually all cases I'll make heavy use of `preview` and `bounded` to only look at relevant parts of what can be quite large datasets. Downloads links are provided for the source data."
   ]
  },
  {
   "cell_type": "markdown",
   "metadata": {},
   "source": [
    "## Source\n",
    "\n",
    "For this example we're extracting the tables 11 and 12 from an xls dataset dealing with household debt inequalities.\n",
    "\n",
    "The example highlights using iteration to join multiple tables into a coherent whole."
   ]
  },
  {
   "cell_type": "code",
   "execution_count": null,
   "metadata": {},
   "outputs": [],
   "source": [
    "from typing import List\n",
    "from tidychef import acquire, preview\n",
    "from tidychef.selection import XlsSelectable\n",
    "\n",
    "tables: List[XlsSelectable] = acquire.xls.http(\"https://raw.githubusercontent.com/mikeAdamss/tidychef/main/tests/fixtures/xls/householddebtdataset.xls\", tables=\"Table 11|Table 12\")\n",
    "for table in tables:\n",
    "    preview(table)"
   ]
  },
  {
   "cell_type": "markdown",
   "metadata": {},
   "source": [
    "From an xls source which can be [downloaded here](https://raw.githubusercontent.com/mikeAdamss/tidychef/main/tests/fixtures/xls/householddebtdataset.xls)."
   ]
  },
  {
   "cell_type": "markdown",
   "metadata": {},
   "source": [
    "## Requirements\n",
    "\n",
    "- We're going to extract \"Period\" from the obvious dates in column A.\n",
    "- We're just going to call the principle field indicated by column A \"Category\".\n",
    "- We're going to take \"Great Britain\" as a constant for a column named \"Area\".\n",
    "- We're going to take the headers on row 4 as \"Financial Liability\"\n",
    "- As an additional exercise we're going to use a horizontal condition to create a \"Unit Of Measure\" column to be one of \"Pounds Sterling\", \"Percent\", \"Ratio\" or \"Number\" depending on the category.\n",
    "- We're going to prefix \"Category\" as extracted from table 12 with \"Education: \" to make the data a little easier to understand.\n",
    "- We're going to join both tables into a single tidy data output.\n",
    "- We're going to de-duplicate with a printout of what we've removed - it should be the contents of row 14 as its duplicated on both tables.\n",
    "- We'll strip trailing \".0\"s from the observations (which we'll call \"Value\" this time)."
   ]
  },
  {
   "cell_type": "code",
   "execution_count": null,
   "metadata": {},
   "outputs": [],
   "source": [
    "from typing import Dict, List\n",
    "from tidychef import acquire, preview\n",
    "from tidychef.direction import down, right, left\n",
    "from tidychef.output import Column, TidyData\n",
    "from tidychef.selection import XlsSelectable\n",
    "\n",
    "# We'll use the vategory information to determine the unit of measure.\n",
    "# For more on how this works see the documentation for horizontal condition and the tourism example.\n",
    "def derive_unit_of_measure(line) -> str:\n",
    "    \"\"\"\n",
    "    Function to define unit of measure based on Financial Liability\n",
    "    \"\"\"\n",
    "    cat = line[\"Category\"]\n",
    "    if \"(%)\" in cat:\n",
    "        return \"Percent\"\n",
    "    elif \"(£)\" in cat:\n",
    "        return \"Pounds Sterling\"\n",
    "    elif \"Frequency\" in cat:\n",
    "        return \"Number\"\n",
    "    elif \"Ratio\" in cat:\n",
    "        return \"Ratio\"\n",
    "    else:\n",
    "        raise Exception(f\"Cannot identify unit of measure from: {cat}\")\n",
    "\n",
    "# We'll use two tables from this data source.\n",
    "tables: List[XlsSelectable] = acquire.xls.http(\"https://raw.githubusercontent.com/mikeAdamss/tidychef/main/tests/fixtures/xls/householddebtdataset.xls\", tables=\"Table 11|Table 12\")\n",
    "\n",
    "all_tidy_data = []\n",
    "for table in tables:\n",
    "    \n",
    "    # We just want the cell with Great Britain in it.\n",
    "    # You could hard code this into the tidydata but this way we'll be warned if this area cell is not there \n",
    "    area = table.excel_ref(\"A\").cell_containing_string(\"Great Britain\").label_as(\"Area\")\n",
    "    \n",
    "    # We'll need a regex to get the periods out of column A. This regex is looking for any string ending in 4 integers, i.e a year\n",
    "    period = table.excel_ref(\"A3\").fill(down).re(\".*[0-9]{4}\").assert_len(2).label_as(\"Period\")\n",
    "    \n",
    "    # The categories are to one level down and to the right of the area ell\n",
    "    category = area.shift(down).fill(right).label_as(\"Category\")\n",
    "    \n",
    "    # Observations are any numeric values below a category\n",
    "    observations = category.fill(down).is_not_blank().is_numeric().label_as(\"Observation\")\n",
    "    \n",
    "    # See nuances\n",
    "    financial_liability = (observations.shift(left) - observations).label_as(\"Financial Liability\")\n",
    "    \n",
    "    # The table in question dictates the type of liability category\n",
    "    liability_category = \"Economic Activity\" if table.name == \"Table 11\" else \"Education Level\"\n",
    "    \n",
    "    preview(observations, area, period, category, financial_liability)\n",
    "\n",
    "    tidy_data = TidyData(\n",
    "        observations,\n",
    "        Column(period.attach_closest(down)),\n",
    "        Column(category.attach_directly(down), apply=lambda x: \"Eduction: \"+x if table.name == \"Table 12\" else x), # see nuances\n",
    "        Column(financial_liability.attach_directly(right)),\n",
    "        Column.constant(\"Area\", area.lone_value()),\n",
    "        Column.constant(\"Liability Category\", liability_category),\n",
    "        Column.horizontal_condition(\"Unit Of Measure\", derive_unit_of_measure), # Derive unit of measure\n",
    "        obs_apply=lambda x: x.replace(\".0\", \"\") # We'll clean off the unwanted '.0's from the observations. \n",
    "    )\n",
    "\n",
    "    all_tidy_data.append(tidy_data)\n",
    "\n",
    "final_tidy_data = TidyData.from_tidy_list(all_tidy_data)"
   ]
  },
  {
   "cell_type": "markdown",
   "metadata": {},
   "source": [
    "## Nuances\n",
    "\n",
    "### Shift and remove self\n",
    "\n",
    "So there's a slightly counter intuitive pattern I'm using here that's worth exploring, namely:\n",
    "\n",
    "```python\n",
    "financial_liability = (observations.shift(left) - observations).label_as(\"Financial Liability\")\n",
    "```\n",
    "\n",
    "To understand this, we'll look at a few rows only of both `observations` and `observations.shift(left)`\n"
   ]
  },
  {
   "cell_type": "code",
   "execution_count": null,
   "metadata": {
    "tags": []
   },
   "outputs": [],
   "source": [
    "preview(observations.shift(left).label_as(\"Observations shifted left\"), bounded=\"A5:H8\")\n",
    "preview(observations.label_as(\"Observations\"), bounded=\"A5:H8\")"
   ]
  },
  {
   "cell_type": "markdown",
   "metadata": {},
   "source": [
    "Now lets look at what you get if you remove the first from the second"
   ]
  },
  {
   "cell_type": "code",
   "execution_count": null,
   "metadata": {
    "tags": []
   },
   "outputs": [],
   "source": [
    "result = (observations.shift(left) - observations).label_as(\"Result of subrtraction\")\n",
    "preview(result, bounded=\"A5:H8\")"
   ]
  },
  {
   "cell_type": "markdown",
   "metadata": {},
   "source": [
    "In simplest terms a subtraction of selections equates to\n",
    "\n",
    "**Remove any cells in the 2nd selection from the cells in the 1st selection.**\n",
    "\n",
    "Which is exactly what we're doing above."
   ]
  },
  {
   "cell_type": "markdown",
   "metadata": {},
   "source": [
    "# Outputs\n",
    "\n",
    "The tidy data can be [downloaded here](./household-debt.csv) and a full inline preview of the tidydata generated is shown below for those people who'd prefer to scroll."
   ]
  },
  {
   "cell_type": "code",
   "execution_count": null,
   "metadata": {},
   "outputs": [],
   "source": [
    "print(final_tidy_data)"
   ]
  }
 ],
 "metadata": {
  "kernelspec": {
   "display_name": "Python 3 (ipykernel)",
   "language": "python",
   "name": "python3"
  },
  "language_info": {
   "codemirror_mode": {
    "name": "ipython",
    "version": 3
   },
   "file_extension": ".py",
   "mimetype": "text/x-python",
   "name": "python",
   "nbconvert_exporter": "python",
   "pygments_lexer": "ipython3",
   "version": "3.12.11"
  }
 },
 "nbformat": 4,
 "nbformat_minor": 4
}
