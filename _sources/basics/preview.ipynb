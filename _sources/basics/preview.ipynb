{
 "cells": [
  {
   "attachments": {},
   "cell_type": "markdown",
   "metadata": {},
   "source": [
    "# Preview\n",
    "\n",
    "For these example we're going to [use table two of this sample xls file](https://github.com/mikeAdamss/datachef/raw/main/tests/fixtures/xlsx/ons-oic.xlsx) as show below. And use the `bounded=` keywword to keep the previews small.\n",
    "\n",
    "| <span style=\"color:green\">Note - `bounded=` is useful for presentational purposes such as this, but should generally be avoided when writing processing scripts as its possible to hide data that you might need to know about.  .</span>|\n",
    "|-----------------------------------------|"
   ]
  },
  {
   "cell_type": "code",
   "execution_count": 1,
   "metadata": {},
   "outputs": [
    {
     "data": {
      "text/html": [
       "\n",
       "    <html>\n",
       "        \n",
       "    <style>\n",
       "    table, th, td {\n",
       "        border: 1px solid;\n",
       "    }\n",
       "\n",
       "    table {\n",
       "        border-collapse: collapse;\n",
       "    }\n",
       "\n",
       "    td {\n",
       "        align: center;\n",
       "        border: 1px  black solid !important;\n",
       "        color: black !important;\n",
       "    }\n",
       "\n",
       "    th, td {\n",
       "        padding: 5px;\n",
       "    }\n",
       "\n",
       "    </style>\n",
       "    \n",
       "            <table>\n",
       "                \n",
       "            </table>\n",
       "\n",
       "            <body>\n",
       "                <h2>Table 1a</h2>\n",
       "                <table>\n",
       "                    <tr><td style=\"background-color:lightgrey\"></td><td style=\"background-color:lightgrey\">A</td><td style=\"background-color:lightgrey\">B</td><td style=\"background-color:lightgrey\">C</td><td style=\"background-color:lightgrey\">D</td><td style=\"background-color:lightgrey\">E</td><td style=\"background-color:lightgrey\">F</td><td style=\"background-color:lightgrey\">G</td></tr>\n",
       "<tr><td style=\"background-color:lightgrey\">1</td><td style=\"background-color:white\">Table 1a: Construction output in Great Britain, volume, seasonally adjusted, index numbers, by sector</td><td style=\"background-color:white\"></td><td style=\"background-color:white\"></td><td style=\"background-color:white\"></td><td style=\"background-color:white\"></td><td style=\"background-color:white\"></td><td style=\"background-color:white\"></td></tr>\n",
       "<tr><td style=\"background-color:lightgrey\">2</td><td style=\"background-color:white\">This worksheet contains one table. Some shorthand is used in this table [R&M] = repair and maintenance.</td><td style=\"background-color:white\"></td><td style=\"background-color:white\"></td><td style=\"background-color:white\"></td><td style=\"background-color:white\"></td><td style=\"background-color:white\"></td><td style=\"background-color:white\"></td></tr>\n",
       "<tr><td style=\"background-color:lightgrey\">3</td><td style=\"background-color:white\">Source: Construction Output and Employment from the Office for National Statistics</td><td style=\"background-color:white\"></td><td style=\"background-color:white\"></td><td style=\"background-color:white\"></td><td style=\"background-color:white\"></td><td style=\"background-color:white\"></td><td style=\"background-color:white\"></td></tr>\n",
       "<tr><td style=\"background-color:lightgrey\">4</td><td style=\"background-color:white\">2019=100</td><td style=\"background-color:white\"></td><td style=\"background-color:white\"></td><td style=\"background-color:white\"></td><td style=\"background-color:white\"></td><td style=\"background-color:white\"></td><td style=\"background-color:white\"></td></tr>\n",
       "<tr><td style=\"background-color:lightgrey\">5</td><td style=\"background-color:white\">Time period</td><td style=\"background-color:white\">Public new housing</td><td style=\"background-color:white\">Private new housing</td><td style=\"background-color:white\">Total new housing</td><td style=\"background-color:white\">Infrastructure new work</td><td style=\"background-color:white\">Public other new work</td><td style=\"background-color:white\">Private industrial new work</td></tr>\n",
       "<tr><td style=\"background-color:lightgrey\">6</td><td style=\"background-color:white\">Dataset identifier code</td><td style=\"background-color:white\">MV36</td><td style=\"background-color:white\">MV37</td><td style=\"background-color:white\">MVL7</td><td style=\"background-color:white\">MV38</td><td style=\"background-color:white\">MV39</td><td style=\"background-color:white\">MV3A</td></tr>\n",
       "<tr><td style=\"background-color:lightgrey\">7</td><td style=\"background-color:white\">1997</td><td style=\"background-color:white\">30.8</td><td style=\"background-color:white\">44.8</td><td style=\"background-color:white\">42.6</td><td style=\"background-color:white\">61.2</td><td style=\"background-color:white\">57.6</td><td style=\"background-color:white\">152.1</td></tr>\n",
       "<tr><td style=\"background-color:lightgrey\">8</td><td style=\"background-color:white\">1998</td><td style=\"background-color:white\">24.9</td><td style=\"background-color:white\">45.3</td><td style=\"background-color:white\">42</td><td style=\"background-color:white\">59.5</td><td style=\"background-color:white\">60.7</td><td style=\"background-color:white\">155</td></tr>\n",
       "<tr><td style=\"background-color:lightgrey\">9</td><td style=\"background-color:white\">1999</td><td style=\"background-color:white\">21.6</td><td style=\"background-color:white\">40.7</td><td style=\"background-color:white\">37.7</td><td style=\"background-color:white\">57.9</td><td style=\"background-color:white\">68.3</td><td style=\"background-color:white\">159.9</td></tr>\n",
       "<tr><td style=\"background-color:lightgrey\">10</td><td style=\"background-color:white\">2000</td><td style=\"background-color:white\">27.1</td><td style=\"background-color:white\">45.5</td><td style=\"background-color:white\">42.6</td><td style=\"background-color:white\">54.3</td><td style=\"background-color:white\">64.7</td><td style=\"background-color:white\">142.7</td></tr>\n",
       "<tr><td style=\"background-color:lightgrey\">11</td><td style=\"background-color:white\">2001</td><td style=\"background-color:white\">27.7</td><td style=\"background-color:white\">42.5</td><td style=\"background-color:white\">40.1</td><td style=\"background-color:white\">58.1</td><td style=\"background-color:white\">65.3</td><td style=\"background-color:white\">145.8</td></tr>\n",
       "\n",
       "                </table>\n",
       "            </body>\n",
       "            <br>\n",
       "        </html>\n",
       "    "
      ],
      "text/plain": [
       "<IPython.core.display.HTML object>"
      ]
     },
     "metadata": {},
     "output_type": "display_data"
    }
   ],
   "source": [
    "from typing import List\n",
    "from datachef import acquire, preview, XlsxSelectable\n",
    "\n",
    "tables: List[XlsxSelectable] = acquire.xlsx.http(\"https://github.com/mikeAdamss/datachef/raw/main/tests/fixtures/xlsx/ons-oic.xlsx\")\n",
    "preview(tables[3], bounded=\"A1:G11\")"
   ]
  },
  {
   "attachments": {},
   "cell_type": "markdown",
   "metadata": {},
   "source": [
    "## Selection & Preview\n",
    "\n",
    "We're going to make use of two selection methods now as follows.\n",
    "\n",
    "* `.excel_ref()` - use excel cel references to explicitly select a range of cells\n",
    "* `.label_as()` - give a user friendly label to a selection of cells\n",
    "\n",
    "We're going to start by making and previewing some simple selections with `.excel_ref()`"
   ]
  },
  {
   "attachments": {},
   "cell_type": "markdown",
   "metadata": {},
   "source": []
  },
  {
   "cell_type": "code",
   "execution_count": 2,
   "metadata": {},
   "outputs": [
    {
     "data": {
      "text/html": [
       "\n",
       "    <html>\n",
       "        \n",
       "    <style>\n",
       "    table, th, td {\n",
       "        border: 1px solid;\n",
       "    }\n",
       "\n",
       "    table {\n",
       "        border-collapse: collapse;\n",
       "    }\n",
       "\n",
       "    td {\n",
       "        align: center;\n",
       "        border: 1px  black solid !important;\n",
       "        color: black !important;\n",
       "    }\n",
       "\n",
       "    th, td {\n",
       "        padding: 5px;\n",
       "    }\n",
       "\n",
       "    </style>\n",
       "    \n",
       "            <table>\n",
       "                \n",
       "            <tr>\n",
       "                <td style=\"background-color:cyan\">Unnamed Selection: 0</td>\n",
       "            <tr>\n",
       "        \n",
       "            <tr>\n",
       "                <td style=\"background-color:#99ff99\">Unnamed Selection: 1</td>\n",
       "            <tr>\n",
       "        \n",
       "            <tr>\n",
       "                <td style=\"background-color:#eeccff\">Unnamed Selection: 2</td>\n",
       "            <tr>\n",
       "        \n",
       "            </table>\n",
       "\n",
       "            <body>\n",
       "                <h2>Table 1a</h2>\n",
       "                <table>\n",
       "                    <tr><td style=\"background-color:lightgrey\"></td><td style=\"background-color:lightgrey\">A</td><td style=\"background-color:lightgrey\">B</td><td style=\"background-color:lightgrey\">C</td><td style=\"background-color:lightgrey\">D</td><td style=\"background-color:lightgrey\">E</td><td style=\"background-color:lightgrey\">F</td><td style=\"background-color:lightgrey\">G</td></tr>\n",
       "<tr><td style=\"background-color:lightgrey\">1</td><td style=\"background-color:white\">Table 1a: Construction output in Great Britain, volume, seasonally adjusted, index numbers, by sector</td><td style=\"background-color:white\"></td><td style=\"background-color:white\"></td><td style=\"background-color:white\"></td><td style=\"background-color:white\"></td><td style=\"background-color:white\"></td><td style=\"background-color:white\"></td></tr>\n",
       "<tr><td style=\"background-color:lightgrey\">2</td><td style=\"background-color:white\">This worksheet contains one table. Some shorthand is used in this table [R&M] = repair and maintenance.</td><td style=\"background-color:white\"></td><td style=\"background-color:white\"></td><td style=\"background-color:white\"></td><td style=\"background-color:white\"></td><td style=\"background-color:white\"></td><td style=\"background-color:white\"></td></tr>\n",
       "<tr><td style=\"background-color:lightgrey\">3</td><td style=\"background-color:white\">Source: Construction Output and Employment from the Office for National Statistics</td><td style=\"background-color:white\"></td><td style=\"background-color:white\"></td><td style=\"background-color:white\"></td><td style=\"background-color:white\"></td><td style=\"background-color:white\"></td><td style=\"background-color:white\"></td></tr>\n",
       "<tr><td style=\"background-color:lightgrey\">4</td><td style=\"background-color:white\">2019=100</td><td style=\"background-color:white\"></td><td style=\"background-color:white\"></td><td style=\"background-color:white\"></td><td style=\"background-color:white\"></td><td style=\"background-color:white\"></td><td style=\"background-color:white\"></td></tr>\n",
       "<tr><td style=\"background-color:lightgrey\">5</td><td style=\"background-color:white\">Time period</td><td style=\"background-color:#99ff99\">Public new housing</td><td style=\"background-color:#99ff99\">Private new housing</td><td style=\"background-color:#99ff99\">Total new housing</td><td style=\"background-color:#99ff99\">Infrastructure new work</td><td style=\"background-color:#99ff99\">Public other new work</td><td style=\"background-color:#99ff99\">Private industrial new work</td></tr>\n",
       "<tr><td style=\"background-color:lightgrey\">6</td><td style=\"background-color:white\">Dataset identifier code</td><td style=\"background-color:#eeccff\">MV36</td><td style=\"background-color:#eeccff\">MV37</td><td style=\"background-color:#eeccff\">MVL7</td><td style=\"background-color:#eeccff\">MV38</td><td style=\"background-color:#eeccff\">MV39</td><td style=\"background-color:#eeccff\">MV3A</td></tr>\n",
       "<tr><td style=\"background-color:lightgrey\">7</td><td style=\"background-color:cyan\">1997</td><td style=\"background-color:white\">30.8</td><td style=\"background-color:white\">44.8</td><td style=\"background-color:white\">42.6</td><td style=\"background-color:white\">61.2</td><td style=\"background-color:white\">57.6</td><td style=\"background-color:white\">152.1</td></tr>\n",
       "<tr><td style=\"background-color:lightgrey\">8</td><td style=\"background-color:cyan\">1998</td><td style=\"background-color:white\">24.9</td><td style=\"background-color:white\">45.3</td><td style=\"background-color:white\">42</td><td style=\"background-color:white\">59.5</td><td style=\"background-color:white\">60.7</td><td style=\"background-color:white\">155</td></tr>\n",
       "<tr><td style=\"background-color:lightgrey\">9</td><td style=\"background-color:cyan\">1999</td><td style=\"background-color:white\">21.6</td><td style=\"background-color:white\">40.7</td><td style=\"background-color:white\">37.7</td><td style=\"background-color:white\">57.9</td><td style=\"background-color:white\">68.3</td><td style=\"background-color:white\">159.9</td></tr>\n",
       "<tr><td style=\"background-color:lightgrey\">10</td><td style=\"background-color:cyan\">2000</td><td style=\"background-color:white\">27.1</td><td style=\"background-color:white\">45.5</td><td style=\"background-color:white\">42.6</td><td style=\"background-color:white\">54.3</td><td style=\"background-color:white\">64.7</td><td style=\"background-color:white\">142.7</td></tr>\n",
       "<tr><td style=\"background-color:lightgrey\">11</td><td style=\"background-color:cyan\">2001</td><td style=\"background-color:white\">27.7</td><td style=\"background-color:white\">42.5</td><td style=\"background-color:white\">40.1</td><td style=\"background-color:white\">58.1</td><td style=\"background-color:white\">65.3</td><td style=\"background-color:white\">145.8</td></tr>\n",
       "\n",
       "                </table>\n",
       "            </body>\n",
       "            <br>\n",
       "        </html>\n",
       "    "
      ],
      "text/plain": [
       "<IPython.core.display.HTML object>"
      ]
     },
     "metadata": {},
     "output_type": "display_data"
    }
   ],
   "source": [
    "from typing import List\n",
    "from datachef import acquire, preview, XlsxSelectable\n",
    "\n",
    "tables: List[XlsxSelectable] = acquire.xlsx.http(\"https://github.com/mikeAdamss/datachef/raw/main/tests/fixtures/xlsx/ons-oic.xlsx\")\n",
    "\n",
    "# We're only working on 1 table here\n",
    "table = tables[3]\n",
    "\n",
    "# Create our selections\n",
    "time = table.excel_ref(\"A7:A11\")\n",
    "housing = table.excel_ref(\"B5:G5\")\n",
    "data_identifier_code = table.excel_ref(\"B6:G6\")\n",
    "\n",
    "# Note on multiple selections\n",
    "# - Any selections for previewing are just passed as positional arguments to preview().\n",
    "# - You dont need to pass in a blank selection, that is only necessary where no selections have been made.\n",
    "preview(time, housing, data_identifier_code, bounded=\"A1:G11\")"
   ]
  },
  {
   "attachments": {},
   "cell_type": "markdown",
   "metadata": {},
   "source": [
    "### ......and...beware the gotcha!\n",
    "\n",
    "And this makes a good example of why you need to be careful with the `bounded=` keyword.\n",
    "\n",
    "As shown below it can hide information you may need to know - to make this clear lets extend the  last preview another two rows and columns."
   ]
  },
  {
   "cell_type": "code",
   "execution_count": 3,
   "metadata": {},
   "outputs": [
    {
     "data": {
      "text/html": [
       "\n",
       "    <html>\n",
       "        \n",
       "    <style>\n",
       "    table, th, td {\n",
       "        border: 1px solid;\n",
       "    }\n",
       "\n",
       "    table {\n",
       "        border-collapse: collapse;\n",
       "    }\n",
       "\n",
       "    td {\n",
       "        align: center;\n",
       "        border: 1px  black solid !important;\n",
       "        color: black !important;\n",
       "    }\n",
       "\n",
       "    th, td {\n",
       "        padding: 5px;\n",
       "    }\n",
       "\n",
       "    </style>\n",
       "    \n",
       "            <table>\n",
       "                \n",
       "            <tr>\n",
       "                <td style=\"background-color:cyan\">Unnamed Selection: 0</td>\n",
       "            <tr>\n",
       "        \n",
       "            <tr>\n",
       "                <td style=\"background-color:#99ff99\">Unnamed Selection: 1</td>\n",
       "            <tr>\n",
       "        \n",
       "            <tr>\n",
       "                <td style=\"background-color:#eeccff\">Unnamed Selection: 2</td>\n",
       "            <tr>\n",
       "        \n",
       "            </table>\n",
       "\n",
       "            <body>\n",
       "                <h2>Table 1a</h2>\n",
       "                <table>\n",
       "                    <tr><td style=\"background-color:lightgrey\"></td><td style=\"background-color:lightgrey\">A</td><td style=\"background-color:lightgrey\">B</td><td style=\"background-color:lightgrey\">C</td><td style=\"background-color:lightgrey\">D</td><td style=\"background-color:lightgrey\">E</td><td style=\"background-color:lightgrey\">F</td><td style=\"background-color:lightgrey\">G</td><td style=\"background-color:lightgrey\">H</td><td style=\"background-color:lightgrey\">I</td></tr>\n",
       "<tr><td style=\"background-color:lightgrey\">1</td><td style=\"background-color:white\">Table 1a: Construction output in Great Britain, volume, seasonally adjusted, index numbers, by sector</td><td style=\"background-color:white\"></td><td style=\"background-color:white\"></td><td style=\"background-color:white\"></td><td style=\"background-color:white\"></td><td style=\"background-color:white\"></td><td style=\"background-color:white\"></td><td style=\"background-color:white\"></td><td style=\"background-color:white\"></td></tr>\n",
       "<tr><td style=\"background-color:lightgrey\">2</td><td style=\"background-color:white\">This worksheet contains one table. Some shorthand is used in this table [R&M] = repair and maintenance.</td><td style=\"background-color:white\"></td><td style=\"background-color:white\"></td><td style=\"background-color:white\"></td><td style=\"background-color:white\"></td><td style=\"background-color:white\"></td><td style=\"background-color:white\"></td><td style=\"background-color:white\"></td><td style=\"background-color:white\"></td></tr>\n",
       "<tr><td style=\"background-color:lightgrey\">3</td><td style=\"background-color:white\">Source: Construction Output and Employment from the Office for National Statistics</td><td style=\"background-color:white\"></td><td style=\"background-color:white\"></td><td style=\"background-color:white\"></td><td style=\"background-color:white\"></td><td style=\"background-color:white\"></td><td style=\"background-color:white\"></td><td style=\"background-color:white\"></td><td style=\"background-color:white\"></td></tr>\n",
       "<tr><td style=\"background-color:lightgrey\">4</td><td style=\"background-color:white\">2019=100</td><td style=\"background-color:white\"></td><td style=\"background-color:white\"></td><td style=\"background-color:white\"></td><td style=\"background-color:white\"></td><td style=\"background-color:white\"></td><td style=\"background-color:white\"></td><td style=\"background-color:white\"></td><td style=\"background-color:white\"></td></tr>\n",
       "<tr><td style=\"background-color:lightgrey\">5</td><td style=\"background-color:white\">Time period</td><td style=\"background-color:#99ff99\">Public new housing</td><td style=\"background-color:#99ff99\">Private new housing</td><td style=\"background-color:#99ff99\">Total new housing</td><td style=\"background-color:#99ff99\">Infrastructure new work</td><td style=\"background-color:#99ff99\">Public other new work</td><td style=\"background-color:#99ff99\">Private industrial new work</td><td style=\"background-color:white\">Private commercial new work</td><td style=\"background-color:white\">All new work</td></tr>\n",
       "<tr><td style=\"background-color:lightgrey\">6</td><td style=\"background-color:white\">Dataset identifier code</td><td style=\"background-color:#eeccff\">MV36</td><td style=\"background-color:#eeccff\">MV37</td><td style=\"background-color:#eeccff\">MVL7</td><td style=\"background-color:#eeccff\">MV38</td><td style=\"background-color:#eeccff\">MV39</td><td style=\"background-color:#eeccff\">MV3A</td><td style=\"background-color:white\">MV3B</td><td style=\"background-color:white\">MV3C</td></tr>\n",
       "<tr><td style=\"background-color:lightgrey\">7</td><td style=\"background-color:cyan\">1997</td><td style=\"background-color:white\">30.8</td><td style=\"background-color:white\">44.8</td><td style=\"background-color:white\">42.6</td><td style=\"background-color:white\">61.2</td><td style=\"background-color:white\">57.6</td><td style=\"background-color:white\">152.1</td><td style=\"background-color:white\">84.3</td><td style=\"background-color:white\">63.5</td></tr>\n",
       "<tr><td style=\"background-color:lightgrey\">8</td><td style=\"background-color:cyan\">1998</td><td style=\"background-color:white\">24.9</td><td style=\"background-color:white\">45.3</td><td style=\"background-color:white\">42</td><td style=\"background-color:white\">59.5</td><td style=\"background-color:white\">60.7</td><td style=\"background-color:white\">155</td><td style=\"background-color:white\">91.4</td><td style=\"background-color:white\">65.2</td></tr>\n",
       "<tr><td style=\"background-color:lightgrey\">9</td><td style=\"background-color:cyan\">1999</td><td style=\"background-color:white\">21.6</td><td style=\"background-color:white\">40.7</td><td style=\"background-color:white\">37.7</td><td style=\"background-color:white\">57.9</td><td style=\"background-color:white\">68.3</td><td style=\"background-color:white\">159.9</td><td style=\"background-color:white\">102.3</td><td style=\"background-color:white\">67.2</td></tr>\n",
       "<tr><td style=\"background-color:lightgrey\">10</td><td style=\"background-color:cyan\">2000</td><td style=\"background-color:white\">27.1</td><td style=\"background-color:white\">45.5</td><td style=\"background-color:white\">42.6</td><td style=\"background-color:white\">54.3</td><td style=\"background-color:white\">64.7</td><td style=\"background-color:white\">142.7</td><td style=\"background-color:white\">103.1</td><td style=\"background-color:white\">67.3</td></tr>\n",
       "<tr><td style=\"background-color:lightgrey\">11</td><td style=\"background-color:cyan\">2001</td><td style=\"background-color:white\">27.7</td><td style=\"background-color:white\">42.5</td><td style=\"background-color:white\">40.1</td><td style=\"background-color:white\">58.1</td><td style=\"background-color:white\">65.3</td><td style=\"background-color:white\">145.8</td><td style=\"background-color:white\">102.3</td><td style=\"background-color:white\">67.2</td></tr>\n",
       "<tr><td style=\"background-color:lightgrey\">12</td><td style=\"background-color:white\">2002</td><td style=\"background-color:white\">31.4</td><td style=\"background-color:white\">46.3</td><td style=\"background-color:white\">43.9</td><td style=\"background-color:white\">65.7</td><td style=\"background-color:white\">82.6</td><td style=\"background-color:white\">115.7</td><td style=\"background-color:white\">105.7</td><td style=\"background-color:white\">71.4</td></tr>\n",
       "<tr><td style=\"background-color:lightgrey\">13</td><td style=\"background-color:white\">2003</td><td style=\"background-color:white\">35.7</td><td style=\"background-color:white\">57.8</td><td style=\"background-color:white\">54.3</td><td style=\"background-color:white\">62</td><td style=\"background-color:white\">103.7</td><td style=\"background-color:white\">122.2</td><td style=\"background-color:white\">101.9</td><td style=\"background-color:white\">75.6</td></tr>\n",
       "<tr><td style=\"background-color:lightgrey\">14</td><td style=\"background-color:white\">2004</td><td style=\"background-color:white\">42.9</td><td style=\"background-color:white\">70.2</td><td style=\"background-color:white\">65.8</td><td style=\"background-color:white\">54.1</td><td style=\"background-color:white\">116.4</td><td style=\"background-color:white\">125.8</td><td style=\"background-color:white\">112.3</td><td style=\"background-color:white\">82.8</td></tr>\n",
       "\n",
       "                </table>\n",
       "            </body>\n",
       "            <br>\n",
       "        </html>\n",
       "    "
      ],
      "text/plain": [
       "<IPython.core.display.HTML object>"
      ]
     },
     "metadata": {},
     "output_type": "display_data"
    }
   ],
   "source": [
    "preview(time, housing, data_identifier_code, bounded=\"A1:I14\")"
   ]
  },
  {
   "attachments": {},
   "cell_type": "markdown",
   "metadata": {},
   "source": [
    "From here we're going to continue using `bounded=` for reasons of practicality, just be aware of this gotcha in your own scripts."
   ]
  },
  {
   "attachments": {},
   "cell_type": "markdown",
   "metadata": {},
   "source": [
    "## Labelling Selections\n",
    "\n",
    "Lets do a similar thing but this time let's use `.label_as()` to give our cell selection some semantic meaning."
   ]
  },
  {
   "cell_type": "code",
   "execution_count": 4,
   "metadata": {},
   "outputs": [
    {
     "data": {
      "text/html": [
       "\n",
       "    <html>\n",
       "        \n",
       "    <style>\n",
       "    table, th, td {\n",
       "        border: 1px solid;\n",
       "    }\n",
       "\n",
       "    table {\n",
       "        border-collapse: collapse;\n",
       "    }\n",
       "\n",
       "    td {\n",
       "        align: center;\n",
       "        border: 1px  black solid !important;\n",
       "        color: black !important;\n",
       "    }\n",
       "\n",
       "    th, td {\n",
       "        padding: 5px;\n",
       "    }\n",
       "\n",
       "    </style>\n",
       "    \n",
       "            <table>\n",
       "                \n",
       "            <tr>\n",
       "                <td style=\"background-color:cyan\">Time</td>\n",
       "            <tr>\n",
       "        \n",
       "            <tr>\n",
       "                <td style=\"background-color:#99ff99\">Housing</td>\n",
       "            <tr>\n",
       "        \n",
       "            <tr>\n",
       "                <td style=\"background-color:#eeccff\">Data Identifier Code</td>\n",
       "            <tr>\n",
       "        \n",
       "            </table>\n",
       "\n",
       "            <body>\n",
       "                <h2>Table 1a</h2>\n",
       "                <table>\n",
       "                    <tr><td style=\"background-color:lightgrey\"></td><td style=\"background-color:lightgrey\">A</td><td style=\"background-color:lightgrey\">B</td><td style=\"background-color:lightgrey\">C</td><td style=\"background-color:lightgrey\">D</td><td style=\"background-color:lightgrey\">E</td><td style=\"background-color:lightgrey\">F</td><td style=\"background-color:lightgrey\">G</td></tr>\n",
       "<tr><td style=\"background-color:lightgrey\">1</td><td style=\"background-color:white\">Table 1a: Construction output in Great Britain, volume, seasonally adjusted, index numbers, by sector</td><td style=\"background-color:white\"></td><td style=\"background-color:white\"></td><td style=\"background-color:white\"></td><td style=\"background-color:white\"></td><td style=\"background-color:white\"></td><td style=\"background-color:white\"></td></tr>\n",
       "<tr><td style=\"background-color:lightgrey\">2</td><td style=\"background-color:white\">This worksheet contains one table. Some shorthand is used in this table [R&M] = repair and maintenance.</td><td style=\"background-color:white\"></td><td style=\"background-color:white\"></td><td style=\"background-color:white\"></td><td style=\"background-color:white\"></td><td style=\"background-color:white\"></td><td style=\"background-color:white\"></td></tr>\n",
       "<tr><td style=\"background-color:lightgrey\">3</td><td style=\"background-color:white\">Source: Construction Output and Employment from the Office for National Statistics</td><td style=\"background-color:white\"></td><td style=\"background-color:white\"></td><td style=\"background-color:white\"></td><td style=\"background-color:white\"></td><td style=\"background-color:white\"></td><td style=\"background-color:white\"></td></tr>\n",
       "<tr><td style=\"background-color:lightgrey\">4</td><td style=\"background-color:white\">2019=100</td><td style=\"background-color:white\"></td><td style=\"background-color:white\"></td><td style=\"background-color:white\"></td><td style=\"background-color:white\"></td><td style=\"background-color:white\"></td><td style=\"background-color:white\"></td></tr>\n",
       "<tr><td style=\"background-color:lightgrey\">5</td><td style=\"background-color:white\">Time period</td><td style=\"background-color:#99ff99\">Public new housing</td><td style=\"background-color:#99ff99\">Private new housing</td><td style=\"background-color:#99ff99\">Total new housing</td><td style=\"background-color:#99ff99\">Infrastructure new work</td><td style=\"background-color:#99ff99\">Public other new work</td><td style=\"background-color:#99ff99\">Private industrial new work</td></tr>\n",
       "<tr><td style=\"background-color:lightgrey\">6</td><td style=\"background-color:white\">Dataset identifier code</td><td style=\"background-color:#eeccff\">MV36</td><td style=\"background-color:#eeccff\">MV37</td><td style=\"background-color:#eeccff\">MVL7</td><td style=\"background-color:#eeccff\">MV38</td><td style=\"background-color:#eeccff\">MV39</td><td style=\"background-color:#eeccff\">MV3A</td></tr>\n",
       "<tr><td style=\"background-color:lightgrey\">7</td><td style=\"background-color:cyan\">1997</td><td style=\"background-color:white\">30.8</td><td style=\"background-color:white\">44.8</td><td style=\"background-color:white\">42.6</td><td style=\"background-color:white\">61.2</td><td style=\"background-color:white\">57.6</td><td style=\"background-color:white\">152.1</td></tr>\n",
       "<tr><td style=\"background-color:lightgrey\">8</td><td style=\"background-color:cyan\">1998</td><td style=\"background-color:white\">24.9</td><td style=\"background-color:white\">45.3</td><td style=\"background-color:white\">42</td><td style=\"background-color:white\">59.5</td><td style=\"background-color:white\">60.7</td><td style=\"background-color:white\">155</td></tr>\n",
       "<tr><td style=\"background-color:lightgrey\">9</td><td style=\"background-color:cyan\">1999</td><td style=\"background-color:white\">21.6</td><td style=\"background-color:white\">40.7</td><td style=\"background-color:white\">37.7</td><td style=\"background-color:white\">57.9</td><td style=\"background-color:white\">68.3</td><td style=\"background-color:white\">159.9</td></tr>\n",
       "<tr><td style=\"background-color:lightgrey\">10</td><td style=\"background-color:cyan\">2000</td><td style=\"background-color:white\">27.1</td><td style=\"background-color:white\">45.5</td><td style=\"background-color:white\">42.6</td><td style=\"background-color:white\">54.3</td><td style=\"background-color:white\">64.7</td><td style=\"background-color:white\">142.7</td></tr>\n",
       "<tr><td style=\"background-color:lightgrey\">11</td><td style=\"background-color:cyan\">2001</td><td style=\"background-color:white\">27.7</td><td style=\"background-color:white\">42.5</td><td style=\"background-color:white\">40.1</td><td style=\"background-color:white\">58.1</td><td style=\"background-color:white\">65.3</td><td style=\"background-color:white\">145.8</td></tr>\n",
       "\n",
       "                </table>\n",
       "            </body>\n",
       "            <br>\n",
       "        </html>\n",
       "    "
      ],
      "text/plain": [
       "<IPython.core.display.HTML object>"
      ]
     },
     "metadata": {},
     "output_type": "display_data"
    }
   ],
   "source": [
    "from typing import List\n",
    "from datachef import acquire, preview, XlsxSelectable\n",
    "\n",
    "tables: List[XlsxSelectable] = acquire.xlsx.http(\"https://github.com/mikeAdamss/datachef/raw/main/tests/fixtures/xlsx/ons-oic.xlsx\")\n",
    "table = tables[3]\n",
    "\n",
    "# Create our selections\n",
    "time = table.excel_ref(\"A7:A11\").label_as(\"Time\")\n",
    "housing = table.excel_ref(\"B5:G5\").label_as(\"Housing\")\n",
    "data_identifier_code = table.excel_ref(\"B6:G6\").label_as(\"Data Identifier Code\")\n",
    "\n",
    "preview(time, housing, data_identifier_code, bounded=\"A1:G11\")"
   ]
  },
  {
   "attachments": {},
   "cell_type": "markdown",
   "metadata": {},
   "source": [
    "# Excel notations\n",
    "\n",
    "As previously mentioned, the default behaviour for `preview()` is to show excel style column and row notations.\n",
    "\n",
    "This is nearly always the practical choice when processing but can lead to some confusion when previewing your work (especially where previewing a non excel format).\n",
    "\n",
    "As a nod to these scenarios you can use the `with_excel_notations=` keyword to change this behaviour as per the following example. "
   ]
  },
  {
   "cell_type": "code",
   "execution_count": 5,
   "metadata": {},
   "outputs": [
    {
     "data": {
      "text/html": [
       "\n",
       "    <html>\n",
       "        \n",
       "    <style>\n",
       "    table, th, td {\n",
       "        border: 1px solid;\n",
       "    }\n",
       "\n",
       "    table {\n",
       "        border-collapse: collapse;\n",
       "    }\n",
       "\n",
       "    td {\n",
       "        align: center;\n",
       "        border: 1px  black solid !important;\n",
       "        color: black !important;\n",
       "    }\n",
       "\n",
       "    th, td {\n",
       "        padding: 5px;\n",
       "    }\n",
       "\n",
       "    </style>\n",
       "    \n",
       "            <table>\n",
       "                \n",
       "            <tr>\n",
       "                <td style=\"background-color:cyan\">Time</td>\n",
       "            <tr>\n",
       "        \n",
       "            <tr>\n",
       "                <td style=\"background-color:#99ff99\">Housing</td>\n",
       "            <tr>\n",
       "        \n",
       "            <tr>\n",
       "                <td style=\"background-color:#eeccff\">Data Identifier Code</td>\n",
       "            <tr>\n",
       "        \n",
       "            </table>\n",
       "\n",
       "            <body>\n",
       "                <h2>Table 1a</h2>\n",
       "                <table>\n",
       "                    <tr><td style=\"background-color:white\">Table 1a: Construction output in Great Britain, volume, seasonally adjusted, index numbers, by sector</td><td style=\"background-color:white\"></td><td style=\"background-color:white\"></td><td style=\"background-color:white\"></td><td style=\"background-color:white\"></td><td style=\"background-color:white\"></td><td style=\"background-color:white\"></td></tr>\n",
       "<tr><td style=\"background-color:white\">This worksheet contains one table. Some shorthand is used in this table [R&M] = repair and maintenance.</td><td style=\"background-color:white\"></td><td style=\"background-color:white\"></td><td style=\"background-color:white\"></td><td style=\"background-color:white\"></td><td style=\"background-color:white\"></td><td style=\"background-color:white\"></td></tr>\n",
       "<tr><td style=\"background-color:white\">Source: Construction Output and Employment from the Office for National Statistics</td><td style=\"background-color:white\"></td><td style=\"background-color:white\"></td><td style=\"background-color:white\"></td><td style=\"background-color:white\"></td><td style=\"background-color:white\"></td><td style=\"background-color:white\"></td></tr>\n",
       "<tr><td style=\"background-color:white\">2019=100</td><td style=\"background-color:white\"></td><td style=\"background-color:white\"></td><td style=\"background-color:white\"></td><td style=\"background-color:white\"></td><td style=\"background-color:white\"></td><td style=\"background-color:white\"></td></tr>\n",
       "<tr><td style=\"background-color:white\">Time period</td><td style=\"background-color:#99ff99\">Public new housing</td><td style=\"background-color:#99ff99\">Private new housing</td><td style=\"background-color:#99ff99\">Total new housing</td><td style=\"background-color:#99ff99\">Infrastructure new work</td><td style=\"background-color:#99ff99\">Public other new work</td><td style=\"background-color:#99ff99\">Private industrial new work</td></tr>\n",
       "<tr><td style=\"background-color:white\">Dataset identifier code</td><td style=\"background-color:#eeccff\">MV36</td><td style=\"background-color:#eeccff\">MV37</td><td style=\"background-color:#eeccff\">MVL7</td><td style=\"background-color:#eeccff\">MV38</td><td style=\"background-color:#eeccff\">MV39</td><td style=\"background-color:#eeccff\">MV3A</td></tr>\n",
       "<tr><td style=\"background-color:cyan\">1997</td><td style=\"background-color:white\">30.8</td><td style=\"background-color:white\">44.8</td><td style=\"background-color:white\">42.6</td><td style=\"background-color:white\">61.2</td><td style=\"background-color:white\">57.6</td><td style=\"background-color:white\">152.1</td></tr>\n",
       "<tr><td style=\"background-color:cyan\">1998</td><td style=\"background-color:white\">24.9</td><td style=\"background-color:white\">45.3</td><td style=\"background-color:white\">42</td><td style=\"background-color:white\">59.5</td><td style=\"background-color:white\">60.7</td><td style=\"background-color:white\">155</td></tr>\n",
       "<tr><td style=\"background-color:cyan\">1999</td><td style=\"background-color:white\">21.6</td><td style=\"background-color:white\">40.7</td><td style=\"background-color:white\">37.7</td><td style=\"background-color:white\">57.9</td><td style=\"background-color:white\">68.3</td><td style=\"background-color:white\">159.9</td></tr>\n",
       "<tr><td style=\"background-color:cyan\">2000</td><td style=\"background-color:white\">27.1</td><td style=\"background-color:white\">45.5</td><td style=\"background-color:white\">42.6</td><td style=\"background-color:white\">54.3</td><td style=\"background-color:white\">64.7</td><td style=\"background-color:white\">142.7</td></tr>\n",
       "<tr><td style=\"background-color:cyan\">2001</td><td style=\"background-color:white\">27.7</td><td style=\"background-color:white\">42.5</td><td style=\"background-color:white\">40.1</td><td style=\"background-color:white\">58.1</td><td style=\"background-color:white\">65.3</td><td style=\"background-color:white\">145.8</td></tr>\n",
       "<tr><td style=\"background-color:white\">2002</td><td style=\"background-color:white\">31.4</td><td style=\"background-color:white\">46.3</td><td style=\"background-color:white\">43.9</td><td style=\"background-color:white\">65.7</td><td style=\"background-color:white\">82.6</td><td style=\"background-color:white\">115.7</td></tr>\n",
       "<tr><td style=\"background-color:white\">2003</td><td style=\"background-color:white\">35.7</td><td style=\"background-color:white\">57.8</td><td style=\"background-color:white\">54.3</td><td style=\"background-color:white\">62</td><td style=\"background-color:white\">103.7</td><td style=\"background-color:white\">122.2</td></tr>\n",
       "<tr><td style=\"background-color:white\">2004</td><td style=\"background-color:white\">42.9</td><td style=\"background-color:white\">70.2</td><td style=\"background-color:white\">65.8</td><td style=\"background-color:white\">54.1</td><td style=\"background-color:white\">116.4</td><td style=\"background-color:white\">125.8</td></tr>\n",
       "\n",
       "                </table>\n",
       "            </body>\n",
       "            <br>\n",
       "        </html>\n",
       "    "
      ],
      "text/plain": [
       "<IPython.core.display.HTML object>"
      ]
     },
     "metadata": {},
     "output_type": "display_data"
    }
   ],
   "source": [
    "preview(time, housing, data_identifier_code, bounded=\"A1:G14\", with_excel_notations=False)"
   ]
  },
  {
   "attachments": {},
   "cell_type": "markdown",
   "metadata": {},
   "source": [
    "# Alternative Bounded Arguments"
   ]
  },
  {
   "attachments": {},
   "cell_type": "markdown",
   "metadata": {},
   "source": [
    "Passing in an excel reference for `bounded=` somewhat defeats the idea of using `with_excel_notations=False` so you can also pass in a dictionary of x/y positional offets should you need to as per the following example.\n",
    "\n",
    "| <span style=\"color:green\">To reiterate: the expected, encouraged and principally supported behaviour of datachef is to use excel style references for human readability, the following is again just an effort to support presentational edge cases where a reference to excel when working with non excel data could cause audience confusion.</span>|\n",
    "|-----------------------------------------|"
   ]
  },
  {
   "cell_type": "code",
   "execution_count": 6,
   "metadata": {},
   "outputs": [
    {
     "data": {
      "text/html": [
       "\n",
       "    <html>\n",
       "        \n",
       "    <style>\n",
       "    table, th, td {\n",
       "        border: 1px solid;\n",
       "    }\n",
       "\n",
       "    table {\n",
       "        border-collapse: collapse;\n",
       "    }\n",
       "\n",
       "    td {\n",
       "        align: center;\n",
       "        border: 1px  black solid !important;\n",
       "        color: black !important;\n",
       "    }\n",
       "\n",
       "    th, td {\n",
       "        padding: 5px;\n",
       "    }\n",
       "\n",
       "    </style>\n",
       "    \n",
       "            <table>\n",
       "                \n",
       "            <tr>\n",
       "                <td style=\"background-color:cyan\">Time</td>\n",
       "            <tr>\n",
       "        \n",
       "            <tr>\n",
       "                <td style=\"background-color:#99ff99\">Housing</td>\n",
       "            <tr>\n",
       "        \n",
       "            <tr>\n",
       "                <td style=\"background-color:#eeccff\">Data Identifier Code</td>\n",
       "            <tr>\n",
       "        \n",
       "            </table>\n",
       "\n",
       "            <body>\n",
       "                <h2>Table 1a</h2>\n",
       "                <table>\n",
       "                    <tr><td style=\"background-color:white\">Table 1a: Construction output in Great Britain, volume, seasonally adjusted, index numbers, by sector</td><td style=\"background-color:white\"></td><td style=\"background-color:white\"></td><td style=\"background-color:white\"></td><td style=\"background-color:white\"></td><td style=\"background-color:white\"></td><td style=\"background-color:white\"></td></tr>\n",
       "<tr><td style=\"background-color:white\">This worksheet contains one table. Some shorthand is used in this table [R&M] = repair and maintenance.</td><td style=\"background-color:white\"></td><td style=\"background-color:white\"></td><td style=\"background-color:white\"></td><td style=\"background-color:white\"></td><td style=\"background-color:white\"></td><td style=\"background-color:white\"></td></tr>\n",
       "<tr><td style=\"background-color:white\">Source: Construction Output and Employment from the Office for National Statistics</td><td style=\"background-color:white\"></td><td style=\"background-color:white\"></td><td style=\"background-color:white\"></td><td style=\"background-color:white\"></td><td style=\"background-color:white\"></td><td style=\"background-color:white\"></td></tr>\n",
       "<tr><td style=\"background-color:white\">2019=100</td><td style=\"background-color:white\"></td><td style=\"background-color:white\"></td><td style=\"background-color:white\"></td><td style=\"background-color:white\"></td><td style=\"background-color:white\"></td><td style=\"background-color:white\"></td></tr>\n",
       "<tr><td style=\"background-color:white\">Time period</td><td style=\"background-color:#99ff99\">Public new housing</td><td style=\"background-color:#99ff99\">Private new housing</td><td style=\"background-color:#99ff99\">Total new housing</td><td style=\"background-color:#99ff99\">Infrastructure new work</td><td style=\"background-color:#99ff99\">Public other new work</td><td style=\"background-color:#99ff99\">Private industrial new work</td></tr>\n",
       "<tr><td style=\"background-color:white\">Dataset identifier code</td><td style=\"background-color:#eeccff\">MV36</td><td style=\"background-color:#eeccff\">MV37</td><td style=\"background-color:#eeccff\">MVL7</td><td style=\"background-color:#eeccff\">MV38</td><td style=\"background-color:#eeccff\">MV39</td><td style=\"background-color:#eeccff\">MV3A</td></tr>\n",
       "<tr><td style=\"background-color:cyan\">1997</td><td style=\"background-color:white\">30.8</td><td style=\"background-color:white\">44.8</td><td style=\"background-color:white\">42.6</td><td style=\"background-color:white\">61.2</td><td style=\"background-color:white\">57.6</td><td style=\"background-color:white\">152.1</td></tr>\n",
       "<tr><td style=\"background-color:cyan\">1998</td><td style=\"background-color:white\">24.9</td><td style=\"background-color:white\">45.3</td><td style=\"background-color:white\">42</td><td style=\"background-color:white\">59.5</td><td style=\"background-color:white\">60.7</td><td style=\"background-color:white\">155</td></tr>\n",
       "<tr><td style=\"background-color:cyan\">1999</td><td style=\"background-color:white\">21.6</td><td style=\"background-color:white\">40.7</td><td style=\"background-color:white\">37.7</td><td style=\"background-color:white\">57.9</td><td style=\"background-color:white\">68.3</td><td style=\"background-color:white\">159.9</td></tr>\n",
       "<tr><td style=\"background-color:cyan\">2000</td><td style=\"background-color:white\">27.1</td><td style=\"background-color:white\">45.5</td><td style=\"background-color:white\">42.6</td><td style=\"background-color:white\">54.3</td><td style=\"background-color:white\">64.7</td><td style=\"background-color:white\">142.7</td></tr>\n",
       "<tr><td style=\"background-color:cyan\">2001</td><td style=\"background-color:white\">27.7</td><td style=\"background-color:white\">42.5</td><td style=\"background-color:white\">40.1</td><td style=\"background-color:white\">58.1</td><td style=\"background-color:white\">65.3</td><td style=\"background-color:white\">145.8</td></tr>\n",
       "\n",
       "                </table>\n",
       "            </body>\n",
       "            <br>\n",
       "        </html>\n",
       "    "
      ],
      "text/plain": [
       "<IPython.core.display.HTML object>"
      ]
     },
     "metadata": {},
     "output_type": "display_data"
    }
   ],
   "source": [
    "preview(time, housing, data_identifier_code, bounded={\"start_xy\": \"0,0\", \"end_xy\": \"6,10\"},\n",
    "        with_excel_notations=False)"
   ]
  }
 ],
 "metadata": {
  "kernelspec": {
   "display_name": "datachef-hNSMaw3h-py3.9",
   "language": "python",
   "name": "python3"
  },
  "language_info": {
   "codemirror_mode": {
    "name": "ipython",
    "version": 3
   },
   "file_extension": ".py",
   "mimetype": "text/x-python",
   "name": "python",
   "nbconvert_exporter": "python",
   "pygments_lexer": "ipython3",
   "version": "3.9.7"
  },
  "orig_nbformat": 4
 },
 "nbformat": 4,
 "nbformat_minor": 2
}
