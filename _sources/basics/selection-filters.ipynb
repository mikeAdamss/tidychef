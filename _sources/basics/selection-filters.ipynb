{
 "cells": [
  {
   "attachments": {},
   "cell_type": "markdown",
   "metadata": {},
   "source": [
    "# Selection: Filters\n",
    "\n",
    "Filters are a means of applying conditional logic to filter down any given selection of cells.\n",
    "\n",
    "Some standard filters are provided and will be explained here. We will also give some simple examples of how to make your own filters."
   ]
  },
  {
   "attachments": {},
   "cell_type": "markdown",
   "metadata": {},
   "source": [
    "## Source Data\n",
    "\n",
    "The data source we're using for these examples is shown below:\n",
    "\n",
    "| <span style=\"color:green\">Note - this particular table has some very verbose headers we don't care about, so we'll be using `bounded=` to remove them from the previews as well as to show just the subset of data we're working with.</span>|\n",
    "|-----------------------------------------|\n",
    "\n",
    "The [full data source can be downloaded here](https://github.com/mikeAdamss/tidychef/raw/main/tests/fixtures/xlsx/ons-oic.xlsx). We'll be using th 6th tab named \"Table2a\"."
   ]
  },
  {
   "cell_type": "code",
   "execution_count": 1,
   "metadata": {},
   "outputs": [
    {
     "data": {
      "text/html": [
       "\n",
       "    <html>\n",
       "        \n",
       "    <style>\n",
       "    table, th, td {\n",
       "        border: 1px solid;\n",
       "    }\n",
       "\n",
       "    table {\n",
       "        border-collapse: collapse;\n",
       "    }\n",
       "\n",
       "    td {\n",
       "        align: center;\n",
       "        border: 1px  black solid !important;\n",
       "        color: black !important;\n",
       "    }\n",
       "\n",
       "    th, td {\n",
       "        padding: 5px;\n",
       "    }\n",
       "\n",
       "    </style>\n",
       "    \n",
       "            <table>\n",
       "                \n",
       "            </table>\n",
       "\n",
       "            <body>\n",
       "                <h2>Table 2a</h2>\n",
       "                <table>\n",
       "                    <tr><td style=\"background-color:lightgrey\"></td><td style=\"background-color:lightgrey\">A</td><td style=\"background-color:lightgrey\">B</td><td style=\"background-color:lightgrey\">C</td><td style=\"background-color:lightgrey\">D</td><td style=\"background-color:lightgrey\">E</td><td style=\"background-color:lightgrey\">F</td><td style=\"background-color:lightgrey\">G</td><td style=\"background-color:lightgrey\">H</td></tr>\n",
       "<tr><td style=\"background-color:lightgrey\">4</td><td style=\"background-color:white\">£ million</td><td style=\"background-color:white\"></td><td style=\"background-color:white\"></td><td style=\"background-color:white\"></td><td style=\"background-color:white\"></td><td style=\"background-color:white\"></td><td style=\"background-color:white\"></td><td style=\"background-color:white\"></td></tr>\n",
       "<tr><td style=\"background-color:lightgrey\">5</td><td style=\"background-color:white\">Time period</td><td style=\"background-color:white\">Public new housing</td><td style=\"background-color:white\">Private new housing</td><td style=\"background-color:white\">Total new housing</td><td style=\"background-color:white\">Infrastructure new work</td><td style=\"background-color:white\">Public other new work</td><td style=\"background-color:white\">Private industrial new work</td><td style=\"background-color:white\">Private commercial new work</td></tr>\n",
       "<tr><td style=\"background-color:lightgrey\">6</td><td style=\"background-color:white\">Dataset identifier code</td><td style=\"background-color:white\">MV3W</td><td style=\"background-color:white\">MV3X</td><td style=\"background-color:white\">MVL9</td><td style=\"background-color:white\">MV3Y</td><td style=\"background-color:white\">MV3Z</td><td style=\"background-color:white\">MV42</td><td style=\"background-color:white\">MV43</td></tr>\n",
       "<tr><td style=\"background-color:lightgrey\">7</td><td style=\"background-color:white\">1997</td><td style=\"background-color:white\">2158</td><td style=\"background-color:white\">17588</td><td style=\"background-color:white\">19690</td><td style=\"background-color:white\">14015</td><td style=\"background-color:white\">6010</td><td style=\"background-color:white\">8721</td><td style=\"background-color:white\">25517</td></tr>\n",
       "<tr><td style=\"background-color:lightgrey\">8</td><td style=\"background-color:white\">1998</td><td style=\"background-color:white\">1748</td><td style=\"background-color:white\">17764</td><td style=\"background-color:white\">19448</td><td style=\"background-color:white\">13627</td><td style=\"background-color:white\">6334</td><td style=\"background-color:white\">8885</td><td style=\"background-color:white\">27655</td></tr>\n",
       "<tr><td style=\"background-color:lightgrey\">9</td><td style=\"background-color:white\">1999</td><td style=\"background-color:white\">1515</td><td style=\"background-color:white\">15980</td><td style=\"background-color:white\">17436</td><td style=\"background-color:white\">13247</td><td style=\"background-color:white\">7129</td><td style=\"background-color:white\">9167</td><td style=\"background-color:white\">30963</td></tr>\n",
       "<tr><td style=\"background-color:lightgrey\">10</td><td style=\"background-color:white\">2000</td><td style=\"background-color:white\">1901</td><td style=\"background-color:white\">17853</td><td style=\"background-color:white\">19693</td><td style=\"background-color:white\">12430</td><td style=\"background-color:white\">6753</td><td style=\"background-color:white\">8182</td><td style=\"background-color:white\">31200</td></tr>\n",
       "\n",
       "                </table>\n",
       "            </body>\n",
       "            <br>\n",
       "        </html>\n",
       "    "
      ],
      "text/plain": [
       "<IPython.core.display.HTML object>"
      ]
     },
     "metadata": {},
     "output_type": "display_data"
    }
   ],
   "source": [
    "from tidychef import acquire, preview\n",
    "from tidychef.selection import XlsxSelectable\n",
    "\n",
    "table: XlsxSelectable = acquire.xlsx.http(\"https://github.com/mikeAdamss/tidychef/raw/main/tests/fixtures/xlsx/ons-oic.xlsx\", tables=\"Table 2a\")\n",
    "preview(table, bounded=\"A4:H10\")"
   ]
  },
  {
   "attachments": {},
   "cell_type": "markdown",
   "metadata": {},
   "source": [
    "## The Intention Of Filters\n",
    "\n",
    "Pre-existing filters are imported via the `filters` module and typically accessed via dot notation as arguments to the `.filter()` method.\n",
    "\n",
    "This is a conscious design choice to allow us to freely add additional filters without polluting or over complicating the tidychef api.\n",
    "\n",
    "| <span style=\"color:green\">Note - while this is a reasonably future proofed pattern, the intention here is to principally empower users to create filters or libraries of filters for their own use cases, DRY etc.</span>|\n",
    "|-----------------------------------------|\n"
   ]
  },
  {
   "attachments": {},
   "cell_type": "markdown",
   "metadata": {},
   "source": [
    "## Filter Numeric\n",
    "\n",
    "Filters that work with the numeric or non numeric values of cells."
   ]
  },
  {
   "cell_type": "code",
   "execution_count": 2,
   "metadata": {},
   "outputs": [
    {
     "data": {
      "text/html": [
       "\n",
       "    <html>\n",
       "        \n",
       "    <style>\n",
       "    table, th, td {\n",
       "        border: 1px solid;\n",
       "    }\n",
       "\n",
       "    table {\n",
       "        border-collapse: collapse;\n",
       "    }\n",
       "\n",
       "    td {\n",
       "        align: center;\n",
       "        border: 1px  black solid !important;\n",
       "        color: black !important;\n",
       "    }\n",
       "\n",
       "    th, td {\n",
       "        padding: 5px;\n",
       "    }\n",
       "\n",
       "    </style>\n",
       "    \n",
       "            <table>\n",
       "                \n",
       "            <tr>\n",
       "                <td style=\"background-color:cyan\">Cells that are numeric</td>\n",
       "            <tr>\n",
       "        \n",
       "            <tr>\n",
       "                <td style=\"background-color:#99ff99\">Cells that are NOT numeric</td>\n",
       "            <tr>\n",
       "        \n",
       "            </table>\n",
       "\n",
       "            <body>\n",
       "                <h2>Table 2a</h2>\n",
       "                <table>\n",
       "                    <tr><td style=\"background-color:lightgrey\"></td><td style=\"background-color:lightgrey\">A</td><td style=\"background-color:lightgrey\">B</td><td style=\"background-color:lightgrey\">C</td><td style=\"background-color:lightgrey\">D</td><td style=\"background-color:lightgrey\">E</td><td style=\"background-color:lightgrey\">F</td><td style=\"background-color:lightgrey\">G</td><td style=\"background-color:lightgrey\">H</td></tr>\n",
       "<tr><td style=\"background-color:lightgrey\">4</td><td style=\"background-color:#99ff99\">£ million</td><td style=\"background-color:#99ff99\"></td><td style=\"background-color:#99ff99\"></td><td style=\"background-color:#99ff99\"></td><td style=\"background-color:#99ff99\"></td><td style=\"background-color:#99ff99\"></td><td style=\"background-color:#99ff99\"></td><td style=\"background-color:#99ff99\"></td></tr>\n",
       "<tr><td style=\"background-color:lightgrey\">5</td><td style=\"background-color:#99ff99\">Time period</td><td style=\"background-color:#99ff99\">Public new housing</td><td style=\"background-color:#99ff99\">Private new housing</td><td style=\"background-color:#99ff99\">Total new housing</td><td style=\"background-color:#99ff99\">Infrastructure new work</td><td style=\"background-color:#99ff99\">Public other new work</td><td style=\"background-color:#99ff99\">Private industrial new work</td><td style=\"background-color:#99ff99\">Private commercial new work</td></tr>\n",
       "<tr><td style=\"background-color:lightgrey\">6</td><td style=\"background-color:#99ff99\">Dataset identifier code</td><td style=\"background-color:#99ff99\">MV3W</td><td style=\"background-color:#99ff99\">MV3X</td><td style=\"background-color:#99ff99\">MVL9</td><td style=\"background-color:#99ff99\">MV3Y</td><td style=\"background-color:#99ff99\">MV3Z</td><td style=\"background-color:#99ff99\">MV42</td><td style=\"background-color:#99ff99\">MV43</td></tr>\n",
       "<tr><td style=\"background-color:lightgrey\">7</td><td style=\"background-color:cyan\">1997</td><td style=\"background-color:cyan\">2158</td><td style=\"background-color:cyan\">17588</td><td style=\"background-color:cyan\">19690</td><td style=\"background-color:cyan\">14015</td><td style=\"background-color:cyan\">6010</td><td style=\"background-color:cyan\">8721</td><td style=\"background-color:cyan\">25517</td></tr>\n",
       "<tr><td style=\"background-color:lightgrey\">8</td><td style=\"background-color:cyan\">1998</td><td style=\"background-color:cyan\">1748</td><td style=\"background-color:cyan\">17764</td><td style=\"background-color:cyan\">19448</td><td style=\"background-color:cyan\">13627</td><td style=\"background-color:cyan\">6334</td><td style=\"background-color:cyan\">8885</td><td style=\"background-color:cyan\">27655</td></tr>\n",
       "<tr><td style=\"background-color:lightgrey\">9</td><td style=\"background-color:cyan\">1999</td><td style=\"background-color:cyan\">1515</td><td style=\"background-color:cyan\">15980</td><td style=\"background-color:cyan\">17436</td><td style=\"background-color:cyan\">13247</td><td style=\"background-color:cyan\">7129</td><td style=\"background-color:cyan\">9167</td><td style=\"background-color:cyan\">30963</td></tr>\n",
       "<tr><td style=\"background-color:lightgrey\">10</td><td style=\"background-color:cyan\">2000</td><td style=\"background-color:cyan\">1901</td><td style=\"background-color:cyan\">17853</td><td style=\"background-color:cyan\">19693</td><td style=\"background-color:cyan\">12430</td><td style=\"background-color:cyan\">6753</td><td style=\"background-color:cyan\">8182</td><td style=\"background-color:cyan\">31200</td></tr>\n",
       "\n",
       "                </table>\n",
       "            </body>\n",
       "            <br>\n",
       "        </html>\n",
       "    "
      ],
      "text/plain": [
       "<IPython.core.display.HTML object>"
      ]
     },
     "metadata": {},
     "output_type": "display_data"
    }
   ],
   "source": [
    "from tidychef import acquire, preview, filters\n",
    "from tidychef.selection import XlsxSelectable\n",
    "\n",
    "table: XlsxSelectable = acquire.xlsx.http(\"https://github.com/mikeAdamss/tidychef/raw/main/tests/fixtures/xlsx/ons-oic.xlsx\", tables=\"Table 2a\")\n",
    "\n",
    "numeric = table.filter(filters.is_numeric).label_as(\"Cells that are numeric\")\n",
    "\n",
    "not_numeric = table.filter(filters.is_not_numeric).label_as(\"Cells that are NOT numeric\")\n",
    "\n",
    "preview(numeric, not_numeric, bounded=\"A4:H10\")"
   ]
  },
  {
   "attachments": {},
   "cell_type": "markdown",
   "metadata": {},
   "source": [
    "## Filter Contains String\n",
    "\n",
    "This filter is a simple substring matcher, filtering down the selection of cells to just cells whose value contains the provided string.  "
   ]
  },
  {
   "cell_type": "code",
   "execution_count": 3,
   "metadata": {},
   "outputs": [
    {
     "data": {
      "text/html": [
       "\n",
       "    <html>\n",
       "        \n",
       "    <style>\n",
       "    table, th, td {\n",
       "        border: 1px solid;\n",
       "    }\n",
       "\n",
       "    table {\n",
       "        border-collapse: collapse;\n",
       "    }\n",
       "\n",
       "    td {\n",
       "        align: center;\n",
       "        border: 1px  black solid !important;\n",
       "        color: black !important;\n",
       "    }\n",
       "\n",
       "    th, td {\n",
       "        padding: 5px;\n",
       "    }\n",
       "\n",
       "    </style>\n",
       "    \n",
       "            <table>\n",
       "                \n",
       "            <tr>\n",
       "                <td style=\"background-color:cyan\">Cells containing 'housing'</td>\n",
       "            <tr>\n",
       "        \n",
       "            </table>\n",
       "\n",
       "            <body>\n",
       "                <h2>Table 2a</h2>\n",
       "                <table>\n",
       "                    <tr><td style=\"background-color:lightgrey\"></td><td style=\"background-color:lightgrey\">A</td><td style=\"background-color:lightgrey\">B</td><td style=\"background-color:lightgrey\">C</td><td style=\"background-color:lightgrey\">D</td><td style=\"background-color:lightgrey\">E</td><td style=\"background-color:lightgrey\">F</td><td style=\"background-color:lightgrey\">G</td><td style=\"background-color:lightgrey\">H</td></tr>\n",
       "<tr><td style=\"background-color:lightgrey\">4</td><td style=\"background-color:white\">£ million</td><td style=\"background-color:white\"></td><td style=\"background-color:white\"></td><td style=\"background-color:white\"></td><td style=\"background-color:white\"></td><td style=\"background-color:white\"></td><td style=\"background-color:white\"></td><td style=\"background-color:white\"></td></tr>\n",
       "<tr><td style=\"background-color:lightgrey\">5</td><td style=\"background-color:white\">Time period</td><td style=\"background-color:cyan\">Public new housing</td><td style=\"background-color:cyan\">Private new housing</td><td style=\"background-color:cyan\">Total new housing</td><td style=\"background-color:white\">Infrastructure new work</td><td style=\"background-color:white\">Public other new work</td><td style=\"background-color:white\">Private industrial new work</td><td style=\"background-color:white\">Private commercial new work</td></tr>\n",
       "<tr><td style=\"background-color:lightgrey\">6</td><td style=\"background-color:white\">Dataset identifier code</td><td style=\"background-color:white\">MV3W</td><td style=\"background-color:white\">MV3X</td><td style=\"background-color:white\">MVL9</td><td style=\"background-color:white\">MV3Y</td><td style=\"background-color:white\">MV3Z</td><td style=\"background-color:white\">MV42</td><td style=\"background-color:white\">MV43</td></tr>\n",
       "<tr><td style=\"background-color:lightgrey\">7</td><td style=\"background-color:white\">1997</td><td style=\"background-color:white\">2158</td><td style=\"background-color:white\">17588</td><td style=\"background-color:white\">19690</td><td style=\"background-color:white\">14015</td><td style=\"background-color:white\">6010</td><td style=\"background-color:white\">8721</td><td style=\"background-color:white\">25517</td></tr>\n",
       "<tr><td style=\"background-color:lightgrey\">8</td><td style=\"background-color:white\">1998</td><td style=\"background-color:white\">1748</td><td style=\"background-color:white\">17764</td><td style=\"background-color:white\">19448</td><td style=\"background-color:white\">13627</td><td style=\"background-color:white\">6334</td><td style=\"background-color:white\">8885</td><td style=\"background-color:white\">27655</td></tr>\n",
       "<tr><td style=\"background-color:lightgrey\">9</td><td style=\"background-color:white\">1999</td><td style=\"background-color:white\">1515</td><td style=\"background-color:white\">15980</td><td style=\"background-color:white\">17436</td><td style=\"background-color:white\">13247</td><td style=\"background-color:white\">7129</td><td style=\"background-color:white\">9167</td><td style=\"background-color:white\">30963</td></tr>\n",
       "<tr><td style=\"background-color:lightgrey\">10</td><td style=\"background-color:white\">2000</td><td style=\"background-color:white\">1901</td><td style=\"background-color:white\">17853</td><td style=\"background-color:white\">19693</td><td style=\"background-color:white\">12430</td><td style=\"background-color:white\">6753</td><td style=\"background-color:white\">8182</td><td style=\"background-color:white\">31200</td></tr>\n",
       "\n",
       "                </table>\n",
       "            </body>\n",
       "            <br>\n",
       "        </html>\n",
       "    "
      ],
      "text/plain": [
       "<IPython.core.display.HTML object>"
      ]
     },
     "metadata": {},
     "output_type": "display_data"
    }
   ],
   "source": [
    "from tidychef import acquire, preview, filters\n",
    "from tidychef.selection import XlsxSelectable\n",
    "\n",
    "table: XlsxSelectable = acquire.xlsx.http(\"https://github.com/mikeAdamss/tidychef/raw/main/tests/fixtures/xlsx/ons-oic.xlsx\", tables=\"Table 2a\")\n",
    "\n",
    "housing = table.filter(filters.contains_string(\"housing\")).label_as(\"Cells containing 'housing'\")\n",
    "\n",
    "preview(housing, bounded=\"A4:H10\")"
   ]
  },
  {
   "attachments": {},
   "cell_type": "markdown",
   "metadata": {},
   "source": [
    "## Custom Filters\n",
    "\n",
    "So a filter is just...\n",
    "\n",
    "* A function of python callable that returns True or False when given a \"cell\"\n",
    "* A \"cell\" is a tidychef object, the value (cell contents) of a cell can be access with `.value`\n",
    "\n",
    "For now we'll demonstrate how to create a filter using a simple function and a lambda function."
   ]
  },
  {
   "cell_type": "code",
   "execution_count": 4,
   "metadata": {},
   "outputs": [
    {
     "data": {
      "text/html": [
       "\n",
       "    <html>\n",
       "        \n",
       "    <style>\n",
       "    table, th, td {\n",
       "        border: 1px solid;\n",
       "    }\n",
       "\n",
       "    table {\n",
       "        border-collapse: collapse;\n",
       "    }\n",
       "\n",
       "    td {\n",
       "        align: center;\n",
       "        border: 1px  black solid !important;\n",
       "        color: black !important;\n",
       "    }\n",
       "\n",
       "    th, td {\n",
       "        padding: 5px;\n",
       "    }\n",
       "\n",
       "    </style>\n",
       "    \n",
       "            <table>\n",
       "                \n",
       "            <tr>\n",
       "                <td style=\"background-color:cyan\">Cells starting with M</td>\n",
       "            <tr>\n",
       "        \n",
       "            </table>\n",
       "\n",
       "            <body>\n",
       "                <h2>Table 2a</h2>\n",
       "                <table>\n",
       "                    <tr><td style=\"background-color:lightgrey\"></td><td style=\"background-color:lightgrey\">A</td><td style=\"background-color:lightgrey\">B</td><td style=\"background-color:lightgrey\">C</td><td style=\"background-color:lightgrey\">D</td><td style=\"background-color:lightgrey\">E</td><td style=\"background-color:lightgrey\">F</td><td style=\"background-color:lightgrey\">G</td><td style=\"background-color:lightgrey\">H</td></tr>\n",
       "<tr><td style=\"background-color:lightgrey\">4</td><td style=\"background-color:white\">£ million</td><td style=\"background-color:white\"></td><td style=\"background-color:white\"></td><td style=\"background-color:white\"></td><td style=\"background-color:white\"></td><td style=\"background-color:white\"></td><td style=\"background-color:white\"></td><td style=\"background-color:white\"></td></tr>\n",
       "<tr><td style=\"background-color:lightgrey\">5</td><td style=\"background-color:white\">Time period</td><td style=\"background-color:white\">Public new housing</td><td style=\"background-color:white\">Private new housing</td><td style=\"background-color:white\">Total new housing</td><td style=\"background-color:white\">Infrastructure new work</td><td style=\"background-color:white\">Public other new work</td><td style=\"background-color:white\">Private industrial new work</td><td style=\"background-color:white\">Private commercial new work</td></tr>\n",
       "<tr><td style=\"background-color:lightgrey\">6</td><td style=\"background-color:white\">Dataset identifier code</td><td style=\"background-color:cyan\">MV3W</td><td style=\"background-color:cyan\">MV3X</td><td style=\"background-color:cyan\">MVL9</td><td style=\"background-color:cyan\">MV3Y</td><td style=\"background-color:cyan\">MV3Z</td><td style=\"background-color:cyan\">MV42</td><td style=\"background-color:cyan\">MV43</td></tr>\n",
       "<tr><td style=\"background-color:lightgrey\">7</td><td style=\"background-color:white\">1997</td><td style=\"background-color:white\">2158</td><td style=\"background-color:white\">17588</td><td style=\"background-color:white\">19690</td><td style=\"background-color:white\">14015</td><td style=\"background-color:white\">6010</td><td style=\"background-color:white\">8721</td><td style=\"background-color:white\">25517</td></tr>\n",
       "<tr><td style=\"background-color:lightgrey\">8</td><td style=\"background-color:white\">1998</td><td style=\"background-color:white\">1748</td><td style=\"background-color:white\">17764</td><td style=\"background-color:white\">19448</td><td style=\"background-color:white\">13627</td><td style=\"background-color:white\">6334</td><td style=\"background-color:white\">8885</td><td style=\"background-color:white\">27655</td></tr>\n",
       "<tr><td style=\"background-color:lightgrey\">9</td><td style=\"background-color:white\">1999</td><td style=\"background-color:white\">1515</td><td style=\"background-color:white\">15980</td><td style=\"background-color:white\">17436</td><td style=\"background-color:white\">13247</td><td style=\"background-color:white\">7129</td><td style=\"background-color:white\">9167</td><td style=\"background-color:white\">30963</td></tr>\n",
       "<tr><td style=\"background-color:lightgrey\">10</td><td style=\"background-color:white\">2000</td><td style=\"background-color:white\">1901</td><td style=\"background-color:white\">17853</td><td style=\"background-color:white\">19693</td><td style=\"background-color:white\">12430</td><td style=\"background-color:white\">6753</td><td style=\"background-color:white\">8182</td><td style=\"background-color:white\">31200</td></tr>\n",
       "\n",
       "                </table>\n",
       "            </body>\n",
       "            <br>\n",
       "        </html>\n",
       "    "
      ],
      "text/plain": [
       "<IPython.core.display.HTML object>"
      ]
     },
     "metadata": {},
     "output_type": "display_data"
    }
   ],
   "source": [
    "from tidychef import acquire, preview\n",
    "from tidychef.models.source.cell import Cell\n",
    "from tidychef.selection import XlsxSelectable\n",
    "\n",
    "def m_filter(cell: Cell) -> bool:\n",
    "    \"\"\"\n",
    "    A simple custom filter to find cells starting with a capital M\n",
    "    \"\"\"\n",
    "    return cell.value.startswith(\"M\")\n",
    "\n",
    "table: XlsxSelectable = acquire.xlsx.http(\"https://github.com/mikeAdamss/tidychef/raw/main/tests/fixtures/xlsx/ons-oic.xlsx\", tables=\"Table 2a\")\n",
    "housing = table.filter(m_filter).label_as(\"Cells starting with M\")\n",
    "\n",
    "preview(housing, bounded=\"A4:H10\")"
   ]
  },
  {
   "attachments": {},
   "cell_type": "markdown",
   "metadata": {},
   "source": [
    "Now the same thing but using a lambda function"
   ]
  },
  {
   "cell_type": "code",
   "execution_count": 5,
   "metadata": {},
   "outputs": [
    {
     "data": {
      "text/html": [
       "\n",
       "    <html>\n",
       "        \n",
       "    <style>\n",
       "    table, th, td {\n",
       "        border: 1px solid;\n",
       "    }\n",
       "\n",
       "    table {\n",
       "        border-collapse: collapse;\n",
       "    }\n",
       "\n",
       "    td {\n",
       "        align: center;\n",
       "        border: 1px  black solid !important;\n",
       "        color: black !important;\n",
       "    }\n",
       "\n",
       "    th, td {\n",
       "        padding: 5px;\n",
       "    }\n",
       "\n",
       "    </style>\n",
       "    \n",
       "            <table>\n",
       "                \n",
       "            <tr>\n",
       "                <td style=\"background-color:cyan\">Cells starting with M</td>\n",
       "            <tr>\n",
       "        \n",
       "            </table>\n",
       "\n",
       "            <body>\n",
       "                <h2>Table 2a</h2>\n",
       "                <table>\n",
       "                    <tr><td style=\"background-color:lightgrey\"></td><td style=\"background-color:lightgrey\">A</td><td style=\"background-color:lightgrey\">B</td><td style=\"background-color:lightgrey\">C</td><td style=\"background-color:lightgrey\">D</td><td style=\"background-color:lightgrey\">E</td><td style=\"background-color:lightgrey\">F</td><td style=\"background-color:lightgrey\">G</td><td style=\"background-color:lightgrey\">H</td></tr>\n",
       "<tr><td style=\"background-color:lightgrey\">4</td><td style=\"background-color:white\">£ million</td><td style=\"background-color:white\"></td><td style=\"background-color:white\"></td><td style=\"background-color:white\"></td><td style=\"background-color:white\"></td><td style=\"background-color:white\"></td><td style=\"background-color:white\"></td><td style=\"background-color:white\"></td></tr>\n",
       "<tr><td style=\"background-color:lightgrey\">5</td><td style=\"background-color:white\">Time period</td><td style=\"background-color:white\">Public new housing</td><td style=\"background-color:white\">Private new housing</td><td style=\"background-color:white\">Total new housing</td><td style=\"background-color:white\">Infrastructure new work</td><td style=\"background-color:white\">Public other new work</td><td style=\"background-color:white\">Private industrial new work</td><td style=\"background-color:white\">Private commercial new work</td></tr>\n",
       "<tr><td style=\"background-color:lightgrey\">6</td><td style=\"background-color:white\">Dataset identifier code</td><td style=\"background-color:cyan\">MV3W</td><td style=\"background-color:cyan\">MV3X</td><td style=\"background-color:cyan\">MVL9</td><td style=\"background-color:cyan\">MV3Y</td><td style=\"background-color:cyan\">MV3Z</td><td style=\"background-color:cyan\">MV42</td><td style=\"background-color:cyan\">MV43</td></tr>\n",
       "<tr><td style=\"background-color:lightgrey\">7</td><td style=\"background-color:white\">1997</td><td style=\"background-color:white\">2158</td><td style=\"background-color:white\">17588</td><td style=\"background-color:white\">19690</td><td style=\"background-color:white\">14015</td><td style=\"background-color:white\">6010</td><td style=\"background-color:white\">8721</td><td style=\"background-color:white\">25517</td></tr>\n",
       "<tr><td style=\"background-color:lightgrey\">8</td><td style=\"background-color:white\">1998</td><td style=\"background-color:white\">1748</td><td style=\"background-color:white\">17764</td><td style=\"background-color:white\">19448</td><td style=\"background-color:white\">13627</td><td style=\"background-color:white\">6334</td><td style=\"background-color:white\">8885</td><td style=\"background-color:white\">27655</td></tr>\n",
       "<tr><td style=\"background-color:lightgrey\">9</td><td style=\"background-color:white\">1999</td><td style=\"background-color:white\">1515</td><td style=\"background-color:white\">15980</td><td style=\"background-color:white\">17436</td><td style=\"background-color:white\">13247</td><td style=\"background-color:white\">7129</td><td style=\"background-color:white\">9167</td><td style=\"background-color:white\">30963</td></tr>\n",
       "<tr><td style=\"background-color:lightgrey\">10</td><td style=\"background-color:white\">2000</td><td style=\"background-color:white\">1901</td><td style=\"background-color:white\">17853</td><td style=\"background-color:white\">19693</td><td style=\"background-color:white\">12430</td><td style=\"background-color:white\">6753</td><td style=\"background-color:white\">8182</td><td style=\"background-color:white\">31200</td></tr>\n",
       "\n",
       "                </table>\n",
       "            </body>\n",
       "            <br>\n",
       "        </html>\n",
       "    "
      ],
      "text/plain": [
       "<IPython.core.display.HTML object>"
      ]
     },
     "metadata": {},
     "output_type": "display_data"
    }
   ],
   "source": [
    "from tidychef import acquire, preview\n",
    "from tidychef.selection import XlsxSelectable\n",
    "\n",
    "table: XlsxSelectable = acquire.xlsx.http(\"https://github.com/mikeAdamss/tidychef/raw/main/tests/fixtures/xlsx/ons-oic.xlsx\", tables=\"Table 2a\")\n",
    "housing = table.filter(lambda cell: cell.value.startswith(\"M\")).label_as(\"Cells starting with M\")\n",
    "\n",
    "preview(housing, bounded=\"A4:H10\")"
   ]
  }
 ],
 "metadata": {
  "kernelspec": {
   "display_name": "datachef-hNSMaw3h-py3.9",
   "language": "python",
   "name": "python3"
  },
  "language_info": {
   "codemirror_mode": {
    "name": "ipython",
    "version": 3
   },
   "file_extension": ".py",
   "mimetype": "text/x-python",
   "name": "python",
   "nbconvert_exporter": "python",
   "pygments_lexer": "ipython3",
   "version": "3.9.7"
  },
  "orig_nbformat": 4
 },
 "nbformat": 4,
 "nbformat_minor": 2
}
