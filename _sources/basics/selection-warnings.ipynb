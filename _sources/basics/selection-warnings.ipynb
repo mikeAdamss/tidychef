{
 "cells": [
  {
   "attachments": {},
   "cell_type": "markdown",
   "metadata": {},
   "source": [
    "# Selection: Multiple Selection Warnings\n",
    "\n",
    "Now we're doing more dynamic seletions it's time to talk about multiple selection warnings.\n",
    "\n",
    "When extracting tabulated data in this manner, the _likelyhood_ is that we only want to use each value once - as such where a single cell appears in two selections within a single preview a warning will be raised.\n",
    "\n",
    "This default behaviour can be toggled off as needed."
   ]
  },
  {
   "attachments": {},
   "cell_type": "markdown",
   "metadata": {},
   "source": [
    "## Source Data\n",
    "\n",
    "The data source we're using for these examples is shown below:\n",
    "\n",
    "| <span style=\"color:green\">Note - this particular table has some very verbose headers we don't care about, so we'll be using `bounded=` to remove them from the previews as well as to show just the subset of data we're working with.</span>|\n",
    "|-----------------------------------------|\n",
    "\n",
    "The [full data source can be downloaded here](https://github.com/mikeAdamss/datachef/raw/main/tests/fixtures/xlsx/ons-oic.xlsx). We'll be using th 6th tab named \"Table2a\"."
   ]
  },
  {
   "cell_type": "code",
   "execution_count": 1,
   "metadata": {},
   "outputs": [
    {
     "data": {
      "text/html": [
       "\n",
       "    <html>\n",
       "        \n",
       "    <style>\n",
       "    table, th, td {\n",
       "        border: 1px solid;\n",
       "    }\n",
       "\n",
       "    table {\n",
       "        border-collapse: collapse;\n",
       "    }\n",
       "\n",
       "    td {\n",
       "        align: center;\n",
       "        border: 1px  black solid !important;\n",
       "        color: black !important;\n",
       "    }\n",
       "\n",
       "    th, td {\n",
       "        padding: 5px;\n",
       "    }\n",
       "\n",
       "    </style>\n",
       "    \n",
       "            <table>\n",
       "                \n",
       "            </table>\n",
       "\n",
       "            <body>\n",
       "                <h2>Table 2a</h2>\n",
       "                <table>\n",
       "                    <tr><td style=\"background-color:lightgrey\"></td><td style=\"background-color:lightgrey\">A</td><td style=\"background-color:lightgrey\">B</td><td style=\"background-color:lightgrey\">C</td><td style=\"background-color:lightgrey\">D</td><td style=\"background-color:lightgrey\">E</td><td style=\"background-color:lightgrey\">F</td><td style=\"background-color:lightgrey\">G</td><td style=\"background-color:lightgrey\">H</td></tr>\n",
       "<tr><td style=\"background-color:lightgrey\">1</td></tr>\n",
       "<tr><td style=\"background-color:lightgrey\">3</td><td style=\"background-color:white\">£ million</td><td style=\"background-color:white\"></td><td style=\"background-color:white\"></td><td style=\"background-color:white\"></td><td style=\"background-color:white\"></td><td style=\"background-color:white\"></td><td style=\"background-color:white\"></td><td style=\"background-color:white\"></td></tr>\n",
       "<tr><td style=\"background-color:lightgrey\">4</td><td style=\"background-color:white\">Time period</td><td style=\"background-color:white\">Public new housing</td><td style=\"background-color:white\">Private new housing</td><td style=\"background-color:white\">Total new housing</td><td style=\"background-color:white\">Infrastructure new work</td><td style=\"background-color:white\">Public other new work</td><td style=\"background-color:white\">Private industrial new work</td><td style=\"background-color:white\">Private commercial new work</td></tr>\n",
       "<tr><td style=\"background-color:lightgrey\">5</td><td style=\"background-color:white\">Dataset identifier code</td><td style=\"background-color:white\">MV3W</td><td style=\"background-color:white\">MV3X</td><td style=\"background-color:white\">MVL9</td><td style=\"background-color:white\">MV3Y</td><td style=\"background-color:white\">MV3Z</td><td style=\"background-color:white\">MV42</td><td style=\"background-color:white\">MV43</td></tr>\n",
       "<tr><td style=\"background-color:lightgrey\">6</td><td style=\"background-color:white\">1997</td><td style=\"background-color:white\">2158</td><td style=\"background-color:white\">17588</td><td style=\"background-color:white\">19690</td><td style=\"background-color:white\">14015</td><td style=\"background-color:white\">6010</td><td style=\"background-color:white\">8721</td><td style=\"background-color:white\">25517</td></tr>\n",
       "<tr><td style=\"background-color:lightgrey\">7</td><td style=\"background-color:white\">1998</td><td style=\"background-color:white\">1748</td><td style=\"background-color:white\">17764</td><td style=\"background-color:white\">19448</td><td style=\"background-color:white\">13627</td><td style=\"background-color:white\">6334</td><td style=\"background-color:white\">8885</td><td style=\"background-color:white\">27655</td></tr>\n",
       "<tr><td style=\"background-color:lightgrey\">8</td><td style=\"background-color:white\">1999</td><td style=\"background-color:white\">1515</td><td style=\"background-color:white\">15980</td><td style=\"background-color:white\">17436</td><td style=\"background-color:white\">13247</td><td style=\"background-color:white\">7129</td><td style=\"background-color:white\">9167</td><td style=\"background-color:white\">30963</td></tr>\n",
       "<tr><td style=\"background-color:lightgrey\">9</td><td style=\"background-color:white\">2000</td><td style=\"background-color:white\">1901</td><td style=\"background-color:white\">17853</td><td style=\"background-color:white\">19693</td><td style=\"background-color:white\">12430</td><td style=\"background-color:white\">6753</td><td style=\"background-color:white\">8182</td><td style=\"background-color:white\">31200</td></tr>\n",
       "\n",
       "                </table>\n",
       "            </body>\n",
       "            <br>\n",
       "        </html>\n",
       "    "
      ],
      "text/plain": [
       "<IPython.core.display.HTML object>"
      ]
     },
     "metadata": {},
     "output_type": "display_data"
    }
   ],
   "source": [
    "from typing import List\n",
    "from datachef import acquire, preview\n",
    "from datachef.selection import XlsxSelectable\n",
    "\n",
    "tables: List[XlsxSelectable] = acquire.xlsx.http(\"https://github.com/mikeAdamss/datachef/raw/main/tests/fixtures/xlsx/ons-oic.xlsx\")\n",
    "preview(tables[5], bounded=\"A4:H10\")"
   ]
  },
  {
   "attachments": {},
   "cell_type": "markdown",
   "metadata": {},
   "source": [
    "## Example Multiple Selection Warning\n",
    "\n",
    "The following is a simple example of a multiple selection warning."
   ]
  },
  {
   "cell_type": "code",
   "execution_count": 2,
   "metadata": {},
   "outputs": [
    {
     "data": {
      "text/html": [
       "\n",
       "    <html>\n",
       "        \n",
       "    <style>\n",
       "    table, th, td {\n",
       "        border: 1px solid;\n",
       "    }\n",
       "\n",
       "    table {\n",
       "        border-collapse: collapse;\n",
       "    }\n",
       "\n",
       "    td {\n",
       "        align: center;\n",
       "        border: 1px  black solid !important;\n",
       "        color: black !important;\n",
       "    }\n",
       "\n",
       "    th, td {\n",
       "        padding: 5px;\n",
       "    }\n",
       "\n",
       "    </style>\n",
       "    \n",
       "            <table>\n",
       "                \n",
       "            <tr>\n",
       "                <td style=\"background-color:#ff8080\">Cell Appears in Multiple Selections</td>\n",
       "            <tr>\n",
       "        \n",
       "            <tr>\n",
       "                <td style=\"background-color:cyan\">Unnamed Selection: 0</td>\n",
       "            <tr>\n",
       "        \n",
       "            <tr>\n",
       "                <td style=\"background-color:#99ff99\">Unnamed Selection: 1</td>\n",
       "            <tr>\n",
       "        \n",
       "            </table>\n",
       "\n",
       "            <body>\n",
       "                <h2>Table 2a</h2>\n",
       "                <table>\n",
       "                    <tr><td style=\"background-color:lightgrey\"></td><td style=\"background-color:lightgrey\">A</td><td style=\"background-color:lightgrey\">B</td><td style=\"background-color:lightgrey\">C</td><td style=\"background-color:lightgrey\">D</td><td style=\"background-color:lightgrey\">E</td><td style=\"background-color:lightgrey\">F</td><td style=\"background-color:lightgrey\">G</td><td style=\"background-color:lightgrey\">H</td></tr>\n",
       "<tr><td style=\"background-color:lightgrey\">1</td></tr>\n",
       "<tr><td style=\"background-color:lightgrey\">3</td><td style=\"background-color:white\">£ million</td><td style=\"background-color:white\"></td><td style=\"background-color:white\"></td><td style=\"background-color:white\"></td><td style=\"background-color:#99ff99\"></td><td style=\"background-color:white\"></td><td style=\"background-color:white\"></td><td style=\"background-color:white\"></td></tr>\n",
       "<tr><td style=\"background-color:lightgrey\">4</td><td style=\"background-color:white\">Time period</td><td style=\"background-color:white\">Public new housing</td><td style=\"background-color:white\">Private new housing</td><td style=\"background-color:white\">Total new housing</td><td style=\"background-color:#99ff99\">Infrastructure new work</td><td style=\"background-color:white\">Public other new work</td><td style=\"background-color:white\">Private industrial new work</td><td style=\"background-color:white\">Private commercial new work</td></tr>\n",
       "<tr><td style=\"background-color:lightgrey\">5</td><td style=\"background-color:cyan\">Dataset identifier code</td><td style=\"background-color:cyan\">MV3W</td><td style=\"background-color:cyan\">MV3X</td><td style=\"background-color:cyan\">MVL9</td><td style=\"background-color:#ff8080\">MV3Y</td><td style=\"background-color:cyan\">MV3Z</td><td style=\"background-color:cyan\">MV42</td><td style=\"background-color:cyan\">MV43</td></tr>\n",
       "<tr><td style=\"background-color:lightgrey\">6</td><td style=\"background-color:white\">1997</td><td style=\"background-color:white\">2158</td><td style=\"background-color:white\">17588</td><td style=\"background-color:white\">19690</td><td style=\"background-color:#99ff99\">14015</td><td style=\"background-color:white\">6010</td><td style=\"background-color:white\">8721</td><td style=\"background-color:white\">25517</td></tr>\n",
       "<tr><td style=\"background-color:lightgrey\">7</td><td style=\"background-color:white\">1998</td><td style=\"background-color:white\">1748</td><td style=\"background-color:white\">17764</td><td style=\"background-color:white\">19448</td><td style=\"background-color:#99ff99\">13627</td><td style=\"background-color:white\">6334</td><td style=\"background-color:white\">8885</td><td style=\"background-color:white\">27655</td></tr>\n",
       "<tr><td style=\"background-color:lightgrey\">8</td><td style=\"background-color:white\">1999</td><td style=\"background-color:white\">1515</td><td style=\"background-color:white\">15980</td><td style=\"background-color:white\">17436</td><td style=\"background-color:#99ff99\">13247</td><td style=\"background-color:white\">7129</td><td style=\"background-color:white\">9167</td><td style=\"background-color:white\">30963</td></tr>\n",
       "<tr><td style=\"background-color:lightgrey\">9</td><td style=\"background-color:white\">2000</td><td style=\"background-color:white\">1901</td><td style=\"background-color:white\">17853</td><td style=\"background-color:white\">19693</td><td style=\"background-color:#99ff99\">12430</td><td style=\"background-color:white\">6753</td><td style=\"background-color:white\">8182</td><td style=\"background-color:white\">31200</td></tr>\n",
       "\n",
       "                </table>\n",
       "            </body>\n",
       "            <br>\n",
       "        </html>\n",
       "    "
      ],
      "text/plain": [
       "<IPython.core.display.HTML object>"
      ]
     },
     "metadata": {},
     "output_type": "display_data"
    }
   ],
   "source": [
    "from typing import List\n",
    "from datachef import acquire, preview\n",
    "from datachef.selection import XlsxSelectable\n",
    "\n",
    "tables: List[XlsxSelectable] = acquire.xlsx.http(\"https://github.com/mikeAdamss/datachef/raw/main/tests/fixtures/xlsx/ons-oic.xlsx\")\n",
    "table = tables[5]\n",
    "\n",
    "# Select the whole of row 6\n",
    "row = table.excel_ref('6')\n",
    "\n",
    "# Select the whole of column E\n",
    "column = table.excel_ref('E')\n",
    "\n",
    "# Lets' preview and see what happens\n",
    "preview(row, column, bounded=\"A4:H10\")"
   ]
  },
  {
   "attachments": {},
   "cell_type": "markdown",
   "metadata": {},
   "source": [
    "## Turning Off Multiple Selection Warnings\n",
    "\n",
    "To turn off multiple selection warnings you just pass `multiple_selection_warning=False` to the preview function.\n",
    "\n",
    "You'll notice the cell in question just gets coloured by the last selection containing it that is passed to `preview()` instead. "
   ]
  },
  {
   "cell_type": "code",
   "execution_count": 3,
   "metadata": {},
   "outputs": [
    {
     "data": {
      "text/html": [
       "\n",
       "    <html>\n",
       "        \n",
       "    <style>\n",
       "    table, th, td {\n",
       "        border: 1px solid;\n",
       "    }\n",
       "\n",
       "    table {\n",
       "        border-collapse: collapse;\n",
       "    }\n",
       "\n",
       "    td {\n",
       "        align: center;\n",
       "        border: 1px  black solid !important;\n",
       "        color: black !important;\n",
       "    }\n",
       "\n",
       "    th, td {\n",
       "        padding: 5px;\n",
       "    }\n",
       "\n",
       "    </style>\n",
       "    \n",
       "            <table>\n",
       "                \n",
       "            <tr>\n",
       "                <td style=\"background-color:cyan\">Unnamed Selection: 0</td>\n",
       "            <tr>\n",
       "        \n",
       "            <tr>\n",
       "                <td style=\"background-color:#99ff99\">Unnamed Selection: 1</td>\n",
       "            <tr>\n",
       "        \n",
       "            </table>\n",
       "\n",
       "            <body>\n",
       "                <h2>Table 2a</h2>\n",
       "                <table>\n",
       "                    <tr><td style=\"background-color:lightgrey\"></td><td style=\"background-color:lightgrey\">A</td><td style=\"background-color:lightgrey\">B</td><td style=\"background-color:lightgrey\">C</td><td style=\"background-color:lightgrey\">D</td><td style=\"background-color:lightgrey\">E</td><td style=\"background-color:lightgrey\">F</td><td style=\"background-color:lightgrey\">G</td><td style=\"background-color:lightgrey\">H</td></tr>\n",
       "<tr><td style=\"background-color:lightgrey\">1</td></tr>\n",
       "<tr><td style=\"background-color:lightgrey\">3</td><td style=\"background-color:white\">£ million</td><td style=\"background-color:white\"></td><td style=\"background-color:white\"></td><td style=\"background-color:white\"></td><td style=\"background-color:#99ff99\"></td><td style=\"background-color:white\"></td><td style=\"background-color:white\"></td><td style=\"background-color:white\"></td></tr>\n",
       "<tr><td style=\"background-color:lightgrey\">4</td><td style=\"background-color:white\">Time period</td><td style=\"background-color:white\">Public new housing</td><td style=\"background-color:white\">Private new housing</td><td style=\"background-color:white\">Total new housing</td><td style=\"background-color:#99ff99\">Infrastructure new work</td><td style=\"background-color:white\">Public other new work</td><td style=\"background-color:white\">Private industrial new work</td><td style=\"background-color:white\">Private commercial new work</td></tr>\n",
       "<tr><td style=\"background-color:lightgrey\">5</td><td style=\"background-color:cyan\">Dataset identifier code</td><td style=\"background-color:cyan\">MV3W</td><td style=\"background-color:cyan\">MV3X</td><td style=\"background-color:cyan\">MVL9</td><td style=\"background-color:#99ff99\">MV3Y</td><td style=\"background-color:cyan\">MV3Z</td><td style=\"background-color:cyan\">MV42</td><td style=\"background-color:cyan\">MV43</td></tr>\n",
       "<tr><td style=\"background-color:lightgrey\">6</td><td style=\"background-color:white\">1997</td><td style=\"background-color:white\">2158</td><td style=\"background-color:white\">17588</td><td style=\"background-color:white\">19690</td><td style=\"background-color:#99ff99\">14015</td><td style=\"background-color:white\">6010</td><td style=\"background-color:white\">8721</td><td style=\"background-color:white\">25517</td></tr>\n",
       "<tr><td style=\"background-color:lightgrey\">7</td><td style=\"background-color:white\">1998</td><td style=\"background-color:white\">1748</td><td style=\"background-color:white\">17764</td><td style=\"background-color:white\">19448</td><td style=\"background-color:#99ff99\">13627</td><td style=\"background-color:white\">6334</td><td style=\"background-color:white\">8885</td><td style=\"background-color:white\">27655</td></tr>\n",
       "<tr><td style=\"background-color:lightgrey\">8</td><td style=\"background-color:white\">1999</td><td style=\"background-color:white\">1515</td><td style=\"background-color:white\">15980</td><td style=\"background-color:white\">17436</td><td style=\"background-color:#99ff99\">13247</td><td style=\"background-color:white\">7129</td><td style=\"background-color:white\">9167</td><td style=\"background-color:white\">30963</td></tr>\n",
       "<tr><td style=\"background-color:lightgrey\">9</td><td style=\"background-color:white\">2000</td><td style=\"background-color:white\">1901</td><td style=\"background-color:white\">17853</td><td style=\"background-color:white\">19693</td><td style=\"background-color:#99ff99\">12430</td><td style=\"background-color:white\">6753</td><td style=\"background-color:white\">8182</td><td style=\"background-color:white\">31200</td></tr>\n",
       "\n",
       "                </table>\n",
       "            </body>\n",
       "            <br>\n",
       "        </html>\n",
       "    "
      ],
      "text/plain": [
       "<IPython.core.display.HTML object>"
      ]
     },
     "metadata": {},
     "output_type": "display_data"
    }
   ],
   "source": [
    "from typing import List\n",
    "from datachef import acquire, preview\n",
    "from datachef.selection import XlsxSelectable\n",
    "\n",
    "tables: List[XlsxSelectable] = acquire.xlsx.http(\"https://github.com/mikeAdamss/datachef/raw/main/tests/fixtures/xlsx/ons-oic.xlsx\")\n",
    "table = tables[5]\n",
    "\n",
    "# Select the whole of row 6\n",
    "row = table.excel_ref('6')\n",
    "\n",
    "# Select the whole of column E\n",
    "column = table.excel_ref('E')\n",
    "\n",
    "# Lets' preview and see what happens\n",
    "preview(row, column, bounded=\"A4:H10\", multiple_selection_warning=False)"
   ]
  }
 ],
 "metadata": {
  "kernelspec": {
   "display_name": "datachef-hNSMaw3h-py3.9",
   "language": "python",
   "name": "python3"
  },
  "language_info": {
   "codemirror_mode": {
    "name": "ipython",
    "version": 3
   },
   "file_extension": ".py",
   "mimetype": "text/x-python",
   "name": "python",
   "nbconvert_exporter": "python",
   "pygments_lexer": "ipython3",
   "version": "3.9.7"
  },
  "orig_nbformat": 4
 },
 "nbformat": 4,
 "nbformat_minor": 2
}
