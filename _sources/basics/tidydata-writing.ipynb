{
 "cells": [
  {
   "attachments": {},
   "cell_type": "markdown",
   "metadata": {},
   "source": [
    "# TidyData: Writing To Csv\n",
    "\n",
    "Here we give an example of creating TidyData and writing it to a tidy csv."
   ]
  },
  {
   "attachments": {},
   "cell_type": "markdown",
   "metadata": {},
   "source": [
    "## Source Data\n",
    "\n",
    "The data source we're using for these examples is shown below:\n",
    "\n",
    "The [full data source can be downloaded here](https://raw.githubusercontent.com/mikeAdamss/datachef/main/tests/fixtures/csv/bands-wide.csv)."
   ]
  },
  {
   "cell_type": "code",
   "execution_count": 8,
   "metadata": {},
   "outputs": [
    {
     "data": {
      "text/html": [
       "\n",
       "    <html>\n",
       "        \n",
       "    <style>\n",
       "    table, th, td {\n",
       "        border: 1px solid;\n",
       "    }\n",
       "\n",
       "    table {\n",
       "        border-collapse: collapse;\n",
       "    }\n",
       "\n",
       "    td {\n",
       "        align: center;\n",
       "        border: 1px  black solid !important;\n",
       "        color: black !important;\n",
       "    }\n",
       "\n",
       "    th, td {\n",
       "        padding: 5px;\n",
       "    }\n",
       "\n",
       "    </style>\n",
       "    \n",
       "            <table>\n",
       "                \n",
       "            </table>\n",
       "\n",
       "            <body>\n",
       "                <h2>Unnamed Table</h2>\n",
       "                <table>\n",
       "                    <tr><td style=\"background-color:lightgrey\"></td><td style=\"background-color:lightgrey\">A</td><td style=\"background-color:lightgrey\">B</td><td style=\"background-color:lightgrey\">C</td><td style=\"background-color:lightgrey\">D</td><td style=\"background-color:lightgrey\">E</td><td style=\"background-color:lightgrey\">F</td><td style=\"background-color:lightgrey\">G</td><td style=\"background-color:lightgrey\">H</td><td style=\"background-color:lightgrey\">I</td><td style=\"background-color:lightgrey\">J</td><td style=\"background-color:lightgrey\">K</td></tr>\n",
       "<tr><td style=\"background-color:lightgrey\">1</td><td style=\"background-color:white\"></td><td style=\"background-color:white\"></td><td style=\"background-color:white\"></td><td style=\"background-color:white\"></td><td style=\"background-color:white\"></td><td style=\"background-color:white\"></td><td style=\"background-color:white\"></td><td style=\"background-color:white\"></td><td style=\"background-color:white\"></td><td style=\"background-color:white\"></td><td style=\"background-color:white\"></td></tr>\n",
       "<tr><td style=\"background-color:lightgrey\">2</td><td style=\"background-color:white\"></td><td style=\"background-color:white\"></td><td style=\"background-color:white\">Houses</td><td style=\"background-color:white\">Cars</td><td style=\"background-color:white\">Boats</td><td style=\"background-color:white\"></td><td style=\"background-color:white\"></td><td style=\"background-color:white\"></td><td style=\"background-color:white\">Houses</td><td style=\"background-color:white\">Cars</td><td style=\"background-color:white\">Boats</td></tr>\n",
       "<tr><td style=\"background-color:lightgrey\">3</td><td style=\"background-color:white\">Beatles</td><td style=\"background-color:white\"></td><td style=\"background-color:white\"></td><td style=\"background-color:white\"></td><td style=\"background-color:white\"></td><td style=\"background-color:white\"></td><td style=\"background-color:white\">Rolling Stones</td><td style=\"background-color:white\"></td><td style=\"background-color:white\"></td><td style=\"background-color:white\"></td><td style=\"background-color:white\"></td></tr>\n",
       "<tr><td style=\"background-color:lightgrey\">4</td><td style=\"background-color:white\"></td><td style=\"background-color:white\">John</td><td style=\"background-color:white\">1</td><td style=\"background-color:white\">5</td><td style=\"background-color:white\">9</td><td style=\"background-color:white\"></td><td style=\"background-color:white\"></td><td style=\"background-color:white\">Keith</td><td style=\"background-color:white\">2</td><td style=\"background-color:white\">6</td><td style=\"background-color:white\">10</td></tr>\n",
       "<tr><td style=\"background-color:lightgrey\">5</td><td style=\"background-color:white\"></td><td style=\"background-color:white\">Paul</td><td style=\"background-color:white\">2</td><td style=\"background-color:white\">6</td><td style=\"background-color:white\">10</td><td style=\"background-color:white\"></td><td style=\"background-color:white\"></td><td style=\"background-color:white\">Mick</td><td style=\"background-color:white\">3</td><td style=\"background-color:white\">7</td><td style=\"background-color:white\">11</td></tr>\n",
       "<tr><td style=\"background-color:lightgrey\">6</td><td style=\"background-color:white\"></td><td style=\"background-color:white\">George</td><td style=\"background-color:white\">2</td><td style=\"background-color:white\">7</td><td style=\"background-color:white\">11</td><td style=\"background-color:white\"></td><td style=\"background-color:white\"></td><td style=\"background-color:white\">Charlie</td><td style=\"background-color:white\">3</td><td style=\"background-color:white\">8</td><td style=\"background-color:white\">12</td></tr>\n",
       "<tr><td style=\"background-color:lightgrey\">7</td><td style=\"background-color:white\"></td><td style=\"background-color:white\">Ringo</td><td style=\"background-color:white\">4</td><td style=\"background-color:white\">8</td><td style=\"background-color:white\">12</td><td style=\"background-color:white\"></td><td style=\"background-color:white\"></td><td style=\"background-color:white\">Ronnie</td><td style=\"background-color:white\">5</td><td style=\"background-color:white\">9</td><td style=\"background-color:white\">13</td></tr>\n",
       "<tr><td style=\"background-color:lightgrey\">8</td><td style=\"background-color:white\"></td><td style=\"background-color:white\"></td><td style=\"background-color:white\"></td><td style=\"background-color:white\"></td><td style=\"background-color:white\"></td><td style=\"background-color:white\"></td><td style=\"background-color:white\"></td><td style=\"background-color:white\"></td><td style=\"background-color:white\"></td><td style=\"background-color:white\"></td><td style=\"background-color:white\"></td></tr>\n",
       "\n",
       "                </table>\n",
       "            </body>\n",
       "            <br>\n",
       "        </html>\n",
       "    "
      ],
      "text/plain": [
       "<IPython.core.display.HTML object>"
      ]
     },
     "metadata": {},
     "output_type": "display_data"
    }
   ],
   "source": [
    "from datachef import acquire, preview\n",
    "from datachef.selection import CsvSelectable\n",
    "\n",
    "# Argument is any csv file accessible via http or https\n",
    "table: CsvSelectable = acquire.csv.http(\"https://raw.githubusercontent.com/mikeAdamss/datachef/main/tests/fixtures/csv/bands-wide.csv\")\n",
    "preview(table)"
   ]
  },
  {
   "attachments": {},
   "cell_type": "markdown",
   "metadata": {},
   "source": [
    "## Example\n",
    "\n",
    "The simplest way to write tidydata to csv is via the `.to_csv()` method of the `TidyData` class.\n",
    "\n",
    "For the sake of this example we'll just take \"band\" and \"members\".\n",
    "\n",
    "The key point is the last line and the `to_csv()` method."
   ]
  },
  {
   "cell_type": "code",
   "execution_count": 9,
   "metadata": {},
   "outputs": [
    {
     "data": {
      "text/html": [
       "\n",
       "    <html>\n",
       "        \n",
       "    <style>\n",
       "    table, th, td {\n",
       "        border: 1px solid;\n",
       "    }\n",
       "\n",
       "    table {\n",
       "        border-collapse: collapse;\n",
       "    }\n",
       "\n",
       "    td {\n",
       "        align: center;\n",
       "        border: 1px  black solid !important;\n",
       "        color: black !important;\n",
       "    }\n",
       "\n",
       "    th, td {\n",
       "        padding: 5px;\n",
       "    }\n",
       "\n",
       "    </style>\n",
       "    \n",
       "            <table>\n",
       "                \n",
       "            <tr>\n",
       "                <td style=\"background-color:cyan\">Observations</td>\n",
       "            <tr>\n",
       "        \n",
       "            <tr>\n",
       "                <td style=\"background-color:#99ff99\">Bands</td>\n",
       "            <tr>\n",
       "        \n",
       "            <tr>\n",
       "                <td style=\"background-color:#eeccff\">Assets</td>\n",
       "            <tr>\n",
       "        \n",
       "            <tr>\n",
       "                <td style=\"background-color:#ffe066\">Members</td>\n",
       "            <tr>\n",
       "        \n",
       "            </table>\n",
       "\n",
       "            <body>\n",
       "                <h2>Unnamed Table</h2>\n",
       "                <table>\n",
       "                    <tr><td style=\"background-color:lightgrey\"></td><td style=\"background-color:lightgrey\">A</td><td style=\"background-color:lightgrey\">B</td><td style=\"background-color:lightgrey\">C</td><td style=\"background-color:lightgrey\">D</td><td style=\"background-color:lightgrey\">E</td><td style=\"background-color:lightgrey\">F</td><td style=\"background-color:lightgrey\">G</td><td style=\"background-color:lightgrey\">H</td><td style=\"background-color:lightgrey\">I</td><td style=\"background-color:lightgrey\">J</td><td style=\"background-color:lightgrey\">K</td></tr>\n",
       "<tr><td style=\"background-color:lightgrey\">1</td><td style=\"background-color:white\"></td><td style=\"background-color:white\"></td><td style=\"background-color:white\"></td><td style=\"background-color:white\"></td><td style=\"background-color:white\"></td><td style=\"background-color:white\"></td><td style=\"background-color:white\"></td><td style=\"background-color:white\"></td><td style=\"background-color:white\"></td><td style=\"background-color:white\"></td><td style=\"background-color:white\"></td></tr>\n",
       "<tr><td style=\"background-color:lightgrey\">2</td><td style=\"background-color:white\"></td><td style=\"background-color:white\"></td><td style=\"background-color:#eeccff\">Houses</td><td style=\"background-color:#eeccff\">Cars</td><td style=\"background-color:#eeccff\">Boats</td><td style=\"background-color:white\"></td><td style=\"background-color:white\"></td><td style=\"background-color:white\"></td><td style=\"background-color:#eeccff\">Houses</td><td style=\"background-color:#eeccff\">Cars</td><td style=\"background-color:#eeccff\">Boats</td></tr>\n",
       "<tr><td style=\"background-color:lightgrey\">3</td><td style=\"background-color:#99ff99\">Beatles</td><td style=\"background-color:white\"></td><td style=\"background-color:white\"></td><td style=\"background-color:white\"></td><td style=\"background-color:white\"></td><td style=\"background-color:white\"></td><td style=\"background-color:#99ff99\">Rolling Stones</td><td style=\"background-color:white\"></td><td style=\"background-color:white\"></td><td style=\"background-color:white\"></td><td style=\"background-color:white\"></td></tr>\n",
       "<tr><td style=\"background-color:lightgrey\">4</td><td style=\"background-color:white\"></td><td style=\"background-color:#ffe066\">John</td><td style=\"background-color:cyan\">1</td><td style=\"background-color:cyan\">5</td><td style=\"background-color:cyan\">9</td><td style=\"background-color:white\"></td><td style=\"background-color:white\"></td><td style=\"background-color:#ffe066\">Keith</td><td style=\"background-color:cyan\">2</td><td style=\"background-color:cyan\">6</td><td style=\"background-color:cyan\">10</td></tr>\n",
       "<tr><td style=\"background-color:lightgrey\">5</td><td style=\"background-color:white\"></td><td style=\"background-color:#ffe066\">Paul</td><td style=\"background-color:cyan\">2</td><td style=\"background-color:cyan\">6</td><td style=\"background-color:cyan\">10</td><td style=\"background-color:white\"></td><td style=\"background-color:white\"></td><td style=\"background-color:#ffe066\">Mick</td><td style=\"background-color:cyan\">3</td><td style=\"background-color:cyan\">7</td><td style=\"background-color:cyan\">11</td></tr>\n",
       "<tr><td style=\"background-color:lightgrey\">6</td><td style=\"background-color:white\"></td><td style=\"background-color:#ffe066\">George</td><td style=\"background-color:cyan\">2</td><td style=\"background-color:cyan\">7</td><td style=\"background-color:cyan\">11</td><td style=\"background-color:white\"></td><td style=\"background-color:white\"></td><td style=\"background-color:#ffe066\">Charlie</td><td style=\"background-color:cyan\">3</td><td style=\"background-color:cyan\">8</td><td style=\"background-color:cyan\">12</td></tr>\n",
       "<tr><td style=\"background-color:lightgrey\">7</td><td style=\"background-color:white\"></td><td style=\"background-color:#ffe066\">Ringo</td><td style=\"background-color:cyan\">4</td><td style=\"background-color:cyan\">8</td><td style=\"background-color:cyan\">12</td><td style=\"background-color:white\"></td><td style=\"background-color:white\"></td><td style=\"background-color:#ffe066\">Ronnie</td><td style=\"background-color:cyan\">5</td><td style=\"background-color:cyan\">9</td><td style=\"background-color:cyan\">13</td></tr>\n",
       "<tr><td style=\"background-color:lightgrey\">8</td><td style=\"background-color:white\"></td><td style=\"background-color:white\"></td><td style=\"background-color:white\"></td><td style=\"background-color:white\"></td><td style=\"background-color:white\"></td><td style=\"background-color:white\"></td><td style=\"background-color:white\"></td><td style=\"background-color:white\"></td><td style=\"background-color:white\"></td><td style=\"background-color:white\"></td><td style=\"background-color:white\"></td></tr>\n",
       "\n",
       "                </table>\n",
       "            </body>\n",
       "            <br>\n",
       "        </html>\n",
       "    "
      ],
      "text/plain": [
       "<IPython.core.display.HTML object>"
      ]
     },
     "metadata": {},
     "output_type": "display_data"
    },
    {
     "data": {
      "text/html": [
       "<table>\n",
       "<thead>\n",
       "<tr><th style=\"text-align: right;\">  Observations</th><th>Bands         </th><th>Assets  </th><th>Members  </th></tr>\n",
       "</thead>\n",
       "<tbody>\n",
       "<tr><td style=\"text-align: right;\">             1</td><td>Beatles       </td><td>Houses  </td><td>John     </td></tr>\n",
       "<tr><td style=\"text-align: right;\">             5</td><td>Beatles       </td><td>Cars    </td><td>John     </td></tr>\n",
       "<tr><td style=\"text-align: right;\">             9</td><td>Beatles       </td><td>Boats   </td><td>John     </td></tr>\n",
       "<tr><td style=\"text-align: right;\">             2</td><td>Rolling Stones</td><td>Houses  </td><td>Keith    </td></tr>\n",
       "<tr><td style=\"text-align: right;\">             6</td><td>Rolling Stones</td><td>Cars    </td><td>Keith    </td></tr>\n",
       "<tr><td style=\"text-align: right;\">            10</td><td>Rolling Stones</td><td>Boats   </td><td>Keith    </td></tr>\n",
       "<tr><td style=\"text-align: right;\">             2</td><td>Beatles       </td><td>Houses  </td><td>Paul     </td></tr>\n",
       "<tr><td style=\"text-align: right;\">             6</td><td>Beatles       </td><td>Cars    </td><td>Paul     </td></tr>\n",
       "<tr><td style=\"text-align: right;\">            10</td><td>Beatles       </td><td>Boats   </td><td>Paul     </td></tr>\n",
       "<tr><td style=\"text-align: right;\">             3</td><td>Rolling Stones</td><td>Houses  </td><td>Mick     </td></tr>\n",
       "<tr><td style=\"text-align: right;\">             7</td><td>Rolling Stones</td><td>Cars    </td><td>Mick     </td></tr>\n",
       "<tr><td style=\"text-align: right;\">            11</td><td>Rolling Stones</td><td>Boats   </td><td>Mick     </td></tr>\n",
       "<tr><td style=\"text-align: right;\">             2</td><td>Beatles       </td><td>Houses  </td><td>George   </td></tr>\n",
       "<tr><td style=\"text-align: right;\">             7</td><td>Beatles       </td><td>Cars    </td><td>George   </td></tr>\n",
       "<tr><td style=\"text-align: right;\">            11</td><td>Beatles       </td><td>Boats   </td><td>George   </td></tr>\n",
       "<tr><td style=\"text-align: right;\">             3</td><td>Rolling Stones</td><td>Houses  </td><td>Charlie  </td></tr>\n",
       "<tr><td style=\"text-align: right;\">             8</td><td>Rolling Stones</td><td>Cars    </td><td>Charlie  </td></tr>\n",
       "<tr><td style=\"text-align: right;\">            12</td><td>Rolling Stones</td><td>Boats   </td><td>Charlie  </td></tr>\n",
       "<tr><td style=\"text-align: right;\">             4</td><td>Beatles       </td><td>Houses  </td><td>Ringo    </td></tr>\n",
       "<tr><td style=\"text-align: right;\">             8</td><td>Beatles       </td><td>Cars    </td><td>Ringo    </td></tr>\n",
       "<tr><td style=\"text-align: right;\">            12</td><td>Beatles       </td><td>Boats   </td><td>Ringo    </td></tr>\n",
       "<tr><td style=\"text-align: right;\">             5</td><td>Rolling Stones</td><td>Houses  </td><td>Ronnie   </td></tr>\n",
       "<tr><td style=\"text-align: right;\">             9</td><td>Rolling Stones</td><td>Cars    </td><td>Ronnie   </td></tr>\n",
       "<tr><td style=\"text-align: right;\">            13</td><td>Rolling Stones</td><td>Boats   </td><td>Ronnie   </td></tr>\n",
       "</tbody>\n",
       "</table>"
      ],
      "text/plain": [
       "'<table>\\n<thead>\\n<tr><th style=\"text-align: right;\">  Observations</th><th>Bands         </th><th>Assets  </th><th>Members  </th></tr>\\n</thead>\\n<tbody>\\n<tr><td style=\"text-align: right;\">             1</td><td>Beatles       </td><td>Houses  </td><td>John     </td></tr>\\n<tr><td style=\"text-align: right;\">             5</td><td>Beatles       </td><td>Cars    </td><td>John     </td></tr>\\n<tr><td style=\"text-align: right;\">             9</td><td>Beatles       </td><td>Boats   </td><td>John     </td></tr>\\n<tr><td style=\"text-align: right;\">             2</td><td>Rolling Stones</td><td>Houses  </td><td>Keith    </td></tr>\\n<tr><td style=\"text-align: right;\">             6</td><td>Rolling Stones</td><td>Cars    </td><td>Keith    </td></tr>\\n<tr><td style=\"text-align: right;\">            10</td><td>Rolling Stones</td><td>Boats   </td><td>Keith    </td></tr>\\n<tr><td style=\"text-align: right;\">             2</td><td>Beatles       </td><td>Houses  </td><td>Paul     </td></tr>\\n<tr><td style=\"text-align: right;\">             6</td><td>Beatles       </td><td>Cars    </td><td>Paul     </td></tr>\\n<tr><td style=\"text-align: right;\">            10</td><td>Beatles       </td><td>Boats   </td><td>Paul     </td></tr>\\n<tr><td style=\"text-align: right;\">             3</td><td>Rolling Stones</td><td>Houses  </td><td>Mick     </td></tr>\\n<tr><td style=\"text-align: right;\">             7</td><td>Rolling Stones</td><td>Cars    </td><td>Mick     </td></tr>\\n<tr><td style=\"text-align: right;\">            11</td><td>Rolling Stones</td><td>Boats   </td><td>Mick     </td></tr>\\n<tr><td style=\"text-align: right;\">             2</td><td>Beatles       </td><td>Houses  </td><td>George   </td></tr>\\n<tr><td style=\"text-align: right;\">             7</td><td>Beatles       </td><td>Cars    </td><td>George   </td></tr>\\n<tr><td style=\"text-align: right;\">            11</td><td>Beatles       </td><td>Boats   </td><td>George   </td></tr>\\n<tr><td style=\"text-align: right;\">             3</td><td>Rolling Stones</td><td>Houses  </td><td>Charlie  </td></tr>\\n<tr><td style=\"text-align: right;\">             8</td><td>Rolling Stones</td><td>Cars    </td><td>Charlie  </td></tr>\\n<tr><td style=\"text-align: right;\">            12</td><td>Rolling Stones</td><td>Boats   </td><td>Charlie  </td></tr>\\n<tr><td style=\"text-align: right;\">             4</td><td>Beatles       </td><td>Houses  </td><td>Ringo    </td></tr>\\n<tr><td style=\"text-align: right;\">             8</td><td>Beatles       </td><td>Cars    </td><td>Ringo    </td></tr>\\n<tr><td style=\"text-align: right;\">            12</td><td>Beatles       </td><td>Boats   </td><td>Ringo    </td></tr>\\n<tr><td style=\"text-align: right;\">             5</td><td>Rolling Stones</td><td>Houses  </td><td>Ronnie   </td></tr>\\n<tr><td style=\"text-align: right;\">             9</td><td>Rolling Stones</td><td>Cars    </td><td>Ronnie   </td></tr>\\n<tr><td style=\"text-align: right;\">            13</td><td>Rolling Stones</td><td>Boats   </td><td>Ronnie   </td></tr>\\n</tbody>\\n</table>'"
      ]
     },
     "metadata": {},
     "output_type": "display_data"
    },
    {
     "name": "stdout",
     "output_type": "stream",
     "text": [
      "\n"
     ]
    },
    {
     "data": {
      "text/plain": [
       "PosixPath('output.csv')"
      ]
     },
     "execution_count": 9,
     "metadata": {},
     "output_type": "execute_result"
    }
   ],
   "source": [
    "from datachef import acquire, preview, filters\n",
    "from datachef.direction import right, below\n",
    "from datachef.output import TidyData, Column\n",
    "from datachef.selection import CsvSelectable\n",
    "\n",
    "table: CsvSelectable = acquire.csv.http(\"https://raw.githubusercontent.com/mikeAdamss/datachef/main/tests/fixtures/csv/bands-wide.csv\")\n",
    "\n",
    "observations = table.filter(filters.is_numeric).label_as(\"Observations\")\n",
    "bands = (table.excel_ref(\"A3\") | table.excel_ref(\"G3\")).label_as(\"Bands\")\n",
    "assets = table.excel_ref('2').is_not_blank().label_as(\"Assets\")\n",
    "members = (table.excel_ref(\"B\") | table.excel_ref(\"H\")).is_not_blank().label_as(\"Members\")\n",
    "preview(observations, bands, assets, members)\n",
    "\n",
    "tidy_data = TidyData(\n",
    "    observations,\n",
    "    Column(bands.finds_observations_closest(right)),\n",
    "    Column(assets.finds_observations_directly(below)),\n",
    "    Column(members.finds_observations_directly(right))\n",
    "\n",
    ")\n",
    "\n",
    "print(tidy_data)\n",
    "tidy_data.to_csv(\"output.csv\")"
   ]
  },
  {
   "attachments": {},
   "cell_type": "markdown",
   "metadata": {},
   "source": [
    "The \"output.csv\" data we've just extracted can be downloaded [here](./output.csv) but for convenience purposes we'll print the contents below."
   ]
  },
  {
   "cell_type": "code",
   "execution_count": 10,
   "metadata": {},
   "outputs": [
    {
     "name": "stdout",
     "output_type": "stream",
     "text": [
      "Observations,Bands,Assets,Members\n",
      "1,Beatles,Houses,John\n",
      "5,Beatles,Cars,John\n",
      "9,Beatles,Boats,John\n",
      "2,Rolling Stones,Houses,Keith\n",
      "6,Rolling Stones,Cars,Keith\n",
      "10,Rolling Stones,Boats,Keith\n",
      "2,Beatles,Houses,Paul\n",
      "6,Beatles,Cars,Paul\n",
      "10,Beatles,Boats,Paul\n",
      "3,Rolling Stones,Houses,Mick\n",
      "7,Rolling Stones,Cars,Mick\n",
      "11,Rolling Stones,Boats,Mick\n",
      "2,Beatles,Houses,George\n",
      "7,Beatles,Cars,George\n",
      "11,Beatles,Boats,George\n",
      "3,Rolling Stones,Houses,Charlie\n",
      "8,Rolling Stones,Cars,Charlie\n",
      "12,Rolling Stones,Boats,Charlie\n",
      "4,Beatles,Houses,Ringo\n",
      "8,Beatles,Cars,Ringo\n",
      "12,Beatles,Boats,Ringo\n",
      "5,Rolling Stones,Houses,Ronnie\n",
      "9,Rolling Stones,Cars,Ronnie\n",
      "13,Rolling Stones,Boats,Ronnie\n",
      "\n"
     ]
    }
   ],
   "source": [
    "with open(\"./output.csv\") as f:\n",
    "    print(f.read())"
   ]
  },
  {
   "attachments": {},
   "cell_type": "markdown",
   "metadata": {},
   "source": [
    "## Custom Csv Writing\n",
    "\n",
    "The `.to_csv()` method uses the `csv.writer()` method from the standard python library as documented [here](https://docs.python.org/3/library/csv.html). It also propagates keyword arguments to the `csv.writer()` method.\n",
    "\n",
    "Example: using a different delimiter"
   ]
  },
  {
   "cell_type": "code",
   "execution_count": 11,
   "metadata": {},
   "outputs": [
    {
     "name": "stdout",
     "output_type": "stream",
     "text": [
      "Observations|Bands|Assets|Members\n",
      "1|Beatles|Houses|John\n",
      "5|Beatles|Cars|John\n",
      "9|Beatles|Boats|John\n",
      "2|Rolling Stones|Houses|Keith\n",
      "6|Rolling Stones|Cars|Keith\n",
      "10|Rolling Stones|Boats|Keith\n",
      "2|Beatles|Houses|Paul\n",
      "6|Beatles|Cars|Paul\n",
      "10|Beatles|Boats|Paul\n",
      "3|Rolling Stones|Houses|Mick\n",
      "7|Rolling Stones|Cars|Mick\n",
      "11|Rolling Stones|Boats|Mick\n",
      "2|Beatles|Houses|George\n",
      "7|Beatles|Cars|George\n",
      "11|Beatles|Boats|George\n",
      "3|Rolling Stones|Houses|Charlie\n",
      "8|Rolling Stones|Cars|Charlie\n",
      "12|Rolling Stones|Boats|Charlie\n",
      "4|Beatles|Houses|Ringo\n",
      "8|Beatles|Cars|Ringo\n",
      "12|Beatles|Boats|Ringo\n",
      "5|Rolling Stones|Houses|Ronnie\n",
      "9|Rolling Stones|Cars|Ronnie\n",
      "13|Rolling Stones|Boats|Ronnie\n",
      "\n"
     ]
    }
   ],
   "source": [
    "tidy_data.to_csv(\"output2.csv\", delimiter=\"|\")\n",
    "\n",
    "# Now print the contents of output2\n",
    "with open(\"./output2.csv\") as f:\n",
    "    print(f.read())"
   ]
  }
 ],
 "metadata": {
  "kernelspec": {
   "display_name": "datachef-hNSMaw3h-py3.9",
   "language": "python",
   "name": "python3"
  },
  "language_info": {
   "codemirror_mode": {
    "name": "ipython",
    "version": 3
   },
   "file_extension": ".py",
   "mimetype": "text/x-python",
   "name": "python",
   "nbconvert_exporter": "python",
   "pygments_lexer": "ipython3",
   "version": "3.9.7"
  },
  "orig_nbformat": 4
 },
 "nbformat": 4,
 "nbformat_minor": 2
}
