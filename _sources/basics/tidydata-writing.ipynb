{
 "cells": [
  {
   "attachments": {},
   "cell_type": "markdown",
   "metadata": {},
   "source": [
    "# TidyData: Writing To Csv\n",
    "\n",
    "Here we give an example of creating TidyData and writing it to a tidy csv."
   ]
  },
  {
   "attachments": {},
   "cell_type": "markdown",
   "metadata": {},
   "source": [
    "## Source Data\n",
    "\n",
    "The data source we're using for these examples is shown below:\n",
    "\n",
    "The [full data source can be downloaded here](https://raw.githubusercontent.com/mikeAdamss/tidychef/main/tests/fixtures/csv/bands-wide.csv)."
   ]
  },
  {
   "cell_type": "code",
   "execution_count": null,
   "metadata": {},
   "outputs": [],
   "source": [
    "from tidychef import acquire, preview\n",
    "from tidychef.selection import CsvSelectable\n",
    "\n",
    "# Argument is any csv file accessible via http or https\n",
    "table: CsvSelectable = acquire.csv.http(\"https://raw.githubusercontent.com/mikeAdamss/tidychef/main/tests/fixtures/csv/bands-wide.csv\")\n",
    "preview(table)"
   ]
  },
  {
   "attachments": {},
   "cell_type": "markdown",
   "metadata": {},
   "source": [
    "## Example\n",
    "\n",
    "The simplest way to write tidydata to csv is via the `.to_csv()` method of the `TidyData` class.\n",
    "\n",
    "The key point is the last line and the `to_csv()` method."
   ]
  },
  {
   "cell_type": "code",
   "execution_count": null,
   "metadata": {},
   "outputs": [],
   "source": [
    "from tidychef import acquire, preview, filters\n",
    "from tidychef.direction import right, below\n",
    "from tidychef.output import TidyData, Column\n",
    "from tidychef.selection import CsvSelectable\n",
    "\n",
    "table: CsvSelectable = acquire.csv.http(\"https://raw.githubusercontent.com/mikeAdamss/tidychef/main/tests/fixtures/csv/bands-wide.csv\")\n",
    "\n",
    "observations = table.filter(filters.is_numeric).label_as(\"Observations\")\n",
    "bands = (table.excel_ref(\"A3\") | table.excel_ref(\"G3\")).label_as(\"Bands\")\n",
    "assets = table.excel_ref('2').is_not_blank().label_as(\"Assets\")\n",
    "members = (table.excel_ref(\"B\") | table.excel_ref(\"H\")).is_not_blank().label_as(\"Members\")\n",
    "preview(observations, bands, assets, members)\n",
    "\n",
    "tidy_data = TidyData(\n",
    "    observations,\n",
    "    Column(bands.finds_observations_closest(right)),\n",
    "    Column(assets.finds_observations_directly(below)),\n",
    "    Column(members.finds_observations_directly(right))\n",
    "\n",
    ")\n",
    "\n",
    "print(tidy_data)\n",
    "tidy_data.to_csv(\"output.csv\")"
   ]
  },
  {
   "attachments": {},
   "cell_type": "markdown",
   "metadata": {},
   "source": [
    "The \"output.csv\" data we've just extracted can be downloaded [here](./output.csv) but for convenience purposes we'll print the contents below."
   ]
  },
  {
   "cell_type": "code",
   "execution_count": null,
   "metadata": {},
   "outputs": [],
   "source": [
    "with open(\"./output.csv\") as f:\n",
    "    print(f.read())"
   ]
  },
  {
   "attachments": {},
   "cell_type": "markdown",
   "metadata": {},
   "source": [
    "## Custom Csv Writing\n",
    "\n",
    "The `.to_csv()` method uses the `csv.writer()` method from the standard python library as documented [here](https://docs.python.org/3/library/csv.html). It also propagates keyword arguments to the `csv.writer()` method.\n",
    "\n",
    "Example: using a different delimiter"
   ]
  },
  {
   "cell_type": "code",
   "execution_count": null,
   "metadata": {},
   "outputs": [],
   "source": [
    "tidy_data.to_csv(\"output2.csv\", delimiter=\"|\")\n",
    "\n",
    "# Now print the contents of output2\n",
    "with open(\"./output2.csv\") as f:\n",
    "    print(f.read())"
   ]
  }
 ],
 "metadata": {
  "kernelspec": {
   "display_name": "datachef-hNSMaw3h-py3.9",
   "language": "python",
   "name": "python3"
  },
  "language_info": {
   "codemirror_mode": {
    "name": "ipython",
    "version": 3
   },
   "file_extension": ".py",
   "mimetype": "text/x-python",
   "name": "python",
   "nbconvert_exporter": "python",
   "pygments_lexer": "ipython3",
   "version": "3.9.7"
  },
  "orig_nbformat": 4
 },
 "nbformat": 4,
 "nbformat_minor": 2
}
