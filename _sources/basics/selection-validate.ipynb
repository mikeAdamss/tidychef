{
 "cells": [
  {
   "cell_type": "markdown",
   "metadata": {},
   "source": [
    "# Selection: Validation\n",
    "\n",
    "This section details how to use the `validate()` method with your extractions.\n",
    "\n",
    "The purpose of this method is _not_ to alter the selection in any way, it is to let you confirm you have **selected the cell values that you were expecting**.\n",
    "\n",
    "| <span style=\"color:green\">Note - we're going to use the tidychef `against` module here which is a collection of premade user friendly validation classes. There will be more information on this module, how it works (and how to write your own) later in this guide.</span>|\n",
    "|-----------------------------------------|\n",
    "\n",
    "for our purposes here:\n",
    "- `validate()` - is how you validate cell selections.\n",
    "- `against` - is a collection of tools that `validate()` makes use of."
   ]
  },
  {
   "cell_type": "markdown",
   "metadata": {},
   "source": [
    "## Source Data\n",
    "\n",
    "The data source we're using for these examples is shown below:\n",
    "\n",
    "The [full data source can be viewed here](https://raw.githubusercontent.com/mikeAdamss/tidychef/main/tests/fixtures/csv/bands-wide.csv)."
   ]
  },
  {
   "cell_type": "code",
   "execution_count": null,
   "metadata": {},
   "outputs": [],
   "source": [
    "from tidychef import acquire, preview\n",
    "from tidychef.selection import CsvSelectable\n",
    "\n",
    "table: CsvSelectable = acquire.csv.http(\"https://raw.githubusercontent.com/mikeAdamss/tidychef/main/tests/fixtures/csv/bands-wide.csv\")\n",
    "preview(table)"
   ]
  },
  {
   "cell_type": "markdown",
   "metadata": {},
   "source": [
    "## .validate(against.items())\n",
    "\n",
    "The `against.items()` validator compares the value of each cell to the contents of a list.\n",
    "\n",
    "So the following example will **not** raise an AssertionError (because our selected cells all have values that are in the list)."
   ]
  },
  {
   "cell_type": "code",
   "execution_count": null,
   "metadata": {
    "tags": []
   },
   "outputs": [],
   "source": [
    "from tidychef import acquire, against\n",
    "from tidychef.selection import CsvSelectable\n",
    "\n",
    "table: CsvSelectable = acquire.csv.http(\"https://raw.githubusercontent.com/mikeAdamss/tidychef/main/tests/fixtures/csv/bands-wide.csv\")\n",
    "\n",
    "validated_selection = table.excel_ref('B').is_not_blank().validate(against.items([\"John\", \"Paul\", \"Ringo\", \"George\"]))"
   ]
  },
  {
   "cell_type": "markdown",
   "metadata": {},
   "source": [
    "whereas this example **will** raise an AssertionError (as we've removed \"George\" from the list).\n",
    "\n",
    "| <span style=\"color:green\">Note - we're going to use a try catch to catch then print the exception, this is purely so it doesn't stop the execution of this notebook - you **dont** need to do anything like this in practice.</span>|\n",
    "|-----------------------------------------|"
   ]
  },
  {
   "cell_type": "code",
   "execution_count": null,
   "metadata": {
    "tags": []
   },
   "outputs": [],
   "source": [
    "from tidychef import acquire, against\n",
    "from tidychef.selection import CsvSelectable\n",
    "\n",
    "table: CsvSelectable = acquire.csv.http(\"https://raw.githubusercontent.com/mikeAdamss/tidychef/main/tests/fixtures/csv/bands-wide.csv\")\n",
    "\n",
    "try:\n",
    "    table.excel_ref('B').is_not_blank().validate(against.items([\"John\", \"Paul\", \"Ringo\"]))\n",
    "except Exception as err:\n",
    "    print(err)"
   ]
  },
  {
   "cell_type": "markdown",
   "metadata": {},
   "source": [
    "## .validate(against.regex())\n",
    "\n",
    "The `against.regex()` validator compares the value of each cell to see if it matches the provided regular expression.\n",
    "\n",
    "So the following example will will raise an error for cells whose content does not explicitly match \"John\".\n",
    "\n",
    "| <span style=\"color:green\">Note - we're going to use a try catch to catch then print the exception, this is purely so it doesn't stop the execution of this notebook - you **dont** need to do anything like this in practice.</span>|\n",
    "|-----------------------------------------|"
   ]
  },
  {
   "cell_type": "code",
   "execution_count": null,
   "metadata": {
    "tags": []
   },
   "outputs": [],
   "source": [
    "from tidychef import acquire, against\n",
    "from tidychef.selection import CsvSelectable\n",
    "\n",
    "table: CsvSelectable = acquire.csv.http(\"https://raw.githubusercontent.com/mikeAdamss/tidychef/main/tests/fixtures/csv/bands-wide.csv\")\n",
    "\n",
    "try:\n",
    "    table.excel_ref('B').is_not_blank().validate(against.regex(\"John\"))\n",
    "except Exception as err:\n",
    "    print(err)"
   ]
  },
  {
   "cell_type": "markdown",
   "metadata": {},
   "source": [
    "## validate(): viewing a lone exception\n",
    "\n",
    "There will be occasions where you'll want less verbose exceptions (if you've have 1000 invalid values, you probably don't want an exception message with all of them in it).\n",
    "\n",
    "If you pass in the keyword `raise_first_error=True` to `validate()` it will immediately raise upon encountering an error rather than waiting an collecting all validation error messages.\n",
    "\n",
    "In the example that follows we run the same code from above but include this keyword argument (as its also the last example on this page we'll also allow the error to be raised properly). "
   ]
  },
  {
   "cell_type": "code",
   "execution_count": null,
   "metadata": {
    "tags": []
   },
   "outputs": [],
   "source": [
    "from tidychef import acquire, against\n",
    "from tidychef.selection import CsvSelectable\n",
    "\n",
    "table: CsvSelectable = acquire.csv.http(\"https://raw.githubusercontent.com/mikeAdamss/tidychef/main/tests/fixtures/csv/bands-wide.csv\")\n",
    "\n",
    "table.excel_ref('B').is_not_blank().validate(against.regex(\"John\"), raise_first_error=True)"
   ]
  },
  {
   "cell_type": "code",
   "execution_count": null,
   "metadata": {},
   "outputs": [],
   "source": []
  }
 ],
 "metadata": {
  "kernelspec": {
   "display_name": "Python 3 (ipykernel)",
   "language": "python",
   "name": "python3"
  },
  "language_info": {
   "codemirror_mode": {
    "name": "ipython",
    "version": 3
   },
   "file_extension": ".py",
   "mimetype": "text/x-python",
   "name": "python",
   "nbconvert_exporter": "python",
   "pygments_lexer": "ipython3",
   "version": "3.12.11"
  }
 },
 "nbformat": 4,
 "nbformat_minor": 4
}
