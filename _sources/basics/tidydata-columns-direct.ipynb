{
 "cells": [
  {
   "cell_type": "markdown",
   "metadata": {},
   "source": [
    "# TidyData: Columns & Direct\n",
    "\n",
    "This section gives the first simple examples of how we create TidyData from our selections."
   ]
  },
  {
   "cell_type": "markdown",
   "metadata": {},
   "source": [
    "## Source Data\n",
    "\n",
    "The data source we're using for these examples is shown below:\n",
    "\n",
    "| <span style=\"color:green\">Note - this particular table has some very verbose headers we don't care about, so we'll be using `bounded=` to remove them from the previews as well as to show just the subset of data we're working with.</span>|\n",
    "|-----------------------------------------|\n",
    "\n",
    "The [full data source can be downloaded here](https://github.com/mikeAdamss/tidychef/raw/main/tests/fixtures/xlsx/ons-oic.xlsx). We'll be using th 8th tab named \"Table 3a\"."
   ]
  },
  {
   "cell_type": "code",
   "execution_count": null,
   "metadata": {},
   "outputs": [],
   "source": [
    "from typing import List\n",
    "from tidychef import acquire, preview\n",
    "from tidychef.selection import XlsxSelectable\n",
    "\n",
    "table: XlsxSelectable = acquire.xlsx.http(\"https://github.com/mikeAdamss/tidychef/raw/main/tests/fixtures/xlsx/ons-oic.xlsx\", tables=\"Table 3a\")\n",
    "preview(table, bounded=\"A4:H10\")"
   ]
  },
  {
   "cell_type": "markdown",
   "metadata": {},
   "source": [
    "## TidyData & Columns\n",
    "\n",
    "This example introduces two new classes.\n",
    "\n",
    "- `TidyData` is a class representing tidy data created from the selections.\n",
    "- `Column` represents a single column of data within this TidyData.\n",
    "\n",
    "| <span style=\"color:green\">Note - for this section we're going to use only a small sample of the potential observations we could select. This will look a little odd in the previews but is necessary to restrict the size of the TidyData previews to something practical for the context of this documentation.</span>|\n",
    "|-----------------------------------------|"
   ]
  },
  {
   "cell_type": "markdown",
   "metadata": {},
   "source": [
    "## Example 1: Time Periods\n",
    "\n",
    "The simplest example where we just extract the observations and time period.\n",
    "\n",
    "A new and critical part will be the following:\n",
    "\n",
    "```\n",
    "tidy_data = TidyData(\n",
    "    observations,\n",
    "    Column(period.attach_directly(right))\n",
    ")\n",
    "```\n",
    "\n",
    "Which specifies the visual relationship between the \"period\" selection of cells and the \"observations\" selection of cells is... \"observations are directly to the right of period\""
   ]
  },
  {
   "cell_type": "code",
   "execution_count": null,
   "metadata": {},
   "outputs": [],
   "source": [
    "from tidychef import acquire, preview\n",
    "from tidychef.direction import right\n",
    "from tidychef.selection import XlsxSelectable\n",
    "from tidychef.output import Column, TidyData\n",
    "\n",
    "table: XlsxSelectable = acquire.xlsx.http(\"https://github.com/mikeAdamss/tidychef/raw/main/tests/fixtures/xlsx/ons-oic.xlsx\", tables=\"Table 3a\")\n",
    "\n",
    "# Create our selections\n",
    "# Note, we're not taking all observations as we want to keep the \n",
    "# output suitably small for this example.\n",
    "observations = table.excel_ref(\"B9:C18\").label_as(\"Value\")\n",
    "period = table.excel_ref(\"A9:A18\").label_as(\"Period\")\n",
    "\n",
    "# First preview the selections\n",
    "preview(observations, period, bounded=\"A4:H18\")\n",
    "\n",
    "# Then create some simple TidyData\n",
    "tidy_data = TidyData(\n",
    "    observations,\n",
    "    Column(period.attach_directly(right))\n",
    ")\n",
    "\n",
    "# And view it\n",
    "print(tidy_data)"
   ]
  },
  {
   "cell_type": "markdown",
   "metadata": {},
   "source": [
    "## Example 2: Tidy Data\n",
    "\n",
    "Now the above example doesn't accomplish a lot so lets expand our code a little more to add in some more columns.\n",
    "\n",
    "If you've been working the documentation so far you should be able to make sense of the following - there's nothing new here.\n",
    "\n",
    "**Do** take your time and go line by line to make sure you understand this, it's probably the most key example in this documentation."
   ]
  },
  {
   "cell_type": "code",
   "execution_count": null,
   "metadata": {
    "tags": []
   },
   "outputs": [],
   "source": [
    "from tidychef import acquire, preview\n",
    "from tidychef.direction import right, down\n",
    "from tidychef.selection import XlsxSelectable\n",
    "from tidychef.output import Column, TidyData\n",
    "\n",
    "table: XlsxSelectable = acquire.xlsx.http(\"https://github.com/mikeAdamss/tidychef/raw/main/tests/fixtures/xlsx/ons-oic.xlsx\", tables=\"Table 3a\")\n",
    "\n",
    "# Create our selections\n",
    "observations = table.excel_ref(\"B9:C18\").label_as(\"Value\")\n",
    "period = table.excel_ref(\"A9:A18\").label_as(\"Period\")\n",
    "housing = table.excel_ref(\"B5\").expand(right).label_as(\"Housing\")\n",
    "annual_dataset_code = housing.shift(down).label_as(\"Annual Dataset Identifier\")\n",
    "quarterly_dataset_code = annual_dataset_code.shift(down).label_as(\"Quarterly Dataset Identifier\")\n",
    "monthly_dataset_code = quarterly_dataset_code.shift(down).label_as(\"Monthly Dataset Identifier\")\n",
    "\n",
    "# First preview the selections\n",
    "preview(observations, housing, annual_dataset_code, quarterly_dataset_code, monthly_dataset_code, period, bounded=\"A4:H18\")\n",
    "\n",
    "# Then create some simple TidyData\n",
    "tidy_data = TidyData(\n",
    "    observations,\n",
    "    Column(period.attach_directly(right)),\n",
    "    Column(housing.attach_directly(down)),\n",
    "    Column(annual_dataset_code.attach_directly(down)),\n",
    "    Column(quarterly_dataset_code.attach_directly(down)),\n",
    "    Column(monthly_dataset_code.attach_directly(down))\n",
    ")\n",
    "\n",
    "# And view it\n",
    "print(tidy_data)"
   ]
  }
 ],
 "metadata": {
  "kernelspec": {
   "display_name": "Python 3 (ipykernel)",
   "language": "python",
   "name": "python3"
  },
  "language_info": {
   "codemirror_mode": {
    "name": "ipython",
    "version": 3
   },
   "file_extension": ".py",
   "mimetype": "text/x-python",
   "name": "python",
   "nbconvert_exporter": "python",
   "pygments_lexer": "ipython3",
   "version": "3.12.11"
  }
 },
 "nbformat": 4,
 "nbformat_minor": 4
}
