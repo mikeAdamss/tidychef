{
 "cells": [
  {
   "cell_type": "markdown",
   "metadata": {},
   "source": [
    "# TidyData: Constants\n",
    "\n",
    "This section details how to do that."
   ]
  },
  {
   "cell_type": "markdown",
   "metadata": {},
   "source": [
    "## Source Data\n",
    "\n",
    "The data source we're using for these examples is shown below:\n",
    "\n",
    "The [full data source can be downloaded here](https://raw.githubusercontent.com/mikeAdamss/tidychef/main/tests/fixtures/csv/bands-wide.csv)."
   ]
  },
  {
   "cell_type": "code",
   "execution_count": null,
   "metadata": {},
   "outputs": [],
   "source": [
    "from tidychef import acquire, preview\n",
    "from tidychef.selection import CsvSelectable\n",
    "\n",
    "# Argument is any csv file accessible via http or https\n",
    "table: CsvSelectable = acquire.csv.http(\"https://raw.githubusercontent.com/mikeAdamss/tidychef/main/tests/fixtures/csv/bands-wide.csv\")\n",
    "preview(table)"
   ]
  },
  {
   "cell_type": "markdown",
   "metadata": {},
   "source": [
    "## Declaring A Constant\n",
    "\n",
    "Delaring a constant value columns is a simple process and uses the syntax:\n",
    "\n",
    "```\n",
    "Column.constant(<column name>, <constant value>)\n",
    "```\n",
    "\n",
    "An example follows where we declare two columns of constants to go alongside a single directional column relationship."
   ]
  },
  {
   "cell_type": "code",
   "execution_count": null,
   "metadata": {},
   "outputs": [],
   "source": [
    "from tidychef import acquire, preview, filters\n",
    "from tidychef.direction import below\n",
    "from tidychef.selection import CsvSelectable\n",
    "from tidychef.output import TidyData, Column\n",
    "\n",
    "# Argument is any csv file accessible via http or https\n",
    "table: CsvSelectable = acquire.csv.http(\"https://raw.githubusercontent.com/mikeAdamss/tidychef/main/tests/fixtures/csv/bands-wide.csv\")\n",
    "\n",
    "observations = table.filter(filters.is_numeric).label_as(\"Value\")\n",
    "assets = table.excel_ref('2').is_not_blank().label_as(\"Assets Via Direction\")\n",
    "\n",
    "preview(observations, assets)\n",
    "\n",
    "tidy_data = TidyData(\n",
    "    observations,\n",
    "    Column(assets.attach_directly(below)),\n",
    "    Column.constant(\"Constant Foo\", \"Foo\"),\n",
    "    Column.constant(\"Constant Bar\", \"Bar\")\n",
    ")\n",
    "\n",
    "print(tidy_data)"
   ]
  }
 ],
 "metadata": {
  "kernelspec": {
   "display_name": "Python 3 (ipykernel)",
   "language": "python",
   "name": "python3"
  },
  "language_info": {
   "codemirror_mode": {
    "name": "ipython",
    "version": 3
   },
   "file_extension": ".py",
   "mimetype": "text/x-python",
   "name": "python",
   "nbconvert_exporter": "python",
   "pygments_lexer": "ipython3",
   "version": "3.12.11"
  }
 },
 "nbformat": 4,
 "nbformat_minor": 4
}
