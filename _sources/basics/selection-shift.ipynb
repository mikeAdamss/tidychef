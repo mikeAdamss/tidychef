{
 "cells": [
  {
   "attachments": {},
   "cell_type": "markdown",
   "metadata": {},
   "source": [
    "# Selection: Shift\n",
    "\n",
    "The `shift()` method is move selections of cells in cardinal directions.\n",
    "\n",
    "This page will show examples of how to do this, along with some simple examples of how you'd use this functionality.' "
   ]
  },
  {
   "attachments": {},
   "cell_type": "markdown",
   "metadata": {},
   "source": [
    "## Source Data\n",
    "\n",
    "The data source we're using for these examples is shown below:\n",
    "\n",
    "| <span style=\"color:green\">Note - this particular table has some very verbose headers we don't care about, so we'll be using `bounded=` to remove them from the previews as well as to show just the subset of data we're working with.</span>|\n",
    "|-----------------------------------------|\n",
    "\n",
    "The [full data source can be downloaded here](https://github.com/mikeAdamss/tidychef/raw/main/tests/fixtures/xlsx/ons-oic.xlsx). We'll be using th 10th tab named \"Table 3c\"."
   ]
  },
  {
   "cell_type": "code",
   "execution_count": null,
   "metadata": {},
   "outputs": [],
   "source": [
    "from tidychef import acquire, preview\n",
    "from tidychef.selection import XlsxSelectable\n",
    "\n",
    "table: XlsxSelectable = acquire.xlsx.http(\"https://github.com/mikeAdamss/tidychef/raw/main/tests/fixtures/xlsx/ons-oic.xlsx\", tables=\"Table 3c\")\n",
    "preview(table, bounded=\"A4:H10\")"
   ]
  },
  {
   "attachments": {},
   "cell_type": "markdown",
   "metadata": {},
   "source": [
    "## Shifting Single Directions\n",
    "\n",
    "In the following example, we're going to create one selection by just shifting another selection down."
   ]
  },
  {
   "cell_type": "code",
   "execution_count": null,
   "metadata": {},
   "outputs": [],
   "source": [
    "from tidychef import acquire, preview\n",
    "from tidychef.selection import XlsxSelectable\n",
    "from tidychef.direction import right, down\n",
    "\n",
    "table: XlsxSelectable = acquire.xlsx.http(\"https://github.com/mikeAdamss/tidychef/raw/main/tests/fixtures/xlsx/ons-oic.xlsx\", tables=\"Table 3c\")\n",
    "\n",
    "# Make the original selection\n",
    "original_selection = table.excel_ref(\"B6\").expand(right).label_as(\"Original Selection\")\n",
    "\n",
    "# Create a second selection by shifting the first selection down once\n",
    "shifted_selection = original_selection.shift(down).label_as(\"Shifted Selection\")\n",
    "\n",
    "preview(shifted_selection, original_selection, bounded=\"A4:H10\")"
   ]
  },
  {
   "attachments": {},
   "cell_type": "markdown",
   "metadata": {},
   "source": [
    "## Shifting Across More Than One Cell\n",
    "\n",
    "In this case we're going to shift across multiple cells by passing integers to the direction.\n",
    "\n",
    "In particular, *take note of the use of `right(3)`*."
   ]
  },
  {
   "cell_type": "code",
   "execution_count": null,
   "metadata": {},
   "outputs": [],
   "source": [
    "from tidychef import acquire, preview\n",
    "from tidychef.selection import XlsxSelectable\n",
    "from tidychef.direction import right, down\n",
    "\n",
    "table: XlsxSelectable = acquire.xlsx.http(\"https://github.com/mikeAdamss/tidychef/raw/main/tests/fixtures/xlsx/ons-oic.xlsx\", tables=\"Table 3c\")\n",
    "\n",
    "# Make the original selection\n",
    "original_selection = table.excel_ref(\"B7\").expand(down).label_as(\"Original Selection\")\n",
    "\n",
    "# Create a second selection by shifting the first selection right three columns\n",
    "shifted_selection = original_selection.shift(right(3)).label_as(\"Shifted Selection\")\n",
    "\n",
    "preview(shifted_selection, original_selection, bounded=\"A4:H10\")"
   ]
  },
  {
   "attachments": {},
   "cell_type": "markdown",
   "metadata": {},
   "source": [
    "## An example of using shifts\n",
    "\n",
    "In keeping with tidychefs dot notation approach you can chain multiple shift commands to enable movement in a diagonal or otherwise more nuanced direction.\n",
    "\n",
    "| <span style=\"color:green\">Note - we're using an `anchor` here. An Anchor is a handy convention from selecting a cell you don't want to extract that also holds a useful position in the data structure relative to cells you do want to extract.<b><br><br>We'll see the `anchor` pattern crop up more going forward as it's a key pattern in creating robust repeatable scripts.</span>|\n",
    "|-----------------------------------------|"
   ]
  },
  {
   "cell_type": "code",
   "execution_count": null,
   "metadata": {},
   "outputs": [],
   "source": [
    "from tidychef import acquire, preview\n",
    "from tidychef.selection import XlsxSelectable\n",
    "from tidychef.direction import right, down, up\n",
    "\n",
    "table: XlsxSelectable = acquire.xlsx.http(\"https://github.com/mikeAdamss/tidychef/raw/main/tests/fixtures/xlsx/ons-oic.xlsx\", tables=\"Table 3c\")\n",
    "anchor = table.excel_ref(\"A6\").label_as(\"This is our anchor, you'd not always preview and never extract this\")\n",
    "\n",
    "# shift right then down, the expand right then down to get observations\n",
    "observations = anchor.shift(right).shift(down).expand(right).expand(down).label_as(\"Value\")\n",
    "\n",
    "# shift both up and right to get housing\n",
    "housing = anchor.shift(right).shift(up).expand(right).label_as(\"Housing\")\n",
    "\n",
    "# shift right then expand to get the dataset identifier codes\n",
    "dataset_identifier_codes = anchor.shift(right).expand(right).label_as(\"Dataset Identifier Code\")\n",
    "\n",
    "# shift down then expand down to get the year\n",
    "period = anchor.shift(down).expand(down).label_as(\"Period\")\n",
    "\n",
    "preview(anchor, observations, housing, dataset_identifier_codes, period, bounded=\"A4:H10\")"
   ]
  },
  {
   "attachments": {},
   "cell_type": "markdown",
   "metadata": {},
   "source": [
    "## Going out of bounds\n",
    "\n",
    "A typical error when learning to use tidychef is to go \"out of bounds\", this means shifting your selection outside the bounds of the data your'e working with.\n",
    "\n",
    "i.f if your rightmost populated cell is column 'F', if you try and shift a selection into column 'G' you're out of bounds.\n",
    "\n",
    "First, let's preview the rightmost populated part of this sheet (column `O`) and select a cell."
   ]
  },
  {
   "cell_type": "code",
   "execution_count": null,
   "metadata": {},
   "outputs": [],
   "source": [
    "from tidychef import acquire, preview\n",
    "from tidychef.selection import XlsxSelectable\n",
    "from tidychef.direction import right\n",
    "\n",
    "table: XlsxSelectable = acquire.xlsx.http(\"https://github.com/mikeAdamss/tidychef/raw/main/tests/fixtures/xlsx/ons-oic.xlsx\", tables=\"Table 3c\")\n",
    "\n",
    "selection = table.excel_ref('O5')\n",
    "\n",
    "preview(selection, bounded=\"K4:O10\")"
   ]
  },
  {
   "attachments": {},
   "cell_type": "markdown",
   "metadata": {},
   "source": [
    "Now watch what happens if we try and shift that selection right."
   ]
  },
  {
   "cell_type": "code",
   "execution_count": null,
   "metadata": {},
   "outputs": [],
   "source": [
    "selection.shift(right)"
   ]
  }
 ],
 "metadata": {
  "kernelspec": {
   "display_name": "datachef-hNSMaw3h-py3.9",
   "language": "python",
   "name": "python3"
  },
  "language_info": {
   "codemirror_mode": {
    "name": "ipython",
    "version": 3
   },
   "file_extension": ".py",
   "mimetype": "text/x-python",
   "name": "python",
   "nbconvert_exporter": "python",
   "pygments_lexer": "ipython3",
   "version": "3.9.7"
  },
  "orig_nbformat": 4
 },
 "nbformat": 4,
 "nbformat_minor": 2
}
