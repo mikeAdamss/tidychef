{
 "cells": [
  {
   "attachments": {},
   "cell_type": "markdown",
   "metadata": {},
   "source": [
    "# Selection: Shift\n",
    "\n",
    "The `shift()` method is move selections of cells in cardinal directions.\n",
    "\n",
    "This page will show examples of how to do this, along with some simple examples of how you'd use this functionality.' "
   ]
  },
  {
   "attachments": {},
   "cell_type": "markdown",
   "metadata": {},
   "source": [
    "## Source Data\n",
    "\n",
    "The data source we're using for these examples is shown below:\n",
    "\n",
    "| <span style=\"color:green\">Note - this particular table has some very verbose headers we don't care about, so we'll be using `bounded=` to remove them from the previews as well as to show just the subset of data we're working with.</span>|\n",
    "|-----------------------------------------|\n",
    "\n",
    "The [full data source can be downloaded here](https://github.com/mikeAdamss/datachef/raw/main/tests/fixtures/xlsx/ons-oic.xlsx). We'll be using th 10th tab named \"Table 3c\"."
   ]
  },
  {
   "cell_type": "code",
   "execution_count": 1,
   "metadata": {},
   "outputs": [
    {
     "data": {
      "text/html": [
       "\n",
       "    <html>\n",
       "        \n",
       "    <style>\n",
       "    table, th, td {\n",
       "        border: 1px solid;\n",
       "    }\n",
       "\n",
       "    table {\n",
       "        border-collapse: collapse;\n",
       "    }\n",
       "\n",
       "    td {\n",
       "        align: center;\n",
       "        border: 1px  black solid !important;\n",
       "        color: black !important;\n",
       "    }\n",
       "\n",
       "    th, td {\n",
       "        padding: 5px;\n",
       "    }\n",
       "\n",
       "    </style>\n",
       "    \n",
       "            <table>\n",
       "                \n",
       "            </table>\n",
       "\n",
       "            <body>\n",
       "                <h2>Table 3c</h2>\n",
       "                <table>\n",
       "                    <tr><td style=\"background-color:lightgrey\"></td><td style=\"background-color:lightgrey\">A</td><td style=\"background-color:lightgrey\">B</td><td style=\"background-color:lightgrey\">C</td><td style=\"background-color:lightgrey\">D</td><td style=\"background-color:lightgrey\">E</td><td style=\"background-color:lightgrey\">F</td><td style=\"background-color:lightgrey\">G</td><td style=\"background-color:lightgrey\">H</td></tr>\n",
       "<tr><td style=\"background-color:lightgrey\">4</td><td style=\"background-color:white\">Percentage change 3 months on previous 3 months</td><td style=\"background-color:white\"></td><td style=\"background-color:white\"></td><td style=\"background-color:white\"></td><td style=\"background-color:white\"></td><td style=\"background-color:white\"></td><td style=\"background-color:white\"></td><td style=\"background-color:white\"></td></tr>\n",
       "<tr><td style=\"background-color:lightgrey\">5</td><td style=\"background-color:white\">Time period</td><td style=\"background-color:white\">Public new housing</td><td style=\"background-color:white\">Private new housing</td><td style=\"background-color:white\">Total new housing</td><td style=\"background-color:white\">Infrastructure new work</td><td style=\"background-color:white\">Public other new work</td><td style=\"background-color:white\">Private industrial new work</td><td style=\"background-color:white\">Private commercial new work</td></tr>\n",
       "<tr><td style=\"background-color:lightgrey\">6</td><td style=\"background-color:white\">Dataset identifier code</td><td style=\"background-color:white\">MVO6</td><td style=\"background-color:white\">MVO7</td><td style=\"background-color:white\">MVO8</td><td style=\"background-color:white\">MVO9</td><td style=\"background-color:white\">MVP2</td><td style=\"background-color:white\">MVP3</td><td style=\"background-color:white\">MVP4</td></tr>\n",
       "<tr><td style=\"background-color:lightgrey\">7</td><td style=\"background-color:white\">Jun 2010</td><td style=\"background-color:white\">5.6</td><td style=\"background-color:white\">9.8</td><td style=\"background-color:white\">8.8</td><td style=\"background-color:white\">3</td><td style=\"background-color:white\">4.3</td><td style=\"background-color:white\">3.7</td><td style=\"background-color:white\">1.9</td></tr>\n",
       "<tr><td style=\"background-color:lightgrey\">8</td><td style=\"background-color:white\">Jul 2010</td><td style=\"background-color:white\">2</td><td style=\"background-color:white\">5.6</td><td style=\"background-color:white\">4.8</td><td style=\"background-color:white\">0.2</td><td style=\"background-color:white\">-0.2</td><td style=\"background-color:white\">9.7</td><td style=\"background-color:white\">3.5</td></tr>\n",
       "<tr><td style=\"background-color:lightgrey\">9</td><td style=\"background-color:white\">Aug 2010</td><td style=\"background-color:white\">5.5</td><td style=\"background-color:white\">4.5</td><td style=\"background-color:white\">4.7</td><td style=\"background-color:white\">-2.9</td><td style=\"background-color:white\">-2.9</td><td style=\"background-color:white\">24.4</td><td style=\"background-color:white\">5.9</td></tr>\n",
       "<tr><td style=\"background-color:lightgrey\">10</td><td style=\"background-color:white\">Sep 2010</td><td style=\"background-color:white\">11.7</td><td style=\"background-color:white\">7.5</td><td style=\"background-color:white\">8.5</td><td style=\"background-color:white\">-6.8</td><td style=\"background-color:white\">-3.3</td><td style=\"background-color:white\">16.1</td><td style=\"background-color:white\">5.3</td></tr>\n",
       "\n",
       "                </table>\n",
       "            </body>\n",
       "            <br>\n",
       "        </html>\n",
       "    "
      ],
      "text/plain": [
       "<IPython.core.display.HTML object>"
      ]
     },
     "metadata": {},
     "output_type": "display_data"
    }
   ],
   "source": [
    "from typing import List\n",
    "from datachef import acquire, preview, XlsxSelectable\n",
    "\n",
    "tables: List[XlsxSelectable] = acquire.xlsx.http(\"https://github.com/mikeAdamss/datachef/raw/main/tests/fixtures/xlsx/ons-oic.xlsx\")\n",
    "preview(tables[9], bounded=\"A4:H10\")"
   ]
  },
  {
   "attachments": {},
   "cell_type": "markdown",
   "metadata": {},
   "source": [
    "## Shifting Single Directions\n",
    "\n",
    "Ib te following example, we're going to create one selection by just shifting another selection down."
   ]
  },
  {
   "cell_type": "code",
   "execution_count": 2,
   "metadata": {},
   "outputs": [
    {
     "data": {
      "text/html": [
       "\n",
       "    <html>\n",
       "        \n",
       "    <style>\n",
       "    table, th, td {\n",
       "        border: 1px solid;\n",
       "    }\n",
       "\n",
       "    table {\n",
       "        border-collapse: collapse;\n",
       "    }\n",
       "\n",
       "    td {\n",
       "        align: center;\n",
       "        border: 1px  black solid !important;\n",
       "        color: black !important;\n",
       "    }\n",
       "\n",
       "    th, td {\n",
       "        padding: 5px;\n",
       "    }\n",
       "\n",
       "    </style>\n",
       "    \n",
       "            <table>\n",
       "                \n",
       "            <tr>\n",
       "                <td style=\"background-color:cyan\">Shifted Selection</td>\n",
       "            <tr>\n",
       "        \n",
       "            <tr>\n",
       "                <td style=\"background-color:#99ff99\">Original Selection</td>\n",
       "            <tr>\n",
       "        \n",
       "            </table>\n",
       "\n",
       "            <body>\n",
       "                <h2>Table 3c</h2>\n",
       "                <table>\n",
       "                    <tr><td style=\"background-color:lightgrey\"></td><td style=\"background-color:lightgrey\">A</td><td style=\"background-color:lightgrey\">B</td><td style=\"background-color:lightgrey\">C</td><td style=\"background-color:lightgrey\">D</td><td style=\"background-color:lightgrey\">E</td><td style=\"background-color:lightgrey\">F</td><td style=\"background-color:lightgrey\">G</td><td style=\"background-color:lightgrey\">H</td></tr>\n",
       "<tr><td style=\"background-color:lightgrey\">4</td><td style=\"background-color:white\">Percentage change 3 months on previous 3 months</td><td style=\"background-color:white\"></td><td style=\"background-color:white\"></td><td style=\"background-color:white\"></td><td style=\"background-color:white\"></td><td style=\"background-color:white\"></td><td style=\"background-color:white\"></td><td style=\"background-color:white\"></td></tr>\n",
       "<tr><td style=\"background-color:lightgrey\">5</td><td style=\"background-color:white\">Time period</td><td style=\"background-color:white\">Public new housing</td><td style=\"background-color:white\">Private new housing</td><td style=\"background-color:white\">Total new housing</td><td style=\"background-color:white\">Infrastructure new work</td><td style=\"background-color:white\">Public other new work</td><td style=\"background-color:white\">Private industrial new work</td><td style=\"background-color:white\">Private commercial new work</td></tr>\n",
       "<tr><td style=\"background-color:lightgrey\">6</td><td style=\"background-color:white\">Dataset identifier code</td><td style=\"background-color:#99ff99\">MVO6</td><td style=\"background-color:#99ff99\">MVO7</td><td style=\"background-color:#99ff99\">MVO8</td><td style=\"background-color:#99ff99\">MVO9</td><td style=\"background-color:#99ff99\">MVP2</td><td style=\"background-color:#99ff99\">MVP3</td><td style=\"background-color:#99ff99\">MVP4</td></tr>\n",
       "<tr><td style=\"background-color:lightgrey\">7</td><td style=\"background-color:white\">Jun 2010</td><td style=\"background-color:cyan\">5.6</td><td style=\"background-color:cyan\">9.8</td><td style=\"background-color:cyan\">8.8</td><td style=\"background-color:cyan\">3</td><td style=\"background-color:cyan\">4.3</td><td style=\"background-color:cyan\">3.7</td><td style=\"background-color:cyan\">1.9</td></tr>\n",
       "<tr><td style=\"background-color:lightgrey\">8</td><td style=\"background-color:white\">Jul 2010</td><td style=\"background-color:white\">2</td><td style=\"background-color:white\">5.6</td><td style=\"background-color:white\">4.8</td><td style=\"background-color:white\">0.2</td><td style=\"background-color:white\">-0.2</td><td style=\"background-color:white\">9.7</td><td style=\"background-color:white\">3.5</td></tr>\n",
       "<tr><td style=\"background-color:lightgrey\">9</td><td style=\"background-color:white\">Aug 2010</td><td style=\"background-color:white\">5.5</td><td style=\"background-color:white\">4.5</td><td style=\"background-color:white\">4.7</td><td style=\"background-color:white\">-2.9</td><td style=\"background-color:white\">-2.9</td><td style=\"background-color:white\">24.4</td><td style=\"background-color:white\">5.9</td></tr>\n",
       "<tr><td style=\"background-color:lightgrey\">10</td><td style=\"background-color:white\">Sep 2010</td><td style=\"background-color:white\">11.7</td><td style=\"background-color:white\">7.5</td><td style=\"background-color:white\">8.5</td><td style=\"background-color:white\">-6.8</td><td style=\"background-color:white\">-3.3</td><td style=\"background-color:white\">16.1</td><td style=\"background-color:white\">5.3</td></tr>\n",
       "\n",
       "                </table>\n",
       "            </body>\n",
       "            <br>\n",
       "        </html>\n",
       "    "
      ],
      "text/plain": [
       "<IPython.core.display.HTML object>"
      ]
     },
     "metadata": {},
     "output_type": "display_data"
    }
   ],
   "source": [
    "from typing import List\n",
    "from datachef import acquire, preview, XlsxSelectable, right, down\n",
    "\n",
    "tables: List[XlsxSelectable] = acquire.xlsx.http(\"https://github.com/mikeAdamss/datachef/raw/main/tests/fixtures/xlsx/ons-oic.xlsx\")\n",
    "table = tables[9]\n",
    "\n",
    "# Make the original selection\n",
    "original_selection = table.excel_ref(\"B6\").expand(right).label_as(\"Original Selection\")\n",
    "\n",
    "# Create a second selection by shifting the first selection down once\n",
    "shifted_selection = original_selection.shift(down).label_as(\"Shifted Selection\")\n",
    "\n",
    "preview(shifted_selection, original_selection, bounded=\"A4:H10\")"
   ]
  },
  {
   "attachments": {},
   "cell_type": "markdown",
   "metadata": {},
   "source": [
    "## Shifting Across More Than One Cell\n",
    "\n",
    "In this case we're going to shift across multiple cells by passing integers to the direction.\n",
    "\n",
    "In particular, *take note of the use of `right(3)`*."
   ]
  },
  {
   "cell_type": "code",
   "execution_count": 3,
   "metadata": {},
   "outputs": [
    {
     "data": {
      "text/html": [
       "\n",
       "    <html>\n",
       "        \n",
       "    <style>\n",
       "    table, th, td {\n",
       "        border: 1px solid;\n",
       "    }\n",
       "\n",
       "    table {\n",
       "        border-collapse: collapse;\n",
       "    }\n",
       "\n",
       "    td {\n",
       "        align: center;\n",
       "        border: 1px  black solid !important;\n",
       "        color: black !important;\n",
       "    }\n",
       "\n",
       "    th, td {\n",
       "        padding: 5px;\n",
       "    }\n",
       "\n",
       "    </style>\n",
       "    \n",
       "            <table>\n",
       "                \n",
       "            <tr>\n",
       "                <td style=\"background-color:cyan\">Shifted Selection</td>\n",
       "            <tr>\n",
       "        \n",
       "            <tr>\n",
       "                <td style=\"background-color:#99ff99\">Original Selection</td>\n",
       "            <tr>\n",
       "        \n",
       "            </table>\n",
       "\n",
       "            <body>\n",
       "                <h2>Table 3c</h2>\n",
       "                <table>\n",
       "                    <tr><td style=\"background-color:lightgrey\"></td><td style=\"background-color:lightgrey\">A</td><td style=\"background-color:lightgrey\">B</td><td style=\"background-color:lightgrey\">C</td><td style=\"background-color:lightgrey\">D</td><td style=\"background-color:lightgrey\">E</td><td style=\"background-color:lightgrey\">F</td><td style=\"background-color:lightgrey\">G</td><td style=\"background-color:lightgrey\">H</td></tr>\n",
       "<tr><td style=\"background-color:lightgrey\">4</td><td style=\"background-color:white\">Percentage change 3 months on previous 3 months</td><td style=\"background-color:white\"></td><td style=\"background-color:white\"></td><td style=\"background-color:white\"></td><td style=\"background-color:white\"></td><td style=\"background-color:white\"></td><td style=\"background-color:white\"></td><td style=\"background-color:white\"></td></tr>\n",
       "<tr><td style=\"background-color:lightgrey\">5</td><td style=\"background-color:white\">Time period</td><td style=\"background-color:white\">Public new housing</td><td style=\"background-color:white\">Private new housing</td><td style=\"background-color:white\">Total new housing</td><td style=\"background-color:white\">Infrastructure new work</td><td style=\"background-color:white\">Public other new work</td><td style=\"background-color:white\">Private industrial new work</td><td style=\"background-color:white\">Private commercial new work</td></tr>\n",
       "<tr><td style=\"background-color:lightgrey\">6</td><td style=\"background-color:white\">Dataset identifier code</td><td style=\"background-color:white\">MVO6</td><td style=\"background-color:white\">MVO7</td><td style=\"background-color:white\">MVO8</td><td style=\"background-color:white\">MVO9</td><td style=\"background-color:white\">MVP2</td><td style=\"background-color:white\">MVP3</td><td style=\"background-color:white\">MVP4</td></tr>\n",
       "<tr><td style=\"background-color:lightgrey\">7</td><td style=\"background-color:white\">Jun 2010</td><td style=\"background-color:#99ff99\">5.6</td><td style=\"background-color:white\">9.8</td><td style=\"background-color:white\">8.8</td><td style=\"background-color:cyan\">3</td><td style=\"background-color:white\">4.3</td><td style=\"background-color:white\">3.7</td><td style=\"background-color:white\">1.9</td></tr>\n",
       "<tr><td style=\"background-color:lightgrey\">8</td><td style=\"background-color:white\">Jul 2010</td><td style=\"background-color:#99ff99\">2</td><td style=\"background-color:white\">5.6</td><td style=\"background-color:white\">4.8</td><td style=\"background-color:cyan\">0.2</td><td style=\"background-color:white\">-0.2</td><td style=\"background-color:white\">9.7</td><td style=\"background-color:white\">3.5</td></tr>\n",
       "<tr><td style=\"background-color:lightgrey\">9</td><td style=\"background-color:white\">Aug 2010</td><td style=\"background-color:#99ff99\">5.5</td><td style=\"background-color:white\">4.5</td><td style=\"background-color:white\">4.7</td><td style=\"background-color:cyan\">-2.9</td><td style=\"background-color:white\">-2.9</td><td style=\"background-color:white\">24.4</td><td style=\"background-color:white\">5.9</td></tr>\n",
       "<tr><td style=\"background-color:lightgrey\">10</td><td style=\"background-color:white\">Sep 2010</td><td style=\"background-color:#99ff99\">11.7</td><td style=\"background-color:white\">7.5</td><td style=\"background-color:white\">8.5</td><td style=\"background-color:cyan\">-6.8</td><td style=\"background-color:white\">-3.3</td><td style=\"background-color:white\">16.1</td><td style=\"background-color:white\">5.3</td></tr>\n",
       "\n",
       "                </table>\n",
       "            </body>\n",
       "            <br>\n",
       "        </html>\n",
       "    "
      ],
      "text/plain": [
       "<IPython.core.display.HTML object>"
      ]
     },
     "metadata": {},
     "output_type": "display_data"
    }
   ],
   "source": [
    "from typing import List\n",
    "from datachef import acquire, preview, XlsxSelectable, right, down\n",
    "\n",
    "tables: List[XlsxSelectable] = acquire.xlsx.http(\"https://github.com/mikeAdamss/datachef/raw/main/tests/fixtures/xlsx/ons-oic.xlsx\")\n",
    "table = tables[9]\n",
    "\n",
    "# Make the original selection\n",
    "original_selection = table.excel_ref(\"B7\").expand(down).label_as(\"Original Selection\")\n",
    "\n",
    "# Create a second selection by shifting the first selection right three columns\n",
    "shifted_selection = original_selection.shift(right(3)).label_as(\"Shifted Selection\")\n",
    "\n",
    "preview(shifted_selection, original_selection, bounded=\"A4:H10\")"
   ]
  },
  {
   "attachments": {},
   "cell_type": "markdown",
   "metadata": {},
   "source": [
    "## An example of using shifts\n",
    "\n",
    "In keeping with datachefs dot notation approach you can chain multiple shift commands to enable movement in a diagonal or otherwise more nuanced direction.\n",
    "\n",
    "| <span style=\"color:green\">Note - we're using an `anchor` here. An Anchor is a handy convention from selecting a cell you don't want to extract that also holds a useful position in the data structure relative to cells you do want to extract.<b><br><br>We'll see the `anchor` pattern crop up more going forward as it's a key pattern in creating robust repeatable scripts.</span>|\n",
    "|-----------------------------------------|"
   ]
  },
  {
   "cell_type": "code",
   "execution_count": 4,
   "metadata": {},
   "outputs": [
    {
     "data": {
      "text/html": [
       "\n",
       "    <html>\n",
       "        \n",
       "    <style>\n",
       "    table, th, td {\n",
       "        border: 1px solid;\n",
       "    }\n",
       "\n",
       "    table {\n",
       "        border-collapse: collapse;\n",
       "    }\n",
       "\n",
       "    td {\n",
       "        align: center;\n",
       "        border: 1px  black solid !important;\n",
       "        color: black !important;\n",
       "    }\n",
       "\n",
       "    th, td {\n",
       "        padding: 5px;\n",
       "    }\n",
       "\n",
       "    </style>\n",
       "    \n",
       "            <table>\n",
       "                \n",
       "            <tr>\n",
       "                <td style=\"background-color:cyan\">This is our anchor, you'd not always preview and never extract this</td>\n",
       "            <tr>\n",
       "        \n",
       "            <tr>\n",
       "                <td style=\"background-color:#99ff99\">Value</td>\n",
       "            <tr>\n",
       "        \n",
       "            <tr>\n",
       "                <td style=\"background-color:#eeccff\">Housing</td>\n",
       "            <tr>\n",
       "        \n",
       "            <tr>\n",
       "                <td style=\"background-color:#ffe066\">Dataset Identifier Code</td>\n",
       "            <tr>\n",
       "        \n",
       "            <tr>\n",
       "                <td style=\"background-color:#ff4da6\">Year</td>\n",
       "            <tr>\n",
       "        \n",
       "            </table>\n",
       "\n",
       "            <body>\n",
       "                <h2>Table 3c</h2>\n",
       "                <table>\n",
       "                    <tr><td style=\"background-color:lightgrey\"></td><td style=\"background-color:lightgrey\">A</td><td style=\"background-color:lightgrey\">B</td><td style=\"background-color:lightgrey\">C</td><td style=\"background-color:lightgrey\">D</td><td style=\"background-color:lightgrey\">E</td><td style=\"background-color:lightgrey\">F</td><td style=\"background-color:lightgrey\">G</td><td style=\"background-color:lightgrey\">H</td></tr>\n",
       "<tr><td style=\"background-color:lightgrey\">4</td><td style=\"background-color:white\">Percentage change 3 months on previous 3 months</td><td style=\"background-color:white\"></td><td style=\"background-color:white\"></td><td style=\"background-color:white\"></td><td style=\"background-color:white\"></td><td style=\"background-color:white\"></td><td style=\"background-color:white\"></td><td style=\"background-color:white\"></td></tr>\n",
       "<tr><td style=\"background-color:lightgrey\">5</td><td style=\"background-color:white\">Time period</td><td style=\"background-color:#eeccff\">Public new housing</td><td style=\"background-color:#eeccff\">Private new housing</td><td style=\"background-color:#eeccff\">Total new housing</td><td style=\"background-color:#eeccff\">Infrastructure new work</td><td style=\"background-color:#eeccff\">Public other new work</td><td style=\"background-color:#eeccff\">Private industrial new work</td><td style=\"background-color:#eeccff\">Private commercial new work</td></tr>\n",
       "<tr><td style=\"background-color:lightgrey\">6</td><td style=\"background-color:cyan\">Dataset identifier code</td><td style=\"background-color:#ffe066\">MVO6</td><td style=\"background-color:#ffe066\">MVO7</td><td style=\"background-color:#ffe066\">MVO8</td><td style=\"background-color:#ffe066\">MVO9</td><td style=\"background-color:#ffe066\">MVP2</td><td style=\"background-color:#ffe066\">MVP3</td><td style=\"background-color:#ffe066\">MVP4</td></tr>\n",
       "<tr><td style=\"background-color:lightgrey\">7</td><td style=\"background-color:#ff4da6\">Jun 2010</td><td style=\"background-color:#99ff99\">5.6</td><td style=\"background-color:#99ff99\">9.8</td><td style=\"background-color:#99ff99\">8.8</td><td style=\"background-color:#99ff99\">3</td><td style=\"background-color:#99ff99\">4.3</td><td style=\"background-color:#99ff99\">3.7</td><td style=\"background-color:#99ff99\">1.9</td></tr>\n",
       "<tr><td style=\"background-color:lightgrey\">8</td><td style=\"background-color:#ff4da6\">Jul 2010</td><td style=\"background-color:#99ff99\">2</td><td style=\"background-color:#99ff99\">5.6</td><td style=\"background-color:#99ff99\">4.8</td><td style=\"background-color:#99ff99\">0.2</td><td style=\"background-color:#99ff99\">-0.2</td><td style=\"background-color:#99ff99\">9.7</td><td style=\"background-color:#99ff99\">3.5</td></tr>\n",
       "<tr><td style=\"background-color:lightgrey\">9</td><td style=\"background-color:#ff4da6\">Aug 2010</td><td style=\"background-color:#99ff99\">5.5</td><td style=\"background-color:#99ff99\">4.5</td><td style=\"background-color:#99ff99\">4.7</td><td style=\"background-color:#99ff99\">-2.9</td><td style=\"background-color:#99ff99\">-2.9</td><td style=\"background-color:#99ff99\">24.4</td><td style=\"background-color:#99ff99\">5.9</td></tr>\n",
       "<tr><td style=\"background-color:lightgrey\">10</td><td style=\"background-color:#ff4da6\">Sep 2010</td><td style=\"background-color:#99ff99\">11.7</td><td style=\"background-color:#99ff99\">7.5</td><td style=\"background-color:#99ff99\">8.5</td><td style=\"background-color:#99ff99\">-6.8</td><td style=\"background-color:#99ff99\">-3.3</td><td style=\"background-color:#99ff99\">16.1</td><td style=\"background-color:#99ff99\">5.3</td></tr>\n",
       "\n",
       "                </table>\n",
       "            </body>\n",
       "            <br>\n",
       "        </html>\n",
       "    "
      ],
      "text/plain": [
       "<IPython.core.display.HTML object>"
      ]
     },
     "metadata": {},
     "output_type": "display_data"
    }
   ],
   "source": [
    "from typing import List\n",
    "from datachef import acquire, preview, XlsxSelectable, right, down, up\n",
    "\n",
    "tables: List[XlsxSelectable] = acquire.xlsx.http(\"https://github.com/mikeAdamss/datachef/raw/main/tests/fixtures/xlsx/ons-oic.xlsx\")\n",
    "table = tables[9]\n",
    "\n",
    "anchor = table.excel_ref(\"A6\").label_as(\"This is our anchor, you'd not always preview and never extract this\")\n",
    "\n",
    "# shift right then down, the expand right then down to get observations\n",
    "observations = anchor.shift(right).shift(down).expand(right).expand(down).label_as(\"Value\")\n",
    "\n",
    "# shift both up and right to get housing\n",
    "housing = anchor.shift(right).shift(up).expand(right).label_as(\"Housing\")\n",
    "\n",
    "# shift right then expand to get the dataset identifier codes\n",
    "dataset_identifier_codes = anchor.shift(right).expand(right).label_as(\"Dataset Identifier Code\")\n",
    "\n",
    "# shift down then expand down to get the year\n",
    "period = anchor.shift(down).expand(down).label_as(\"Period\")\n",
    "\n",
    "preview(anchor, observations, housing, dataset_identifier_codes, period, bounded=\"A4:H10\")"
   ]
  },
  {
   "attachments": {},
   "cell_type": "markdown",
   "metadata": {},
   "source": [
    "## Going out of bounds\n",
    "\n",
    "A typical error when learning to use datachef is to go \"out of bounds\", this means shifting your selection outside the bounds of the data your'e working with.\n",
    "\n",
    "i.f if your rightmost populated cell is column 'F', if you try and shift a selection into column 'G' you're out of bounds.\n",
    "\n",
    "First, let's preview the rightmost populated part of this sheet (column `O`) and select a cell."
   ]
  },
  {
   "cell_type": "code",
   "execution_count": 5,
   "metadata": {},
   "outputs": [
    {
     "data": {
      "text/html": [
       "\n",
       "    <html>\n",
       "        \n",
       "    <style>\n",
       "    table, th, td {\n",
       "        border: 1px solid;\n",
       "    }\n",
       "\n",
       "    table {\n",
       "        border-collapse: collapse;\n",
       "    }\n",
       "\n",
       "    td {\n",
       "        align: center;\n",
       "        border: 1px  black solid !important;\n",
       "        color: black !important;\n",
       "    }\n",
       "\n",
       "    th, td {\n",
       "        padding: 5px;\n",
       "    }\n",
       "\n",
       "    </style>\n",
       "    \n",
       "            <table>\n",
       "                \n",
       "            <tr>\n",
       "                <td style=\"background-color:cyan\">Unnamed Selection: 0</td>\n",
       "            <tr>\n",
       "        \n",
       "            </table>\n",
       "\n",
       "            <body>\n",
       "                <h2>Table 3c</h2>\n",
       "                <table>\n",
       "                    <tr><td style=\"background-color:lightgrey\"></td><td style=\"background-color:lightgrey\">K</td><td style=\"background-color:lightgrey\">L</td><td style=\"background-color:lightgrey\">M</td><td style=\"background-color:lightgrey\">N</td><td style=\"background-color:lightgrey\">O</td></tr>\n",
       "<tr><td style=\"background-color:lightgrey\">4</td><td style=\"background-color:white\"></td><td style=\"background-color:white\"></td><td style=\"background-color:white\"></td><td style=\"background-color:white\"></td><td style=\"background-color:white\"></td></tr>\n",
       "<tr><td style=\"background-color:lightgrey\">5</td><td style=\"background-color:white\">Private housing R&M</td><td style=\"background-color:white\">Total housing R&M</td><td style=\"background-color:white\">Non housing R&M</td><td style=\"background-color:white\">All R&M</td><td style=\"background-color:cyan\">All work</td></tr>\n",
       "<tr><td style=\"background-color:lightgrey\">6</td><td style=\"background-color:white\">N3P2</td><td style=\"background-color:white\">N3P3</td><td style=\"background-color:white\">N3P4</td><td style=\"background-color:white\">N3P5</td><td style=\"background-color:white\">N3P6</td></tr>\n",
       "<tr><td style=\"background-color:lightgrey\">7</td><td style=\"background-color:white\">6.6</td><td style=\"background-color:white\">5.2</td><td style=\"background-color:white\">6.8</td><td style=\"background-color:white\">5.9</td><td style=\"background-color:white\">4.9</td></tr>\n",
       "<tr><td style=\"background-color:lightgrey\">8</td><td style=\"background-color:white\">6.8</td><td style=\"background-color:white\">6.1</td><td style=\"background-color:white\">2.9</td><td style=\"background-color:white\">4.6</td><td style=\"background-color:white\">3.4</td></tr>\n",
       "<tr><td style=\"background-color:lightgrey\">9</td><td style=\"background-color:white\">6.5</td><td style=\"background-color:white\">5.4</td><td style=\"background-color:white\">2</td><td style=\"background-color:white\">3.8</td><td style=\"background-color:white\">3.3</td></tr>\n",
       "<tr><td style=\"background-color:lightgrey\">10</td><td style=\"background-color:white\">6.5</td><td style=\"background-color:white\">3.2</td><td style=\"background-color:white\">-2.2</td><td style=\"background-color:white\">0.6</td><td style=\"background-color:white\">1.8</td></tr>\n",
       "\n",
       "                </table>\n",
       "            </body>\n",
       "            <br>\n",
       "        </html>\n",
       "    "
      ],
      "text/plain": [
       "<IPython.core.display.HTML object>"
      ]
     },
     "metadata": {},
     "output_type": "display_data"
    }
   ],
   "source": [
    "from typing import List\n",
    "from datachef import acquire, preview, XlsxSelectable, right\n",
    "\n",
    "tables: List[XlsxSelectable] = acquire.xlsx.http(\"https://github.com/mikeAdamss/datachef/raw/main/tests/fixtures/xlsx/ons-oic.xlsx\")\n",
    "table = tables[9]\n",
    "\n",
    "selection = table.excel_ref('O5')\n",
    "\n",
    "preview(selection, bounded=\"K4:O10\")"
   ]
  },
  {
   "attachments": {},
   "cell_type": "markdown",
   "metadata": {},
   "source": [
    "Now watch what happens if we try and shift that selection right."
   ]
  },
  {
   "cell_type": "code",
   "execution_count": 6,
   "metadata": {},
   "outputs": [
    {
     "ename": "OutOfBoundsError",
     "evalue": "You are attempting to shift your selection entirely outside of the boundary of the table.",
     "output_type": "error",
     "traceback": [
      "\u001b[0;31m---------------------------------------------------------------------------\u001b[0m",
      "\u001b[0;31mOutOfBoundsError\u001b[0m                          Traceback (most recent call last)",
      "Cell \u001b[0;32mIn[6], line 1\u001b[0m\n\u001b[0;32m----> 1\u001b[0m selection\u001b[39m.\u001b[39;49mshift(right)\n",
      "File \u001b[0;32m~/code/mikeAdamss/datachef/datachef/utils/decorators/dontmutate.py:24\u001b[0m, in \u001b[0;36mdontmutate.<locals>.wrapper\u001b[0;34m(self, *args, **kwargs)\u001b[0m\n\u001b[1;32m     21\u001b[0m \u001b[39m@wraps\u001b[39m(method)\n\u001b[1;32m     22\u001b[0m \u001b[39mdef\u001b[39;00m \u001b[39mwrapper\u001b[39m(\u001b[39mself\u001b[39m, \u001b[39m*\u001b[39margs, \u001b[39m*\u001b[39m\u001b[39m*\u001b[39mkwargs):\n\u001b[1;32m     23\u001b[0m     \u001b[39mself\u001b[39m \u001b[39m=\u001b[39m copy\u001b[39m.\u001b[39mdeepcopy(\u001b[39mself\u001b[39m)\n\u001b[0;32m---> 24\u001b[0m     \u001b[39mreturn\u001b[39;00m method(\u001b[39mself\u001b[39;49m, \u001b[39m*\u001b[39;49margs, \u001b[39m*\u001b[39;49m\u001b[39m*\u001b[39;49mkwargs)\n",
      "File \u001b[0;32m~/code/mikeAdamss/datachef/datachef/selection/selectable.py:258\u001b[0m, in \u001b[0;36mSelectable.shift\u001b[0;34m(self, direction_or_x, possibly_y)\u001b[0m\n\u001b[1;32m    255\u001b[0m found_cells \u001b[39m=\u001b[39m dfc\u001b[39m.\u001b[39mmatching_xy_cells(\u001b[39mself\u001b[39m\u001b[39m.\u001b[39mpcells, wanted_cells)\n\u001b[1;32m    257\u001b[0m \u001b[39mif\u001b[39;00m \u001b[39mlen\u001b[39m(found_cells) \u001b[39m==\u001b[39m \u001b[39m0\u001b[39m \u001b[39mand\u001b[39;00m \u001b[39mlen\u001b[39m(wanted_cells) \u001b[39m>\u001b[39m \u001b[39m0\u001b[39m:\n\u001b[0;32m--> 258\u001b[0m     \u001b[39mraise\u001b[39;00m OutOfBoundsError(\n\u001b[1;32m    259\u001b[0m         \u001b[39m\"\u001b[39m\u001b[39mYou are attempting to shift your selection \u001b[39m\u001b[39m\"\u001b[39m\n\u001b[1;32m    260\u001b[0m         \u001b[39m\"\u001b[39m\u001b[39mentirely outside of the boundary of the table.\u001b[39m\u001b[39m\"\u001b[39m\n\u001b[1;32m    261\u001b[0m     )\n\u001b[1;32m    263\u001b[0m \u001b[39mself\u001b[39m\u001b[39m.\u001b[39mcells \u001b[39m=\u001b[39m found_cells\n\u001b[1;32m    264\u001b[0m \u001b[39mreturn\u001b[39;00m \u001b[39mself\u001b[39m\n",
      "\u001b[0;31mOutOfBoundsError\u001b[0m: You are attempting to shift your selection entirely outside of the boundary of the table."
     ]
    }
   ],
   "source": [
    "selection.shift(right)"
   ]
  }
 ],
 "metadata": {
  "kernelspec": {
   "display_name": "datachef-hNSMaw3h-py3.9",
   "language": "python",
   "name": "python3"
  },
  "language_info": {
   "codemirror_mode": {
    "name": "ipython",
    "version": 3
   },
   "file_extension": ".py",
   "mimetype": "text/x-python",
   "name": "python",
   "nbconvert_exporter": "python",
   "pygments_lexer": "ipython3",
   "version": "3.9.7"
  },
  "orig_nbformat": 4
 },
 "nbformat": 4,
 "nbformat_minor": 2
}
