{
 "cells": [
  {
   "cell_type": "code",
   "execution_count": 1,
   "metadata": {},
   "outputs": [
    {
     "name": "stdout",
     "output_type": "stream",
     "text": [
      "dates\n",
      "01/11/2023\n",
      "01/11/2023\n",
      "01/12/2022\n",
      "10/10/2000\n",
      "Sheet1\n"
     ]
    },
    {
     "data": {
      "text/html": [
       "\n",
       "    <html>\n",
       "        \n",
       "    <style>\n",
       "    table, th, td {\n",
       "        border: 1px solid;\n",
       "    }\n",
       "\n",
       "    table {\n",
       "        border-collapse: collapse;\n",
       "    }\n",
       "\n",
       "    td {\n",
       "        align: center;\n",
       "        border: 1px  black solid !important;\n",
       "        color: black !important;\n",
       "    }\n",
       "\n",
       "    th, td {\n",
       "        padding: 5px;\n",
       "    }\n",
       "\n",
       "    </style>\n",
       "    \n",
       "            <table>\n",
       "                \n",
       "            </table>\n",
       "\n",
       "            <body>\n",
       "                <h2>Sheet1</h2>\n",
       "                <table>\n",
       "                    <tr><td style=\"background-color:lightgrey\"></td><td style=\"background-color:lightgrey\">A</td></tr>\n",
       "<tr><td style=\"background-color:lightgrey\">1</td><td style=\"background-color:white\">dates</td></tr>\n",
       "<tr><td style=\"background-color:lightgrey\">2</td><td style=\"background-color:white\">01/11/2023</td></tr>\n",
       "<tr><td style=\"background-color:lightgrey\">3</td><td style=\"background-color:white\">01/11/2023</td></tr>\n",
       "<tr><td style=\"background-color:lightgrey\">4</td><td style=\"background-color:white\">01/12/2022</td></tr>\n",
       "<tr><td style=\"background-color:lightgrey\">5</td><td style=\"background-color:white\">10/10/2000</td></tr>\n",
       "\n",
       "                </table>\n",
       "            </body>\n",
       "            <br>\n",
       "        </html>\n",
       "    "
      ],
      "text/plain": [
       "<IPython.core.display.HTML object>"
      ]
     },
     "metadata": {},
     "output_type": "display_data"
    },
    {
     "name": "stdout",
     "output_type": "stream",
     "text": [
      "Sheet2\n"
     ]
    },
    {
     "ename": "TypeError",
     "evalue": "object of type 'NoneType' has no len()",
     "output_type": "error",
     "traceback": [
      "\u001b[0;31m---------------------------------------------------------------------------\u001b[0m",
      "\u001b[0;31mTypeError\u001b[0m                                 Traceback (most recent call last)",
      "\u001b[0;32m/var/folders/3q/wpcx20553xv0hpsjgtq_zl_m0000gp/T/ipykernel_86041/201885690.py\u001b[0m in \u001b[0;36m<module>\u001b[0;34m\u001b[0m\n\u001b[1;32m      7\u001b[0m \u001b[0;32mfor\u001b[0m \u001b[0mtable\u001b[0m \u001b[0;32min\u001b[0m \u001b[0mtables\u001b[0m\u001b[0;34m:\u001b[0m\u001b[0;34m\u001b[0m\u001b[0;34m\u001b[0m\u001b[0m\n\u001b[1;32m      8\u001b[0m     \u001b[0mprint\u001b[0m\u001b[0;34m(\u001b[0m\u001b[0mtable\u001b[0m\u001b[0;34m.\u001b[0m\u001b[0mname\u001b[0m\u001b[0;34m)\u001b[0m\u001b[0;34m\u001b[0m\u001b[0;34m\u001b[0m\u001b[0m\n\u001b[0;32m----> 9\u001b[0;31m     \u001b[0mpreview\u001b[0m\u001b[0;34m(\u001b[0m\u001b[0mtable\u001b[0m\u001b[0;34m)\u001b[0m\u001b[0;34m\u001b[0m\u001b[0;34m\u001b[0m\u001b[0m\n\u001b[0m",
      "\u001b[0;32m~/code/mikeAdamss/tidychef/tidychef/notebook/preview/html/main.py\u001b[0m in \u001b[0;36mpreview\u001b[0;34m(path, bounded, border_cells, blank_cells, warning_colour, show_excel, show_xy, multiple_selection_warning, selection_boundary, *selections)\u001b[0m\n\u001b[1;32m     68\u001b[0m         \u001b[0mwarning_colour\u001b[0m\u001b[0;34m=\u001b[0m\u001b[0mwarning_colour\u001b[0m\u001b[0;34m,\u001b[0m\u001b[0;34m\u001b[0m\u001b[0;34m\u001b[0m\u001b[0m\n\u001b[1;32m     69\u001b[0m         \u001b[0mblank_cells\u001b[0m\u001b[0;34m=\u001b[0m\u001b[0mblank_cells\u001b[0m\u001b[0;34m,\u001b[0m\u001b[0;34m\u001b[0m\u001b[0;34m\u001b[0m\u001b[0m\n\u001b[0;32m---> 70\u001b[0;31m         \u001b[0mselection_boundary\u001b[0m\u001b[0;34m=\u001b[0m\u001b[0mselection_boundary\u001b[0m\u001b[0;34m,\u001b[0m\u001b[0;34m\u001b[0m\u001b[0;34m\u001b[0m\u001b[0m\n\u001b[0m\u001b[1;32m     71\u001b[0m     )\n\u001b[1;32m     72\u001b[0m \u001b[0;34m\u001b[0m\u001b[0m\n",
      "\u001b[0;32m~/code/mikeAdamss/tidychef/tidychef/notebook/preview/html/table.py\u001b[0m in \u001b[0;36mget_preview_table_as_html\u001b[0;34m(selections, bounded, show_excel, show_xy, border_cells, blank_cells, warning_colour, border_cell_secondary_colour, multiple_selection_warning, selection_boundary)\u001b[0m\n\u001b[1;32m     40\u001b[0m         \u001b[0;31m# If the selection is pristine, someone is just\u001b[0m\u001b[0;34m\u001b[0m\u001b[0;34m\u001b[0m\u001b[0;34m\u001b[0m\u001b[0m\n\u001b[1;32m     41\u001b[0m         \u001b[0;31m# previewing the data prior to selections\u001b[0m\u001b[0;34m\u001b[0m\u001b[0;34m\u001b[0m\u001b[0;34m\u001b[0m\u001b[0m\n\u001b[0;32m---> 42\u001b[0;31m         \u001b[0;32mif\u001b[0m \u001b[0;32mnot\u001b[0m \u001b[0mselection\u001b[0m\u001b[0;34m.\u001b[0m\u001b[0mselections_made\u001b[0m\u001b[0;34m(\u001b[0m\u001b[0;34m)\u001b[0m \u001b[0;32mand\u001b[0m \u001b[0mselection_boundary\u001b[0m \u001b[0;32mis\u001b[0m \u001b[0;32mFalse\u001b[0m\u001b[0;34m:\u001b[0m\u001b[0;34m\u001b[0m\u001b[0;34m\u001b[0m\u001b[0m\n\u001b[0m\u001b[1;32m     43\u001b[0m             \u001b[0;32mcontinue\u001b[0m\u001b[0;34m\u001b[0m\u001b[0;34m\u001b[0m\u001b[0m\n\u001b[1;32m     44\u001b[0m         \u001b[0mselection_keys\u001b[0m\u001b[0;34m.\u001b[0m\u001b[0madd_selection_key\u001b[0m\u001b[0;34m(\u001b[0m\u001b[0mselection\u001b[0m\u001b[0;34m)\u001b[0m\u001b[0;34m\u001b[0m\u001b[0;34m\u001b[0m\u001b[0m\n",
      "\u001b[0;32m~/code/mikeAdamss/tidychef/tidychef/models/source/table.py\u001b[0m in \u001b[0;36mselections_made\u001b[0;34m(self)\u001b[0m\n\u001b[1;32m    182\u001b[0m         \u001b[0mHave\u001b[0m \u001b[0many\u001b[0m \u001b[0mselections\u001b[0m \u001b[0mbeen\u001b[0m \u001b[0mmade\u001b[0m\u001b[0;34m\u001b[0m\u001b[0;34m\u001b[0m\u001b[0m\n\u001b[1;32m    183\u001b[0m         \"\"\"\n\u001b[0;32m--> 184\u001b[0;31m         \u001b[0;32mreturn\u001b[0m \u001b[0mlen\u001b[0m\u001b[0;34m(\u001b[0m\u001b[0mself\u001b[0m\u001b[0;34m.\u001b[0m\u001b[0mpristine\u001b[0m\u001b[0;34m.\u001b[0m\u001b[0mcells\u001b[0m\u001b[0;34m)\u001b[0m \u001b[0;34m!=\u001b[0m \u001b[0mlen\u001b[0m\u001b[0;34m(\u001b[0m\u001b[0mself\u001b[0m\u001b[0;34m.\u001b[0m\u001b[0mfiltered\u001b[0m\u001b[0;34m.\u001b[0m\u001b[0mcells\u001b[0m\u001b[0;34m)\u001b[0m\u001b[0;34m\u001b[0m\u001b[0;34m\u001b[0m\u001b[0m\n\u001b[0m\u001b[1;32m    185\u001b[0m \u001b[0;34m\u001b[0m\u001b[0m\n\u001b[1;32m    186\u001b[0m     \u001b[0;34m@\u001b[0m\u001b[0mname\u001b[0m\u001b[0;34m.\u001b[0m\u001b[0msetter\u001b[0m\u001b[0;34m\u001b[0m\u001b[0;34m\u001b[0m\u001b[0m\n",
      "\u001b[0;31mTypeError\u001b[0m: object of type 'NoneType' has no len()"
     ]
    }
   ],
   "source": [
    "from typing import List\n",
    "from tidychef import acquire, preview\n",
    "from tidychef.selection import XlsSelectable\n",
    "\n",
    "tables: List[XlsSelectable] = acquire.xls.local(\"../../tests/fixtures/xls/dates-times.xls\", time_format=\"%m/%d/%Y\")\n",
    "\n",
    "for table in tables:\n",
    "    print(table.name)\n",
    "    preview(table)\n"
   ]
  }
 ],
 "metadata": {
  "kernelspec": {
   "display_name": "tidychef-jGQs3W5N-py3.7",
   "language": "python",
   "name": "python3"
  },
  "language_info": {
   "codemirror_mode": {
    "name": "ipython",
    "version": 3
   },
   "file_extension": ".py",
   "mimetype": "text/x-python",
   "name": "python",
   "nbconvert_exporter": "python",
   "pygments_lexer": "ipython3",
   "version": "3.7.13"
  },
  "orig_nbformat": 4
 },
 "nbformat": 4,
 "nbformat_minor": 2
}
