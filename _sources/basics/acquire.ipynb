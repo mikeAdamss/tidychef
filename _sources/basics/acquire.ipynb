{
 "cells": [
  {
   "cell_type": "markdown",
   "metadata": {},
   "source": [
    "# Acquire\n",
    "\n",
    "The acquire module is how data is loaded into tidychef.\n",
    "\n",
    "The acquire module uses dot notation to specify format and origin (local vs http etc).\n",
    "\n",
    "Simple examples for common tabular data formats follow.\n",
    "\n",
    "| <span style=\"color:green\">Note - We're using excel style cell references for previews throughout these examples. This functionality will be explained in the _Preview_ page of this documentation.</span>|\n",
    "|-----------------------------------------|\n",
    "\n",
    "This is a fairly exhaustive list to drive the pattern home, if you're here for the fits time I'd skim to your relevant format and come back later as needed."
   ]
  },
  {
   "cell_type": "markdown",
   "metadata": {},
   "source": [
    "## CSV Data From Local\n",
    "\n",
    "Creating a single selectable table-like object from a local csv file.\n",
    "\n",
    "You can download a copy of the example data being used [here](\"https://raw.githubusercontent.com/mikeAdamss/tidychef/main/tests/fixtures/csv/bands-wide.csv\")."
   ]
  },
  {
   "cell_type": "code",
   "execution_count": null,
   "metadata": {},
   "outputs": [],
   "source": [
    "from tidychef import acquire, preview\n",
    "from tidychef.selection import CsvSelectable\n",
    "\n",
    "# Argument is the location of any csv file on your machine\n",
    "# This can be a string or a python Path object.\n",
    "table: CsvSelectable = acquire.csv.local(\"../../tests/fixtures/csv/bands-wide.csv\")\n",
    "preview(table)"
   ]
  },
  {
   "cell_type": "markdown",
   "metadata": {},
   "source": [
    "## CSV Data from Http(s)\n",
    "\n",
    "You can also load a csv via http as per the following example:"
   ]
  },
  {
   "cell_type": "code",
   "execution_count": null,
   "metadata": {},
   "outputs": [],
   "source": [
    "from tidychef import acquire, preview\n",
    "from tidychef.selection import CsvSelectable\n",
    "\n",
    "# Argument is any csv file accessible via http or https\n",
    "table: CsvSelectable = acquire.csv.http(\"https://raw.githubusercontent.com/mikeAdamss/tidychef/main/tests/fixtures/csv/bands-wide.csv\")\n",
    "preview(table)"
   ]
  },
  {
   "cell_type": "markdown",
   "metadata": {},
   "source": [
    "## Customising Csv Loads\n",
    "\n",
    "Both the local and http csv loaders are wrappers around [the csv reader from the standard python library csv package](https://docs.python.org/3/library/csv.html) and propogate keyword arguments.\n",
    "\n",
    "This means you can pass any keyword arguments through to `acquire.csv.local()` and `acquire.csv.http()` that you could pass to the `csv.reader()` method.\n",
    "\n",
    "As an example here we are loading a csv file using a `|` delimiter in place of commas. [This is the example data we're using](https://raw.githubusercontent.com/mikeAdamss/tidychef/main/tests/fixtures/csv/pipe-delimited.csv)."
   ]
  },
  {
   "cell_type": "code",
   "execution_count": null,
   "metadata": {},
   "outputs": [],
   "source": [
    "from tidychef import acquire, preview\n",
    "from tidychef.selection import CsvSelectable\n",
    "\n",
    "# Lets specify a different delimiter\n",
    "table: CsvSelectable = acquire.csv.local(\"../../tests/fixtures/csv/pipe-delimited.csv\", delimiter=\"|\")\n",
    "preview(table)"
   ]
  },
  {
   "cell_type": "markdown",
   "metadata": {},
   "source": [
    "## Note\n",
    "\n",
    "📌 All other formats follow the same acquire pattern. Feel free to skip ahead to the type relevant to your workflow.\n",
    "\n"
   ]
  },
  {
   "cell_type": "markdown",
   "metadata": {},
   "source": [
    "## Loading Xlsx Data"
   ]
  },
  {
   "cell_type": "markdown",
   "metadata": {},
   "source": [
    "Creating a **list** of selectable table-like objects from a local xlsx file.\n",
    "\n",
    "You can download the example xlsx data being used [here](https://github.com/mikeAdamss/tidychef/raw/main/tests/fixtures/xlsx/ons-oic.xlsx).\n",
    "\n",
    "| <span style=\"color:green\">Note - Some of the following examples are quite big tables so we're using the `preview()` keyword `bounded=` to limit the size of the previews. Again this functionality will be explained in detail in the _Preview_ page of this documentation.</span>|\n",
    "|-----------------------------------------|"
   ]
  },
  {
   "cell_type": "markdown",
   "metadata": {},
   "source": [
    "## Xlsx Data From Local"
   ]
  },
  {
   "cell_type": "code",
   "execution_count": null,
   "metadata": {},
   "outputs": [],
   "source": [
    "from typing import List\n",
    "from tidychef import acquire, preview\n",
    "from tidychef.selection import XlsxSelectable\n",
    "\n",
    "# Note: tables (note plural) as its now a list of tabulated data sources\n",
    "tables: List[XlsxSelectable] = acquire.xlsx.local(\"../../tests/fixtures/xlsx/ons-oic.xlsx\")\n",
    "preview(tables[0], bounded=\"A1:B4\")"
   ]
  },
  {
   "cell_type": "markdown",
   "metadata": {},
   "source": [
    "Rather than using the rather clunky `tables[0]` syntax, we can also pass a `tables=` keyword as per the below. "
   ]
  },
  {
   "cell_type": "code",
   "execution_count": null,
   "metadata": {},
   "outputs": [],
   "source": [
    "from tidychef import acquire, preview\n",
    "from tidychef.selection import XlsxSelectable\n",
    "\n",
    "# Note: tables (note plural) as its now a list of tabulated data sources\n",
    "table: XlsxSelectable = acquire.xlsx.local(\"../../tests/fixtures/xlsx/ons-oic.xlsx\", tables=\"Cover Sheet\")\n",
    "preview(table, bounded=\"A1:B4\")"
   ]
  },
  {
   "cell_type": "markdown",
   "metadata": {},
   "source": [
    "## Xlsx Data From Http(s)"
   ]
  },
  {
   "cell_type": "code",
   "execution_count": null,
   "metadata": {},
   "outputs": [],
   "source": [
    "from tidychef import acquire, preview\n",
    "from tidychef.selection import XlsxSelectable\n",
    "\n",
    "# Note: tables (note plural) as its now a list of tabulated data sources\n",
    "table: XlsxSelectable = acquire.xlsx.http(\"https://github.com/mikeAdamss/tidychef/raw/main/tests/fixtures/xlsx/ons-oic.xlsx\", tables=\"Cover Sheet\")\n",
    "preview(table, bounded=\"A1:B4\")"
   ]
  },
  {
   "cell_type": "markdown",
   "metadata": {},
   "source": [
    "## Loading Xls Data"
   ]
  },
  {
   "cell_type": "markdown",
   "metadata": {},
   "source": [
    "## Xls Data From Local\n",
    "\n",
    "You can download the example data being used [here](https://github.com/mikeAdamss/tidychef/raw/main/tests/fixtures/xls/sample.xls)."
   ]
  },
  {
   "cell_type": "code",
   "execution_count": null,
   "metadata": {},
   "outputs": [],
   "source": [
    "from tidychef import acquire, preview\n",
    "from tidychef.selection import XlsSelectable\n",
    "\n",
    "table: XlsSelectable = acquire.xls.local(\"../../tests/fixtures/xls/sample.xls\", tables=\"SalesOrders\")\n",
    "preview(table, bounded=\"A1:G7\")"
   ]
  },
  {
   "cell_type": "markdown",
   "metadata": {},
   "source": [
    "## Xls Data From Http(s)"
   ]
  },
  {
   "cell_type": "code",
   "execution_count": null,
   "metadata": {},
   "outputs": [],
   "source": [
    "from tidychef import acquire, preview\n",
    "from tidychef.selection import XlsSelectable\n",
    "\n",
    "table: XlsSelectable = acquire.xls.http(\"https://github.com/mikeAdamss/tidychef/raw/main/tests/fixtures/xls/sample.xls\", tables=\"SalesOrders\")\n",
    "preview(table, bounded=\"A1:G7\")"
   ]
  },
  {
   "cell_type": "markdown",
   "metadata": {},
   "source": [
    "## Loading Ods Data"
   ]
  },
  {
   "cell_type": "markdown",
   "metadata": {},
   "source": [
    "## Ods Data From Local"
   ]
  },
  {
   "cell_type": "code",
   "execution_count": null,
   "metadata": {},
   "outputs": [],
   "source": [
    "from tidychef import acquire, preview\n",
    "from tidychef.selection import OdsSelectable\n",
    "\n",
    "table: OdsSelectable = acquire.ods.local(\"../../tests/fixtures/ods/EB1-_Existing_Domestic_Properties.ods\", tables=\"Table_of_contents\")\n",
    "preview(table)\n"
   ]
  },
  {
   "cell_type": "markdown",
   "metadata": {},
   "source": [
    "## Ods Data From Http(s)"
   ]
  },
  {
   "cell_type": "code",
   "execution_count": null,
   "metadata": {},
   "outputs": [],
   "source": [
    "from tidychef import acquire, preview\n",
    "from tidychef.selection import OdsSelectable\n",
    "\n",
    "table: OdsSelectable = acquire.ods.http(\"https://github.com/mikeAdamss/tidychef/raw/main/tests/fixtures/ods/EB1-_Existing_Domestic_Properties.ods\", tables=\"Table_of_contents\")\n",
    "preview(table)"
   ]
  },
  {
   "cell_type": "markdown",
   "metadata": {},
   "source": [
    "## Using tables=\n",
    "\n",
    "Some of you will have wondered why the keyword for filtering to the table you want is \"tables\" (plural) not \"table\" singular.\n",
    "\n",
    "It's because the string you pass to tables is a [regular expression](https://regexone.com/).\n",
    "\n",
    "We're _not_ going to go into regular expressions as part of this documentation, but for our purposes just be aware its pattern matching syntax and well worth exploring for anyone working in an ETL role.\n",
    "\n",
    "As a simple example, you can use regular expressions to create an **or** statement with the pipe (`|`) character.\n",
    "\n",
    "The following example shows how you can do just that to select two table from our xlsx source."
   ]
  },
  {
   "cell_type": "code",
   "execution_count": null,
   "metadata": {},
   "outputs": [],
   "source": [
    "from typing import List\n",
    "from tidychef import acquire\n",
    "from tidychef.selection import XlsxSelectable\n",
    "\n",
    "tables: List[XlsxSelectable] = acquire.xlsx.http(\"https://github.com/mikeAdamss/tidychef/raw/main/tests/fixtures/xlsx/ons-oic.xlsx\",\n",
    "                                                 tables=\"Table 1a|Table 1b\")\n",
    "for table in tables:\n",
    "    print(table.name)"
   ]
  },
  {
   "cell_type": "markdown",
   "metadata": {},
   "source": [
    "For many users this ability to only select the tables you want to process will be all that's required, but the _real_ power here is the ability (where needed) to deal with inconsistencies in table naming.\n",
    "\n",
    "This is crude (you can do some very clever things with regular expressions should you chose to explore them) but continuing on from our **or** example lets imagine the following:\n",
    "\n",
    "```\n",
    "tables=\"Table 1a|table 1a|table 1A|Table 1A|tTable1a|table1a|table1A|Table1A\"\n",
    "```\n",
    "\n",
    "Which gives your acquire statement a fair degree of additional robustness, as minor changes or mistakes in table naming by the data publisher are accounted for."
   ]
  },
  {
   "cell_type": "markdown",
   "metadata": {},
   "source": [
    "## A Note On Http(s) Caching\n",
    "\n",
    "All `.http()` methods described in this section use http caching via the python [CacheControl](https://pypi.org/project/CacheControl/) package.\n",
    "\n",
    "This _should_ cache responses and fetch new data only when the last modified date of the data in question has changed (i.e when the data source has been updated).\n",
    "\n",
    "| <span style=\"color:green\">Note - I say _should_ here not due to any lack of faith in datachs coding, but because these things are dependant on the site in question correctly following web standards, which is a factor outside of our control.</span>|\n",
    "|-------\n",
    "\n",
    "Where desired, you can toggle this default caching behaviour off as needed by passing `cache=False` into the `.http()` function(s).\n",
    "\n",
    "Example follows:"
   ]
  },
  {
   "cell_type": "code",
   "execution_count": null,
   "metadata": {},
   "outputs": [],
   "source": [
    "from tidychef import acquire, preview\n",
    "from tidychef.selection import CsvSelectable\n",
    "\n",
    "table: CsvSelectable = acquire.csv.http(\"https://raw.githubusercontent.com/mikeAdamss/tidychef/main/tests/fixtures/csv/bands-wide.csv\",\n",
    "                         cache=False)\n",
    "preview(table)"
   ]
  },
  {
   "cell_type": "markdown",
   "metadata": {},
   "source": [
    "For those familiar with the requests python package you can also pass in a [requests session object](https://requests.readthedocs.io/en/latest/user/advanced/) via the `session=` keyword to control this behaviour however you see fit."
   ]
  }
 ],
 "metadata": {
  "kernelspec": {
   "display_name": "Python 3 (ipykernel)",
   "language": "python",
   "name": "python3"
  },
  "language_info": {
   "codemirror_mode": {
    "name": "ipython",
    "version": 3
   },
   "file_extension": ".py",
   "mimetype": "text/x-python",
   "name": "python",
   "nbconvert_exporter": "python",
   "pygments_lexer": "ipython3",
   "version": "3.12.11"
  },
  "widgets": {
   "application/vnd.jupyter.widget-state+json": {
    "state": {},
    "version_major": 2,
    "version_minor": 0
   }
  }
 },
 "nbformat": 4,
 "nbformat_minor": 4
}
