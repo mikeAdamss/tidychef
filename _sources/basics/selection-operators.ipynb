{
 "cells": [
  {
   "attachments": {},
   "cell_type": "markdown",
   "metadata": {},
   "source": [
    "# Selection: Operators\n",
    "\n",
    "This section uses the `excel_ref()` method shown previously to give examples of how operators can be used with cell selections."
   ]
  },
  {
   "attachments": {},
   "cell_type": "markdown",
   "metadata": {},
   "source": [
    "## Source Data\n",
    "\n",
    "The data source we're using for these examples is shown below:\n",
    "\n",
    "| <span style=\"color:green\">Note - this particular table has some very verbose headers we don't care about, so we'll be using `bounded=` to remove them from the previews as well as to show just the subset of data we're working with.</span>|\n",
    "|-----------------------------------------|\n",
    "\n",
    "The [full data source can be downloaded here](https://github.com/mikeAdamss/datachef/raw/main/tests/fixtures/xlsx/ons-oic.xlsx). We'll be using th 6th tab named \"Table2a\"."
   ]
  },
  {
   "cell_type": "code",
   "execution_count": 1,
   "metadata": {},
   "outputs": [
    {
     "data": {
      "text/html": [
       "\n",
       "    <html>\n",
       "        \n",
       "    <style>\n",
       "    table, th, td {\n",
       "        border: 1px solid;\n",
       "    }\n",
       "\n",
       "    table {\n",
       "        border-collapse: collapse;\n",
       "    }\n",
       "\n",
       "    td {\n",
       "        align: center;\n",
       "        border: 1px  black solid !important;\n",
       "        color: black !important;\n",
       "    }\n",
       "\n",
       "    th, td {\n",
       "        padding: 5px;\n",
       "    }\n",
       "\n",
       "    </style>\n",
       "    \n",
       "            <table>\n",
       "                \n",
       "            </table>\n",
       "\n",
       "            <body>\n",
       "                <h2>Table 2a</h2>\n",
       "                <table>\n",
       "                    <tr><td style=\"background-color:lightgrey\"></td><td style=\"background-color:lightgrey\">A</td><td style=\"background-color:lightgrey\">B</td><td style=\"background-color:lightgrey\">C</td><td style=\"background-color:lightgrey\">D</td><td style=\"background-color:lightgrey\">E</td><td style=\"background-color:lightgrey\">F</td><td style=\"background-color:lightgrey\">G</td><td style=\"background-color:lightgrey\">H</td></tr>\n",
       "<tr><td style=\"background-color:lightgrey\">4</td><td style=\"background-color:white\">£ million</td><td style=\"background-color:white\"></td><td style=\"background-color:white\"></td><td style=\"background-color:white\"></td><td style=\"background-color:white\"></td><td style=\"background-color:white\"></td><td style=\"background-color:white\"></td><td style=\"background-color:white\"></td></tr>\n",
       "<tr><td style=\"background-color:lightgrey\">5</td><td style=\"background-color:white\">Time period</td><td style=\"background-color:white\">Public new housing</td><td style=\"background-color:white\">Private new housing</td><td style=\"background-color:white\">Total new housing</td><td style=\"background-color:white\">Infrastructure new work</td><td style=\"background-color:white\">Public other new work</td><td style=\"background-color:white\">Private industrial new work</td><td style=\"background-color:white\">Private commercial new work</td></tr>\n",
       "<tr><td style=\"background-color:lightgrey\">6</td><td style=\"background-color:white\">Dataset identifier code</td><td style=\"background-color:white\">MV3W</td><td style=\"background-color:white\">MV3X</td><td style=\"background-color:white\">MVL9</td><td style=\"background-color:white\">MV3Y</td><td style=\"background-color:white\">MV3Z</td><td style=\"background-color:white\">MV42</td><td style=\"background-color:white\">MV43</td></tr>\n",
       "<tr><td style=\"background-color:lightgrey\">7</td><td style=\"background-color:white\">1997</td><td style=\"background-color:white\">2158</td><td style=\"background-color:white\">17588</td><td style=\"background-color:white\">19690</td><td style=\"background-color:white\">14015</td><td style=\"background-color:white\">6010</td><td style=\"background-color:white\">8721</td><td style=\"background-color:white\">25517</td></tr>\n",
       "<tr><td style=\"background-color:lightgrey\">8</td><td style=\"background-color:white\">1998</td><td style=\"background-color:white\">1748</td><td style=\"background-color:white\">17764</td><td style=\"background-color:white\">19448</td><td style=\"background-color:white\">13627</td><td style=\"background-color:white\">6334</td><td style=\"background-color:white\">8885</td><td style=\"background-color:white\">27655</td></tr>\n",
       "<tr><td style=\"background-color:lightgrey\">9</td><td style=\"background-color:white\">1999</td><td style=\"background-color:white\">1515</td><td style=\"background-color:white\">15980</td><td style=\"background-color:white\">17436</td><td style=\"background-color:white\">13247</td><td style=\"background-color:white\">7129</td><td style=\"background-color:white\">9167</td><td style=\"background-color:white\">30963</td></tr>\n",
       "<tr><td style=\"background-color:lightgrey\">10</td><td style=\"background-color:white\">2000</td><td style=\"background-color:white\">1901</td><td style=\"background-color:white\">17853</td><td style=\"background-color:white\">19693</td><td style=\"background-color:white\">12430</td><td style=\"background-color:white\">6753</td><td style=\"background-color:white\">8182</td><td style=\"background-color:white\">31200</td></tr>\n",
       "\n",
       "                </table>\n",
       "            </body>\n",
       "            <br>\n",
       "        </html>\n",
       "    "
      ],
      "text/plain": [
       "<IPython.core.display.HTML object>"
      ]
     },
     "metadata": {},
     "output_type": "display_data"
    }
   ],
   "source": [
    "from typing import List\n",
    "from datachef import acquire, preview, XlsxSelectable\n",
    "\n",
    "tables: List[XlsxSelectable] = acquire.xlsx.http(\"https://github.com/mikeAdamss/datachef/raw/main/tests/fixtures/xlsx/ons-oic.xlsx\")\n",
    "preview(tables[5], bounded=\"A4:H10\")"
   ]
  },
  {
   "attachments": {},
   "cell_type": "markdown",
   "metadata": {},
   "source": [
    "## Subtraction\n",
    "\n",
    "Here is an example of subracting one cell selection from another."
   ]
  },
  {
   "cell_type": "code",
   "execution_count": 2,
   "metadata": {},
   "outputs": [
    {
     "data": {
      "text/html": [
       "\n",
       "    <html>\n",
       "        \n",
       "    <style>\n",
       "    table, th, td {\n",
       "        border: 1px solid;\n",
       "    }\n",
       "\n",
       "    table {\n",
       "        border-collapse: collapse;\n",
       "    }\n",
       "\n",
       "    td {\n",
       "        align: center;\n",
       "        border: 1px  black solid !important;\n",
       "        color: black !important;\n",
       "    }\n",
       "\n",
       "    th, td {\n",
       "        padding: 5px;\n",
       "    }\n",
       "\n",
       "    </style>\n",
       "    \n",
       "            <table>\n",
       "                \n",
       "            <tr>\n",
       "                <td style=\"background-color:cyan\">Unnamed Selection: 0</td>\n",
       "            <tr>\n",
       "        \n",
       "            </table>\n",
       "\n",
       "            <body>\n",
       "                <h2>Table 2a</h2>\n",
       "                <table>\n",
       "                    <tr><td style=\"background-color:lightgrey\"></td><td style=\"background-color:lightgrey\">A</td><td style=\"background-color:lightgrey\">B</td><td style=\"background-color:lightgrey\">C</td><td style=\"background-color:lightgrey\">D</td><td style=\"background-color:lightgrey\">E</td><td style=\"background-color:lightgrey\">F</td><td style=\"background-color:lightgrey\">G</td><td style=\"background-color:lightgrey\">H</td></tr>\n",
       "<tr><td style=\"background-color:lightgrey\">4</td><td style=\"background-color:cyan\">£ million</td><td style=\"background-color:cyan\"></td><td style=\"background-color:cyan\"></td><td style=\"background-color:white\"></td><td style=\"background-color:cyan\"></td><td style=\"background-color:cyan\"></td><td style=\"background-color:cyan\"></td><td style=\"background-color:cyan\"></td></tr>\n",
       "<tr><td style=\"background-color:lightgrey\">5</td><td style=\"background-color:cyan\">Time period</td><td style=\"background-color:cyan\">Public new housing</td><td style=\"background-color:cyan\">Private new housing</td><td style=\"background-color:white\">Total new housing</td><td style=\"background-color:cyan\">Infrastructure new work</td><td style=\"background-color:cyan\">Public other new work</td><td style=\"background-color:cyan\">Private industrial new work</td><td style=\"background-color:cyan\">Private commercial new work</td></tr>\n",
       "<tr><td style=\"background-color:lightgrey\">6</td><td style=\"background-color:cyan\">Dataset identifier code</td><td style=\"background-color:cyan\">MV3W</td><td style=\"background-color:cyan\">MV3X</td><td style=\"background-color:white\">MVL9</td><td style=\"background-color:cyan\">MV3Y</td><td style=\"background-color:cyan\">MV3Z</td><td style=\"background-color:cyan\">MV42</td><td style=\"background-color:cyan\">MV43</td></tr>\n",
       "<tr><td style=\"background-color:lightgrey\">7</td><td style=\"background-color:cyan\">1997</td><td style=\"background-color:cyan\">2158</td><td style=\"background-color:cyan\">17588</td><td style=\"background-color:white\">19690</td><td style=\"background-color:cyan\">14015</td><td style=\"background-color:cyan\">6010</td><td style=\"background-color:cyan\">8721</td><td style=\"background-color:cyan\">25517</td></tr>\n",
       "<tr><td style=\"background-color:lightgrey\">8</td><td style=\"background-color:cyan\">1998</td><td style=\"background-color:cyan\">1748</td><td style=\"background-color:cyan\">17764</td><td style=\"background-color:white\">19448</td><td style=\"background-color:cyan\">13627</td><td style=\"background-color:cyan\">6334</td><td style=\"background-color:cyan\">8885</td><td style=\"background-color:cyan\">27655</td></tr>\n",
       "<tr><td style=\"background-color:lightgrey\">9</td><td style=\"background-color:cyan\">1999</td><td style=\"background-color:cyan\">1515</td><td style=\"background-color:cyan\">15980</td><td style=\"background-color:white\">17436</td><td style=\"background-color:cyan\">13247</td><td style=\"background-color:cyan\">7129</td><td style=\"background-color:cyan\">9167</td><td style=\"background-color:cyan\">30963</td></tr>\n",
       "<tr><td style=\"background-color:lightgrey\">10</td><td style=\"background-color:cyan\">2000</td><td style=\"background-color:cyan\">1901</td><td style=\"background-color:cyan\">17853</td><td style=\"background-color:white\">19693</td><td style=\"background-color:cyan\">12430</td><td style=\"background-color:cyan\">6753</td><td style=\"background-color:cyan\">8182</td><td style=\"background-color:cyan\">31200</td></tr>\n",
       "\n",
       "                </table>\n",
       "            </body>\n",
       "            <br>\n",
       "        </html>\n",
       "    "
      ],
      "text/plain": [
       "<IPython.core.display.HTML object>"
      ]
     },
     "metadata": {},
     "output_type": "display_data"
    }
   ],
   "source": [
    "from typing import List\n",
    "from datachef import acquire, preview, XlsxSelectable\n",
    "\n",
    "tables: List[XlsxSelectable] = acquire.xlsx.http(\"https://github.com/mikeAdamss/datachef/raw/main/tests/fixtures/xlsx/ons-oic.xlsx\")\n",
    "table = tables[5]\n",
    "\n",
    "# Lets make two selection\n",
    "# First - lets select all the cells we're looking at\n",
    "all_viewed_cells = table.excel_ref(\"A4:H10\")\n",
    "\n",
    "# Secondly lets just select the contents of column D\n",
    "column_d_cells = table.excel_ref('D')\n",
    "\n",
    "# Note lets subtract one from the other and preview it\n",
    "everying_bar_d = all_viewed_cells - column_d_cells\n",
    "preview(everying_bar_d, bounded=\"A4:H10\")"
   ]
  },
  {
   "attachments": {},
   "cell_type": "markdown",
   "metadata": {},
   "source": [
    "Now for a more practical example, lets select the whole of the row 4 then subtract the cell containing the text \"Dataset identifier code\".\n",
    "\n",
    "Notice how we can do this quite succinctly."
   ]
  },
  {
   "cell_type": "code",
   "execution_count": 6,
   "metadata": {},
   "outputs": [
    {
     "data": {
      "text/html": [
       "\n",
       "    <html>\n",
       "        \n",
       "    <style>\n",
       "    table, th, td {\n",
       "        border: 1px solid;\n",
       "    }\n",
       "\n",
       "    table {\n",
       "        border-collapse: collapse;\n",
       "    }\n",
       "\n",
       "    td {\n",
       "        align: center;\n",
       "        border: 1px  black solid !important;\n",
       "        color: black !important;\n",
       "    }\n",
       "\n",
       "    th, td {\n",
       "        padding: 5px;\n",
       "    }\n",
       "\n",
       "    </style>\n",
       "    \n",
       "            <table>\n",
       "                \n",
       "            <tr>\n",
       "                <td style=\"background-color:cyan\">Data identifier codes</td>\n",
       "            <tr>\n",
       "        \n",
       "            </table>\n",
       "\n",
       "            <body>\n",
       "                <h2>Table 2a</h2>\n",
       "                <table>\n",
       "                    <tr><td style=\"background-color:lightgrey\"></td><td style=\"background-color:lightgrey\">A</td><td style=\"background-color:lightgrey\">B</td><td style=\"background-color:lightgrey\">C</td><td style=\"background-color:lightgrey\">D</td><td style=\"background-color:lightgrey\">E</td><td style=\"background-color:lightgrey\">F</td><td style=\"background-color:lightgrey\">G</td><td style=\"background-color:lightgrey\">H</td></tr>\n",
       "<tr><td style=\"background-color:lightgrey\">4</td><td style=\"background-color:white\">£ million</td><td style=\"background-color:white\"></td><td style=\"background-color:white\"></td><td style=\"background-color:white\"></td><td style=\"background-color:white\"></td><td style=\"background-color:white\"></td><td style=\"background-color:white\"></td><td style=\"background-color:white\"></td></tr>\n",
       "<tr><td style=\"background-color:lightgrey\">5</td><td style=\"background-color:white\">Time period</td><td style=\"background-color:white\">Public new housing</td><td style=\"background-color:white\">Private new housing</td><td style=\"background-color:white\">Total new housing</td><td style=\"background-color:white\">Infrastructure new work</td><td style=\"background-color:white\">Public other new work</td><td style=\"background-color:white\">Private industrial new work</td><td style=\"background-color:white\">Private commercial new work</td></tr>\n",
       "<tr><td style=\"background-color:lightgrey\">6</td><td style=\"background-color:white\">Dataset identifier code</td><td style=\"background-color:cyan\">MV3W</td><td style=\"background-color:cyan\">MV3X</td><td style=\"background-color:cyan\">MVL9</td><td style=\"background-color:cyan\">MV3Y</td><td style=\"background-color:cyan\">MV3Z</td><td style=\"background-color:cyan\">MV42</td><td style=\"background-color:cyan\">MV43</td></tr>\n",
       "<tr><td style=\"background-color:lightgrey\">7</td><td style=\"background-color:white\">1997</td><td style=\"background-color:white\">2158</td><td style=\"background-color:white\">17588</td><td style=\"background-color:white\">19690</td><td style=\"background-color:white\">14015</td><td style=\"background-color:white\">6010</td><td style=\"background-color:white\">8721</td><td style=\"background-color:white\">25517</td></tr>\n",
       "<tr><td style=\"background-color:lightgrey\">8</td><td style=\"background-color:white\">1998</td><td style=\"background-color:white\">1748</td><td style=\"background-color:white\">17764</td><td style=\"background-color:white\">19448</td><td style=\"background-color:white\">13627</td><td style=\"background-color:white\">6334</td><td style=\"background-color:white\">8885</td><td style=\"background-color:white\">27655</td></tr>\n",
       "<tr><td style=\"background-color:lightgrey\">9</td><td style=\"background-color:white\">1999</td><td style=\"background-color:white\">1515</td><td style=\"background-color:white\">15980</td><td style=\"background-color:white\">17436</td><td style=\"background-color:white\">13247</td><td style=\"background-color:white\">7129</td><td style=\"background-color:white\">9167</td><td style=\"background-color:white\">30963</td></tr>\n",
       "<tr><td style=\"background-color:lightgrey\">10</td><td style=\"background-color:white\">2000</td><td style=\"background-color:white\">1901</td><td style=\"background-color:white\">17853</td><td style=\"background-color:white\">19693</td><td style=\"background-color:white\">12430</td><td style=\"background-color:white\">6753</td><td style=\"background-color:white\">8182</td><td style=\"background-color:white\">31200</td></tr>\n",
       "\n",
       "                </table>\n",
       "            </body>\n",
       "            <br>\n",
       "        </html>\n",
       "    "
      ],
      "text/plain": [
       "<IPython.core.display.HTML object>"
      ]
     },
     "metadata": {},
     "output_type": "display_data"
    }
   ],
   "source": [
    "from typing import List\n",
    "from datachef import acquire, preview, XlsxSelectable\n",
    "\n",
    "tables: List[XlsxSelectable] = acquire.xlsx.http(\"https://github.com/mikeAdamss/datachef/raw/main/tests/fixtures/xlsx/ons-oic.xlsx\")\n",
    "table = tables[5]\n",
    "\n",
    "selection = table.excel_ref(\"6\") - table.excel_ref('A6')\n",
    "\n",
    "preview(selection.label_as('Data identifier codes'), bounded=\"A4:H10\")"
   ]
  },
  {
   "attachments": {},
   "cell_type": "markdown",
   "metadata": {},
   "source": [
    "## Union\n",
    "\n",
    "Possibly contrary to expectations the correct operator for combining cell selections is via `Union` not `Addition`.\n",
    "    \n",
    "This is because any given cell is a unique entity and should never appear more than once in any given selection.\n",
    "\n",
    "Envision it this way:\n",
    "\n",
    "If we implemented an addition `+` operator then...\n",
    "\n",
    "```\n",
    "[A1, B1, C1] + [B1, C1, D1] = [A1, B1, B1, C1, C1, D1]\n",
    "```\n",
    "\n",
    "And this is obviously not the behviour that we want. Instead we use the union `|` operator. To create a combined object of _unique_ cells, i.e:\n",
    "\n",
    "```\n",
    "[A1, B1, C1] + [B1, C1, D1] = [A1, B1, C1, D1]\n",
    "```\n",
    "\n",
    "Now, let's see what this looks like in practice.."
   ]
  },
  {
   "cell_type": "code",
   "execution_count": 4,
   "metadata": {},
   "outputs": [
    {
     "data": {
      "text/html": [
       "\n",
       "    <html>\n",
       "        \n",
       "    <style>\n",
       "    table, th, td {\n",
       "        border: 1px solid;\n",
       "    }\n",
       "\n",
       "    table {\n",
       "        border-collapse: collapse;\n",
       "    }\n",
       "\n",
       "    td {\n",
       "        align: center;\n",
       "        border: 1px  black solid !important;\n",
       "        color: black !important;\n",
       "    }\n",
       "\n",
       "    th, td {\n",
       "        padding: 5px;\n",
       "    }\n",
       "\n",
       "    </style>\n",
       "    \n",
       "            <table>\n",
       "                \n",
       "            <tr>\n",
       "                <td style=\"background-color:cyan\">C, D & E</td>\n",
       "            <tr>\n",
       "        \n",
       "            </table>\n",
       "\n",
       "            <body>\n",
       "                <h2>Table 2a</h2>\n",
       "                <table>\n",
       "                    <tr><td style=\"background-color:lightgrey\"></td><td style=\"background-color:lightgrey\">A</td><td style=\"background-color:lightgrey\">B</td><td style=\"background-color:lightgrey\">C</td><td style=\"background-color:lightgrey\">D</td><td style=\"background-color:lightgrey\">E</td><td style=\"background-color:lightgrey\">F</td><td style=\"background-color:lightgrey\">G</td><td style=\"background-color:lightgrey\">H</td></tr>\n",
       "<tr><td style=\"background-color:lightgrey\">4</td><td style=\"background-color:white\">£ million</td><td style=\"background-color:white\"></td><td style=\"background-color:cyan\"></td><td style=\"background-color:cyan\"></td><td style=\"background-color:cyan\"></td><td style=\"background-color:white\"></td><td style=\"background-color:white\"></td><td style=\"background-color:white\"></td></tr>\n",
       "<tr><td style=\"background-color:lightgrey\">5</td><td style=\"background-color:white\">Time period</td><td style=\"background-color:white\">Public new housing</td><td style=\"background-color:cyan\">Private new housing</td><td style=\"background-color:cyan\">Total new housing</td><td style=\"background-color:cyan\">Infrastructure new work</td><td style=\"background-color:white\">Public other new work</td><td style=\"background-color:white\">Private industrial new work</td><td style=\"background-color:white\">Private commercial new work</td></tr>\n",
       "<tr><td style=\"background-color:lightgrey\">6</td><td style=\"background-color:white\">Dataset identifier code</td><td style=\"background-color:white\">MV3W</td><td style=\"background-color:cyan\">MV3X</td><td style=\"background-color:cyan\">MVL9</td><td style=\"background-color:cyan\">MV3Y</td><td style=\"background-color:white\">MV3Z</td><td style=\"background-color:white\">MV42</td><td style=\"background-color:white\">MV43</td></tr>\n",
       "<tr><td style=\"background-color:lightgrey\">7</td><td style=\"background-color:white\">1997</td><td style=\"background-color:white\">2158</td><td style=\"background-color:cyan\">17588</td><td style=\"background-color:cyan\">19690</td><td style=\"background-color:cyan\">14015</td><td style=\"background-color:white\">6010</td><td style=\"background-color:white\">8721</td><td style=\"background-color:white\">25517</td></tr>\n",
       "<tr><td style=\"background-color:lightgrey\">8</td><td style=\"background-color:white\">1998</td><td style=\"background-color:white\">1748</td><td style=\"background-color:cyan\">17764</td><td style=\"background-color:cyan\">19448</td><td style=\"background-color:cyan\">13627</td><td style=\"background-color:white\">6334</td><td style=\"background-color:white\">8885</td><td style=\"background-color:white\">27655</td></tr>\n",
       "<tr><td style=\"background-color:lightgrey\">9</td><td style=\"background-color:white\">1999</td><td style=\"background-color:white\">1515</td><td style=\"background-color:cyan\">15980</td><td style=\"background-color:cyan\">17436</td><td style=\"background-color:cyan\">13247</td><td style=\"background-color:white\">7129</td><td style=\"background-color:white\">9167</td><td style=\"background-color:white\">30963</td></tr>\n",
       "<tr><td style=\"background-color:lightgrey\">10</td><td style=\"background-color:white\">2000</td><td style=\"background-color:white\">1901</td><td style=\"background-color:cyan\">17853</td><td style=\"background-color:cyan\">19693</td><td style=\"background-color:cyan\">12430</td><td style=\"background-color:white\">6753</td><td style=\"background-color:white\">8182</td><td style=\"background-color:white\">31200</td></tr>\n",
       "\n",
       "                </table>\n",
       "            </body>\n",
       "            <br>\n",
       "        </html>\n",
       "    "
      ],
      "text/plain": [
       "<IPython.core.display.HTML object>"
      ]
     },
     "metadata": {},
     "output_type": "display_data"
    },
    {
     "name": "stdout",
     "output_type": "stream",
     "text": [
      "Selection has length: 21\n"
     ]
    }
   ],
   "source": [
    "from typing import List\n",
    "from datachef import acquire, preview, XlsxSelectable\n",
    "\n",
    "tables: List[XlsxSelectable] = acquire.xlsx.http(\"https://github.com/mikeAdamss/datachef/raw/main/tests/fixtures/xlsx/ons-oic.xlsx\")\n",
    "table = tables[5]\n",
    "\n",
    "selection = table.excel_ref(\"C4:C10\") | table.excel_ref('D4:D10') | table.excel_ref('E4:E10')\n",
    "\n",
    "preview(selection.label_as('C, D & E'), bounded=\"A4:H10\")\n",
    "\n",
    "# Lets also print out the length of the selection\n",
    "print(f'Selection has length: {len(selection)}')"
   ]
  },
  {
   "attachments": {},
   "cell_type": "markdown",
   "metadata": {},
   "source": [
    "but because its a union we can use overlapping selections without introducing duplicate cells. "
   ]
  },
  {
   "cell_type": "code",
   "execution_count": 5,
   "metadata": {},
   "outputs": [
    {
     "data": {
      "text/html": [
       "\n",
       "    <html>\n",
       "        \n",
       "    <style>\n",
       "    table, th, td {\n",
       "        border: 1px solid;\n",
       "    }\n",
       "\n",
       "    table {\n",
       "        border-collapse: collapse;\n",
       "    }\n",
       "\n",
       "    td {\n",
       "        align: center;\n",
       "        border: 1px  black solid !important;\n",
       "        color: black !important;\n",
       "    }\n",
       "\n",
       "    th, td {\n",
       "        padding: 5px;\n",
       "    }\n",
       "\n",
       "    </style>\n",
       "    \n",
       "            <table>\n",
       "                \n",
       "            <tr>\n",
       "                <td style=\"background-color:cyan\">C, D & E</td>\n",
       "            <tr>\n",
       "        \n",
       "            </table>\n",
       "\n",
       "            <body>\n",
       "                <h2>Table 2a</h2>\n",
       "                <table>\n",
       "                    <tr><td style=\"background-color:lightgrey\"></td><td style=\"background-color:lightgrey\">A</td><td style=\"background-color:lightgrey\">B</td><td style=\"background-color:lightgrey\">C</td><td style=\"background-color:lightgrey\">D</td><td style=\"background-color:lightgrey\">E</td><td style=\"background-color:lightgrey\">F</td><td style=\"background-color:lightgrey\">G</td><td style=\"background-color:lightgrey\">H</td></tr>\n",
       "<tr><td style=\"background-color:lightgrey\">4</td><td style=\"background-color:white\">£ million</td><td style=\"background-color:white\"></td><td style=\"background-color:cyan\"></td><td style=\"background-color:cyan\"></td><td style=\"background-color:cyan\"></td><td style=\"background-color:white\"></td><td style=\"background-color:white\"></td><td style=\"background-color:white\"></td></tr>\n",
       "<tr><td style=\"background-color:lightgrey\">5</td><td style=\"background-color:white\">Time period</td><td style=\"background-color:white\">Public new housing</td><td style=\"background-color:cyan\">Private new housing</td><td style=\"background-color:cyan\">Total new housing</td><td style=\"background-color:cyan\">Infrastructure new work</td><td style=\"background-color:white\">Public other new work</td><td style=\"background-color:white\">Private industrial new work</td><td style=\"background-color:white\">Private commercial new work</td></tr>\n",
       "<tr><td style=\"background-color:lightgrey\">6</td><td style=\"background-color:white\">Dataset identifier code</td><td style=\"background-color:white\">MV3W</td><td style=\"background-color:cyan\">MV3X</td><td style=\"background-color:cyan\">MVL9</td><td style=\"background-color:cyan\">MV3Y</td><td style=\"background-color:white\">MV3Z</td><td style=\"background-color:white\">MV42</td><td style=\"background-color:white\">MV43</td></tr>\n",
       "<tr><td style=\"background-color:lightgrey\">7</td><td style=\"background-color:white\">1997</td><td style=\"background-color:white\">2158</td><td style=\"background-color:cyan\">17588</td><td style=\"background-color:cyan\">19690</td><td style=\"background-color:cyan\">14015</td><td style=\"background-color:white\">6010</td><td style=\"background-color:white\">8721</td><td style=\"background-color:white\">25517</td></tr>\n",
       "<tr><td style=\"background-color:lightgrey\">8</td><td style=\"background-color:white\">1998</td><td style=\"background-color:white\">1748</td><td style=\"background-color:cyan\">17764</td><td style=\"background-color:cyan\">19448</td><td style=\"background-color:cyan\">13627</td><td style=\"background-color:white\">6334</td><td style=\"background-color:white\">8885</td><td style=\"background-color:white\">27655</td></tr>\n",
       "<tr><td style=\"background-color:lightgrey\">9</td><td style=\"background-color:white\">1999</td><td style=\"background-color:white\">1515</td><td style=\"background-color:cyan\">15980</td><td style=\"background-color:cyan\">17436</td><td style=\"background-color:cyan\">13247</td><td style=\"background-color:white\">7129</td><td style=\"background-color:white\">9167</td><td style=\"background-color:white\">30963</td></tr>\n",
       "<tr><td style=\"background-color:lightgrey\">10</td><td style=\"background-color:white\">2000</td><td style=\"background-color:white\">1901</td><td style=\"background-color:cyan\">17853</td><td style=\"background-color:cyan\">19693</td><td style=\"background-color:cyan\">12430</td><td style=\"background-color:white\">6753</td><td style=\"background-color:white\">8182</td><td style=\"background-color:white\">31200</td></tr>\n",
       "\n",
       "                </table>\n",
       "            </body>\n",
       "            <br>\n",
       "        </html>\n",
       "    "
      ],
      "text/plain": [
       "<IPython.core.display.HTML object>"
      ]
     },
     "metadata": {},
     "output_type": "display_data"
    },
    {
     "name": "stdout",
     "output_type": "stream",
     "text": [
      "Selection has length: 21\n"
     ]
    }
   ],
   "source": [
    "from typing import List\n",
    "from datachef import acquire, preview, XlsxSelectable\n",
    "\n",
    "tables: List[XlsxSelectable] = acquire.xlsx.http(\"https://github.com/mikeAdamss/datachef/raw/main/tests/fixtures/xlsx/ons-oic.xlsx\")\n",
    "table = tables[5]\n",
    "\n",
    "selection = table.excel_ref(\"C4:D10\") | table.excel_ref('D4:E10')\n",
    "\n",
    "preview(selection.label_as('C, D & E'), bounded=\"A4:H10\")\n",
    "\n",
    "# Lets also print out the length of the selection\n",
    "print(f'Selection has length: {len(selection)}')"
   ]
  },
  {
   "attachments": {},
   "cell_type": "markdown",
   "metadata": {},
   "source": [
    "Note **the length** (number of selected cells in this case) is the same as the previous example even though we presented datachef with overlapping selections."
   ]
  }
 ],
 "metadata": {
  "kernelspec": {
   "display_name": "datachef-hNSMaw3h-py3.9",
   "language": "python",
   "name": "python3"
  },
  "language_info": {
   "codemirror_mode": {
    "name": "ipython",
    "version": 3
   },
   "file_extension": ".py",
   "mimetype": "text/x-python",
   "name": "python",
   "nbconvert_exporter": "python",
   "pygments_lexer": "ipython3",
   "version": "3.9.7"
  },
  "orig_nbformat": 4
 },
 "nbformat": 4,
 "nbformat_minor": 2
}
