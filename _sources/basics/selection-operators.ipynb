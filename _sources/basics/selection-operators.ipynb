{
 "cells": [
  {
   "cell_type": "markdown",
   "metadata": {},
   "source": [
    "# Selection: Operators\n",
    "\n",
    "This section uses the `excel_ref()` method shown previously to give examples of how operators can be used with cell selections.\n"
   ]
  },
  {
   "cell_type": "markdown",
   "metadata": {},
   "source": [
    "## Source Data\n",
    "\n",
    "The data source we're using for these examples is shown below:\n",
    "\n",
    "| <span style=\"color:green\">Note - this particular table has some very verbose headers we don't care about, so we'll be using `bounded=` to remove them from the previews as well as to show just the subset of data we're working with.</span>|\n",
    "|-----------------------------------------|\n",
    "\n",
    "The [full data source can be downloaded here](https://github.com/mikeAdamss/tidychef/raw/main/tests/fixtures/xlsx/ons-oic.xlsx). We'll be using th 6th tab named \"Table2a\"."
   ]
  },
  {
   "cell_type": "code",
   "execution_count": null,
   "metadata": {},
   "outputs": [],
   "source": [
    "from tidychef import acquire, preview\n",
    "from tidychef.selection import XlsxSelectable\n",
    "\n",
    "table: XlsxSelectable = acquire.xlsx.http(\"https://github.com/mikeAdamss/tidychef/raw/main/tests/fixtures/xlsx/ons-oic.xlsx\", tables=\"Table 2a\")\n",
    "preview(table, bounded=\"A4:H10\")"
   ]
  },
  {
   "cell_type": "markdown",
   "metadata": {},
   "source": [
    "## Subtraction\n",
    "\n",
    "Here is an example of subracting one cell selection from another."
   ]
  },
  {
   "cell_type": "code",
   "execution_count": null,
   "metadata": {},
   "outputs": [],
   "source": [
    "from tidychef import acquire, preview\n",
    "from tidychef.selection import XlsxSelectable\n",
    "\n",
    "table: XlsxSelectable = acquire.xlsx.http(\"https://github.com/mikeAdamss/tidychef/raw/main/tests/fixtures/xlsx/ons-oic.xlsx\", tables=\"Table 2a\")\n",
    "\n",
    "# Lets make two selection\n",
    "# First - lets select all the cells we're looking at\n",
    "all_viewed_cells = table.excel_ref(\"A4:H10\")\n",
    "\n",
    "# Secondly lets just select the contents of column D\n",
    "column_d_cells = table.excel_ref('D')\n",
    "\n",
    "# Note lets subtract one from the other and preview it\n",
    "everying_bar_d = all_viewed_cells - column_d_cells\n",
    "preview(everying_bar_d, bounded=\"A4:H10\")"
   ]
  },
  {
   "cell_type": "markdown",
   "metadata": {},
   "source": [
    "Now for a more practical example, lets select the whole of the row 4 then subtract the cell containing the text \"Dataset identifier code\".\n",
    "\n",
    "Notice how we can do this quite succinctly."
   ]
  },
  {
   "cell_type": "code",
   "execution_count": null,
   "metadata": {},
   "outputs": [],
   "source": [
    "from tidychef import acquire, preview\n",
    "from tidychef.selection import XlsxSelectable\n",
    "\n",
    "table: XlsxSelectable = acquire.xlsx.http(\"https://github.com/mikeAdamss/tidychef/raw/main/tests/fixtures/xlsx/ons-oic.xlsx\", tables=\"Table 2a\")\n",
    "\n",
    "selection = table.excel_ref(\"6\") - table.excel_ref('A6')\n",
    "\n",
    "preview(selection.label_as('Data identifier codes'), bounded=\"A4:H10\")"
   ]
  },
  {
   "cell_type": "markdown",
   "metadata": {},
   "source": [
    "## Union\n",
    "\n",
    "Possibly contrary to expectations the correct operator for combining cell selections is via `Union` not `Addition`.\n",
    "    \n",
    "This is because any given cell is a unique entity and should never appear more than once in any given selection.\n",
    "\n",
    "Envision it this way:\n",
    "\n",
    "If we implemented an addition `+` operator then...\n",
    "\n",
    "```\n",
    "[A1, B1, C1] + [B1, C1, D1] = [A1, B1, B1, C1, C1, D1]\n",
    "```\n",
    "\n",
    "And this is obviously not the behviour that we want. Instead we use the union `|` operator. To create a combined object of _unique_ cells, i.e:\n",
    "\n",
    "```\n",
    "[A1, B1, C1] | [B1, C1, D1] = [A1, B1, C1, D1]\n",
    "```\n",
    "\n",
    "Now, let's see what this looks like in practice.."
   ]
  },
  {
   "cell_type": "code",
   "execution_count": null,
   "metadata": {},
   "outputs": [],
   "source": [
    "from tidychef import acquire, preview\n",
    "from tidychef.selection import XlsxSelectable\n",
    "\n",
    "table: XlsxSelectable = acquire.xlsx.http(\"https://github.com/mikeAdamss/tidychef/raw/main/tests/fixtures/xlsx/ons-oic.xlsx\", tables=\"Table 2a\")\n",
    "\n",
    "selection = table.excel_ref(\"C4:C10\") | table.excel_ref('D4:D10') | table.excel_ref('E4:E10')\n",
    "\n",
    "preview(selection.label_as('C, D & E'), bounded=\"A4:H10\")\n",
    "\n",
    "# Lets also print out the length of the selection\n",
    "print(f'Selection has length: {len(selection)}')"
   ]
  },
  {
   "cell_type": "markdown",
   "metadata": {},
   "source": [
    "but because its a union we can use overlapping selections without introducing duplicate cells. "
   ]
  },
  {
   "cell_type": "code",
   "execution_count": null,
   "metadata": {},
   "outputs": [],
   "source": [
    "from tidychef import acquire, preview\n",
    "from tidychef.selection import XlsxSelectable\n",
    "\n",
    "table: XlsxSelectable = acquire.xlsx.http(\"https://github.com/mikeAdamss/tidychef/raw/main/tests/fixtures/xlsx/ons-oic.xlsx\", tables=\"Table 2a\")\n",
    "\n",
    "selection = table.excel_ref(\"C4:D10\") | table.excel_ref('D4:E10')\n",
    "\n",
    "preview(selection.label_as('C, D & E'), bounded=\"A4:H10\")\n",
    "\n",
    "# Lets also print out the length of the selection\n",
    "print(f'Selection has length: {len(selection)}')"
   ]
  },
  {
   "cell_type": "markdown",
   "metadata": {},
   "source": [
    "Note **the length** (number of selected cells in this case) is the same as the previous example even though we presented tidychef with overlapping selections."
   ]
  }
 ],
 "metadata": {
  "kernelspec": {
   "display_name": "Python 3 (ipykernel)",
   "language": "python",
   "name": "python3"
  },
  "language_info": {
   "codemirror_mode": {
    "name": "ipython",
    "version": 3
   },
   "file_extension": ".py",
   "mimetype": "text/x-python",
   "name": "python",
   "nbconvert_exporter": "python",
   "pygments_lexer": "ipython3",
   "version": "3.12.11"
  }
 },
 "nbformat": 4,
 "nbformat_minor": 4
}
